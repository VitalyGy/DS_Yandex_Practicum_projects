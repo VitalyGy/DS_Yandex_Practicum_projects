{
 "cells": [
  {
   "cell_type": "markdown",
   "id": "c8233f12-6649-4d7f-8427-c8bd76f7c4e0",
   "metadata": {},
   "source": [
    "# Проект для «Викишоп»"
   ]
  },
  {
   "cell_type": "markdown",
   "id": "19b1fe07-fdcb-40f1-b833-dcaab43b853e",
   "metadata": {},
   "source": [
    "Введение: Интернет-магазин «Викишоп» запускает новый сервис. Теперь пользователи могут редактировать и дополнять описания товаров, как в вики-сообществах. То есть клиенты предлагают свои правки и комментируют изменения других. Магазину нужен инструмент, который будет искать токсичные комментарии и отправлять их на модерацию. \n",
    "\n",
    "Цель проекта: обучить модель классифицировать комментарии на позитивные и негативные. \n",
    "\n",
    "Условия: В вашем распоряжении набор данных с разметкой о токсичности правок. Постройте модель со значением метрики качества *F1* не меньше 0.75.\n",
    "\n",
    "План работы:\n",
    "1. Подготова данных.\n",
    "2. Обучение моделей.\n",
    "4. Общий вывод.\n",
    "\n",
    "Описание данных: Данные находятся в файле /datasets/toxic_comments.csv. Скачать датасет. \n",
    "Столбец text в нём содержит текст комментария, а toxic — целевой признак.вод."
   ]
  },
  {
   "cell_type": "code",
   "execution_count": 1,
   "id": "46d968d0-1f20-42d9-9186-b956aef9e151",
   "metadata": {
    "scrolled": true
   },
   "outputs": [],
   "source": [
    "#import sys\n",
    "#!{sys.executable} -m pip install spacy\n",
    "#!{sys.executable} -m spacy download en"
   ]
  },
  {
   "cell_type": "code",
   "execution_count": 6,
   "id": "4eae7d80-df59-4855-9fc9-32f48f3351d6",
   "metadata": {},
   "outputs": [
    {
     "name": "stderr",
     "output_type": "stream",
     "text": [
      "[nltk_data] Downloading package stopwords to\n",
      "[nltk_data]     C:\\Users\\Виталик\\AppData\\Roaming\\nltk_data...\n",
      "[nltk_data]   Package stopwords is already up-to-date!\n",
      "[nltk_data] Downloading package punkt to\n",
      "[nltk_data]     C:\\Users\\Виталик\\AppData\\Roaming\\nltk_data...\n",
      "[nltk_data]   Package punkt is already up-to-date!\n"
     ]
    }
   ],
   "source": [
    "import pandas as pd\n",
    "import numpy as np\n",
    "import os\n",
    "import warnings\n",
    "warnings.filterwarnings(\"ignore\", category=FutureWarning)\n",
    "warnings.filterwarnings(\"ignore\")\n",
    "\n",
    "import nltk\n",
    "nltk.download('stopwords')\n",
    "nltk.download('punkt')\n",
    "from nltk.corpus import stopwords\n",
    "from nltk.tokenize import word_tokenize\n",
    "import re\n",
    "import tqdm\n",
    "from sklearn.model_selection import train_test_split\n",
    "import spacy\n",
    "\n",
    "from nltk.stem.lancaster import LancasterStemmer\n",
    "from nltk.stem import WordNetLemmatizer\n",
    "from nltk.stem.porter import PorterStemmer\n",
    "from sklearn.feature_extraction.text import CountVectorizer\n",
    "from sklearn.feature_extraction.text import TfidfVectorizer\n",
    "\n",
    "from sklearn.metrics import f1_score\n",
    "from sklearn.linear_model import LogisticRegression\n",
    "from sklearn.svm import LinearSVC"
   ]
  },
  {
   "cell_type": "code",
   "execution_count": 7,
   "id": "f8cad529-6a4b-4b9b-937e-06373c6c5b70",
   "metadata": {},
   "outputs": [],
   "source": [
    "RANDOM_STATE = 32"
   ]
  },
  {
   "cell_type": "markdown",
   "id": "cbc37088-0c74-4e78-90d1-55e934d78607",
   "metadata": {},
   "source": [
    "## Подготовка"
   ]
  },
  {
   "cell_type": "code",
   "execution_count": 8,
   "id": "1ae04340-3981-4479-b260-084c5e9dd57f",
   "metadata": {},
   "outputs": [],
   "source": [
    "pth1 = '/datasets/toxic_comments.csv'\n",
    "pth2 = 'toxic_comments.csv'\n",
    "if os.path.exists(pth1):\n",
    "    data = pd.read_csv(pth1, index_col=[0], parse_dates=[0])\n",
    "elif os.path.exists(pth2):\n",
    "    data = pd.read_csv(pth2, index_col=[0], parse_dates=[0])\n",
    "else:\n",
    "    print('Something is wrong')"
   ]
  },
  {
   "cell_type": "code",
   "execution_count": 9,
   "id": "7ed0a542-17e0-4761-a53e-161ecc3001c5",
   "metadata": {},
   "outputs": [
    {
     "data": {
      "text/html": [
       "<div>\n",
       "<style scoped>\n",
       "    .dataframe tbody tr th:only-of-type {\n",
       "        vertical-align: middle;\n",
       "    }\n",
       "\n",
       "    .dataframe tbody tr th {\n",
       "        vertical-align: top;\n",
       "    }\n",
       "\n",
       "    .dataframe thead th {\n",
       "        text-align: right;\n",
       "    }\n",
       "</style>\n",
       "<table border=\"1\" class=\"dataframe\">\n",
       "  <thead>\n",
       "    <tr style=\"text-align: right;\">\n",
       "      <th></th>\n",
       "      <th>text</th>\n",
       "      <th>toxic</th>\n",
       "    </tr>\n",
       "  </thead>\n",
       "  <tbody>\n",
       "    <tr>\n",
       "      <th>0</th>\n",
       "      <td>Explanation\\nWhy the edits made under my usern...</td>\n",
       "      <td>0</td>\n",
       "    </tr>\n",
       "    <tr>\n",
       "      <th>1</th>\n",
       "      <td>D'aww! He matches this background colour I'm s...</td>\n",
       "      <td>0</td>\n",
       "    </tr>\n",
       "    <tr>\n",
       "      <th>2</th>\n",
       "      <td>Hey man, I'm really not trying to edit war. It...</td>\n",
       "      <td>0</td>\n",
       "    </tr>\n",
       "    <tr>\n",
       "      <th>3</th>\n",
       "      <td>\"\\nMore\\nI can't make any real suggestions on ...</td>\n",
       "      <td>0</td>\n",
       "    </tr>\n",
       "    <tr>\n",
       "      <th>4</th>\n",
       "      <td>You, sir, are my hero. Any chance you remember...</td>\n",
       "      <td>0</td>\n",
       "    </tr>\n",
       "  </tbody>\n",
       "</table>\n",
       "</div>"
      ],
      "text/plain": [
       "                                                text  toxic\n",
       "0  Explanation\\nWhy the edits made under my usern...      0\n",
       "1  D'aww! He matches this background colour I'm s...      0\n",
       "2  Hey man, I'm really not trying to edit war. It...      0\n",
       "3  \"\\nMore\\nI can't make any real suggestions on ...      0\n",
       "4  You, sir, are my hero. Any chance you remember...      0"
      ]
     },
     "execution_count": 9,
     "metadata": {},
     "output_type": "execute_result"
    }
   ],
   "source": [
    "data.head()"
   ]
  },
  {
   "cell_type": "code",
   "execution_count": 10,
   "id": "30bd8476-a443-4638-b0ba-d099e00a38cf",
   "metadata": {},
   "outputs": [
    {
     "name": "stdout",
     "output_type": "stream",
     "text": [
      "<class 'pandas.core.frame.DataFrame'>\n",
      "Int64Index: 159292 entries, 0 to 159450\n",
      "Data columns (total 2 columns):\n",
      " #   Column  Non-Null Count   Dtype \n",
      "---  ------  --------------   ----- \n",
      " 0   text    159292 non-null  object\n",
      " 1   toxic   159292 non-null  int64 \n",
      "dtypes: int64(1), object(1)\n",
      "memory usage: 3.6+ MB\n"
     ]
    }
   ],
   "source": [
    "data.info()"
   ]
  },
  {
   "cell_type": "code",
   "execution_count": 11,
   "id": "7244e4cf-7ff4-45f4-a285-dd0c7fcbacce",
   "metadata": {},
   "outputs": [
    {
     "data": {
      "text/plain": [
       "(159292, 2)"
      ]
     },
     "execution_count": 11,
     "metadata": {},
     "output_type": "execute_result"
    }
   ],
   "source": [
    "data.shape"
   ]
  },
  {
   "cell_type": "code",
   "execution_count": 12,
   "id": "c05c20bc-c2dc-4bf0-9bcf-cf8419d48f85",
   "metadata": {},
   "outputs": [
    {
     "data": {
      "text/plain": [
       "\"Explanation\\nWhy the edits made under my username Hardcore Metallica Fan were reverted? They weren't vandalisms, just closure on some GAs after I voted at New York Dolls FAC. And please don't remove the template from the talk page since I'm retired now.89.205.38.27\""
      ]
     },
     "execution_count": 12,
     "metadata": {},
     "output_type": "execute_result"
    }
   ],
   "source": [
    "data['text'][0]"
   ]
  },
  {
   "cell_type": "code",
   "execution_count": 13,
   "id": "aa7df9e0-08ca-40c7-a322-eb5cda430389",
   "metadata": {},
   "outputs": [
    {
     "data": {
      "text/plain": [
       "array([0, 1], dtype=int64)"
      ]
     },
     "execution_count": 13,
     "metadata": {},
     "output_type": "execute_result"
    }
   ],
   "source": [
    "np.unique(data['toxic'])"
   ]
  },
  {
   "cell_type": "code",
   "execution_count": 14,
   "id": "cbbb9fa0-801e-43b2-a321-49c5f19b0c6b",
   "metadata": {},
   "outputs": [
    {
     "data": {
      "image/png": "[encoded data removed]",
      "text/plain": [
       "<Figure size 640x480 with 1 Axes>"
      ]
     },
     "metadata": {},
     "output_type": "display_data"
    }
   ],
   "source": [
    "# Анализ целевого признака\n",
    "data['toxic'].hist(); "
   ]
  },
  {
   "cell_type": "code",
   "execution_count": 15,
   "id": "ea895000-02ad-4314-9c84-a45471b7a06c",
   "metadata": {},
   "outputs": [],
   "source": [
    "# Функция для предобработки текста.\n",
    "# 1. Нижней регистр\n",
    "# 2. Удаляем символы кроме a-z A-Z\n",
    "# 3. Удаляем стоп-слова\n",
    "def preprocess_text(texts):\n",
    "    stop_words = set(stopwords.words('english'))\n",
    "    regex = re.compile('[^a-z A-Z]')\n",
    "    preprocess_texts = []\n",
    "    for i in tqdm.tqdm(range(len(texts))):\n",
    "        text = texts[i].lower()\n",
    "        text = regex.sub(' ', text)\n",
    "        word_tokens = word_tokenize(text)\n",
    "        filtered_sentence = [w for w in word_tokens if not w in stop_words]\n",
    "        preprocess_texts.append(' '.join(filtered_sentence))\n",
    "\n",
    "    return preprocess_texts"
   ]
  },
  {
   "cell_type": "code",
   "execution_count": 16,
   "id": "7c12b131-d829-4638-99df-03af470baa41",
   "metadata": {},
   "outputs": [
    {
     "data": {
      "text/plain": [
       "Int64Index([     0,      1,      2,      3,      4,      5,      6,      7,\n",
       "                 8,      9,\n",
       "            ...\n",
       "            159441, 159442, 159443, 159444, 159445, 159446, 159447, 159448,\n",
       "            159449, 159450],\n",
       "           dtype='int64', length=159292)"
      ]
     },
     "execution_count": 16,
     "metadata": {},
     "output_type": "execute_result"
    }
   ],
   "source": [
    "data.index"
   ]
  },
  {
   "cell_type": "code",
   "execution_count": 17,
   "id": "77b78ea4-c31e-4ca7-bf76-90d1e1fcc9e2",
   "metadata": {},
   "outputs": [],
   "source": [
    "data = data.reset_index(drop=True)"
   ]
  },
  {
   "cell_type": "code",
   "execution_count": 18,
   "id": "307b537d-3319-473c-9cbb-286304665980",
   "metadata": {},
   "outputs": [
    {
     "name": "stderr",
     "output_type": "stream",
     "text": [
      "100%|████████████████████████████████████████████████████████████████████████| 159292/159292 [00:46<00:00, 3447.88it/s]\n"
     ]
    }
   ],
   "source": [
    "# Перед обработкой сбрасываю индексы, так как в первоночальном вареанте были пропуски в индексах.\n",
    "data['preprocess_data'] = preprocess_text(data.text)"
   ]
  },
  {
   "cell_type": "code",
   "execution_count": 19,
   "id": "877bc405-cb87-4b64-a654-7f90d180c382",
   "metadata": {},
   "outputs": [],
   "source": [
    "# Функция для Лемматизации\n",
    "def lemmatize_texts(texts):\n",
    "    nlp = spacy.load(\"en_core_web_sm\")\n",
    "    lem_text = []\n",
    "    for text in tqdm.tqdm(texts):\n",
    "        doc = nlp(text)\n",
    "        lem_text.append(' '.join([token.lemma_ for token in doc]))\n",
    "    return lem_text"
   ]
  },
  {
   "cell_type": "code",
   "execution_count": 20,
   "id": "616cb966-4424-4ca5-86cd-731a704ac201",
   "metadata": {},
   "outputs": [
    {
     "name": "stderr",
     "output_type": "stream",
     "text": [
      "100%|█████████████████████████████████████████████████████████████████████████| 159292/159292 [20:58<00:00, 126.55it/s]\n"
     ]
    }
   ],
   "source": [
    "data['data_lemmatize'] = lemmatize_texts(data.preprocess_data)"
   ]
  },
  {
   "cell_type": "code",
   "execution_count": 21,
   "id": "2c0e7699-fa23-4f5d-a45c-190f52337b1e",
   "metadata": {},
   "outputs": [
    {
     "name": "stdout",
     "output_type": "stream",
     "text": [
      "explanation edits made username hardcore metallica fan reverted vandalisms closure gas voted new york dolls fac please remove template talk page since retired\n"
     ]
    }
   ],
   "source": [
    "print(data.preprocess_data[0])"
   ]
  },
  {
   "cell_type": "code",
   "execution_count": 22,
   "id": "f345739c-2957-401f-a7fa-5788a0fbed4d",
   "metadata": {},
   "outputs": [
    {
     "name": "stdout",
     "output_type": "stream",
     "text": [
      "explanation edit make username hardcore metallica fan revert vandalism closure gas vote new york dolls fac please remove template talk page since retire\n"
     ]
    }
   ],
   "source": [
    "print(data.data_lemmatize[0])"
   ]
  },
  {
   "cell_type": "code",
   "execution_count": 23,
   "id": "558c6846-91b3-4266-8409-8905d716eaa2",
   "metadata": {},
   "outputs": [],
   "source": [
    "# Функция для Стеминга (выделим основу у слов)\n",
    "def stemming_texts(texts, st=None):\n",
    "    st = LancasterStemmer() if st is None else st\n",
    "    stem_text = []\n",
    "    for text in tqdm.tqdm(texts):\n",
    "        word_tokens = word_tokenize(text)\n",
    "        stem_text.append(' '.join([st.stem(word) for word in word_tokens]))\n",
    "    return stem_text"
   ]
  },
  {
   "cell_type": "code",
   "execution_count": 24,
   "id": "08b58ad4-7a1c-4898-8e51-c49fe22a942d",
   "metadata": {
    "scrolled": true
   },
   "outputs": [
    {
     "name": "stderr",
     "output_type": "stream",
     "text": [
      "100%|████████████████████████████████████████████████████████████████████████| 159292/159292 [01:50<00:00, 1443.83it/s]\n"
     ]
    }
   ],
   "source": [
    "data['data_stemming'] = stemming_texts(data.preprocess_data)"
   ]
  },
  {
   "cell_type": "code",
   "execution_count": 25,
   "id": "bd16ccc9-eab5-4855-98ac-a602f540e115",
   "metadata": {},
   "outputs": [
    {
     "name": "stdout",
     "output_type": "stream",
     "text": [
      "expl edit mad usernam hardc metallic fan revert vand clos gas vot new york dol fac pleas remov templ talk pag sint retir\n"
     ]
    }
   ],
   "source": [
    "print(data.data_stemming[0])"
   ]
  },
  {
   "cell_type": "code",
   "execution_count": 26,
   "id": "f0a07d2e-bab0-41a7-8f11-786102bbee09",
   "metadata": {},
   "outputs": [],
   "source": [
    "# Разделим датафрейм на три выборки: тренировачная, валидационная и тестовая\n",
    "train, test_valid = train_test_split(data,\n",
    "                                     stratify=data['toxic'],\n",
    "                                     test_size=0.4,\n",
    "                                     random_state=RANDOM_STATE)"
   ]
  },
  {
   "cell_type": "code",
   "execution_count": 27,
   "id": "fa8360a3-f201-49dc-9e1d-c0cf3dbda9c2",
   "metadata": {},
   "outputs": [],
   "source": [
    "valid, test = train_test_split(test_valid,\n",
    "                               test_size=0.5,\n",
    "                               random_state=RANDOM_STATE) "
   ]
  },
  {
   "cell_type": "code",
   "execution_count": 28,
   "id": "84f7a93e-f3fe-4ce9-becf-c0903ad2972a",
   "metadata": {},
   "outputs": [
    {
     "name": "stdout",
     "output_type": "stream",
     "text": [
      "(95575, 5) (31858, 5) (31859, 5)\n"
     ]
    }
   ],
   "source": [
    "print(train.shape, valid.shape, test.shape)"
   ]
  },
  {
   "cell_type": "code",
   "execution_count": 29,
   "id": "ca9831fc-7bc3-47b1-bf49-040706cced97",
   "metadata": {},
   "outputs": [],
   "source": [
    "# Cоздадим мешки слов\n",
    "vectorizer = CountVectorizer()"
   ]
  },
  {
   "cell_type": "code",
   "execution_count": 30,
   "id": "8119e7e2-086f-4001-8553-4ec69aae3ad3",
   "metadata": {},
   "outputs": [],
   "source": [
    "# Функция мешок слов\n",
    "def bow(vectorizer, train, test):\n",
    "    train_bow = vectorizer.fit_transform(train)\n",
    "    test_bow = vectorizer.transform(test)\n",
    "    return train_bow, test_bow"
   ]
  },
  {
   "cell_type": "code",
   "execution_count": 31,
   "id": "10f99941-f204-4cf4-b735-042633ccfa06",
   "metadata": {},
   "outputs": [
    {
     "data": {
      "text/html": [
       "<div>\n",
       "<style scoped>\n",
       "    .dataframe tbody tr th:only-of-type {\n",
       "        vertical-align: middle;\n",
       "    }\n",
       "\n",
       "    .dataframe tbody tr th {\n",
       "        vertical-align: top;\n",
       "    }\n",
       "\n",
       "    .dataframe thead th {\n",
       "        text-align: right;\n",
       "    }\n",
       "</style>\n",
       "<table border=\"1\" class=\"dataframe\">\n",
       "  <thead>\n",
       "    <tr style=\"text-align: right;\">\n",
       "      <th></th>\n",
       "      <th>text</th>\n",
       "      <th>toxic</th>\n",
       "      <th>preprocess_data</th>\n",
       "      <th>data_lemmatize</th>\n",
       "      <th>data_stemming</th>\n",
       "    </tr>\n",
       "  </thead>\n",
       "  <tbody>\n",
       "    <tr>\n",
       "      <th>13826</th>\n",
       "      <td>Because I want to say this qoute:\\n\\nSTOP CALL...</td>\n",
       "      <td>1</td>\n",
       "      <td>want say qoute stop calling name pathetic exus...</td>\n",
       "      <td>want say qoute stop call name pathetic exuse t...</td>\n",
       "      <td>want say qout stop cal nam pathet exus tricera...</td>\n",
       "    </tr>\n",
       "    <tr>\n",
       "      <th>20090</th>\n",
       "      <td>Balls: courage\\nthis could definitely be a wik...</td>\n",
       "      <td>0</td>\n",
       "      <td>balls courage could definitely wikipedia entry...</td>\n",
       "      <td>ball courage could definitely wikipedia entry ...</td>\n",
       "      <td>bal cour could definit wikiped entry mak chang...</td>\n",
       "    </tr>\n",
       "    <tr>\n",
       "      <th>67200</th>\n",
       "      <td>\"\\n\\n Image:Redneckmower.jpg listed for deleti...</td>\n",
       "      <td>0</td>\n",
       "      <td>image redneckmower jpg listed deletion image m...</td>\n",
       "      <td>image redneckmower jpg list deletion image med...</td>\n",
       "      <td>im redneckmow jpg list delet im med fil upload...</td>\n",
       "    </tr>\n",
       "    <tr>\n",
       "      <th>16562</th>\n",
       "      <td>. Besides which, isn't this more an argument a...</td>\n",
       "      <td>0</td>\n",
       "      <td>besides argument chinese imperialism rather si...</td>\n",
       "      <td>besides argument chinese imperialism rather si...</td>\n",
       "      <td>besid argu chines imp rath sinoc tak due not o...</td>\n",
       "    </tr>\n",
       "    <tr>\n",
       "      <th>134789</th>\n",
       "      <td>ok your site already fucked so i cant fuck it ...</td>\n",
       "      <td>1</td>\n",
       "      <td>ok site already fucked cant fuck fuck nigga</td>\n",
       "      <td>ok site already fuck can not fuck fuck nigga</td>\n",
       "      <td>ok sit already fuck cant fuck fuck nigg</td>\n",
       "    </tr>\n",
       "  </tbody>\n",
       "</table>\n",
       "</div>"
      ],
      "text/plain": [
       "                                                     text  toxic  \\\n",
       "13826   Because I want to say this qoute:\\n\\nSTOP CALL...      1   \n",
       "20090   Balls: courage\\nthis could definitely be a wik...      0   \n",
       "67200   \"\\n\\n Image:Redneckmower.jpg listed for deleti...      0   \n",
       "16562   . Besides which, isn't this more an argument a...      0   \n",
       "134789  ok your site already fucked so i cant fuck it ...      1   \n",
       "\n",
       "                                          preprocess_data  \\\n",
       "13826   want say qoute stop calling name pathetic exus...   \n",
       "20090   balls courage could definitely wikipedia entry...   \n",
       "67200   image redneckmower jpg listed deletion image m...   \n",
       "16562   besides argument chinese imperialism rather si...   \n",
       "134789        ok site already fucked cant fuck fuck nigga   \n",
       "\n",
       "                                           data_lemmatize  \\\n",
       "13826   want say qoute stop call name pathetic exuse t...   \n",
       "20090   ball courage could definitely wikipedia entry ...   \n",
       "67200   image redneckmower jpg list deletion image med...   \n",
       "16562   besides argument chinese imperialism rather si...   \n",
       "134789       ok site already fuck can not fuck fuck nigga   \n",
       "\n",
       "                                            data_stemming  \n",
       "13826   want say qout stop cal nam pathet exus tricera...  \n",
       "20090   bal cour could definit wikiped entry mak chang...  \n",
       "67200   im redneckmow jpg list delet im med fil upload...  \n",
       "16562   besid argu chines imp rath sinoc tak due not o...  \n",
       "134789            ok sit already fuck cant fuck fuck nigg  "
      ]
     },
     "execution_count": 31,
     "metadata": {},
     "output_type": "execute_result"
    }
   ],
   "source": [
    "train.head()"
   ]
  },
  {
   "cell_type": "code",
   "execution_count": 32,
   "id": "0051f746-f2b3-4f4c-ab3b-6d336b02b51d",
   "metadata": {},
   "outputs": [],
   "source": [
    "X_train_bow, X_valid_bow = bow(vectorizer,\n",
    "                              train.text,\n",
    "                              valid.text)"
   ]
  },
  {
   "cell_type": "code",
   "execution_count": 33,
   "id": "2d5e06f3-f927-479c-a991-aeb4a6cb7393",
   "metadata": {},
   "outputs": [
    {
     "data": {
      "text/plain": [
       "(95575, 139229)"
      ]
     },
     "execution_count": 33,
     "metadata": {},
     "output_type": "execute_result"
    }
   ],
   "source": [
    "X_train_bow.shape"
   ]
  },
  {
   "cell_type": "code",
   "execution_count": 34,
   "id": "fff3c6a7-334c-4e13-a77f-1758b2548f37",
   "metadata": {},
   "outputs": [
    {
     "data": {
      "text/plain": [
       "(31858, 139229)"
      ]
     },
     "execution_count": 34,
     "metadata": {},
     "output_type": "execute_result"
    }
   ],
   "source": [
    "X_valid_bow.shape"
   ]
  },
  {
   "cell_type": "code",
   "execution_count": 35,
   "id": "2c624fcc-8b0d-468f-861c-7f1c3a3ccb07",
   "metadata": {},
   "outputs": [],
   "source": [
    "# Мешок слов из текстов после предобработки\n",
    "X_train_bow_preprocess, X_valid_bow_preprocess = bow(vectorizer,\n",
    "                                                    train.preprocess_data,\n",
    "                                                    valid.preprocess_data)"
   ]
  },
  {
   "cell_type": "code",
   "execution_count": 36,
   "id": "196a5392-4382-452f-8a9b-27cecfd9b722",
   "metadata": {},
   "outputs": [
    {
     "data": {
      "text/plain": [
       "(95575, 125368)"
      ]
     },
     "execution_count": 36,
     "metadata": {},
     "output_type": "execute_result"
    }
   ],
   "source": [
    "X_train_bow_preprocess.shape"
   ]
  },
  {
   "cell_type": "code",
   "execution_count": 37,
   "id": "bf0bca40-5a96-464b-84f5-32fe7347721e",
   "metadata": {},
   "outputs": [
    {
     "data": {
      "text/plain": [
       "(31858, 125368)"
      ]
     },
     "execution_count": 37,
     "metadata": {},
     "output_type": "execute_result"
    }
   ],
   "source": [
    "X_valid_bow_preprocess.shape"
   ]
  },
  {
   "cell_type": "code",
   "execution_count": 38,
   "id": "fd3182a7-0177-4bb6-a17f-374e5444678d",
   "metadata": {},
   "outputs": [],
   "source": [
    "# Мешок слов из текстов после лемматизации\n",
    "X_train_bow_lemmatize, X_valid_bow_lemmatize = bow(vectorizer,\n",
    "                                        train.data_lemmatize,\n",
    "                                        valid.data_lemmatize)"
   ]
  },
  {
   "cell_type": "code",
   "execution_count": 39,
   "id": "9f2b4ff9-200c-4b68-b597-87c0b100c0e3",
   "metadata": {},
   "outputs": [
    {
     "data": {
      "text/plain": [
       "(95575, 113700)"
      ]
     },
     "execution_count": 39,
     "metadata": {},
     "output_type": "execute_result"
    }
   ],
   "source": [
    "X_train_bow_lemmatize.shape"
   ]
  },
  {
   "cell_type": "code",
   "execution_count": 40,
   "id": "7bc4961f-98e6-452a-903a-c2a4a726f460",
   "metadata": {},
   "outputs": [
    {
     "data": {
      "text/plain": [
       "(31858, 113700)"
      ]
     },
     "execution_count": 40,
     "metadata": {},
     "output_type": "execute_result"
    }
   ],
   "source": [
    "X_valid_bow_lemmatize.shape"
   ]
  },
  {
   "cell_type": "code",
   "execution_count": 41,
   "id": "b612373f-db8d-4e56-baac-8f1970d08d33",
   "metadata": {},
   "outputs": [],
   "source": [
    "# Мешок слов из текстов после стеминга\n",
    "X_train_bow_stem, X_valid_bow_stem = bow(vectorizer,\n",
    "                                        train.data_stemming,\n",
    "                                        valid.data_stemming)"
   ]
  },
  {
   "cell_type": "code",
   "execution_count": 42,
   "id": "7c52aab2-06ec-4770-89a2-622565370e12",
   "metadata": {},
   "outputs": [
    {
     "data": {
      "text/plain": [
       "(95575, 82337)"
      ]
     },
     "execution_count": 42,
     "metadata": {},
     "output_type": "execute_result"
    }
   ],
   "source": [
    "X_train_bow_stem.shape"
   ]
  },
  {
   "cell_type": "code",
   "execution_count": 43,
   "id": "ee0c7e79-9db3-414a-9681-80942d9977d5",
   "metadata": {},
   "outputs": [
    {
     "data": {
      "text/plain": [
       "(31858, 82337)"
      ]
     },
     "execution_count": 43,
     "metadata": {},
     "output_type": "execute_result"
    }
   ],
   "source": [
    "X_valid_bow_stem.shape"
   ]
  },
  {
   "cell_type": "code",
   "execution_count": 44,
   "id": "f3b3d2aa-9cbf-41ad-a2df-007f9cdb1726",
   "metadata": {},
   "outputs": [],
   "source": [
    "# Создаю матрицы cо значениями TF-IDF\n",
    "vectorizer_tf_idf = TfidfVectorizer()"
   ]
  },
  {
   "cell_type": "code",
   "execution_count": 45,
   "id": "0f9d6bcd-cc28-463e-b938-9affd0a3f911",
   "metadata": {},
   "outputs": [],
   "source": [
    "X_train_tfidf, X_valid_tfidf = bow(vectorizer_tf_idf,\n",
    "                                  train.text,\n",
    "                                  valid.text)"
   ]
  },
  {
   "cell_type": "code",
   "execution_count": 46,
   "id": "14b3a674-f61b-4281-ae9b-2a305a56c69d",
   "metadata": {},
   "outputs": [
    {
     "data": {
      "text/plain": [
       "(95575, 139229)"
      ]
     },
     "execution_count": 46,
     "metadata": {},
     "output_type": "execute_result"
    }
   ],
   "source": [
    "X_train_tfidf.shape"
   ]
  },
  {
   "cell_type": "code",
   "execution_count": 47,
   "id": "42770098-4c9d-4ca4-afc8-fd69cba90793",
   "metadata": {},
   "outputs": [],
   "source": [
    "X_train_tfidf_preprocess, X_valid_tfidf_preprocess = bow(vectorizer_tf_idf,\n",
    "                                                        train.preprocess_data,\n",
    "                                                        valid.preprocess_data)"
   ]
  },
  {
   "cell_type": "code",
   "execution_count": 48,
   "id": "894be021-4790-4c06-9b55-267b12ce14e1",
   "metadata": {},
   "outputs": [
    {
     "data": {
      "text/plain": [
       "(95575, 125368)"
      ]
     },
     "execution_count": 48,
     "metadata": {},
     "output_type": "execute_result"
    }
   ],
   "source": [
    "X_train_tfidf_preprocess.shape"
   ]
  },
  {
   "cell_type": "code",
   "execution_count": 49,
   "id": "a93714ce-40a5-4381-84ad-7376db6b3918",
   "metadata": {},
   "outputs": [],
   "source": [
    "X_train_tfidf_lemmatize, X_valid_tfidf_lemmatize = bow(vectorizer_tf_idf,\n",
    "                                                        train.data_lemmatize,\n",
    "                                                        valid.data_lemmatize)"
   ]
  },
  {
   "cell_type": "code",
   "execution_count": 50,
   "id": "25aaa244-3301-49da-ba62-1e528936889f",
   "metadata": {},
   "outputs": [
    {
     "data": {
      "text/plain": [
       "(95575, 113700)"
      ]
     },
     "execution_count": 50,
     "metadata": {},
     "output_type": "execute_result"
    }
   ],
   "source": [
    "X_train_tfidf_lemmatize.shape"
   ]
  },
  {
   "cell_type": "code",
   "execution_count": 51,
   "id": "2ebfe893-59f5-4d7f-88bc-1cea9347e7d5",
   "metadata": {},
   "outputs": [],
   "source": [
    "X_train_tfidf_stem, X_valid_tfidf_stem = bow(vectorizer_tf_idf,\n",
    "                                            train.data_stemming,\n",
    "                                            valid.data_stemming)"
   ]
  },
  {
   "cell_type": "code",
   "execution_count": 52,
   "id": "767f0125-9068-4b6a-a787-6570dbca9ef0",
   "metadata": {},
   "outputs": [
    {
     "data": {
      "text/plain": [
       "(95575, 82337)"
      ]
     },
     "execution_count": 52,
     "metadata": {},
     "output_type": "execute_result"
    }
   ],
   "source": [
    "X_train_tfidf_stem.shape"
   ]
  },
  {
   "cell_type": "markdown",
   "id": "1838303f-a570-4a1c-904d-351ce81fa6eb",
   "metadata": {},
   "source": [
    "1. Загрузил данные. В датафрейме 159292 наблюдения без пропусков. В двух столбцах содержется текст комментария и целевой признак 0 или 1. Как и заявлено. Целевой признак несбалансированный с большим перевесов в пользу нуля. Учтем при делении на выборки.\n",
    "2. Проевел предобработку декста: Нижней регистр; Удаляем символы кроме a-z A-Z; Удаляем стоп-слова.\n",
    "3. Превел лемматизацию\n",
    "4. Выделил основу у слов(стеминг)\n",
    "5. Для сырого текста, для текста после обработки, лемматизации и стеминга создал мешки слов и матрицы cо значениями TF-IDF."
   ]
  },
  {
   "cell_type": "markdown",
   "id": "c0bf3d04-6f1d-4544-a18a-ad0905c55a1a",
   "metadata": {},
   "source": [
    "В итоге получил 8 полей признаков с мешками и матрицами TF-IDF"
   ]
  },
  {
   "cell_type": "markdown",
   "id": "52312032-51ac-4149-bb4c-1f1d2728a602",
   "metadata": {},
   "source": [
    "## Обучение"
   ]
  },
  {
   "cell_type": "code",
   "execution_count": 53,
   "id": "aa8e1702-47ec-46ff-8e7a-6139399d57b6",
   "metadata": {},
   "outputs": [],
   "source": [
    "clf = LogisticRegression()"
   ]
  },
  {
   "cell_type": "code",
   "execution_count": 54,
   "id": "f4b86781-b025-4aa2-835f-b6e464c49710",
   "metadata": {},
   "outputs": [
    {
     "name": "stdout",
     "output_type": "stream",
     "text": [
      "LogisticRegression:  0.7643688140302136\n"
     ]
    }
   ],
   "source": [
    "# Обучим модель логистической регрессиии\n",
    "# Используем мешок слов из необработанных текстов\n",
    "clf.fit(X_train_bow, train.toxic)\n",
    "print('LogisticRegression: ', f1_score(valid.toxic, clf.predict(X_valid_bow)))"
   ]
  },
  {
   "cell_type": "code",
   "execution_count": 55,
   "id": "6376dcc0-f68a-40d6-979e-5ad7f97feec3",
   "metadata": {},
   "outputs": [
    {
     "name": "stdout",
     "output_type": "stream",
     "text": [
      "LogisticRegression:  0.7595599790466213\n"
     ]
    }
   ],
   "source": [
    "# Обучим модель логистической регрессиии\n",
    "# Используем мешок слов из предобработанных текстов\n",
    "clf.fit(X_train_bow_preprocess, train.toxic)\n",
    "print ('LogisticRegression: ', f1_score(valid.toxic, clf.predict(X_valid_bow_preprocess)))"
   ]
  },
  {
   "cell_type": "code",
   "execution_count": 56,
   "id": "5a891c6d-f068-473c-a553-5ca7f1d3d591",
   "metadata": {},
   "outputs": [
    {
     "name": "stdout",
     "output_type": "stream",
     "text": [
      "LogisticRegression:  0.7569553805774278\n"
     ]
    }
   ],
   "source": [
    "# Обучим модель логистической регрессиии\n",
    "# Используем мешок слов из текста после лемматизации\n",
    "clf.fit(X_train_bow_lemmatize, train.toxic)\n",
    "print ('LogisticRegression: ', f1_score(valid.toxic, clf.predict(X_valid_bow_lemmatize)))"
   ]
  },
  {
   "cell_type": "code",
   "execution_count": 57,
   "id": "04e5c3d6-fd8d-4c11-8f7c-0a84a182ce82",
   "metadata": {},
   "outputs": [
    {
     "name": "stdout",
     "output_type": "stream",
     "text": [
      "LogisticRegression:  0.752280701754386\n"
     ]
    }
   ],
   "source": [
    "# Обучим модель логистической регрессиии\n",
    "# Используем мешок слов из текста после стеминга\n",
    "clf.fit(X_train_bow_stem, train.toxic)\n",
    "print ('LogisticRegression: ', f1_score(valid.toxic, clf.predict(X_valid_bow_stem)))"
   ]
  },
  {
   "cell_type": "code",
   "execution_count": 58,
   "id": "6845cb95-5bac-472c-b242-4be273a5ce12",
   "metadata": {},
   "outputs": [
    {
     "name": "stdout",
     "output_type": "stream",
     "text": [
      "LogisticRegression:  0.7222115569207141\n"
     ]
    }
   ],
   "source": [
    "# Обучим модель логистической регрессиии\n",
    "# Используем матрицу TF-IDF из необработанных текстов\n",
    "clf.fit(X_train_tfidf, train.toxic)\n",
    "print ('LogisticRegression: ', f1_score(valid.toxic, clf.predict(X_valid_tfidf)))"
   ]
  },
  {
   "cell_type": "code",
   "execution_count": 59,
   "id": "703e1289-4c4e-48dc-9669-15b4f5ab4a14",
   "metadata": {},
   "outputs": [
    {
     "name": "stdout",
     "output_type": "stream",
     "text": [
      "LogisticRegression:  0.7203389830508474\n"
     ]
    }
   ],
   "source": [
    "# Обучим модель логистической регрессиии\n",
    "# Используем матрицу TF-IDF из предобработанных текстов\n",
    "clf.fit(X_train_tfidf_preprocess, train.toxic)\n",
    "print ('LogisticRegression: ', f1_score(valid.toxic, clf.predict(X_valid_tfidf_preprocess)))"
   ]
  },
  {
   "cell_type": "code",
   "execution_count": 60,
   "id": "45a8c0b1-6ae2-4012-b61b-d5bff39b0089",
   "metadata": {},
   "outputs": [
    {
     "name": "stdout",
     "output_type": "stream",
     "text": [
      "LogisticRegression:  0.7334981928856762\n"
     ]
    }
   ],
   "source": [
    "# Обучим модель логистической регрессиии\n",
    "# Используем матрицу TF-IDF из текста после лемматизации\n",
    "clf.fit(X_train_tfidf_lemmatize, train.toxic)\n",
    "print ('LogisticRegression: ', f1_score(valid.toxic, clf.predict(X_valid_tfidf_lemmatize)))"
   ]
  },
  {
   "cell_type": "code",
   "execution_count": 61,
   "id": "bf93ede9-b94a-4f3d-b952-e3b7466c8601",
   "metadata": {},
   "outputs": [
    {
     "name": "stdout",
     "output_type": "stream",
     "text": [
      "LogisticRegression:  0.7397881996974282\n"
     ]
    }
   ],
   "source": [
    "# Обучим модель логистической регрессиии\n",
    "# Используем матрицу TF-IDF из текста после стеминга\n",
    "clf.fit(X_train_tfidf_stem, train.toxic)\n",
    "print ('LogisticRegression: ', f1_score(valid.toxic, clf.predict(X_valid_tfidf_stem)))"
   ]
  },
  {
   "cell_type": "code",
   "execution_count": 62,
   "id": "dfb6123e-11fe-4c82-895a-c12ce07d495f",
   "metadata": {},
   "outputs": [],
   "source": [
    "clf_svc = LinearSVC()"
   ]
  },
  {
   "cell_type": "code",
   "execution_count": 63,
   "id": "306eb390-9252-42e1-a8fd-1fdfafb6814f",
   "metadata": {},
   "outputs": [
    {
     "name": "stdout",
     "output_type": "stream",
     "text": [
      "LinearSVC:  0.7642013270755785\n"
     ]
    }
   ],
   "source": [
    "# Обучим модель метод опорных векторов\n",
    "# Используем мешок слов из необработанных текстов\n",
    "clf_svc.fit(X_train_bow, train.toxic)\n",
    "print ('LinearSVC: ', f1_score(valid.toxic, clf_svc.predict(X_valid_bow)))"
   ]
  },
  {
   "cell_type": "code",
   "execution_count": 64,
   "id": "925bb719-d95b-4848-85c9-1ef4e84d8dc1",
   "metadata": {},
   "outputs": [
    {
     "name": "stdout",
     "output_type": "stream",
     "text": [
      "LinearSVC:  0.7578641716405872\n"
     ]
    }
   ],
   "source": [
    "# Обучим модель метод опорных векторов\n",
    "# Используем мешок слов из предобработанных текстов\n",
    "clf_svc.fit(X_train_bow_preprocess, train.toxic)\n",
    "print ('LinearSVC: ', f1_score(valid.toxic, clf_svc.predict(X_valid_bow_preprocess)))"
   ]
  },
  {
   "cell_type": "code",
   "execution_count": 65,
   "id": "f6547f69-9331-4e36-99af-102f707a0143",
   "metadata": {},
   "outputs": [
    {
     "name": "stdout",
     "output_type": "stream",
     "text": [
      "LinearSVC:  0.7596169453010875\n"
     ]
    }
   ],
   "source": [
    "# Обучим модель метод опорных векторов\n",
    "# Используем мешок слов из текста после лемматизации\n",
    "clf_svc.fit(X_train_bow_lemmatize, train.toxic)\n",
    "print ('LinearSVC: ', f1_score(valid.toxic, clf_svc.predict(X_valid_bow_lemmatize)))"
   ]
  },
  {
   "cell_type": "code",
   "execution_count": 66,
   "id": "c89ea9cd-8f85-4b44-a791-06e408055248",
   "metadata": {},
   "outputs": [
    {
     "name": "stdout",
     "output_type": "stream",
     "text": [
      "LinearSVC:  0.7557354925775979\n"
     ]
    }
   ],
   "source": [
    "# Обучим модель метод опорных векторов\n",
    "# Используем мешок слов из текста после стеминга\n",
    "clf_svc.fit(X_train_bow_stem, train.toxic)\n",
    "print ('LinearSVC: ', f1_score(valid.toxic, clf_svc.predict(X_valid_bow_stem)))"
   ]
  },
  {
   "cell_type": "code",
   "execution_count": 67,
   "id": "48507023-819d-4b6e-923a-2deeebf9f615",
   "metadata": {},
   "outputs": [
    {
     "name": "stdout",
     "output_type": "stream",
     "text": [
      "LogisticRegression:  0.784938704028021\n"
     ]
    }
   ],
   "source": [
    "# Обучим модель метод опорных векторов\n",
    "# Используем матрицу TF-IDF из необработанных текстов\n",
    "clf_svc.fit(X_train_tfidf, train.toxic)\n",
    "print ('LogisticRegression: ', f1_score(valid.toxic, clf_svc.predict(X_valid_tfidf)))"
   ]
  },
  {
   "cell_type": "code",
   "execution_count": 68,
   "id": "bdb8c1e9-6db7-4ba4-993b-7c80f3669d86",
   "metadata": {},
   "outputs": [
    {
     "name": "stdout",
     "output_type": "stream",
     "text": [
      "LogisticRegression:  0.77111812127585\n"
     ]
    }
   ],
   "source": [
    "# Обучим модель метод опорных векторов\n",
    "# Используем матрицу TF-IDF из предобработанных текстов\n",
    "clf_svc.fit(X_train_tfidf_preprocess, train.toxic)\n",
    "print ('LogisticRegression: ', f1_score(valid.toxic, clf_svc.predict(X_valid_tfidf_preprocess)))"
   ]
  },
  {
   "cell_type": "code",
   "execution_count": 69,
   "id": "581d37f3-fa5a-49bc-a483-32e953576830",
   "metadata": {},
   "outputs": [
    {
     "name": "stdout",
     "output_type": "stream",
     "text": [
      "LogisticRegression:  0.7743285664457621\n"
     ]
    }
   ],
   "source": [
    "# Обучим модель метод опорных векторов\n",
    "# Используем матрицу TF-IDF из текста после лемматизации\n",
    "clf_svc.fit(X_train_tfidf_lemmatize, train.toxic)\n",
    "print ('LogisticRegression: ', f1_score(valid.toxic, clf_svc.predict(X_valid_tfidf_lemmatize)))"
   ]
  },
  {
   "cell_type": "code",
   "execution_count": 70,
   "id": "33e565f3-e97f-4acb-9e13-9fac9f1c62d1",
   "metadata": {},
   "outputs": [
    {
     "name": "stdout",
     "output_type": "stream",
     "text": [
      "LogisticRegression:  0.7773492286115007\n"
     ]
    }
   ],
   "source": [
    "# Обучим модель метод опорных векторов\n",
    "# Используем матрицу TF-IDF из текста после стеминга\n",
    "clf_svc.fit(X_train_tfidf_stem, train.toxic)\n",
    "print ('LogisticRegression: ', f1_score(valid.toxic, clf_svc.predict(X_valid_tfidf_stem)))"
   ]
  },
  {
   "cell_type": "markdown",
   "id": "1ab2100d-2b3f-42df-bb8b-597bf7965b03",
   "metadata": {},
   "source": [
    "Обучил 16 моделей ленейной регрессии и опорных векторов с разными полями признаков."
   ]
  },
  {
   "cell_type": "markdown",
   "id": "63ee4aa2-bf77-40c2-9dcb-10c63b4d0c17",
   "metadata": {},
   "source": [
    "Лучше всего себя проявила модель метод опорных векторов с признаками матрица TF-IDF из необработанных текстов"
   ]
  },
  {
   "cell_type": "code",
   "execution_count": 71,
   "id": "822b39e8-698c-465c-9ee6-e0914d56d3b1",
   "metadata": {},
   "outputs": [
    {
     "name": "stdout",
     "output_type": "stream",
     "text": [
      "LogisticRegression:  0.7852130754749272\n"
     ]
    }
   ],
   "source": [
    "# Проверим лучшую модель на тестовой выборке.\n",
    "X_train_tfidf, X_test_tfidf = bow(vectorizer_tf_idf,\n",
    "                                  train.text,\n",
    "                                  test.text)\n",
    "clf_svc.fit(X_train_tfidf, train.toxic)\n",
    "print ('LogisticRegression: ', f1_score(test.toxic, clf_svc.predict(X_test_tfidf)))"
   ]
  },
  {
   "cell_type": "markdown",
   "id": "931dcc30-8bec-4f8e-821d-c5b5befdc1aa",
   "metadata": {},
   "source": [
    "Полученные значение метрики F1 = 0.7852 удовлетворяют условиям проекта"
   ]
  },
  {
   "cell_type": "markdown",
   "id": "e58767f7-d9ac-4fae-adf4-6f8a1dae8872",
   "metadata": {},
   "source": [
    "## Выводы"
   ]
  },
  {
   "cell_type": "markdown",
   "id": "e98d8031-bea0-4757-ac40-ca7191a0e2c3",
   "metadata": {},
   "source": [
    "Целью проекта является обучить модель классифицировать комментарии на позитивные и негативные.\n",
    "\n",
    "* Загрузил данные. В датафрейме 159292 наблюдения без пропусков. В двух столбцах содержется текст комментария и целевой признак 0 или 1. Как и заявлено. Целевой признак несбалансированный с большим перевесов в пользу нуля. Учтем при делении на выборки.\n",
    "* Проевел предобработку декста: Нижней регистр; Удаляем символы кроме a-z A-Z; Удаляем стоп-слова.\n",
    "* Выделил основу у слов(стеминг)\n",
    "* Для сырого текста, для текста после обработки, посли лемматизации и стеминга создал мешки слов и матрицы cо значениями TF-IDF\n",
    "  \n",
    "В итоге получил 8 полей признаков с мешками и матрицами TF-IDF.\n",
    "\n",
    "Обучил 16 моделей ленейной регрессии и опорных векторов с разными полями признаков.\n",
    "\n",
    "Лучше всего себя проявила модель метод опорных векторов с признаками матрица TF-IDF из необработанных текстов\n",
    "с метроикой F1 = 0.7852. Это удовлетворяет условиям проекта. Эту модель предлагаю в качестве решения."
   ]
  }
 ],
 "metadata": {
  "ExecuteTimeLog": [
   {
    "duration": 4,
    "start_time": "2024-05-15T05:37:53.380Z"
   },
   {
    "duration": 4095,
    "start_time": "2024-05-15T05:37:53.385Z"
   },
   {
    "duration": 3,
    "start_time": "2024-05-15T05:37:57.482Z"
   },
   {
    "duration": 3613,
    "start_time": "2024-05-15T05:37:57.486Z"
   },
   {
    "duration": 13,
    "start_time": "2024-05-15T05:38:01.101Z"
   },
   {
    "duration": 117,
    "start_time": "2024-05-15T05:38:01.116Z"
   },
   {
    "duration": 70,
    "start_time": "2024-05-15T05:38:01.235Z"
   },
   {
    "duration": 63,
    "start_time": "2024-05-15T05:38:01.307Z"
   },
   {
    "duration": 42,
    "start_time": "2024-05-15T05:38:01.371Z"
   },
   {
    "duration": 594,
    "start_time": "2024-05-15T05:38:01.415Z"
   },
   {
    "duration": 2,
    "start_time": "2024-05-15T05:38:02.011Z"
   },
   {
    "duration": 46,
    "start_time": "2024-05-15T05:38:02.015Z"
   },
   {
    "duration": 69,
    "start_time": "2024-05-15T05:38:02.062Z"
   },
   {
    "duration": 88,
    "start_time": "2024-05-15T05:38:02.134Z"
   },
   {
    "duration": 56169,
    "start_time": "2024-05-15T05:38:02.224Z"
   },
   {
    "duration": 4,
    "start_time": "2024-05-15T05:38:58.395Z"
   },
   {
    "duration": 1602470,
    "start_time": "2024-05-15T05:38:58.400Z"
   },
   {
    "duration": 3,
    "start_time": "2024-05-15T06:05:40.872Z"
   },
   {
    "duration": 29,
    "start_time": "2024-05-15T06:05:40.876Z"
   },
   {
    "duration": 7,
    "start_time": "2024-05-15T06:05:40.908Z"
   },
   {
    "duration": 103501,
    "start_time": "2024-05-15T06:05:40.916Z"
   },
   {
    "duration": 3,
    "start_time": "2024-05-15T06:07:24.419Z"
   },
   {
    "duration": 159,
    "start_time": "2024-05-15T06:07:24.424Z"
   },
   {
    "duration": 21,
    "start_time": "2024-05-15T06:07:24.585Z"
   },
   {
    "duration": 12,
    "start_time": "2024-05-15T06:07:24.607Z"
   },
   {
    "duration": 72,
    "start_time": "2024-05-15T06:07:24.621Z"
   },
   {
    "duration": 0,
    "start_time": "2024-05-15T06:07:24.695Z"
   },
   {
    "duration": 0,
    "start_time": "2024-05-15T06:07:24.697Z"
   },
   {
    "duration": 0,
    "start_time": "2024-05-15T06:07:24.698Z"
   },
   {
    "duration": 0,
    "start_time": "2024-05-15T06:07:24.699Z"
   },
   {
    "duration": 0,
    "start_time": "2024-05-15T06:07:24.700Z"
   },
   {
    "duration": 0,
    "start_time": "2024-05-15T06:07:24.701Z"
   },
   {
    "duration": 0,
    "start_time": "2024-05-15T06:07:24.702Z"
   },
   {
    "duration": 0,
    "start_time": "2024-05-15T06:07:24.703Z"
   },
   {
    "duration": 0,
    "start_time": "2024-05-15T06:07:24.704Z"
   },
   {
    "duration": 0,
    "start_time": "2024-05-15T06:07:24.705Z"
   },
   {
    "duration": 0,
    "start_time": "2024-05-15T06:07:24.706Z"
   },
   {
    "duration": 0,
    "start_time": "2024-05-15T06:07:24.707Z"
   },
   {
    "duration": 0,
    "start_time": "2024-05-15T06:07:24.709Z"
   },
   {
    "duration": 0,
    "start_time": "2024-05-15T06:07:24.710Z"
   },
   {
    "duration": 0,
    "start_time": "2024-05-15T06:07:24.711Z"
   },
   {
    "duration": 0,
    "start_time": "2024-05-15T06:07:24.712Z"
   },
   {
    "duration": 0,
    "start_time": "2024-05-15T06:07:24.713Z"
   },
   {
    "duration": 0,
    "start_time": "2024-05-15T06:07:24.714Z"
   },
   {
    "duration": 0,
    "start_time": "2024-05-15T06:07:24.715Z"
   },
   {
    "duration": 0,
    "start_time": "2024-05-15T06:07:24.716Z"
   },
   {
    "duration": 0,
    "start_time": "2024-05-15T06:07:24.717Z"
   },
   {
    "duration": 0,
    "start_time": "2024-05-15T06:07:24.718Z"
   },
   {
    "duration": 0,
    "start_time": "2024-05-15T06:07:24.719Z"
   },
   {
    "duration": 0,
    "start_time": "2024-05-15T06:07:24.720Z"
   },
   {
    "duration": 0,
    "start_time": "2024-05-15T06:07:24.721Z"
   },
   {
    "duration": 0,
    "start_time": "2024-05-15T06:07:24.722Z"
   },
   {
    "duration": 0,
    "start_time": "2024-05-15T06:07:24.723Z"
   },
   {
    "duration": 0,
    "start_time": "2024-05-15T06:07:24.724Z"
   },
   {
    "duration": 0,
    "start_time": "2024-05-15T06:07:24.725Z"
   },
   {
    "duration": 0,
    "start_time": "2024-05-15T06:07:24.726Z"
   },
   {
    "duration": 0,
    "start_time": "2024-05-15T06:07:24.727Z"
   },
   {
    "duration": 0,
    "start_time": "2024-05-15T06:07:24.728Z"
   },
   {
    "duration": 0,
    "start_time": "2024-05-15T06:07:24.729Z"
   },
   {
    "duration": 0,
    "start_time": "2024-05-15T06:07:24.730Z"
   },
   {
    "duration": 0,
    "start_time": "2024-05-15T06:07:24.731Z"
   },
   {
    "duration": 0,
    "start_time": "2024-05-15T06:07:24.732Z"
   },
   {
    "duration": 0,
    "start_time": "2024-05-15T06:07:24.733Z"
   },
   {
    "duration": 0,
    "start_time": "2024-05-15T06:07:24.733Z"
   },
   {
    "duration": 0,
    "start_time": "2024-05-15T06:07:24.734Z"
   },
   {
    "duration": 1,
    "start_time": "2024-05-15T06:07:24.734Z"
   },
   {
    "duration": 0,
    "start_time": "2024-05-15T06:07:24.769Z"
   },
   {
    "duration": 0,
    "start_time": "2024-05-15T06:07:24.770Z"
   },
   {
    "duration": 3,
    "start_time": "2024-05-15T06:09:09.637Z"
   },
   {
    "duration": 3,
    "start_time": "2024-05-15T06:28:36.513Z"
   },
   {
    "duration": 9,
    "start_time": "2024-05-15T06:28:49.890Z"
   },
   {
    "duration": 6919,
    "start_time": "2024-05-15T06:28:53.516Z"
   },
   {
    "duration": 3,
    "start_time": "2024-05-15T06:29:10.930Z"
   },
   {
    "duration": 4,
    "start_time": "2024-05-15T06:29:12.155Z"
   },
   {
    "duration": 3946,
    "start_time": "2024-05-15T06:29:28.108Z"
   },
   {
    "duration": 4,
    "start_time": "2024-05-15T06:29:42.157Z"
   },
   {
    "duration": 4,
    "start_time": "2024-05-15T06:29:43.483Z"
   },
   {
    "duration": 3869,
    "start_time": "2024-05-15T06:29:58.371Z"
   },
   {
    "duration": 4,
    "start_time": "2024-05-15T06:30:11.891Z"
   },
   {
    "duration": 4,
    "start_time": "2024-05-15T06:30:13.195Z"
   },
   {
    "duration": 3526,
    "start_time": "2024-05-15T06:30:22.962Z"
   },
   {
    "duration": 4,
    "start_time": "2024-05-15T06:30:41.948Z"
   },
   {
    "duration": 4,
    "start_time": "2024-05-15T06:30:43.067Z"
   },
   {
    "duration": 2,
    "start_time": "2024-05-15T06:30:46.877Z"
   },
   {
    "duration": 6924,
    "start_time": "2024-05-15T06:31:33.588Z"
   },
   {
    "duration": 5,
    "start_time": "2024-05-15T06:31:40.514Z"
   },
   {
    "duration": 4054,
    "start_time": "2024-05-15T06:31:44.132Z"
   },
   {
    "duration": 4,
    "start_time": "2024-05-15T06:31:48.188Z"
   },
   {
    "duration": 4018,
    "start_time": "2024-05-15T06:31:57.814Z"
   },
   {
    "duration": 4,
    "start_time": "2024-05-15T06:32:01.834Z"
   },
   {
    "duration": 3637,
    "start_time": "2024-05-15T06:32:12.909Z"
   },
   {
    "duration": 4,
    "start_time": "2024-05-15T06:32:16.548Z"
   },
   {
    "duration": 3,
    "start_time": "2024-05-15T06:33:30.470Z"
   },
   {
    "duration": 48773,
    "start_time": "2024-05-15T06:33:32.702Z"
   },
   {
    "duration": 45097,
    "start_time": "2024-05-15T06:37:52.283Z"
   },
   {
    "duration": 39889,
    "start_time": "2024-05-15T06:38:37.388Z"
   },
   {
    "duration": 35197,
    "start_time": "2024-05-15T06:39:17.279Z"
   },
   {
    "duration": 50492,
    "start_time": "2024-05-15T06:42:25.184Z"
   },
   {
    "duration": 42097,
    "start_time": "2024-05-15T06:43:15.678Z"
   },
   {
    "duration": 30808,
    "start_time": "2024-05-15T06:43:57.776Z"
   },
   {
    "duration": 28187,
    "start_time": "2024-05-15T06:44:28.586Z"
   },
   {
    "duration": 3,
    "start_time": "2024-05-15T06:44:56.775Z"
   },
   {
    "duration": 9900,
    "start_time": "2024-05-15T06:44:56.781Z"
   },
   {
    "duration": 5495,
    "start_time": "2024-05-15T06:45:06.683Z"
   },
   {
    "duration": 5561,
    "start_time": "2024-05-15T06:45:12.180Z"
   },
   {
    "duration": 6433,
    "start_time": "2024-05-15T06:45:17.743Z"
   },
   {
    "duration": 950,
    "start_time": "2024-05-15T06:45:24.178Z"
   },
   {
    "duration": 667,
    "start_time": "2024-05-15T06:45:25.130Z"
   },
   {
    "duration": 704,
    "start_time": "2024-05-15T06:45:25.800Z"
   },
   {
    "duration": 620,
    "start_time": "2024-05-15T06:45:26.506Z"
   },
   {
    "duration": 8030,
    "start_time": "2024-05-15T06:45:27.128Z"
   },
   {
    "duration": 3,
    "start_time": "2024-05-15T06:46:20.278Z"
   },
   {
    "duration": 4311,
    "start_time": "2024-05-15T06:46:20.283Z"
   },
   {
    "duration": 2,
    "start_time": "2024-05-15T06:46:24.596Z"
   },
   {
    "duration": 1073,
    "start_time": "2024-05-15T06:46:24.600Z"
   },
   {
    "duration": 13,
    "start_time": "2024-05-15T06:46:25.675Z"
   },
   {
    "duration": 32,
    "start_time": "2024-05-15T06:46:25.691Z"
   },
   {
    "duration": 16,
    "start_time": "2024-05-15T06:46:25.725Z"
   },
   {
    "duration": 26,
    "start_time": "2024-05-15T06:46:25.742Z"
   },
   {
    "duration": 7,
    "start_time": "2024-05-15T06:46:25.769Z"
   },
   {
    "duration": 353,
    "start_time": "2024-05-15T06:46:25.777Z"
   },
   {
    "duration": 2,
    "start_time": "2024-05-15T06:46:26.132Z"
   },
   {
    "duration": 9,
    "start_time": "2024-05-15T06:46:26.136Z"
   },
   {
    "duration": 19,
    "start_time": "2024-05-15T06:46:26.148Z"
   },
   {
    "duration": 14,
    "start_time": "2024-05-15T06:46:26.169Z"
   },
   {
    "duration": 57623,
    "start_time": "2024-05-15T06:46:26.184Z"
   },
   {
    "duration": 4,
    "start_time": "2024-05-15T06:47:23.809Z"
   }
  ],
  "kernelspec": {
   "display_name": "Python 3 (ipykernel)",
   "language": "python",
   "name": "python3"
  },
  "language_info": {
   "codemirror_mode": {
    "name": "ipython",
    "version": 3
   },
   "file_extension": ".py",
   "mimetype": "text/x-python",
   "name": "python",
   "nbconvert_exporter": "python",
   "pygments_lexer": "ipython3",
   "version": "3.9.21"
  },
  "toc": {
   "base_numbering": 1,
   "nav_menu": {},
   "number_sections": true,
   "sideBar": true,
   "skip_h1_title": true,
   "title_cell": "Table of Contents",
   "title_sidebar": "Contents",
   "toc_cell": false,
   "toc_position": {
    "height": "calc(100% - 180px)",
    "left": "10px",
    "top": "150px",
    "width": "165px"
   },
   "toc_section_display": true,
   "toc_window_display": false
  }
 },
 "nbformat": 4,
 "nbformat_minor": 5
}

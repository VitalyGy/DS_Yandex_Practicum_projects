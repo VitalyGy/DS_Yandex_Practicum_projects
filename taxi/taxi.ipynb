{
 "cells": [
  {
   "cell_type": "markdown",
   "metadata": {},
   "source": [
    "# Прогноз количества заказов такси"
   ]
  },
  {
   "cell_type": "markdown",
   "metadata": {},
   "source": [
    "Компания «Чётенькое такси» собрала исторические данные о заказах такси в аэропортах. Чтобы привлекать больше водителей в период пиковой нагрузки, нужно спрогнозировать количество заказов такси на следующий час. Постройте модель для такого предсказания.\n",
    "\n",
    "Значение метрики *RMSE* на тестовой выборке должно быть не больше 48.\n",
    "\n",
    "Вам нужно:\n",
    "\n",
    "1. Загрузить данные и выполнить их ресемплирование по одному часу.\n",
    "2. Проанализировать данные.\n",
    "3. Обучить разные модели с различными гиперпараметрами. Сделать тестовую выборку размером 10% от исходных данных.\n",
    "4. Проверить данные на тестовой выборке и сделать выводы.\n",
    "\n",
    "\n",
    "Данные лежат в файле `taxi.csv`. Количество заказов находится в столбце `num_orders` (от англ. *number of orders*, «число заказов»)."
   ]
  },
  {
   "cell_type": "markdown",
   "metadata": {},
   "source": [
    "Введение:\n",
    "\n",
    "Компания «Чётенькое такси» собрала исторические данные о заказах такси в аэропортах. Чтобы привлекать больше водителей в период пиковой нагрузки, нужно спрогнозировать количество заказов такси на следующий час. \n",
    "\n",
    "Цель проекта:\n",
    "\n",
    "Постройте модель для предсказания количество заказов такси на следующий час.\n",
    "\n",
    "Содержание:\n",
    "1. Подготовка\n",
    "2. Анализ\n",
    "3. Обучение\n",
    "4. Тестирование"
   ]
  },
  {
   "cell_type": "code",
   "execution_count": 1,
   "metadata": {},
   "outputs": [],
   "source": [
    "import pandas as pd\n",
    "import numpy as np\n",
    "import os\n",
    "from matplotlib import pyplot as plt\n",
    "import seaborn as sns\n",
    "from statsmodels.tsa.seasonal import seasonal_decompose\n",
    "from sklearn.model_selection import train_test_split, cross_val_score\n",
    "from sklearn.linear_model import LinearRegression\n",
    "from sklearn.metrics import mean_squared_error\n",
    "from sklearn.tree import DecisionTreeRegressor"
   ]
  },
  {
   "cell_type": "code",
   "execution_count": 2,
   "metadata": {},
   "outputs": [],
   "source": [
    "RANDOM_STATE = 42"
   ]
  },
  {
   "cell_type": "markdown",
   "metadata": {},
   "source": [
    "## Подготовка"
   ]
  },
  {
   "cell_type": "code",
   "execution_count": 3,
   "metadata": {},
   "outputs": [],
   "source": [
    "pth1 = '/datasets/taxi.csv'\n",
    "pth2 = 'taxi.csv'\n",
    "if os.path.exists(pth1):\n",
    "    taxi = pd.read_csv(pth1, index_col=[0], parse_dates=[0])\n",
    "elif os.path.exists(pth2):\n",
    "    taxi = pd.read_csv(pth2, index_col=[0], parse_dates=[0])\n",
    "else:\n",
    "    print('Something is wrong')"
   ]
  },
  {
   "cell_type": "code",
   "execution_count": 4,
   "metadata": {},
   "outputs": [
    {
     "data": {
      "text/html": [
       "<div>\n",
       "<style scoped>\n",
       "    .dataframe tbody tr th:only-of-type {\n",
       "        vertical-align: middle;\n",
       "    }\n",
       "\n",
       "    .dataframe tbody tr th {\n",
       "        vertical-align: top;\n",
       "    }\n",
       "\n",
       "    .dataframe thead th {\n",
       "        text-align: right;\n",
       "    }\n",
       "</style>\n",
       "<table border=\"1\" class=\"dataframe\">\n",
       "  <thead>\n",
       "    <tr style=\"text-align: right;\">\n",
       "      <th></th>\n",
       "      <th>num_orders</th>\n",
       "    </tr>\n",
       "    <tr>\n",
       "      <th>datetime</th>\n",
       "      <th></th>\n",
       "    </tr>\n",
       "  </thead>\n",
       "  <tbody>\n",
       "    <tr>\n",
       "      <th>2018-03-01 00:00:00</th>\n",
       "      <td>9</td>\n",
       "    </tr>\n",
       "    <tr>\n",
       "      <th>2018-03-01 00:10:00</th>\n",
       "      <td>14</td>\n",
       "    </tr>\n",
       "    <tr>\n",
       "      <th>2018-03-01 00:20:00</th>\n",
       "      <td>28</td>\n",
       "    </tr>\n",
       "    <tr>\n",
       "      <th>2018-03-01 00:30:00</th>\n",
       "      <td>20</td>\n",
       "    </tr>\n",
       "    <tr>\n",
       "      <th>2018-03-01 00:40:00</th>\n",
       "      <td>32</td>\n",
       "    </tr>\n",
       "  </tbody>\n",
       "</table>\n",
       "</div>"
      ],
      "text/plain": [
       "                     num_orders\n",
       "datetime                       \n",
       "2018-03-01 00:00:00           9\n",
       "2018-03-01 00:10:00          14\n",
       "2018-03-01 00:20:00          28\n",
       "2018-03-01 00:30:00          20\n",
       "2018-03-01 00:40:00          32"
      ]
     },
     "execution_count": 4,
     "metadata": {},
     "output_type": "execute_result"
    }
   ],
   "source": [
    "taxi.head()"
   ]
  },
  {
   "cell_type": "code",
   "execution_count": 5,
   "metadata": {},
   "outputs": [
    {
     "data": {
      "text/plain": [
       "(26496, 1)"
      ]
     },
     "execution_count": 5,
     "metadata": {},
     "output_type": "execute_result"
    }
   ],
   "source": [
    "taxi.shape"
   ]
  },
  {
   "cell_type": "code",
   "execution_count": 6,
   "metadata": {},
   "outputs": [
    {
     "name": "stdout",
     "output_type": "stream",
     "text": [
      "<class 'pandas.core.frame.DataFrame'>\n",
      "DatetimeIndex: 26496 entries, 2018-03-01 00:00:00 to 2018-08-31 23:50:00\n",
      "Data columns (total 1 columns):\n",
      " #   Column      Non-Null Count  Dtype\n",
      "---  ------      --------------  -----\n",
      " 0   num_orders  26496 non-null  int64\n",
      "dtypes: int64(1)\n",
      "memory usage: 414.0 KB\n"
     ]
    }
   ],
   "source": [
    "taxi.info()"
   ]
  },
  {
   "cell_type": "code",
   "execution_count": 7,
   "metadata": {},
   "outputs": [],
   "source": [
    "# ресемплинг по по одному часу\n",
    "taxi = taxi.resample('1H').sum()"
   ]
  },
  {
   "cell_type": "code",
   "execution_count": 8,
   "metadata": {},
   "outputs": [
    {
     "data": {
      "text/plain": [
       "<AxesSubplot:xlabel='datetime'>"
      ]
     },
     "execution_count": 8,
     "metadata": {},
     "output_type": "execute_result"
    },
    {
     "data": {
      "image/png": "[encoded data removed]",
      "text/plain": [
       "<Figure size 640x480 with 1 Axes>"
      ]
     },
     "metadata": {},
     "output_type": "display_data"
    }
   ],
   "source": [
    "taxi.plot()"
   ]
  },
  {
   "cell_type": "markdown",
   "metadata": {},
   "source": [
    "Загрузил данные. Провел ресемплинг по одному часу. Дубликатов нет."
   ]
  },
  {
   "cell_type": "markdown",
   "metadata": {},
   "source": [
    "## Анализ"
   ]
  },
  {
   "cell_type": "code",
   "execution_count": 9,
   "metadata": {},
   "outputs": [
    {
     "data": {
      "text/html": [
       "<div>\n",
       "<style scoped>\n",
       "    .dataframe tbody tr th:only-of-type {\n",
       "        vertical-align: middle;\n",
       "    }\n",
       "\n",
       "    .dataframe tbody tr th {\n",
       "        vertical-align: top;\n",
       "    }\n",
       "\n",
       "    .dataframe thead th {\n",
       "        text-align: right;\n",
       "    }\n",
       "</style>\n",
       "<table border=\"1\" class=\"dataframe\">\n",
       "  <thead>\n",
       "    <tr style=\"text-align: right;\">\n",
       "      <th></th>\n",
       "      <th>num_orders</th>\n",
       "    </tr>\n",
       "  </thead>\n",
       "  <tbody>\n",
       "    <tr>\n",
       "      <th>count</th>\n",
       "      <td>4416.000000</td>\n",
       "    </tr>\n",
       "    <tr>\n",
       "      <th>mean</th>\n",
       "      <td>84.422781</td>\n",
       "    </tr>\n",
       "    <tr>\n",
       "      <th>std</th>\n",
       "      <td>45.023853</td>\n",
       "    </tr>\n",
       "    <tr>\n",
       "      <th>min</th>\n",
       "      <td>0.000000</td>\n",
       "    </tr>\n",
       "    <tr>\n",
       "      <th>25%</th>\n",
       "      <td>54.000000</td>\n",
       "    </tr>\n",
       "    <tr>\n",
       "      <th>50%</th>\n",
       "      <td>78.000000</td>\n",
       "    </tr>\n",
       "    <tr>\n",
       "      <th>75%</th>\n",
       "      <td>107.000000</td>\n",
       "    </tr>\n",
       "    <tr>\n",
       "      <th>max</th>\n",
       "      <td>462.000000</td>\n",
       "    </tr>\n",
       "  </tbody>\n",
       "</table>\n",
       "</div>"
      ],
      "text/plain": [
       "        num_orders\n",
       "count  4416.000000\n",
       "mean     84.422781\n",
       "std      45.023853\n",
       "min       0.000000\n",
       "25%      54.000000\n",
       "50%      78.000000\n",
       "75%     107.000000\n",
       "max     462.000000"
      ]
     },
     "execution_count": 9,
     "metadata": {},
     "output_type": "execute_result"
    }
   ],
   "source": [
    "taxi.describe()"
   ]
  },
  {
   "cell_type": "code",
   "execution_count": 10,
   "metadata": {},
   "outputs": [],
   "source": [
    "def boxplot_(df, column):\n",
    "    fig, axes = plt.subplots(nrows=1, ncols=2, figsize=(12, 6))\n",
    "\n",
    "    sns.boxplot(data=df, x=column, ax=axes[0])\n",
    "    axes[0].set_title(f'Ящик с усами для столбца \"{column}\"')\n",
    "    axes[0].set_ylabel('Количество')\n",
    "\n",
    "    sns.histplot(data=df, x=column, kde=True, ax=axes[1])\n",
    "    axes[1].set_title(f'Гистограмма для столбца \"{column}\"')\n",
    "    axes[1].set_ylabel('Частота')\n",
    "\n",
    "    plt.tight_layout()\n",
    "    plt.show()"
   ]
  },
  {
   "cell_type": "code",
   "execution_count": 11,
   "metadata": {
    "scrolled": true
   },
   "outputs": [
    {
     "data": {
      "image/png": "[encoded data removed]",
      "text/plain": [
       "<Figure size 1200x600 with 2 Axes>"
      ]
     },
     "metadata": {},
     "output_type": "display_data"
    }
   ],
   "source": [
    "boxplot_(taxi, 'num_orders')"
   ]
  },
  {
   "cell_type": "code",
   "execution_count": 12,
   "metadata": {
    "scrolled": true
   },
   "outputs": [
    {
     "data": {
      "image/png": "[encoded data removed]",
      "text/plain": [
       "<Figure size 600x800 with 3 Axes>"
      ]
     },
     "metadata": {},
     "output_type": "display_data"
    }
   ],
   "source": [
    "decomposed = seasonal_decompose(taxi)\n",
    "plt.figure(figsize=(6, 8))\n",
    "plt.subplot(311)\n",
    "decomposed.trend.plot(ax=plt.gca())\n",
    "plt.title('Trend')\n",
    "plt.subplot(312)\n",
    "decomposed.seasonal.plot(ax=plt.gca())\n",
    "plt.title('Seasonality')\n",
    "plt.subplot(313)\n",
    "decomposed.resid.plot(ax=plt.gca()) \n",
    "plt.title('Residuals')\n",
    "plt.tight_layout()"
   ]
  },
  {
   "cell_type": "code",
   "execution_count": 13,
   "metadata": {},
   "outputs": [
    {
     "data": {
      "image/png": "[encoded data removed]",
      "text/plain": [
       "<Figure size 1000x800 with 3 Axes>"
      ]
     },
     "metadata": {},
     "output_type": "display_data"
    }
   ],
   "source": [
    "decomposed = seasonal_decompose(taxi)\n",
    "plt.figure(figsize=(10, 8))\n",
    "plt.subplot(311)\n",
    "decomposed.trend['2018-07-31':'2018-08-31'].plot(ax=plt.gca())\n",
    "plt.title('Trend')\n",
    "plt.subplot(312)\n",
    "decomposed.seasonal['2018-07-31':'2018-08-31'].plot(ax=plt.gca())\n",
    "plt.title('Seasonality')\n",
    "plt.subplot(313)\n",
    "decomposed.resid['2018-07-31':'2018-08-31'].plot(ax=plt.gca()) \n",
    "plt.title('Residuals')\n",
    "plt.tight_layout()"
   ]
  },
  {
   "cell_type": "markdown",
   "metadata": {},
   "source": [
    "Провел анализ целевого признака num_orders количество заказов. 462 заказа рекордное значение. В среднем 78 заказов в час. На графиках вижу заканомерное увеличение количество заказов к концу лета. В рамках августа, там находится наша тестовая выборка, также вижу увеличение количества заказов к концу месяца. На графике сезонности видно закономерное изменение количества заказа в течении суток."
   ]
  },
  {
   "cell_type": "markdown",
   "metadata": {},
   "source": [
    "## Обучение"
   ]
  },
  {
   "cell_type": "code",
   "execution_count": 14,
   "metadata": {},
   "outputs": [],
   "source": [
    "def make_features(df, max_lag, rolling_mean_size):\n",
    "    data = df.copy()\n",
    "    data['year'] = data.index.year\n",
    "    data['month'] = data.index.month\n",
    "    data['day'] = data.index.day\n",
    "    data['dayofweek'] = data.index.dayofweek\n",
    "    for lag in range(1, max_lag + 1):\n",
    "        data['lag_{}'.format(lag)] = data['num_orders'].shift(lag)\n",
    "    data['rolling_mean'] = data['num_orders'].shift().rolling(rolling_mean_size).mean()\n",
    "    return data"
   ]
  },
  {
   "cell_type": "code",
   "execution_count": 16,
   "metadata": {},
   "outputs": [],
   "source": [
    "rmse_array = []\n",
    "max_lag_array = []\n",
    "rolling_mean_size__array = []\n",
    "for i in range(1, 30):\n",
    "    for k in range(1, 30):\n",
    "        data = make_features(taxi, i, k)\n",
    "        train, test_valid = train_test_split(data, shuffle=False, test_size=0.2)\n",
    "        valid, test = train_test_split(test_valid, shuffle=False, test_size=0.5)\n",
    "        train = train.dropna()\n",
    "        X_train = train.drop(columns=['num_orders'])\n",
    "        y_train = train['num_orders']\n",
    "        X_valid = valid.drop(columns=['num_orders'])\n",
    "        y_valid = valid['num_orders']\n",
    "        X_test = test.drop(columns=['num_orders'])\n",
    "        y_test = test['num_orders']\n",
    "        model = LinearRegression()\n",
    "        model.fit(X_train, y_train)\n",
    "        preds = model.predict(X_valid)\n",
    "        rmse = np.sqrt(mean_squared_error(y_valid, preds))\n",
    "        rmse_array.append(rmse)\n",
    "        max_lag_array.append(i)\n",
    "        rolling_mean_size__array.append(k)"
   ]
  },
  {
   "cell_type": "code",
   "execution_count": 17,
   "metadata": {},
   "outputs": [],
   "source": [
    "lr = pd.DataFrame({\n",
    "    'rmse': rmse_array,\n",
    "    'max_lag': max_lag_array,\n",
    "    'rolling_mean_size': rolling_mean_size__array\n",
    "}).sort_values(by='rmse').reset_index(drop=True)"
   ]
  },
  {
   "cell_type": "code",
   "execution_count": 18,
   "metadata": {},
   "outputs": [
    {
     "data": {
      "text/html": [
       "<div>\n",
       "<style scoped>\n",
       "    .dataframe tbody tr th:only-of-type {\n",
       "        vertical-align: middle;\n",
       "    }\n",
       "\n",
       "    .dataframe tbody tr th {\n",
       "        vertical-align: top;\n",
       "    }\n",
       "\n",
       "    .dataframe thead th {\n",
       "        text-align: right;\n",
       "    }\n",
       "</style>\n",
       "<table border=\"1\" class=\"dataframe\">\n",
       "  <thead>\n",
       "    <tr style=\"text-align: right;\">\n",
       "      <th></th>\n",
       "      <th>rmse</th>\n",
       "      <th>max_lag</th>\n",
       "      <th>rolling_mean_size</th>\n",
       "    </tr>\n",
       "  </thead>\n",
       "  <tbody>\n",
       "    <tr>\n",
       "      <th>0</th>\n",
       "      <td>34.005786</td>\n",
       "      <td>27</td>\n",
       "      <td>26</td>\n",
       "    </tr>\n",
       "    <tr>\n",
       "      <th>1</th>\n",
       "      <td>34.005786</td>\n",
       "      <td>27</td>\n",
       "      <td>17</td>\n",
       "    </tr>\n",
       "    <tr>\n",
       "      <th>2</th>\n",
       "      <td>34.005786</td>\n",
       "      <td>27</td>\n",
       "      <td>10</td>\n",
       "    </tr>\n",
       "    <tr>\n",
       "      <th>3</th>\n",
       "      <td>34.005786</td>\n",
       "      <td>27</td>\n",
       "      <td>22</td>\n",
       "    </tr>\n",
       "    <tr>\n",
       "      <th>4</th>\n",
       "      <td>34.005786</td>\n",
       "      <td>27</td>\n",
       "      <td>19</td>\n",
       "    </tr>\n",
       "    <tr>\n",
       "      <th>...</th>\n",
       "      <td>...</td>\n",
       "      <td>...</td>\n",
       "      <td>...</td>\n",
       "    </tr>\n",
       "    <tr>\n",
       "      <th>836</th>\n",
       "      <td>40.841807</td>\n",
       "      <td>2</td>\n",
       "      <td>2</td>\n",
       "    </tr>\n",
       "    <tr>\n",
       "      <th>837</th>\n",
       "      <td>40.841807</td>\n",
       "      <td>1</td>\n",
       "      <td>2</td>\n",
       "    </tr>\n",
       "    <tr>\n",
       "      <th>838</th>\n",
       "      <td>40.851225</td>\n",
       "      <td>2</td>\n",
       "      <td>28</td>\n",
       "    </tr>\n",
       "    <tr>\n",
       "      <th>839</th>\n",
       "      <td>40.859620</td>\n",
       "      <td>2</td>\n",
       "      <td>29</td>\n",
       "    </tr>\n",
       "    <tr>\n",
       "      <th>840</th>\n",
       "      <td>40.860751</td>\n",
       "      <td>2</td>\n",
       "      <td>23</td>\n",
       "    </tr>\n",
       "  </tbody>\n",
       "</table>\n",
       "<p>841 rows × 3 columns</p>\n",
       "</div>"
      ],
      "text/plain": [
       "          rmse  max_lag  rolling_mean_size\n",
       "0    34.005786       27                 26\n",
       "1    34.005786       27                 17\n",
       "2    34.005786       27                 10\n",
       "3    34.005786       27                 22\n",
       "4    34.005786       27                 19\n",
       "..         ...      ...                ...\n",
       "836  40.841807        2                  2\n",
       "837  40.841807        1                  2\n",
       "838  40.851225        2                 28\n",
       "839  40.859620        2                 29\n",
       "840  40.860751        2                 23\n",
       "\n",
       "[841 rows x 3 columns]"
      ]
     },
     "execution_count": 18,
     "metadata": {},
     "output_type": "execute_result"
    }
   ],
   "source": [
    "lr"
   ]
  },
  {
   "cell_type": "code",
   "execution_count": 21,
   "metadata": {},
   "outputs": [],
   "source": [
    "rmse_array = []\n",
    "max_lag_array = []\n",
    "rolling_mean_size__array = []\n",
    "max_depth_array = []\n",
    "min_samples_leaf_array = []\n",
    "for i in range(1, 30):\n",
    "    for k in range(1, 30):\n",
    "        for max_depth in range(2, 5):\n",
    "            for min_samples_leaf in range(2, 5):\n",
    "                data = make_features(taxi, i, k)\n",
    "                train, test_valid = train_test_split(data, shuffle=False, test_size=0.2)\n",
    "                valid, test = train_test_split(test_valid, shuffle=False, test_size=0.5)\n",
    "                train = train.dropna()\n",
    "                X_train = train.drop(columns=['num_orders'])\n",
    "                y_train = train['num_orders']\n",
    "                X_valid = valid.drop(columns=['num_orders'])\n",
    "                y_valid = valid['num_orders']\n",
    "                X_test = test.drop(columns=['num_orders'])\n",
    "                y_test = test['num_orders']\n",
    "                model = DecisionTreeRegressor(random_state=RANDOM_STATE,\n",
    "                                              max_depth=max_depth,\n",
    "                                              min_samples_leaf=min_samples_leaf)\n",
    "                model.fit(X_train, y_train)\n",
    "                preds = model.predict(X_valid)\n",
    "                rmse = np.sqrt(mean_squared_error(y_valid, preds))\n",
    "                rmse_array.append(rmse)\n",
    "                max_lag_array.append(i)\n",
    "                rolling_mean_size__array.append(k)\n",
    "                max_depth_array.append(max_depth)\n",
    "                min_samples_leaf_array.append(min_samples_leaf)"
   ]
  },
  {
   "cell_type": "code",
   "execution_count": 22,
   "metadata": {},
   "outputs": [],
   "source": [
    "tree = pd.DataFrame({\n",
    "    'rmse': rmse_array,\n",
    "    'max_lag': max_lag_array,\n",
    "    'rolling_mean_size': rolling_mean_size__array,\n",
    "    'max_depth': max_depth_array,\n",
    "    'min_samples_leaf': min_samples_leaf_array\n",
    "}).sort_values(by='rmse').reset_index(drop=True)"
   ]
  },
  {
   "cell_type": "code",
   "execution_count": 23,
   "metadata": {},
   "outputs": [
    {
     "data": {
      "text/html": [
       "<div>\n",
       "<style scoped>\n",
       "    .dataframe tbody tr th:only-of-type {\n",
       "        vertical-align: middle;\n",
       "    }\n",
       "\n",
       "    .dataframe tbody tr th {\n",
       "        vertical-align: top;\n",
       "    }\n",
       "\n",
       "    .dataframe thead th {\n",
       "        text-align: right;\n",
       "    }\n",
       "</style>\n",
       "<table border=\"1\" class=\"dataframe\">\n",
       "  <thead>\n",
       "    <tr style=\"text-align: right;\">\n",
       "      <th></th>\n",
       "      <th>rmse</th>\n",
       "      <th>max_lag</th>\n",
       "      <th>rolling_mean_size</th>\n",
       "      <th>max_depth</th>\n",
       "      <th>min_samples_leaf</th>\n",
       "    </tr>\n",
       "  </thead>\n",
       "  <tbody>\n",
       "    <tr>\n",
       "      <th>0</th>\n",
       "      <td>39.910486</td>\n",
       "      <td>28</td>\n",
       "      <td>14</td>\n",
       "      <td>4</td>\n",
       "      <td>3</td>\n",
       "    </tr>\n",
       "    <tr>\n",
       "      <th>1</th>\n",
       "      <td>39.910486</td>\n",
       "      <td>28</td>\n",
       "      <td>14</td>\n",
       "      <td>4</td>\n",
       "      <td>4</td>\n",
       "    </tr>\n",
       "    <tr>\n",
       "      <th>2</th>\n",
       "      <td>39.910556</td>\n",
       "      <td>29</td>\n",
       "      <td>14</td>\n",
       "      <td>4</td>\n",
       "      <td>4</td>\n",
       "    </tr>\n",
       "    <tr>\n",
       "      <th>3</th>\n",
       "      <td>39.910556</td>\n",
       "      <td>29</td>\n",
       "      <td>14</td>\n",
       "      <td>4</td>\n",
       "      <td>3</td>\n",
       "    </tr>\n",
       "    <tr>\n",
       "      <th>4</th>\n",
       "      <td>39.911522</td>\n",
       "      <td>25</td>\n",
       "      <td>14</td>\n",
       "      <td>4</td>\n",
       "      <td>3</td>\n",
       "    </tr>\n",
       "    <tr>\n",
       "      <th>...</th>\n",
       "      <td>...</td>\n",
       "      <td>...</td>\n",
       "      <td>...</td>\n",
       "      <td>...</td>\n",
       "      <td>...</td>\n",
       "    </tr>\n",
       "    <tr>\n",
       "      <th>7564</th>\n",
       "      <td>48.677689</td>\n",
       "      <td>3</td>\n",
       "      <td>3</td>\n",
       "      <td>2</td>\n",
       "      <td>4</td>\n",
       "    </tr>\n",
       "    <tr>\n",
       "      <th>7565</th>\n",
       "      <td>48.677689</td>\n",
       "      <td>3</td>\n",
       "      <td>3</td>\n",
       "      <td>2</td>\n",
       "      <td>3</td>\n",
       "    </tr>\n",
       "    <tr>\n",
       "      <th>7566</th>\n",
       "      <td>48.677689</td>\n",
       "      <td>3</td>\n",
       "      <td>3</td>\n",
       "      <td>2</td>\n",
       "      <td>2</td>\n",
       "    </tr>\n",
       "    <tr>\n",
       "      <th>7567</th>\n",
       "      <td>48.677689</td>\n",
       "      <td>2</td>\n",
       "      <td>3</td>\n",
       "      <td>2</td>\n",
       "      <td>2</td>\n",
       "    </tr>\n",
       "    <tr>\n",
       "      <th>7568</th>\n",
       "      <td>48.677689</td>\n",
       "      <td>2</td>\n",
       "      <td>3</td>\n",
       "      <td>2</td>\n",
       "      <td>3</td>\n",
       "    </tr>\n",
       "  </tbody>\n",
       "</table>\n",
       "<p>7569 rows × 5 columns</p>\n",
       "</div>"
      ],
      "text/plain": [
       "           rmse  max_lag  rolling_mean_size  max_depth  min_samples_leaf\n",
       "0     39.910486       28                 14          4                 3\n",
       "1     39.910486       28                 14          4                 4\n",
       "2     39.910556       29                 14          4                 4\n",
       "3     39.910556       29                 14          4                 3\n",
       "4     39.911522       25                 14          4                 3\n",
       "...         ...      ...                ...        ...               ...\n",
       "7564  48.677689        3                  3          2                 4\n",
       "7565  48.677689        3                  3          2                 3\n",
       "7566  48.677689        3                  3          2                 2\n",
       "7567  48.677689        2                  3          2                 2\n",
       "7568  48.677689        2                  3          2                 3\n",
       "\n",
       "[7569 rows x 5 columns]"
      ]
     },
     "execution_count": 23,
     "metadata": {},
     "output_type": "execute_result"
    }
   ],
   "source": [
    "tree"
   ]
  },
  {
   "cell_type": "markdown",
   "metadata": {},
   "source": [
    "Обучил модели методом линейной регресии и дерево принятие решения с разными гиперпараметрами."
   ]
  },
  {
   "cell_type": "markdown",
   "metadata": {},
   "source": [
    "## Тестирование"
   ]
  },
  {
   "cell_type": "code",
   "execution_count": 26,
   "metadata": {},
   "outputs": [
    {
     "data": {
      "text/plain": [
       "46.9646476354985"
      ]
     },
     "execution_count": 26,
     "metadata": {},
     "output_type": "execute_result"
    }
   ],
   "source": [
    "data = make_features(taxi, 27, 19)\n",
    "train, test_valid = train_test_split(data, shuffle=False, test_size=0.2)\n",
    "valid, test = train_test_split(test_valid, shuffle=False, test_size=0.5)\n",
    "train = train.dropna()\n",
    "X_train = train.drop(columns=['num_orders'])\n",
    "y_train = train['num_orders']\n",
    "X_valid = valid.drop(columns=['num_orders'])\n",
    "y_valid = valid['num_orders']\n",
    "X_test = test.drop(columns=['num_orders'])\n",
    "y_test = test['num_orders']\n",
    "model = LinearRegression()\n",
    "model.fit(X_train, y_train)\n",
    "preds = model.predict(X_test)\n",
    "np.sqrt(mean_squared_error(y_test, preds))"
   ]
  },
  {
   "cell_type": "code",
   "execution_count": 28,
   "metadata": {},
   "outputs": [
    {
     "data": {
      "text/plain": [
       "46.034249633172585"
      ]
     },
     "execution_count": 28,
     "metadata": {},
     "output_type": "execute_result"
    }
   ],
   "source": [
    "data = make_features(taxi, 27, 19)\n",
    "train, test = train_test_split(data, shuffle=False, test_size=0.1)\n",
    "train = train.dropna()\n",
    "X_train = train.drop(columns=['num_orders'])\n",
    "y_train = train['num_orders']\n",
    "X_test = test.drop(columns=['num_orders'])\n",
    "y_test = test['num_orders']\n",
    "model = LinearRegression()\n",
    "model.fit(X_train, y_train)\n",
    "preds = model.predict(X_test)\n",
    "np.sqrt(mean_squared_error(y_test, preds))"
   ]
  },
  {
   "cell_type": "markdown",
   "metadata": {},
   "source": [
    "В результате подбора гиперпараметров я остановился на модели линейной регресии с гиперпараметрами: max_lag = 27 rolling_mean_size = 19. При проверке на тестовых данных модель показывает результат : rmse = 44"
   ]
  },
  {
   "cell_type": "markdown",
   "metadata": {},
   "source": [
    "# Общий вывод: \n",
    "\n",
    "Цель проекта было: постройть модель для предсказания количество заказов такси на следующий час. Условием было: Значение метрики RMSE на тестовой выборке должно быть не больше 48.\n",
    "\n",
    "Загрузил данные. Провел ресемплинг по одному часу. Дубликатов нет.\n",
    "\n",
    "Провел анализ целевого признака num_orders количество заказов. 462 заказа рекордное значение. В среднем 78 заказов в час. На графиках вижу заканомерное увеличение количество заказов к концу лета. В рамках августа, там находится наша тестовая выборка, также вижу увеличение количества заказов к концу месяца. На графике сезонности видно закономерное изменение количества заказа в течении суток.\n",
    "\n",
    "Обучил модели методом линейной регресии и дерево принятие решения с разными гиперпараметрами.\n",
    "\n",
    "В результате подбора гиперпараметров я остановился на модели линейной регресии с гиперпараметрами: max_lag = 27 rolling_mean_size = 19. При проверке на тестовых данных модель показывает результат : rmse = 46"
   ]
  }
 ],
 "metadata": {
  "ExecuteTimeLog": [
   {
    "duration": 4,
    "start_time": "2024-04-19T07:55:31.625Z"
   },
   {
    "duration": 1671,
    "start_time": "2024-04-19T08:03:17.052Z"
   },
   {
    "duration": 24,
    "start_time": "2024-04-19T08:03:45.701Z"
   },
   {
    "duration": 3,
    "start_time": "2024-04-19T08:03:49.502Z"
   },
   {
    "duration": 96,
    "start_time": "2024-04-19T08:03:51.335Z"
   },
   {
    "duration": 14,
    "start_time": "2024-04-19T08:03:53.223Z"
   },
   {
    "duration": 4,
    "start_time": "2024-04-19T08:03:55.285Z"
   },
   {
    "duration": 10,
    "start_time": "2024-04-19T08:03:57.239Z"
   },
   {
    "duration": 9,
    "start_time": "2024-04-19T08:03:59.991Z"
   },
   {
    "duration": 237,
    "start_time": "2024-04-19T08:04:01.767Z"
   },
   {
    "duration": 12,
    "start_time": "2024-04-19T08:04:07.205Z"
   },
   {
    "duration": 5,
    "start_time": "2024-04-19T08:04:12.559Z"
   },
   {
    "duration": 495,
    "start_time": "2024-04-19T08:04:14.278Z"
   },
   {
    "duration": 4,
    "start_time": "2024-04-19T08:04:26.526Z"
   },
   {
    "duration": 2,
    "start_time": "2024-04-19T08:05:49.927Z"
   },
   {
    "duration": 101444,
    "start_time": "2024-04-19T08:05:55.340Z"
   },
   {
    "duration": 6,
    "start_time": "2024-04-19T08:07:42.495Z"
   },
   {
    "duration": 7,
    "start_time": "2024-04-19T08:07:48.152Z"
   },
   {
    "duration": 3,
    "start_time": "2024-04-19T08:08:08.305Z"
   },
   {
    "duration": 244543,
    "start_time": "2024-04-19T08:08:47.794Z"
   },
   {
    "duration": 12,
    "start_time": "2024-04-19T08:15:20.630Z"
   },
   {
    "duration": 7,
    "start_time": "2024-04-19T08:15:24.717Z"
   },
   {
    "duration": 1374,
    "start_time": "2024-04-19T08:21:13.152Z"
   },
   {
    "duration": 2,
    "start_time": "2024-04-19T08:21:14.528Z"
   },
   {
    "duration": 74,
    "start_time": "2024-04-19T08:21:14.531Z"
   },
   {
    "duration": 9,
    "start_time": "2024-04-19T08:21:14.607Z"
   },
   {
    "duration": 3,
    "start_time": "2024-04-19T08:21:14.618Z"
   },
   {
    "duration": 10,
    "start_time": "2024-04-19T08:21:14.622Z"
   },
   {
    "duration": 8,
    "start_time": "2024-04-19T08:21:14.633Z"
   },
   {
    "duration": 235,
    "start_time": "2024-04-19T08:21:14.642Z"
   },
   {
    "duration": 11,
    "start_time": "2024-04-19T08:21:14.879Z"
   },
   {
    "duration": 24,
    "start_time": "2024-04-19T08:21:14.892Z"
   },
   {
    "duration": 494,
    "start_time": "2024-04-19T08:21:14.918Z"
   },
   {
    "duration": 4,
    "start_time": "2024-04-19T08:21:15.413Z"
   },
   {
    "duration": 37,
    "start_time": "2024-04-19T08:21:15.418Z"
   },
   {
    "duration": 103219,
    "start_time": "2024-04-19T08:21:15.457Z"
   },
   {
    "duration": 91,
    "start_time": "2024-04-19T08:22:58.678Z"
   },
   {
    "duration": 115,
    "start_time": "2024-04-19T08:22:58.773Z"
   },
   {
    "duration": 13,
    "start_time": "2024-04-19T08:22:58.890Z"
   },
   {
    "duration": 251461,
    "start_time": "2024-04-19T08:22:58.905Z"
   },
   {
    "duration": 12,
    "start_time": "2024-04-19T08:27:10.368Z"
   },
   {
    "duration": 36,
    "start_time": "2024-04-19T08:27:10.382Z"
   },
   {
    "duration": 245,
    "start_time": "2024-04-19T08:27:10.420Z"
   },
   {
    "duration": 1360,
    "start_time": "2024-04-19T08:28:46.881Z"
   },
   {
    "duration": 3,
    "start_time": "2024-04-19T08:28:48.243Z"
   },
   {
    "duration": 65,
    "start_time": "2024-04-19T08:28:48.248Z"
   },
   {
    "duration": 12,
    "start_time": "2024-04-19T08:28:48.315Z"
   },
   {
    "duration": 5,
    "start_time": "2024-04-19T08:28:48.329Z"
   },
   {
    "duration": 17,
    "start_time": "2024-04-19T08:28:48.335Z"
   },
   {
    "duration": 10,
    "start_time": "2024-04-19T08:28:48.354Z"
   },
   {
    "duration": 232,
    "start_time": "2024-04-19T08:28:48.366Z"
   },
   {
    "duration": 12,
    "start_time": "2024-04-19T08:28:48.599Z"
   },
   {
    "duration": 4,
    "start_time": "2024-04-19T08:28:48.612Z"
   },
   {
    "duration": 509,
    "start_time": "2024-04-19T08:28:48.617Z"
   },
   {
    "duration": 4,
    "start_time": "2024-04-19T08:28:49.127Z"
   },
   {
    "duration": 5,
    "start_time": "2024-04-19T08:28:49.132Z"
   },
   {
    "duration": 105427,
    "start_time": "2024-04-19T08:28:49.139Z"
   },
   {
    "duration": 96,
    "start_time": "2024-04-19T08:30:34.569Z"
   },
   {
    "duration": 12,
    "start_time": "2024-04-19T08:30:34.667Z"
   },
   {
    "duration": 13,
    "start_time": "2024-04-19T08:30:34.680Z"
   },
   {
    "duration": 246458,
    "start_time": "2024-04-19T08:30:34.695Z"
   },
   {
    "duration": 14,
    "start_time": "2024-04-19T08:34:41.155Z"
   },
   {
    "duration": 10,
    "start_time": "2024-04-19T08:34:41.170Z"
   },
   {
    "duration": 87,
    "start_time": "2024-04-19T08:34:41.181Z"
   },
   {
    "duration": 1376,
    "start_time": "2024-04-19T08:36:09.013Z"
   },
   {
    "duration": 3,
    "start_time": "2024-04-19T08:36:10.391Z"
   },
   {
    "duration": 55,
    "start_time": "2024-04-19T08:36:10.395Z"
   },
   {
    "duration": 13,
    "start_time": "2024-04-19T08:36:10.452Z"
   },
   {
    "duration": 13,
    "start_time": "2024-04-19T08:36:10.466Z"
   },
   {
    "duration": 14,
    "start_time": "2024-04-19T08:36:10.481Z"
   },
   {
    "duration": 8,
    "start_time": "2024-04-19T08:36:10.497Z"
   },
   {
    "duration": 270,
    "start_time": "2024-04-19T08:36:10.506Z"
   },
   {
    "duration": 14,
    "start_time": "2024-04-19T08:36:10.777Z"
   },
   {
    "duration": 6,
    "start_time": "2024-04-19T08:36:10.794Z"
   },
   {
    "duration": 517,
    "start_time": "2024-04-19T08:36:10.801Z"
   },
   {
    "duration": 4,
    "start_time": "2024-04-19T08:36:11.320Z"
   },
   {
    "duration": 9,
    "start_time": "2024-04-19T08:36:11.326Z"
   },
   {
    "duration": 105632,
    "start_time": "2024-04-19T08:36:11.336Z"
   },
   {
    "duration": 96,
    "start_time": "2024-04-19T08:37:56.971Z"
   },
   {
    "duration": 100,
    "start_time": "2024-04-19T08:37:57.069Z"
   },
   {
    "duration": 31,
    "start_time": "2024-04-19T08:37:57.171Z"
   },
   {
    "duration": 244175,
    "start_time": "2024-04-19T08:37:57.204Z"
   },
   {
    "duration": 12,
    "start_time": "2024-04-19T08:42:01.380Z"
   },
   {
    "duration": 126,
    "start_time": "2024-04-19T08:42:01.394Z"
   },
   {
    "duration": 244,
    "start_time": "2024-04-19T08:42:01.522Z"
   },
   {
    "duration": 4,
    "start_time": "2024-04-19T08:46:51.624Z"
   },
   {
    "duration": 29,
    "start_time": "2024-04-19T08:47:04.101Z"
   },
   {
    "duration": 1318,
    "start_time": "2024-04-19T08:47:47.011Z"
   },
   {
    "duration": 2,
    "start_time": "2024-04-19T08:47:48.331Z"
   },
   {
    "duration": 58,
    "start_time": "2024-04-19T08:47:48.335Z"
   },
   {
    "duration": 17,
    "start_time": "2024-04-19T08:47:48.395Z"
   },
   {
    "duration": 5,
    "start_time": "2024-04-19T08:47:48.415Z"
   },
   {
    "duration": 19,
    "start_time": "2024-04-19T08:47:48.422Z"
   },
   {
    "duration": 22,
    "start_time": "2024-04-19T08:47:48.443Z"
   },
   {
    "duration": 290,
    "start_time": "2024-04-19T08:47:48.466Z"
   },
   {
    "duration": 17,
    "start_time": "2024-04-19T08:47:48.758Z"
   },
   {
    "duration": 6,
    "start_time": "2024-04-19T08:47:48.777Z"
   },
   {
    "duration": 513,
    "start_time": "2024-04-19T08:47:48.785Z"
   },
   {
    "duration": 46,
    "start_time": "2024-04-19T08:47:49.300Z"
   },
   {
    "duration": 0,
    "start_time": "2024-04-19T08:47:49.348Z"
   },
   {
    "duration": 0,
    "start_time": "2024-04-19T08:47:49.350Z"
   },
   {
    "duration": 0,
    "start_time": "2024-04-19T08:47:49.351Z"
   },
   {
    "duration": 0,
    "start_time": "2024-04-19T08:47:49.353Z"
   },
   {
    "duration": 0,
    "start_time": "2024-04-19T08:47:49.354Z"
   },
   {
    "duration": 0,
    "start_time": "2024-04-19T08:47:49.357Z"
   },
   {
    "duration": 0,
    "start_time": "2024-04-19T08:47:49.358Z"
   },
   {
    "duration": 0,
    "start_time": "2024-04-19T08:47:49.359Z"
   },
   {
    "duration": 0,
    "start_time": "2024-04-19T08:47:49.360Z"
   },
   {
    "duration": 0,
    "start_time": "2024-04-19T08:47:49.361Z"
   },
   {
    "duration": 9,
    "start_time": "2024-04-19T08:48:03.957Z"
   },
   {
    "duration": 4,
    "start_time": "2024-04-19T08:48:07.134Z"
   },
   {
    "duration": 8,
    "start_time": "2024-04-19T08:48:08.365Z"
   },
   {
    "duration": 106048,
    "start_time": "2024-04-19T08:48:22.519Z"
   },
   {
    "duration": 5,
    "start_time": "2024-04-19T08:50:17.088Z"
   },
   {
    "duration": 7,
    "start_time": "2024-04-19T08:50:18.039Z"
   },
   {
    "duration": 31,
    "start_time": "2024-04-19T08:50:21.609Z"
   },
   {
    "duration": 1371,
    "start_time": "2024-04-19T08:51:20.880Z"
   },
   {
    "duration": 2,
    "start_time": "2024-04-19T08:51:22.254Z"
   },
   {
    "duration": 62,
    "start_time": "2024-04-19T08:51:22.258Z"
   },
   {
    "duration": 9,
    "start_time": "2024-04-19T08:51:22.322Z"
   },
   {
    "duration": 13,
    "start_time": "2024-04-19T08:51:22.333Z"
   },
   {
    "duration": 14,
    "start_time": "2024-04-19T08:51:22.347Z"
   },
   {
    "duration": 7,
    "start_time": "2024-04-19T08:51:22.363Z"
   },
   {
    "duration": 223,
    "start_time": "2024-04-19T08:51:22.372Z"
   },
   {
    "duration": 12,
    "start_time": "2024-04-19T08:51:22.596Z"
   },
   {
    "duration": 3,
    "start_time": "2024-04-19T08:51:22.609Z"
   },
   {
    "duration": 496,
    "start_time": "2024-04-19T08:51:22.614Z"
   },
   {
    "duration": 60,
    "start_time": "2024-04-19T08:51:23.112Z"
   },
   {
    "duration": 0,
    "start_time": "2024-04-19T08:51:23.174Z"
   },
   {
    "duration": 0,
    "start_time": "2024-04-19T08:51:23.176Z"
   },
   {
    "duration": 0,
    "start_time": "2024-04-19T08:51:23.178Z"
   },
   {
    "duration": 0,
    "start_time": "2024-04-19T08:51:23.180Z"
   },
   {
    "duration": 0,
    "start_time": "2024-04-19T08:51:23.181Z"
   },
   {
    "duration": 0,
    "start_time": "2024-04-19T08:51:23.183Z"
   },
   {
    "duration": 0,
    "start_time": "2024-04-19T08:51:23.184Z"
   },
   {
    "duration": 0,
    "start_time": "2024-04-19T08:51:23.186Z"
   },
   {
    "duration": 0,
    "start_time": "2024-04-19T08:51:23.187Z"
   },
   {
    "duration": 0,
    "start_time": "2024-04-19T08:51:23.188Z"
   },
   {
    "duration": 9,
    "start_time": "2024-04-19T08:51:28.823Z"
   },
   {
    "duration": 3,
    "start_time": "2024-04-19T08:52:52.297Z"
   },
   {
    "duration": 8,
    "start_time": "2024-04-19T08:52:53.545Z"
   },
   {
    "duration": 126,
    "start_time": "2024-04-19T08:53:18.305Z"
   },
   {
    "duration": 4,
    "start_time": "2024-04-19T08:53:31.706Z"
   },
   {
    "duration": 20,
    "start_time": "2024-04-19T08:53:36.617Z"
   },
   {
    "duration": 15,
    "start_time": "2024-04-19T08:54:04.225Z"
   },
   {
    "duration": 3,
    "start_time": "2024-04-19T08:54:33.781Z"
   },
   {
    "duration": 1415,
    "start_time": "2024-04-19T08:54:42.423Z"
   },
   {
    "duration": 2,
    "start_time": "2024-04-19T08:54:43.839Z"
   },
   {
    "duration": 53,
    "start_time": "2024-04-19T08:54:43.843Z"
   },
   {
    "duration": 9,
    "start_time": "2024-04-19T08:54:43.898Z"
   },
   {
    "duration": 4,
    "start_time": "2024-04-19T08:54:43.909Z"
   },
   {
    "duration": 10,
    "start_time": "2024-04-19T08:54:43.914Z"
   },
   {
    "duration": 9,
    "start_time": "2024-04-19T08:54:43.925Z"
   },
   {
    "duration": 247,
    "start_time": "2024-04-19T08:54:43.936Z"
   },
   {
    "duration": 14,
    "start_time": "2024-04-19T08:54:44.185Z"
   },
   {
    "duration": 5,
    "start_time": "2024-04-19T08:54:44.201Z"
   },
   {
    "duration": 546,
    "start_time": "2024-04-19T08:54:44.207Z"
   },
   {
    "duration": 62,
    "start_time": "2024-04-19T08:54:44.754Z"
   },
   {
    "duration": 0,
    "start_time": "2024-04-19T08:54:44.818Z"
   },
   {
    "duration": 0,
    "start_time": "2024-04-19T08:54:44.819Z"
   },
   {
    "duration": 0,
    "start_time": "2024-04-19T08:54:44.820Z"
   },
   {
    "duration": 0,
    "start_time": "2024-04-19T08:54:44.821Z"
   },
   {
    "duration": 0,
    "start_time": "2024-04-19T08:54:44.823Z"
   },
   {
    "duration": 0,
    "start_time": "2024-04-19T08:54:44.824Z"
   },
   {
    "duration": 0,
    "start_time": "2024-04-19T08:54:44.825Z"
   },
   {
    "duration": 0,
    "start_time": "2024-04-19T08:54:44.826Z"
   },
   {
    "duration": 0,
    "start_time": "2024-04-19T08:54:44.827Z"
   },
   {
    "duration": 0,
    "start_time": "2024-04-19T08:54:44.828Z"
   },
   {
    "duration": 0,
    "start_time": "2024-04-19T08:54:44.829Z"
   },
   {
    "duration": 0,
    "start_time": "2024-04-19T08:54:44.830Z"
   },
   {
    "duration": 4,
    "start_time": "2024-04-19T08:54:51.066Z"
   },
   {
    "duration": 9,
    "start_time": "2024-04-19T08:55:02.082Z"
   },
   {
    "duration": 2,
    "start_time": "2024-04-19T08:55:07.505Z"
   },
   {
    "duration": 9,
    "start_time": "2024-04-19T08:55:09.394Z"
   },
   {
    "duration": 106,
    "start_time": "2024-04-19T08:55:17.330Z"
   },
   {
    "duration": 6,
    "start_time": "2024-04-19T08:55:39.922Z"
   },
   {
    "duration": 3,
    "start_time": "2024-04-19T08:57:26.611Z"
   },
   {
    "duration": 8,
    "start_time": "2024-04-19T08:57:27.979Z"
   },
   {
    "duration": 10,
    "start_time": "2024-04-19T08:57:35.107Z"
   },
   {
    "duration": 16,
    "start_time": "2024-04-19T08:57:36.739Z"
   },
   {
    "duration": 10,
    "start_time": "2024-04-19T08:57:39.613Z"
   },
   {
    "duration": 1483,
    "start_time": "2024-04-19T08:58:42.348Z"
   },
   {
    "duration": 2,
    "start_time": "2024-04-19T08:58:43.833Z"
   },
   {
    "duration": 52,
    "start_time": "2024-04-19T08:58:43.837Z"
   },
   {
    "duration": 10,
    "start_time": "2024-04-19T08:58:43.891Z"
   },
   {
    "duration": 3,
    "start_time": "2024-04-19T08:58:43.903Z"
   },
   {
    "duration": 10,
    "start_time": "2024-04-19T08:58:43.908Z"
   },
   {
    "duration": 7,
    "start_time": "2024-04-19T08:58:43.920Z"
   },
   {
    "duration": 237,
    "start_time": "2024-04-19T08:58:43.928Z"
   },
   {
    "duration": 11,
    "start_time": "2024-04-19T08:58:44.167Z"
   },
   {
    "duration": 6,
    "start_time": "2024-04-19T08:58:44.179Z"
   },
   {
    "duration": 453,
    "start_time": "2024-04-19T08:58:44.186Z"
   },
   {
    "duration": 4,
    "start_time": "2024-04-19T08:58:44.640Z"
   },
   {
    "duration": 21,
    "start_time": "2024-04-19T08:58:44.645Z"
   },
   {
    "duration": 102296,
    "start_time": "2024-04-19T08:58:44.668Z"
   },
   {
    "duration": 99,
    "start_time": "2024-04-19T09:00:26.966Z"
   },
   {
    "duration": 13,
    "start_time": "2024-04-19T09:00:27.067Z"
   },
   {
    "duration": 34,
    "start_time": "2024-04-19T09:00:27.081Z"
   },
   {
    "duration": 177534,
    "start_time": "2024-04-19T09:00:27.117Z"
   },
   {
    "duration": 15,
    "start_time": "2024-04-19T09:03:24.653Z"
   },
   {
    "duration": 54,
    "start_time": "2024-04-19T09:03:24.669Z"
   },
   {
    "duration": 243,
    "start_time": "2024-04-19T09:03:24.725Z"
   },
   {
    "duration": 1553,
    "start_time": "2024-04-20T10:43:27.978Z"
   },
   {
    "duration": 3,
    "start_time": "2024-04-20T10:43:29.533Z"
   },
   {
    "duration": 167,
    "start_time": "2024-04-20T10:43:29.539Z"
   },
   {
    "duration": 9,
    "start_time": "2024-04-20T10:43:29.708Z"
   },
   {
    "duration": 4,
    "start_time": "2024-04-20T10:43:29.718Z"
   },
   {
    "duration": 11,
    "start_time": "2024-04-20T10:43:29.724Z"
   },
   {
    "duration": 7,
    "start_time": "2024-04-20T10:43:29.736Z"
   },
   {
    "duration": 242,
    "start_time": "2024-04-20T10:43:29.744Z"
   },
   {
    "duration": 12,
    "start_time": "2024-04-20T10:43:29.988Z"
   },
   {
    "duration": 37,
    "start_time": "2024-04-20T10:43:30.001Z"
   },
   {
    "duration": 564,
    "start_time": "2024-04-20T10:43:30.040Z"
   },
   {
    "duration": 94,
    "start_time": "2024-04-20T10:43:30.605Z"
   },
   {
    "duration": 0,
    "start_time": "2024-04-20T10:43:30.701Z"
   },
   {
    "duration": 0,
    "start_time": "2024-04-20T10:43:30.702Z"
   },
   {
    "duration": 0,
    "start_time": "2024-04-20T10:43:30.703Z"
   },
   {
    "duration": 0,
    "start_time": "2024-04-20T10:43:30.705Z"
   },
   {
    "duration": 0,
    "start_time": "2024-04-20T10:43:30.706Z"
   },
   {
    "duration": 0,
    "start_time": "2024-04-20T10:43:30.707Z"
   },
   {
    "duration": 0,
    "start_time": "2024-04-20T10:43:30.708Z"
   },
   {
    "duration": 0,
    "start_time": "2024-04-20T10:43:30.709Z"
   },
   {
    "duration": 0,
    "start_time": "2024-04-20T10:43:30.710Z"
   },
   {
    "duration": 0,
    "start_time": "2024-04-20T10:43:30.711Z"
   },
   {
    "duration": 110,
    "start_time": "2024-04-20T10:43:36.218Z"
   },
   {
    "duration": 86,
    "start_time": "2024-04-20T10:44:12.331Z"
   },
   {
    "duration": 7,
    "start_time": "2024-04-20T10:44:16.874Z"
   },
   {
    "duration": 7,
    "start_time": "2024-04-20T10:44:27.234Z"
   },
   {
    "duration": 675,
    "start_time": "2024-04-20T10:44:51.580Z"
   },
   {
    "duration": 13,
    "start_time": "2024-04-20T10:55:03.593Z"
   },
   {
    "duration": 208,
    "start_time": "2024-04-20T10:56:17.995Z"
   },
   {
    "duration": 3,
    "start_time": "2024-04-20T10:56:42.835Z"
   },
   {
    "duration": 2,
    "start_time": "2024-04-20T10:57:03.868Z"
   },
   {
    "duration": 11,
    "start_time": "2024-04-20T10:57:05.283Z"
   },
   {
    "duration": 7,
    "start_time": "2024-04-20T10:57:20.517Z"
   },
   {
    "duration": 754,
    "start_time": "2024-04-20T10:57:33.812Z"
   },
   {
    "duration": 108,
    "start_time": "2024-04-20T10:58:41.396Z"
   },
   {
    "duration": 1523,
    "start_time": "2024-04-20T10:59:06.552Z"
   },
   {
    "duration": 3,
    "start_time": "2024-04-20T10:59:08.077Z"
   },
   {
    "duration": 55,
    "start_time": "2024-04-20T10:59:08.081Z"
   },
   {
    "duration": 11,
    "start_time": "2024-04-20T10:59:08.138Z"
   },
   {
    "duration": 15,
    "start_time": "2024-04-20T10:59:08.151Z"
   },
   {
    "duration": 12,
    "start_time": "2024-04-20T10:59:08.167Z"
   },
   {
    "duration": 10,
    "start_time": "2024-04-20T10:59:08.180Z"
   },
   {
    "duration": 237,
    "start_time": "2024-04-20T10:59:08.191Z"
   },
   {
    "duration": 12,
    "start_time": "2024-04-20T10:59:08.430Z"
   },
   {
    "duration": 10,
    "start_time": "2024-04-20T10:59:08.444Z"
   },
   {
    "duration": 558,
    "start_time": "2024-04-20T10:59:08.456Z"
   },
   {
    "duration": 630,
    "start_time": "2024-04-20T10:59:09.015Z"
   },
   {
    "duration": 233,
    "start_time": "2024-04-20T10:59:09.647Z"
   },
   {
    "duration": 0,
    "start_time": "2024-04-20T10:59:09.882Z"
   },
   {
    "duration": 0,
    "start_time": "2024-04-20T10:59:09.883Z"
   },
   {
    "duration": 0,
    "start_time": "2024-04-20T10:59:09.884Z"
   },
   {
    "duration": 0,
    "start_time": "2024-04-20T10:59:09.886Z"
   },
   {
    "duration": 0,
    "start_time": "2024-04-20T10:59:09.887Z"
   },
   {
    "duration": 0,
    "start_time": "2024-04-20T10:59:09.888Z"
   },
   {
    "duration": 0,
    "start_time": "2024-04-20T10:59:09.890Z"
   },
   {
    "duration": 0,
    "start_time": "2024-04-20T10:59:09.892Z"
   },
   {
    "duration": 0,
    "start_time": "2024-04-20T10:59:09.892Z"
   },
   {
    "duration": 0,
    "start_time": "2024-04-20T10:59:09.894Z"
   },
   {
    "duration": 0,
    "start_time": "2024-04-20T10:59:09.895Z"
   },
   {
    "duration": 678,
    "start_time": "2024-04-20T11:01:44.380Z"
   },
   {
    "duration": 110,
    "start_time": "2024-04-20T11:01:49.597Z"
   },
   {
    "duration": 762,
    "start_time": "2024-04-20T11:02:17.270Z"
   },
   {
    "duration": 653,
    "start_time": "2024-04-20T11:03:36.648Z"
   },
   {
    "duration": 733,
    "start_time": "2024-04-20T11:33:25.868Z"
   },
   {
    "duration": 703,
    "start_time": "2024-04-20T11:33:36.340Z"
   },
   {
    "duration": 667,
    "start_time": "2024-04-20T11:33:43.093Z"
   },
   {
    "duration": 4,
    "start_time": "2024-04-20T11:48:21.246Z"
   },
   {
    "duration": 13,
    "start_time": "2024-04-20T11:55:51.986Z"
   },
   {
    "duration": 6,
    "start_time": "2024-04-20T11:56:12.804Z"
   },
   {
    "duration": 76,
    "start_time": "2024-04-20T11:56:20.757Z"
   },
   {
    "duration": 14,
    "start_time": "2024-04-20T11:56:28.285Z"
   },
   {
    "duration": 8,
    "start_time": "2024-04-20T11:56:44.493Z"
   },
   {
    "duration": 8,
    "start_time": "2024-04-20T11:57:14.054Z"
   },
   {
    "duration": 12,
    "start_time": "2024-04-20T11:57:40.671Z"
   },
   {
    "duration": 1292,
    "start_time": "2024-04-20T12:00:23.329Z"
   },
   {
    "duration": 4,
    "start_time": "2024-04-20T12:01:23.307Z"
   },
   {
    "duration": 105,
    "start_time": "2024-04-20T12:01:25.881Z"
   },
   {
    "duration": 159,
    "start_time": "2024-04-20T12:03:03.194Z"
   },
   {
    "duration": 15,
    "start_time": "2024-04-20T12:05:50.251Z"
   },
   {
    "duration": 15,
    "start_time": "2024-04-20T12:06:00.259Z"
   },
   {
    "duration": 23,
    "start_time": "2024-04-20T12:11:01.838Z"
   },
   {
    "duration": 26,
    "start_time": "2024-04-20T12:12:31.147Z"
   },
   {
    "duration": 22,
    "start_time": "2024-04-20T12:12:33.023Z"
   },
   {
    "duration": 20,
    "start_time": "2024-04-20T12:12:36.248Z"
   },
   {
    "duration": 3,
    "start_time": "2024-04-20T12:12:46.200Z"
   },
   {
    "duration": 4,
    "start_time": "2024-04-20T12:13:25.986Z"
   },
   {
    "duration": 19,
    "start_time": "2024-04-20T12:13:41.633Z"
   },
   {
    "duration": 47,
    "start_time": "2024-04-20T12:13:44.946Z"
   },
   {
    "duration": 19,
    "start_time": "2024-04-20T12:14:07.069Z"
   },
   {
    "duration": 49,
    "start_time": "2024-04-20T12:14:10.136Z"
   },
   {
    "duration": 29,
    "start_time": "2024-04-20T12:14:36.538Z"
   },
   {
    "duration": 5,
    "start_time": "2024-04-20T12:14:46.842Z"
   },
   {
    "duration": 8,
    "start_time": "2024-04-20T12:14:47.570Z"
   },
   {
    "duration": 129249,
    "start_time": "2024-04-20T12:15:03.044Z"
   },
   {
    "duration": 6,
    "start_time": "2024-04-20T12:17:23.383Z"
   },
   {
    "duration": 7,
    "start_time": "2024-04-20T12:17:24.741Z"
   },
   {
    "duration": 126576,
    "start_time": "2024-04-20T12:17:47.493Z"
   },
   {
    "duration": 122395,
    "start_time": "2024-04-20T12:20:52.582Z"
   },
   {
    "duration": 5,
    "start_time": "2024-04-20T12:23:46.305Z"
   },
   {
    "duration": 6,
    "start_time": "2024-04-20T12:23:47.384Z"
   },
   {
    "duration": 236552,
    "start_time": "2024-04-20T12:24:11.889Z"
   },
   {
    "duration": 10,
    "start_time": "2024-04-20T12:28:08.443Z"
   },
   {
    "duration": 12,
    "start_time": "2024-04-20T12:28:41.445Z"
   },
   {
    "duration": 8,
    "start_time": "2024-04-20T12:28:42.211Z"
   },
   {
    "duration": 9,
    "start_time": "2024-04-20T12:29:00.825Z"
   },
   {
    "duration": 13,
    "start_time": "2024-04-20T12:33:14.222Z"
   },
   {
    "duration": 12,
    "start_time": "2024-04-20T12:33:15.230Z"
   },
   {
    "duration": 1412,
    "start_time": "2024-04-20T12:33:56.415Z"
   },
   {
    "duration": 3,
    "start_time": "2024-04-20T12:33:57.828Z"
   },
   {
    "duration": 55,
    "start_time": "2024-04-20T12:33:57.833Z"
   },
   {
    "duration": 10,
    "start_time": "2024-04-20T12:33:57.889Z"
   },
   {
    "duration": 4,
    "start_time": "2024-04-20T12:33:57.901Z"
   },
   {
    "duration": 11,
    "start_time": "2024-04-20T12:33:57.906Z"
   },
   {
    "duration": 8,
    "start_time": "2024-04-20T12:33:57.919Z"
   },
   {
    "duration": 253,
    "start_time": "2024-04-20T12:33:57.928Z"
   },
   {
    "duration": 12,
    "start_time": "2024-04-20T12:33:58.183Z"
   },
   {
    "duration": 5,
    "start_time": "2024-04-20T12:33:58.196Z"
   },
   {
    "duration": 549,
    "start_time": "2024-04-20T12:33:58.202Z"
   },
   {
    "duration": 665,
    "start_time": "2024-04-20T12:33:58.753Z"
   },
   {
    "duration": 710,
    "start_time": "2024-04-20T12:33:59.419Z"
   },
   {
    "duration": 5,
    "start_time": "2024-04-20T12:34:00.131Z"
   },
   {
    "duration": 123632,
    "start_time": "2024-04-20T12:34:00.137Z"
   },
   {
    "duration": 99,
    "start_time": "2024-04-20T12:36:03.771Z"
   },
   {
    "duration": 24,
    "start_time": "2024-04-20T12:36:03.871Z"
   },
   {
    "duration": 77,
    "start_time": "2024-04-20T12:36:03.897Z"
   },
   {
    "duration": 0,
    "start_time": "2024-04-20T12:36:03.975Z"
   },
   {
    "duration": 0,
    "start_time": "2024-04-20T12:36:03.977Z"
   },
   {
    "duration": 0,
    "start_time": "2024-04-20T12:36:03.978Z"
   },
   {
    "duration": 74,
    "start_time": "2024-04-20T12:37:26.505Z"
   },
   {
    "duration": 233212,
    "start_time": "2024-04-20T12:39:40.347Z"
   },
   {
    "duration": 14,
    "start_time": "2024-04-20T12:44:24.503Z"
   },
   {
    "duration": 10,
    "start_time": "2024-04-20T12:44:25.430Z"
   },
   {
    "duration": 168,
    "start_time": "2024-04-20T12:45:02.402Z"
   },
   {
    "duration": 106,
    "start_time": "2024-04-20T12:45:30.737Z"
   },
   {
    "duration": 1492,
    "start_time": "2024-04-20T12:49:55.637Z"
   },
   {
    "duration": 2,
    "start_time": "2024-04-20T12:49:57.131Z"
   },
   {
    "duration": 50,
    "start_time": "2024-04-20T12:49:57.135Z"
   },
   {
    "duration": 10,
    "start_time": "2024-04-20T12:49:57.186Z"
   },
   {
    "duration": 3,
    "start_time": "2024-04-20T12:49:57.199Z"
   },
   {
    "duration": 12,
    "start_time": "2024-04-20T12:49:57.204Z"
   },
   {
    "duration": 9,
    "start_time": "2024-04-20T12:49:57.217Z"
   },
   {
    "duration": 253,
    "start_time": "2024-04-20T12:49:57.228Z"
   },
   {
    "duration": 13,
    "start_time": "2024-04-20T12:49:57.483Z"
   },
   {
    "duration": 12,
    "start_time": "2024-04-20T12:49:57.497Z"
   },
   {
    "duration": 535,
    "start_time": "2024-04-20T12:49:57.511Z"
   },
   {
    "duration": 700,
    "start_time": "2024-04-20T12:49:58.048Z"
   },
   {
    "duration": 671,
    "start_time": "2024-04-20T12:49:58.750Z"
   },
   {
    "duration": 4,
    "start_time": "2024-04-20T12:49:59.423Z"
   },
   {
    "duration": 119968,
    "start_time": "2024-04-20T12:49:59.429Z"
   },
   {
    "duration": 101,
    "start_time": "2024-04-20T12:51:59.471Z"
   },
   {
    "duration": 29,
    "start_time": "2024-04-20T12:51:59.573Z"
   },
   {
    "duration": 237029,
    "start_time": "2024-04-20T12:51:59.603Z"
   },
   {
    "duration": 12,
    "start_time": "2024-04-20T12:55:56.633Z"
   },
   {
    "duration": 15,
    "start_time": "2024-04-20T12:55:56.646Z"
   },
   {
    "duration": 108,
    "start_time": "2024-04-20T12:55:56.663Z"
   },
   {
    "duration": 297,
    "start_time": "2024-04-20T12:55:56.774Z"
   }
  ],
  "kernelspec": {
   "display_name": "Python 3 (ipykernel)",
   "language": "python",
   "name": "python3"
  },
  "language_info": {
   "codemirror_mode": {
    "name": "ipython",
    "version": 3
   },
   "file_extension": ".py",
   "mimetype": "text/x-python",
   "name": "python",
   "nbconvert_exporter": "python",
   "pygments_lexer": "ipython3",
   "version": "3.9.21"
  },
  "toc": {
   "base_numbering": 1,
   "nav_menu": {},
   "number_sections": true,
   "sideBar": true,
   "skip_h1_title": true,
   "title_cell": "Содержание",
   "title_sidebar": "Contents",
   "toc_cell": true,
   "toc_position": {
    "height": "calc(100% - 180px)",
    "left": "10px",
    "top": "150px",
    "width": "196px"
   },
   "toc_section_display": true,
   "toc_window_display": true
  }
 },
 "nbformat": 4,
 "nbformat_minor": 4
}

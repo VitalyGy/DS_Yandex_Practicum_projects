{
 "cells": [
  {
   "cell_type": "markdown",
   "id": "82c0ff9d",
   "metadata": {
    "deletable": false,
    "editable": false,
    "id": "c81daeeb"
   },
   "source": [
    "# Проект: Исследование надежности заемщиков"
   ]
  },
  {
   "cell_type": "markdown",
   "id": "dac5d894",
   "metadata": {
    "deletable": false,
    "editable": false,
    "id": "827c20bf",
    "slideshow": {
     "slide_type": ""
    },
    "tags": []
   },
   "source": []
  },
  {
   "cell_type": "markdown",
   "id": "d9d33010-4fc2-47a8-94db-28fc4e02e47b",
   "metadata": {},
   "source": [
    "**Описание проекта**  \n",
    "Заказчик — кредитный отдел банка. Нужно разобраться, влияет ли семейное положение и количество детей клиента на факт погашения кредита в срок. Входные данные от банка — статистика о платёжеспособности клиентов.\n",
    "Результаты исследования будут учтены при построении модели кредитного скоринга — специальной системы, которая оценивает способность потенциального заёмщика вернуть кредит банку.  \n",
    "\n",
    "Описание данных  \n",
    "* children — количество детей в семье\n",
    "* days_employed — общий трудовой стаж в днях\n",
    "* dob_years — возраст клиента в годах\n",
    "* education — уровень образования клиента\n",
    "* education_id — идентификатор уровня образования\n",
    "* family_status — семейное положение\n",
    "* family_status_id — идентификатор семейного положения\n",
    "* gender — пол клиента\n",
    "* income_type — тип занятости\n",
    "* debt — имел ли задолженность по возврату кредитов\n",
    "* total_income — ежемесячный доход\n",
    "* purpose — цель получения кредита"
   ]
  },
  {
   "cell_type": "markdown",
   "id": "56d0730e",
   "metadata": {
    "deletable": false,
    "editable": false,
    "id": "744d7639"
   },
   "source": [
    "## Откройте таблицу и изучите общую информацию о данных"
   ]
  },
  {
   "cell_type": "markdown",
   "id": "2d195b92",
   "metadata": {
    "deletable": false,
    "editable": false,
    "id": "e7a14c31"
   },
   "source": [
    "Импортируйю библиотеку pandas. Считаю данные из csv-файла в датафрейм и сохраните в переменную `data`. Путь к файлу:`data.csv`"
   ]
  },
  {
   "cell_type": "code",
   "execution_count": 1,
   "id": "b48aeb96",
   "metadata": {
    "deletable": false,
    "id": "7bcf75c9"
   },
   "outputs": [],
   "source": [
    "import pandas as pd\n",
    "\n",
    "try:\n",
    "    data = pd.read_csv('data.csv')\n",
    "except:\n",
    "    data = pd.read_csv('https://code.s3.yandex.net/datasets/data.csv')"
   ]
  },
  {
   "cell_type": "markdown",
   "id": "072f7b59",
   "metadata": {
    "deletable": false,
    "editable": false,
    "id": "b8038fe3"
   },
   "source": [
    "Выведу первые 20 строчек датафрейма `data` на экран."
   ]
  },
  {
   "cell_type": "code",
   "execution_count": 2,
   "id": "32ef04a0",
   "metadata": {
    "deletable": false,
    "id": "2a7cab99",
    "outputId": "1a8f3ef2-d323-4ec2-ddf7-89670b5944c4"
   },
   "outputs": [
    {
     "data": {
      "text/html": [
       "<div>\n",
       "<style scoped>\n",
       "    .dataframe tbody tr th:only-of-type {\n",
       "        vertical-align: middle;\n",
       "    }\n",
       "\n",
       "    .dataframe tbody tr th {\n",
       "        vertical-align: top;\n",
       "    }\n",
       "\n",
       "    .dataframe thead th {\n",
       "        text-align: right;\n",
       "    }\n",
       "</style>\n",
       "<table border=\"1\" class=\"dataframe\">\n",
       "  <thead>\n",
       "    <tr style=\"text-align: right;\">\n",
       "      <th></th>\n",
       "      <th>children</th>\n",
       "      <th>days_employed</th>\n",
       "      <th>dob_years</th>\n",
       "      <th>education</th>\n",
       "      <th>education_id</th>\n",
       "      <th>family_status</th>\n",
       "      <th>family_status_id</th>\n",
       "      <th>gender</th>\n",
       "      <th>income_type</th>\n",
       "      <th>debt</th>\n",
       "      <th>total_income</th>\n",
       "      <th>purpose</th>\n",
       "    </tr>\n",
       "  </thead>\n",
       "  <tbody>\n",
       "    <tr>\n",
       "      <th>0</th>\n",
       "      <td>1</td>\n",
       "      <td>-8437.673028</td>\n",
       "      <td>42</td>\n",
       "      <td>высшее</td>\n",
       "      <td>0</td>\n",
       "      <td>женат / замужем</td>\n",
       "      <td>0</td>\n",
       "      <td>F</td>\n",
       "      <td>сотрудник</td>\n",
       "      <td>0</td>\n",
       "      <td>253875.639453</td>\n",
       "      <td>покупка жилья</td>\n",
       "    </tr>\n",
       "    <tr>\n",
       "      <th>1</th>\n",
       "      <td>1</td>\n",
       "      <td>-4024.803754</td>\n",
       "      <td>36</td>\n",
       "      <td>среднее</td>\n",
       "      <td>1</td>\n",
       "      <td>женат / замужем</td>\n",
       "      <td>0</td>\n",
       "      <td>F</td>\n",
       "      <td>сотрудник</td>\n",
       "      <td>0</td>\n",
       "      <td>112080.014102</td>\n",
       "      <td>приобретение автомобиля</td>\n",
       "    </tr>\n",
       "    <tr>\n",
       "      <th>2</th>\n",
       "      <td>0</td>\n",
       "      <td>-5623.422610</td>\n",
       "      <td>33</td>\n",
       "      <td>Среднее</td>\n",
       "      <td>1</td>\n",
       "      <td>женат / замужем</td>\n",
       "      <td>0</td>\n",
       "      <td>M</td>\n",
       "      <td>сотрудник</td>\n",
       "      <td>0</td>\n",
       "      <td>145885.952297</td>\n",
       "      <td>покупка жилья</td>\n",
       "    </tr>\n",
       "    <tr>\n",
       "      <th>3</th>\n",
       "      <td>3</td>\n",
       "      <td>-4124.747207</td>\n",
       "      <td>32</td>\n",
       "      <td>среднее</td>\n",
       "      <td>1</td>\n",
       "      <td>женат / замужем</td>\n",
       "      <td>0</td>\n",
       "      <td>M</td>\n",
       "      <td>сотрудник</td>\n",
       "      <td>0</td>\n",
       "      <td>267628.550329</td>\n",
       "      <td>дополнительное образование</td>\n",
       "    </tr>\n",
       "    <tr>\n",
       "      <th>4</th>\n",
       "      <td>0</td>\n",
       "      <td>340266.072047</td>\n",
       "      <td>53</td>\n",
       "      <td>среднее</td>\n",
       "      <td>1</td>\n",
       "      <td>гражданский брак</td>\n",
       "      <td>1</td>\n",
       "      <td>F</td>\n",
       "      <td>пенсионер</td>\n",
       "      <td>0</td>\n",
       "      <td>158616.077870</td>\n",
       "      <td>сыграть свадьбу</td>\n",
       "    </tr>\n",
       "    <tr>\n",
       "      <th>5</th>\n",
       "      <td>0</td>\n",
       "      <td>-926.185831</td>\n",
       "      <td>27</td>\n",
       "      <td>высшее</td>\n",
       "      <td>0</td>\n",
       "      <td>гражданский брак</td>\n",
       "      <td>1</td>\n",
       "      <td>M</td>\n",
       "      <td>компаньон</td>\n",
       "      <td>0</td>\n",
       "      <td>255763.565419</td>\n",
       "      <td>покупка жилья</td>\n",
       "    </tr>\n",
       "    <tr>\n",
       "      <th>6</th>\n",
       "      <td>0</td>\n",
       "      <td>-2879.202052</td>\n",
       "      <td>43</td>\n",
       "      <td>высшее</td>\n",
       "      <td>0</td>\n",
       "      <td>женат / замужем</td>\n",
       "      <td>0</td>\n",
       "      <td>F</td>\n",
       "      <td>компаньон</td>\n",
       "      <td>0</td>\n",
       "      <td>240525.971920</td>\n",
       "      <td>операции с жильем</td>\n",
       "    </tr>\n",
       "    <tr>\n",
       "      <th>7</th>\n",
       "      <td>0</td>\n",
       "      <td>-152.779569</td>\n",
       "      <td>50</td>\n",
       "      <td>СРЕДНЕЕ</td>\n",
       "      <td>1</td>\n",
       "      <td>женат / замужем</td>\n",
       "      <td>0</td>\n",
       "      <td>M</td>\n",
       "      <td>сотрудник</td>\n",
       "      <td>0</td>\n",
       "      <td>135823.934197</td>\n",
       "      <td>образование</td>\n",
       "    </tr>\n",
       "    <tr>\n",
       "      <th>8</th>\n",
       "      <td>2</td>\n",
       "      <td>-6929.865299</td>\n",
       "      <td>35</td>\n",
       "      <td>ВЫСШЕЕ</td>\n",
       "      <td>0</td>\n",
       "      <td>гражданский брак</td>\n",
       "      <td>1</td>\n",
       "      <td>F</td>\n",
       "      <td>сотрудник</td>\n",
       "      <td>0</td>\n",
       "      <td>95856.832424</td>\n",
       "      <td>на проведение свадьбы</td>\n",
       "    </tr>\n",
       "    <tr>\n",
       "      <th>9</th>\n",
       "      <td>0</td>\n",
       "      <td>-2188.756445</td>\n",
       "      <td>41</td>\n",
       "      <td>среднее</td>\n",
       "      <td>1</td>\n",
       "      <td>женат / замужем</td>\n",
       "      <td>0</td>\n",
       "      <td>M</td>\n",
       "      <td>сотрудник</td>\n",
       "      <td>0</td>\n",
       "      <td>144425.938277</td>\n",
       "      <td>покупка жилья для семьи</td>\n",
       "    </tr>\n",
       "    <tr>\n",
       "      <th>10</th>\n",
       "      <td>2</td>\n",
       "      <td>-4171.483647</td>\n",
       "      <td>36</td>\n",
       "      <td>высшее</td>\n",
       "      <td>0</td>\n",
       "      <td>женат / замужем</td>\n",
       "      <td>0</td>\n",
       "      <td>M</td>\n",
       "      <td>компаньон</td>\n",
       "      <td>0</td>\n",
       "      <td>113943.491460</td>\n",
       "      <td>покупка недвижимости</td>\n",
       "    </tr>\n",
       "    <tr>\n",
       "      <th>11</th>\n",
       "      <td>0</td>\n",
       "      <td>-792.701887</td>\n",
       "      <td>40</td>\n",
       "      <td>среднее</td>\n",
       "      <td>1</td>\n",
       "      <td>женат / замужем</td>\n",
       "      <td>0</td>\n",
       "      <td>F</td>\n",
       "      <td>сотрудник</td>\n",
       "      <td>0</td>\n",
       "      <td>77069.234271</td>\n",
       "      <td>покупка коммерческой недвижимости</td>\n",
       "    </tr>\n",
       "    <tr>\n",
       "      <th>12</th>\n",
       "      <td>0</td>\n",
       "      <td>NaN</td>\n",
       "      <td>65</td>\n",
       "      <td>среднее</td>\n",
       "      <td>1</td>\n",
       "      <td>гражданский брак</td>\n",
       "      <td>1</td>\n",
       "      <td>M</td>\n",
       "      <td>пенсионер</td>\n",
       "      <td>0</td>\n",
       "      <td>NaN</td>\n",
       "      <td>сыграть свадьбу</td>\n",
       "    </tr>\n",
       "    <tr>\n",
       "      <th>13</th>\n",
       "      <td>0</td>\n",
       "      <td>-1846.641941</td>\n",
       "      <td>54</td>\n",
       "      <td>неоконченное высшее</td>\n",
       "      <td>2</td>\n",
       "      <td>женат / замужем</td>\n",
       "      <td>0</td>\n",
       "      <td>F</td>\n",
       "      <td>сотрудник</td>\n",
       "      <td>0</td>\n",
       "      <td>130458.228857</td>\n",
       "      <td>приобретение автомобиля</td>\n",
       "    </tr>\n",
       "    <tr>\n",
       "      <th>14</th>\n",
       "      <td>0</td>\n",
       "      <td>-1844.956182</td>\n",
       "      <td>56</td>\n",
       "      <td>высшее</td>\n",
       "      <td>0</td>\n",
       "      <td>гражданский брак</td>\n",
       "      <td>1</td>\n",
       "      <td>F</td>\n",
       "      <td>компаньон</td>\n",
       "      <td>1</td>\n",
       "      <td>165127.911772</td>\n",
       "      <td>покупка жилой недвижимости</td>\n",
       "    </tr>\n",
       "    <tr>\n",
       "      <th>15</th>\n",
       "      <td>1</td>\n",
       "      <td>-972.364419</td>\n",
       "      <td>26</td>\n",
       "      <td>среднее</td>\n",
       "      <td>1</td>\n",
       "      <td>женат / замужем</td>\n",
       "      <td>0</td>\n",
       "      <td>F</td>\n",
       "      <td>сотрудник</td>\n",
       "      <td>0</td>\n",
       "      <td>116820.904450</td>\n",
       "      <td>строительство собственной недвижимости</td>\n",
       "    </tr>\n",
       "    <tr>\n",
       "      <th>16</th>\n",
       "      <td>0</td>\n",
       "      <td>-1719.934226</td>\n",
       "      <td>35</td>\n",
       "      <td>среднее</td>\n",
       "      <td>1</td>\n",
       "      <td>женат / замужем</td>\n",
       "      <td>0</td>\n",
       "      <td>F</td>\n",
       "      <td>сотрудник</td>\n",
       "      <td>0</td>\n",
       "      <td>289202.704229</td>\n",
       "      <td>недвижимость</td>\n",
       "    </tr>\n",
       "    <tr>\n",
       "      <th>17</th>\n",
       "      <td>0</td>\n",
       "      <td>-2369.999720</td>\n",
       "      <td>33</td>\n",
       "      <td>высшее</td>\n",
       "      <td>0</td>\n",
       "      <td>гражданский брак</td>\n",
       "      <td>1</td>\n",
       "      <td>M</td>\n",
       "      <td>сотрудник</td>\n",
       "      <td>0</td>\n",
       "      <td>90410.586745</td>\n",
       "      <td>строительство недвижимости</td>\n",
       "    </tr>\n",
       "    <tr>\n",
       "      <th>18</th>\n",
       "      <td>0</td>\n",
       "      <td>400281.136913</td>\n",
       "      <td>53</td>\n",
       "      <td>среднее</td>\n",
       "      <td>1</td>\n",
       "      <td>вдовец / вдова</td>\n",
       "      <td>2</td>\n",
       "      <td>F</td>\n",
       "      <td>пенсионер</td>\n",
       "      <td>0</td>\n",
       "      <td>56823.777243</td>\n",
       "      <td>на покупку подержанного автомобиля</td>\n",
       "    </tr>\n",
       "    <tr>\n",
       "      <th>19</th>\n",
       "      <td>0</td>\n",
       "      <td>-10038.818549</td>\n",
       "      <td>48</td>\n",
       "      <td>СРЕДНЕЕ</td>\n",
       "      <td>1</td>\n",
       "      <td>в разводе</td>\n",
       "      <td>3</td>\n",
       "      <td>F</td>\n",
       "      <td>сотрудник</td>\n",
       "      <td>0</td>\n",
       "      <td>242831.107982</td>\n",
       "      <td>на покупку своего автомобиля</td>\n",
       "    </tr>\n",
       "  </tbody>\n",
       "</table>\n",
       "</div>"
      ],
      "text/plain": [
       "    children  days_employed  dob_years            education  education_id  \\\n",
       "0          1   -8437.673028         42               высшее             0   \n",
       "1          1   -4024.803754         36              среднее             1   \n",
       "2          0   -5623.422610         33              Среднее             1   \n",
       "3          3   -4124.747207         32              среднее             1   \n",
       "4          0  340266.072047         53              среднее             1   \n",
       "5          0    -926.185831         27               высшее             0   \n",
       "6          0   -2879.202052         43               высшее             0   \n",
       "7          0    -152.779569         50              СРЕДНЕЕ             1   \n",
       "8          2   -6929.865299         35               ВЫСШЕЕ             0   \n",
       "9          0   -2188.756445         41              среднее             1   \n",
       "10         2   -4171.483647         36               высшее             0   \n",
       "11         0    -792.701887         40              среднее             1   \n",
       "12         0            NaN         65              среднее             1   \n",
       "13         0   -1846.641941         54  неоконченное высшее             2   \n",
       "14         0   -1844.956182         56               высшее             0   \n",
       "15         1    -972.364419         26              среднее             1   \n",
       "16         0   -1719.934226         35              среднее             1   \n",
       "17         0   -2369.999720         33               высшее             0   \n",
       "18         0  400281.136913         53              среднее             1   \n",
       "19         0  -10038.818549         48              СРЕДНЕЕ             1   \n",
       "\n",
       "       family_status  family_status_id gender income_type  debt  \\\n",
       "0    женат / замужем                 0      F   сотрудник     0   \n",
       "1    женат / замужем                 0      F   сотрудник     0   \n",
       "2    женат / замужем                 0      M   сотрудник     0   \n",
       "3    женат / замужем                 0      M   сотрудник     0   \n",
       "4   гражданский брак                 1      F   пенсионер     0   \n",
       "5   гражданский брак                 1      M   компаньон     0   \n",
       "6    женат / замужем                 0      F   компаньон     0   \n",
       "7    женат / замужем                 0      M   сотрудник     0   \n",
       "8   гражданский брак                 1      F   сотрудник     0   \n",
       "9    женат / замужем                 0      M   сотрудник     0   \n",
       "10   женат / замужем                 0      M   компаньон     0   \n",
       "11   женат / замужем                 0      F   сотрудник     0   \n",
       "12  гражданский брак                 1      M   пенсионер     0   \n",
       "13   женат / замужем                 0      F   сотрудник     0   \n",
       "14  гражданский брак                 1      F   компаньон     1   \n",
       "15   женат / замужем                 0      F   сотрудник     0   \n",
       "16   женат / замужем                 0      F   сотрудник     0   \n",
       "17  гражданский брак                 1      M   сотрудник     0   \n",
       "18    вдовец / вдова                 2      F   пенсионер     0   \n",
       "19         в разводе                 3      F   сотрудник     0   \n",
       "\n",
       "     total_income                                 purpose  \n",
       "0   253875.639453                           покупка жилья  \n",
       "1   112080.014102                 приобретение автомобиля  \n",
       "2   145885.952297                           покупка жилья  \n",
       "3   267628.550329              дополнительное образование  \n",
       "4   158616.077870                         сыграть свадьбу  \n",
       "5   255763.565419                           покупка жилья  \n",
       "6   240525.971920                       операции с жильем  \n",
       "7   135823.934197                             образование  \n",
       "8    95856.832424                   на проведение свадьбы  \n",
       "9   144425.938277                 покупка жилья для семьи  \n",
       "10  113943.491460                    покупка недвижимости  \n",
       "11   77069.234271       покупка коммерческой недвижимости  \n",
       "12            NaN                         сыграть свадьбу  \n",
       "13  130458.228857                 приобретение автомобиля  \n",
       "14  165127.911772              покупка жилой недвижимости  \n",
       "15  116820.904450  строительство собственной недвижимости  \n",
       "16  289202.704229                            недвижимость  \n",
       "17   90410.586745              строительство недвижимости  \n",
       "18   56823.777243      на покупку подержанного автомобиля  \n",
       "19  242831.107982            на покупку своего автомобиля  "
      ]
     },
     "execution_count": 2,
     "metadata": {},
     "output_type": "execute_result"
    }
   ],
   "source": [
    "data.head(20)"
   ]
  },
  {
   "cell_type": "markdown",
   "id": "137e6e79",
   "metadata": {
    "deletable": false,
    "editable": false,
    "id": "1c12e233"
   },
   "source": [
    "Выведу основную информацию о датафрейме с помощью метода `info()`."
   ]
  },
  {
   "cell_type": "code",
   "execution_count": 3,
   "id": "b74b6623",
   "metadata": {
    "deletable": false,
    "id": "2b757bca",
    "outputId": "15376089-8dad-46c9-b520-c05248d43158"
   },
   "outputs": [
    {
     "name": "stdout",
     "output_type": "stream",
     "text": [
      "<class 'pandas.core.frame.DataFrame'>\n",
      "RangeIndex: 21525 entries, 0 to 21524\n",
      "Data columns (total 12 columns):\n",
      " #   Column            Non-Null Count  Dtype  \n",
      "---  ------            --------------  -----  \n",
      " 0   children          21525 non-null  int64  \n",
      " 1   days_employed     19351 non-null  float64\n",
      " 2   dob_years         21525 non-null  int64  \n",
      " 3   education         21525 non-null  object \n",
      " 4   education_id      21525 non-null  int64  \n",
      " 5   family_status     21525 non-null  object \n",
      " 6   family_status_id  21525 non-null  int64  \n",
      " 7   gender            21525 non-null  object \n",
      " 8   income_type       21525 non-null  object \n",
      " 9   debt              21525 non-null  int64  \n",
      " 10  total_income      19351 non-null  float64\n",
      " 11  purpose           21525 non-null  object \n",
      "dtypes: float64(2), int64(5), object(5)\n",
      "memory usage: 2.0+ MB\n"
     ]
    }
   ],
   "source": [
    "data.info()"
   ]
  },
  {
   "cell_type": "markdown",
   "id": "8b468f91",
   "metadata": {
    "deletable": false,
    "editable": false,
    "id": "333ec665"
   },
   "source": [
    "## Предобработка данных"
   ]
  },
  {
   "cell_type": "markdown",
   "id": "a5868afb",
   "metadata": {
    "deletable": false,
    "editable": false,
    "id": "02d92d53"
   },
   "source": [
    "### Удаление пропусков"
   ]
  },
  {
   "cell_type": "markdown",
   "id": "944645b5",
   "metadata": {
    "deletable": false,
    "editable": false,
    "id": "cd84967c"
   },
   "source": [
    "Выведу количество пропущенных значений для каждого столбца. Использую комбинацию двух методов."
   ]
  },
  {
   "cell_type": "code",
   "execution_count": 4,
   "id": "d0829d95",
   "metadata": {
    "deletable": false,
    "id": "7f9b2309",
    "outputId": "81f4d817-781c-465c-ed15-91ce4446810d"
   },
   "outputs": [
    {
     "data": {
      "text/plain": [
       "children               0\n",
       "days_employed       2174\n",
       "dob_years              0\n",
       "education              0\n",
       "education_id           0\n",
       "family_status          0\n",
       "family_status_id       0\n",
       "gender                 0\n",
       "income_type            0\n",
       "debt                   0\n",
       "total_income        2174\n",
       "purpose                0\n",
       "dtype: int64"
      ]
     },
     "execution_count": 4,
     "metadata": {},
     "output_type": "execute_result"
    }
   ],
   "source": [
    "data.isna().sum()"
   ]
  },
  {
   "cell_type": "markdown",
   "id": "1bcf7938",
   "metadata": {
    "deletable": false,
    "editable": false,
    "id": "db86e27b"
   },
   "source": [
    "В двух столбцах есть пропущенные значения. Один из них — `days_employed`. Пропуски в этом столбце обработаю на следующем этапе. Другой столбец с пропущенными значениями — `total_income` — хранит данные о доходах. На сумму дохода сильнее всего влияет тип занятости, поэтому заполнить пропуски в этом столбце нужно медианным значением по каждому типу из столбца `income_type`. "
   ]
  },
  {
   "cell_type": "code",
   "execution_count": 5,
   "id": "78e05af7",
   "metadata": {
    "deletable": false,
    "id": "42006a93"
   },
   "outputs": [],
   "source": [
    "for t in data['income_type'].unique():\n",
    "    data.loc[(data['income_type'] == t) & (data['total_income'].isna()), 'total_income'] = \\\n",
    "    data.loc[(data['income_type'] == t), 'total_income'].median()"
   ]
  },
  {
   "cell_type": "markdown",
   "id": "0e87febf",
   "metadata": {
    "deletable": false,
    "editable": false,
    "id": "89da5ece"
   },
   "source": [
    "### Обработка аномальных значений"
   ]
  },
  {
   "cell_type": "markdown",
   "id": "9a43a805",
   "metadata": {
    "deletable": false,
    "editable": false,
    "id": "57964554"
   },
   "source": [
    "В данных могут встречаться артефакты (аномалии) — значения, которые не отражают действительность и появились по какой-то ошибке. Таким артефактом будет отрицательное количество дней трудового стажа в столбце `days_employed`. Для реальных данных это нормально. Обработаю значения в этом столбце: заменю все отрицательные значения положительными с помощью метода `abs()`."
   ]
  },
  {
   "cell_type": "code",
   "execution_count": 6,
   "id": "044d27ff",
   "metadata": {
    "deletable": false,
    "id": "f6f055bf"
   },
   "outputs": [],
   "source": [
    "data['days_employed'] = data['days_employed'].abs()"
   ]
  },
  {
   "cell_type": "markdown",
   "id": "74a05fbe",
   "metadata": {
    "deletable": false,
    "editable": false,
    "id": "6107dd2f"
   },
   "source": [
    "Для каждого типа занятости выведу медианное значение трудового стажа `days_employed` в днях."
   ]
  },
  {
   "cell_type": "code",
   "execution_count": 7,
   "id": "51c6377e",
   "metadata": {
    "deletable": false,
    "id": "85a5faf6",
    "outputId": "801ef80e-522b-4668-f34e-565af7432bcf"
   },
   "outputs": [
    {
     "data": {
      "text/plain": [
       "income_type\n",
       "безработный        366413.652744\n",
       "в декрете            3296.759962\n",
       "госслужащий          2689.368353\n",
       "компаньон            1547.382223\n",
       "пенсионер          365213.306266\n",
       "предприниматель       520.848083\n",
       "сотрудник            1574.202821\n",
       "студент               578.751554\n",
       "Name: days_employed, dtype: float64"
      ]
     },
     "execution_count": 7,
     "metadata": {},
     "output_type": "execute_result"
    }
   ],
   "source": [
    "data.groupby('income_type')['days_employed'].agg('median')"
   ]
  },
  {
   "cell_type": "markdown",
   "id": "739efa80",
   "metadata": {
    "deletable": false,
    "editable": false,
    "id": "38d1a030"
   },
   "source": [
    "У двух типов (безработные и пенсионеры) получатся аномально большие значения. Исправить такие значения сложно, поэтому оставлю их как есть. Тем более этот столбец не понадобится для исследования."
   ]
  },
  {
   "cell_type": "markdown",
   "id": "10803274",
   "metadata": {
    "deletable": false,
    "editable": false,
    "id": "d8a9f147"
   },
   "source": [
    "Выведу перечень уникальных значений столбца `children`."
   ]
  },
  {
   "cell_type": "code",
   "execution_count": 8,
   "id": "39882436",
   "metadata": {
    "deletable": false,
    "id": "ef5056eb",
    "outputId": "6975b15c-7f95-4697-d16d-a0c79b657b03"
   },
   "outputs": [
    {
     "data": {
      "text/plain": [
       "array([ 1,  0,  3,  2, -1,  4, 20,  5], dtype=int64)"
      ]
     },
     "execution_count": 8,
     "metadata": {},
     "output_type": "execute_result"
    }
   ],
   "source": [
    "data['children'].unique()"
   ]
  },
  {
   "cell_type": "markdown",
   "id": "6a5e1fd7",
   "metadata": {
    "deletable": false,
    "editable": false,
    "id": "40b9ebf2"
   },
   "source": [
    "В столбце `children` есть два аномальных значения. Удалю строки, в которых встречаются такие аномальные значения из датафрейма `data`."
   ]
  },
  {
   "cell_type": "code",
   "execution_count": 9,
   "id": "f8c25773",
   "metadata": {
    "deletable": false,
    "id": "3ff9801d"
   },
   "outputs": [],
   "source": [
    "data = data[(data['children'] != -1) & (data['children'] != 20)]"
   ]
  },
  {
   "cell_type": "markdown",
   "id": "0b447f5a",
   "metadata": {
    "deletable": false,
    "editable": false,
    "id": "bbc4d0ce"
   },
   "source": [
    "Ещё раз выведу перечень уникальных значений столбца `children`, чтобы убедиться, что артефакты удалены."
   ]
  },
  {
   "cell_type": "code",
   "execution_count": 10,
   "id": "53bbb859",
   "metadata": {
    "deletable": false,
    "id": "ad4fa8b7",
    "outputId": "b2097101-d49d-44d9-901b-32a65c9463d1"
   },
   "outputs": [
    {
     "data": {
      "text/plain": [
       "array([1, 0, 3, 2, 4, 5], dtype=int64)"
      ]
     },
     "execution_count": 10,
     "metadata": {},
     "output_type": "execute_result"
    }
   ],
   "source": [
    "data['children'].unique()"
   ]
  },
  {
   "cell_type": "markdown",
   "id": "29dc9434",
   "metadata": {
    "deletable": false,
    "editable": false,
    "id": "75440b63"
   },
   "source": [
    "### Удаление пропусков (продолжение)"
   ]
  },
  {
   "cell_type": "markdown",
   "id": "b75b8ea4",
   "metadata": {
    "deletable": false,
    "editable": false,
    "id": "f4ea573f"
   },
   "source": [
    "Заполню пропуски в столбце `days_employed` медианными значениями по каждого типа занятости `income_type`."
   ]
  },
  {
   "cell_type": "code",
   "execution_count": 11,
   "id": "bf6927f2",
   "metadata": {
    "deletable": false,
    "id": "af6b1a7e"
   },
   "outputs": [],
   "source": [
    "for t in data['income_type'].unique():\n",
    "    data.loc[(data['income_type'] == t) & (data['days_employed'].isna()), 'days_employed'] = \\\n",
    "    data.loc[(data['income_type'] == t), 'days_employed'].median()"
   ]
  },
  {
   "cell_type": "markdown",
   "id": "1b5700be",
   "metadata": {
    "deletable": false,
    "editable": false,
    "id": "2753f40d"
   },
   "source": [
    "Убедюсь, что все пропуски заполнены. Проверю себя и ещё раз выведите количество пропущенных значений для каждого столбца с помощью двух методов."
   ]
  },
  {
   "cell_type": "code",
   "execution_count": 12,
   "id": "469ce383",
   "metadata": {
    "deletable": false,
    "id": "55f78bc2",
    "outputId": "8da1e4e1-358e-4e87-98c9-f261bce0a7b2"
   },
   "outputs": [
    {
     "data": {
      "text/plain": [
       "children            0\n",
       "days_employed       0\n",
       "dob_years           0\n",
       "education           0\n",
       "education_id        0\n",
       "family_status       0\n",
       "family_status_id    0\n",
       "gender              0\n",
       "income_type         0\n",
       "debt                0\n",
       "total_income        0\n",
       "purpose             0\n",
       "dtype: int64"
      ]
     },
     "execution_count": 12,
     "metadata": {},
     "output_type": "execute_result"
    }
   ],
   "source": [
    "data.isna().sum()"
   ]
  },
  {
   "cell_type": "markdown",
   "id": "ceb392ac",
   "metadata": {
    "deletable": false,
    "editable": false,
    "id": "ddc81e43"
   },
   "source": [
    "### Изменение типов данных"
   ]
  },
  {
   "cell_type": "markdown",
   "id": "5c62379e",
   "metadata": {
    "deletable": false,
    "editable": false,
    "id": "42d19d24"
   },
   "source": [
    "Заменю вещественный тип данных в столбце `total_income` на целочисленный с помощью метода `astype()`."
   ]
  },
  {
   "cell_type": "code",
   "execution_count": 13,
   "id": "cce7fc1e",
   "metadata": {
    "deletable": false,
    "id": "920b65ad"
   },
   "outputs": [],
   "source": [
    "data['total_income'] = data['total_income'].astype(int)"
   ]
  },
  {
   "cell_type": "markdown",
   "id": "424084dd",
   "metadata": {
    "deletable": false,
    "editable": false,
    "id": "80c420ba"
   },
   "source": [
    "### Обработка дубликатов"
   ]
  },
  {
   "cell_type": "markdown",
   "id": "e1bbe695",
   "metadata": {
    "deletable": false,
    "editable": false
   },
   "source": [
    "Обработаю неявные дубликаты в столбце `education`. В этом столбце есть одни и те же значения, но записанные по-разному: с использованием заглавных и строчных букв. Приведу их к нижнему регистру. Проверю остальные столбцы."
   ]
  },
  {
   "cell_type": "code",
   "execution_count": 14,
   "id": "98526284",
   "metadata": {
    "deletable": false
   },
   "outputs": [],
   "source": [
    "data['education'] = data['education'].str.lower()"
   ]
  },
  {
   "cell_type": "markdown",
   "id": "8a442008",
   "metadata": {
    "deletable": false,
    "editable": false,
    "id": "dc587695"
   },
   "source": [
    "Выведу на экран количество строк-дубликатов в данных. Если такие строки присутствуют, удалю их."
   ]
  },
  {
   "cell_type": "code",
   "execution_count": 15,
   "id": "4ca1d3c6",
   "metadata": {
    "deletable": false,
    "id": "3ee445e4",
    "outputId": "9684deba-1934-42d1-99e1-cda61740f822"
   },
   "outputs": [
    {
     "data": {
      "text/plain": [
       "71"
      ]
     },
     "execution_count": 15,
     "metadata": {},
     "output_type": "execute_result"
    }
   ],
   "source": [
    "data.duplicated().sum()"
   ]
  },
  {
   "cell_type": "code",
   "execution_count": 16,
   "id": "80078683",
   "metadata": {
    "deletable": false,
    "id": "8575fe05"
   },
   "outputs": [],
   "source": [
    "data = data.drop_duplicates()"
   ]
  },
  {
   "cell_type": "markdown",
   "id": "1b75fd9a",
   "metadata": {
    "deletable": false,
    "editable": false,
    "id": "9904cf55"
   },
   "source": [
    "### Категоризация данных"
   ]
  },
  {
   "cell_type": "markdown",
   "id": "d951dd00",
   "metadata": {
    "deletable": false,
    "editable": false,
    "id": "72fcc8a2"
   },
   "source": [
    "На основании диапазонов, указанных ниже, создам в датафрейме `data` столбец `total_income_category` с категориями:\n",
    "\n",
    "- 0–30000 — `'E'`;\n",
    "- 30001–50000 — `'D'`;\n",
    "- 50001–200000 — `'C'`;\n",
    "- 200001–1000000 — `'B'`;\n",
    "- 1000001 и выше — `'A'`.\n",
    "\n",
    "\n",
    "Например, кредитополучателю с доходом 25000 нужно назначить категорию `'E'`, а клиенту, получающему 235000, — `'B'`. Использую собственную функцию с именем `categorize_income()` и метод `apply()`."
   ]
  },
  {
   "cell_type": "code",
   "execution_count": 17,
   "id": "f8f297d9",
   "metadata": {
    "deletable": false,
    "id": "e1771346"
   },
   "outputs": [],
   "source": [
    "def categorize_income(income):\n",
    "    try:\n",
    "        if 0 <= income <= 30000:\n",
    "            return 'E'\n",
    "        elif 30001 <= income <= 50000:\n",
    "            return 'D'\n",
    "        elif 50001 <= income <= 200000:\n",
    "            return 'C'\n",
    "        elif 200001 <= income <= 1000000:\n",
    "            return 'B'\n",
    "        elif income >= 1000001:\n",
    "            return 'A'\n",
    "    except:\n",
    "        pass"
   ]
  },
  {
   "cell_type": "code",
   "execution_count": 18,
   "id": "45b2a593",
   "metadata": {
    "deletable": false,
    "id": "d5f3586d"
   },
   "outputs": [],
   "source": [
    "data['total_income_category'] = data['total_income'].apply(categorize_income)"
   ]
  },
  {
   "cell_type": "markdown",
   "id": "235ee6e1",
   "metadata": {
    "deletable": false,
    "editable": false,
    "id": "dde49b5c"
   },
   "source": [
    "Выведу на экран перечень уникальных целей взятия кредита из столбца `purpose`."
   ]
  },
  {
   "cell_type": "code",
   "execution_count": 19,
   "id": "e4299933",
   "metadata": {
    "deletable": false,
    "id": "f67ce9b3",
    "outputId": "673c12d9-7d7e-4ae0-9812-c622c89dd244"
   },
   "outputs": [
    {
     "data": {
      "text/plain": [
       "array(['покупка жилья', 'приобретение автомобиля',\n",
       "       'дополнительное образование', 'сыграть свадьбу',\n",
       "       'операции с жильем', 'образование', 'на проведение свадьбы',\n",
       "       'покупка жилья для семьи', 'покупка недвижимости',\n",
       "       'покупка коммерческой недвижимости', 'покупка жилой недвижимости',\n",
       "       'строительство собственной недвижимости', 'недвижимость',\n",
       "       'строительство недвижимости', 'на покупку подержанного автомобиля',\n",
       "       'на покупку своего автомобиля',\n",
       "       'операции с коммерческой недвижимостью',\n",
       "       'строительство жилой недвижимости', 'жилье',\n",
       "       'операции со своей недвижимостью', 'автомобили',\n",
       "       'заняться образованием', 'сделка с подержанным автомобилем',\n",
       "       'получение образования', 'автомобиль', 'свадьба',\n",
       "       'получение дополнительного образования', 'покупка своего жилья',\n",
       "       'операции с недвижимостью', 'получение высшего образования',\n",
       "       'свой автомобиль', 'сделка с автомобилем',\n",
       "       'профильное образование', 'высшее образование',\n",
       "       'покупка жилья для сдачи', 'на покупку автомобиля', 'ремонт жилью',\n",
       "       'заняться высшим образованием'], dtype=object)"
      ]
     },
     "execution_count": 19,
     "metadata": {},
     "output_type": "execute_result"
    }
   ],
   "source": [
    "data['purpose'].unique()"
   ]
  },
  {
   "cell_type": "markdown",
   "id": "49223c5b",
   "metadata": {
    "deletable": false,
    "editable": false,
    "id": "85d0aef0"
   },
   "source": [
    "Создам функцию, которая на основании данных из столбца `purpose` сформирует новый столбец `purpose_category`, в который войдут следующие категории:\n",
    "\n",
    "- `'операции с автомобилем'`,\n",
    "- `'операции с недвижимостью'`,\n",
    "- `'проведение свадьбы'`,\n",
    "- `'получение образования'`.\n",
    "\n",
    "Например, если в столбце `purpose` находится подстрока `'на покупку автомобиля'`, то в столбце `purpose_category` должна появиться строка `'операции с автомобилем'`.\n",
    "\n",
    "Использую собственную функцию с именем `categorize_purpose()` и метод `apply()`. "
   ]
  },
  {
   "cell_type": "code",
   "execution_count": 20,
   "id": "fc979446",
   "metadata": {
    "deletable": false,
    "id": "e149fab4"
   },
   "outputs": [],
   "source": [
    "def categorize_purpose(row):\n",
    "    try:\n",
    "        if 'автом' in row:\n",
    "            return 'операции с автомобилем'\n",
    "        elif 'жил' in row or 'недвиж' in row:\n",
    "            return 'операции с недвижимостью'\n",
    "        elif 'свад' in row:\n",
    "            return 'проведение свадьбы'\n",
    "        elif 'образов' in row:\n",
    "            return 'получение образования'\n",
    "    except:\n",
    "        return 'нет категории'"
   ]
  },
  {
   "cell_type": "code",
   "execution_count": 21,
   "id": "47638dca",
   "metadata": {
    "deletable": false,
    "id": "bf36e69b"
   },
   "outputs": [],
   "source": [
    "data['purpose_category'] = data['purpose'].apply(categorize_purpose)"
   ]
  },
  {
   "cell_type": "markdown",
   "id": "1deb9900",
   "metadata": {
    "deletable": false,
    "editable": false,
    "id": "09b242bf"
   },
   "source": [
    "## Исследую данные и отвечу на вопросы"
   ]
  },
  {
   "cell_type": "markdown",
   "id": "b02dc7c3-6573-42a9-a37a-e83c54f310c4",
   "metadata": {},
   "source": [
    "* Есть ли зависимость между количеством детей и возвратом кредита в срок?\n",
    "* Есть ли зависимость между семейным положением и возвратом кредита в срок?\n",
    "* Есть ли зависимость между уровнем дохода и возвратом кредита в срок?\n",
    "* Как разные цели кредита влияют на его возврат в срок?\n",
    "* Приведите возможные причины появления пропусков в исходных данных.\n",
    "* Объясните, почему заполнить пропуски медианным значением — лучшее решение для количественных переменных."
   ]
  },
  {
   "cell_type": "markdown",
   "id": "239bb029",
   "metadata": {
    "deletable": false,
    "editable": false,
    "id": "c5d66278"
   },
   "source": [
    "### Есть ли зависимость между количеством детей и возвратом кредита в срок?"
   ]
  },
  {
   "cell_type": "markdown",
   "id": "f62749c0",
   "metadata": {},
   "source": [
    "Первая гипотеза утверждает, что есть зависимость между количеством детей и возвратом кредита в срок. Проверим распределение наблюдений по количеству детей и найдем корреляцию."
   ]
  },
  {
   "cell_type": "code",
   "execution_count": 22,
   "id": "4aae4f57",
   "metadata": {
    "deletable": false,
    "id": "2cacfc4a"
   },
   "outputs": [
    {
     "data": {
      "text/html": [
       "<style  type=\"text/css\" >\n",
       "</style><table id=\"T_ae466_\" ><thead>    <tr>        <th class=\"blank level0\" ></th>        <th class=\"col_heading level0 col0\" >Количество заемщиков</th>        <th class=\"col_heading level0 col1\" >Процент просрочки</th>    </tr>    <tr>        <th class=\"index_name level0\" >children</th>        <th class=\"blank\" ></th>        <th class=\"blank\" ></th>    </tr></thead><tbody>\n",
       "                <tr>\n",
       "                        <th id=\"T_ae466_level0_row0\" class=\"row_heading level0 row0\" >0</th>\n",
       "                        <td id=\"T_ae466_row0_col0\" class=\"data row0 col0\" >14091</td>\n",
       "                        <td id=\"T_ae466_row0_col1\" class=\"data row0 col1\" >7.54%</td>\n",
       "            </tr>\n",
       "            <tr>\n",
       "                        <th id=\"T_ae466_level0_row1\" class=\"row_heading level0 row1\" >1</th>\n",
       "                        <td id=\"T_ae466_row1_col0\" class=\"data row1 col0\" >4808</td>\n",
       "                        <td id=\"T_ae466_row1_col1\" class=\"data row1 col1\" >9.23%</td>\n",
       "            </tr>\n",
       "            <tr>\n",
       "                        <th id=\"T_ae466_level0_row2\" class=\"row_heading level0 row2\" >2</th>\n",
       "                        <td id=\"T_ae466_row2_col0\" class=\"data row2 col0\" >2052</td>\n",
       "                        <td id=\"T_ae466_row2_col1\" class=\"data row2 col1\" >9.45%</td>\n",
       "            </tr>\n",
       "            <tr>\n",
       "                        <th id=\"T_ae466_level0_row3\" class=\"row_heading level0 row3\" >3</th>\n",
       "                        <td id=\"T_ae466_row3_col0\" class=\"data row3 col0\" >330</td>\n",
       "                        <td id=\"T_ae466_row3_col1\" class=\"data row3 col1\" >8.18%</td>\n",
       "            </tr>\n",
       "            <tr>\n",
       "                        <th id=\"T_ae466_level0_row4\" class=\"row_heading level0 row4\" >4</th>\n",
       "                        <td id=\"T_ae466_row4_col0\" class=\"data row4 col0\" >41</td>\n",
       "                        <td id=\"T_ae466_row4_col1\" class=\"data row4 col1\" >9.76%</td>\n",
       "            </tr>\n",
       "            <tr>\n",
       "                        <th id=\"T_ae466_level0_row5\" class=\"row_heading level0 row5\" >5</th>\n",
       "                        <td id=\"T_ae466_row5_col0\" class=\"data row5 col0\" >9</td>\n",
       "                        <td id=\"T_ae466_row5_col1\" class=\"data row5 col1\" >0.00%</td>\n",
       "            </tr>\n",
       "    </tbody></table>"
      ],
      "text/plain": [
       "<pandas.io.formats.style.Styler at 0x1a8730bbbb0>"
      ]
     },
     "execution_count": 22,
     "metadata": {},
     "output_type": "execute_result"
    }
   ],
   "source": [
    "data_children_count = data.pivot_table(index=['children'], values='debt', aggfunc='count')\n",
    "data_children = data.pivot_table(index=['children'], values='debt', aggfunc='sum')\n",
    "data_children['Количество заемщиков'] = data_children_count['debt']\n",
    "data_children['Процент просрочки'] = data_children['debt']/data_children['Количество заемщиков']\n",
    "data_children[['Количество заемщиков', 'Процент просрочки']].style.format({'Процент просрочки': \"{:.2%}\"})"
   ]
  },
  {
   "cell_type": "markdown",
   "id": "1792caa8",
   "metadata": {
    "deletable": false,
    "id": "3a6b99ec"
   },
   "source": [
    "**Вывод:** Есть зависимость. Чем меньше детей, тем больше вероятность возврата кредита в срок."
   ]
  },
  {
   "cell_type": "markdown",
   "id": "f1440aa0",
   "metadata": {
    "deletable": false,
    "editable": false,
    "id": "97be82ca"
   },
   "source": [
    "### Есть ли зависимость между семейным положением и возвратом кредита в срок?"
   ]
  },
  {
   "cell_type": "markdown",
   "id": "b23d1e2f",
   "metadata": {},
   "source": [
    "Вторая гипотеза утверждает, что есть зависимость между семейным положение и возвратом кредита в срок. Проводим исследование по аналогии с первой гипотезой."
   ]
  },
  {
   "cell_type": "code",
   "execution_count": 23,
   "id": "49c7942e",
   "metadata": {
    "deletable": false,
    "id": "dc3f7ee8"
   },
   "outputs": [
    {
     "data": {
      "text/html": [
       "<style  type=\"text/css\" >\n",
       "</style><table id=\"T_75b0d_\" ><thead>    <tr>        <th class=\"blank level0\" ></th>        <th class=\"col_heading level0 col0\" >Количество заемщиков</th>        <th class=\"col_heading level0 col1\" >Процент просрочки</th>    </tr>    <tr>        <th class=\"index_name level0\" >family_status</th>        <th class=\"blank\" ></th>        <th class=\"blank\" ></th>    </tr></thead><tbody>\n",
       "                <tr>\n",
       "                        <th id=\"T_75b0d_level0_row0\" class=\"row_heading level0 row0\" >Не женат / не замужем</th>\n",
       "                        <td id=\"T_75b0d_row0_col0\" class=\"data row0 col0\" >2796</td>\n",
       "                        <td id=\"T_75b0d_row0_col1\" class=\"data row0 col1\" >9.76%</td>\n",
       "            </tr>\n",
       "            <tr>\n",
       "                        <th id=\"T_75b0d_level0_row1\" class=\"row_heading level0 row1\" >в разводе</th>\n",
       "                        <td id=\"T_75b0d_row1_col0\" class=\"data row1 col0\" >1189</td>\n",
       "                        <td id=\"T_75b0d_row1_col1\" class=\"data row1 col1\" >7.06%</td>\n",
       "            </tr>\n",
       "            <tr>\n",
       "                        <th id=\"T_75b0d_level0_row2\" class=\"row_heading level0 row2\" >вдовец / вдова</th>\n",
       "                        <td id=\"T_75b0d_row2_col0\" class=\"data row2 col0\" >951</td>\n",
       "                        <td id=\"T_75b0d_row2_col1\" class=\"data row2 col1\" >6.62%</td>\n",
       "            </tr>\n",
       "            <tr>\n",
       "                        <th id=\"T_75b0d_level0_row3\" class=\"row_heading level0 row3\" >гражданский брак</th>\n",
       "                        <td id=\"T_75b0d_row3_col0\" class=\"data row3 col0\" >4134</td>\n",
       "                        <td id=\"T_75b0d_row3_col1\" class=\"data row3 col1\" >9.31%</td>\n",
       "            </tr>\n",
       "            <tr>\n",
       "                        <th id=\"T_75b0d_level0_row4\" class=\"row_heading level0 row4\" >женат / замужем</th>\n",
       "                        <td id=\"T_75b0d_row4_col0\" class=\"data row4 col0\" >12261</td>\n",
       "                        <td id=\"T_75b0d_row4_col1\" class=\"data row4 col1\" >7.56%</td>\n",
       "            </tr>\n",
       "    </tbody></table>"
      ],
      "text/plain": [
       "<pandas.io.formats.style.Styler at 0x7f37be7bc220>"
      ]
     },
     "execution_count": 23,
     "metadata": {},
     "output_type": "execute_result"
    }
   ],
   "source": [
    "data_family_count = data.pivot_table(index=['family_status'], values='debt', aggfunc='count')\n",
    "data_family = data.pivot_table(index=['family_status'], values='debt', aggfunc='sum')\n",
    "data_family['Количество заемщиков'] = data_family_count['debt']\n",
    "data_family['Процент просрочки'] = data_family['debt']/data_family['Количество заемщиков']\n",
    "data_family[['Количество заемщиков', 'Процент просрочки']].style.format({'Процент просрочки': \"{:.2%}\"})"
   ]
  },
  {
   "cell_type": "markdown",
   "id": "ad755556",
   "metadata": {
    "deletable": false,
    "id": "1cef7837"
   },
   "source": [
    "**Вывод:** Зависимость есть: люди в браке и после него (в разводе, вдова/вдовец) с большей вероятностью возвращают в кредит срок. "
   ]
  },
  {
   "cell_type": "markdown",
   "id": "4d368c27",
   "metadata": {
    "deletable": false,
    "editable": false,
    "id": "1e8b2fca"
   },
   "source": [
    "### Есть ли зависимость между уровнем дохода и возвратом кредита в срок?"
   ]
  },
  {
   "cell_type": "markdown",
   "id": "68b00d1c",
   "metadata": {},
   "source": [
    "Третья гипотеза утверждает, что есть зависимость между уровнем дохода и возвратом кредита в срок. Исследуем данные."
   ]
  },
  {
   "cell_type": "code",
   "execution_count": 24,
   "id": "952ab2d0",
   "metadata": {
    "deletable": false,
    "id": "cd7e3720"
   },
   "outputs": [
    {
     "data": {
      "text/html": [
       "<style  type=\"text/css\" >\n",
       "</style><table id=\"T_03729_\" ><thead>    <tr>        <th class=\"blank level0\" ></th>        <th class=\"col_heading level0 col0\" >Количество заемщиков</th>        <th class=\"col_heading level0 col1\" >Процент просрочки</th>    </tr>    <tr>        <th class=\"index_name level0\" >total_income_category</th>        <th class=\"blank\" ></th>        <th class=\"blank\" ></th>    </tr></thead><tbody>\n",
       "                <tr>\n",
       "                        <th id=\"T_03729_level0_row0\" class=\"row_heading level0 row0\" >A</th>\n",
       "                        <td id=\"T_03729_row0_col0\" class=\"data row0 col0\" >25</td>\n",
       "                        <td id=\"T_03729_row0_col1\" class=\"data row0 col1\" >8.00%</td>\n",
       "            </tr>\n",
       "            <tr>\n",
       "                        <th id=\"T_03729_level0_row1\" class=\"row_heading level0 row1\" >B</th>\n",
       "                        <td id=\"T_03729_row1_col0\" class=\"data row1 col0\" >5014</td>\n",
       "                        <td id=\"T_03729_row1_col1\" class=\"data row1 col1\" >7.06%</td>\n",
       "            </tr>\n",
       "            <tr>\n",
       "                        <th id=\"T_03729_level0_row2\" class=\"row_heading level0 row2\" >C</th>\n",
       "                        <td id=\"T_03729_row2_col0\" class=\"data row2 col0\" >15921</td>\n",
       "                        <td id=\"T_03729_row2_col1\" class=\"data row2 col1\" >8.50%</td>\n",
       "            </tr>\n",
       "            <tr>\n",
       "                        <th id=\"T_03729_level0_row3\" class=\"row_heading level0 row3\" >D</th>\n",
       "                        <td id=\"T_03729_row3_col0\" class=\"data row3 col0\" >349</td>\n",
       "                        <td id=\"T_03729_row3_col1\" class=\"data row3 col1\" >6.02%</td>\n",
       "            </tr>\n",
       "            <tr>\n",
       "                        <th id=\"T_03729_level0_row4\" class=\"row_heading level0 row4\" >E</th>\n",
       "                        <td id=\"T_03729_row4_col0\" class=\"data row4 col0\" >22</td>\n",
       "                        <td id=\"T_03729_row4_col1\" class=\"data row4 col1\" >9.09%</td>\n",
       "            </tr>\n",
       "    </tbody></table>"
      ],
      "text/plain": [
       "<pandas.io.formats.style.Styler at 0x7f382b0626a0>"
      ]
     },
     "execution_count": 24,
     "metadata": {},
     "output_type": "execute_result"
    }
   ],
   "source": [
    "data_income_count = data.pivot_table(index=['total_income_category'], values='debt', aggfunc='count')\n",
    "data_income = data.pivot_table(index=['total_income_category'], values='debt', aggfunc='sum')\n",
    "data_income['Количество заемщиков'] = data_income_count['debt']\n",
    "data_income['Процент просрочки'] = data_income['debt']/data_income['Количество заемщиков']\n",
    "data_income[['Количество заемщиков', 'Процент просрочки']].style.format({'Процент просрочки': \"{:.2%}\"})"
   ]
  },
  {
   "cell_type": "markdown",
   "id": "589ed39f",
   "metadata": {
    "deletable": false,
    "id": "e8593def"
   },
   "source": [
    "**Вывод:** Гипотеза подтвердилась: из корреляции видно, что чем выше уровень дохода, тем чаще заемщики допускают просрочки."
   ]
  },
  {
   "cell_type": "markdown",
   "id": "596097c9",
   "metadata": {
    "deletable": false,
    "editable": false,
    "id": "99ecbd1f"
   },
   "source": [
    "### Как разные цели кредита влияют на его возврат в срок?"
   ]
  },
  {
   "cell_type": "markdown",
   "id": "5900ff37",
   "metadata": {},
   "source": [
    "Проверим, как влияют разные цели кредита на его возврат в срок."
   ]
  },
  {
   "cell_type": "code",
   "execution_count": 25,
   "id": "6690129c",
   "metadata": {
    "deletable": false,
    "id": "2b687290"
   },
   "outputs": [
    {
     "data": {
      "text/html": [
       "<style  type=\"text/css\" >\n",
       "</style><table id=\"T_1c207_\" ><thead>    <tr>        <th class=\"blank level0\" ></th>        <th class=\"col_heading level0 col0\" >Количество заемщиков</th>        <th class=\"col_heading level0 col1\" >Процент просрочки</th>    </tr>    <tr>        <th class=\"index_name level0\" >purpose_category</th>        <th class=\"blank\" ></th>        <th class=\"blank\" ></th>    </tr></thead><tbody>\n",
       "                <tr>\n",
       "                        <th id=\"T_1c207_level0_row0\" class=\"row_heading level0 row0\" >операции с автомобилем</th>\n",
       "                        <td id=\"T_1c207_row0_col0\" class=\"data row0 col0\" >4279</td>\n",
       "                        <td id=\"T_1c207_row0_col1\" class=\"data row0 col1\" >9.35%</td>\n",
       "            </tr>\n",
       "            <tr>\n",
       "                        <th id=\"T_1c207_level0_row1\" class=\"row_heading level0 row1\" >операции с недвижимостью</th>\n",
       "                        <td id=\"T_1c207_row1_col0\" class=\"data row1 col0\" >10751</td>\n",
       "                        <td id=\"T_1c207_row1_col1\" class=\"data row1 col1\" >7.26%</td>\n",
       "            </tr>\n",
       "            <tr>\n",
       "                        <th id=\"T_1c207_level0_row2\" class=\"row_heading level0 row2\" >получение образования</th>\n",
       "                        <td id=\"T_1c207_row2_col0\" class=\"data row2 col0\" >3988</td>\n",
       "                        <td id=\"T_1c207_row2_col1\" class=\"data row2 col1\" >9.25%</td>\n",
       "            </tr>\n",
       "            <tr>\n",
       "                        <th id=\"T_1c207_level0_row3\" class=\"row_heading level0 row3\" >проведение свадьбы</th>\n",
       "                        <td id=\"T_1c207_row3_col0\" class=\"data row3 col0\" >2313</td>\n",
       "                        <td id=\"T_1c207_row3_col1\" class=\"data row3 col1\" >7.91%</td>\n",
       "            </tr>\n",
       "    </tbody></table>"
      ],
      "text/plain": [
       "<pandas.io.formats.style.Styler at 0x7f37beac6a60>"
      ]
     },
     "execution_count": 25,
     "metadata": {},
     "output_type": "execute_result"
    }
   ],
   "source": [
    "data_purpose_count = data.pivot_table(index=['purpose_category'], values='debt', aggfunc='count')\n",
    "data_purpose = data.pivot_table(index=['purpose_category'], values='debt', aggfunc='sum')\n",
    "data_purpose['Количество заемщиков'] = data_purpose_count['debt']\n",
    "data_purpose['Процент просрочки'] = data_purpose['debt']/data_purpose['Количество заемщиков']\n",
    "data_purpose[['Количество заемщиков', 'Процент просрочки']].style.format({'Процент просрочки': \"{:.2%}\"})"
   ]
  },
  {
   "cell_type": "markdown",
   "id": "cc08090f",
   "metadata": {
    "deletable": false,
    "id": "b4bb2ce6"
   },
   "source": [
    "**Вывод:** Кредиты взятые на свадьбу или недвижимость отдадут с большей вероятностью, чем кредиты взятые на автомобиль или образование."
   ]
  },
  {
   "cell_type": "markdown",
   "id": "648e1319",
   "metadata": {
    "deletable": false,
    "editable": false,
    "id": "09c3ac4c"
   },
   "source": [
    "### Приведите возможные причины появления пропусков в исходных данных."
   ]
  },
  {
   "cell_type": "markdown",
   "id": "7344d8b2",
   "metadata": {
    "deletable": false,
    "id": "9da2ceda"
   },
   "source": [
    "*Ответ:* В изначальном дата фрейме у нас были пропуски в столбцах с информацией о доходах и стаже работы. Количество пропусков было одинаковым. Также я выяснил, что информация отсутствует в одних и тех же строках. Из всего этого можно предположить, что причиной появления пропусков является отсутвие справок о доходе с места работы."
   ]
  },
  {
   "cell_type": "markdown",
   "id": "0ed885d4",
   "metadata": {
    "deletable": false,
    "editable": false,
    "id": "7b0487d6"
   },
   "source": [
    "### Объясните, почему заполнить пропуски медианным значением — лучшее решение для количественных переменных."
   ]
  },
  {
   "cell_type": "markdown",
   "id": "d83f8af8",
   "metadata": {
    "deletable": false,
    "id": "7ecf2b8e"
   },
   "source": [
    "*Ответ:* У количественных переменных часто присутствуют значения, которые сильно выделяются среди большинства. Например, в нашем случае доходы клиентов банка. Для таких переменных использовать среднее значение некорректно, а медианное значение — лучшее решение."
   ]
  },
  {
   "cell_type": "markdown",
   "id": "dfa4e23b",
   "metadata": {
    "deletable": false,
    "editable": false,
    "id": "6db5255a"
   },
   "source": [
    "## Общий вывод."
   ]
  },
  {
   "cell_type": "markdown",
   "id": "5b34d468",
   "metadata": {
    "deletable": false,
    "id": "bad65432"
   },
   "source": [
    "Я выполнил предобработку данных. Удалил пропуски, обработал аномальные значения, дупликаты.\n",
    "\n",
    "Провел исследования на предмет надежности заемщиков. Нашел отношение между фактоми просрочки и количеством наблюдений.\n",
    "\n",
    "В результате могу ответить на поставленные вопросы:\n",
    "\n",
    "1. Есть ли зависимость между количеством детей и возвратом кредита в срок?\n",
    "\n",
    "Зависимость есть. Чем меньше детей, тем больше вероятность возврата кредита в срок.\n",
    "\n",
    "2. Есть ли зависимость между семейным положением и возвратом кредита в срок?\n",
    "\n",
    "Зависимость есть. Люди в браке и после него (в разводе, вдова/вдовец) с большей вероятностью возвращают в кредит срок.\n",
    "\n",
    "3.  Есть ли зависимость между уровнем дохода и возвратом кредита в срок?\n",
    "\n",
    "Зависимость есть. Чем выше уровень дохода, тем чаще заемщики допускают просрочки.\n",
    "\n",
    "4.  Как разные цели кредита влияют на его возврат в срок?\n",
    "\n",
    "Зависимость есть. Кредиты взятые на свадьбу или недвижимость отдадут с большей вероятностью, чем кредиты взятые на автомобиль или образование.\n",
    "\n",
    "Рекомендации:\n",
    "* найти причину пропусков данных сведений с мест работы заемщика.\n",
    "* найти причину появления дупликатов. Возможна она возникла во время копирования, считывания или записи данных, изменения формата файла. \n",
    "* для определения надежности заемщика можно еще использовать информацию о его дополнительных доходах или наоборот об обременениях.\n",
    "* для исследования еще можно попробывать использовать комбинации признаков. Например: молодой мужчина с высшим образованием хочет взять кредит на автомобиль.\n"
   ]
  }
 ],
 "metadata": {
  "ExecuteTimeLog": [
   {
    "duration": 507,
    "start_time": "2023-11-09T18:48:15.702Z"
   },
   {
    "duration": 22,
    "start_time": "2023-11-09T18:48:25.533Z"
   },
   {
    "duration": 17,
    "start_time": "2023-11-09T18:48:31.236Z"
   },
   {
    "duration": 12,
    "start_time": "2023-11-09T18:48:34.060Z"
   },
   {
    "duration": 46,
    "start_time": "2023-11-09T18:48:41.126Z"
   },
   {
    "duration": 8,
    "start_time": "2023-11-09T18:48:53.481Z"
   },
   {
    "duration": 9,
    "start_time": "2023-11-09T18:48:57.124Z"
   },
   {
    "duration": 5,
    "start_time": "2023-11-09T18:48:59.367Z"
   },
   {
    "duration": 6,
    "start_time": "2023-11-09T18:49:02.853Z"
   },
   {
    "duration": 5,
    "start_time": "2023-11-09T18:49:04.668Z"
   },
   {
    "duration": 38,
    "start_time": "2023-11-09T18:50:10.543Z"
   },
   {
    "duration": 10,
    "start_time": "2023-11-09T18:50:12.381Z"
   },
   {
    "duration": 5,
    "start_time": "2023-11-09T18:50:15.693Z"
   },
   {
    "duration": 13,
    "start_time": "2023-11-09T18:50:20.758Z"
   },
   {
    "duration": 23,
    "start_time": "2023-11-09T18:50:26.048Z"
   },
   {
    "duration": 19,
    "start_time": "2023-11-09T18:50:28.054Z"
   },
   {
    "duration": 6,
    "start_time": "2023-11-09T18:50:51.438Z"
   },
   {
    "duration": 10,
    "start_time": "2023-11-09T18:50:56.355Z"
   },
   {
    "duration": 6,
    "start_time": "2023-11-09T18:50:58.789Z"
   },
   {
    "duration": 3,
    "start_time": "2023-11-09T18:51:15.717Z"
   },
   {
    "duration": 10,
    "start_time": "2023-11-09T18:51:17.898Z"
   },
   {
    "duration": 61,
    "start_time": "2023-11-10T08:41:32.412Z"
   },
   {
    "duration": 827,
    "start_time": "2023-11-10T08:41:55.589Z"
   },
   {
    "duration": 37,
    "start_time": "2023-11-10T08:41:56.419Z"
   },
   {
    "duration": 41,
    "start_time": "2023-11-10T08:41:56.458Z"
   },
   {
    "duration": 32,
    "start_time": "2023-11-10T08:41:56.500Z"
   },
   {
    "duration": 75,
    "start_time": "2023-11-10T08:41:56.539Z"
   },
   {
    "duration": 10,
    "start_time": "2023-11-10T08:41:56.616Z"
   },
   {
    "duration": 54,
    "start_time": "2023-11-10T08:41:56.629Z"
   },
   {
    "duration": 16,
    "start_time": "2023-11-10T08:41:56.685Z"
   },
   {
    "duration": 49,
    "start_time": "2023-11-10T08:41:56.704Z"
   },
   {
    "duration": 46,
    "start_time": "2023-11-10T08:41:56.756Z"
   },
   {
    "duration": 69,
    "start_time": "2023-11-10T08:41:56.804Z"
   },
   {
    "duration": 14,
    "start_time": "2023-11-10T08:41:56.876Z"
   },
   {
    "duration": 31,
    "start_time": "2023-11-10T08:41:56.892Z"
   },
   {
    "duration": 29,
    "start_time": "2023-11-10T08:41:56.927Z"
   },
   {
    "duration": 35,
    "start_time": "2023-11-10T08:41:56.959Z"
   },
   {
    "duration": 35,
    "start_time": "2023-11-10T08:41:56.996Z"
   },
   {
    "duration": 15,
    "start_time": "2023-11-10T08:41:57.033Z"
   },
   {
    "duration": 40,
    "start_time": "2023-11-10T08:41:57.050Z"
   },
   {
    "duration": 26,
    "start_time": "2023-11-10T08:41:57.092Z"
   },
   {
    "duration": 24,
    "start_time": "2023-11-10T08:41:57.131Z"
   },
   {
    "duration": 81,
    "start_time": "2023-11-10T08:41:57.158Z"
   },
   {
    "duration": 40,
    "start_time": "2023-11-10T08:41:57.242Z"
   },
   {
    "duration": 39,
    "start_time": "2023-11-10T08:41:57.284Z"
   },
   {
    "duration": 16,
    "start_time": "2023-11-10T08:41:57.326Z"
   },
   {
    "duration": 38,
    "start_time": "2023-11-10T08:41:57.346Z"
   },
   {
    "duration": 12,
    "start_time": "2023-11-10T08:49:56.207Z"
   },
   {
    "duration": 6,
    "start_time": "2023-11-10T08:51:15.154Z"
   },
   {
    "duration": 13,
    "start_time": "2023-11-10T08:53:15.726Z"
   },
   {
    "duration": 9,
    "start_time": "2023-11-10T08:56:43.743Z"
   },
   {
    "duration": 7,
    "start_time": "2023-11-10T08:59:34.868Z"
   },
   {
    "duration": 16,
    "start_time": "2023-11-10T08:59:42.935Z"
   },
   {
    "duration": 15,
    "start_time": "2023-11-10T09:00:45.149Z"
   },
   {
    "duration": 13,
    "start_time": "2023-11-10T09:13:45.159Z"
   },
   {
    "duration": 24,
    "start_time": "2023-11-10T09:16:16.917Z"
   },
   {
    "duration": 16,
    "start_time": "2023-11-10T09:16:27.447Z"
   },
   {
    "duration": 14,
    "start_time": "2023-11-10T11:44:35.248Z"
   },
   {
    "duration": 13,
    "start_time": "2023-11-10T11:44:50.142Z"
   },
   {
    "duration": 18,
    "start_time": "2023-11-10T11:45:01.321Z"
   },
   {
    "duration": 3,
    "start_time": "2023-11-10T11:49:40.512Z"
   },
   {
    "duration": 15,
    "start_time": "2023-11-10T12:43:24.193Z"
   },
   {
    "duration": 10,
    "start_time": "2023-11-10T12:44:06.673Z"
   },
   {
    "duration": 15,
    "start_time": "2023-11-10T12:44:39.145Z"
   },
   {
    "duration": 15,
    "start_time": "2023-11-10T12:45:33.080Z"
   },
   {
    "duration": 13,
    "start_time": "2023-11-10T12:45:41.859Z"
   },
   {
    "duration": 12,
    "start_time": "2023-11-10T12:48:13.730Z"
   },
   {
    "duration": 9,
    "start_time": "2023-11-10T12:49:06.394Z"
   },
   {
    "duration": 22,
    "start_time": "2023-11-10T12:50:28.884Z"
   },
   {
    "duration": 47,
    "start_time": "2023-11-13T06:18:03.477Z"
   },
   {
    "duration": 6,
    "start_time": "2023-11-13T06:18:30.966Z"
   },
   {
    "duration": 695,
    "start_time": "2023-11-13T06:18:47.353Z"
   },
   {
    "duration": 29,
    "start_time": "2023-11-13T06:18:48.050Z"
   },
   {
    "duration": 20,
    "start_time": "2023-11-13T06:18:48.080Z"
   },
   {
    "duration": 24,
    "start_time": "2023-11-13T06:18:48.102Z"
   },
   {
    "duration": 63,
    "start_time": "2023-11-13T06:18:48.128Z"
   },
   {
    "duration": 4,
    "start_time": "2023-11-13T06:18:48.192Z"
   },
   {
    "duration": 21,
    "start_time": "2023-11-13T06:18:48.198Z"
   },
   {
    "duration": 23,
    "start_time": "2023-11-13T06:18:48.221Z"
   },
   {
    "duration": 15,
    "start_time": "2023-11-13T06:18:48.246Z"
   },
   {
    "duration": 12,
    "start_time": "2023-11-13T06:18:48.263Z"
   },
   {
    "duration": 76,
    "start_time": "2023-11-13T06:18:48.277Z"
   },
   {
    "duration": 11,
    "start_time": "2023-11-13T06:18:48.355Z"
   },
   {
    "duration": 33,
    "start_time": "2023-11-13T06:18:48.368Z"
   },
   {
    "duration": 24,
    "start_time": "2023-11-13T06:18:48.403Z"
   },
   {
    "duration": 51,
    "start_time": "2023-11-13T06:18:48.429Z"
   },
   {
    "duration": 16,
    "start_time": "2023-11-13T06:18:48.482Z"
   },
   {
    "duration": 4,
    "start_time": "2023-11-13T06:18:48.499Z"
   },
   {
    "duration": 10,
    "start_time": "2023-11-13T06:18:48.505Z"
   },
   {
    "duration": 5,
    "start_time": "2023-11-13T06:18:48.516Z"
   },
   {
    "duration": 4,
    "start_time": "2023-11-13T06:18:48.522Z"
   },
   {
    "duration": 16,
    "start_time": "2023-11-13T06:18:48.527Z"
   },
   {
    "duration": 12,
    "start_time": "2023-11-13T06:18:48.544Z"
   },
   {
    "duration": 8,
    "start_time": "2023-11-13T06:18:48.557Z"
   },
   {
    "duration": 12,
    "start_time": "2023-11-13T06:18:48.566Z"
   },
   {
    "duration": 15,
    "start_time": "2023-11-13T06:18:48.580Z"
   },
   {
    "duration": 13,
    "start_time": "2023-11-13T06:18:48.597Z"
   },
   {
    "duration": 8,
    "start_time": "2023-11-13T06:18:48.642Z"
   },
   {
    "duration": 11,
    "start_time": "2023-11-13T06:18:48.653Z"
   },
   {
    "duration": 10,
    "start_time": "2023-11-13T06:18:48.666Z"
   },
   {
    "duration": 7,
    "start_time": "2023-11-13T06:18:48.677Z"
   },
   {
    "duration": 1948,
    "start_time": "2023-11-13T06:18:48.685Z"
   },
   {
    "duration": 0,
    "start_time": "2023-11-13T06:18:50.635Z"
   },
   {
    "duration": 0,
    "start_time": "2023-11-13T06:18:50.636Z"
   },
   {
    "duration": 0,
    "start_time": "2023-11-13T06:18:50.637Z"
   },
   {
    "duration": 0,
    "start_time": "2023-11-13T06:19:18.451Z"
   },
   {
    "duration": 494,
    "start_time": "2023-11-13T06:19:24.809Z"
   },
   {
    "duration": 21,
    "start_time": "2023-11-13T06:19:25.305Z"
   },
   {
    "duration": 15,
    "start_time": "2023-11-13T06:19:25.327Z"
   },
   {
    "duration": 10,
    "start_time": "2023-11-13T06:19:25.344Z"
   },
   {
    "duration": 38,
    "start_time": "2023-11-13T06:19:25.355Z"
   },
   {
    "duration": 3,
    "start_time": "2023-11-13T06:19:25.394Z"
   },
   {
    "duration": 12,
    "start_time": "2023-11-13T06:19:25.399Z"
   },
   {
    "duration": 5,
    "start_time": "2023-11-13T06:19:25.412Z"
   },
   {
    "duration": 7,
    "start_time": "2023-11-13T06:19:25.443Z"
   },
   {
    "duration": 4,
    "start_time": "2023-11-13T06:19:25.454Z"
   },
   {
    "duration": 37,
    "start_time": "2023-11-13T06:19:25.460Z"
   },
   {
    "duration": 11,
    "start_time": "2023-11-13T06:19:25.499Z"
   },
   {
    "duration": 32,
    "start_time": "2023-11-13T06:19:25.512Z"
   },
   {
    "duration": 12,
    "start_time": "2023-11-13T06:19:25.546Z"
   },
   {
    "duration": 23,
    "start_time": "2023-11-13T06:19:25.560Z"
   },
   {
    "duration": 19,
    "start_time": "2023-11-13T06:19:25.585Z"
   },
   {
    "duration": 5,
    "start_time": "2023-11-13T06:19:25.605Z"
   },
   {
    "duration": 16,
    "start_time": "2023-11-13T06:19:25.642Z"
   },
   {
    "duration": 9,
    "start_time": "2023-11-13T06:19:25.659Z"
   },
   {
    "duration": 4,
    "start_time": "2023-11-13T06:19:25.670Z"
   },
   {
    "duration": 11,
    "start_time": "2023-11-13T06:19:25.675Z"
   },
   {
    "duration": 12,
    "start_time": "2023-11-13T06:19:25.688Z"
   },
   {
    "duration": 7,
    "start_time": "2023-11-13T06:19:25.702Z"
   },
   {
    "duration": 41,
    "start_time": "2023-11-13T06:19:25.710Z"
   },
   {
    "duration": 15,
    "start_time": "2023-11-13T06:19:25.752Z"
   },
   {
    "duration": 11,
    "start_time": "2023-11-13T06:19:25.768Z"
   },
   {
    "duration": 11,
    "start_time": "2023-11-13T06:19:25.781Z"
   },
   {
    "duration": 13,
    "start_time": "2023-11-13T06:19:25.796Z"
   },
   {
    "duration": 41,
    "start_time": "2023-11-13T06:19:25.811Z"
   },
   {
    "duration": 8,
    "start_time": "2023-11-13T06:19:25.854Z"
   },
   {
    "duration": 1014,
    "start_time": "2023-11-13T06:19:25.863Z"
   },
   {
    "duration": 0,
    "start_time": "2023-11-13T06:19:26.879Z"
   },
   {
    "duration": 0,
    "start_time": "2023-11-13T06:19:26.880Z"
   },
   {
    "duration": 0,
    "start_time": "2023-11-13T06:19:26.882Z"
   },
   {
    "duration": 13,
    "start_time": "2023-11-13T06:19:43.176Z"
   },
   {
    "duration": 478,
    "start_time": "2023-11-13T06:50:53.661Z"
   },
   {
    "duration": 22,
    "start_time": "2023-11-13T06:50:54.141Z"
   },
   {
    "duration": 16,
    "start_time": "2023-11-13T06:50:54.164Z"
   },
   {
    "duration": 10,
    "start_time": "2023-11-13T06:50:54.182Z"
   },
   {
    "duration": 55,
    "start_time": "2023-11-13T06:50:54.193Z"
   },
   {
    "duration": 3,
    "start_time": "2023-11-13T06:50:54.250Z"
   },
   {
    "duration": 16,
    "start_time": "2023-11-13T06:50:54.254Z"
   },
   {
    "duration": 8,
    "start_time": "2023-11-13T06:50:54.271Z"
   },
   {
    "duration": 9,
    "start_time": "2023-11-13T06:50:54.281Z"
   },
   {
    "duration": 4,
    "start_time": "2023-11-13T06:50:54.294Z"
   },
   {
    "duration": 59,
    "start_time": "2023-11-13T06:50:54.299Z"
   },
   {
    "duration": 9,
    "start_time": "2023-11-13T06:50:54.360Z"
   },
   {
    "duration": 3,
    "start_time": "2023-11-13T06:50:54.371Z"
   },
   {
    "duration": 12,
    "start_time": "2023-11-13T06:50:54.376Z"
   },
   {
    "duration": 20,
    "start_time": "2023-11-13T06:50:54.390Z"
   },
   {
    "duration": 42,
    "start_time": "2023-11-13T06:50:54.411Z"
   },
   {
    "duration": 3,
    "start_time": "2023-11-13T06:50:54.455Z"
   },
   {
    "duration": 34,
    "start_time": "2023-11-13T06:50:54.460Z"
   },
   {
    "duration": 23,
    "start_time": "2023-11-13T06:50:54.496Z"
   },
   {
    "duration": 34,
    "start_time": "2023-11-13T06:50:54.521Z"
   },
   {
    "duration": 9,
    "start_time": "2023-11-13T06:50:54.557Z"
   },
   {
    "duration": 12,
    "start_time": "2023-11-13T06:50:54.567Z"
   },
   {
    "duration": 7,
    "start_time": "2023-11-13T06:50:54.580Z"
   },
   {
    "duration": 11,
    "start_time": "2023-11-13T06:50:54.588Z"
   },
   {
    "duration": 10,
    "start_time": "2023-11-13T06:50:54.600Z"
   },
   {
    "duration": 31,
    "start_time": "2023-11-13T06:50:54.612Z"
   },
   {
    "duration": 13,
    "start_time": "2023-11-13T06:50:54.644Z"
   },
   {
    "duration": 9,
    "start_time": "2023-11-13T06:50:54.660Z"
   },
   {
    "duration": 7,
    "start_time": "2023-11-13T06:50:54.671Z"
   },
   {
    "duration": 11,
    "start_time": "2023-11-13T06:50:54.679Z"
   },
   {
    "duration": 9,
    "start_time": "2023-11-13T06:50:54.692Z"
   },
   {
    "duration": 41,
    "start_time": "2023-11-13T06:50:54.703Z"
   },
   {
    "duration": 14,
    "start_time": "2023-11-13T06:50:54.746Z"
   },
   {
    "duration": 17,
    "start_time": "2023-11-13T06:55:46.276Z"
   },
   {
    "duration": 533,
    "start_time": "2023-11-13T06:56:01.410Z"
   },
   {
    "duration": 23,
    "start_time": "2023-11-13T06:56:01.945Z"
   },
   {
    "duration": 38,
    "start_time": "2023-11-13T06:56:01.970Z"
   },
   {
    "duration": 47,
    "start_time": "2023-11-13T06:56:02.010Z"
   },
   {
    "duration": 81,
    "start_time": "2023-11-13T06:56:02.059Z"
   },
   {
    "duration": 13,
    "start_time": "2023-11-13T06:56:02.142Z"
   },
   {
    "duration": 62,
    "start_time": "2023-11-13T06:56:02.157Z"
   },
   {
    "duration": 35,
    "start_time": "2023-11-13T06:56:02.221Z"
   },
   {
    "duration": 29,
    "start_time": "2023-11-13T06:56:02.258Z"
   },
   {
    "duration": 25,
    "start_time": "2023-11-13T06:56:02.290Z"
   },
   {
    "duration": 54,
    "start_time": "2023-11-13T06:56:02.316Z"
   },
   {
    "duration": 75,
    "start_time": "2023-11-13T06:56:02.371Z"
   },
   {
    "duration": 28,
    "start_time": "2023-11-13T06:56:02.447Z"
   },
   {
    "duration": 37,
    "start_time": "2023-11-13T06:56:02.477Z"
   },
   {
    "duration": 118,
    "start_time": "2023-11-13T06:56:02.516Z"
   },
   {
    "duration": 40,
    "start_time": "2023-11-13T06:56:02.636Z"
   },
   {
    "duration": 4,
    "start_time": "2023-11-13T06:56:02.678Z"
   },
   {
    "duration": 41,
    "start_time": "2023-11-13T06:56:02.683Z"
   },
   {
    "duration": 33,
    "start_time": "2023-11-13T06:56:02.725Z"
   },
   {
    "duration": 17,
    "start_time": "2023-11-13T06:56:02.760Z"
   },
   {
    "duration": 137,
    "start_time": "2023-11-13T06:56:02.778Z"
   },
   {
    "duration": 116,
    "start_time": "2023-11-13T06:56:02.917Z"
   },
   {
    "duration": 99,
    "start_time": "2023-11-13T06:56:03.034Z"
   },
   {
    "duration": 64,
    "start_time": "2023-11-13T06:56:03.134Z"
   },
   {
    "duration": 25,
    "start_time": "2023-11-13T06:56:03.199Z"
   },
   {
    "duration": 23,
    "start_time": "2023-11-13T06:56:03.226Z"
   },
   {
    "duration": 46,
    "start_time": "2023-11-13T06:56:03.250Z"
   },
   {
    "duration": 109,
    "start_time": "2023-11-13T06:56:03.299Z"
   },
   {
    "duration": 97,
    "start_time": "2023-11-13T06:56:03.410Z"
   },
   {
    "duration": 25,
    "start_time": "2023-11-13T06:56:03.508Z"
   },
   {
    "duration": 26,
    "start_time": "2023-11-13T06:56:03.535Z"
   },
   {
    "duration": 21,
    "start_time": "2023-11-13T06:56:03.562Z"
   },
   {
    "duration": 45,
    "start_time": "2023-11-13T06:56:03.584Z"
   },
   {
    "duration": 60,
    "start_time": "2023-11-13T06:57:36.067Z"
   },
   {
    "duration": 448,
    "start_time": "2023-11-13T06:57:54.682Z"
   },
   {
    "duration": 60,
    "start_time": "2023-11-13T06:57:55.133Z"
   },
   {
    "duration": 0,
    "start_time": "2023-11-13T06:57:55.198Z"
   },
   {
    "duration": 0,
    "start_time": "2023-11-13T06:57:55.200Z"
   },
   {
    "duration": 0,
    "start_time": "2023-11-13T06:57:55.201Z"
   },
   {
    "duration": 0,
    "start_time": "2023-11-13T06:57:55.202Z"
   },
   {
    "duration": 0,
    "start_time": "2023-11-13T06:57:55.204Z"
   },
   {
    "duration": 0,
    "start_time": "2023-11-13T06:57:55.206Z"
   },
   {
    "duration": 0,
    "start_time": "2023-11-13T06:57:55.207Z"
   },
   {
    "duration": 0,
    "start_time": "2023-11-13T06:57:55.209Z"
   },
   {
    "duration": 0,
    "start_time": "2023-11-13T06:57:55.210Z"
   },
   {
    "duration": 0,
    "start_time": "2023-11-13T06:57:55.212Z"
   },
   {
    "duration": 0,
    "start_time": "2023-11-13T06:57:55.213Z"
   },
   {
    "duration": 0,
    "start_time": "2023-11-13T06:57:55.243Z"
   },
   {
    "duration": 0,
    "start_time": "2023-11-13T06:57:55.245Z"
   },
   {
    "duration": 0,
    "start_time": "2023-11-13T06:57:55.246Z"
   },
   {
    "duration": 0,
    "start_time": "2023-11-13T06:57:55.248Z"
   },
   {
    "duration": 0,
    "start_time": "2023-11-13T06:57:55.249Z"
   },
   {
    "duration": 0,
    "start_time": "2023-11-13T06:57:55.250Z"
   },
   {
    "duration": 0,
    "start_time": "2023-11-13T06:57:55.252Z"
   },
   {
    "duration": 0,
    "start_time": "2023-11-13T06:57:55.253Z"
   },
   {
    "duration": 0,
    "start_time": "2023-11-13T06:57:55.254Z"
   },
   {
    "duration": 0,
    "start_time": "2023-11-13T06:57:55.256Z"
   },
   {
    "duration": 0,
    "start_time": "2023-11-13T06:57:55.258Z"
   },
   {
    "duration": 0,
    "start_time": "2023-11-13T06:57:55.259Z"
   },
   {
    "duration": 0,
    "start_time": "2023-11-13T06:57:55.260Z"
   },
   {
    "duration": 0,
    "start_time": "2023-11-13T06:57:55.262Z"
   },
   {
    "duration": 0,
    "start_time": "2023-11-13T06:57:55.263Z"
   },
   {
    "duration": 0,
    "start_time": "2023-11-13T06:57:55.265Z"
   },
   {
    "duration": 0,
    "start_time": "2023-11-13T06:57:55.266Z"
   },
   {
    "duration": 0,
    "start_time": "2023-11-13T06:57:55.268Z"
   },
   {
    "duration": 0,
    "start_time": "2023-11-13T06:57:55.269Z"
   },
   {
    "duration": 0,
    "start_time": "2023-11-13T06:57:55.271Z"
   },
   {
    "duration": 538,
    "start_time": "2023-11-13T07:00:08.735Z"
   },
   {
    "duration": 22,
    "start_time": "2023-11-13T07:00:09.275Z"
   },
   {
    "duration": 17,
    "start_time": "2023-11-13T07:00:09.298Z"
   },
   {
    "duration": 11,
    "start_time": "2023-11-13T07:00:09.317Z"
   },
   {
    "duration": 51,
    "start_time": "2023-11-13T07:00:09.330Z"
   },
   {
    "duration": 4,
    "start_time": "2023-11-13T07:00:09.382Z"
   },
   {
    "duration": 21,
    "start_time": "2023-11-13T07:00:09.387Z"
   },
   {
    "duration": 6,
    "start_time": "2023-11-13T07:00:09.410Z"
   },
   {
    "duration": 24,
    "start_time": "2023-11-13T07:00:09.418Z"
   },
   {
    "duration": 18,
    "start_time": "2023-11-13T07:00:09.446Z"
   },
   {
    "duration": 35,
    "start_time": "2023-11-13T07:00:09.466Z"
   },
   {
    "duration": 10,
    "start_time": "2023-11-13T07:00:09.503Z"
   },
   {
    "duration": 6,
    "start_time": "2023-11-13T07:00:09.515Z"
   },
   {
    "duration": 33,
    "start_time": "2023-11-13T07:00:09.522Z"
   },
   {
    "duration": 26,
    "start_time": "2023-11-13T07:00:09.557Z"
   },
   {
    "duration": 16,
    "start_time": "2023-11-13T07:00:09.585Z"
   },
   {
    "duration": 3,
    "start_time": "2023-11-13T07:00:09.603Z"
   },
   {
    "duration": 15,
    "start_time": "2023-11-13T07:00:09.608Z"
   },
   {
    "duration": 22,
    "start_time": "2023-11-13T07:00:09.624Z"
   },
   {
    "duration": 11,
    "start_time": "2023-11-13T07:00:09.647Z"
   },
   {
    "duration": 21,
    "start_time": "2023-11-13T07:00:09.660Z"
   },
   {
    "duration": 31,
    "start_time": "2023-11-13T07:00:09.683Z"
   },
   {
    "duration": 16,
    "start_time": "2023-11-13T07:00:09.715Z"
   },
   {
    "duration": 14,
    "start_time": "2023-11-13T07:00:09.733Z"
   },
   {
    "duration": 11,
    "start_time": "2023-11-13T07:00:09.748Z"
   },
   {
    "duration": 11,
    "start_time": "2023-11-13T07:00:09.761Z"
   },
   {
    "duration": 18,
    "start_time": "2023-11-13T07:00:09.773Z"
   },
   {
    "duration": 9,
    "start_time": "2023-11-13T07:00:09.794Z"
   },
   {
    "duration": 21,
    "start_time": "2023-11-13T07:00:09.805Z"
   },
   {
    "duration": 24,
    "start_time": "2023-11-13T07:00:09.828Z"
   },
   {
    "duration": 10,
    "start_time": "2023-11-13T07:00:09.854Z"
   },
   {
    "duration": 10,
    "start_time": "2023-11-13T07:00:09.865Z"
   },
   {
    "duration": 27,
    "start_time": "2023-11-13T07:00:09.877Z"
   },
   {
    "duration": 18,
    "start_time": "2023-11-13T07:03:48.174Z"
   },
   {
    "duration": 452,
    "start_time": "2023-11-13T07:04:35.987Z"
   },
   {
    "duration": 22,
    "start_time": "2023-11-13T07:04:36.441Z"
   },
   {
    "duration": 35,
    "start_time": "2023-11-13T07:04:36.464Z"
   },
   {
    "duration": 9,
    "start_time": "2023-11-13T07:04:36.501Z"
   },
   {
    "duration": 51,
    "start_time": "2023-11-13T07:04:36.512Z"
   },
   {
    "duration": 3,
    "start_time": "2023-11-13T07:04:36.565Z"
   },
   {
    "duration": 35,
    "start_time": "2023-11-13T07:04:36.570Z"
   },
   {
    "duration": 11,
    "start_time": "2023-11-13T07:04:36.606Z"
   },
   {
    "duration": 13,
    "start_time": "2023-11-13T07:04:36.618Z"
   },
   {
    "duration": 7,
    "start_time": "2023-11-13T07:04:36.634Z"
   },
   {
    "duration": 35,
    "start_time": "2023-11-13T07:04:36.642Z"
   },
   {
    "duration": 10,
    "start_time": "2023-11-13T07:04:36.678Z"
   },
   {
    "duration": 3,
    "start_time": "2023-11-13T07:04:36.689Z"
   },
   {
    "duration": 18,
    "start_time": "2023-11-13T07:04:36.694Z"
   },
   {
    "duration": 37,
    "start_time": "2023-11-13T07:04:36.713Z"
   },
   {
    "duration": 18,
    "start_time": "2023-11-13T07:04:36.751Z"
   },
   {
    "duration": 4,
    "start_time": "2023-11-13T07:04:36.770Z"
   },
   {
    "duration": 20,
    "start_time": "2023-11-13T07:04:36.775Z"
   },
   {
    "duration": 5,
    "start_time": "2023-11-13T07:04:36.796Z"
   },
   {
    "duration": 5,
    "start_time": "2023-11-13T07:04:36.803Z"
   },
   {
    "duration": 12,
    "start_time": "2023-11-13T07:04:36.809Z"
   },
   {
    "duration": 11,
    "start_time": "2023-11-13T07:04:36.842Z"
   },
   {
    "duration": 6,
    "start_time": "2023-11-13T07:04:36.855Z"
   },
   {
    "duration": 25,
    "start_time": "2023-11-13T07:04:36.862Z"
   },
   {
    "duration": 10,
    "start_time": "2023-11-13T07:04:36.889Z"
   },
   {
    "duration": 11,
    "start_time": "2023-11-13T07:04:36.900Z"
   },
   {
    "duration": 33,
    "start_time": "2023-11-13T07:04:36.912Z"
   },
   {
    "duration": 12,
    "start_time": "2023-11-13T07:04:36.947Z"
   },
   {
    "duration": 20,
    "start_time": "2023-11-13T07:04:36.960Z"
   },
   {
    "duration": 10,
    "start_time": "2023-11-13T07:04:36.982Z"
   },
   {
    "duration": 10,
    "start_time": "2023-11-13T07:04:36.993Z"
   },
   {
    "duration": 8,
    "start_time": "2023-11-13T07:04:37.004Z"
   },
   {
    "duration": 36,
    "start_time": "2023-11-13T07:04:37.013Z"
   },
   {
    "duration": 460,
    "start_time": "2023-11-13T07:06:29.062Z"
   },
   {
    "duration": 22,
    "start_time": "2023-11-13T07:06:29.524Z"
   },
   {
    "duration": 19,
    "start_time": "2023-11-13T07:06:29.547Z"
   },
   {
    "duration": 20,
    "start_time": "2023-11-13T07:06:29.567Z"
   },
   {
    "duration": 34,
    "start_time": "2023-11-13T07:06:29.588Z"
   },
   {
    "duration": 4,
    "start_time": "2023-11-13T07:06:29.623Z"
   },
   {
    "duration": 14,
    "start_time": "2023-11-13T07:06:29.629Z"
   },
   {
    "duration": 4,
    "start_time": "2023-11-13T07:06:29.645Z"
   },
   {
    "duration": 9,
    "start_time": "2023-11-13T07:06:29.651Z"
   },
   {
    "duration": 4,
    "start_time": "2023-11-13T07:06:29.664Z"
   },
   {
    "duration": 36,
    "start_time": "2023-11-13T07:06:29.669Z"
   },
   {
    "duration": 10,
    "start_time": "2023-11-13T07:06:29.706Z"
   },
   {
    "duration": 6,
    "start_time": "2023-11-13T07:06:29.741Z"
   },
   {
    "duration": 26,
    "start_time": "2023-11-13T07:06:29.749Z"
   },
   {
    "duration": 24,
    "start_time": "2023-11-13T07:06:29.777Z"
   },
   {
    "duration": 39,
    "start_time": "2023-11-13T07:06:29.803Z"
   },
   {
    "duration": 4,
    "start_time": "2023-11-13T07:06:29.845Z"
   },
   {
    "duration": 29,
    "start_time": "2023-11-13T07:06:29.850Z"
   },
   {
    "duration": 8,
    "start_time": "2023-11-13T07:06:29.881Z"
   },
   {
    "duration": 5,
    "start_time": "2023-11-13T07:06:29.891Z"
   },
   {
    "duration": 25,
    "start_time": "2023-11-13T07:06:29.898Z"
   },
   {
    "duration": 25,
    "start_time": "2023-11-13T07:06:29.926Z"
   },
   {
    "duration": 8,
    "start_time": "2023-11-13T07:06:29.953Z"
   },
   {
    "duration": 15,
    "start_time": "2023-11-13T07:06:29.962Z"
   },
   {
    "duration": 13,
    "start_time": "2023-11-13T07:06:29.979Z"
   },
   {
    "duration": 8,
    "start_time": "2023-11-13T07:06:29.994Z"
   },
   {
    "duration": 44,
    "start_time": "2023-11-13T07:06:30.003Z"
   },
   {
    "duration": 37,
    "start_time": "2023-11-13T07:06:30.050Z"
   },
   {
    "duration": 44,
    "start_time": "2023-11-13T07:06:30.088Z"
   },
   {
    "duration": 39,
    "start_time": "2023-11-13T07:06:30.134Z"
   },
   {
    "duration": 103,
    "start_time": "2023-11-13T07:06:30.175Z"
   },
   {
    "duration": 50,
    "start_time": "2023-11-13T07:06:30.280Z"
   },
   {
    "duration": 35,
    "start_time": "2023-11-13T07:06:30.332Z"
   },
   {
    "duration": 470,
    "start_time": "2023-11-13T07:31:30.154Z"
   },
   {
    "duration": 23,
    "start_time": "2023-11-13T07:31:30.626Z"
   },
   {
    "duration": 81,
    "start_time": "2023-11-13T07:31:30.650Z"
   },
   {
    "duration": 45,
    "start_time": "2023-11-13T07:31:30.733Z"
   },
   {
    "duration": 66,
    "start_time": "2023-11-13T07:31:30.779Z"
   },
   {
    "duration": 4,
    "start_time": "2023-11-13T07:31:30.846Z"
   },
   {
    "duration": 33,
    "start_time": "2023-11-13T07:31:30.851Z"
   },
   {
    "duration": 59,
    "start_time": "2023-11-13T07:31:30.886Z"
   },
   {
    "duration": 32,
    "start_time": "2023-11-13T07:31:30.947Z"
   },
   {
    "duration": 14,
    "start_time": "2023-11-13T07:31:30.983Z"
   },
   {
    "duration": 46,
    "start_time": "2023-11-13T07:31:30.998Z"
   },
   {
    "duration": 10,
    "start_time": "2023-11-13T07:31:31.046Z"
   },
   {
    "duration": 28,
    "start_time": "2023-11-13T07:31:31.058Z"
   },
   {
    "duration": 36,
    "start_time": "2023-11-13T07:31:31.087Z"
   },
   {
    "duration": 51,
    "start_time": "2023-11-13T07:31:31.125Z"
   },
   {
    "duration": 17,
    "start_time": "2023-11-13T07:31:31.178Z"
   },
   {
    "duration": 6,
    "start_time": "2023-11-13T07:31:31.197Z"
   },
   {
    "duration": 38,
    "start_time": "2023-11-13T07:31:31.204Z"
   },
   {
    "duration": 31,
    "start_time": "2023-11-13T07:31:31.243Z"
   },
   {
    "duration": 22,
    "start_time": "2023-11-13T07:31:31.276Z"
   },
   {
    "duration": 36,
    "start_time": "2023-11-13T07:31:31.300Z"
   },
   {
    "duration": 24,
    "start_time": "2023-11-13T07:31:31.338Z"
   },
   {
    "duration": 13,
    "start_time": "2023-11-13T07:31:31.364Z"
   },
   {
    "duration": 35,
    "start_time": "2023-11-13T07:31:31.378Z"
   },
   {
    "duration": 22,
    "start_time": "2023-11-13T07:31:31.414Z"
   },
   {
    "duration": 33,
    "start_time": "2023-11-13T07:31:31.437Z"
   },
   {
    "duration": 36,
    "start_time": "2023-11-13T07:31:31.471Z"
   },
   {
    "duration": 15,
    "start_time": "2023-11-13T07:31:31.510Z"
   },
   {
    "duration": 34,
    "start_time": "2023-11-13T07:31:31.527Z"
   },
   {
    "duration": 27,
    "start_time": "2023-11-13T07:31:31.563Z"
   },
   {
    "duration": 29,
    "start_time": "2023-11-13T07:31:31.591Z"
   },
   {
    "duration": 36,
    "start_time": "2023-11-13T07:31:31.622Z"
   },
   {
    "duration": 31,
    "start_time": "2023-11-13T07:31:31.660Z"
   },
   {
    "duration": 437,
    "start_time": "2023-11-13T07:34:52.284Z"
   },
   {
    "duration": 27,
    "start_time": "2023-11-13T07:34:52.722Z"
   },
   {
    "duration": 23,
    "start_time": "2023-11-13T07:34:52.751Z"
   },
   {
    "duration": 12,
    "start_time": "2023-11-13T07:34:52.776Z"
   },
   {
    "duration": 51,
    "start_time": "2023-11-13T07:34:52.790Z"
   },
   {
    "duration": 4,
    "start_time": "2023-11-13T07:34:52.842Z"
   },
   {
    "duration": 11,
    "start_time": "2023-11-13T07:34:52.847Z"
   },
   {
    "duration": 20,
    "start_time": "2023-11-13T07:34:52.860Z"
   },
   {
    "duration": 15,
    "start_time": "2023-11-13T07:34:52.882Z"
   },
   {
    "duration": 45,
    "start_time": "2023-11-13T07:34:52.899Z"
   },
   {
    "duration": 40,
    "start_time": "2023-11-13T07:34:52.946Z"
   },
   {
    "duration": 11,
    "start_time": "2023-11-13T07:34:52.987Z"
   },
   {
    "duration": 21,
    "start_time": "2023-11-13T07:34:53.000Z"
   },
   {
    "duration": 30,
    "start_time": "2023-11-13T07:34:53.024Z"
   },
   {
    "duration": 45,
    "start_time": "2023-11-13T07:34:53.055Z"
   },
   {
    "duration": 31,
    "start_time": "2023-11-13T07:34:53.101Z"
   },
   {
    "duration": 6,
    "start_time": "2023-11-13T07:34:53.133Z"
   },
   {
    "duration": 29,
    "start_time": "2023-11-13T07:34:53.141Z"
   },
   {
    "duration": 36,
    "start_time": "2023-11-13T07:34:53.172Z"
   },
   {
    "duration": 21,
    "start_time": "2023-11-13T07:34:53.210Z"
   },
   {
    "duration": 26,
    "start_time": "2023-11-13T07:34:53.233Z"
   },
   {
    "duration": 22,
    "start_time": "2023-11-13T07:34:53.261Z"
   },
   {
    "duration": 9,
    "start_time": "2023-11-13T07:34:53.284Z"
   },
   {
    "duration": 10,
    "start_time": "2023-11-13T07:34:53.295Z"
   },
   {
    "duration": 17,
    "start_time": "2023-11-13T07:34:53.307Z"
   },
   {
    "duration": 9,
    "start_time": "2023-11-13T07:34:53.326Z"
   },
   {
    "duration": 16,
    "start_time": "2023-11-13T07:34:53.336Z"
   },
   {
    "duration": 10,
    "start_time": "2023-11-13T07:34:53.354Z"
   },
   {
    "duration": 9,
    "start_time": "2023-11-13T07:34:53.366Z"
   },
   {
    "duration": 12,
    "start_time": "2023-11-13T07:34:53.377Z"
   },
   {
    "duration": 11,
    "start_time": "2023-11-13T07:34:53.391Z"
   },
   {
    "duration": 46,
    "start_time": "2023-11-13T07:34:53.403Z"
   },
   {
    "duration": 16,
    "start_time": "2023-11-13T07:34:53.451Z"
   },
   {
    "duration": 484,
    "start_time": "2023-11-13T07:54:22.134Z"
   },
   {
    "duration": 22,
    "start_time": "2023-11-13T07:54:22.620Z"
   },
   {
    "duration": 15,
    "start_time": "2023-11-13T07:54:22.643Z"
   },
   {
    "duration": 10,
    "start_time": "2023-11-13T07:54:22.659Z"
   },
   {
    "duration": 36,
    "start_time": "2023-11-13T07:54:22.671Z"
   },
   {
    "duration": 3,
    "start_time": "2023-11-13T07:54:22.709Z"
   },
   {
    "duration": 30,
    "start_time": "2023-11-13T07:54:22.713Z"
   },
   {
    "duration": 3,
    "start_time": "2023-11-13T07:54:22.745Z"
   },
   {
    "duration": 8,
    "start_time": "2023-11-13T07:54:22.750Z"
   },
   {
    "duration": 4,
    "start_time": "2023-11-13T07:54:22.760Z"
   },
   {
    "duration": 37,
    "start_time": "2023-11-13T07:54:22.765Z"
   },
   {
    "duration": 40,
    "start_time": "2023-11-13T07:54:22.803Z"
   },
   {
    "duration": 4,
    "start_time": "2023-11-13T07:54:22.844Z"
   },
   {
    "duration": 13,
    "start_time": "2023-11-13T07:54:22.850Z"
   },
   {
    "duration": 35,
    "start_time": "2023-11-13T07:54:22.864Z"
   },
   {
    "duration": 19,
    "start_time": "2023-11-13T07:54:22.901Z"
   },
   {
    "duration": 4,
    "start_time": "2023-11-13T07:54:22.922Z"
   },
   {
    "duration": 25,
    "start_time": "2023-11-13T07:54:22.928Z"
   },
   {
    "duration": 7,
    "start_time": "2023-11-13T07:54:22.954Z"
   },
   {
    "duration": 4,
    "start_time": "2023-11-13T07:54:22.962Z"
   },
   {
    "duration": 11,
    "start_time": "2023-11-13T07:54:22.967Z"
   },
   {
    "duration": 13,
    "start_time": "2023-11-13T07:54:22.979Z"
   },
   {
    "duration": 7,
    "start_time": "2023-11-13T07:54:22.994Z"
   },
   {
    "duration": 47,
    "start_time": "2023-11-13T07:54:23.002Z"
   },
   {
    "duration": 67,
    "start_time": "2023-11-13T07:54:23.051Z"
   },
   {
    "duration": 0,
    "start_time": "2023-11-13T07:54:23.120Z"
   },
   {
    "duration": 0,
    "start_time": "2023-11-13T07:54:23.121Z"
   },
   {
    "duration": 0,
    "start_time": "2023-11-13T07:54:23.122Z"
   },
   {
    "duration": 0,
    "start_time": "2023-11-13T07:54:23.123Z"
   },
   {
    "duration": 0,
    "start_time": "2023-11-13T07:54:23.124Z"
   },
   {
    "duration": 0,
    "start_time": "2023-11-13T07:54:23.126Z"
   },
   {
    "duration": 0,
    "start_time": "2023-11-13T07:54:23.127Z"
   },
   {
    "duration": 0,
    "start_time": "2023-11-13T07:54:23.128Z"
   },
   {
    "duration": 0,
    "start_time": "2023-11-13T07:54:23.130Z"
   },
   {
    "duration": 489,
    "start_time": "2023-11-13T07:54:29.928Z"
   },
   {
    "duration": 21,
    "start_time": "2023-11-13T07:54:30.419Z"
   },
   {
    "duration": 65,
    "start_time": "2023-11-13T07:54:30.442Z"
   },
   {
    "duration": 82,
    "start_time": "2023-11-13T07:54:30.509Z"
   },
   {
    "duration": 65,
    "start_time": "2023-11-13T07:54:30.592Z"
   },
   {
    "duration": 9,
    "start_time": "2023-11-13T07:54:30.659Z"
   },
   {
    "duration": 27,
    "start_time": "2023-11-13T07:54:30.669Z"
   },
   {
    "duration": 37,
    "start_time": "2023-11-13T07:54:30.698Z"
   },
   {
    "duration": 22,
    "start_time": "2023-11-13T07:54:30.737Z"
   },
   {
    "duration": 45,
    "start_time": "2023-11-13T07:54:30.764Z"
   },
   {
    "duration": 64,
    "start_time": "2023-11-13T07:54:30.811Z"
   },
   {
    "duration": 9,
    "start_time": "2023-11-13T07:54:30.877Z"
   },
   {
    "duration": 33,
    "start_time": "2023-11-13T07:54:30.888Z"
   },
   {
    "duration": 33,
    "start_time": "2023-11-13T07:54:30.923Z"
   },
   {
    "duration": 44,
    "start_time": "2023-11-13T07:54:30.958Z"
   },
   {
    "duration": 16,
    "start_time": "2023-11-13T07:54:31.004Z"
   },
   {
    "duration": 17,
    "start_time": "2023-11-13T07:54:31.022Z"
   },
   {
    "duration": 31,
    "start_time": "2023-11-13T07:54:31.041Z"
   },
   {
    "duration": 27,
    "start_time": "2023-11-13T07:54:31.074Z"
   },
   {
    "duration": 24,
    "start_time": "2023-11-13T07:54:31.102Z"
   },
   {
    "duration": 20,
    "start_time": "2023-11-13T07:54:31.128Z"
   },
   {
    "duration": 35,
    "start_time": "2023-11-13T07:54:31.150Z"
   },
   {
    "duration": 11,
    "start_time": "2023-11-13T07:54:31.186Z"
   },
   {
    "duration": 35,
    "start_time": "2023-11-13T07:54:31.198Z"
   },
   {
    "duration": 123,
    "start_time": "2023-11-13T07:54:31.235Z"
   },
   {
    "duration": 0,
    "start_time": "2023-11-13T07:54:31.359Z"
   },
   {
    "duration": 0,
    "start_time": "2023-11-13T07:54:31.360Z"
   },
   {
    "duration": 0,
    "start_time": "2023-11-13T07:54:31.362Z"
   },
   {
    "duration": 0,
    "start_time": "2023-11-13T07:54:31.362Z"
   },
   {
    "duration": 0,
    "start_time": "2023-11-13T07:54:31.364Z"
   },
   {
    "duration": 0,
    "start_time": "2023-11-13T07:54:31.365Z"
   },
   {
    "duration": 0,
    "start_time": "2023-11-13T07:54:31.366Z"
   },
   {
    "duration": 0,
    "start_time": "2023-11-13T07:54:31.367Z"
   },
   {
    "duration": 0,
    "start_time": "2023-11-13T07:54:31.368Z"
   },
   {
    "duration": 455,
    "start_time": "2023-11-13T07:56:54.762Z"
   },
   {
    "duration": 21,
    "start_time": "2023-11-13T07:56:55.219Z"
   },
   {
    "duration": 21,
    "start_time": "2023-11-13T07:56:55.242Z"
   },
   {
    "duration": 11,
    "start_time": "2023-11-13T07:56:55.264Z"
   },
   {
    "duration": 42,
    "start_time": "2023-11-13T07:56:55.277Z"
   },
   {
    "duration": 11,
    "start_time": "2023-11-13T07:56:55.320Z"
   },
   {
    "duration": 22,
    "start_time": "2023-11-13T07:56:55.332Z"
   },
   {
    "duration": 4,
    "start_time": "2023-11-13T07:56:55.355Z"
   },
   {
    "duration": 20,
    "start_time": "2023-11-13T07:56:55.361Z"
   },
   {
    "duration": 4,
    "start_time": "2023-11-13T07:56:55.383Z"
   },
   {
    "duration": 60,
    "start_time": "2023-11-13T07:56:55.388Z"
   },
   {
    "duration": 12,
    "start_time": "2023-11-13T07:56:55.449Z"
   },
   {
    "duration": 14,
    "start_time": "2023-11-13T07:56:55.463Z"
   },
   {
    "duration": 27,
    "start_time": "2023-11-13T07:56:55.481Z"
   },
   {
    "duration": 42,
    "start_time": "2023-11-13T07:56:55.509Z"
   },
   {
    "duration": 33,
    "start_time": "2023-11-13T07:56:55.552Z"
   },
   {
    "duration": 3,
    "start_time": "2023-11-13T07:56:55.587Z"
   },
   {
    "duration": 30,
    "start_time": "2023-11-13T07:56:55.592Z"
   },
   {
    "duration": 11,
    "start_time": "2023-11-13T07:56:55.625Z"
   },
   {
    "duration": 8,
    "start_time": "2023-11-13T07:56:55.637Z"
   },
   {
    "duration": 12,
    "start_time": "2023-11-13T07:56:55.647Z"
   },
   {
    "duration": 19,
    "start_time": "2023-11-13T07:56:55.660Z"
   },
   {
    "duration": 8,
    "start_time": "2023-11-13T07:56:55.680Z"
   },
   {
    "duration": 9,
    "start_time": "2023-11-13T07:56:55.689Z"
   },
   {
    "duration": 13,
    "start_time": "2023-11-13T07:56:55.699Z"
   },
   {
    "duration": 14,
    "start_time": "2023-11-13T07:56:55.713Z"
   },
   {
    "duration": 21,
    "start_time": "2023-11-13T07:56:55.728Z"
   },
   {
    "duration": 11,
    "start_time": "2023-11-13T07:56:55.750Z"
   },
   {
    "duration": 12,
    "start_time": "2023-11-13T07:56:55.762Z"
   },
   {
    "duration": 23,
    "start_time": "2023-11-13T07:56:55.776Z"
   },
   {
    "duration": 10,
    "start_time": "2023-11-13T07:56:55.800Z"
   },
   {
    "duration": 31,
    "start_time": "2023-11-13T07:56:55.811Z"
   },
   {
    "duration": 14,
    "start_time": "2023-11-13T07:56:55.843Z"
   },
   {
    "duration": 573,
    "start_time": "2023-11-13T14:08:39.211Z"
   },
   {
    "duration": 22,
    "start_time": "2023-11-13T14:08:39.785Z"
   },
   {
    "duration": 16,
    "start_time": "2023-11-13T14:08:39.808Z"
   },
   {
    "duration": 15,
    "start_time": "2023-11-13T14:08:39.826Z"
   },
   {
    "duration": 37,
    "start_time": "2023-11-13T14:08:39.842Z"
   },
   {
    "duration": 4,
    "start_time": "2023-11-13T14:08:39.881Z"
   },
   {
    "duration": 7,
    "start_time": "2023-11-13T14:08:39.887Z"
   },
   {
    "duration": 4,
    "start_time": "2023-11-13T14:08:39.895Z"
   },
   {
    "duration": 14,
    "start_time": "2023-11-13T14:08:39.901Z"
   },
   {
    "duration": 19,
    "start_time": "2023-11-13T14:08:39.917Z"
   },
   {
    "duration": 36,
    "start_time": "2023-11-13T14:08:39.938Z"
   },
   {
    "duration": 11,
    "start_time": "2023-11-13T14:08:39.975Z"
   },
   {
    "duration": 10,
    "start_time": "2023-11-13T14:08:39.987Z"
   },
   {
    "duration": 13,
    "start_time": "2023-11-13T14:08:39.998Z"
   },
   {
    "duration": 41,
    "start_time": "2023-11-13T14:08:40.013Z"
   },
   {
    "duration": 18,
    "start_time": "2023-11-13T14:08:40.056Z"
   },
   {
    "duration": 4,
    "start_time": "2023-11-13T14:08:40.075Z"
   },
   {
    "duration": 17,
    "start_time": "2023-11-13T14:08:40.081Z"
   },
   {
    "duration": 8,
    "start_time": "2023-11-13T14:08:40.100Z"
   },
   {
    "duration": 4,
    "start_time": "2023-11-13T14:08:40.135Z"
   },
   {
    "duration": 23,
    "start_time": "2023-11-13T14:08:40.141Z"
   },
   {
    "duration": 15,
    "start_time": "2023-11-13T14:08:40.165Z"
   },
   {
    "duration": 10,
    "start_time": "2023-11-13T14:08:40.182Z"
   },
   {
    "duration": 19,
    "start_time": "2023-11-13T14:08:40.194Z"
   },
   {
    "duration": 21,
    "start_time": "2023-11-13T14:08:40.215Z"
   },
   {
    "duration": 8,
    "start_time": "2023-11-13T14:08:40.238Z"
   },
   {
    "duration": 21,
    "start_time": "2023-11-13T14:08:40.247Z"
   },
   {
    "duration": 11,
    "start_time": "2023-11-13T14:08:40.271Z"
   },
   {
    "duration": 26,
    "start_time": "2023-11-13T14:08:40.284Z"
   },
   {
    "duration": 27,
    "start_time": "2023-11-13T14:08:40.312Z"
   },
   {
    "duration": 14,
    "start_time": "2023-11-13T14:08:40.340Z"
   },
   {
    "duration": 10,
    "start_time": "2023-11-13T14:08:40.355Z"
   },
   {
    "duration": 19,
    "start_time": "2023-11-13T14:08:40.366Z"
   },
   {
    "duration": 50,
    "start_time": "2023-11-14T08:30:28.988Z"
   },
   {
    "duration": 677,
    "start_time": "2023-11-14T08:30:39.509Z"
   },
   {
    "duration": 26,
    "start_time": "2023-11-14T08:30:40.188Z"
   },
   {
    "duration": 17,
    "start_time": "2023-11-14T08:30:40.216Z"
   },
   {
    "duration": 21,
    "start_time": "2023-11-14T08:30:40.235Z"
   },
   {
    "duration": 37,
    "start_time": "2023-11-14T08:30:40.258Z"
   },
   {
    "duration": 4,
    "start_time": "2023-11-14T08:30:40.297Z"
   },
   {
    "duration": 9,
    "start_time": "2023-11-14T08:30:40.303Z"
   },
   {
    "duration": 40,
    "start_time": "2023-11-14T08:30:40.313Z"
   },
   {
    "duration": 8,
    "start_time": "2023-11-14T08:30:40.355Z"
   },
   {
    "duration": 7,
    "start_time": "2023-11-14T08:30:40.367Z"
   },
   {
    "duration": 40,
    "start_time": "2023-11-14T08:30:40.376Z"
   },
   {
    "duration": 41,
    "start_time": "2023-11-14T08:30:40.418Z"
   },
   {
    "duration": 5,
    "start_time": "2023-11-14T08:30:40.462Z"
   },
   {
    "duration": 19,
    "start_time": "2023-11-14T08:30:40.469Z"
   },
   {
    "duration": 37,
    "start_time": "2023-11-14T08:30:40.491Z"
   },
   {
    "duration": 33,
    "start_time": "2023-11-14T08:30:40.530Z"
   },
   {
    "duration": 3,
    "start_time": "2023-11-14T08:30:40.565Z"
   },
   {
    "duration": 31,
    "start_time": "2023-11-14T08:30:40.569Z"
   },
   {
    "duration": 5,
    "start_time": "2023-11-14T08:30:40.602Z"
   },
   {
    "duration": 18,
    "start_time": "2023-11-14T08:30:40.609Z"
   },
   {
    "duration": 23,
    "start_time": "2023-11-14T08:30:40.629Z"
   },
   {
    "duration": 14,
    "start_time": "2023-11-14T08:30:40.654Z"
   },
   {
    "duration": 85,
    "start_time": "2023-11-14T08:30:40.670Z"
   },
   {
    "duration": 0,
    "start_time": "2023-11-14T08:30:40.757Z"
   },
   {
    "duration": 0,
    "start_time": "2023-11-14T08:30:40.758Z"
   },
   {
    "duration": 0,
    "start_time": "2023-11-14T08:30:40.760Z"
   },
   {
    "duration": 0,
    "start_time": "2023-11-14T08:30:40.761Z"
   },
   {
    "duration": 0,
    "start_time": "2023-11-14T08:30:40.762Z"
   },
   {
    "duration": 0,
    "start_time": "2023-11-14T08:30:40.763Z"
   },
   {
    "duration": 0,
    "start_time": "2023-11-14T08:30:40.765Z"
   },
   {
    "duration": 0,
    "start_time": "2023-11-14T08:30:40.766Z"
   },
   {
    "duration": 0,
    "start_time": "2023-11-14T08:30:40.767Z"
   },
   {
    "duration": 0,
    "start_time": "2023-11-14T08:30:40.768Z"
   },
   {
    "duration": 0,
    "start_time": "2023-11-14T08:30:40.769Z"
   },
   {
    "duration": 15,
    "start_time": "2023-11-14T08:32:11.677Z"
   },
   {
    "duration": 20,
    "start_time": "2023-11-14T08:32:16.524Z"
   },
   {
    "duration": 14,
    "start_time": "2023-11-14T08:32:20.998Z"
   },
   {
    "duration": 568,
    "start_time": "2023-11-14T08:32:29.057Z"
   },
   {
    "duration": 23,
    "start_time": "2023-11-14T08:32:29.626Z"
   },
   {
    "duration": 26,
    "start_time": "2023-11-14T08:32:29.651Z"
   },
   {
    "duration": 18,
    "start_time": "2023-11-14T08:32:29.680Z"
   },
   {
    "duration": 69,
    "start_time": "2023-11-14T08:32:29.700Z"
   },
   {
    "duration": 3,
    "start_time": "2023-11-14T08:32:29.771Z"
   },
   {
    "duration": 9,
    "start_time": "2023-11-14T08:32:29.776Z"
   },
   {
    "duration": 4,
    "start_time": "2023-11-14T08:32:29.787Z"
   },
   {
    "duration": 9,
    "start_time": "2023-11-14T08:32:29.793Z"
   },
   {
    "duration": 4,
    "start_time": "2023-11-14T08:32:29.805Z"
   },
   {
    "duration": 38,
    "start_time": "2023-11-14T08:32:29.853Z"
   },
   {
    "duration": 12,
    "start_time": "2023-11-14T08:32:29.892Z"
   },
   {
    "duration": 5,
    "start_time": "2023-11-14T08:32:29.905Z"
   },
   {
    "duration": 46,
    "start_time": "2023-11-14T08:32:29.912Z"
   },
   {
    "duration": 21,
    "start_time": "2023-11-14T08:32:29.959Z"
   },
   {
    "duration": 18,
    "start_time": "2023-11-14T08:32:29.982Z"
   },
   {
    "duration": 4,
    "start_time": "2023-11-14T08:32:30.002Z"
   },
   {
    "duration": 51,
    "start_time": "2023-11-14T08:32:30.007Z"
   },
   {
    "duration": 25,
    "start_time": "2023-11-14T08:32:30.060Z"
   },
   {
    "duration": 18,
    "start_time": "2023-11-14T08:32:30.087Z"
   },
   {
    "duration": 26,
    "start_time": "2023-11-14T08:32:30.106Z"
   },
   {
    "duration": 51,
    "start_time": "2023-11-14T08:32:30.134Z"
   },
   {
    "duration": 26,
    "start_time": "2023-11-14T08:32:30.187Z"
   },
   {
    "duration": 16,
    "start_time": "2023-11-14T08:32:30.215Z"
   },
   {
    "duration": 48,
    "start_time": "2023-11-14T08:32:30.233Z"
   },
   {
    "duration": 19,
    "start_time": "2023-11-14T08:32:30.283Z"
   },
   {
    "duration": 23,
    "start_time": "2023-11-14T08:32:30.304Z"
   },
   {
    "duration": 28,
    "start_time": "2023-11-14T08:32:30.330Z"
   },
   {
    "duration": 20,
    "start_time": "2023-11-14T08:32:30.360Z"
   },
   {
    "duration": 28,
    "start_time": "2023-11-14T08:32:30.382Z"
   },
   {
    "duration": 59,
    "start_time": "2023-11-14T08:32:30.411Z"
   },
   {
    "duration": 27,
    "start_time": "2023-11-14T08:32:30.472Z"
   },
   {
    "duration": 40,
    "start_time": "2023-11-14T08:32:30.501Z"
   },
   {
    "duration": 74,
    "start_time": "2023-11-14T08:32:30.543Z"
   },
   {
    "duration": 20,
    "start_time": "2023-11-14T08:32:50.322Z"
   },
   {
    "duration": 13,
    "start_time": "2023-11-14T08:42:23.653Z"
   },
   {
    "duration": 11,
    "start_time": "2023-11-14T08:44:14.734Z"
   },
   {
    "duration": 18,
    "start_time": "2023-11-14T08:51:41.428Z"
   },
   {
    "duration": 18,
    "start_time": "2023-11-14T08:53:23.758Z"
   },
   {
    "duration": 534,
    "start_time": "2023-11-14T08:53:53.531Z"
   },
   {
    "duration": 24,
    "start_time": "2023-11-14T08:53:54.067Z"
   },
   {
    "duration": 17,
    "start_time": "2023-11-14T08:53:54.092Z"
   },
   {
    "duration": 13,
    "start_time": "2023-11-14T08:53:54.111Z"
   },
   {
    "duration": 59,
    "start_time": "2023-11-14T08:53:54.125Z"
   },
   {
    "duration": 3,
    "start_time": "2023-11-14T08:53:54.186Z"
   },
   {
    "duration": 12,
    "start_time": "2023-11-14T08:53:54.191Z"
   },
   {
    "duration": 4,
    "start_time": "2023-11-14T08:53:54.205Z"
   },
   {
    "duration": 42,
    "start_time": "2023-11-14T08:53:54.211Z"
   },
   {
    "duration": 5,
    "start_time": "2023-11-14T08:53:54.258Z"
   },
   {
    "duration": 42,
    "start_time": "2023-11-14T08:53:54.265Z"
   },
   {
    "duration": 11,
    "start_time": "2023-11-14T08:53:54.308Z"
   },
   {
    "duration": 32,
    "start_time": "2023-11-14T08:53:54.322Z"
   },
   {
    "duration": 20,
    "start_time": "2023-11-14T08:53:54.356Z"
   },
   {
    "duration": 24,
    "start_time": "2023-11-14T08:53:54.378Z"
   },
   {
    "duration": 19,
    "start_time": "2023-11-14T08:53:54.404Z"
   },
   {
    "duration": 26,
    "start_time": "2023-11-14T08:53:54.425Z"
   },
   {
    "duration": 12,
    "start_time": "2023-11-14T08:53:54.453Z"
   },
   {
    "duration": 23,
    "start_time": "2023-11-14T08:53:54.467Z"
   },
   {
    "duration": 5,
    "start_time": "2023-11-14T08:53:54.493Z"
   },
   {
    "duration": 14,
    "start_time": "2023-11-14T08:53:54.500Z"
   },
   {
    "duration": 37,
    "start_time": "2023-11-14T08:53:54.516Z"
   },
   {
    "duration": 78,
    "start_time": "2023-11-14T08:53:54.555Z"
   },
   {
    "duration": 0,
    "start_time": "2023-11-14T08:53:54.635Z"
   },
   {
    "duration": 0,
    "start_time": "2023-11-14T08:53:54.637Z"
   },
   {
    "duration": 0,
    "start_time": "2023-11-14T08:53:54.653Z"
   },
   {
    "duration": 0,
    "start_time": "2023-11-14T08:53:54.654Z"
   },
   {
    "duration": 0,
    "start_time": "2023-11-14T08:53:54.655Z"
   },
   {
    "duration": 0,
    "start_time": "2023-11-14T08:53:54.658Z"
   },
   {
    "duration": 0,
    "start_time": "2023-11-14T08:53:54.659Z"
   },
   {
    "duration": 0,
    "start_time": "2023-11-14T08:53:54.661Z"
   },
   {
    "duration": 0,
    "start_time": "2023-11-14T08:53:54.662Z"
   },
   {
    "duration": 0,
    "start_time": "2023-11-14T08:53:54.663Z"
   },
   {
    "duration": 0,
    "start_time": "2023-11-14T08:53:54.665Z"
   },
   {
    "duration": 19,
    "start_time": "2023-11-14T08:54:55.002Z"
   },
   {
    "duration": 79,
    "start_time": "2023-11-14T08:57:13.321Z"
   },
   {
    "duration": 17,
    "start_time": "2023-11-14T08:57:22.159Z"
   },
   {
    "duration": 19,
    "start_time": "2023-11-14T08:59:50.019Z"
   },
   {
    "duration": 17,
    "start_time": "2023-11-14T09:18:03.407Z"
   },
   {
    "duration": 19,
    "start_time": "2023-11-14T09:18:48.846Z"
   },
   {
    "duration": 9,
    "start_time": "2023-11-14T09:19:54.497Z"
   },
   {
    "duration": 71,
    "start_time": "2023-11-14T09:21:54.722Z"
   },
   {
    "duration": 15,
    "start_time": "2023-11-14T09:24:42.853Z"
   },
   {
    "duration": 18,
    "start_time": "2023-11-14T09:24:54.030Z"
   },
   {
    "duration": 18,
    "start_time": "2023-11-14T09:26:40.397Z"
   },
   {
    "duration": 520,
    "start_time": "2023-11-14T09:26:47.734Z"
   },
   {
    "duration": 24,
    "start_time": "2023-11-14T09:26:48.255Z"
   },
   {
    "duration": 18,
    "start_time": "2023-11-14T09:26:48.281Z"
   },
   {
    "duration": 12,
    "start_time": "2023-11-14T09:26:48.301Z"
   },
   {
    "duration": 73,
    "start_time": "2023-11-14T09:26:48.314Z"
   },
   {
    "duration": 3,
    "start_time": "2023-11-14T09:26:48.389Z"
   },
   {
    "duration": 13,
    "start_time": "2023-11-14T09:26:48.394Z"
   },
   {
    "duration": 14,
    "start_time": "2023-11-14T09:26:48.409Z"
   },
   {
    "duration": 29,
    "start_time": "2023-11-14T09:26:48.425Z"
   },
   {
    "duration": 4,
    "start_time": "2023-11-14T09:26:48.457Z"
   },
   {
    "duration": 41,
    "start_time": "2023-11-14T09:26:48.463Z"
   },
   {
    "duration": 10,
    "start_time": "2023-11-14T09:26:48.506Z"
   },
   {
    "duration": 34,
    "start_time": "2023-11-14T09:26:48.518Z"
   },
   {
    "duration": 13,
    "start_time": "2023-11-14T09:26:48.554Z"
   },
   {
    "duration": 25,
    "start_time": "2023-11-14T09:26:48.569Z"
   },
   {
    "duration": 19,
    "start_time": "2023-11-14T09:26:48.595Z"
   },
   {
    "duration": 3,
    "start_time": "2023-11-14T09:26:48.616Z"
   },
   {
    "duration": 13,
    "start_time": "2023-11-14T09:26:48.652Z"
   },
   {
    "duration": 21,
    "start_time": "2023-11-14T09:26:48.667Z"
   },
   {
    "duration": 8,
    "start_time": "2023-11-14T09:26:48.690Z"
   },
   {
    "duration": 12,
    "start_time": "2023-11-14T09:26:48.700Z"
   },
   {
    "duration": 100,
    "start_time": "2023-11-14T09:26:48.714Z"
   },
   {
    "duration": 0,
    "start_time": "2023-11-14T09:26:48.817Z"
   },
   {
    "duration": 0,
    "start_time": "2023-11-14T09:26:48.818Z"
   },
   {
    "duration": 0,
    "start_time": "2023-11-14T09:26:48.819Z"
   },
   {
    "duration": 0,
    "start_time": "2023-11-14T09:26:48.820Z"
   },
   {
    "duration": 0,
    "start_time": "2023-11-14T09:26:48.822Z"
   },
   {
    "duration": 0,
    "start_time": "2023-11-14T09:26:48.824Z"
   },
   {
    "duration": 0,
    "start_time": "2023-11-14T09:26:48.825Z"
   },
   {
    "duration": 0,
    "start_time": "2023-11-14T09:26:48.826Z"
   },
   {
    "duration": 0,
    "start_time": "2023-11-14T09:26:48.827Z"
   },
   {
    "duration": 0,
    "start_time": "2023-11-14T09:26:48.829Z"
   },
   {
    "duration": 0,
    "start_time": "2023-11-14T09:26:48.830Z"
   },
   {
    "duration": 0,
    "start_time": "2023-11-14T09:26:48.852Z"
   },
   {
    "duration": 521,
    "start_time": "2023-11-14T09:27:12.354Z"
   },
   {
    "duration": 24,
    "start_time": "2023-11-14T09:27:12.877Z"
   },
   {
    "duration": 19,
    "start_time": "2023-11-14T09:27:12.903Z"
   },
   {
    "duration": 32,
    "start_time": "2023-11-14T09:27:12.925Z"
   },
   {
    "duration": 38,
    "start_time": "2023-11-14T09:27:12.959Z"
   },
   {
    "duration": 3,
    "start_time": "2023-11-14T09:27:12.999Z"
   },
   {
    "duration": 16,
    "start_time": "2023-11-14T09:27:13.003Z"
   },
   {
    "duration": 31,
    "start_time": "2023-11-14T09:27:13.021Z"
   },
   {
    "duration": 8,
    "start_time": "2023-11-14T09:27:13.054Z"
   },
   {
    "duration": 4,
    "start_time": "2023-11-14T09:27:13.065Z"
   },
   {
    "duration": 39,
    "start_time": "2023-11-14T09:27:13.071Z"
   },
   {
    "duration": 46,
    "start_time": "2023-11-14T09:27:13.112Z"
   },
   {
    "duration": 4,
    "start_time": "2023-11-14T09:27:13.160Z"
   },
   {
    "duration": 13,
    "start_time": "2023-11-14T09:27:13.165Z"
   },
   {
    "duration": 21,
    "start_time": "2023-11-14T09:27:13.180Z"
   },
   {
    "duration": 50,
    "start_time": "2023-11-14T09:27:13.202Z"
   },
   {
    "duration": 4,
    "start_time": "2023-11-14T09:27:13.254Z"
   },
   {
    "duration": 13,
    "start_time": "2023-11-14T09:27:13.259Z"
   },
   {
    "duration": 32,
    "start_time": "2023-11-14T09:27:13.274Z"
   },
   {
    "duration": 4,
    "start_time": "2023-11-14T09:27:13.308Z"
   },
   {
    "duration": 13,
    "start_time": "2023-11-14T09:27:13.313Z"
   },
   {
    "duration": 19,
    "start_time": "2023-11-14T09:27:13.328Z"
   },
   {
    "duration": 75,
    "start_time": "2023-11-14T09:27:13.351Z"
   },
   {
    "duration": 0,
    "start_time": "2023-11-14T09:27:13.428Z"
   },
   {
    "duration": 0,
    "start_time": "2023-11-14T09:27:13.429Z"
   },
   {
    "duration": 0,
    "start_time": "2023-11-14T09:27:13.431Z"
   },
   {
    "duration": 0,
    "start_time": "2023-11-14T09:27:13.432Z"
   },
   {
    "duration": 0,
    "start_time": "2023-11-14T09:27:13.451Z"
   },
   {
    "duration": 0,
    "start_time": "2023-11-14T09:27:13.453Z"
   },
   {
    "duration": 0,
    "start_time": "2023-11-14T09:27:13.454Z"
   },
   {
    "duration": 0,
    "start_time": "2023-11-14T09:27:13.455Z"
   },
   {
    "duration": 0,
    "start_time": "2023-11-14T09:27:13.456Z"
   },
   {
    "duration": 0,
    "start_time": "2023-11-14T09:27:13.457Z"
   },
   {
    "duration": 0,
    "start_time": "2023-11-14T09:27:13.458Z"
   },
   {
    "duration": 22,
    "start_time": "2023-11-14T09:27:59.573Z"
   },
   {
    "duration": 1588,
    "start_time": "2023-11-14T09:31:44.713Z"
   },
   {
    "duration": 16,
    "start_time": "2023-11-14T09:32:19.050Z"
   },
   {
    "duration": 20,
    "start_time": "2023-11-14T09:32:23.913Z"
   },
   {
    "duration": 27,
    "start_time": "2023-11-14T09:32:33.129Z"
   },
   {
    "duration": 25,
    "start_time": "2023-11-14T09:43:04.146Z"
   },
   {
    "duration": 27,
    "start_time": "2023-11-14T11:27:30.858Z"
   },
   {
    "duration": 551,
    "start_time": "2023-11-14T11:44:09.454Z"
   },
   {
    "duration": 51,
    "start_time": "2023-11-14T11:51:23.877Z"
   },
   {
    "duration": 11,
    "start_time": "2023-11-14T11:51:55.126Z"
   },
   {
    "duration": 545,
    "start_time": "2023-11-14T11:52:30.854Z"
   },
   {
    "duration": 27,
    "start_time": "2023-11-14T11:52:31.401Z"
   },
   {
    "duration": 32,
    "start_time": "2023-11-14T11:52:31.430Z"
   },
   {
    "duration": 126,
    "start_time": "2023-11-14T11:52:31.464Z"
   },
   {
    "duration": 89,
    "start_time": "2023-11-14T11:52:31.592Z"
   },
   {
    "duration": 4,
    "start_time": "2023-11-14T11:52:31.682Z"
   },
   {
    "duration": 41,
    "start_time": "2023-11-14T11:52:31.688Z"
   },
   {
    "duration": 21,
    "start_time": "2023-11-14T11:52:31.730Z"
   },
   {
    "duration": 27,
    "start_time": "2023-11-14T11:52:31.753Z"
   },
   {
    "duration": 32,
    "start_time": "2023-11-14T11:52:31.784Z"
   },
   {
    "duration": 51,
    "start_time": "2023-11-14T11:52:31.818Z"
   },
   {
    "duration": 14,
    "start_time": "2023-11-14T11:52:31.871Z"
   },
   {
    "duration": 27,
    "start_time": "2023-11-14T11:52:31.887Z"
   },
   {
    "duration": 21,
    "start_time": "2023-11-14T11:52:31.916Z"
   },
   {
    "duration": 60,
    "start_time": "2023-11-14T11:52:31.939Z"
   },
   {
    "duration": 45,
    "start_time": "2023-11-14T11:52:32.001Z"
   },
   {
    "duration": 14,
    "start_time": "2023-11-14T11:52:32.048Z"
   },
   {
    "duration": 46,
    "start_time": "2023-11-14T11:52:32.063Z"
   },
   {
    "duration": 38,
    "start_time": "2023-11-14T11:52:32.111Z"
   },
   {
    "duration": 20,
    "start_time": "2023-11-14T11:52:32.152Z"
   },
   {
    "duration": 57,
    "start_time": "2023-11-14T11:52:32.174Z"
   },
   {
    "duration": 19,
    "start_time": "2023-11-14T11:52:32.233Z"
   },
   {
    "duration": 331,
    "start_time": "2023-11-14T11:52:32.254Z"
   },
   {
    "duration": 8,
    "start_time": "2023-11-14T11:52:32.586Z"
   },
   {
    "duration": 14,
    "start_time": "2023-11-14T11:52:32.596Z"
   },
   {
    "duration": 12,
    "start_time": "2023-11-14T11:52:32.612Z"
   },
   {
    "duration": 10,
    "start_time": "2023-11-14T11:52:32.651Z"
   },
   {
    "duration": 15,
    "start_time": "2023-11-14T11:52:32.665Z"
   },
   {
    "duration": 12,
    "start_time": "2023-11-14T11:52:32.681Z"
   },
   {
    "duration": 22,
    "start_time": "2023-11-14T11:52:32.695Z"
   },
   {
    "duration": 41,
    "start_time": "2023-11-14T11:52:32.719Z"
   },
   {
    "duration": 12,
    "start_time": "2023-11-14T11:52:32.762Z"
   },
   {
    "duration": 11,
    "start_time": "2023-11-14T11:52:32.777Z"
   },
   {
    "duration": 19,
    "start_time": "2023-11-14T11:52:32.790Z"
   },
   {
    "duration": 32,
    "start_time": "2023-11-14T11:53:07.623Z"
   },
   {
    "duration": 23,
    "start_time": "2023-11-14T11:57:43.575Z"
   },
   {
    "duration": 22,
    "start_time": "2023-11-14T12:23:17.255Z"
   },
   {
    "duration": 24,
    "start_time": "2023-11-14T12:24:58.965Z"
   },
   {
    "duration": 22,
    "start_time": "2023-11-14T12:26:29.379Z"
   },
   {
    "duration": 133,
    "start_time": "2023-11-14T12:30:14.941Z"
   },
   {
    "duration": 25,
    "start_time": "2023-11-14T12:32:01.255Z"
   },
   {
    "duration": 471,
    "start_time": "2023-11-14T13:25:29.390Z"
   },
   {
    "duration": 23,
    "start_time": "2023-11-14T13:25:29.863Z"
   },
   {
    "duration": 20,
    "start_time": "2023-11-14T13:25:29.888Z"
   },
   {
    "duration": 11,
    "start_time": "2023-11-14T13:25:29.909Z"
   },
   {
    "duration": 63,
    "start_time": "2023-11-14T13:25:29.922Z"
   },
   {
    "duration": 3,
    "start_time": "2023-11-14T13:25:29.987Z"
   },
   {
    "duration": 14,
    "start_time": "2023-11-14T13:25:29.992Z"
   },
   {
    "duration": 48,
    "start_time": "2023-11-14T13:25:30.008Z"
   },
   {
    "duration": 27,
    "start_time": "2023-11-14T13:25:30.058Z"
   },
   {
    "duration": 29,
    "start_time": "2023-11-14T13:25:30.087Z"
   },
   {
    "duration": 73,
    "start_time": "2023-11-14T13:25:30.117Z"
   },
   {
    "duration": 11,
    "start_time": "2023-11-14T13:25:30.192Z"
   },
   {
    "duration": 26,
    "start_time": "2023-11-14T13:25:30.205Z"
   },
   {
    "duration": 33,
    "start_time": "2023-11-14T13:25:30.234Z"
   },
   {
    "duration": 59,
    "start_time": "2023-11-14T13:25:30.269Z"
   },
   {
    "duration": 25,
    "start_time": "2023-11-14T13:25:30.330Z"
   },
   {
    "duration": 17,
    "start_time": "2023-11-14T13:25:30.357Z"
   },
   {
    "duration": 42,
    "start_time": "2023-11-14T13:25:30.375Z"
   },
   {
    "duration": 26,
    "start_time": "2023-11-14T13:25:30.418Z"
   },
   {
    "duration": 41,
    "start_time": "2023-11-14T13:25:30.445Z"
   },
   {
    "duration": 49,
    "start_time": "2023-11-14T13:25:30.488Z"
   },
   {
    "duration": 342,
    "start_time": "2023-11-14T13:25:30.539Z"
   },
   {
    "duration": 25,
    "start_time": "2023-11-14T13:25:30.882Z"
   },
   {
    "duration": 45,
    "start_time": "2023-11-14T13:25:30.908Z"
   },
   {
    "duration": 74,
    "start_time": "2023-11-14T13:25:30.955Z"
   }
  ],
  "colab": {
   "name": "dpp_template_part2.ipynb",
   "provenance": []
  },
  "kernelspec": {
   "display_name": "Python 3 (ipykernel)",
   "language": "python",
   "name": "python3"
  },
  "language_info": {
   "codemirror_mode": {
    "name": "ipython",
    "version": 3
   },
   "file_extension": ".py",
   "mimetype": "text/x-python",
   "name": "python",
   "nbconvert_exporter": "python",
   "pygments_lexer": "ipython3",
   "version": "3.9.21"
  },
  "toc": {
   "base_numbering": 1,
   "nav_menu": {},
   "number_sections": true,
   "sideBar": true,
   "skip_h1_title": true,
   "title_cell": "Table of Contents",
   "title_sidebar": "Contents",
   "toc_cell": false,
   "toc_position": {
    "height": "calc(100% - 180px)",
    "left": "10px",
    "top": "150px",
    "width": "308px"
   },
   "toc_section_display": true,
   "toc_window_display": true
  }
 },
 "nbformat": 4,
 "nbformat_minor": 5
}

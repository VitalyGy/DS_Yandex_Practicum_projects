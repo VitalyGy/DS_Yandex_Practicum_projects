{
 "cells": [
  {
   "cell_type": "markdown",
   "metadata": {},
   "source": [
    "# Определение стоимости автомобилей"
   ]
  },
  {
   "cell_type": "markdown",
   "metadata": {},
   "source": [
    "Введение:Сервис по продаже автомобилей с пробегом «Не бит, не крашен» разрабатывает приложение для привлечения новых клиентов. В нём можно быстро узнать рыночную стоимость своего автомобиля. В вашем распоряжении исторические данные: технические характеристики, комплектации и цены автомобилей. Вам нужно построить модель для определения стоимости. \n",
    "\n",
    "Цель проекта: Построить модель, которая умеет определять рыночную стоимость автомобиля. \n",
    "\n",
    "Заказчику важны:\n",
    "\n",
    "- качество предсказания;\n",
    "- скорость предсказания;\n",
    "- время обучения.\n",
    "\n",
    "План работы:\n",
    "1. Подготова данных.\n",
    "2. Обучение моделей.\n",
    "3. Анализ моделей.\n",
    "4. Общий вывод.\n",
    "\n",
    "Примечания:\n",
    "* Для оценки качества моделей применяйте метрику RMSE.\n",
    "* Значение метрики RMSE должно быть меньше 2500.\n",
    "* Самостоятельно освойте библиотеку LightGBM и её средствами постройте модели градиентного бустинга.\n",
    "* Время выполнения ячейки кода Jupyter Notebook можно получить специальной командой. Найдите её.\n",
    "* Модель градиентного бустинга может долго обучаться, поэтому измените у неё только два-три параметра.\n",
    "* Если перестанет работать Jupyter Notebook, удалите лишние переменные оператором del.\n",
    "\n",
    "\n",
    "Описание данных:\n",
    "Данные находятся в файле /datasets/autos.csv. Скачать датасет. \n",
    "\n",
    "Признаки:\n",
    "* DateCrawled — дата скачивания анкеты из базы\n",
    "* VehicleType — тип автомобильного кузова\n",
    "* RegistrationYear — год регистрации автомобиля\n",
    "* Gearbox — тип коробки передач\n",
    "* Power — мощность (л. с.)\n",
    "* Model — модель автомобиля\n",
    "* Kilometer — пробег (км)\n",
    "* RegistrationMonth — месяц регистрации автомобиля\n",
    "* FuelType — тип топлива\n",
    "* Brand — марка автомобиля\n",
    "* Repaired — была машина в ремонте или нет\n",
    "* DateCreated — дата создания анкеты\n",
    "* NumberOfPictures — количество фотографий автомобиля\n",
    "* PostalCode — почтовый индекс владельца анкеты (пользователя)\n",
    "* LastSeen — дата последней активности пользователя\n",
    "Целевой признак\n",
    "* Price — цена (евро)"
   ]
  },
  {
   "cell_type": "code",
   "execution_count": 1,
   "metadata": {
    "scrolled": true
   },
   "outputs": [],
   "source": [
    "#!pip install phik -q"
   ]
  },
  {
   "cell_type": "code",
   "execution_count": 2,
   "metadata": {},
   "outputs": [],
   "source": [
    "#!pip install lightgbm -q"
   ]
  },
  {
   "cell_type": "code",
   "execution_count": 78,
   "metadata": {},
   "outputs": [],
   "source": [
    "import pandas as pd\n",
    "import numpy as np\n",
    "import seaborn as sns\n",
    "from scipy import stats as st\n",
    "from matplotlib import pyplot as plt\n",
    "import phik\n",
    "from sklearn.model_selection import train_test_split, GridSearchCV\n",
    "from sklearn.metrics import mean_squared_error \n",
    "import lightgbm as lgb\n",
    "from sklearn.preprocessing import OneHotEncoder\n",
    "from sklearn.preprocessing import OrdinalEncoder\n",
    "from sklearn.impute import SimpleImputer\n",
    "from sklearn.preprocessing import StandardScaler\n",
    "from sklearn.tree import DecisionTreeRegressor\n",
    "from sklearn.linear_model import LinearRegression\n",
    "import warnings\n",
    "warnings.filterwarnings(\"ignore\")\n",
    "from time import time"
   ]
  },
  {
   "cell_type": "code",
   "execution_count": 4,
   "metadata": {},
   "outputs": [],
   "source": [
    "RANDOM_STATE = 42"
   ]
  },
  {
   "cell_type": "markdown",
   "metadata": {},
   "source": [
    "## Подготовка данных"
   ]
  },
  {
   "cell_type": "markdown",
   "metadata": {},
   "source": [
    "### Загрузка данных"
   ]
  },
  {
   "cell_type": "code",
   "execution_count": 5,
   "metadata": {},
   "outputs": [],
   "source": [
    "# Загружаю данные\n",
    "autos = pd.read_csv('autos.csv')"
   ]
  },
  {
   "cell_type": "code",
   "execution_count": 6,
   "metadata": {
    "scrolled": true
   },
   "outputs": [
    {
     "data": {
      "text/html": [
       "<div>\n",
       "<style scoped>\n",
       "    .dataframe tbody tr th:only-of-type {\n",
       "        vertical-align: middle;\n",
       "    }\n",
       "\n",
       "    .dataframe tbody tr th {\n",
       "        vertical-align: top;\n",
       "    }\n",
       "\n",
       "    .dataframe thead th {\n",
       "        text-align: right;\n",
       "    }\n",
       "</style>\n",
       "<table border=\"1\" class=\"dataframe\">\n",
       "  <thead>\n",
       "    <tr style=\"text-align: right;\">\n",
       "      <th></th>\n",
       "      <th>DateCrawled</th>\n",
       "      <th>Price</th>\n",
       "      <th>VehicleType</th>\n",
       "      <th>RegistrationYear</th>\n",
       "      <th>Gearbox</th>\n",
       "      <th>Power</th>\n",
       "      <th>Model</th>\n",
       "      <th>Kilometer</th>\n",
       "      <th>RegistrationMonth</th>\n",
       "      <th>FuelType</th>\n",
       "      <th>Brand</th>\n",
       "      <th>Repaired</th>\n",
       "      <th>DateCreated</th>\n",
       "      <th>NumberOfPictures</th>\n",
       "      <th>PostalCode</th>\n",
       "      <th>LastSeen</th>\n",
       "    </tr>\n",
       "  </thead>\n",
       "  <tbody>\n",
       "    <tr>\n",
       "      <th>0</th>\n",
       "      <td>2016-03-24 11:52:17</td>\n",
       "      <td>480</td>\n",
       "      <td>NaN</td>\n",
       "      <td>1993</td>\n",
       "      <td>manual</td>\n",
       "      <td>0</td>\n",
       "      <td>golf</td>\n",
       "      <td>150000</td>\n",
       "      <td>0</td>\n",
       "      <td>petrol</td>\n",
       "      <td>volkswagen</td>\n",
       "      <td>NaN</td>\n",
       "      <td>2016-03-24 00:00:00</td>\n",
       "      <td>0</td>\n",
       "      <td>70435</td>\n",
       "      <td>2016-04-07 03:16:57</td>\n",
       "    </tr>\n",
       "    <tr>\n",
       "      <th>1</th>\n",
       "      <td>2016-03-24 10:58:45</td>\n",
       "      <td>18300</td>\n",
       "      <td>coupe</td>\n",
       "      <td>2011</td>\n",
       "      <td>manual</td>\n",
       "      <td>190</td>\n",
       "      <td>NaN</td>\n",
       "      <td>125000</td>\n",
       "      <td>5</td>\n",
       "      <td>gasoline</td>\n",
       "      <td>audi</td>\n",
       "      <td>yes</td>\n",
       "      <td>2016-03-24 00:00:00</td>\n",
       "      <td>0</td>\n",
       "      <td>66954</td>\n",
       "      <td>2016-04-07 01:46:50</td>\n",
       "    </tr>\n",
       "    <tr>\n",
       "      <th>2</th>\n",
       "      <td>2016-03-14 12:52:21</td>\n",
       "      <td>9800</td>\n",
       "      <td>suv</td>\n",
       "      <td>2004</td>\n",
       "      <td>auto</td>\n",
       "      <td>163</td>\n",
       "      <td>grand</td>\n",
       "      <td>125000</td>\n",
       "      <td>8</td>\n",
       "      <td>gasoline</td>\n",
       "      <td>jeep</td>\n",
       "      <td>NaN</td>\n",
       "      <td>2016-03-14 00:00:00</td>\n",
       "      <td>0</td>\n",
       "      <td>90480</td>\n",
       "      <td>2016-04-05 12:47:46</td>\n",
       "    </tr>\n",
       "    <tr>\n",
       "      <th>3</th>\n",
       "      <td>2016-03-17 16:54:04</td>\n",
       "      <td>1500</td>\n",
       "      <td>small</td>\n",
       "      <td>2001</td>\n",
       "      <td>manual</td>\n",
       "      <td>75</td>\n",
       "      <td>golf</td>\n",
       "      <td>150000</td>\n",
       "      <td>6</td>\n",
       "      <td>petrol</td>\n",
       "      <td>volkswagen</td>\n",
       "      <td>no</td>\n",
       "      <td>2016-03-17 00:00:00</td>\n",
       "      <td>0</td>\n",
       "      <td>91074</td>\n",
       "      <td>2016-03-17 17:40:17</td>\n",
       "    </tr>\n",
       "    <tr>\n",
       "      <th>4</th>\n",
       "      <td>2016-03-31 17:25:20</td>\n",
       "      <td>3600</td>\n",
       "      <td>small</td>\n",
       "      <td>2008</td>\n",
       "      <td>manual</td>\n",
       "      <td>69</td>\n",
       "      <td>fabia</td>\n",
       "      <td>90000</td>\n",
       "      <td>7</td>\n",
       "      <td>gasoline</td>\n",
       "      <td>skoda</td>\n",
       "      <td>no</td>\n",
       "      <td>2016-03-31 00:00:00</td>\n",
       "      <td>0</td>\n",
       "      <td>60437</td>\n",
       "      <td>2016-04-06 10:17:21</td>\n",
       "    </tr>\n",
       "  </tbody>\n",
       "</table>\n",
       "</div>"
      ],
      "text/plain": [
       "           DateCrawled  Price VehicleType  RegistrationYear Gearbox  Power  \\\n",
       "0  2016-03-24 11:52:17    480         NaN              1993  manual      0   \n",
       "1  2016-03-24 10:58:45  18300       coupe              2011  manual    190   \n",
       "2  2016-03-14 12:52:21   9800         suv              2004    auto    163   \n",
       "3  2016-03-17 16:54:04   1500       small              2001  manual     75   \n",
       "4  2016-03-31 17:25:20   3600       small              2008  manual     69   \n",
       "\n",
       "   Model  Kilometer  RegistrationMonth  FuelType       Brand Repaired  \\\n",
       "0   golf     150000                  0    petrol  volkswagen      NaN   \n",
       "1    NaN     125000                  5  gasoline        audi      yes   \n",
       "2  grand     125000                  8  gasoline        jeep      NaN   \n",
       "3   golf     150000                  6    petrol  volkswagen       no   \n",
       "4  fabia      90000                  7  gasoline       skoda       no   \n",
       "\n",
       "           DateCreated  NumberOfPictures  PostalCode             LastSeen  \n",
       "0  2016-03-24 00:00:00                 0       70435  2016-04-07 03:16:57  \n",
       "1  2016-03-24 00:00:00                 0       66954  2016-04-07 01:46:50  \n",
       "2  2016-03-14 00:00:00                 0       90480  2016-04-05 12:47:46  \n",
       "3  2016-03-17 00:00:00                 0       91074  2016-03-17 17:40:17  \n",
       "4  2016-03-31 00:00:00                 0       60437  2016-04-06 10:17:21  "
      ]
     },
     "execution_count": 6,
     "metadata": {},
     "output_type": "execute_result"
    }
   ],
   "source": [
    "# Изучим данные\n",
    "autos.head()"
   ]
  },
  {
   "cell_type": "code",
   "execution_count": 7,
   "metadata": {},
   "outputs": [
    {
     "data": {
      "text/plain": [
       "'2016-04-07 14:36:58'"
      ]
     },
     "execution_count": 7,
     "metadata": {},
     "output_type": "execute_result"
    }
   ],
   "source": [
    "max(autos['DateCrawled'])"
   ]
  },
  {
   "cell_type": "code",
   "execution_count": 8,
   "metadata": {
    "scrolled": true
   },
   "outputs": [
    {
     "data": {
      "text/plain": [
       "(354369, 16)"
      ]
     },
     "execution_count": 8,
     "metadata": {},
     "output_type": "execute_result"
    }
   ],
   "source": [
    "autos.shape"
   ]
  },
  {
   "cell_type": "code",
   "execution_count": 9,
   "metadata": {},
   "outputs": [
    {
     "name": "stdout",
     "output_type": "stream",
     "text": [
      "<class 'pandas.core.frame.DataFrame'>\n",
      "RangeIndex: 354369 entries, 0 to 354368\n",
      "Data columns (total 16 columns):\n",
      " #   Column             Non-Null Count   Dtype \n",
      "---  ------             --------------   ----- \n",
      " 0   DateCrawled        354369 non-null  object\n",
      " 1   Price              354369 non-null  int64 \n",
      " 2   VehicleType        316879 non-null  object\n",
      " 3   RegistrationYear   354369 non-null  int64 \n",
      " 4   Gearbox            334536 non-null  object\n",
      " 5   Power              354369 non-null  int64 \n",
      " 6   Model              334664 non-null  object\n",
      " 7   Kilometer          354369 non-null  int64 \n",
      " 8   RegistrationMonth  354369 non-null  int64 \n",
      " 9   FuelType           321474 non-null  object\n",
      " 10  Brand              354369 non-null  object\n",
      " 11  Repaired           283215 non-null  object\n",
      " 12  DateCreated        354369 non-null  object\n",
      " 13  NumberOfPictures   354369 non-null  int64 \n",
      " 14  PostalCode         354369 non-null  int64 \n",
      " 15  LastSeen           354369 non-null  object\n",
      "dtypes: int64(7), object(9)\n",
      "memory usage: 43.3+ MB\n"
     ]
    }
   ],
   "source": [
    "autos.info()"
   ]
  },
  {
   "cell_type": "markdown",
   "metadata": {},
   "source": [
    "Вижу пропуски в данных. Также считаю признаки PostalCode, NumberOfPictures, RegistrationMonth, LastSeen, DateCreated, DateCrawled неинформативными. Буду удалять."
   ]
  },
  {
   "cell_type": "markdown",
   "metadata": {},
   "source": [
    "### Предобработка данных"
   ]
  },
  {
   "cell_type": "code",
   "execution_count": 10,
   "metadata": {},
   "outputs": [
    {
     "data": {
      "text/plain": [
       "4"
      ]
     },
     "execution_count": 10,
     "metadata": {},
     "output_type": "execute_result"
    }
   ],
   "source": [
    "# Поищем явные дубликаты\n",
    "autos.duplicated().sum()"
   ]
  },
  {
   "cell_type": "code",
   "execution_count": 11,
   "metadata": {},
   "outputs": [],
   "source": [
    "# удаляю явные дубликаты\n",
    "autos = autos.drop_duplicates()"
   ]
  },
  {
   "cell_type": "code",
   "execution_count": 12,
   "metadata": {},
   "outputs": [
    {
     "data": {
      "text/plain": [
       "array(['bus', 'convertible', 'coupe', 'other', 'sedan', 'small', 'suv',\n",
       "       'wagon', nan], dtype=object)"
      ]
     },
     "execution_count": 12,
     "metadata": {},
     "output_type": "execute_result"
    }
   ],
   "source": [
    "# проверяю наличие неячвных дубликатов\n",
    "autos['VehicleType'].sort_values().unique()"
   ]
  },
  {
   "cell_type": "code",
   "execution_count": 13,
   "metadata": {},
   "outputs": [
    {
     "data": {
      "text/plain": [
       "array([1000, 1001, 1039, 1111, 1200, 1234, 1253, 1255, 1300, 1400, 1500,\n",
       "       1600, 1602, 1688, 1800, 1910, 1915, 1919, 1920, 1923, 1925, 1927,\n",
       "       1928, 1929, 1930, 1931, 1932, 1933, 1934, 1935, 1936, 1937, 1938,\n",
       "       1940, 1941, 1942, 1943, 1944, 1945, 1946, 1947, 1948, 1949, 1950,\n",
       "       1951, 1952, 1953, 1954, 1955, 1956, 1957, 1958, 1959, 1960, 1961,\n",
       "       1962, 1963, 1964, 1965, 1966, 1967, 1968, 1969, 1970, 1971, 1972,\n",
       "       1973, 1974, 1975, 1976, 1977, 1978, 1979, 1980, 1981, 1982, 1983,\n",
       "       1984, 1985, 1986, 1987, 1988, 1989, 1990, 1991, 1992, 1993, 1994,\n",
       "       1995, 1996, 1997, 1998, 1999, 2000, 2001, 2002, 2003, 2004, 2005,\n",
       "       2006, 2007, 2008, 2009, 2010, 2011, 2012, 2013, 2014, 2015, 2016,\n",
       "       2017, 2018, 2019, 2066, 2200, 2222, 2290, 2500, 2800, 2900, 3000,\n",
       "       3200, 3500, 3700, 3800, 4000, 4100, 4500, 4800, 5000, 5300, 5555,\n",
       "       5600, 5900, 5911, 6000, 6500, 7000, 7100, 7500, 7800, 8000, 8200,\n",
       "       8455, 8500, 8888, 9000, 9229, 9450, 9996, 9999], dtype=int64)"
      ]
     },
     "execution_count": 13,
     "metadata": {},
     "output_type": "execute_result"
    }
   ],
   "source": [
    "autos['RegistrationYear'].sort_values().unique()"
   ]
  },
  {
   "cell_type": "code",
   "execution_count": 14,
   "metadata": {},
   "outputs": [
    {
     "data": {
      "text/plain": [
       "array(['manual', 'auto', nan], dtype=object)"
      ]
     },
     "execution_count": 14,
     "metadata": {},
     "output_type": "execute_result"
    }
   ],
   "source": [
    "autos['Gearbox'].unique()"
   ]
  },
  {
   "cell_type": "code",
   "execution_count": 15,
   "metadata": {},
   "outputs": [
    {
     "data": {
      "text/plain": [
       "array(['100', '145', '147', '156', '159', '1_reihe', '1er', '200',\n",
       "       '2_reihe', '300c', '3_reihe', '3er', '4_reihe', '500', '5_reihe',\n",
       "       '5er', '601', '6_reihe', '6er', '7er', '80', '850', '90', '900',\n",
       "       '9000', '911', 'a1', 'a2', 'a3', 'a4', 'a5', 'a6', 'a8',\n",
       "       'a_klasse', 'accord', 'agila', 'alhambra', 'almera', 'altea',\n",
       "       'amarok', 'antara', 'arosa', 'astra', 'auris', 'avensis', 'aveo',\n",
       "       'aygo', 'b_klasse', 'b_max', 'beetle', 'berlingo', 'bora',\n",
       "       'boxster', 'bravo', 'c1', 'c2', 'c3', 'c4', 'c5', 'c_klasse',\n",
       "       'c_max', 'c_reihe', 'caddy', 'calibra', 'captiva', 'carisma',\n",
       "       'carnival', 'cayenne', 'cc', 'ceed', 'charade', 'cherokee',\n",
       "       'citigo', 'civic', 'cl', 'clio', 'clk', 'clubman', 'colt', 'combo',\n",
       "       'cooper', 'cordoba', 'corolla', 'corsa', 'cr_reihe', 'croma',\n",
       "       'crossfire', 'cuore', 'cx_reihe', 'defender', 'delta', 'discovery',\n",
       "       'doblo', 'ducato', 'duster', 'e_klasse', 'elefantino', 'eos',\n",
       "       'escort', 'espace', 'exeo', 'fabia', 'fiesta', 'focus', 'forester',\n",
       "       'forfour', 'fortwo', 'fox', 'freelander', 'fusion', 'g_klasse',\n",
       "       'galant', 'galaxy', 'getz', 'gl', 'glk', 'golf', 'grand', 'i3',\n",
       "       'i_reihe', 'ibiza', 'impreza', 'insignia', 'jazz', 'jetta',\n",
       "       'jimny', 'juke', 'justy', 'ka', 'kadett', 'kaefer', 'kalina',\n",
       "       'kalos', 'kangoo', 'kappa', 'kuga', 'laguna', 'lancer', 'lanos',\n",
       "       'legacy', 'leon', 'lodgy', 'logan', 'lupo', 'lybra', 'm_klasse',\n",
       "       'm_reihe', 'materia', 'matiz', 'megane', 'meriva', 'micra', 'mii',\n",
       "       'modus', 'mondeo', 'move', 'musa', 'mustang', 'mx_reihe', 'navara',\n",
       "       'niva', 'note', 'nubira', 'octavia', 'omega', 'one', 'other',\n",
       "       'outlander', 'pajero', 'panda', 'passat', 'phaeton', 'picanto',\n",
       "       'polo', 'primera', 'ptcruiser', 'punto', 'q3', 'q5', 'q7',\n",
       "       'qashqai', 'r19', 'range_rover', 'range_rover_evoque',\n",
       "       'range_rover_sport', 'rangerover', 'rav', 'rio', 'roadster',\n",
       "       'roomster', 'rx_reihe', 's60', 's_klasse', 's_max', 's_type',\n",
       "       'samara', 'sandero', 'santa', 'scenic', 'scirocco', 'seicento',\n",
       "       'serie_1', 'serie_2', 'serie_3', 'sharan', 'signum', 'sirion',\n",
       "       'sl', 'slk', 'sorento', 'spark', 'spider', 'sportage', 'sprinter',\n",
       "       'stilo', 'superb', 'swift', 'terios', 'tigra', 'tiguan', 'toledo',\n",
       "       'touareg', 'touran', 'transit', 'transporter', 'tt', 'tucson',\n",
       "       'twingo', 'up', 'v40', 'v50', 'v60', 'v70', 'v_klasse', 'vectra',\n",
       "       'verso', 'viano', 'vito', 'vivaro', 'voyager', 'wrangler',\n",
       "       'x_reihe', 'x_trail', 'x_type', 'xc_reihe', 'yaris', 'yeti',\n",
       "       'ypsilon', 'z_reihe', 'zafira', nan], dtype=object)"
      ]
     },
     "execution_count": 15,
     "metadata": {},
     "output_type": "execute_result"
    }
   ],
   "source": [
    "autos['Model'].sort_values().unique()"
   ]
  },
  {
   "cell_type": "code",
   "execution_count": 16,
   "metadata": {},
   "outputs": [
    {
     "data": {
      "text/plain": [
       "array(['cng', 'electric', 'gasoline', 'hybrid', 'lpg', 'other', 'petrol',\n",
       "       nan], dtype=object)"
      ]
     },
     "execution_count": 16,
     "metadata": {},
     "output_type": "execute_result"
    }
   ],
   "source": [
    "autos['FuelType'].sort_values().unique()"
   ]
  },
  {
   "cell_type": "code",
   "execution_count": 17,
   "metadata": {},
   "outputs": [],
   "source": [
    "autos['FuelType'] = autos['FuelType'].replace('petrol', 'gasoline')\n",
    "autos['Model'] = autos['Model'].replace('rangerover', 'range_rover')"
   ]
  },
  {
   "cell_type": "code",
   "execution_count": 18,
   "metadata": {
    "scrolled": true
   },
   "outputs": [
    {
     "data": {
      "text/html": [
       "<div>\n",
       "<style scoped>\n",
       "    .dataframe tbody tr th:only-of-type {\n",
       "        vertical-align: middle;\n",
       "    }\n",
       "\n",
       "    .dataframe tbody tr th {\n",
       "        vertical-align: top;\n",
       "    }\n",
       "\n",
       "    .dataframe thead th {\n",
       "        text-align: right;\n",
       "    }\n",
       "</style>\n",
       "<table border=\"1\" class=\"dataframe\">\n",
       "  <thead>\n",
       "    <tr style=\"text-align: right;\">\n",
       "      <th></th>\n",
       "      <th>Price</th>\n",
       "      <th>VehicleType</th>\n",
       "      <th>RegistrationYear</th>\n",
       "      <th>Gearbox</th>\n",
       "      <th>Power</th>\n",
       "      <th>Model</th>\n",
       "      <th>Kilometer</th>\n",
       "      <th>FuelType</th>\n",
       "      <th>Brand</th>\n",
       "      <th>Repaired</th>\n",
       "    </tr>\n",
       "  </thead>\n",
       "  <tbody>\n",
       "    <tr>\n",
       "      <th>0</th>\n",
       "      <td>480</td>\n",
       "      <td>NaN</td>\n",
       "      <td>1993</td>\n",
       "      <td>manual</td>\n",
       "      <td>0</td>\n",
       "      <td>golf</td>\n",
       "      <td>150000</td>\n",
       "      <td>gasoline</td>\n",
       "      <td>volkswagen</td>\n",
       "      <td>NaN</td>\n",
       "    </tr>\n",
       "    <tr>\n",
       "      <th>1</th>\n",
       "      <td>18300</td>\n",
       "      <td>coupe</td>\n",
       "      <td>2011</td>\n",
       "      <td>manual</td>\n",
       "      <td>190</td>\n",
       "      <td>NaN</td>\n",
       "      <td>125000</td>\n",
       "      <td>gasoline</td>\n",
       "      <td>audi</td>\n",
       "      <td>yes</td>\n",
       "    </tr>\n",
       "    <tr>\n",
       "      <th>2</th>\n",
       "      <td>9800</td>\n",
       "      <td>suv</td>\n",
       "      <td>2004</td>\n",
       "      <td>auto</td>\n",
       "      <td>163</td>\n",
       "      <td>grand</td>\n",
       "      <td>125000</td>\n",
       "      <td>gasoline</td>\n",
       "      <td>jeep</td>\n",
       "      <td>NaN</td>\n",
       "    </tr>\n",
       "    <tr>\n",
       "      <th>3</th>\n",
       "      <td>1500</td>\n",
       "      <td>small</td>\n",
       "      <td>2001</td>\n",
       "      <td>manual</td>\n",
       "      <td>75</td>\n",
       "      <td>golf</td>\n",
       "      <td>150000</td>\n",
       "      <td>gasoline</td>\n",
       "      <td>volkswagen</td>\n",
       "      <td>no</td>\n",
       "    </tr>\n",
       "    <tr>\n",
       "      <th>4</th>\n",
       "      <td>3600</td>\n",
       "      <td>small</td>\n",
       "      <td>2008</td>\n",
       "      <td>manual</td>\n",
       "      <td>69</td>\n",
       "      <td>fabia</td>\n",
       "      <td>90000</td>\n",
       "      <td>gasoline</td>\n",
       "      <td>skoda</td>\n",
       "      <td>no</td>\n",
       "    </tr>\n",
       "  </tbody>\n",
       "</table>\n",
       "</div>"
      ],
      "text/plain": [
       "   Price VehicleType  RegistrationYear Gearbox  Power  Model  Kilometer  \\\n",
       "0    480         NaN              1993  manual      0   golf     150000   \n",
       "1  18300       coupe              2011  manual    190    NaN     125000   \n",
       "2   9800         suv              2004    auto    163  grand     125000   \n",
       "3   1500       small              2001  manual     75   golf     150000   \n",
       "4   3600       small              2008  manual     69  fabia      90000   \n",
       "\n",
       "   FuelType       Brand Repaired  \n",
       "0  gasoline  volkswagen      NaN  \n",
       "1  gasoline        audi      yes  \n",
       "2  gasoline        jeep      NaN  \n",
       "3  gasoline  volkswagen       no  \n",
       "4  gasoline       skoda       no  "
      ]
     },
     "execution_count": 18,
     "metadata": {},
     "output_type": "execute_result"
    }
   ],
   "source": [
    "# удаляю неинформативные признаки\n",
    "autos = autos.drop(['PostalCode', 'NumberOfPictures', 'RegistrationMonth', 'LastSeen', 'DateCreated', 'DateCrawled'], axis=1)\n",
    "autos.head(5)"
   ]
  },
  {
   "cell_type": "markdown",
   "metadata": {},
   "source": [
    "Признаки VehicleType, Gearbox, Model, FuelType, Repaired содержат пропуски. Заменю на категорию 'other'. А пропуски в Repaired на 'no'."
   ]
  },
  {
   "cell_type": "code",
   "execution_count": 19,
   "metadata": {},
   "outputs": [],
   "source": [
    "autos['VehicleType'] = autos['VehicleType'].fillna('other')"
   ]
  },
  {
   "cell_type": "code",
   "execution_count": 20,
   "metadata": {},
   "outputs": [],
   "source": [
    "autos['Gearbox'] = autos['Gearbox'].fillna('other')"
   ]
  },
  {
   "cell_type": "code",
   "execution_count": 21,
   "metadata": {},
   "outputs": [],
   "source": [
    "autos['Model'] = autos['Model'].fillna('other')"
   ]
  },
  {
   "cell_type": "code",
   "execution_count": 22,
   "metadata": {},
   "outputs": [],
   "source": [
    "autos['FuelType'] = autos['FuelType'].fillna('other')"
   ]
  },
  {
   "cell_type": "code",
   "execution_count": 23,
   "metadata": {
    "scrolled": true
   },
   "outputs": [],
   "source": [
    "autos['Repaired'] = autos['Repaired'].fillna('no')"
   ]
  },
  {
   "cell_type": "code",
   "execution_count": 24,
   "metadata": {},
   "outputs": [],
   "source": [
    "# нулевые значения в признаке Power меняю на среднее значение\n",
    "# utos['Power'] = autos['Power'].replace (0, np.nan, regex= True)\n",
    "# power_avg = autos['Power'].mean()\n",
    "# autos['Power'] = autos['Power'].fillna(power_avg)"
   ]
  },
  {
   "cell_type": "markdown",
   "metadata": {},
   "source": [
    "### Анализ данных"
   ]
  },
  {
   "cell_type": "code",
   "execution_count": 25,
   "metadata": {},
   "outputs": [],
   "source": [
    "cat_cols = ['VehicleType','Gearbox', 'Model', 'FuelType', 'Brand', 'Repaired']\n",
    "num_cols = ['RegistrationYear', 'Power', 'Kilometer']"
   ]
  },
  {
   "cell_type": "code",
   "execution_count": 26,
   "metadata": {},
   "outputs": [],
   "source": [
    "# Проведем статистический анализ всех признаков.\n",
    "# Количественные признаки\n",
    "# функция для построения ящиков с усами и гистограммы (для числовых признаков)\n",
    "def boxplot_(df, column):\n",
    "    fig, axes = plt.subplots(nrows=1, ncols=2, figsize=(12, 6))\n",
    "\n",
    "    sns.boxplot(data=df, x=column, ax=axes[0])\n",
    "    axes[0].set_title(f'Ящик с усами для столбца \"{column}\"')\n",
    "    axes[0].set_ylabel('Количество')\n",
    "\n",
    "    sns.histplot(data=df, x=column, kde=True, ax=axes[1])\n",
    "    axes[1].set_title(f'Гистограмма для столбца \"{column}\"')\n",
    "    axes[1].set_ylabel('Частота')\n",
    "\n",
    "    plt.tight_layout()\n",
    "    plt.show()"
   ]
  },
  {
   "cell_type": "code",
   "execution_count": 27,
   "metadata": {},
   "outputs": [
    {
     "data": {
      "image/png": "[encoded data removed]",
      "text/plain": [
       "<Figure size 1200x600 with 2 Axes>"
      ]
     },
     "metadata": {},
     "output_type": "display_data"
    }
   ],
   "source": [
    "boxplot_(autos, 'Price')"
   ]
  },
  {
   "cell_type": "code",
   "execution_count": 28,
   "metadata": {},
   "outputs": [
    {
     "data": {
      "image/png": "[encoded data removed]",
      "text/plain": [
       "<Figure size 1200x600 with 2 Axes>"
      ]
     },
     "metadata": {},
     "output_type": "display_data"
    }
   ],
   "source": [
    "boxplot_(autos, 'RegistrationYear')"
   ]
  },
  {
   "cell_type": "code",
   "execution_count": 29,
   "metadata": {
    "scrolled": true
   },
   "outputs": [
    {
     "data": {
      "text/plain": [
       "10772"
      ]
     },
     "execution_count": 29,
     "metadata": {},
     "output_type": "execute_result"
    }
   ],
   "source": [
    "autos.query('Price == 0')['Price'].count()"
   ]
  },
  {
   "cell_type": "markdown",
   "metadata": {},
   "source": [
    "В результате анализа целевого признака Price считаю данные, где стоимость автомобиля дешевле 600 евро аномалиями. Удаляю."
   ]
  },
  {
   "cell_type": "code",
   "execution_count": 30,
   "metadata": {},
   "outputs": [],
   "source": [
    "autos = autos[(autos['Price'] > 500)]"
   ]
  },
  {
   "cell_type": "code",
   "execution_count": 31,
   "metadata": {
    "scrolled": true
   },
   "outputs": [
    {
     "data": {
      "text/plain": [
       "12843"
      ]
     },
     "execution_count": 31,
     "metadata": {},
     "output_type": "execute_result"
    }
   ],
   "source": [
    "autos.query('RegistrationYear > 2016')['Price'].count()"
   ]
  },
  {
   "cell_type": "code",
   "execution_count": 32,
   "metadata": {},
   "outputs": [
    {
     "data": {
      "text/plain": [
       "20191"
      ]
     },
     "execution_count": 32,
     "metadata": {},
     "output_type": "execute_result"
    }
   ],
   "source": [
    "autos.query('RegistrationYear < 1995')['Price'].count()"
   ]
  },
  {
   "cell_type": "markdown",
   "metadata": {},
   "source": [
    "В результате анализа признака RegistrationYear считаю данные вне промежутка 1995 и 2016 года аномалиями и устаревшими. Удаляю."
   ]
  },
  {
   "cell_type": "code",
   "execution_count": 33,
   "metadata": {},
   "outputs": [
    {
     "data": {
      "text/plain": [
       "(279607, 10)"
      ]
     },
     "execution_count": 33,
     "metadata": {},
     "output_type": "execute_result"
    }
   ],
   "source": [
    "autos = autos[(autos['RegistrationYear'] <= 2016)]\n",
    "autos = autos[(autos['RegistrationYear'] >= 1995)]\n",
    "autos.shape"
   ]
  },
  {
   "cell_type": "code",
   "execution_count": 34,
   "metadata": {
    "scrolled": true
   },
   "outputs": [
    {
     "data": {
      "image/png": "[encoded data removed]",
      "text/plain": [
       "<Figure size 1200x600 with 2 Axes>"
      ]
     },
     "metadata": {},
     "output_type": "display_data"
    }
   ],
   "source": [
    "boxplot_(autos, 'RegistrationYear')"
   ]
  },
  {
   "cell_type": "code",
   "execution_count": 35,
   "metadata": {},
   "outputs": [
    {
     "data": {
      "image/png": "[encoded data removed]",
      "text/plain": [
       "<Figure size 1200x600 with 2 Axes>"
      ]
     },
     "metadata": {},
     "output_type": "display_data"
    }
   ],
   "source": [
    "boxplot_(autos, 'Power')"
   ]
  },
  {
   "cell_type": "markdown",
   "metadata": {},
   "source": [
    "В результате анализа признака Power считаю данные со значениями больше 400 л.с. и меньше 20 л.с. аномалиями. Удаляю."
   ]
  },
  {
   "cell_type": "code",
   "execution_count": 36,
   "metadata": {},
   "outputs": [
    {
     "data": {
      "text/plain": [
       "21950"
      ]
     },
     "execution_count": 36,
     "metadata": {},
     "output_type": "execute_result"
    }
   ],
   "source": [
    "autos.query('Power < 20')['Power'].count()"
   ]
  },
  {
   "cell_type": "code",
   "execution_count": 37,
   "metadata": {},
   "outputs": [],
   "source": [
    "autos = autos[(autos['Power'] >= 20)]"
   ]
  },
  {
   "cell_type": "code",
   "execution_count": 38,
   "metadata": {},
   "outputs": [
    {
     "data": {
      "text/plain": [
       "558"
      ]
     },
     "execution_count": 38,
     "metadata": {},
     "output_type": "execute_result"
    }
   ],
   "source": [
    "autos.query('Power > 400')['Power'].count()"
   ]
  },
  {
   "cell_type": "code",
   "execution_count": 39,
   "metadata": {},
   "outputs": [
    {
     "data": {
      "text/plain": [
       "(257057, 10)"
      ]
     },
     "execution_count": 39,
     "metadata": {},
     "output_type": "execute_result"
    }
   ],
   "source": [
    "autos = autos[(autos['Power'] < 400)]\n",
    "autos.shape"
   ]
  },
  {
   "cell_type": "code",
   "execution_count": 40,
   "metadata": {},
   "outputs": [
    {
     "data": {
      "image/png": "[encoded data removed]",
      "text/plain": [
       "<Figure size 1200x600 with 2 Axes>"
      ]
     },
     "metadata": {},
     "output_type": "display_data"
    }
   ],
   "source": [
    "boxplot_(autos, 'Power')"
   ]
  },
  {
   "cell_type": "code",
   "execution_count": 41,
   "metadata": {},
   "outputs": [
    {
     "data": {
      "image/png": "[encoded data removed]",
      "text/plain": [
       "<Figure size 1200x600 with 2 Axes>"
      ]
     },
     "metadata": {},
     "output_type": "display_data"
    }
   ],
   "source": [
    "boxplot_(autos, 'Kilometer')"
   ]
  },
  {
   "cell_type": "code",
   "execution_count": 42,
   "metadata": {},
   "outputs": [],
   "source": [
    "# Категориальные признаки\n",
    "cat_cols = ['VehicleType','Gearbox', 'FuelType', 'Repaired']"
   ]
  },
  {
   "cell_type": "code",
   "execution_count": 43,
   "metadata": {},
   "outputs": [
    {
     "data": {
      "image/png": "[encoded data removed]",
      "text/plain": [
       "<Figure size 640x480 with 1 Axes>"
      ]
     },
     "metadata": {},
     "output_type": "display_data"
    },
    {
     "data": {
      "image/png": "[encoded data removed]",
      "text/plain": [
       "<Figure size 640x480 with 1 Axes>"
      ]
     },
     "metadata": {},
     "output_type": "display_data"
    },
    {
     "data": {
      "image/png": "[encoded data removed]",
      "text/plain": [
       "<Figure size 640x480 with 1 Axes>"
      ]
     },
     "metadata": {},
     "output_type": "display_data"
    },
    {
     "data": {
      "image/png": "[encoded data removed]",
      "text/plain": [
       "<Figure size 640x480 with 1 Axes>"
      ]
     },
     "metadata": {},
     "output_type": "display_data"
    }
   ],
   "source": [
    "for col in cat_cols:  \n",
    "    ax=sns.countplot(x=col, data = autos)\n",
    "    plt.tight_layout()\n",
    "    plt.title(col)\n",
    "    plt.xlabel('Значение параметра')\n",
    "    plt.ylabel('Частота')\n",
    "    plt.show()"
   ]
  },
  {
   "cell_type": "markdown",
   "metadata": {},
   "source": [
    "Категориальные признаки Model и Brand имеют слишком много значений для отображения. Считаю что все значения важны. "
   ]
  },
  {
   "cell_type": "code",
   "execution_count": 44,
   "metadata": {
    "scrolled": true
   },
   "outputs": [
    {
     "data": {
      "image/png": "[encoded data removed]",
      "text/plain": [
       "<Figure size 1000x800 with 2 Axes>"
      ]
     },
     "metadata": {},
     "output_type": "display_data"
    }
   ],
   "source": [
    "# Вычисление матрицы корреляции с использованием phik\n",
    "corr_matrix = autos.phik_matrix(interval_cols=['Price', 'Power'])\n",
    "plt.figure(figsize=(10, 8))\n",
    "sns.heatmap(corr_matrix, annot=True, cmap='coolwarm')\n",
    "plt.title('Phi_K Correlation Matrix')\n",
    "plt.show()"
   ]
  },
  {
   "cell_type": "markdown",
   "metadata": {},
   "source": [
    "Признак Model очень сильно коррелирует с двумя признаками Brand и VehicleType. Удаляю признак."
   ]
  },
  {
   "cell_type": "code",
   "execution_count": 45,
   "metadata": {},
   "outputs": [],
   "source": [
    "autos = autos.drop(['Model'], axis=1)"
   ]
  },
  {
   "cell_type": "code",
   "execution_count": 46,
   "metadata": {},
   "outputs": [
    {
     "data": {
      "image/png": "[encoded data removed]",
      "text/plain": [
       "<Figure size 1000x800 with 2 Axes>"
      ]
     },
     "metadata": {},
     "output_type": "display_data"
    }
   ],
   "source": [
    "# Вычисление матрицы корреляции с использованием phik\n",
    "corr_matrix = autos.phik_matrix(interval_cols=['Price', 'Power'])\n",
    "plt.figure(figsize=(10, 8))\n",
    "sns.heatmap(corr_matrix, annot=True, cmap='coolwarm')\n",
    "plt.title('Phi_K Correlation Matrix')\n",
    "plt.show()"
   ]
  },
  {
   "cell_type": "markdown",
   "metadata": {},
   "source": [
    "### Подготовка выборки для обучения моделей."
   ]
  },
  {
   "cell_type": "code",
   "execution_count": 47,
   "metadata": {},
   "outputs": [
    {
     "data": {
      "text/html": [
       "<div>\n",
       "<style scoped>\n",
       "    .dataframe tbody tr th:only-of-type {\n",
       "        vertical-align: middle;\n",
       "    }\n",
       "\n",
       "    .dataframe tbody tr th {\n",
       "        vertical-align: top;\n",
       "    }\n",
       "\n",
       "    .dataframe thead th {\n",
       "        text-align: right;\n",
       "    }\n",
       "</style>\n",
       "<table border=\"1\" class=\"dataframe\">\n",
       "  <thead>\n",
       "    <tr style=\"text-align: right;\">\n",
       "      <th></th>\n",
       "      <th>Price</th>\n",
       "      <th>VehicleType</th>\n",
       "      <th>RegistrationYear</th>\n",
       "      <th>Gearbox</th>\n",
       "      <th>Power</th>\n",
       "      <th>Kilometer</th>\n",
       "      <th>FuelType</th>\n",
       "      <th>Brand</th>\n",
       "      <th>Repaired</th>\n",
       "    </tr>\n",
       "  </thead>\n",
       "  <tbody>\n",
       "    <tr>\n",
       "      <th>1</th>\n",
       "      <td>18300</td>\n",
       "      <td>coupe</td>\n",
       "      <td>2011</td>\n",
       "      <td>manual</td>\n",
       "      <td>190</td>\n",
       "      <td>125000</td>\n",
       "      <td>gasoline</td>\n",
       "      <td>audi</td>\n",
       "      <td>yes</td>\n",
       "    </tr>\n",
       "    <tr>\n",
       "      <th>2</th>\n",
       "      <td>9800</td>\n",
       "      <td>suv</td>\n",
       "      <td>2004</td>\n",
       "      <td>auto</td>\n",
       "      <td>163</td>\n",
       "      <td>125000</td>\n",
       "      <td>gasoline</td>\n",
       "      <td>jeep</td>\n",
       "      <td>no</td>\n",
       "    </tr>\n",
       "    <tr>\n",
       "      <th>3</th>\n",
       "      <td>1500</td>\n",
       "      <td>small</td>\n",
       "      <td>2001</td>\n",
       "      <td>manual</td>\n",
       "      <td>75</td>\n",
       "      <td>150000</td>\n",
       "      <td>gasoline</td>\n",
       "      <td>volkswagen</td>\n",
       "      <td>no</td>\n",
       "    </tr>\n",
       "    <tr>\n",
       "      <th>4</th>\n",
       "      <td>3600</td>\n",
       "      <td>small</td>\n",
       "      <td>2008</td>\n",
       "      <td>manual</td>\n",
       "      <td>69</td>\n",
       "      <td>90000</td>\n",
       "      <td>gasoline</td>\n",
       "      <td>skoda</td>\n",
       "      <td>no</td>\n",
       "    </tr>\n",
       "    <tr>\n",
       "      <th>5</th>\n",
       "      <td>650</td>\n",
       "      <td>sedan</td>\n",
       "      <td>1995</td>\n",
       "      <td>manual</td>\n",
       "      <td>102</td>\n",
       "      <td>150000</td>\n",
       "      <td>gasoline</td>\n",
       "      <td>bmw</td>\n",
       "      <td>yes</td>\n",
       "    </tr>\n",
       "  </tbody>\n",
       "</table>\n",
       "</div>"
      ],
      "text/plain": [
       "   Price VehicleType  RegistrationYear Gearbox  Power  Kilometer  FuelType  \\\n",
       "1  18300       coupe              2011  manual    190     125000  gasoline   \n",
       "2   9800         suv              2004    auto    163     125000  gasoline   \n",
       "3   1500       small              2001  manual     75     150000  gasoline   \n",
       "4   3600       small              2008  manual     69      90000  gasoline   \n",
       "5    650       sedan              1995  manual    102     150000  gasoline   \n",
       "\n",
       "        Brand Repaired  \n",
       "1        audi      yes  \n",
       "2        jeep       no  \n",
       "3  volkswagen       no  \n",
       "4       skoda       no  \n",
       "5         bmw      yes  "
      ]
     },
     "execution_count": 47,
     "metadata": {},
     "output_type": "execute_result"
    }
   ],
   "source": [
    "# Подготовим выборки для обучения моделей.\n",
    "autos.head()"
   ]
  },
  {
   "cell_type": "code",
   "execution_count": 48,
   "metadata": {},
   "outputs": [
    {
     "data": {
      "text/plain": [
       "47368"
      ]
     },
     "execution_count": 48,
     "metadata": {},
     "output_type": "execute_result"
    }
   ],
   "source": [
    "autos.duplicated().sum()"
   ]
  },
  {
   "cell_type": "code",
   "execution_count": 49,
   "metadata": {},
   "outputs": [],
   "source": [
    "# удаляю явные дубликаты\n",
    "autos = autos.drop_duplicates()"
   ]
  },
  {
   "cell_type": "code",
   "execution_count": 50,
   "metadata": {
    "scrolled": true
   },
   "outputs": [
    {
     "data": {
      "text/plain": [
       "array([125000, 150000,  90000,  30000,  70000, 100000,  60000,  20000,\n",
       "        80000,   5000,  50000,  40000,  10000], dtype=int64)"
      ]
     },
     "execution_count": 50,
     "metadata": {},
     "output_type": "execute_result"
    }
   ],
   "source": [
    "autos['Kilometer'].unique()"
   ]
  },
  {
   "cell_type": "code",
   "execution_count": 51,
   "metadata": {
    "scrolled": true
   },
   "outputs": [
    {
     "data": {
      "text/plain": [
       "array([2011, 2004, 2001, 2008, 1995, 2014, 1998, 2005, 2007, 2009, 2002,\n",
       "       2003, 2016, 2006, 1999, 2012, 2010, 2000, 1997, 2013, 1996, 2015],\n",
       "      dtype=int64)"
      ]
     },
     "execution_count": 51,
     "metadata": {},
     "output_type": "execute_result"
    }
   ],
   "source": [
    "autos['RegistrationYear'].unique()"
   ]
  },
  {
   "cell_type": "code",
   "execution_count": 52,
   "metadata": {},
   "outputs": [],
   "source": [
    "# Создаем списки категориальных и количественных признаков\n",
    "cat_cols = ['VehicleType','Gearbox', 'FuelType', 'Brand', 'Repaired', 'RegistrationYear', 'Kilometer']\n",
    "num_cols = ['Power']"
   ]
  },
  {
   "cell_type": "code",
   "execution_count": 53,
   "metadata": {},
   "outputs": [
    {
     "name": "stdout",
     "output_type": "stream",
     "text": [
      "<class 'pandas.core.frame.DataFrame'>\n",
      "Int64Index: 209689 entries, 1 to 354368\n",
      "Data columns (total 9 columns):\n",
      " #   Column            Non-Null Count   Dtype   \n",
      "---  ------            --------------   -----   \n",
      " 0   Price             209689 non-null  int64   \n",
      " 1   VehicleType       209689 non-null  category\n",
      " 2   RegistrationYear  209689 non-null  category\n",
      " 3   Gearbox           209689 non-null  category\n",
      " 4   Power             209689 non-null  int64   \n",
      " 5   Kilometer         209689 non-null  category\n",
      " 6   FuelType          209689 non-null  category\n",
      " 7   Brand             209689 non-null  category\n",
      " 8   Repaired          209689 non-null  category\n",
      "dtypes: category(7), int64(2)\n",
      "memory usage: 6.2 MB\n"
     ]
    }
   ],
   "source": [
    "# привел категориальные признаки к типу category\n",
    "for col in cat_cols:\n",
    "    autos[col] = autos[col].astype('category')\n",
    "autos.info()"
   ]
  },
  {
   "cell_type": "code",
   "execution_count": 54,
   "metadata": {},
   "outputs": [],
   "source": [
    "X_train, X_test_valid, y_train, y_test_valid = train_test_split(autos.drop('Price', axis=1),\n",
    "                                                                autos['Price'], test_size=0.4, \n",
    "                                                                random_state=RANDOM_STATE)"
   ]
  },
  {
   "cell_type": "code",
   "execution_count": 55,
   "metadata": {},
   "outputs": [],
   "source": [
    "X_valid, X_test, y_valid, y_test = train_test_split(X_test_valid, y_test_valid, test_size=0.5, random_state=RANDOM_STATE) "
   ]
  },
  {
   "cell_type": "code",
   "execution_count": 56,
   "metadata": {},
   "outputs": [
    {
     "name": "stdout",
     "output_type": "stream",
     "text": [
      "(125813, 8) (41938, 8) (41938, 8) (125813,) (41938,) (41938,)\n"
     ]
    }
   ],
   "source": [
    "print(X_train.shape, X_valid.shape, X_test.shape, y_train.shape, y_valid.shape,  y_test.shape)"
   ]
  },
  {
   "cell_type": "markdown",
   "metadata": {},
   "source": [
    "Загрузил данные. Провел предобработку данных. \n",
    "* удалил явные дубликаты. \n",
    "* удалил неинформативные признаки 'PostalCode', 'NumberOfPictures', 'RegistrationMonth', 'LastSeen', 'DateCreated', 'DateCrawled'.\n",
    "* устранил пропуски в данных: Признаки VehicleType, Gearbox, Model, FuelType, Repaired содержат пропуски. Заменил на категорию 'other'. А пропуски в Repaired на 'no'.\n",
    "* нулевые и околонулевые значения в признаке Power - наблюденя удалил\n",
    "Провел анализ данных. В результате анализа удалил аномальные значения и ограничил выборку автомобилей годами выуска 1995 и 2016.\n",
    "И удалил аномальные значения мощности двигателя, ограничив с 30 л.с по 400 л.с\n",
    "В результате корреляционного анализа убрал признак Model\n",
    "\n",
    "Признаки Kilometer и RegistrationYear будем применять как  категория. Они имеют распределение категориального признака, так как задано небольшое количество уникальных значений.\n",
    "\n",
    "Разбил данные на выборки(сплентирование)"
   ]
  },
  {
   "cell_type": "markdown",
   "metadata": {},
   "source": [
    "## Обучение моделей"
   ]
  },
  {
   "cell_type": "markdown",
   "metadata": {},
   "source": [
    "### Модель LightGBM для градиентного бустинга"
   ]
  },
  {
   "cell_type": "code",
   "execution_count": 72,
   "metadata": {},
   "outputs": [],
   "source": [
    "#LightGBM для градиентного бустинга\n",
    "train_dataset = lgb.Dataset(X_train, y_train, feature_name=X_train.columns.values.tolist())\n",
    "valid_dataset = lgb.Dataset(X_valid, y_valid, feature_name=X_train.columns.values.tolist())"
   ]
  },
  {
   "cell_type": "code",
   "execution_count": 73,
   "metadata": {},
   "outputs": [
    {
     "name": "stdout",
     "output_type": "stream",
     "text": [
      "[LightGBM] [Info] Auto-choosing row-wise multi-threading, the overhead of testing was 0.002424 seconds.\n",
      "You can set `force_row_wise=true` to remove the overhead.\n",
      "And if memory is not enough, you can set `force_col_wise=true`.\n",
      "[LightGBM] [Info] Total Bins 301\n",
      "[LightGBM] [Info] Number of data points in the train set: 125813, number of used features: 8\n",
      "[LightGBM] [Info] Start training from score 5499.775516\n"
     ]
    }
   ],
   "source": [
    "#количество деревьев бустинга\n",
    "booster = lgb.train({\"objective\": \"regression\"},\n",
    "                    train_set=train_dataset, \n",
    "                    valid_sets=(valid_dataset),\n",
    "                    num_boost_round=5000, \n",
    "                    categorical_feature=cat_cols)"
   ]
  },
  {
   "cell_type": "code",
   "execution_count": 74,
   "metadata": {},
   "outputs": [],
   "source": [
    "train_preds = booster.predict(X_valid)"
   ]
  },
  {
   "cell_type": "code",
   "execution_count": 81,
   "metadata": {},
   "outputs": [
    {
     "data": {
      "text/plain": [
       "1595.6786481989004"
      ]
     },
     "execution_count": 81,
     "metadata": {},
     "output_type": "execute_result"
    }
   ],
   "source": [
    "np.sqrt(mean_squared_error(y_valid, train_preds))"
   ]
  },
  {
   "cell_type": "code",
   "execution_count": 83,
   "metadata": {},
   "outputs": [],
   "source": [
    "num_trees = booster.num_trees()"
   ]
  },
  {
   "cell_type": "code",
   "execution_count": 84,
   "metadata": {},
   "outputs": [],
   "source": [
    "booster = lgb.LGBMModel(objective=\"regression\", n_estimators=num_trees, random_state=RANDOM_STATE)"
   ]
  },
  {
   "cell_type": "code",
   "execution_count": 85,
   "metadata": {},
   "outputs": [
    {
     "name": "stdout",
     "output_type": "stream",
     "text": [
      "[LightGBM] [Info] Auto-choosing row-wise multi-threading, the overhead of testing was 0.002888 seconds.\n",
      "You can set `force_row_wise=true` to remove the overhead.\n",
      "And if memory is not enough, you can set `force_col_wise=true`.\n",
      "[LightGBM] [Info] Total Bins 301\n",
      "[LightGBM] [Info] Number of data points in the train set: 125813, number of used features: 8\n",
      "[LightGBM] [Info] Start training from score 5499.775516\n"
     ]
    }
   ],
   "source": [
    "start = time()\n",
    "booster.fit(X_train, y_train, categorical_feature=cat_cols)\n",
    "end = time()\n",
    "lgbm_model_time = (end-start)/60"
   ]
  },
  {
   "cell_type": "code",
   "execution_count": 87,
   "metadata": {},
   "outputs": [
    {
     "data": {
      "text/plain": [
       "1595.6786481989004"
      ]
     },
     "execution_count": 87,
     "metadata": {},
     "output_type": "execute_result"
    }
   ],
   "source": [
    "start = time()\n",
    "train_preds = booster.predict(X_valid)\n",
    "lgbm_rmse = np.sqrt(mean_squared_error(y_valid, train_preds))\n",
    "end = time()\n",
    "lgbm_preds_time = (end-start)/60\n",
    "lgbm_rmse"
   ]
  },
  {
   "cell_type": "markdown",
   "metadata": {},
   "source": [
    "### Модель линейной регрессии"
   ]
  },
  {
   "cell_type": "code",
   "execution_count": null,
   "metadata": {
    "jupyter": {
     "source_hidden": true
    }
   },
   "outputs": [],
   "source": [
    "#pip install --upgrade scikit-learn"
   ]
  },
  {
   "cell_type": "code",
   "execution_count": 88,
   "metadata": {},
   "outputs": [],
   "source": [
    "# Масштабируем количественные признаки для тренировочной и тестовой выборок с помощью стандартизации.\n",
    "scaler = StandardScaler()\n",
    "X_train_scaled = scaler.fit_transform(X_train[num_cols])\n",
    "X_test_scaled = scaler.transform(X_valid[num_cols])"
   ]
  },
  {
   "cell_type": "code",
   "execution_count": 89,
   "metadata": {},
   "outputs": [],
   "source": [
    "# Закодируем категориальные признаки в тренировочной и тестовой выборках.\n",
    "encoder = OneHotEncoder(drop='first', handle_unknown='ignore', sparse_output=False)"
   ]
  },
  {
   "cell_type": "code",
   "execution_count": 90,
   "metadata": {},
   "outputs": [],
   "source": [
    "X_train_ohe = encoder.fit_transform(X_train[cat_cols])\n",
    "X_test_ohe = encoder.transform(X_valid[cat_cols])"
   ]
  },
  {
   "cell_type": "code",
   "execution_count": 91,
   "metadata": {},
   "outputs": [],
   "source": [
    "X_train_ohe = encoder.fit_transform(X_train[cat_cols])\n",
    "X_test_ohe = encoder.transform(X_valid[cat_cols])\n",
    "encoder_col_names = encoder.get_feature_names_out()"
   ]
  },
  {
   "cell_type": "code",
   "execution_count": 92,
   "metadata": {},
   "outputs": [],
   "source": [
    "# Создаём тренировочный и тестовый датафреймы из закодированных и отмасштабированных данных\n",
    "X_train_ohe = pd.DataFrame(X_train_ohe, columns=encoder_col_names)\n",
    "X_test_ohe = pd.DataFrame(X_test_ohe, columns=encoder_col_names)\n",
    "X_train_scaled = pd.DataFrame(X_train_scaled, columns=num_cols)\n",
    "X_test_scaled = pd.DataFrame(X_test_scaled, columns=num_cols)\n",
    "X_train_lr = pd.concat([X_train_ohe, X_train_scaled], axis=1)\n",
    "X_valid_lr = pd.concat([X_test_ohe, X_test_scaled], axis=1)"
   ]
  },
  {
   "cell_type": "code",
   "execution_count": 93,
   "metadata": {},
   "outputs": [],
   "source": [
    "start = time()\n",
    "#Обучение модели линейной регрессии\n",
    "model_lr  = LinearRegression()\n",
    "model_lr.fit(X_train_lr, y_train)\n",
    "end = time()\n",
    "lr_model_time = (end-start)/60"
   ]
  },
  {
   "cell_type": "code",
   "execution_count": 95,
   "metadata": {},
   "outputs": [
    {
     "data": {
      "text/plain": [
       "2179.773026344415"
      ]
     },
     "execution_count": 95,
     "metadata": {},
     "output_type": "execute_result"
    }
   ],
   "source": [
    "start = time()\n",
    "test_preds = model_lr.predict(X_valid_lr)\n",
    "lr_rmse = np.sqrt(mean_squared_error(y_valid, test_preds))\n",
    "end = time()\n",
    "lr_preds_time = (end-start)/60\n",
    "lr_rmse"
   ]
  },
  {
   "cell_type": "markdown",
   "metadata": {},
   "source": [
    "### Дерево решений"
   ]
  },
  {
   "cell_type": "code",
   "execution_count": 96,
   "metadata": {},
   "outputs": [],
   "source": [
    "# Масштабируем количественные признаки для тренировочной и тестовой выборок с помощью стандартизации.\n",
    "scaler = StandardScaler()\n",
    "X_train_tree = X_train\n",
    "X_valid_tree = X_valid\n",
    "X_test_tree = X_test\n",
    "X_train_tree[num_cols] = scaler.fit_transform(X_train_tree[num_cols])\n",
    "X_valid_tree[num_cols] = scaler.transform(X_valid_tree[num_cols])\n",
    "X_test_tree[num_cols] = scaler.transform(X_test_tree[num_cols])"
   ]
  },
  {
   "cell_type": "code",
   "execution_count": 97,
   "metadata": {},
   "outputs": [],
   "source": [
    "# кодирую признаки\n",
    "ordinal_encoder = OrdinalEncoder(handle_unknown='use_encoded_value', unknown_value=np.nan)"
   ]
  },
  {
   "cell_type": "code",
   "execution_count": 98,
   "metadata": {},
   "outputs": [],
   "source": [
    "X_train_tree[cat_cols] = ordinal_encoder.fit_transform(X_train_tree[cat_cols])\n",
    "X_valid_tree[cat_cols] = ordinal_encoder.transform(X_valid_tree[cat_cols])\n",
    "X_test_tree[cat_cols] = ordinal_encoder.transform(X_test_tree[cat_cols])"
   ]
  },
  {
   "cell_type": "code",
   "execution_count": 99,
   "metadata": {},
   "outputs": [],
   "source": [
    "# заменим неизвестные категории\n",
    "simple_imputer = SimpleImputer(missing_values=np.nan, strategy='most_frequent') \n",
    "simple_imputer.fit(X_train_tree[cat_cols])\n",
    "X_test_tree[cat_cols] = simple_imputer.transform(X_test_tree[cat_cols])"
   ]
  },
  {
   "cell_type": "code",
   "execution_count": 101,
   "metadata": {},
   "outputs": [],
   "source": [
    "results = []\n",
    "for min_samples_leaf in range(2, 21):\n",
    "    for max_depth in range(2, 21):\n",
    "        model = model = DecisionTreeRegressor(\n",
    "                random_state=RANDOM_STATE,\n",
    "                min_samples_leaf=min_samples_leaf, \n",
    "                max_depth=max_depth\n",
    "            )\n",
    "        model.fit(X_train, y_train)\n",
    "        valid_preds = model.predict(X_valid_tree)\n",
    "        tree_rmse = np.sqrt(mean_squared_error(y_valid, valid_preds))\n",
    "        results.append((tree_rmse, {\n",
    "                'min_samples_leaf': min_samples_leaf,\n",
    "                'max_depth': max_depth\n",
    "            }))"
   ]
  },
  {
   "cell_type": "code",
   "execution_count": 102,
   "metadata": {},
   "outputs": [],
   "source": [
    "results = pd.DataFrame(results, columns=['tree_rmse', 'param'])       "
   ]
  },
  {
   "cell_type": "code",
   "execution_count": 103,
   "metadata": {},
   "outputs": [
    {
     "data": {
      "text/html": [
       "<div>\n",
       "<style scoped>\n",
       "    .dataframe tbody tr th:only-of-type {\n",
       "        vertical-align: middle;\n",
       "    }\n",
       "\n",
       "    .dataframe tbody tr th {\n",
       "        vertical-align: top;\n",
       "    }\n",
       "\n",
       "    .dataframe thead th {\n",
       "        text-align: right;\n",
       "    }\n",
       "</style>\n",
       "<table border=\"1\" class=\"dataframe\">\n",
       "  <thead>\n",
       "    <tr style=\"text-align: right;\">\n",
       "      <th></th>\n",
       "      <th>tree_rmse</th>\n",
       "      <th>param</th>\n",
       "    </tr>\n",
       "  </thead>\n",
       "  <tbody>\n",
       "    <tr>\n",
       "      <th>132</th>\n",
       "      <td>1782.22998</td>\n",
       "      <td>{'min_samples_leaf': 8, 'max_depth': 20}</td>\n",
       "    </tr>\n",
       "  </tbody>\n",
       "</table>\n",
       "</div>"
      ],
      "text/plain": [
       "      tree_rmse                                     param\n",
       "132  1782.22998  {'min_samples_leaf': 8, 'max_depth': 20}"
      ]
     },
     "execution_count": 103,
     "metadata": {},
     "output_type": "execute_result"
    }
   ],
   "source": [
    "results[results['tree_rmse'] == results['tree_rmse'].min()]"
   ]
  },
  {
   "cell_type": "code",
   "execution_count": 104,
   "metadata": {},
   "outputs": [],
   "source": [
    "model = DecisionTreeRegressor(random_state=RANDOM_STATE,\n",
    "                              max_depth=20,\n",
    "                              min_samples_leaf=8)"
   ]
  },
  {
   "cell_type": "code",
   "execution_count": 105,
   "metadata": {},
   "outputs": [],
   "source": [
    "start = time()\n",
    "model.fit(X_train, y_train)\n",
    "end = time()\n",
    "tree_model_time = (end-start)/60"
   ]
  },
  {
   "cell_type": "code",
   "execution_count": 107,
   "metadata": {},
   "outputs": [
    {
     "data": {
      "text/plain": [
       "1782.2299798894915"
      ]
     },
     "execution_count": 107,
     "metadata": {},
     "output_type": "execute_result"
    }
   ],
   "source": [
    "start = time()\n",
    "test_preds = model.predict(X_valid_tree)\n",
    "tree_rmse = np.sqrt(mean_squared_error(y_valid, test_preds))\n",
    "end = time()\n",
    "tree_preds_time = (end-start)/60\n",
    "tree_rmse"
   ]
  },
  {
   "cell_type": "markdown",
   "metadata": {},
   "source": [
    "В результате было построено 3 модели для сравнения.\n",
    "* Модель LightGBM для градиентного бустинга количество деревьев бустинга\n",
    "* Модель линейной регрессии\n",
    "* Дерево решений\n",
    "Для каждой модели была найдена метрика RMSE, время обучения модели и время предсказания модели."
   ]
  },
  {
   "cell_type": "markdown",
   "metadata": {},
   "source": [
    "## Анализ моделей"
   ]
  },
  {
   "cell_type": "code",
   "execution_count": 108,
   "metadata": {},
   "outputs": [
    {
     "data": {
      "text/html": [
       "<div>\n",
       "<style scoped>\n",
       "    .dataframe tbody tr th:only-of-type {\n",
       "        vertical-align: middle;\n",
       "    }\n",
       "\n",
       "    .dataframe tbody tr th {\n",
       "        vertical-align: top;\n",
       "    }\n",
       "\n",
       "    .dataframe thead th {\n",
       "        text-align: right;\n",
       "    }\n",
       "</style>\n",
       "<table border=\"1\" class=\"dataframe\">\n",
       "  <thead>\n",
       "    <tr style=\"text-align: right;\">\n",
       "      <th></th>\n",
       "      <th>Модель</th>\n",
       "      <th>метрика RMSE</th>\n",
       "      <th>время обучения</th>\n",
       "      <th>время предсказания</th>\n",
       "    </tr>\n",
       "  </thead>\n",
       "  <tbody>\n",
       "    <tr>\n",
       "      <th>0</th>\n",
       "      <td>lgbm</td>\n",
       "      <td>1595.678648</td>\n",
       "      <td>0.105950</td>\n",
       "      <td>0.043451</td>\n",
       "    </tr>\n",
       "    <tr>\n",
       "      <th>1</th>\n",
       "      <td>lr</td>\n",
       "      <td>2179.773026</td>\n",
       "      <td>0.014428</td>\n",
       "      <td>0.000150</td>\n",
       "    </tr>\n",
       "    <tr>\n",
       "      <th>2</th>\n",
       "      <td>tree</td>\n",
       "      <td>1782.229980</td>\n",
       "      <td>0.003939</td>\n",
       "      <td>0.000216</td>\n",
       "    </tr>\n",
       "  </tbody>\n",
       "</table>\n",
       "</div>"
      ],
      "text/plain": [
       "  Модель  метрика RMSE  время обучения  время предсказания\n",
       "0   lgbm   1595.678648        0.105950            0.043451\n",
       "1     lr   2179.773026        0.014428            0.000150\n",
       "2   tree   1782.229980        0.003939            0.000216"
      ]
     },
     "execution_count": 108,
     "metadata": {},
     "output_type": "execute_result"
    }
   ],
   "source": [
    "#Проанализируем полученные результаты.\n",
    "df = pd.DataFrame([['lgbm', lgbm_rmse, lgbm_model_time, lgbm_preds_time],\n",
    "                  ['lr', lr_rmse, lr_model_time, lr_preds_time],\n",
    "                  ['tree', tree_rmse, tree_model_time, tree_preds_time]], \n",
    "columns=['Модель','метрика RMSE', 'время обучения', 'время предсказания'])\n",
    "df"
   ]
  },
  {
   "cell_type": "code",
   "execution_count": 110,
   "metadata": {},
   "outputs": [
    {
     "data": {
      "text/plain": [
       "1784.4342898178984"
      ]
     },
     "execution_count": 110,
     "metadata": {},
     "output_type": "execute_result"
    }
   ],
   "source": [
    "test_preds = model.predict(X_test_tree)\n",
    "rmse_best_model = np.sqrt(mean_squared_error(y_test, test_preds))\n",
    "rmse_best_model"
   ]
  },
  {
   "cell_type": "markdown",
   "metadata": {},
   "source": [
    "Опираясь на критерии заказчика, я выбираю модель Дерево решений c финальной метрикой RMSE=1785. Модель lgbm долго обучается, хоть и более качественная."
   ]
  },
  {
   "cell_type": "markdown",
   "metadata": {},
   "source": [
    "## Общий вывод"
   ]
  },
  {
   "cell_type": "markdown",
   "metadata": {},
   "source": [
    "Целью проекта является построить модель, которая умеет определять рыночную стоимость автомобиля с критериями заказчика: \n",
    "- качество предсказания;\n",
    "- скорость предсказания;\n",
    "- время обучения.\n",
    "\n",
    "Загрузил данные. Провел предобработку данных. \n",
    "* удалил явных дубликата. \n",
    "* удалил неинформативные признаки 'PostalCode', 'NumberOfPictures', 'RegistrationMonth', 'LastSeen', 'DateCreated', 'DateCrawled'.\n",
    "* устранил пропуски в данных: Признаки VehicleType, Gearbox, Model, FuelType, Repaired содержат пропуски. Заменил на категорию 'other'. А пропуски в Repaired на 'no'.\n",
    "* нулевые и околонулевые значения в признаке Power - наблюденя удалил\n",
    "\n",
    "Провел анализ данных. В результате анализа удалил аномальные значения и ограничил выборку автомобилей годами выуска 1995 и 2016.\n",
    "И удалил аномальные значения мощности двигателя, ограничив с 30 л.с по 400 л.с\n",
    "В результате корреляционного анализа убрал признак Model\n",
    "\n",
    "Признаки Kilometer и RegistrationYear будем применять как  категория. Они имеют распределение категориального признака, так как задано небольшое количество уникальных значений.\n",
    "\n",
    "Разбил данные на выборки(сплентирование)\n",
    "\n",
    "В результате было построено 3 модели для сравнения.\n",
    "* Модель LightGBM для градиентного бустинга количество деревьев бустинга\n",
    "* Модель линейной регрессии\n",
    "* Дерево решений\n",
    "Для каждой модели была найдена метрика RMSE, время обучения модели и время предсказания модели.\n",
    "\n",
    "Опираясь на критерии заказчика, я выбираю модель Дерево решений c финальной метрикой RMSE=1785. Модель lgbm долго обучается, хоть и более качественная."
   ]
  }
 ],
 "metadata": {
  "ExecuteTimeLog": [
   {
    "duration": 49,
    "start_time": "2024-04-15T09:08:25.807Z"
   },
   {
    "duration": 1717,
    "start_time": "2024-04-15T09:08:29.352Z"
   },
   {
    "duration": 1122,
    "start_time": "2024-04-15T09:08:33.333Z"
   },
   {
    "duration": 16,
    "start_time": "2024-04-15T09:08:53.231Z"
   },
   {
    "duration": 4,
    "start_time": "2024-04-15T09:10:39.480Z"
   },
   {
    "duration": 141,
    "start_time": "2024-04-15T09:11:17.546Z"
   },
   {
    "duration": 26,
    "start_time": "2024-04-15T10:29:59.339Z"
   },
   {
    "duration": 140,
    "start_time": "2024-04-15T11:47:30.140Z"
   },
   {
    "duration": 13,
    "start_time": "2024-04-15T11:49:03.343Z"
   },
   {
    "duration": 21,
    "start_time": "2024-04-15T11:49:23.700Z"
   },
   {
    "duration": 81,
    "start_time": "2024-04-15T11:49:37.358Z"
   },
   {
    "duration": 13,
    "start_time": "2024-04-15T11:49:45.624Z"
   },
   {
    "duration": 7,
    "start_time": "2024-04-15T11:50:16.352Z"
   },
   {
    "duration": 8,
    "start_time": "2024-04-15T11:50:22.191Z"
   },
   {
    "duration": 6,
    "start_time": "2024-04-15T11:50:32.266Z"
   },
   {
    "duration": 1447,
    "start_time": "2024-04-15T11:50:36.768Z"
   },
   {
    "duration": 828,
    "start_time": "2024-04-15T11:50:38.217Z"
   },
   {
    "duration": 17,
    "start_time": "2024-04-15T11:50:39.047Z"
   },
   {
    "duration": 11,
    "start_time": "2024-04-15T11:50:39.065Z"
   },
   {
    "duration": 176,
    "start_time": "2024-04-15T11:50:39.078Z"
   },
   {
    "duration": 33,
    "start_time": "2024-04-15T11:50:39.256Z"
   },
   {
    "duration": 130,
    "start_time": "2024-04-15T11:50:39.291Z"
   },
   {
    "duration": 26,
    "start_time": "2024-04-15T11:51:52.667Z"
   },
   {
    "duration": 85,
    "start_time": "2024-04-15T11:52:46.362Z"
   },
   {
    "duration": 21,
    "start_time": "2024-04-15T11:57:20.612Z"
   },
   {
    "duration": 12,
    "start_time": "2024-04-15T11:57:55.019Z"
   },
   {
    "duration": 31,
    "start_time": "2024-04-15T11:58:53.919Z"
   },
   {
    "duration": 30,
    "start_time": "2024-04-15T11:59:02.565Z"
   },
   {
    "duration": 24,
    "start_time": "2024-04-15T11:59:15.192Z"
   },
   {
    "duration": 29,
    "start_time": "2024-04-15T11:59:30.839Z"
   },
   {
    "duration": 117,
    "start_time": "2024-04-15T12:00:01.796Z"
   },
   {
    "duration": 21,
    "start_time": "2024-04-15T12:00:05.822Z"
   },
   {
    "duration": 10,
    "start_time": "2024-04-15T12:00:06.828Z"
   },
   {
    "duration": 1400,
    "start_time": "2024-04-15T12:00:27.495Z"
   },
   {
    "duration": 829,
    "start_time": "2024-04-15T12:00:28.896Z"
   },
   {
    "duration": 15,
    "start_time": "2024-04-15T12:00:29.727Z"
   },
   {
    "duration": 5,
    "start_time": "2024-04-15T12:00:29.744Z"
   },
   {
    "duration": 143,
    "start_time": "2024-04-15T12:00:29.758Z"
   },
   {
    "duration": 31,
    "start_time": "2024-04-15T12:00:29.903Z"
   },
   {
    "duration": 106,
    "start_time": "2024-04-15T12:00:29.935Z"
   },
   {
    "duration": 45,
    "start_time": "2024-04-15T12:00:30.042Z"
   },
   {
    "duration": 113,
    "start_time": "2024-04-15T12:00:30.089Z"
   },
   {
    "duration": 22,
    "start_time": "2024-04-15T12:00:30.204Z"
   },
   {
    "duration": 31,
    "start_time": "2024-04-15T12:08:03.077Z"
   },
   {
    "duration": 10,
    "start_time": "2024-04-15T12:08:51.436Z"
   },
   {
    "duration": 19,
    "start_time": "2024-04-15T12:09:01.277Z"
   },
   {
    "duration": 9,
    "start_time": "2024-04-15T12:09:19.861Z"
   },
   {
    "duration": 9,
    "start_time": "2024-04-15T12:09:32.228Z"
   },
   {
    "duration": 9,
    "start_time": "2024-04-15T12:12:20.434Z"
   },
   {
    "duration": 9,
    "start_time": "2024-04-15T12:12:23.613Z"
   },
   {
    "duration": 20,
    "start_time": "2024-04-15T12:12:29.726Z"
   },
   {
    "duration": 59,
    "start_time": "2024-04-15T12:18:42.708Z"
   },
   {
    "duration": 11,
    "start_time": "2024-04-15T12:19:00.563Z"
   },
   {
    "duration": 29,
    "start_time": "2024-04-15T12:19:19.738Z"
   },
   {
    "duration": 5,
    "start_time": "2024-04-15T12:19:40.216Z"
   },
   {
    "duration": 86,
    "start_time": "2024-04-15T12:19:53.254Z"
   },
   {
    "duration": 1678,
    "start_time": "2024-04-15T12:20:30.224Z"
   },
   {
    "duration": 877,
    "start_time": "2024-04-15T12:20:31.904Z"
   },
   {
    "duration": 14,
    "start_time": "2024-04-15T12:20:32.783Z"
   },
   {
    "duration": 10,
    "start_time": "2024-04-15T12:20:32.798Z"
   },
   {
    "duration": 155,
    "start_time": "2024-04-15T12:20:32.810Z"
   },
   {
    "duration": 31,
    "start_time": "2024-04-15T12:20:32.966Z"
   },
   {
    "duration": 148,
    "start_time": "2024-04-15T12:20:32.999Z"
   },
   {
    "duration": 25,
    "start_time": "2024-04-15T12:20:33.148Z"
   },
   {
    "duration": 95,
    "start_time": "2024-04-15T12:20:33.174Z"
   },
   {
    "duration": 93,
    "start_time": "2024-04-15T12:20:39.506Z"
   },
   {
    "duration": 1336,
    "start_time": "2024-04-15T12:21:45.809Z"
   },
   {
    "duration": 852,
    "start_time": "2024-04-15T12:21:47.147Z"
   },
   {
    "duration": 16,
    "start_time": "2024-04-15T12:21:48.001Z"
   },
   {
    "duration": 42,
    "start_time": "2024-04-15T12:21:48.019Z"
   },
   {
    "duration": 169,
    "start_time": "2024-04-15T12:21:48.063Z"
   },
   {
    "duration": 32,
    "start_time": "2024-04-15T12:21:48.234Z"
   },
   {
    "duration": 145,
    "start_time": "2024-04-15T12:21:48.267Z"
   },
   {
    "duration": 24,
    "start_time": "2024-04-15T12:21:48.414Z"
   },
   {
    "duration": 68,
    "start_time": "2024-04-15T12:21:48.439Z"
   },
   {
    "duration": 3,
    "start_time": "2024-04-15T12:21:48.509Z"
   },
   {
    "duration": 4,
    "start_time": "2024-04-15T12:23:39.996Z"
   },
   {
    "duration": 5,
    "start_time": "2024-04-15T12:23:44.248Z"
   },
   {
    "duration": 6,
    "start_time": "2024-04-15T12:24:04.230Z"
   },
   {
    "duration": 82,
    "start_time": "2024-04-15T12:24:19.221Z"
   },
   {
    "duration": 112,
    "start_time": "2024-04-15T12:24:29.553Z"
   },
   {
    "duration": 1372,
    "start_time": "2024-04-15T12:24:42.391Z"
   },
   {
    "duration": 846,
    "start_time": "2024-04-15T12:24:43.765Z"
   },
   {
    "duration": 14,
    "start_time": "2024-04-15T12:24:44.613Z"
   },
   {
    "duration": 15,
    "start_time": "2024-04-15T12:24:44.629Z"
   },
   {
    "duration": 157,
    "start_time": "2024-04-15T12:24:44.646Z"
   },
   {
    "duration": 35,
    "start_time": "2024-04-15T12:24:44.804Z"
   },
   {
    "duration": 113,
    "start_time": "2024-04-15T12:24:44.840Z"
   },
   {
    "duration": 25,
    "start_time": "2024-04-15T12:24:44.959Z"
   },
   {
    "duration": 73,
    "start_time": "2024-04-15T12:24:44.986Z"
   },
   {
    "duration": 5,
    "start_time": "2024-04-15T12:24:45.060Z"
   },
   {
    "duration": 46,
    "start_time": "2024-04-15T12:24:45.067Z"
   },
   {
    "duration": 17,
    "start_time": "2024-04-15T12:24:45.115Z"
   },
   {
    "duration": 1398,
    "start_time": "2024-04-15T12:25:24.870Z"
   },
   {
    "duration": 860,
    "start_time": "2024-04-15T12:25:26.270Z"
   },
   {
    "duration": 16,
    "start_time": "2024-04-15T12:25:27.132Z"
   },
   {
    "duration": 13,
    "start_time": "2024-04-15T12:25:27.150Z"
   },
   {
    "duration": 185,
    "start_time": "2024-04-15T12:25:27.165Z"
   },
   {
    "duration": 35,
    "start_time": "2024-04-15T12:25:27.351Z"
   },
   {
    "duration": 117,
    "start_time": "2024-04-15T12:25:27.387Z"
   },
   {
    "duration": 26,
    "start_time": "2024-04-15T12:25:27.506Z"
   },
   {
    "duration": 80,
    "start_time": "2024-04-15T12:25:27.534Z"
   },
   {
    "duration": 5,
    "start_time": "2024-04-15T12:25:27.616Z"
   },
   {
    "duration": 12,
    "start_time": "2024-04-15T12:25:27.622Z"
   },
   {
    "duration": 25,
    "start_time": "2024-04-15T12:25:27.635Z"
   },
   {
    "duration": 95,
    "start_time": "2024-04-15T12:26:41.116Z"
   },
   {
    "duration": 135,
    "start_time": "2024-04-15T12:28:23.710Z"
   },
   {
    "duration": 1355,
    "start_time": "2024-04-15T12:29:10.509Z"
   },
   {
    "duration": 825,
    "start_time": "2024-04-15T12:29:11.866Z"
   },
   {
    "duration": 15,
    "start_time": "2024-04-15T12:29:12.692Z"
   },
   {
    "duration": 3,
    "start_time": "2024-04-15T12:29:12.709Z"
   },
   {
    "duration": 472,
    "start_time": "2024-04-15T12:29:12.714Z"
   },
   {
    "duration": 149,
    "start_time": "2024-04-15T12:29:13.188Z"
   },
   {
    "duration": 43,
    "start_time": "2024-04-15T12:29:13.339Z"
   },
   {
    "duration": 112,
    "start_time": "2024-04-15T12:29:13.383Z"
   },
   {
    "duration": 27,
    "start_time": "2024-04-15T12:29:13.496Z"
   },
   {
    "duration": 79,
    "start_time": "2024-04-15T12:29:13.525Z"
   },
   {
    "duration": 138,
    "start_time": "2024-04-15T12:29:13.606Z"
   },
   {
    "duration": 1758,
    "start_time": "2024-04-15T12:31:00.282Z"
   },
   {
    "duration": 855,
    "start_time": "2024-04-15T12:31:02.043Z"
   },
   {
    "duration": 16,
    "start_time": "2024-04-15T12:31:02.900Z"
   },
   {
    "duration": 25,
    "start_time": "2024-04-15T12:31:02.917Z"
   },
   {
    "duration": 171,
    "start_time": "2024-04-15T12:31:02.944Z"
   },
   {
    "duration": 459,
    "start_time": "2024-04-15T12:31:03.116Z"
   },
   {
    "duration": 74,
    "start_time": "2024-04-15T12:31:03.576Z"
   },
   {
    "duration": 0,
    "start_time": "2024-04-15T12:31:03.652Z"
   },
   {
    "duration": 0,
    "start_time": "2024-04-15T12:31:03.653Z"
   },
   {
    "duration": 0,
    "start_time": "2024-04-15T12:31:03.654Z"
   },
   {
    "duration": 0,
    "start_time": "2024-04-15T12:31:03.655Z"
   },
   {
    "duration": 521,
    "start_time": "2024-04-15T12:32:35.610Z"
   },
   {
    "duration": 430,
    "start_time": "2024-04-15T12:32:42.400Z"
   },
   {
    "duration": 7,
    "start_time": "2024-04-15T13:19:45.156Z"
   },
   {
    "duration": 29,
    "start_time": "2024-04-15T13:19:55.407Z"
   },
   {
    "duration": 6,
    "start_time": "2024-04-15T13:30:14.873Z"
   },
   {
    "duration": 22,
    "start_time": "2024-04-15T13:49:42.587Z"
   },
   {
    "duration": 24,
    "start_time": "2024-04-15T13:50:56.148Z"
   },
   {
    "duration": 114,
    "start_time": "2024-04-15T13:51:50.751Z"
   },
   {
    "duration": 12,
    "start_time": "2024-04-15T13:52:07.688Z"
   },
   {
    "duration": 97,
    "start_time": "2024-04-15T13:52:31.126Z"
   },
   {
    "duration": 70,
    "start_time": "2024-04-15T13:52:36.277Z"
   },
   {
    "duration": 5,
    "start_time": "2024-04-15T13:52:46.983Z"
   },
   {
    "duration": 8,
    "start_time": "2024-04-15T13:52:49.206Z"
   },
   {
    "duration": 27,
    "start_time": "2024-04-15T13:53:11.797Z"
   },
   {
    "duration": 21,
    "start_time": "2024-04-15T13:53:18.462Z"
   },
   {
    "duration": 286,
    "start_time": "2024-04-15T13:53:51.758Z"
   },
   {
    "duration": 32,
    "start_time": "2024-04-15T13:54:08.847Z"
   },
   {
    "duration": 294,
    "start_time": "2024-04-15T13:55:11.536Z"
   },
   {
    "duration": 245,
    "start_time": "2024-04-15T13:56:54.378Z"
   },
   {
    "duration": 43,
    "start_time": "2024-04-15T13:59:40.356Z"
   },
   {
    "duration": 16,
    "start_time": "2024-04-15T13:59:47.347Z"
   },
   {
    "duration": 21,
    "start_time": "2024-04-15T14:00:07.531Z"
   },
   {
    "duration": 23,
    "start_time": "2024-04-15T14:00:08.908Z"
   },
   {
    "duration": 20,
    "start_time": "2024-04-15T14:00:10.124Z"
   },
   {
    "duration": 32,
    "start_time": "2024-04-15T14:00:26.357Z"
   },
   {
    "duration": 87,
    "start_time": "2024-04-15T14:00:27.629Z"
   },
   {
    "duration": 98,
    "start_time": "2024-04-15T14:00:42.036Z"
   },
   {
    "duration": 20,
    "start_time": "2024-04-15T14:01:30.709Z"
   },
   {
    "duration": 94,
    "start_time": "2024-04-15T14:01:32.582Z"
   },
   {
    "duration": 1336,
    "start_time": "2024-04-15T14:01:57.399Z"
   },
   {
    "duration": 966,
    "start_time": "2024-04-15T14:01:58.737Z"
   },
   {
    "duration": 15,
    "start_time": "2024-04-15T14:01:59.705Z"
   },
   {
    "duration": 10,
    "start_time": "2024-04-15T14:01:59.721Z"
   },
   {
    "duration": 148,
    "start_time": "2024-04-15T14:01:59.732Z"
   },
   {
    "duration": 488,
    "start_time": "2024-04-15T14:01:59.882Z"
   },
   {
    "duration": 523,
    "start_time": "2024-04-15T14:02:00.371Z"
   },
   {
    "duration": 287,
    "start_time": "2024-04-15T14:02:00.895Z"
   },
   {
    "duration": 35,
    "start_time": "2024-04-15T14:02:01.184Z"
   },
   {
    "duration": 42,
    "start_time": "2024-04-15T14:02:01.221Z"
   },
   {
    "duration": 377,
    "start_time": "2024-04-15T14:02:01.264Z"
   },
   {
    "duration": 282,
    "start_time": "2024-04-15T14:02:01.651Z"
   },
   {
    "duration": 119,
    "start_time": "2024-04-15T14:02:01.935Z"
   },
   {
    "duration": 60,
    "start_time": "2024-04-15T14:02:02.058Z"
   },
   {
    "duration": 61,
    "start_time": "2024-04-15T14:02:02.120Z"
   },
   {
    "duration": 76,
    "start_time": "2024-04-15T14:02:02.183Z"
   },
   {
    "duration": 44,
    "start_time": "2024-04-15T14:02:02.260Z"
   },
   {
    "duration": 49,
    "start_time": "2024-04-15T14:02:02.306Z"
   },
   {
    "duration": 107,
    "start_time": "2024-04-15T14:02:02.357Z"
   },
   {
    "duration": 92,
    "start_time": "2024-04-15T14:02:02.466Z"
   },
   {
    "duration": 207,
    "start_time": "2024-04-15T14:02:02.560Z"
   },
   {
    "duration": 5,
    "start_time": "2024-04-15T15:15:15.734Z"
   },
   {
    "duration": 2086,
    "start_time": "2024-04-15T15:16:04.253Z"
   },
   {
    "duration": 27,
    "start_time": "2024-04-15T15:18:17.943Z"
   },
   {
    "duration": 16,
    "start_time": "2024-04-15T15:18:29.911Z"
   },
   {
    "duration": 11,
    "start_time": "2024-04-15T15:18:44.624Z"
   },
   {
    "duration": 11,
    "start_time": "2024-04-15T15:19:24.440Z"
   },
   {
    "duration": 11,
    "start_time": "2024-04-15T15:19:30.496Z"
   },
   {
    "duration": 11,
    "start_time": "2024-04-15T15:19:42.921Z"
   },
   {
    "duration": 12,
    "start_time": "2024-04-15T15:21:13.256Z"
   },
   {
    "duration": 76342,
    "start_time": "2024-04-15T15:26:47.065Z"
   },
   {
    "duration": 11,
    "start_time": "2024-04-15T16:00:56.125Z"
   },
   {
    "duration": 9,
    "start_time": "2024-04-15T16:01:02.179Z"
   },
   {
    "duration": 8,
    "start_time": "2024-04-15T16:01:07.859Z"
   },
   {
    "duration": 20,
    "start_time": "2024-04-15T16:01:42.541Z"
   },
   {
    "duration": 11,
    "start_time": "2024-04-15T16:02:06.064Z"
   },
   {
    "duration": 10,
    "start_time": "2024-04-15T16:02:10.773Z"
   },
   {
    "duration": 10,
    "start_time": "2024-04-15T16:02:14.045Z"
   },
   {
    "duration": 11,
    "start_time": "2024-04-15T16:02:21.437Z"
   },
   {
    "duration": 10,
    "start_time": "2024-04-15T16:02:25.999Z"
   },
   {
    "duration": 9,
    "start_time": "2024-04-15T16:02:28.774Z"
   },
   {
    "duration": 11,
    "start_time": "2024-04-15T16:02:31.295Z"
   },
   {
    "duration": 17,
    "start_time": "2024-04-15T16:03:07.831Z"
   },
   {
    "duration": 11,
    "start_time": "2024-04-15T16:03:19.758Z"
   },
   {
    "duration": 13,
    "start_time": "2024-04-15T16:03:26.308Z"
   },
   {
    "duration": 118,
    "start_time": "2024-04-15T16:14:05.853Z"
   },
   {
    "duration": 9,
    "start_time": "2024-04-15T16:14:36.620Z"
   },
   {
    "duration": 86,
    "start_time": "2024-04-15T16:15:26.317Z"
   },
   {
    "duration": 5,
    "start_time": "2024-04-15T16:17:08.088Z"
   },
   {
    "duration": 6,
    "start_time": "2024-04-15T16:17:13.115Z"
   },
   {
    "duration": 6,
    "start_time": "2024-04-15T16:17:33.170Z"
   },
   {
    "duration": 341,
    "start_time": "2024-04-15T16:17:49.799Z"
   },
   {
    "duration": 4,
    "start_time": "2024-04-15T16:18:11.519Z"
   },
   {
    "duration": 5,
    "start_time": "2024-04-15T16:18:55.711Z"
   },
   {
    "duration": 1516,
    "start_time": "2024-04-15T16:19:18.843Z"
   },
   {
    "duration": 950,
    "start_time": "2024-04-15T16:19:20.360Z"
   },
   {
    "duration": 16,
    "start_time": "2024-04-15T16:19:21.312Z"
   },
   {
    "duration": 4,
    "start_time": "2024-04-15T16:19:21.331Z"
   },
   {
    "duration": 196,
    "start_time": "2024-04-15T16:19:21.337Z"
   },
   {
    "duration": 568,
    "start_time": "2024-04-15T16:19:21.535Z"
   },
   {
    "duration": 526,
    "start_time": "2024-04-15T16:19:22.105Z"
   },
   {
    "duration": 275,
    "start_time": "2024-04-15T16:19:22.632Z"
   },
   {
    "duration": 33,
    "start_time": "2024-04-15T16:19:22.908Z"
   },
   {
    "duration": 33,
    "start_time": "2024-04-15T16:19:22.944Z"
   },
   {
    "duration": 364,
    "start_time": "2024-04-15T16:19:22.978Z"
   },
   {
    "duration": 328,
    "start_time": "2024-04-15T16:19:23.344Z"
   },
   {
    "duration": 44,
    "start_time": "2024-04-15T16:19:23.674Z"
   },
   {
    "duration": 41,
    "start_time": "2024-04-15T16:19:23.719Z"
   },
   {
    "duration": 22,
    "start_time": "2024-04-15T16:19:23.762Z"
   },
   {
    "duration": 24,
    "start_time": "2024-04-15T16:19:23.785Z"
   },
   {
    "duration": 48,
    "start_time": "2024-04-15T16:19:23.811Z"
   },
   {
    "duration": 24,
    "start_time": "2024-04-15T16:19:23.860Z"
   },
   {
    "duration": 107,
    "start_time": "2024-04-15T16:19:23.886Z"
   },
   {
    "duration": 98,
    "start_time": "2024-04-15T16:19:23.994Z"
   },
   {
    "duration": 5,
    "start_time": "2024-04-15T16:19:24.093Z"
   },
   {
    "duration": 2034,
    "start_time": "2024-04-15T16:19:24.099Z"
   },
   {
    "duration": 12,
    "start_time": "2024-04-15T16:19:26.134Z"
   },
   {
    "duration": 13,
    "start_time": "2024-04-15T16:19:26.147Z"
   },
   {
    "duration": 13,
    "start_time": "2024-04-15T16:19:26.162Z"
   },
   {
    "duration": 53,
    "start_time": "2024-04-15T16:19:26.176Z"
   },
   {
    "duration": 3,
    "start_time": "2024-04-15T16:19:26.231Z"
   },
   {
    "duration": 1658,
    "start_time": "2024-04-15T16:19:26.260Z"
   },
   {
    "duration": 48,
    "start_time": "2024-04-15T16:20:59.378Z"
   },
   {
    "duration": 24662,
    "start_time": "2024-04-15T16:23:09.339Z"
   },
   {
    "duration": 9,
    "start_time": "2024-04-15T16:26:06.734Z"
   },
   {
    "duration": 7,
    "start_time": "2024-04-15T16:28:04.120Z"
   },
   {
    "duration": 7,
    "start_time": "2024-04-15T16:28:14.503Z"
   },
   {
    "duration": 8,
    "start_time": "2024-04-15T16:28:29.159Z"
   },
   {
    "duration": 7,
    "start_time": "2024-04-15T16:28:34.080Z"
   },
   {
    "duration": 8,
    "start_time": "2024-04-15T16:28:36.951Z"
   },
   {
    "duration": 10,
    "start_time": "2024-04-15T16:28:42.066Z"
   },
   {
    "duration": 8,
    "start_time": "2024-04-15T16:28:51.072Z"
   },
   {
    "duration": 7,
    "start_time": "2024-04-15T16:28:57.977Z"
   },
   {
    "duration": 8,
    "start_time": "2024-04-15T16:29:03.768Z"
   },
   {
    "duration": 26,
    "start_time": "2024-04-15T16:29:44.264Z"
   },
   {
    "duration": 3700,
    "start_time": "2024-04-15T16:29:50.610Z"
   },
   {
    "duration": 29,
    "start_time": "2024-04-15T16:30:07.681Z"
   },
   {
    "duration": 8,
    "start_time": "2024-04-15T16:30:11.968Z"
   },
   {
    "duration": 2165,
    "start_time": "2024-04-15T16:30:13.576Z"
   },
   {
    "duration": 2044,
    "start_time": "2024-04-15T16:31:11.914Z"
   },
   {
    "duration": 5,
    "start_time": "2024-04-15T16:35:31.509Z"
   },
   {
    "duration": 106,
    "start_time": "2024-04-15T16:59:49.863Z"
   },
   {
    "duration": 6280,
    "start_time": "2024-04-15T17:00:26.287Z"
   },
   {
    "duration": 5,
    "start_time": "2024-04-15T17:57:54.795Z"
   },
   {
    "duration": 1593,
    "start_time": "2024-04-15T17:57:59.074Z"
   },
   {
    "duration": 170,
    "start_time": "2024-04-15T18:03:37.133Z"
   },
   {
    "duration": 13,
    "start_time": "2024-04-15T18:36:52.031Z"
   },
   {
    "duration": 2,
    "start_time": "2024-04-15T18:39:57.633Z"
   },
   {
    "duration": 88,
    "start_time": "2024-04-15T18:43:16.142Z"
   },
   {
    "duration": 4,
    "start_time": "2024-04-15T18:43:28.409Z"
   },
   {
    "duration": 51,
    "start_time": "2024-04-16T05:30:13.298Z"
   },
   {
    "duration": 1654,
    "start_time": "2024-04-16T05:30:17.308Z"
   },
   {
    "duration": 2,
    "start_time": "2024-04-16T05:30:18.964Z"
   },
   {
    "duration": 2988,
    "start_time": "2024-04-16T05:30:18.970Z"
   },
   {
    "duration": 18,
    "start_time": "2024-04-16T05:30:21.960Z"
   },
   {
    "duration": 15,
    "start_time": "2024-04-16T05:30:21.979Z"
   },
   {
    "duration": 164,
    "start_time": "2024-04-16T05:30:21.996Z"
   },
   {
    "duration": 529,
    "start_time": "2024-04-16T05:30:22.162Z"
   },
   {
    "duration": 530,
    "start_time": "2024-04-16T05:30:22.693Z"
   },
   {
    "duration": 302,
    "start_time": "2024-04-16T05:30:23.224Z"
   },
   {
    "duration": 35,
    "start_time": "2024-04-16T05:30:23.529Z"
   },
   {
    "duration": 22,
    "start_time": "2024-04-16T05:30:23.566Z"
   },
   {
    "duration": 395,
    "start_time": "2024-04-16T05:30:23.589Z"
   },
   {
    "duration": 310,
    "start_time": "2024-04-16T05:30:23.987Z"
   },
   {
    "duration": 61,
    "start_time": "2024-04-16T05:30:24.299Z"
   },
   {
    "duration": 23,
    "start_time": "2024-04-16T05:30:24.361Z"
   },
   {
    "duration": 49,
    "start_time": "2024-04-16T05:30:24.385Z"
   },
   {
    "duration": 20,
    "start_time": "2024-04-16T05:30:24.436Z"
   },
   {
    "duration": 39,
    "start_time": "2024-04-16T05:30:24.458Z"
   },
   {
    "duration": 34,
    "start_time": "2024-04-16T05:30:24.498Z"
   },
   {
    "duration": 93,
    "start_time": "2024-04-16T05:30:24.534Z"
   },
   {
    "duration": 104,
    "start_time": "2024-04-16T05:30:24.629Z"
   },
   {
    "duration": 3,
    "start_time": "2024-04-16T05:30:24.734Z"
   },
   {
    "duration": 23,
    "start_time": "2024-04-16T05:30:24.739Z"
   },
   {
    "duration": 2360,
    "start_time": "2024-04-16T05:30:24.764Z"
   },
   {
    "duration": 74466,
    "start_time": "2024-04-16T05:30:27.126Z"
   },
   {
    "duration": 14,
    "start_time": "2024-04-16T05:31:41.594Z"
   },
   {
    "duration": 23,
    "start_time": "2024-04-16T05:31:41.610Z"
   },
   {
    "duration": 13,
    "start_time": "2024-04-16T05:31:41.634Z"
   },
   {
    "duration": 77,
    "start_time": "2024-04-16T05:31:41.649Z"
   },
   {
    "duration": 1884,
    "start_time": "2024-04-16T05:31:41.729Z"
   },
   {
    "duration": 29247,
    "start_time": "2024-04-16T05:31:43.616Z"
   },
   {
    "duration": 8,
    "start_time": "2024-04-16T05:32:12.865Z"
   },
   {
    "duration": 27,
    "start_time": "2024-04-16T05:32:12.874Z"
   },
   {
    "duration": 2265,
    "start_time": "2024-04-16T05:32:12.902Z"
   },
   {
    "duration": 3231,
    "start_time": "2024-04-16T05:32:15.168Z"
   },
   {
    "duration": 4,
    "start_time": "2024-04-16T05:32:18.401Z"
   },
   {
    "duration": 1660,
    "start_time": "2024-04-16T05:32:18.407Z"
   },
   {
    "duration": 184,
    "start_time": "2024-04-16T05:32:20.069Z"
   },
   {
    "duration": 12,
    "start_time": "2024-04-16T05:32:20.255Z"
   },
   {
    "duration": 98,
    "start_time": "2024-04-16T05:32:20.272Z"
   },
   {
    "duration": 4,
    "start_time": "2024-04-16T05:32:20.372Z"
   },
   {
    "duration": 25,
    "start_time": "2024-04-16T05:34:09.969Z"
   },
   {
    "duration": 108,
    "start_time": "2024-04-16T05:39:48.238Z"
   },
   {
    "duration": 3,
    "start_time": "2024-04-16T05:40:19.215Z"
   },
   {
    "duration": 12,
    "start_time": "2024-04-16T06:41:19.495Z"
   },
   {
    "duration": 3,
    "start_time": "2024-04-16T06:41:44.766Z"
   },
   {
    "duration": 2,
    "start_time": "2024-04-16T06:41:51.454Z"
   },
   {
    "duration": 4,
    "start_time": "2024-04-16T06:43:51.679Z"
   },
   {
    "duration": 64,
    "start_time": "2024-04-16T06:44:34.783Z"
   },
   {
    "duration": 9,
    "start_time": "2024-04-16T06:44:50.936Z"
   },
   {
    "duration": 4,
    "start_time": "2024-04-16T06:45:18.000Z"
   },
   {
    "duration": 516,
    "start_time": "2024-04-16T06:48:18.397Z"
   },
   {
    "duration": 576,
    "start_time": "2024-04-16T06:51:02.964Z"
   },
   {
    "duration": 6,
    "start_time": "2024-04-16T06:51:04.884Z"
   },
   {
    "duration": 3,
    "start_time": "2024-04-16T06:51:12.907Z"
   },
   {
    "duration": 47,
    "start_time": "2024-04-16T06:51:26.020Z"
   },
   {
    "duration": 321,
    "start_time": "2024-04-16T06:51:31.108Z"
   },
   {
    "duration": 329,
    "start_time": "2024-04-16T06:51:52.676Z"
   },
   {
    "duration": 17,
    "start_time": "2024-04-16T06:53:34.373Z"
   },
   {
    "duration": 73,
    "start_time": "2024-04-16T06:53:39.541Z"
   },
   {
    "duration": 101,
    "start_time": "2024-04-16T06:54:13.949Z"
   },
   {
    "duration": 1460,
    "start_time": "2024-04-16T06:55:47.452Z"
   },
   {
    "duration": 3,
    "start_time": "2024-04-16T06:55:48.913Z"
   },
   {
    "duration": 945,
    "start_time": "2024-04-16T06:55:48.917Z"
   },
   {
    "duration": 17,
    "start_time": "2024-04-16T06:55:49.863Z"
   },
   {
    "duration": 7,
    "start_time": "2024-04-16T06:55:49.882Z"
   },
   {
    "duration": 173,
    "start_time": "2024-04-16T06:55:49.891Z"
   },
   {
    "duration": 487,
    "start_time": "2024-04-16T06:55:50.066Z"
   },
   {
    "duration": 533,
    "start_time": "2024-04-16T06:55:50.555Z"
   },
   {
    "duration": 328,
    "start_time": "2024-04-16T06:55:51.090Z"
   },
   {
    "duration": 34,
    "start_time": "2024-04-16T06:55:51.420Z"
   },
   {
    "duration": 24,
    "start_time": "2024-04-16T06:55:51.456Z"
   },
   {
    "duration": 415,
    "start_time": "2024-04-16T06:55:51.482Z"
   },
   {
    "duration": 293,
    "start_time": "2024-04-16T06:55:51.898Z"
   },
   {
    "duration": 52,
    "start_time": "2024-04-16T06:55:52.194Z"
   },
   {
    "duration": 22,
    "start_time": "2024-04-16T06:55:52.248Z"
   },
   {
    "duration": 35,
    "start_time": "2024-04-16T06:55:52.271Z"
   },
   {
    "duration": 41,
    "start_time": "2024-04-16T06:55:52.308Z"
   },
   {
    "duration": 25,
    "start_time": "2024-04-16T06:55:52.351Z"
   },
   {
    "duration": 104,
    "start_time": "2024-04-16T06:55:52.378Z"
   },
   {
    "duration": 94,
    "start_time": "2024-04-16T06:55:52.484Z"
   },
   {
    "duration": 113,
    "start_time": "2024-04-16T06:55:52.579Z"
   },
   {
    "duration": 11,
    "start_time": "2024-04-16T06:55:52.693Z"
   },
   {
    "duration": 35,
    "start_time": "2024-04-16T06:55:52.706Z"
   },
   {
    "duration": 34,
    "start_time": "2024-04-16T06:55:52.744Z"
   },
   {
    "duration": 26,
    "start_time": "2024-04-16T06:55:52.780Z"
   },
   {
    "duration": 45,
    "start_time": "2024-04-16T06:55:52.808Z"
   },
   {
    "duration": 50,
    "start_time": "2024-04-16T06:55:52.855Z"
   },
   {
    "duration": 8,
    "start_time": "2024-04-16T06:55:52.907Z"
   },
   {
    "duration": 35,
    "start_time": "2024-04-16T06:55:52.916Z"
   },
   {
    "duration": 4,
    "start_time": "2024-04-16T06:55:52.953Z"
   },
   {
    "duration": 189,
    "start_time": "2024-04-16T06:55:52.958Z"
   },
   {
    "duration": 12,
    "start_time": "2024-04-16T06:55:53.148Z"
   },
   {
    "duration": 101,
    "start_time": "2024-04-16T06:55:53.161Z"
   },
   {
    "duration": 4,
    "start_time": "2024-04-16T06:55:53.263Z"
   },
   {
    "duration": 12,
    "start_time": "2024-04-16T06:55:53.269Z"
   },
   {
    "duration": 9,
    "start_time": "2024-04-16T06:55:53.283Z"
   },
   {
    "duration": 90,
    "start_time": "2024-04-16T06:55:53.294Z"
   },
   {
    "duration": 3,
    "start_time": "2024-04-16T06:55:53.385Z"
   },
   {
    "duration": 667,
    "start_time": "2024-04-16T06:55:53.390Z"
   },
   {
    "duration": 3,
    "start_time": "2024-04-16T06:59:12.096Z"
   },
   {
    "duration": 530,
    "start_time": "2024-04-16T06:59:17.418Z"
   },
   {
    "duration": 1241,
    "start_time": "2024-04-16T07:03:43.548Z"
   },
   {
    "duration": 1499,
    "start_time": "2024-04-16T07:05:07.269Z"
   },
   {
    "duration": 3,
    "start_time": "2024-04-16T07:05:08.770Z"
   },
   {
    "duration": 936,
    "start_time": "2024-04-16T07:05:08.774Z"
   },
   {
    "duration": 22,
    "start_time": "2024-04-16T07:05:09.712Z"
   },
   {
    "duration": 46,
    "start_time": "2024-04-16T07:05:09.736Z"
   },
   {
    "duration": 205,
    "start_time": "2024-04-16T07:05:09.784Z"
   },
   {
    "duration": 509,
    "start_time": "2024-04-16T07:05:09.990Z"
   },
   {
    "duration": 551,
    "start_time": "2024-04-16T07:05:10.501Z"
   },
   {
    "duration": 336,
    "start_time": "2024-04-16T07:05:11.053Z"
   },
   {
    "duration": 42,
    "start_time": "2024-04-16T07:05:11.392Z"
   },
   {
    "duration": 25,
    "start_time": "2024-04-16T07:05:11.436Z"
   },
   {
    "duration": 413,
    "start_time": "2024-04-16T07:05:11.463Z"
   },
   {
    "duration": 283,
    "start_time": "2024-04-16T07:05:11.878Z"
   },
   {
    "duration": 44,
    "start_time": "2024-04-16T07:05:12.163Z"
   },
   {
    "duration": 38,
    "start_time": "2024-04-16T07:05:12.209Z"
   },
   {
    "duration": 32,
    "start_time": "2024-04-16T07:05:12.248Z"
   },
   {
    "duration": 21,
    "start_time": "2024-04-16T07:05:12.282Z"
   },
   {
    "duration": 34,
    "start_time": "2024-04-16T07:05:12.305Z"
   },
   {
    "duration": 38,
    "start_time": "2024-04-16T07:05:12.341Z"
   },
   {
    "duration": 93,
    "start_time": "2024-04-16T07:05:12.381Z"
   },
   {
    "duration": 102,
    "start_time": "2024-04-16T07:05:12.476Z"
   },
   {
    "duration": 4,
    "start_time": "2024-04-16T07:05:12.580Z"
   },
   {
    "duration": 15,
    "start_time": "2024-04-16T07:05:12.585Z"
   },
   {
    "duration": 28,
    "start_time": "2024-04-16T07:05:12.603Z"
   },
   {
    "duration": 11,
    "start_time": "2024-04-16T07:05:12.633Z"
   },
   {
    "duration": 27,
    "start_time": "2024-04-16T07:05:12.646Z"
   },
   {
    "duration": 66,
    "start_time": "2024-04-16T07:05:12.676Z"
   },
   {
    "duration": 8,
    "start_time": "2024-04-16T07:05:12.745Z"
   },
   {
    "duration": 27,
    "start_time": "2024-04-16T07:05:12.755Z"
   },
   {
    "duration": 7,
    "start_time": "2024-04-16T07:05:12.784Z"
   },
   {
    "duration": 219,
    "start_time": "2024-04-16T07:05:12.792Z"
   },
   {
    "duration": 17,
    "start_time": "2024-04-16T07:05:13.013Z"
   },
   {
    "duration": 97,
    "start_time": "2024-04-16T07:05:13.032Z"
   },
   {
    "duration": 4,
    "start_time": "2024-04-16T07:05:13.131Z"
   },
   {
    "duration": 8,
    "start_time": "2024-04-16T07:05:13.136Z"
   },
   {
    "duration": 21,
    "start_time": "2024-04-16T07:05:29.389Z"
   },
   {
    "duration": 2,
    "start_time": "2024-04-16T07:05:53.391Z"
   },
   {
    "duration": 1224,
    "start_time": "2024-04-16T07:06:13.582Z"
   },
   {
    "duration": 7,
    "start_time": "2024-04-16T07:06:24.854Z"
   },
   {
    "duration": 165,
    "start_time": "2024-04-16T07:06:49.279Z"
   },
   {
    "duration": 18,
    "start_time": "2024-04-16T07:07:06.599Z"
   },
   {
    "duration": 67,
    "start_time": "2024-04-16T07:08:05.106Z"
   },
   {
    "duration": 9,
    "start_time": "2024-04-16T07:08:35.744Z"
   },
   {
    "duration": 16,
    "start_time": "2024-04-16T07:08:42.912Z"
   },
   {
    "duration": 8,
    "start_time": "2024-04-16T07:09:30.097Z"
   },
   {
    "duration": 9,
    "start_time": "2024-04-16T07:09:38.417Z"
   },
   {
    "duration": 5,
    "start_time": "2024-04-16T07:09:47.489Z"
   },
   {
    "duration": 21,
    "start_time": "2024-04-16T07:09:57.122Z"
   },
   {
    "duration": 8,
    "start_time": "2024-04-16T07:10:05.338Z"
   },
   {
    "duration": 9,
    "start_time": "2024-04-16T07:10:16.452Z"
   },
   {
    "duration": 1488,
    "start_time": "2024-04-16T07:15:17.844Z"
   },
   {
    "duration": 3,
    "start_time": "2024-04-16T07:15:19.335Z"
   },
   {
    "duration": 948,
    "start_time": "2024-04-16T07:15:19.340Z"
   },
   {
    "duration": 24,
    "start_time": "2024-04-16T07:15:20.291Z"
   },
   {
    "duration": 6,
    "start_time": "2024-04-16T07:15:20.328Z"
   },
   {
    "duration": 216,
    "start_time": "2024-04-16T07:15:20.337Z"
   },
   {
    "duration": 506,
    "start_time": "2024-04-16T07:15:20.555Z"
   },
   {
    "duration": 514,
    "start_time": "2024-04-16T07:15:21.063Z"
   },
   {
    "duration": 295,
    "start_time": "2024-04-16T07:15:21.579Z"
   },
   {
    "duration": 34,
    "start_time": "2024-04-16T07:15:21.876Z"
   },
   {
    "duration": 32,
    "start_time": "2024-04-16T07:15:21.911Z"
   },
   {
    "duration": 384,
    "start_time": "2024-04-16T07:15:21.944Z"
   },
   {
    "duration": 316,
    "start_time": "2024-04-16T07:15:22.329Z"
   },
   {
    "duration": 44,
    "start_time": "2024-04-16T07:15:22.648Z"
   },
   {
    "duration": 132,
    "start_time": "2024-04-16T07:15:22.694Z"
   },
   {
    "duration": 42,
    "start_time": "2024-04-16T07:15:22.827Z"
   },
   {
    "duration": 25,
    "start_time": "2024-04-16T07:15:22.871Z"
   },
   {
    "duration": 26,
    "start_time": "2024-04-16T07:15:22.898Z"
   },
   {
    "duration": 31,
    "start_time": "2024-04-16T07:15:22.926Z"
   },
   {
    "duration": 82,
    "start_time": "2024-04-16T07:15:22.959Z"
   },
   {
    "duration": 101,
    "start_time": "2024-04-16T07:15:23.043Z"
   },
   {
    "duration": 3,
    "start_time": "2024-04-16T07:15:23.146Z"
   },
   {
    "duration": 16,
    "start_time": "2024-04-16T07:15:23.151Z"
   },
   {
    "duration": 24,
    "start_time": "2024-04-16T07:15:23.168Z"
   },
   {
    "duration": 8,
    "start_time": "2024-04-16T07:15:23.194Z"
   },
   {
    "duration": 18,
    "start_time": "2024-04-16T07:15:23.203Z"
   },
   {
    "duration": 56,
    "start_time": "2024-04-16T07:15:23.229Z"
   },
   {
    "duration": 9,
    "start_time": "2024-04-16T07:15:23.287Z"
   },
   {
    "duration": 42,
    "start_time": "2024-04-16T07:15:23.298Z"
   },
   {
    "duration": 4,
    "start_time": "2024-04-16T07:15:23.342Z"
   },
   {
    "duration": 197,
    "start_time": "2024-04-16T07:15:23.348Z"
   },
   {
    "duration": 15,
    "start_time": "2024-04-16T07:15:23.547Z"
   },
   {
    "duration": 92,
    "start_time": "2024-04-16T07:15:23.563Z"
   },
   {
    "duration": 4,
    "start_time": "2024-04-16T07:15:23.657Z"
   },
   {
    "duration": 17,
    "start_time": "2024-04-16T07:15:23.663Z"
   },
   {
    "duration": 22,
    "start_time": "2024-04-16T07:15:23.682Z"
   },
   {
    "duration": 49,
    "start_time": "2024-04-16T07:15:23.706Z"
   },
   {
    "duration": 0,
    "start_time": "2024-04-16T07:15:23.757Z"
   },
   {
    "duration": 114,
    "start_time": "2024-04-16T07:15:31.286Z"
   },
   {
    "duration": 2,
    "start_time": "2024-04-16T07:23:09.789Z"
   },
   {
    "duration": 1109,
    "start_time": "2024-04-16T07:23:11.341Z"
   },
   {
    "duration": 380,
    "start_time": "2024-04-16T07:23:25.661Z"
   },
   {
    "duration": 3,
    "start_time": "2024-04-16T07:23:32.165Z"
   },
   {
    "duration": 4,
    "start_time": "2024-04-16T07:24:24.136Z"
   },
   {
    "duration": 4,
    "start_time": "2024-04-16T07:28:52.457Z"
   },
   {
    "duration": 1554,
    "start_time": "2024-04-16T07:29:19.555Z"
   },
   {
    "duration": 12,
    "start_time": "2024-04-16T07:29:53.073Z"
   },
   {
    "duration": 4,
    "start_time": "2024-04-16T07:30:41.465Z"
   },
   {
    "duration": 25,
    "start_time": "2024-04-16T07:30:46.306Z"
   },
   {
    "duration": 2,
    "start_time": "2024-04-16T07:32:43.767Z"
   },
   {
    "duration": 29,
    "start_time": "2024-04-16T07:32:48.188Z"
   },
   {
    "duration": 1578,
    "start_time": "2024-04-16T07:32:49.388Z"
   },
   {
    "duration": 2176,
    "start_time": "2024-04-16T07:33:34.446Z"
   },
   {
    "duration": 28,
    "start_time": "2024-04-16T07:34:34.724Z"
   },
   {
    "duration": 34,
    "start_time": "2024-04-16T07:38:58.369Z"
   },
   {
    "duration": 11,
    "start_time": "2024-04-16T07:40:04.249Z"
   },
   {
    "duration": 7,
    "start_time": "2024-04-16T07:49:17.045Z"
   },
   {
    "duration": 4,
    "start_time": "2024-04-16T07:50:38.458Z"
   },
   {
    "duration": 7,
    "start_time": "2024-04-16T07:52:44.528Z"
   },
   {
    "duration": 10,
    "start_time": "2024-04-16T07:52:52.483Z"
   },
   {
    "duration": 6,
    "start_time": "2024-04-16T07:52:58.893Z"
   },
   {
    "duration": 8,
    "start_time": "2024-04-16T07:53:07.247Z"
   },
   {
    "duration": 56842,
    "start_time": "2024-04-16T07:53:29.791Z"
   },
   {
    "duration": 13,
    "start_time": "2024-04-16T08:04:33.776Z"
   },
   {
    "duration": 62,
    "start_time": "2024-04-16T08:07:39.424Z"
   },
   {
    "duration": 1656,
    "start_time": "2024-04-16T08:07:47.178Z"
   },
   {
    "duration": 3,
    "start_time": "2024-04-16T08:07:48.836Z"
   },
   {
    "duration": 3198,
    "start_time": "2024-04-16T08:07:48.847Z"
   },
   {
    "duration": 21,
    "start_time": "2024-04-16T08:07:52.050Z"
   },
   {
    "duration": 39,
    "start_time": "2024-04-16T08:07:52.073Z"
   },
   {
    "duration": 190,
    "start_time": "2024-04-16T08:07:52.114Z"
   },
   {
    "duration": 601,
    "start_time": "2024-04-16T08:07:52.306Z"
   },
   {
    "duration": 592,
    "start_time": "2024-04-16T08:07:52.909Z"
   },
   {
    "duration": 363,
    "start_time": "2024-04-16T08:07:53.502Z"
   },
   {
    "duration": 36,
    "start_time": "2024-04-16T08:07:53.868Z"
   },
   {
    "duration": 46,
    "start_time": "2024-04-16T08:07:53.905Z"
   },
   {
    "duration": 441,
    "start_time": "2024-04-16T08:07:53.954Z"
   },
   {
    "duration": 368,
    "start_time": "2024-04-16T08:07:54.396Z"
   },
   {
    "duration": 68,
    "start_time": "2024-04-16T08:07:54.765Z"
   },
   {
    "duration": 33,
    "start_time": "2024-04-16T08:07:54.836Z"
   },
   {
    "duration": 25,
    "start_time": "2024-04-16T08:07:54.870Z"
   },
   {
    "duration": 56,
    "start_time": "2024-04-16T08:07:54.897Z"
   },
   {
    "duration": 26,
    "start_time": "2024-04-16T08:07:54.956Z"
   },
   {
    "duration": 38,
    "start_time": "2024-04-16T08:07:54.983Z"
   },
   {
    "duration": 101,
    "start_time": "2024-04-16T08:07:55.023Z"
   },
   {
    "duration": 128,
    "start_time": "2024-04-16T08:07:55.126Z"
   },
   {
    "duration": 4,
    "start_time": "2024-04-16T08:07:55.256Z"
   },
   {
    "duration": 19,
    "start_time": "2024-04-16T08:07:55.262Z"
   },
   {
    "duration": 29,
    "start_time": "2024-04-16T08:07:55.283Z"
   },
   {
    "duration": 12,
    "start_time": "2024-04-16T08:07:55.314Z"
   },
   {
    "duration": 22,
    "start_time": "2024-04-16T08:07:55.328Z"
   },
   {
    "duration": 87,
    "start_time": "2024-04-16T08:07:55.352Z"
   },
   {
    "duration": 9,
    "start_time": "2024-04-16T08:07:55.448Z"
   },
   {
    "duration": 26,
    "start_time": "2024-04-16T08:07:55.458Z"
   },
   {
    "duration": 20,
    "start_time": "2024-04-16T08:07:55.486Z"
   },
   {
    "duration": 277,
    "start_time": "2024-04-16T08:07:55.508Z"
   },
   {
    "duration": 16,
    "start_time": "2024-04-16T08:07:55.788Z"
   },
   {
    "duration": 163,
    "start_time": "2024-04-16T08:07:55.806Z"
   },
   {
    "duration": 5,
    "start_time": "2024-04-16T08:07:55.971Z"
   },
   {
    "duration": 21,
    "start_time": "2024-04-16T08:07:55.978Z"
   },
   {
    "duration": 51,
    "start_time": "2024-04-16T08:07:56.000Z"
   },
   {
    "duration": 1752,
    "start_time": "2024-04-16T08:07:56.053Z"
   },
   {
    "duration": 2275,
    "start_time": "2024-04-16T08:07:57.808Z"
   },
   {
    "duration": 26,
    "start_time": "2024-04-16T08:08:00.085Z"
   },
   {
    "duration": 386,
    "start_time": "2024-04-16T08:08:00.113Z"
   },
   {
    "duration": 100,
    "start_time": "2024-04-16T08:08:00.501Z"
   },
   {
    "duration": 54728,
    "start_time": "2024-04-16T08:08:00.608Z"
   },
   {
    "duration": 2244,
    "start_time": "2024-04-16T08:08:55.342Z"
   },
   {
    "duration": 6,
    "start_time": "2024-04-16T08:09:06.224Z"
   },
   {
    "duration": 153,
    "start_time": "2024-04-16T08:09:31.473Z"
   },
   {
    "duration": 11,
    "start_time": "2024-04-16T08:09:35.521Z"
   },
   {
    "duration": 10,
    "start_time": "2024-04-16T08:09:41.457Z"
   },
   {
    "duration": 9,
    "start_time": "2024-04-16T08:09:45.282Z"
   },
   {
    "duration": 13,
    "start_time": "2024-04-16T08:11:26.839Z"
   },
   {
    "duration": 6,
    "start_time": "2024-04-16T08:13:05.748Z"
   },
   {
    "duration": 4,
    "start_time": "2024-04-16T08:14:19.045Z"
   },
   {
    "duration": 1461,
    "start_time": "2024-04-16T08:14:23.607Z"
   },
   {
    "duration": 3,
    "start_time": "2024-04-16T08:14:25.070Z"
   },
   {
    "duration": 990,
    "start_time": "2024-04-16T08:14:25.075Z"
   },
   {
    "duration": 16,
    "start_time": "2024-04-16T08:14:26.066Z"
   },
   {
    "duration": 31,
    "start_time": "2024-04-16T08:14:26.084Z"
   },
   {
    "duration": 176,
    "start_time": "2024-04-16T08:14:26.117Z"
   },
   {
    "duration": 510,
    "start_time": "2024-04-16T08:14:26.295Z"
   },
   {
    "duration": 542,
    "start_time": "2024-04-16T08:14:26.806Z"
   },
   {
    "duration": 326,
    "start_time": "2024-04-16T08:14:27.350Z"
   },
   {
    "duration": 30,
    "start_time": "2024-04-16T08:14:27.678Z"
   },
   {
    "duration": 32,
    "start_time": "2024-04-16T08:14:27.710Z"
   },
   {
    "duration": 339,
    "start_time": "2024-04-16T08:14:27.743Z"
   },
   {
    "duration": 309,
    "start_time": "2024-04-16T08:14:28.084Z"
   },
   {
    "duration": 53,
    "start_time": "2024-04-16T08:14:28.396Z"
   },
   {
    "duration": 43,
    "start_time": "2024-04-16T08:14:28.451Z"
   },
   {
    "duration": 46,
    "start_time": "2024-04-16T08:14:28.496Z"
   },
   {
    "duration": 37,
    "start_time": "2024-04-16T08:14:28.544Z"
   },
   {
    "duration": 27,
    "start_time": "2024-04-16T08:14:28.583Z"
   },
   {
    "duration": 68,
    "start_time": "2024-04-16T08:14:28.612Z"
   },
   {
    "duration": 89,
    "start_time": "2024-04-16T08:14:28.682Z"
   },
   {
    "duration": 111,
    "start_time": "2024-04-16T08:14:28.772Z"
   },
   {
    "duration": 4,
    "start_time": "2024-04-16T08:14:28.884Z"
   },
   {
    "duration": 15,
    "start_time": "2024-04-16T08:14:28.889Z"
   },
   {
    "duration": 35,
    "start_time": "2024-04-16T08:14:28.906Z"
   },
   {
    "duration": 9,
    "start_time": "2024-04-16T08:14:28.942Z"
   },
   {
    "duration": 17,
    "start_time": "2024-04-16T08:14:28.954Z"
   },
   {
    "duration": 80,
    "start_time": "2024-04-16T08:14:28.973Z"
   },
   {
    "duration": 7,
    "start_time": "2024-04-16T08:14:29.055Z"
   },
   {
    "duration": 63,
    "start_time": "2024-04-16T08:14:29.064Z"
   },
   {
    "duration": 5,
    "start_time": "2024-04-16T08:14:29.128Z"
   },
   {
    "duration": 208,
    "start_time": "2024-04-16T08:14:29.134Z"
   },
   {
    "duration": 11,
    "start_time": "2024-04-16T08:14:29.343Z"
   },
   {
    "duration": 113,
    "start_time": "2024-04-16T08:14:29.356Z"
   },
   {
    "duration": 8,
    "start_time": "2024-04-16T08:14:29.471Z"
   },
   {
    "duration": 7,
    "start_time": "2024-04-16T08:14:29.481Z"
   },
   {
    "duration": 49,
    "start_time": "2024-04-16T08:14:29.490Z"
   },
   {
    "duration": 1594,
    "start_time": "2024-04-16T08:14:29.542Z"
   },
   {
    "duration": 2186,
    "start_time": "2024-04-16T08:14:31.138Z"
   },
   {
    "duration": 35,
    "start_time": "2024-04-16T08:14:33.326Z"
   },
   {
    "duration": 9,
    "start_time": "2024-04-16T08:14:33.364Z"
   },
   {
    "duration": 4,
    "start_time": "2024-04-16T08:14:33.376Z"
   },
   {
    "duration": 50257,
    "start_time": "2024-04-16T08:14:33.381Z"
   },
   {
    "duration": 2589,
    "start_time": "2024-04-16T08:15:23.640Z"
   },
   {
    "duration": 6,
    "start_time": "2024-04-16T08:15:26.231Z"
   },
   {
    "duration": 43018,
    "start_time": "2024-04-16T08:17:12.038Z"
   },
   {
    "duration": 61431,
    "start_time": "2024-04-16T08:18:15.128Z"
   },
   {
    "duration": 454,
    "start_time": "2024-04-16T08:22:29.788Z"
   },
   {
    "duration": 40575,
    "start_time": "2024-04-16T08:29:05.265Z"
   },
   {
    "duration": 117,
    "start_time": "2024-04-16T08:47:45.936Z"
   },
   {
    "duration": 23,
    "start_time": "2024-04-16T08:58:24.885Z"
   },
   {
    "duration": 3,
    "start_time": "2024-04-16T08:58:35.573Z"
   },
   {
    "duration": 4,
    "start_time": "2024-04-16T08:59:30.125Z"
   },
   {
    "duration": 1638,
    "start_time": "2024-04-16T09:02:59.267Z"
   },
   {
    "duration": 3,
    "start_time": "2024-04-16T09:03:00.907Z"
   },
   {
    "duration": 1384,
    "start_time": "2024-04-16T09:03:00.913Z"
   },
   {
    "duration": 18,
    "start_time": "2024-04-16T09:03:02.299Z"
   },
   {
    "duration": 40,
    "start_time": "2024-04-16T09:03:02.329Z"
   },
   {
    "duration": 237,
    "start_time": "2024-04-16T09:03:02.371Z"
   },
   {
    "duration": 581,
    "start_time": "2024-04-16T09:03:02.611Z"
   },
   {
    "duration": 604,
    "start_time": "2024-04-16T09:03:03.194Z"
   },
   {
    "duration": 359,
    "start_time": "2024-04-16T09:03:03.800Z"
   },
   {
    "duration": 40,
    "start_time": "2024-04-16T09:03:04.161Z"
   },
   {
    "duration": 29,
    "start_time": "2024-04-16T09:03:04.203Z"
   },
   {
    "duration": 434,
    "start_time": "2024-04-16T09:03:04.236Z"
   },
   {
    "duration": 351,
    "start_time": "2024-04-16T09:03:04.675Z"
   },
   {
    "duration": 44,
    "start_time": "2024-04-16T09:03:05.030Z"
   },
   {
    "duration": 51,
    "start_time": "2024-04-16T09:03:05.076Z"
   },
   {
    "duration": 76,
    "start_time": "2024-04-16T09:03:05.131Z"
   },
   {
    "duration": 42,
    "start_time": "2024-04-16T09:03:05.210Z"
   },
   {
    "duration": 33,
    "start_time": "2024-04-16T09:03:05.254Z"
   },
   {
    "duration": 27,
    "start_time": "2024-04-16T09:03:05.289Z"
   },
   {
    "duration": 92,
    "start_time": "2024-04-16T09:03:05.317Z"
   },
   {
    "duration": 131,
    "start_time": "2024-04-16T09:03:05.411Z"
   },
   {
    "duration": 3,
    "start_time": "2024-04-16T09:03:05.550Z"
   },
   {
    "duration": 17,
    "start_time": "2024-04-16T09:03:05.555Z"
   },
   {
    "duration": 30,
    "start_time": "2024-04-16T09:03:05.574Z"
   },
   {
    "duration": 8,
    "start_time": "2024-04-16T09:03:05.605Z"
   },
   {
    "duration": 28,
    "start_time": "2024-04-16T09:03:05.614Z"
   },
   {
    "duration": 70,
    "start_time": "2024-04-16T09:03:05.644Z"
   },
   {
    "duration": 10,
    "start_time": "2024-04-16T09:03:05.717Z"
   },
   {
    "duration": 45,
    "start_time": "2024-04-16T09:03:05.733Z"
   },
   {
    "duration": 4,
    "start_time": "2024-04-16T09:03:05.779Z"
   },
   {
    "duration": 189,
    "start_time": "2024-04-16T09:03:05.785Z"
   },
   {
    "duration": 12,
    "start_time": "2024-04-16T09:03:05.976Z"
   },
   {
    "duration": 178,
    "start_time": "2024-04-16T09:03:05.990Z"
   },
   {
    "duration": 4,
    "start_time": "2024-04-16T09:03:06.171Z"
   },
   {
    "duration": 5,
    "start_time": "2024-04-16T09:03:06.177Z"
   },
   {
    "duration": 55,
    "start_time": "2024-04-16T09:03:06.184Z"
   },
   {
    "duration": 1667,
    "start_time": "2024-04-16T09:03:06.240Z"
   },
   {
    "duration": 2554,
    "start_time": "2024-04-16T09:03:07.908Z"
   },
   {
    "duration": 28,
    "start_time": "2024-04-16T09:03:10.465Z"
   },
   {
    "duration": 46,
    "start_time": "2024-04-16T09:03:10.495Z"
   },
   {
    "duration": 60598,
    "start_time": "2024-04-16T09:03:10.550Z"
   },
   {
    "duration": 482,
    "start_time": "2024-04-16T09:04:11.154Z"
   },
   {
    "duration": 35305,
    "start_time": "2024-04-16T09:04:11.647Z"
   },
   {
    "duration": 26,
    "start_time": "2024-04-16T09:04:47.036Z"
   },
   {
    "duration": 65,
    "start_time": "2024-04-16T09:04:47.068Z"
   },
   {
    "duration": 7143,
    "start_time": "2024-04-16T09:04:47.135Z"
   },
   {
    "duration": 3,
    "start_time": "2024-04-16T09:04:54.280Z"
   },
   {
    "duration": 476,
    "start_time": "2024-04-16T09:04:54.287Z"
   },
   {
    "duration": 6,
    "start_time": "2024-04-16T09:05:50.651Z"
   },
   {
    "duration": 5,
    "start_time": "2024-04-16T09:08:25.149Z"
   },
   {
    "duration": 4,
    "start_time": "2024-04-16T09:08:36.084Z"
   },
   {
    "duration": 166,
    "start_time": "2024-04-16T09:08:37.468Z"
   },
   {
    "duration": 4,
    "start_time": "2024-04-16T09:09:22.541Z"
   },
   {
    "duration": 7456,
    "start_time": "2024-04-16T09:09:23.997Z"
   },
   {
    "duration": 3,
    "start_time": "2024-04-16T09:09:34.981Z"
   },
   {
    "duration": 12,
    "start_time": "2024-04-16T09:09:35.829Z"
   },
   {
    "duration": 2,
    "start_time": "2024-04-16T09:09:56.685Z"
   },
   {
    "duration": 3,
    "start_time": "2024-04-16T09:09:57.685Z"
   },
   {
    "duration": 74738,
    "start_time": "2024-04-16T09:09:59.261Z"
   },
   {
    "duration": 4,
    "start_time": "2024-04-16T09:12:05.294Z"
   },
   {
    "duration": 4,
    "start_time": "2024-04-16T09:12:10.991Z"
   },
   {
    "duration": 3,
    "start_time": "2024-04-16T09:12:43.831Z"
   },
   {
    "duration": 3,
    "start_time": "2024-04-16T09:12:45.487Z"
   },
   {
    "duration": 376803,
    "start_time": "2024-04-16T09:13:13.664Z"
   },
   {
    "duration": 3,
    "start_time": "2024-04-16T11:28:36.871Z"
   },
   {
    "duration": 13,
    "start_time": "2024-04-16T11:32:44.786Z"
   },
   {
    "duration": 3,
    "start_time": "2024-04-16T11:37:00.700Z"
   },
   {
    "duration": 2,
    "start_time": "2024-04-16T11:49:21.653Z"
   },
   {
    "duration": 6,
    "start_time": "2024-04-16T11:50:25.373Z"
   },
   {
    "duration": 7817,
    "start_time": "2024-04-16T11:57:12.321Z"
   },
   {
    "duration": 5806,
    "start_time": "2024-04-16T11:58:21.041Z"
   },
   {
    "duration": 2807,
    "start_time": "2024-04-16T11:58:45.345Z"
   },
   {
    "duration": 2491,
    "start_time": "2024-04-16T11:58:55.761Z"
   },
   {
    "duration": 2652,
    "start_time": "2024-04-16T11:59:01.082Z"
   },
   {
    "duration": 2720,
    "start_time": "2024-04-16T11:59:20.121Z"
   },
   {
    "duration": 3187,
    "start_time": "2024-04-16T12:00:20.162Z"
   },
   {
    "duration": 3634,
    "start_time": "2024-04-16T12:00:45.099Z"
   },
   {
    "duration": 5754,
    "start_time": "2024-04-16T12:01:04.579Z"
   },
   {
    "duration": 17454,
    "start_time": "2024-04-16T12:01:17.995Z"
   },
   {
    "duration": 18488,
    "start_time": "2024-04-16T12:02:04.363Z"
   },
   {
    "duration": 18059,
    "start_time": "2024-04-16T12:14:34.500Z"
   },
   {
    "duration": 19651,
    "start_time": "2024-04-16T12:15:42.917Z"
   },
   {
    "duration": 45193,
    "start_time": "2024-04-16T12:16:11.540Z"
   },
   {
    "duration": 39261,
    "start_time": "2024-04-16T12:17:22.292Z"
   },
   {
    "duration": 71047,
    "start_time": "2024-04-16T12:18:19.591Z"
   },
   {
    "duration": 118202,
    "start_time": "2024-04-16T12:19:48.078Z"
   },
   {
    "duration": 128291,
    "start_time": "2024-04-16T12:23:12.768Z"
   },
   {
    "duration": 72,
    "start_time": "2024-04-16T12:30:01.696Z"
   },
   {
    "duration": 20586,
    "start_time": "2024-04-16T12:31:10.349Z"
   },
   {
    "duration": 22544,
    "start_time": "2024-04-16T12:39:45.892Z"
   },
   {
    "duration": 6,
    "start_time": "2024-04-16T12:42:29.437Z"
   },
   {
    "duration": 3,
    "start_time": "2024-04-16T12:42:51.205Z"
   },
   {
    "duration": 382946,
    "start_time": "2024-04-16T12:43:12.726Z"
   },
   {
    "duration": 1375,
    "start_time": "2024-04-16T12:53:34.062Z"
   },
   {
    "duration": 1379,
    "start_time": "2024-04-16T12:55:36.256Z"
   },
   {
    "duration": 1337,
    "start_time": "2024-04-16T12:55:39.512Z"
   },
   {
    "duration": 1374,
    "start_time": "2024-04-16T12:55:43.696Z"
   },
   {
    "duration": 1406,
    "start_time": "2024-04-16T12:55:47.959Z"
   },
   {
    "duration": 21881,
    "start_time": "2024-04-16T12:57:37.369Z"
   },
   {
    "duration": 445,
    "start_time": "2024-04-16T12:58:11.722Z"
   },
   {
    "duration": 84864,
    "start_time": "2024-04-16T12:59:27.195Z"
   },
   {
    "duration": 1310,
    "start_time": "2024-04-16T13:01:01.828Z"
   },
   {
    "duration": 1268,
    "start_time": "2024-04-16T13:01:25.075Z"
   },
   {
    "duration": 1240,
    "start_time": "2024-04-16T13:01:28.715Z"
   },
   {
    "duration": 1328,
    "start_time": "2024-04-16T13:01:33.012Z"
   },
   {
    "duration": 425,
    "start_time": "2024-04-16T13:01:38.508Z"
   },
   {
    "duration": 736491,
    "start_time": "2024-04-16T13:03:11.550Z"
   },
   {
    "duration": 13063,
    "start_time": "2024-04-16T13:15:58.095Z"
   },
   {
    "duration": 13122,
    "start_time": "2024-04-16T13:16:36.312Z"
   },
   {
    "duration": 124,
    "start_time": "2024-04-16T13:18:11.607Z"
   },
   {
    "duration": 78,
    "start_time": "2024-04-16T13:22:35.555Z"
   },
   {
    "duration": 80,
    "start_time": "2024-04-16T13:23:13.970Z"
   },
   {
    "duration": 83,
    "start_time": "2024-04-16T13:23:57.292Z"
   },
   {
    "duration": 62,
    "start_time": "2024-04-16T13:24:33.068Z"
   },
   {
    "duration": 3,
    "start_time": "2024-04-16T13:36:10.219Z"
   },
   {
    "duration": 102,
    "start_time": "2024-04-16T13:44:07.487Z"
   },
   {
    "duration": 7201,
    "start_time": "2024-04-16T13:44:21.760Z"
   },
   {
    "duration": 46,
    "start_time": "2024-04-16T13:44:28.963Z"
   },
   {
    "duration": 1425,
    "start_time": "2024-04-16T13:45:19.379Z"
   },
   {
    "duration": 2,
    "start_time": "2024-04-16T13:45:20.807Z"
   },
   {
    "duration": 914,
    "start_time": "2024-04-16T13:45:20.811Z"
   },
   {
    "duration": 17,
    "start_time": "2024-04-16T13:45:21.726Z"
   },
   {
    "duration": 10,
    "start_time": "2024-04-16T13:45:21.745Z"
   },
   {
    "duration": 182,
    "start_time": "2024-04-16T13:45:21.756Z"
   },
   {
    "duration": 495,
    "start_time": "2024-04-16T13:45:21.940Z"
   },
   {
    "duration": 518,
    "start_time": "2024-04-16T13:45:22.436Z"
   },
   {
    "duration": 290,
    "start_time": "2024-04-16T13:45:22.956Z"
   },
   {
    "duration": 30,
    "start_time": "2024-04-16T13:45:23.247Z"
   },
   {
    "duration": 22,
    "start_time": "2024-04-16T13:45:23.278Z"
   },
   {
    "duration": 378,
    "start_time": "2024-04-16T13:45:23.301Z"
   },
   {
    "duration": 281,
    "start_time": "2024-04-16T13:45:23.681Z"
   },
   {
    "duration": 41,
    "start_time": "2024-04-16T13:45:23.965Z"
   },
   {
    "duration": 57,
    "start_time": "2024-04-16T13:45:24.008Z"
   },
   {
    "duration": 22,
    "start_time": "2024-04-16T13:45:24.066Z"
   },
   {
    "duration": 32,
    "start_time": "2024-04-16T13:45:24.090Z"
   },
   {
    "duration": 50,
    "start_time": "2024-04-16T13:45:24.123Z"
   },
   {
    "duration": 23,
    "start_time": "2024-04-16T13:45:24.175Z"
   },
   {
    "duration": 85,
    "start_time": "2024-04-16T13:45:24.199Z"
   },
   {
    "duration": 104,
    "start_time": "2024-04-16T13:45:24.286Z"
   },
   {
    "duration": 12,
    "start_time": "2024-04-16T13:45:24.392Z"
   },
   {
    "duration": 23,
    "start_time": "2024-04-16T13:45:24.406Z"
   },
   {
    "duration": 342,
    "start_time": "2024-04-16T13:45:24.431Z"
   },
   {
    "duration": 0,
    "start_time": "2024-04-16T13:45:24.775Z"
   },
   {
    "duration": 0,
    "start_time": "2024-04-16T13:45:24.776Z"
   },
   {
    "duration": 1,
    "start_time": "2024-04-16T13:45:24.777Z"
   },
   {
    "duration": 0,
    "start_time": "2024-04-16T13:45:24.779Z"
   },
   {
    "duration": 0,
    "start_time": "2024-04-16T13:45:24.780Z"
   },
   {
    "duration": 0,
    "start_time": "2024-04-16T13:45:24.781Z"
   },
   {
    "duration": 0,
    "start_time": "2024-04-16T13:45:24.782Z"
   },
   {
    "duration": 0,
    "start_time": "2024-04-16T13:45:24.783Z"
   },
   {
    "duration": 0,
    "start_time": "2024-04-16T13:45:24.784Z"
   },
   {
    "duration": 0,
    "start_time": "2024-04-16T13:45:24.784Z"
   },
   {
    "duration": 0,
    "start_time": "2024-04-16T13:45:24.786Z"
   },
   {
    "duration": 0,
    "start_time": "2024-04-16T13:45:24.787Z"
   },
   {
    "duration": 0,
    "start_time": "2024-04-16T13:45:24.789Z"
   },
   {
    "duration": 0,
    "start_time": "2024-04-16T13:45:24.790Z"
   },
   {
    "duration": 0,
    "start_time": "2024-04-16T13:45:24.792Z"
   },
   {
    "duration": 0,
    "start_time": "2024-04-16T13:45:24.793Z"
   },
   {
    "duration": 0,
    "start_time": "2024-04-16T13:45:24.795Z"
   },
   {
    "duration": 0,
    "start_time": "2024-04-16T13:45:24.796Z"
   },
   {
    "duration": 0,
    "start_time": "2024-04-16T13:45:24.797Z"
   },
   {
    "duration": 0,
    "start_time": "2024-04-16T13:45:24.798Z"
   },
   {
    "duration": 0,
    "start_time": "2024-04-16T13:45:24.799Z"
   },
   {
    "duration": 0,
    "start_time": "2024-04-16T13:45:24.800Z"
   },
   {
    "duration": 0,
    "start_time": "2024-04-16T13:45:24.802Z"
   },
   {
    "duration": 0,
    "start_time": "2024-04-16T13:45:24.803Z"
   },
   {
    "duration": 0,
    "start_time": "2024-04-16T13:45:24.804Z"
   },
   {
    "duration": 0,
    "start_time": "2024-04-16T13:45:24.805Z"
   },
   {
    "duration": 0,
    "start_time": "2024-04-16T13:45:24.806Z"
   },
   {
    "duration": 0,
    "start_time": "2024-04-16T13:45:24.808Z"
   },
   {
    "duration": 0,
    "start_time": "2024-04-16T13:45:24.828Z"
   },
   {
    "duration": 0,
    "start_time": "2024-04-16T13:45:24.830Z"
   },
   {
    "duration": 0,
    "start_time": "2024-04-16T13:45:24.832Z"
   },
   {
    "duration": 0,
    "start_time": "2024-04-16T13:45:24.833Z"
   },
   {
    "duration": 0,
    "start_time": "2024-04-16T13:45:24.835Z"
   },
   {
    "duration": 0,
    "start_time": "2024-04-16T13:45:24.836Z"
   },
   {
    "duration": 0,
    "start_time": "2024-04-16T13:45:24.838Z"
   },
   {
    "duration": 1569,
    "start_time": "2024-04-16T13:46:20.241Z"
   },
   {
    "duration": 2,
    "start_time": "2024-04-16T13:46:21.812Z"
   },
   {
    "duration": 1043,
    "start_time": "2024-04-16T13:46:21.816Z"
   },
   {
    "duration": 17,
    "start_time": "2024-04-16T13:46:22.861Z"
   },
   {
    "duration": 4,
    "start_time": "2024-04-16T13:46:22.880Z"
   },
   {
    "duration": 183,
    "start_time": "2024-04-16T13:46:22.885Z"
   },
   {
    "duration": 553,
    "start_time": "2024-04-16T13:46:23.070Z"
   },
   {
    "duration": 569,
    "start_time": "2024-04-16T13:46:23.628Z"
   },
   {
    "duration": 297,
    "start_time": "2024-04-16T13:46:24.199Z"
   },
   {
    "duration": 35,
    "start_time": "2024-04-16T13:46:24.497Z"
   },
   {
    "duration": 22,
    "start_time": "2024-04-16T13:46:24.533Z"
   },
   {
    "duration": 369,
    "start_time": "2024-04-16T13:46:24.556Z"
   },
   {
    "duration": 303,
    "start_time": "2024-04-16T13:46:24.929Z"
   },
   {
    "duration": 64,
    "start_time": "2024-04-16T13:46:25.236Z"
   },
   {
    "duration": 45,
    "start_time": "2024-04-16T13:46:25.303Z"
   },
   {
    "duration": 24,
    "start_time": "2024-04-16T13:46:25.350Z"
   },
   {
    "duration": 35,
    "start_time": "2024-04-16T13:46:25.376Z"
   },
   {
    "duration": 29,
    "start_time": "2024-04-16T13:46:25.412Z"
   },
   {
    "duration": 31,
    "start_time": "2024-04-16T13:46:25.443Z"
   },
   {
    "duration": 106,
    "start_time": "2024-04-16T13:46:25.476Z"
   },
   {
    "duration": 106,
    "start_time": "2024-04-16T13:46:25.584Z"
   },
   {
    "duration": 3,
    "start_time": "2024-04-16T13:46:25.692Z"
   },
   {
    "duration": 19,
    "start_time": "2024-04-16T13:46:25.696Z"
   },
   {
    "duration": 2375,
    "start_time": "2024-04-16T13:46:25.717Z"
   },
   {
    "duration": 81388,
    "start_time": "2024-04-16T13:46:28.094Z"
   },
   {
    "duration": 20,
    "start_time": "2024-04-16T13:47:49.484Z"
   },
   {
    "duration": 43,
    "start_time": "2024-04-16T13:47:49.505Z"
   },
   {
    "duration": 62,
    "start_time": "2024-04-16T13:47:49.550Z"
   },
   {
    "duration": 102,
    "start_time": "2024-04-16T13:47:49.613Z"
   },
   {
    "duration": 1909,
    "start_time": "2024-04-16T13:47:49.716Z"
   },
   {
    "duration": 31718,
    "start_time": "2024-04-16T13:47:51.626Z"
   },
   {
    "duration": 48,
    "start_time": "2024-04-16T13:48:23.346Z"
   },
   {
    "duration": 0,
    "start_time": "2024-04-16T13:48:23.397Z"
   },
   {
    "duration": 0,
    "start_time": "2024-04-16T13:48:23.398Z"
   },
   {
    "duration": 0,
    "start_time": "2024-04-16T13:48:23.398Z"
   },
   {
    "duration": 0,
    "start_time": "2024-04-16T13:48:23.400Z"
   },
   {
    "duration": 0,
    "start_time": "2024-04-16T13:48:23.401Z"
   },
   {
    "duration": 0,
    "start_time": "2024-04-16T13:48:23.402Z"
   },
   {
    "duration": 0,
    "start_time": "2024-04-16T13:48:23.403Z"
   },
   {
    "duration": 0,
    "start_time": "2024-04-16T13:48:23.404Z"
   },
   {
    "duration": 0,
    "start_time": "2024-04-16T13:48:23.405Z"
   },
   {
    "duration": 0,
    "start_time": "2024-04-16T13:48:23.407Z"
   },
   {
    "duration": 0,
    "start_time": "2024-04-16T13:48:23.407Z"
   },
   {
    "duration": 0,
    "start_time": "2024-04-16T13:48:23.408Z"
   },
   {
    "duration": 1,
    "start_time": "2024-04-16T13:48:23.409Z"
   },
   {
    "duration": 0,
    "start_time": "2024-04-16T13:48:23.411Z"
   },
   {
    "duration": 0,
    "start_time": "2024-04-16T13:48:23.412Z"
   },
   {
    "duration": 0,
    "start_time": "2024-04-16T13:48:23.413Z"
   },
   {
    "duration": 0,
    "start_time": "2024-04-16T13:48:23.414Z"
   },
   {
    "duration": 0,
    "start_time": "2024-04-16T13:48:23.416Z"
   },
   {
    "duration": 0,
    "start_time": "2024-04-16T13:48:23.417Z"
   },
   {
    "duration": 0,
    "start_time": "2024-04-16T13:48:23.418Z"
   },
   {
    "duration": 0,
    "start_time": "2024-04-16T13:48:23.419Z"
   },
   {
    "duration": 0,
    "start_time": "2024-04-16T13:48:23.420Z"
   },
   {
    "duration": 0,
    "start_time": "2024-04-16T13:48:23.421Z"
   },
   {
    "duration": 0,
    "start_time": "2024-04-16T13:48:23.422Z"
   },
   {
    "duration": 0,
    "start_time": "2024-04-16T13:48:23.423Z"
   },
   {
    "duration": 0,
    "start_time": "2024-04-16T13:48:23.424Z"
   },
   {
    "duration": 0,
    "start_time": "2024-04-16T13:48:23.425Z"
   },
   {
    "duration": 10,
    "start_time": "2024-04-16T13:48:43.892Z"
   },
   {
    "duration": 28,
    "start_time": "2024-04-16T13:48:45.837Z"
   },
   {
    "duration": 2360,
    "start_time": "2024-04-16T13:48:49.707Z"
   },
   {
    "duration": 3430,
    "start_time": "2024-04-16T13:48:56.172Z"
   },
   {
    "duration": 5,
    "start_time": "2024-04-16T13:49:04.631Z"
   },
   {
    "duration": 175,
    "start_time": "2024-04-16T13:49:06.862Z"
   },
   {
    "duration": 12,
    "start_time": "2024-04-16T13:49:12.052Z"
   },
   {
    "duration": 78,
    "start_time": "2024-04-16T13:49:13.845Z"
   },
   {
    "duration": 4,
    "start_time": "2024-04-16T13:49:15.660Z"
   },
   {
    "duration": 3,
    "start_time": "2024-04-16T13:49:17.166Z"
   },
   {
    "duration": 26,
    "start_time": "2024-04-16T13:49:18.483Z"
   },
   {
    "duration": 1587,
    "start_time": "2024-04-16T13:49:19.771Z"
   },
   {
    "duration": 2604,
    "start_time": "2024-04-16T13:49:22.964Z"
   },
   {
    "duration": 36,
    "start_time": "2024-04-16T13:49:34.308Z"
   },
   {
    "duration": 6,
    "start_time": "2024-04-16T15:47:28.227Z"
   },
   {
    "duration": 2,
    "start_time": "2024-04-16T15:47:30.587Z"
   },
   {
    "duration": 842,
    "start_time": "2024-04-16T15:47:33.866Z"
   },
   {
    "duration": 13,
    "start_time": "2024-04-16T15:47:43.162Z"
   },
   {
    "duration": 4,
    "start_time": "2024-04-16T15:47:45.658Z"
   },
   {
    "duration": 153,
    "start_time": "2024-04-16T15:47:46.819Z"
   },
   {
    "duration": 487,
    "start_time": "2024-04-16T15:47:51.291Z"
   },
   {
    "duration": 478,
    "start_time": "2024-04-16T15:47:54.519Z"
   },
   {
    "duration": 290,
    "start_time": "2024-04-16T15:48:25.591Z"
   },
   {
    "duration": 29,
    "start_time": "2024-04-16T15:48:27.180Z"
   },
   {
    "duration": 23,
    "start_time": "2024-04-16T15:48:32.292Z"
   },
   {
    "duration": 362,
    "start_time": "2024-04-16T15:48:34.636Z"
   },
   {
    "duration": 268,
    "start_time": "2024-04-16T15:48:40.707Z"
   },
   {
    "duration": 21,
    "start_time": "2024-04-16T15:54:22.146Z"
   },
   {
    "duration": 265,
    "start_time": "2024-04-16T15:54:26.234Z"
   },
   {
    "duration": 13,
    "start_time": "2024-04-16T15:54:46.250Z"
   },
   {
    "duration": 24,
    "start_time": "2024-04-16T15:55:20.906Z"
   },
   {
    "duration": 42,
    "start_time": "2024-04-16T15:59:11.077Z"
   },
   {
    "duration": 22,
    "start_time": "2024-04-16T15:59:27.374Z"
   },
   {
    "duration": 23,
    "start_time": "2024-04-16T15:59:28.445Z"
   },
   {
    "duration": 28,
    "start_time": "2024-04-16T15:59:29.469Z"
   },
   {
    "duration": 24,
    "start_time": "2024-04-16T15:59:30.689Z"
   },
   {
    "duration": 24,
    "start_time": "2024-04-16T15:59:31.678Z"
   },
   {
    "duration": 19,
    "start_time": "2024-04-16T18:23:03.387Z"
   },
   {
    "duration": 14,
    "start_time": "2024-04-16T18:23:09.489Z"
   },
   {
    "duration": 14,
    "start_time": "2024-04-16T18:23:13.673Z"
   },
   {
    "duration": 13,
    "start_time": "2024-04-16T18:23:17.170Z"
   },
   {
    "duration": 13,
    "start_time": "2024-04-16T18:23:20.897Z"
   },
   {
    "duration": 13,
    "start_time": "2024-04-16T18:23:26.309Z"
   },
   {
    "duration": 1556,
    "start_time": "2024-04-16T18:24:29.825Z"
   },
   {
    "duration": 3,
    "start_time": "2024-04-16T18:24:31.384Z"
   },
   {
    "duration": 1129,
    "start_time": "2024-04-16T18:24:31.388Z"
   },
   {
    "duration": 20,
    "start_time": "2024-04-16T18:24:32.518Z"
   },
   {
    "duration": 31,
    "start_time": "2024-04-16T18:24:32.541Z"
   },
   {
    "duration": 153,
    "start_time": "2024-04-16T18:24:32.573Z"
   },
   {
    "duration": 524,
    "start_time": "2024-04-16T18:24:32.727Z"
   },
   {
    "duration": 545,
    "start_time": "2024-04-16T18:24:33.252Z"
   },
   {
    "duration": 297,
    "start_time": "2024-04-16T18:24:33.799Z"
   },
   {
    "duration": 47,
    "start_time": "2024-04-16T18:24:34.098Z"
   },
   {
    "duration": 103,
    "start_time": "2024-04-16T18:24:34.147Z"
   },
   {
    "duration": 407,
    "start_time": "2024-04-16T18:24:34.252Z"
   },
   {
    "duration": 306,
    "start_time": "2024-04-16T18:24:34.661Z"
   },
   {
    "duration": 32,
    "start_time": "2024-04-16T18:24:34.971Z"
   },
   {
    "duration": 62,
    "start_time": "2024-04-16T18:24:35.004Z"
   },
   {
    "duration": 23,
    "start_time": "2024-04-16T18:24:35.067Z"
   },
   {
    "duration": 42,
    "start_time": "2024-04-16T18:24:35.092Z"
   },
   {
    "duration": 39,
    "start_time": "2024-04-16T18:24:35.136Z"
   },
   {
    "duration": 24,
    "start_time": "2024-04-16T18:24:35.177Z"
   },
   {
    "duration": 30,
    "start_time": "2024-04-16T18:24:35.203Z"
   },
   {
    "duration": 44,
    "start_time": "2024-04-16T18:24:35.235Z"
   },
   {
    "duration": 0,
    "start_time": "2024-04-16T18:24:35.281Z"
   },
   {
    "duration": 0,
    "start_time": "2024-04-16T18:24:35.282Z"
   },
   {
    "duration": 0,
    "start_time": "2024-04-16T18:24:35.284Z"
   },
   {
    "duration": 0,
    "start_time": "2024-04-16T18:24:35.285Z"
   },
   {
    "duration": 0,
    "start_time": "2024-04-16T18:24:35.286Z"
   },
   {
    "duration": 0,
    "start_time": "2024-04-16T18:24:35.287Z"
   },
   {
    "duration": 0,
    "start_time": "2024-04-16T18:24:35.288Z"
   },
   {
    "duration": 0,
    "start_time": "2024-04-16T18:24:35.289Z"
   },
   {
    "duration": 0,
    "start_time": "2024-04-16T18:24:35.290Z"
   },
   {
    "duration": 0,
    "start_time": "2024-04-16T18:24:35.292Z"
   },
   {
    "duration": 0,
    "start_time": "2024-04-16T18:24:35.293Z"
   },
   {
    "duration": 0,
    "start_time": "2024-04-16T18:24:35.294Z"
   },
   {
    "duration": 0,
    "start_time": "2024-04-16T18:24:35.294Z"
   },
   {
    "duration": 0,
    "start_time": "2024-04-16T18:24:35.295Z"
   },
   {
    "duration": 0,
    "start_time": "2024-04-16T18:24:35.296Z"
   },
   {
    "duration": 0,
    "start_time": "2024-04-16T18:24:35.297Z"
   },
   {
    "duration": 0,
    "start_time": "2024-04-16T18:24:35.298Z"
   },
   {
    "duration": 0,
    "start_time": "2024-04-16T18:24:35.300Z"
   },
   {
    "duration": 0,
    "start_time": "2024-04-16T18:24:35.301Z"
   },
   {
    "duration": 0,
    "start_time": "2024-04-16T18:24:35.302Z"
   },
   {
    "duration": 0,
    "start_time": "2024-04-16T18:24:35.303Z"
   },
   {
    "duration": 0,
    "start_time": "2024-04-16T18:24:35.304Z"
   },
   {
    "duration": 0,
    "start_time": "2024-04-16T18:24:35.305Z"
   },
   {
    "duration": 0,
    "start_time": "2024-04-16T18:24:35.306Z"
   },
   {
    "duration": 0,
    "start_time": "2024-04-16T18:24:35.307Z"
   },
   {
    "duration": 0,
    "start_time": "2024-04-16T18:24:35.308Z"
   },
   {
    "duration": 0,
    "start_time": "2024-04-16T18:24:35.309Z"
   },
   {
    "duration": 0,
    "start_time": "2024-04-16T18:24:35.311Z"
   },
   {
    "duration": 0,
    "start_time": "2024-04-16T18:24:35.312Z"
   },
   {
    "duration": 0,
    "start_time": "2024-04-16T18:24:35.313Z"
   },
   {
    "duration": 0,
    "start_time": "2024-04-16T18:24:35.314Z"
   },
   {
    "duration": 0,
    "start_time": "2024-04-16T18:24:35.329Z"
   },
   {
    "duration": 0,
    "start_time": "2024-04-16T18:24:35.330Z"
   },
   {
    "duration": 0,
    "start_time": "2024-04-16T18:24:35.332Z"
   },
   {
    "duration": 0,
    "start_time": "2024-04-16T18:24:35.333Z"
   },
   {
    "duration": 0,
    "start_time": "2024-04-16T18:24:35.335Z"
   },
   {
    "duration": 0,
    "start_time": "2024-04-16T18:24:35.336Z"
   },
   {
    "duration": 0,
    "start_time": "2024-04-16T18:24:35.337Z"
   },
   {
    "duration": 0,
    "start_time": "2024-04-16T18:24:35.338Z"
   },
   {
    "duration": 0,
    "start_time": "2024-04-16T18:24:35.340Z"
   },
   {
    "duration": 0,
    "start_time": "2024-04-16T18:24:35.341Z"
   },
   {
    "duration": 0,
    "start_time": "2024-04-16T18:24:35.342Z"
   },
   {
    "duration": 15,
    "start_time": "2024-04-16T18:25:27.747Z"
   },
   {
    "duration": 5,
    "start_time": "2024-04-16T18:26:45.592Z"
   },
   {
    "duration": 101,
    "start_time": "2024-04-16T18:29:35.535Z"
   },
   {
    "duration": 1491,
    "start_time": "2024-04-16T18:29:55.825Z"
   },
   {
    "duration": 2,
    "start_time": "2024-04-16T18:29:57.318Z"
   },
   {
    "duration": 968,
    "start_time": "2024-04-16T18:29:57.321Z"
   },
   {
    "duration": 18,
    "start_time": "2024-04-16T18:29:58.291Z"
   },
   {
    "duration": 17,
    "start_time": "2024-04-16T18:29:58.312Z"
   },
   {
    "duration": 169,
    "start_time": "2024-04-16T18:29:58.331Z"
   },
   {
    "duration": 473,
    "start_time": "2024-04-16T18:29:58.502Z"
   },
   {
    "duration": 1091,
    "start_time": "2024-04-16T18:29:58.977Z"
   },
   {
    "duration": 611,
    "start_time": "2024-04-16T18:30:00.070Z"
   },
   {
    "duration": 85,
    "start_time": "2024-04-16T18:30:00.683Z"
   },
   {
    "duration": 621,
    "start_time": "2024-04-16T18:30:00.771Z"
   },
   {
    "duration": 691,
    "start_time": "2024-04-16T18:30:01.394Z"
   },
   {
    "duration": 292,
    "start_time": "2024-04-16T18:30:02.086Z"
   },
   {
    "duration": 30,
    "start_time": "2024-04-16T18:30:02.381Z"
   },
   {
    "duration": 72,
    "start_time": "2024-04-16T18:30:02.413Z"
   },
   {
    "duration": 59,
    "start_time": "2024-04-16T18:30:02.487Z"
   },
   {
    "duration": 88,
    "start_time": "2024-04-16T18:30:02.548Z"
   },
   {
    "duration": 79,
    "start_time": "2024-04-16T18:30:02.638Z"
   },
   {
    "duration": 22,
    "start_time": "2024-04-16T18:30:02.718Z"
   },
   {
    "duration": 36,
    "start_time": "2024-04-16T18:30:02.742Z"
   },
   {
    "duration": 15,
    "start_time": "2024-04-16T18:30:02.780Z"
   },
   {
    "duration": 112,
    "start_time": "2024-04-16T18:30:02.796Z"
   },
   {
    "duration": 59,
    "start_time": "2024-04-16T18:30:02.910Z"
   },
   {
    "duration": 0,
    "start_time": "2024-04-16T18:30:02.971Z"
   },
   {
    "duration": 0,
    "start_time": "2024-04-16T18:30:02.972Z"
   },
   {
    "duration": 0,
    "start_time": "2024-04-16T18:30:02.973Z"
   },
   {
    "duration": 0,
    "start_time": "2024-04-16T18:30:02.974Z"
   },
   {
    "duration": 0,
    "start_time": "2024-04-16T18:30:02.975Z"
   },
   {
    "duration": 0,
    "start_time": "2024-04-16T18:30:02.976Z"
   },
   {
    "duration": 0,
    "start_time": "2024-04-16T18:30:02.977Z"
   },
   {
    "duration": 0,
    "start_time": "2024-04-16T18:30:02.978Z"
   },
   {
    "duration": 0,
    "start_time": "2024-04-16T18:30:02.979Z"
   },
   {
    "duration": 0,
    "start_time": "2024-04-16T18:30:02.981Z"
   },
   {
    "duration": 0,
    "start_time": "2024-04-16T18:30:02.982Z"
   },
   {
    "duration": 0,
    "start_time": "2024-04-16T18:30:02.983Z"
   },
   {
    "duration": 0,
    "start_time": "2024-04-16T18:30:02.984Z"
   },
   {
    "duration": 0,
    "start_time": "2024-04-16T18:30:02.985Z"
   },
   {
    "duration": 0,
    "start_time": "2024-04-16T18:30:02.987Z"
   },
   {
    "duration": 0,
    "start_time": "2024-04-16T18:30:02.988Z"
   },
   {
    "duration": 0,
    "start_time": "2024-04-16T18:30:02.990Z"
   },
   {
    "duration": 0,
    "start_time": "2024-04-16T18:30:02.991Z"
   },
   {
    "duration": 0,
    "start_time": "2024-04-16T18:30:02.992Z"
   },
   {
    "duration": 0,
    "start_time": "2024-04-16T18:30:02.994Z"
   },
   {
    "duration": 0,
    "start_time": "2024-04-16T18:30:02.995Z"
   },
   {
    "duration": 0,
    "start_time": "2024-04-16T18:30:02.996Z"
   },
   {
    "duration": 0,
    "start_time": "2024-04-16T18:30:02.998Z"
   },
   {
    "duration": 0,
    "start_time": "2024-04-16T18:30:02.999Z"
   },
   {
    "duration": 0,
    "start_time": "2024-04-16T18:30:03.000Z"
   },
   {
    "duration": 0,
    "start_time": "2024-04-16T18:30:03.002Z"
   },
   {
    "duration": 0,
    "start_time": "2024-04-16T18:30:03.003Z"
   },
   {
    "duration": 0,
    "start_time": "2024-04-16T18:30:03.005Z"
   },
   {
    "duration": 0,
    "start_time": "2024-04-16T18:30:03.006Z"
   },
   {
    "duration": 0,
    "start_time": "2024-04-16T18:30:03.007Z"
   },
   {
    "duration": 0,
    "start_time": "2024-04-16T18:30:03.009Z"
   },
   {
    "duration": 0,
    "start_time": "2024-04-16T18:30:03.010Z"
   },
   {
    "duration": 0,
    "start_time": "2024-04-16T18:30:03.011Z"
   },
   {
    "duration": 0,
    "start_time": "2024-04-16T18:30:03.029Z"
   },
   {
    "duration": 0,
    "start_time": "2024-04-16T18:30:03.030Z"
   },
   {
    "duration": 0,
    "start_time": "2024-04-16T18:30:03.031Z"
   },
   {
    "duration": 0,
    "start_time": "2024-04-16T18:30:03.033Z"
   },
   {
    "duration": 1,
    "start_time": "2024-04-16T18:30:03.034Z"
   },
   {
    "duration": 0,
    "start_time": "2024-04-16T18:30:03.036Z"
   },
   {
    "duration": 0,
    "start_time": "2024-04-16T18:30:03.037Z"
   },
   {
    "duration": 0,
    "start_time": "2024-04-16T18:30:03.038Z"
   },
   {
    "duration": 15,
    "start_time": "2024-04-16T18:31:23.399Z"
   },
   {
    "duration": 14,
    "start_time": "2024-04-16T18:33:33.864Z"
   },
   {
    "duration": 2,
    "start_time": "2024-04-16T18:34:13.425Z"
   },
   {
    "duration": 43,
    "start_time": "2024-04-16T18:34:52.851Z"
   },
   {
    "duration": 3,
    "start_time": "2024-04-16T18:39:26.174Z"
   },
   {
    "duration": 5,
    "start_time": "2024-04-16T18:39:34.358Z"
   },
   {
    "duration": 2025,
    "start_time": "2024-04-16T18:39:38.189Z"
   },
   {
    "duration": 74509,
    "start_time": "2024-04-16T18:39:59.301Z"
   },
   {
    "duration": 14,
    "start_time": "2024-04-16T18:41:19.056Z"
   },
   {
    "duration": 29,
    "start_time": "2024-04-16T18:44:27.961Z"
   },
   {
    "duration": 8,
    "start_time": "2024-04-16T18:44:33.289Z"
   },
   {
    "duration": 22,
    "start_time": "2024-04-16T18:44:37.305Z"
   },
   {
    "duration": 9,
    "start_time": "2024-04-16T18:47:35.779Z"
   },
   {
    "duration": 12,
    "start_time": "2024-04-16T18:47:45.563Z"
   },
   {
    "duration": 914,
    "start_time": "2024-04-16T18:51:35.574Z"
   },
   {
    "duration": 1610,
    "start_time": "2024-04-16T18:51:50.248Z"
   },
   {
    "duration": 3,
    "start_time": "2024-04-16T18:51:51.860Z"
   },
   {
    "duration": 1187,
    "start_time": "2024-04-16T18:51:51.864Z"
   },
   {
    "duration": 18,
    "start_time": "2024-04-16T18:51:53.056Z"
   },
   {
    "duration": 29,
    "start_time": "2024-04-16T18:51:53.076Z"
   },
   {
    "duration": 126,
    "start_time": "2024-04-16T18:51:53.107Z"
   },
   {
    "duration": 0,
    "start_time": "2024-04-16T18:51:53.244Z"
   },
   {
    "duration": 0,
    "start_time": "2024-04-16T18:51:53.245Z"
   },
   {
    "duration": 0,
    "start_time": "2024-04-16T18:51:53.247Z"
   },
   {
    "duration": 0,
    "start_time": "2024-04-16T18:51:53.247Z"
   },
   {
    "duration": 0,
    "start_time": "2024-04-16T18:51:53.248Z"
   },
   {
    "duration": 0,
    "start_time": "2024-04-16T18:51:53.249Z"
   },
   {
    "duration": 0,
    "start_time": "2024-04-16T18:51:53.250Z"
   },
   {
    "duration": 0,
    "start_time": "2024-04-16T18:51:53.251Z"
   },
   {
    "duration": 0,
    "start_time": "2024-04-16T18:51:53.252Z"
   },
   {
    "duration": 0,
    "start_time": "2024-04-16T18:51:53.255Z"
   },
   {
    "duration": 0,
    "start_time": "2024-04-16T18:51:53.255Z"
   },
   {
    "duration": 0,
    "start_time": "2024-04-16T18:51:53.256Z"
   },
   {
    "duration": 0,
    "start_time": "2024-04-16T18:51:53.257Z"
   },
   {
    "duration": 0,
    "start_time": "2024-04-16T18:51:53.258Z"
   },
   {
    "duration": 0,
    "start_time": "2024-04-16T18:51:53.259Z"
   },
   {
    "duration": 0,
    "start_time": "2024-04-16T18:51:53.260Z"
   },
   {
    "duration": 0,
    "start_time": "2024-04-16T18:51:53.261Z"
   },
   {
    "duration": 0,
    "start_time": "2024-04-16T18:51:53.262Z"
   },
   {
    "duration": 0,
    "start_time": "2024-04-16T18:51:53.263Z"
   },
   {
    "duration": 0,
    "start_time": "2024-04-16T18:51:53.264Z"
   },
   {
    "duration": 0,
    "start_time": "2024-04-16T18:51:53.265Z"
   },
   {
    "duration": 0,
    "start_time": "2024-04-16T18:51:53.266Z"
   },
   {
    "duration": 0,
    "start_time": "2024-04-16T18:51:53.266Z"
   },
   {
    "duration": 0,
    "start_time": "2024-04-16T18:51:53.267Z"
   },
   {
    "duration": 0,
    "start_time": "2024-04-16T18:51:53.268Z"
   },
   {
    "duration": 0,
    "start_time": "2024-04-16T18:51:53.269Z"
   },
   {
    "duration": 0,
    "start_time": "2024-04-16T18:51:53.270Z"
   },
   {
    "duration": 0,
    "start_time": "2024-04-16T18:51:53.271Z"
   },
   {
    "duration": 0,
    "start_time": "2024-04-16T18:51:53.272Z"
   },
   {
    "duration": 0,
    "start_time": "2024-04-16T18:51:53.273Z"
   },
   {
    "duration": 0,
    "start_time": "2024-04-16T18:51:53.274Z"
   },
   {
    "duration": 0,
    "start_time": "2024-04-16T18:51:53.275Z"
   },
   {
    "duration": 0,
    "start_time": "2024-04-16T18:51:53.276Z"
   },
   {
    "duration": 0,
    "start_time": "2024-04-16T18:51:53.277Z"
   },
   {
    "duration": 0,
    "start_time": "2024-04-16T18:51:53.278Z"
   },
   {
    "duration": 0,
    "start_time": "2024-04-16T18:51:53.278Z"
   },
   {
    "duration": 0,
    "start_time": "2024-04-16T18:51:53.279Z"
   },
   {
    "duration": 0,
    "start_time": "2024-04-16T18:51:53.280Z"
   },
   {
    "duration": 0,
    "start_time": "2024-04-16T18:51:53.281Z"
   },
   {
    "duration": 0,
    "start_time": "2024-04-16T18:51:53.282Z"
   },
   {
    "duration": 0,
    "start_time": "2024-04-16T18:51:53.283Z"
   },
   {
    "duration": 0,
    "start_time": "2024-04-16T18:51:53.335Z"
   },
   {
    "duration": 0,
    "start_time": "2024-04-16T18:51:53.337Z"
   },
   {
    "duration": 0,
    "start_time": "2024-04-16T18:51:53.338Z"
   },
   {
    "duration": 0,
    "start_time": "2024-04-16T18:51:53.348Z"
   },
   {
    "duration": 0,
    "start_time": "2024-04-16T18:51:53.349Z"
   },
   {
    "duration": 0,
    "start_time": "2024-04-16T18:51:53.350Z"
   },
   {
    "duration": 0,
    "start_time": "2024-04-16T18:51:53.350Z"
   },
   {
    "duration": 0,
    "start_time": "2024-04-16T18:51:53.351Z"
   },
   {
    "duration": 0,
    "start_time": "2024-04-16T18:51:53.352Z"
   },
   {
    "duration": 0,
    "start_time": "2024-04-16T18:51:53.352Z"
   },
   {
    "duration": 0,
    "start_time": "2024-04-16T18:51:53.353Z"
   },
   {
    "duration": 0,
    "start_time": "2024-04-16T18:51:53.353Z"
   },
   {
    "duration": 0,
    "start_time": "2024-04-16T18:51:53.354Z"
   },
   {
    "duration": 0,
    "start_time": "2024-04-16T18:51:53.355Z"
   },
   {
    "duration": 0,
    "start_time": "2024-04-16T18:51:53.355Z"
   },
   {
    "duration": 0,
    "start_time": "2024-04-16T18:51:53.356Z"
   },
   {
    "duration": 0,
    "start_time": "2024-04-16T18:51:53.356Z"
   },
   {
    "duration": 30,
    "start_time": "2024-04-16T18:52:13.269Z"
   },
   {
    "duration": 53,
    "start_time": "2024-04-16T18:52:21.726Z"
   },
   {
    "duration": 58,
    "start_time": "2024-04-16T18:52:30.512Z"
   },
   {
    "duration": 1506,
    "start_time": "2024-04-16T18:53:13.178Z"
   },
   {
    "duration": 3,
    "start_time": "2024-04-16T18:53:14.686Z"
   },
   {
    "duration": 1027,
    "start_time": "2024-04-16T18:53:14.690Z"
   },
   {
    "duration": 28,
    "start_time": "2024-04-16T18:53:15.718Z"
   },
   {
    "duration": 47,
    "start_time": "2024-04-16T18:53:15.748Z"
   },
   {
    "duration": 20,
    "start_time": "2024-04-16T18:53:15.796Z"
   },
   {
    "duration": 195,
    "start_time": "2024-04-16T18:53:15.818Z"
   },
   {
    "duration": 529,
    "start_time": "2024-04-16T18:53:16.014Z"
   },
   {
    "duration": 560,
    "start_time": "2024-04-16T18:53:16.545Z"
   },
   {
    "duration": 369,
    "start_time": "2024-04-16T18:53:17.107Z"
   },
   {
    "duration": 30,
    "start_time": "2024-04-16T18:53:17.478Z"
   },
   {
    "duration": 35,
    "start_time": "2024-04-16T18:53:17.510Z"
   },
   {
    "duration": 361,
    "start_time": "2024-04-16T18:53:17.547Z"
   },
   {
    "duration": 287,
    "start_time": "2024-04-16T18:53:17.911Z"
   },
   {
    "duration": 40,
    "start_time": "2024-04-16T18:53:18.200Z"
   },
   {
    "duration": 39,
    "start_time": "2024-04-16T18:53:18.243Z"
   },
   {
    "duration": 33,
    "start_time": "2024-04-16T18:53:18.284Z"
   },
   {
    "duration": 31,
    "start_time": "2024-04-16T18:53:18.318Z"
   },
   {
    "duration": 50,
    "start_time": "2024-04-16T18:53:18.351Z"
   },
   {
    "duration": 47,
    "start_time": "2024-04-16T18:53:18.403Z"
   },
   {
    "duration": 26,
    "start_time": "2024-04-16T18:53:18.452Z"
   },
   {
    "duration": 7,
    "start_time": "2024-04-16T18:53:18.480Z"
   },
   {
    "duration": 19,
    "start_time": "2024-04-16T18:53:18.489Z"
   },
   {
    "duration": 7,
    "start_time": "2024-04-16T18:53:18.510Z"
   },
   {
    "duration": 2562,
    "start_time": "2024-04-16T18:53:18.518Z"
   },
   {
    "duration": 82065,
    "start_time": "2024-04-16T18:53:21.081Z"
   },
   {
    "duration": 14,
    "start_time": "2024-04-16T18:54:43.148Z"
   },
   {
    "duration": 53,
    "start_time": "2024-04-16T18:54:43.163Z"
   },
   {
    "duration": 9,
    "start_time": "2024-04-16T18:54:43.218Z"
   },
   {
    "duration": 13,
    "start_time": "2024-04-16T18:54:43.229Z"
   },
   {
    "duration": 54,
    "start_time": "2024-04-16T18:54:43.243Z"
   },
   {
    "duration": 0,
    "start_time": "2024-04-16T18:54:43.299Z"
   },
   {
    "duration": 0,
    "start_time": "2024-04-16T18:54:43.301Z"
   },
   {
    "duration": 0,
    "start_time": "2024-04-16T18:54:43.302Z"
   },
   {
    "duration": 0,
    "start_time": "2024-04-16T18:54:43.303Z"
   },
   {
    "duration": 0,
    "start_time": "2024-04-16T18:54:43.304Z"
   },
   {
    "duration": 0,
    "start_time": "2024-04-16T18:54:43.305Z"
   },
   {
    "duration": 0,
    "start_time": "2024-04-16T18:54:43.306Z"
   },
   {
    "duration": 0,
    "start_time": "2024-04-16T18:54:43.307Z"
   },
   {
    "duration": 0,
    "start_time": "2024-04-16T18:54:43.308Z"
   },
   {
    "duration": 0,
    "start_time": "2024-04-16T18:54:43.309Z"
   },
   {
    "duration": 0,
    "start_time": "2024-04-16T18:54:43.310Z"
   },
   {
    "duration": 0,
    "start_time": "2024-04-16T18:54:43.311Z"
   },
   {
    "duration": 0,
    "start_time": "2024-04-16T18:54:43.312Z"
   },
   {
    "duration": 0,
    "start_time": "2024-04-16T18:54:43.313Z"
   },
   {
    "duration": 0,
    "start_time": "2024-04-16T18:54:43.314Z"
   },
   {
    "duration": 0,
    "start_time": "2024-04-16T18:54:43.315Z"
   },
   {
    "duration": 0,
    "start_time": "2024-04-16T18:54:43.316Z"
   },
   {
    "duration": 0,
    "start_time": "2024-04-16T18:54:43.317Z"
   },
   {
    "duration": 0,
    "start_time": "2024-04-16T18:54:43.319Z"
   },
   {
    "duration": 0,
    "start_time": "2024-04-16T18:54:43.320Z"
   },
   {
    "duration": 0,
    "start_time": "2024-04-16T18:54:43.321Z"
   },
   {
    "duration": 0,
    "start_time": "2024-04-16T18:54:43.322Z"
   },
   {
    "duration": 0,
    "start_time": "2024-04-16T18:54:43.323Z"
   },
   {
    "duration": 0,
    "start_time": "2024-04-16T18:54:43.335Z"
   },
   {
    "duration": 0,
    "start_time": "2024-04-16T18:54:43.336Z"
   },
   {
    "duration": 0,
    "start_time": "2024-04-16T18:54:43.336Z"
   },
   {
    "duration": 0,
    "start_time": "2024-04-16T18:54:43.343Z"
   },
   {
    "duration": 0,
    "start_time": "2024-04-16T18:54:43.344Z"
   },
   {
    "duration": 0,
    "start_time": "2024-04-16T18:54:43.344Z"
   },
   {
    "duration": 0,
    "start_time": "2024-04-16T18:54:43.345Z"
   },
   {
    "duration": 0,
    "start_time": "2024-04-16T18:54:43.347Z"
   },
   {
    "duration": 0,
    "start_time": "2024-04-16T18:54:43.348Z"
   },
   {
    "duration": 0,
    "start_time": "2024-04-16T18:54:43.349Z"
   },
   {
    "duration": 47,
    "start_time": "2024-04-16T18:55:41.171Z"
   },
   {
    "duration": 1540,
    "start_time": "2024-04-16T18:56:52.898Z"
   },
   {
    "duration": 23223,
    "start_time": "2024-04-16T18:57:04.852Z"
   },
   {
    "duration": 12,
    "start_time": "2024-04-16T18:58:09.764Z"
   },
   {
    "duration": 19,
    "start_time": "2024-04-16T18:58:18.627Z"
   },
   {
    "duration": 8,
    "start_time": "2024-04-16T18:58:19.778Z"
   },
   {
    "duration": 19,
    "start_time": "2024-04-16T18:58:21.675Z"
   },
   {
    "duration": 2000,
    "start_time": "2024-04-16T18:58:32.612Z"
   },
   {
    "duration": 1938,
    "start_time": "2024-04-16T18:58:36.572Z"
   },
   {
    "duration": 2,
    "start_time": "2024-04-16T18:58:49.148Z"
   },
   {
    "duration": 2554,
    "start_time": "2024-04-16T18:59:18.475Z"
   },
   {
    "duration": 135,
    "start_time": "2024-04-16T18:59:25.147Z"
   },
   {
    "duration": 112,
    "start_time": "2024-04-16T19:10:18.310Z"
   },
   {
    "duration": 11,
    "start_time": "2024-04-16T19:10:59.725Z"
   },
   {
    "duration": 10,
    "start_time": "2024-04-16T19:11:09.893Z"
   },
   {
    "duration": 9,
    "start_time": "2024-04-16T19:12:39.184Z"
   },
   {
    "duration": 3530,
    "start_time": "2024-04-16T19:14:08.225Z"
   },
   {
    "duration": 41,
    "start_time": "2024-04-16T19:14:19.466Z"
   },
   {
    "duration": 4179,
    "start_time": "2024-04-16T19:14:26.401Z"
   },
   {
    "duration": 5145,
    "start_time": "2024-04-16T19:15:02.344Z"
   },
   {
    "duration": 4694,
    "start_time": "2024-04-16T19:22:18.496Z"
   },
   {
    "duration": 18,
    "start_time": "2024-04-16T19:32:04.439Z"
   },
   {
    "duration": 3163,
    "start_time": "2024-04-16T19:32:07.095Z"
   },
   {
    "duration": 5,
    "start_time": "2024-04-16T19:32:47.648Z"
   },
   {
    "duration": 3462,
    "start_time": "2024-04-16T19:33:04.176Z"
   },
   {
    "duration": 12,
    "start_time": "2024-04-16T19:41:05.564Z"
   },
   {
    "duration": 103,
    "start_time": "2024-04-16T19:43:33.390Z"
   },
   {
    "duration": 65,
    "start_time": "2024-04-16T19:46:10.367Z"
   },
   {
    "duration": 6,
    "start_time": "2024-04-16T19:48:45.116Z"
   },
   {
    "duration": 5,
    "start_time": "2024-04-16T19:49:09.912Z"
   },
   {
    "duration": 51,
    "start_time": "2024-04-16T19:49:49.563Z"
   },
   {
    "duration": 2,
    "start_time": "2024-04-16T19:50:45.619Z"
   },
   {
    "duration": 13,
    "start_time": "2024-04-16T19:53:16.166Z"
   },
   {
    "duration": 118,
    "start_time": "2024-04-16T19:53:41.947Z"
   },
   {
    "duration": 49,
    "start_time": "2024-04-16T19:53:45.987Z"
   },
   {
    "duration": 4,
    "start_time": "2024-04-16T19:53:47.228Z"
   },
   {
    "duration": 17,
    "start_time": "2024-04-16T19:54:53.900Z"
   },
   {
    "duration": 4,
    "start_time": "2024-04-16T19:55:06.125Z"
   },
   {
    "duration": 1512,
    "start_time": "2024-04-17T07:31:45.486Z"
   },
   {
    "duration": 0,
    "start_time": "2024-04-17T07:31:47.002Z"
   },
   {
    "duration": 0,
    "start_time": "2024-04-17T07:31:47.004Z"
   },
   {
    "duration": 0,
    "start_time": "2024-04-17T07:31:47.005Z"
   },
   {
    "duration": 0,
    "start_time": "2024-04-17T07:31:47.006Z"
   },
   {
    "duration": 0,
    "start_time": "2024-04-17T07:31:47.008Z"
   },
   {
    "duration": 0,
    "start_time": "2024-04-17T07:31:47.009Z"
   },
   {
    "duration": 0,
    "start_time": "2024-04-17T07:31:47.010Z"
   },
   {
    "duration": 0,
    "start_time": "2024-04-17T07:31:47.011Z"
   },
   {
    "duration": 0,
    "start_time": "2024-04-17T07:31:47.012Z"
   },
   {
    "duration": 0,
    "start_time": "2024-04-17T07:31:47.014Z"
   },
   {
    "duration": 0,
    "start_time": "2024-04-17T07:31:47.016Z"
   },
   {
    "duration": 0,
    "start_time": "2024-04-17T07:31:47.017Z"
   },
   {
    "duration": 0,
    "start_time": "2024-04-17T07:31:47.018Z"
   },
   {
    "duration": 0,
    "start_time": "2024-04-17T07:31:47.019Z"
   },
   {
    "duration": 0,
    "start_time": "2024-04-17T07:31:47.020Z"
   },
   {
    "duration": 0,
    "start_time": "2024-04-17T07:31:47.021Z"
   },
   {
    "duration": 0,
    "start_time": "2024-04-17T07:31:47.022Z"
   },
   {
    "duration": 0,
    "start_time": "2024-04-17T07:31:47.024Z"
   },
   {
    "duration": 0,
    "start_time": "2024-04-17T07:31:47.024Z"
   },
   {
    "duration": 0,
    "start_time": "2024-04-17T07:31:47.026Z"
   },
   {
    "duration": 0,
    "start_time": "2024-04-17T07:31:47.026Z"
   },
   {
    "duration": 0,
    "start_time": "2024-04-17T07:31:47.027Z"
   },
   {
    "duration": 0,
    "start_time": "2024-04-17T07:31:47.028Z"
   },
   {
    "duration": 0,
    "start_time": "2024-04-17T07:31:47.029Z"
   },
   {
    "duration": 0,
    "start_time": "2024-04-17T07:31:47.030Z"
   },
   {
    "duration": 0,
    "start_time": "2024-04-17T07:31:47.031Z"
   },
   {
    "duration": 0,
    "start_time": "2024-04-17T07:31:47.072Z"
   },
   {
    "duration": 0,
    "start_time": "2024-04-17T07:31:47.072Z"
   },
   {
    "duration": 0,
    "start_time": "2024-04-17T07:31:47.073Z"
   },
   {
    "duration": 0,
    "start_time": "2024-04-17T07:31:47.074Z"
   },
   {
    "duration": 0,
    "start_time": "2024-04-17T07:31:47.074Z"
   },
   {
    "duration": 0,
    "start_time": "2024-04-17T07:31:47.075Z"
   },
   {
    "duration": 0,
    "start_time": "2024-04-17T07:31:47.076Z"
   },
   {
    "duration": 0,
    "start_time": "2024-04-17T07:31:47.076Z"
   },
   {
    "duration": 0,
    "start_time": "2024-04-17T07:31:47.077Z"
   },
   {
    "duration": 0,
    "start_time": "2024-04-17T07:31:47.077Z"
   },
   {
    "duration": 0,
    "start_time": "2024-04-17T07:31:47.078Z"
   },
   {
    "duration": 0,
    "start_time": "2024-04-17T07:31:47.079Z"
   },
   {
    "duration": 0,
    "start_time": "2024-04-17T07:31:47.079Z"
   },
   {
    "duration": 0,
    "start_time": "2024-04-17T07:31:47.080Z"
   },
   {
    "duration": 0,
    "start_time": "2024-04-17T07:31:47.081Z"
   },
   {
    "duration": 0,
    "start_time": "2024-04-17T07:31:47.081Z"
   },
   {
    "duration": 0,
    "start_time": "2024-04-17T07:31:47.082Z"
   },
   {
    "duration": 0,
    "start_time": "2024-04-17T07:31:47.085Z"
   },
   {
    "duration": 0,
    "start_time": "2024-04-17T07:31:47.086Z"
   },
   {
    "duration": 0,
    "start_time": "2024-04-17T07:31:47.087Z"
   },
   {
    "duration": 0,
    "start_time": "2024-04-17T07:31:47.088Z"
   },
   {
    "duration": 0,
    "start_time": "2024-04-17T07:31:47.088Z"
   },
   {
    "duration": 0,
    "start_time": "2024-04-17T07:31:47.089Z"
   },
   {
    "duration": 0,
    "start_time": "2024-04-17T07:31:47.090Z"
   },
   {
    "duration": 0,
    "start_time": "2024-04-17T07:31:47.091Z"
   },
   {
    "duration": 0,
    "start_time": "2024-04-17T07:31:47.092Z"
   },
   {
    "duration": 0,
    "start_time": "2024-04-17T07:31:47.093Z"
   },
   {
    "duration": 0,
    "start_time": "2024-04-17T07:31:47.094Z"
   },
   {
    "duration": 0,
    "start_time": "2024-04-17T07:31:47.095Z"
   },
   {
    "duration": 0,
    "start_time": "2024-04-17T07:31:47.096Z"
   },
   {
    "duration": 0,
    "start_time": "2024-04-17T07:31:47.097Z"
   },
   {
    "duration": 0,
    "start_time": "2024-04-17T07:31:47.097Z"
   },
   {
    "duration": 0,
    "start_time": "2024-04-17T07:31:47.098Z"
   },
   {
    "duration": 0,
    "start_time": "2024-04-17T07:31:47.099Z"
   },
   {
    "duration": 0,
    "start_time": "2024-04-17T07:31:47.100Z"
   },
   {
    "duration": 0,
    "start_time": "2024-04-17T07:31:47.101Z"
   },
   {
    "duration": 0,
    "start_time": "2024-04-17T07:31:47.102Z"
   },
   {
    "duration": 0,
    "start_time": "2024-04-17T07:31:47.103Z"
   },
   {
    "duration": 0,
    "start_time": "2024-04-17T07:31:47.104Z"
   },
   {
    "duration": 0,
    "start_time": "2024-04-17T07:31:47.106Z"
   },
   {
    "duration": 0,
    "start_time": "2024-04-17T07:31:47.107Z"
   },
   {
    "duration": 0,
    "start_time": "2024-04-17T07:31:47.109Z"
   },
   {
    "duration": 0,
    "start_time": "2024-04-17T07:31:47.109Z"
   },
   {
    "duration": 0,
    "start_time": "2024-04-17T07:31:47.110Z"
   },
   {
    "duration": 0,
    "start_time": "2024-04-17T07:31:47.111Z"
   },
   {
    "duration": 1230,
    "start_time": "2024-04-17T07:32:21.821Z"
   },
   {
    "duration": 0,
    "start_time": "2024-04-17T07:32:23.054Z"
   },
   {
    "duration": 0,
    "start_time": "2024-04-17T07:32:23.056Z"
   },
   {
    "duration": 0,
    "start_time": "2024-04-17T07:32:23.057Z"
   },
   {
    "duration": 0,
    "start_time": "2024-04-17T07:32:23.058Z"
   },
   {
    "duration": 0,
    "start_time": "2024-04-17T07:32:23.059Z"
   },
   {
    "duration": 0,
    "start_time": "2024-04-17T07:32:23.066Z"
   },
   {
    "duration": 0,
    "start_time": "2024-04-17T07:32:23.067Z"
   },
   {
    "duration": 0,
    "start_time": "2024-04-17T07:32:23.068Z"
   },
   {
    "duration": 0,
    "start_time": "2024-04-17T07:32:23.070Z"
   },
   {
    "duration": 0,
    "start_time": "2024-04-17T07:32:23.071Z"
   },
   {
    "duration": 0,
    "start_time": "2024-04-17T07:32:23.072Z"
   },
   {
    "duration": 0,
    "start_time": "2024-04-17T07:32:23.072Z"
   },
   {
    "duration": 0,
    "start_time": "2024-04-17T07:32:23.075Z"
   },
   {
    "duration": 0,
    "start_time": "2024-04-17T07:32:23.076Z"
   },
   {
    "duration": 0,
    "start_time": "2024-04-17T07:32:23.077Z"
   },
   {
    "duration": 0,
    "start_time": "2024-04-17T07:32:23.079Z"
   },
   {
    "duration": 0,
    "start_time": "2024-04-17T07:32:23.080Z"
   },
   {
    "duration": 0,
    "start_time": "2024-04-17T07:32:23.081Z"
   },
   {
    "duration": 0,
    "start_time": "2024-04-17T07:32:23.082Z"
   },
   {
    "duration": 0,
    "start_time": "2024-04-17T07:32:23.084Z"
   },
   {
    "duration": 0,
    "start_time": "2024-04-17T07:32:23.085Z"
   },
   {
    "duration": 0,
    "start_time": "2024-04-17T07:32:23.086Z"
   },
   {
    "duration": 0,
    "start_time": "2024-04-17T07:32:23.087Z"
   },
   {
    "duration": 0,
    "start_time": "2024-04-17T07:32:23.088Z"
   },
   {
    "duration": 0,
    "start_time": "2024-04-17T07:32:23.089Z"
   },
   {
    "duration": 0,
    "start_time": "2024-04-17T07:32:23.090Z"
   },
   {
    "duration": 0,
    "start_time": "2024-04-17T07:32:23.091Z"
   },
   {
    "duration": 0,
    "start_time": "2024-04-17T07:32:23.091Z"
   },
   {
    "duration": 0,
    "start_time": "2024-04-17T07:32:23.092Z"
   },
   {
    "duration": 0,
    "start_time": "2024-04-17T07:32:23.093Z"
   },
   {
    "duration": 0,
    "start_time": "2024-04-17T07:32:23.094Z"
   },
   {
    "duration": 0,
    "start_time": "2024-04-17T07:32:23.095Z"
   },
   {
    "duration": 0,
    "start_time": "2024-04-17T07:32:23.095Z"
   },
   {
    "duration": 0,
    "start_time": "2024-04-17T07:32:23.096Z"
   },
   {
    "duration": 0,
    "start_time": "2024-04-17T07:32:23.097Z"
   },
   {
    "duration": 0,
    "start_time": "2024-04-17T07:32:23.098Z"
   },
   {
    "duration": 0,
    "start_time": "2024-04-17T07:32:23.099Z"
   },
   {
    "duration": 0,
    "start_time": "2024-04-17T07:32:23.100Z"
   },
   {
    "duration": 0,
    "start_time": "2024-04-17T07:32:23.101Z"
   },
   {
    "duration": 0,
    "start_time": "2024-04-17T07:32:23.102Z"
   },
   {
    "duration": 0,
    "start_time": "2024-04-17T07:32:23.103Z"
   },
   {
    "duration": 0,
    "start_time": "2024-04-17T07:32:23.104Z"
   },
   {
    "duration": 0,
    "start_time": "2024-04-17T07:32:23.105Z"
   },
   {
    "duration": 0,
    "start_time": "2024-04-17T07:32:23.106Z"
   },
   {
    "duration": 0,
    "start_time": "2024-04-17T07:32:23.107Z"
   },
   {
    "duration": 0,
    "start_time": "2024-04-17T07:32:23.108Z"
   },
   {
    "duration": 0,
    "start_time": "2024-04-17T07:32:23.109Z"
   },
   {
    "duration": 0,
    "start_time": "2024-04-17T07:32:23.110Z"
   },
   {
    "duration": 0,
    "start_time": "2024-04-17T07:32:23.111Z"
   },
   {
    "duration": 0,
    "start_time": "2024-04-17T07:32:23.112Z"
   },
   {
    "duration": 0,
    "start_time": "2024-04-17T07:32:23.113Z"
   },
   {
    "duration": 0,
    "start_time": "2024-04-17T07:32:23.114Z"
   },
   {
    "duration": 0,
    "start_time": "2024-04-17T07:32:23.167Z"
   },
   {
    "duration": 0,
    "start_time": "2024-04-17T07:32:23.168Z"
   },
   {
    "duration": 0,
    "start_time": "2024-04-17T07:32:23.170Z"
   },
   {
    "duration": 0,
    "start_time": "2024-04-17T07:32:23.171Z"
   },
   {
    "duration": 0,
    "start_time": "2024-04-17T07:32:23.173Z"
   },
   {
    "duration": 0,
    "start_time": "2024-04-17T07:32:23.174Z"
   },
   {
    "duration": 0,
    "start_time": "2024-04-17T07:32:23.176Z"
   },
   {
    "duration": 0,
    "start_time": "2024-04-17T07:32:23.177Z"
   },
   {
    "duration": 0,
    "start_time": "2024-04-17T07:32:23.179Z"
   },
   {
    "duration": 0,
    "start_time": "2024-04-17T07:32:23.181Z"
   },
   {
    "duration": 0,
    "start_time": "2024-04-17T07:32:23.182Z"
   },
   {
    "duration": 0,
    "start_time": "2024-04-17T07:32:23.184Z"
   },
   {
    "duration": 0,
    "start_time": "2024-04-17T07:32:23.185Z"
   },
   {
    "duration": 0,
    "start_time": "2024-04-17T07:32:23.186Z"
   },
   {
    "duration": 0,
    "start_time": "2024-04-17T07:32:23.188Z"
   },
   {
    "duration": 0,
    "start_time": "2024-04-17T07:32:23.189Z"
   },
   {
    "duration": 0,
    "start_time": "2024-04-17T07:32:23.190Z"
   },
   {
    "duration": 0,
    "start_time": "2024-04-17T07:32:23.191Z"
   },
   {
    "duration": 0,
    "start_time": "2024-04-17T07:32:23.192Z"
   },
   {
    "duration": 834,
    "start_time": "2024-04-17T07:33:57.713Z"
   },
   {
    "duration": 1193,
    "start_time": "2024-04-17T07:34:07.877Z"
   },
   {
    "duration": 3416,
    "start_time": "2024-04-17T07:34:37.105Z"
   },
   {
    "duration": 323,
    "start_time": "2024-04-17T07:34:42.790Z"
   },
   {
    "duration": 3,
    "start_time": "2024-04-17T07:34:55.155Z"
   },
   {
    "duration": 7,
    "start_time": "2024-04-17T07:34:59.173Z"
   },
   {
    "duration": 1638,
    "start_time": "2024-04-17T07:34:59.185Z"
   },
   {
    "duration": 3,
    "start_time": "2024-04-17T07:35:00.824Z"
   },
   {
    "duration": 3166,
    "start_time": "2024-04-17T07:35:00.828Z"
   },
   {
    "duration": 17,
    "start_time": "2024-04-17T07:35:03.997Z"
   },
   {
    "duration": 33,
    "start_time": "2024-04-17T07:35:04.015Z"
   },
   {
    "duration": 41,
    "start_time": "2024-04-17T07:35:04.049Z"
   },
   {
    "duration": 180,
    "start_time": "2024-04-17T07:35:04.095Z"
   },
   {
    "duration": 491,
    "start_time": "2024-04-17T07:35:04.276Z"
   },
   {
    "duration": 562,
    "start_time": "2024-04-17T07:35:04.769Z"
   },
   {
    "duration": 368,
    "start_time": "2024-04-17T07:35:05.333Z"
   },
   {
    "duration": 29,
    "start_time": "2024-04-17T07:35:05.702Z"
   },
   {
    "duration": 52,
    "start_time": "2024-04-17T07:35:05.733Z"
   },
   {
    "duration": 393,
    "start_time": "2024-04-17T07:35:05.793Z"
   },
   {
    "duration": 316,
    "start_time": "2024-04-17T07:35:06.189Z"
   },
   {
    "duration": 27,
    "start_time": "2024-04-17T07:35:06.506Z"
   },
   {
    "duration": 55,
    "start_time": "2024-04-17T07:35:06.534Z"
   },
   {
    "duration": 31,
    "start_time": "2024-04-17T07:35:06.591Z"
   },
   {
    "duration": 21,
    "start_time": "2024-04-17T07:35:06.624Z"
   },
   {
    "duration": 37,
    "start_time": "2024-04-17T07:35:06.664Z"
   },
   {
    "duration": 20,
    "start_time": "2024-04-17T07:35:06.703Z"
   },
   {
    "duration": 43,
    "start_time": "2024-04-17T07:35:06.724Z"
   },
   {
    "duration": 6,
    "start_time": "2024-04-17T07:35:06.769Z"
   },
   {
    "duration": 6,
    "start_time": "2024-04-17T07:35:06.776Z"
   },
   {
    "duration": 5,
    "start_time": "2024-04-17T07:35:06.784Z"
   },
   {
    "duration": 2349,
    "start_time": "2024-04-17T07:35:06.793Z"
   },
   {
    "duration": 78865,
    "start_time": "2024-04-17T07:35:09.143Z"
   },
   {
    "duration": 14,
    "start_time": "2024-04-17T07:36:28.009Z"
   },
   {
    "duration": 43,
    "start_time": "2024-04-17T07:36:28.024Z"
   },
   {
    "duration": 16,
    "start_time": "2024-04-17T07:36:28.069Z"
   },
   {
    "duration": 14,
    "start_time": "2024-04-17T07:36:28.087Z"
   },
   {
    "duration": 43,
    "start_time": "2024-04-17T07:36:28.102Z"
   },
   {
    "duration": 1704,
    "start_time": "2024-04-17T07:36:28.146Z"
   },
   {
    "duration": 23028,
    "start_time": "2024-04-17T07:36:29.852Z"
   },
   {
    "duration": 14,
    "start_time": "2024-04-17T07:36:52.884Z"
   },
   {
    "duration": 24,
    "start_time": "2024-04-17T07:36:52.899Z"
   },
   {
    "duration": 8,
    "start_time": "2024-04-17T07:36:52.924Z"
   },
   {
    "duration": 18,
    "start_time": "2024-04-17T07:36:52.933Z"
   },
   {
    "duration": 1950,
    "start_time": "2024-04-17T07:36:52.952Z"
   },
   {
    "duration": 2001,
    "start_time": "2024-04-17T07:36:54.904Z"
   },
   {
    "duration": 3,
    "start_time": "2024-04-17T07:36:56.909Z"
   },
   {
    "duration": 2463,
    "start_time": "2024-04-17T07:36:56.913Z"
   },
   {
    "duration": 5142,
    "start_time": "2024-04-17T07:36:59.378Z"
   },
   {
    "duration": 13,
    "start_time": "2024-04-17T07:37:04.522Z"
   },
   {
    "duration": 3405,
    "start_time": "2024-04-17T07:37:04.537Z"
   },
   {
    "duration": 10,
    "start_time": "2024-04-17T07:37:07.944Z"
   },
   {
    "duration": 121,
    "start_time": "2024-04-17T07:37:07.970Z"
   },
   {
    "duration": 138,
    "start_time": "2024-04-17T07:37:08.096Z"
   },
   {
    "duration": 1138,
    "start_time": "2024-04-17T07:37:08.236Z"
   },
   {
    "duration": 0,
    "start_time": "2024-04-17T07:37:09.377Z"
   },
   {
    "duration": 0,
    "start_time": "2024-04-17T07:37:09.379Z"
   },
   {
    "duration": 0,
    "start_time": "2024-04-17T07:37:09.380Z"
   },
   {
    "duration": 0,
    "start_time": "2024-04-17T07:37:09.381Z"
   },
   {
    "duration": 0,
    "start_time": "2024-04-17T07:37:09.384Z"
   },
   {
    "duration": 0,
    "start_time": "2024-04-17T07:37:09.385Z"
   },
   {
    "duration": 0,
    "start_time": "2024-04-17T07:37:09.386Z"
   },
   {
    "duration": 0,
    "start_time": "2024-04-17T07:37:09.387Z"
   },
   {
    "duration": 0,
    "start_time": "2024-04-17T07:37:09.388Z"
   },
   {
    "duration": 0,
    "start_time": "2024-04-17T07:37:09.389Z"
   },
   {
    "duration": 0,
    "start_time": "2024-04-17T07:37:09.392Z"
   },
   {
    "duration": 0,
    "start_time": "2024-04-17T07:37:09.393Z"
   },
   {
    "duration": 0,
    "start_time": "2024-04-17T07:37:09.395Z"
   },
   {
    "duration": 0,
    "start_time": "2024-04-17T07:37:09.396Z"
   },
   {
    "duration": 0,
    "start_time": "2024-04-17T07:37:09.397Z"
   },
   {
    "duration": 0,
    "start_time": "2024-04-17T07:37:09.399Z"
   },
   {
    "duration": 0,
    "start_time": "2024-04-17T07:37:09.400Z"
   },
   {
    "duration": 0,
    "start_time": "2024-04-17T07:37:09.401Z"
   },
   {
    "duration": 0,
    "start_time": "2024-04-17T07:37:09.402Z"
   },
   {
    "duration": 0,
    "start_time": "2024-04-17T07:37:09.404Z"
   },
   {
    "duration": 0,
    "start_time": "2024-04-17T07:37:09.405Z"
   },
   {
    "duration": 0,
    "start_time": "2024-04-17T07:37:09.406Z"
   },
   {
    "duration": 0,
    "start_time": "2024-04-17T07:37:09.407Z"
   },
   {
    "duration": 0,
    "start_time": "2024-04-17T07:37:09.408Z"
   },
   {
    "duration": 53,
    "start_time": "2024-04-17T07:41:57.055Z"
   },
   {
    "duration": 26,
    "start_time": "2024-04-17T07:43:14.169Z"
   },
   {
    "duration": 4,
    "start_time": "2024-04-17T07:44:47.705Z"
   },
   {
    "duration": 55,
    "start_time": "2024-04-17T07:46:36.442Z"
   },
   {
    "duration": 6,
    "start_time": "2024-04-17T07:46:50.620Z"
   },
   {
    "duration": 5,
    "start_time": "2024-04-17T07:46:51.796Z"
   },
   {
    "duration": 3,
    "start_time": "2024-04-17T07:46:53.308Z"
   },
   {
    "duration": 59,
    "start_time": "2024-04-17T07:48:59.349Z"
   },
   {
    "duration": 5,
    "start_time": "2024-04-17T08:03:10.133Z"
   },
   {
    "duration": 2,
    "start_time": "2024-04-17T08:03:15.407Z"
   },
   {
    "duration": 177,
    "start_time": "2024-04-17T08:12:30.613Z"
   },
   {
    "duration": 62,
    "start_time": "2024-04-17T08:13:38.417Z"
   },
   {
    "duration": 67,
    "start_time": "2024-04-17T08:13:51.421Z"
   },
   {
    "duration": 85,
    "start_time": "2024-04-17T08:19:03.535Z"
   },
   {
    "duration": 23,
    "start_time": "2024-04-17T08:19:19.097Z"
   },
   {
    "duration": 50,
    "start_time": "2024-04-17T08:20:40.107Z"
   },
   {
    "duration": 32,
    "start_time": "2024-04-17T08:20:57.066Z"
   },
   {
    "duration": 12,
    "start_time": "2024-04-17T08:20:59.314Z"
   },
   {
    "duration": 4,
    "start_time": "2024-04-17T08:21:00.659Z"
   },
   {
    "duration": 3,
    "start_time": "2024-04-17T08:21:10.644Z"
   },
   {
    "duration": 44,
    "start_time": "2024-04-17T08:23:13.133Z"
   },
   {
    "duration": 69,
    "start_time": "2024-04-17T08:23:22.427Z"
   },
   {
    "duration": 9,
    "start_time": "2024-04-17T08:25:35.798Z"
   },
   {
    "duration": 2482,
    "start_time": "2024-04-17T08:25:54.998Z"
   },
   {
    "duration": 43,
    "start_time": "2024-04-17T08:29:35.745Z"
   },
   {
    "duration": 3,
    "start_time": "2024-04-17T08:30:08.440Z"
   },
   {
    "duration": 3749,
    "start_time": "2024-04-17T08:30:09.329Z"
   },
   {
    "duration": 98,
    "start_time": "2024-04-17T08:30:13.084Z"
   },
   {
    "duration": 3,
    "start_time": "2024-04-17T08:30:22.883Z"
   },
   {
    "duration": 4104,
    "start_time": "2024-04-17T08:30:23.974Z"
   },
   {
    "duration": 99,
    "start_time": "2024-04-17T08:30:28.080Z"
   },
   {
    "duration": 37,
    "start_time": "2024-04-17T09:01:37.526Z"
   },
   {
    "duration": 35,
    "start_time": "2024-04-17T09:02:06.462Z"
   },
   {
    "duration": 3356,
    "start_time": "2024-04-17T09:02:19.776Z"
   },
   {
    "duration": 53,
    "start_time": "2024-04-17T09:04:33.008Z"
   },
   {
    "duration": 3,
    "start_time": "2024-04-17T09:04:40.904Z"
   },
   {
    "duration": 4,
    "start_time": "2024-04-17T09:04:47.816Z"
   },
   {
    "duration": 9,
    "start_time": "2024-04-17T09:05:39.593Z"
   },
   {
    "duration": 11,
    "start_time": "2024-04-17T09:06:38.641Z"
   },
   {
    "duration": 15,
    "start_time": "2024-04-17T09:06:43.309Z"
   },
   {
    "duration": 8,
    "start_time": "2024-04-17T09:06:46.937Z"
   },
   {
    "duration": 12,
    "start_time": "2024-04-17T09:07:03.562Z"
   },
   {
    "duration": 4,
    "start_time": "2024-04-17T09:07:11.137Z"
   },
   {
    "duration": 9,
    "start_time": "2024-04-17T09:08:02.186Z"
   },
   {
    "duration": 9,
    "start_time": "2024-04-17T09:09:01.288Z"
   },
   {
    "duration": 6,
    "start_time": "2024-04-17T09:09:05.176Z"
   },
   {
    "duration": 60,
    "start_time": "2024-04-17T09:09:36.171Z"
   },
   {
    "duration": 4970,
    "start_time": "2024-04-17T09:10:25.309Z"
   },
   {
    "duration": 8,
    "start_time": "2024-04-17T09:11:32.285Z"
   },
   {
    "duration": 8,
    "start_time": "2024-04-17T09:11:39.478Z"
   },
   {
    "duration": 9,
    "start_time": "2024-04-17T09:11:42.805Z"
   },
   {
    "duration": 4588,
    "start_time": "2024-04-17T09:13:48.791Z"
   },
   {
    "duration": 37,
    "start_time": "2024-04-17T09:17:02.455Z"
   },
   {
    "duration": 286656,
    "start_time": "2024-04-17T09:17:21.209Z"
   },
   {
    "duration": 39,
    "start_time": "2024-04-17T09:23:27.805Z"
   },
   {
    "duration": 11681,
    "start_time": "2024-04-17T09:24:13.997Z"
   },
   {
    "duration": 4,
    "start_time": "2024-04-17T09:25:02.749Z"
   },
   {
    "duration": 3291,
    "start_time": "2024-04-17T09:27:45.488Z"
   },
   {
    "duration": 4,
    "start_time": "2024-04-17T09:27:52.572Z"
   },
   {
    "duration": 60370,
    "start_time": "2024-04-17T09:28:09.904Z"
   },
   {
    "duration": 4,
    "start_time": "2024-04-17T09:29:29.832Z"
   },
   {
    "duration": 848967,
    "start_time": "2024-04-17T09:30:21.529Z"
   },
   {
    "duration": 4,
    "start_time": "2024-04-17T09:45:01.786Z"
   },
   {
    "duration": 233102,
    "start_time": "2024-04-17T10:39:34.486Z"
   },
   {
    "duration": 4686,
    "start_time": "2024-04-17T10:43:37.398Z"
   },
   {
    "duration": 227475,
    "start_time": "2024-04-17T10:44:29.800Z"
   },
   {
    "duration": 3748,
    "start_time": "2024-04-17T10:50:40.339Z"
   },
   {
    "duration": 875,
    "start_time": "2024-04-17T11:03:14.653Z"
   },
   {
    "duration": 62,
    "start_time": "2024-04-17T11:12:54.718Z"
   },
   {
    "duration": 3,
    "start_time": "2024-04-17T11:13:06.139Z"
   },
   {
    "duration": 116,
    "start_time": "2024-04-17T11:13:09.163Z"
   },
   {
    "duration": 84,
    "start_time": "2024-04-17T11:13:30.445Z"
   },
   {
    "duration": 156819,
    "start_time": "2024-04-17T11:13:52.077Z"
   },
   {
    "duration": 3,
    "start_time": "2024-04-17T11:24:38.307Z"
   },
   {
    "duration": 4,
    "start_time": "2024-04-17T11:24:56.893Z"
   },
   {
    "duration": 74,
    "start_time": "2024-04-17T11:25:24.860Z"
   },
   {
    "duration": 147046,
    "start_time": "2024-04-17T11:25:47.526Z"
   },
   {
    "duration": 4094,
    "start_time": "2024-04-17T11:29:08.310Z"
   },
   {
    "duration": 1390,
    "start_time": "2024-04-17T11:32:41.090Z"
   },
   {
    "duration": 62,
    "start_time": "2024-04-17T11:32:59.393Z"
   },
   {
    "duration": 1408,
    "start_time": "2024-04-17T11:36:30.975Z"
   },
   {
    "duration": 3,
    "start_time": "2024-04-17T11:37:28.003Z"
   },
   {
    "duration": 11,
    "start_time": "2024-04-17T11:43:11.473Z"
   },
   {
    "duration": 3,
    "start_time": "2024-04-17T11:43:13.385Z"
   },
   {
    "duration": 2,
    "start_time": "2024-04-17T11:47:19.236Z"
   },
   {
    "duration": 12,
    "start_time": "2024-04-17T11:47:44.732Z"
   },
   {
    "duration": 1141,
    "start_time": "2024-04-17T11:47:56.764Z"
   },
   {
    "duration": 5783,
    "start_time": "2024-04-17T11:48:30.044Z"
   },
   {
    "duration": 4,
    "start_time": "2024-04-17T11:48:40.884Z"
   },
   {
    "duration": 18,
    "start_time": "2024-04-17T11:48:42.075Z"
   },
   {
    "duration": 12,
    "start_time": "2024-04-17T11:50:17.494Z"
   },
   {
    "duration": 2,
    "start_time": "2024-04-17T11:50:22.301Z"
   },
   {
    "duration": 430,
    "start_time": "2024-04-17T11:50:23.974Z"
   },
   {
    "duration": 467,
    "start_time": "2024-04-17T11:51:51.728Z"
   },
   {
    "duration": 185,
    "start_time": "2024-04-17T11:52:48.464Z"
   },
   {
    "duration": 24,
    "start_time": "2024-04-17T11:52:51.320Z"
   },
   {
    "duration": 3841,
    "start_time": "2024-04-17T11:53:40.432Z"
   },
   {
    "duration": 38,
    "start_time": "2024-04-17T11:54:29.081Z"
   },
   {
    "duration": 3,
    "start_time": "2024-04-17T11:57:48.715Z"
   },
   {
    "duration": 2,
    "start_time": "2024-04-17T11:58:45.924Z"
   },
   {
    "duration": 3,
    "start_time": "2024-04-17T11:59:03.675Z"
   },
   {
    "duration": 82,
    "start_time": "2024-04-17T12:00:00.821Z"
   },
   {
    "duration": 3611,
    "start_time": "2024-04-17T12:00:07.068Z"
   },
   {
    "duration": 3,
    "start_time": "2024-04-17T12:00:51.949Z"
   },
   {
    "duration": 58739,
    "start_time": "2024-04-17T12:08:08.235Z"
   },
   {
    "duration": 15,
    "start_time": "2024-04-17T12:09:58.883Z"
   },
   {
    "duration": 4,
    "start_time": "2024-04-17T12:12:03.381Z"
   },
   {
    "duration": 1492,
    "start_time": "2024-04-17T12:12:03.386Z"
   },
   {
    "duration": 2,
    "start_time": "2024-04-17T12:12:04.881Z"
   },
   {
    "duration": 916,
    "start_time": "2024-04-17T12:12:04.885Z"
   },
   {
    "duration": 16,
    "start_time": "2024-04-17T12:12:05.803Z"
   },
   {
    "duration": 38,
    "start_time": "2024-04-17T12:12:05.821Z"
   },
   {
    "duration": 22,
    "start_time": "2024-04-17T12:12:05.860Z"
   },
   {
    "duration": 175,
    "start_time": "2024-04-17T12:12:05.884Z"
   },
   {
    "duration": 478,
    "start_time": "2024-04-17T12:12:06.061Z"
   },
   {
    "duration": 518,
    "start_time": "2024-04-17T12:12:06.541Z"
   },
   {
    "duration": 312,
    "start_time": "2024-04-17T12:12:07.061Z"
   },
   {
    "duration": 39,
    "start_time": "2024-04-17T12:12:07.374Z"
   },
   {
    "duration": 21,
    "start_time": "2024-04-17T12:12:07.415Z"
   },
   {
    "duration": 370,
    "start_time": "2024-04-17T12:12:07.440Z"
   },
   {
    "duration": 276,
    "start_time": "2024-04-17T12:12:07.812Z"
   },
   {
    "duration": 26,
    "start_time": "2024-04-17T12:12:08.090Z"
   },
   {
    "duration": 59,
    "start_time": "2024-04-17T12:12:08.118Z"
   },
   {
    "duration": 20,
    "start_time": "2024-04-17T12:12:08.179Z"
   },
   {
    "duration": 21,
    "start_time": "2024-04-17T12:12:08.200Z"
   },
   {
    "duration": 21,
    "start_time": "2024-04-17T12:12:08.222Z"
   },
   {
    "duration": 44,
    "start_time": "2024-04-17T12:12:08.244Z"
   },
   {
    "duration": 21,
    "start_time": "2024-04-17T12:12:08.289Z"
   },
   {
    "duration": 2,
    "start_time": "2024-04-17T12:12:08.311Z"
   },
   {
    "duration": 3,
    "start_time": "2024-04-17T12:12:08.315Z"
   },
   {
    "duration": 5,
    "start_time": "2024-04-17T12:12:08.319Z"
   },
   {
    "duration": 2167,
    "start_time": "2024-04-17T12:12:08.325Z"
   },
   {
    "duration": 76384,
    "start_time": "2024-04-17T12:12:10.496Z"
   },
   {
    "duration": 14,
    "start_time": "2024-04-17T12:13:26.882Z"
   },
   {
    "duration": 40,
    "start_time": "2024-04-17T12:13:26.898Z"
   },
   {
    "duration": 13,
    "start_time": "2024-04-17T12:13:26.939Z"
   },
   {
    "duration": 15,
    "start_time": "2024-04-17T12:13:26.954Z"
   },
   {
    "duration": 51,
    "start_time": "2024-04-17T12:13:26.972Z"
   },
   {
    "duration": 1604,
    "start_time": "2024-04-17T12:13:27.025Z"
   },
   {
    "duration": 23162,
    "start_time": "2024-04-17T12:13:28.631Z"
   },
   {
    "duration": 12,
    "start_time": "2024-04-17T12:13:51.795Z"
   },
   {
    "duration": 20,
    "start_time": "2024-04-17T12:13:51.808Z"
   },
   {
    "duration": 8,
    "start_time": "2024-04-17T12:13:51.829Z"
   },
   {
    "duration": 40,
    "start_time": "2024-04-17T12:13:51.838Z"
   },
   {
    "duration": 1811,
    "start_time": "2024-04-17T12:13:51.880Z"
   },
   {
    "duration": 1944,
    "start_time": "2024-04-17T12:13:53.693Z"
   },
   {
    "duration": 3,
    "start_time": "2024-04-17T12:13:55.641Z"
   },
   {
    "duration": 2538,
    "start_time": "2024-04-17T12:13:55.645Z"
   },
   {
    "duration": 4979,
    "start_time": "2024-04-17T12:13:58.185Z"
   },
   {
    "duration": 16,
    "start_time": "2024-04-17T12:14:03.171Z"
   },
   {
    "duration": 3289,
    "start_time": "2024-04-17T12:14:03.189Z"
   },
   {
    "duration": 11,
    "start_time": "2024-04-17T12:14:06.480Z"
   },
   {
    "duration": 116,
    "start_time": "2024-04-17T12:14:06.492Z"
   },
   {
    "duration": 124,
    "start_time": "2024-04-17T12:14:06.610Z"
   },
   {
    "duration": 5,
    "start_time": "2024-04-17T12:14:06.735Z"
   },
   {
    "duration": 13,
    "start_time": "2024-04-17T12:14:06.742Z"
   },
   {
    "duration": 10,
    "start_time": "2024-04-17T12:14:06.764Z"
   },
   {
    "duration": 108,
    "start_time": "2024-04-17T12:14:06.776Z"
   },
   {
    "duration": 22,
    "start_time": "2024-04-17T12:14:06.886Z"
   },
   {
    "duration": 17,
    "start_time": "2024-04-17T12:14:06.910Z"
   },
   {
    "duration": 17,
    "start_time": "2024-04-17T12:14:06.928Z"
   },
   {
    "duration": 54,
    "start_time": "2024-04-17T12:14:06.947Z"
   },
   {
    "duration": 0,
    "start_time": "2024-04-17T12:14:07.002Z"
   },
   {
    "duration": 0,
    "start_time": "2024-04-17T12:14:07.004Z"
   },
   {
    "duration": 0,
    "start_time": "2024-04-17T12:14:07.005Z"
   },
   {
    "duration": 0,
    "start_time": "2024-04-17T12:14:07.006Z"
   },
   {
    "duration": 0,
    "start_time": "2024-04-17T12:14:07.007Z"
   },
   {
    "duration": 0,
    "start_time": "2024-04-17T12:14:07.008Z"
   },
   {
    "duration": 0,
    "start_time": "2024-04-17T12:14:07.009Z"
   },
   {
    "duration": 0,
    "start_time": "2024-04-17T12:14:07.010Z"
   },
   {
    "duration": 0,
    "start_time": "2024-04-17T12:14:07.011Z"
   },
   {
    "duration": 0,
    "start_time": "2024-04-17T12:14:07.012Z"
   },
   {
    "duration": 0,
    "start_time": "2024-04-17T12:14:07.013Z"
   },
   {
    "duration": 0,
    "start_time": "2024-04-17T12:14:07.014Z"
   },
   {
    "duration": 0,
    "start_time": "2024-04-17T12:14:07.015Z"
   },
   {
    "duration": 0,
    "start_time": "2024-04-17T12:14:07.016Z"
   },
   {
    "duration": 0,
    "start_time": "2024-04-17T12:14:07.017Z"
   },
   {
    "duration": 26,
    "start_time": "2024-04-17T12:17:19.864Z"
   },
   {
    "duration": 17,
    "start_time": "2024-04-17T12:17:25.294Z"
   },
   {
    "duration": 4,
    "start_time": "2024-04-17T12:17:27.171Z"
   },
   {
    "duration": 405,
    "start_time": "2024-04-17T12:17:30.555Z"
   },
   {
    "duration": 165,
    "start_time": "2024-04-17T12:17:36.160Z"
   },
   {
    "duration": 11,
    "start_time": "2024-04-17T12:17:39.200Z"
   },
   {
    "duration": 25,
    "start_time": "2024-04-17T12:17:52.712Z"
   },
   {
    "duration": 3599,
    "start_time": "2024-04-17T12:18:28.777Z"
   },
   {
    "duration": 186,
    "start_time": "2024-04-17T12:18:35.364Z"
   },
   {
    "duration": 100,
    "start_time": "2024-04-17T12:19:21.666Z"
   },
   {
    "duration": 32,
    "start_time": "2024-04-17T12:29:56.402Z"
   },
   {
    "duration": 24,
    "start_time": "2024-04-17T12:30:03.469Z"
   },
   {
    "duration": 11,
    "start_time": "2024-04-17T12:30:22.288Z"
   },
   {
    "duration": 3,
    "start_time": "2024-04-17T12:30:42.249Z"
   },
   {
    "duration": 3,
    "start_time": "2024-04-17T12:30:47.610Z"
   },
   {
    "duration": 483,
    "start_time": "2024-04-17T12:31:47.917Z"
   },
   {
    "duration": 18,
    "start_time": "2024-04-17T12:31:57.194Z"
   },
   {
    "duration": 13,
    "start_time": "2024-04-17T12:32:09.523Z"
   },
   {
    "duration": 3,
    "start_time": "2024-04-17T12:32:22.738Z"
   },
   {
    "duration": 3,
    "start_time": "2024-04-17T12:32:26.057Z"
   },
   {
    "duration": 13579,
    "start_time": "2024-04-17T12:32:27.210Z"
   },
   {
    "duration": 16,
    "start_time": "2024-04-17T12:32:52.362Z"
   },
   {
    "duration": 4,
    "start_time": "2024-04-17T12:33:55.684Z"
   },
   {
    "duration": 12,
    "start_time": "2024-04-17T12:35:32.472Z"
   },
   {
    "duration": 12,
    "start_time": "2024-04-17T12:56:53.277Z"
   },
   {
    "duration": 3,
    "start_time": "2024-04-17T12:57:00.396Z"
   },
   {
    "duration": 112563,
    "start_time": "2024-04-17T12:57:03.243Z"
   },
   {
    "duration": 16,
    "start_time": "2024-04-17T12:59:39.512Z"
   },
   {
    "duration": 3,
    "start_time": "2024-04-17T13:00:44.510Z"
   },
   {
    "duration": 1552,
    "start_time": "2024-04-17T13:00:44.515Z"
   },
   {
    "duration": 6,
    "start_time": "2024-04-17T13:00:46.069Z"
   },
   {
    "duration": 902,
    "start_time": "2024-04-17T13:00:46.077Z"
   },
   {
    "duration": 16,
    "start_time": "2024-04-17T13:00:46.982Z"
   },
   {
    "duration": 38,
    "start_time": "2024-04-17T13:00:46.999Z"
   },
   {
    "duration": 15,
    "start_time": "2024-04-17T13:00:47.038Z"
   },
   {
    "duration": 162,
    "start_time": "2024-04-17T13:00:47.055Z"
   },
   {
    "duration": 508,
    "start_time": "2024-04-17T13:00:47.219Z"
   },
   {
    "duration": 489,
    "start_time": "2024-04-17T13:00:47.728Z"
   },
   {
    "duration": 315,
    "start_time": "2024-04-17T13:00:48.219Z"
   },
   {
    "duration": 51,
    "start_time": "2024-04-17T13:00:48.535Z"
   },
   {
    "duration": 21,
    "start_time": "2024-04-17T13:00:48.589Z"
   },
   {
    "duration": 498,
    "start_time": "2024-04-17T13:00:48.613Z"
   },
   {
    "duration": 291,
    "start_time": "2024-04-17T13:00:49.113Z"
   },
   {
    "duration": 27,
    "start_time": "2024-04-17T13:00:49.405Z"
   },
   {
    "duration": 58,
    "start_time": "2024-04-17T13:00:49.434Z"
   },
   {
    "duration": 28,
    "start_time": "2024-04-17T13:00:49.494Z"
   },
   {
    "duration": 64,
    "start_time": "2024-04-17T13:00:49.524Z"
   },
   {
    "duration": 23,
    "start_time": "2024-04-17T13:00:49.590Z"
   },
   {
    "duration": 31,
    "start_time": "2024-04-17T13:00:49.614Z"
   },
   {
    "duration": 43,
    "start_time": "2024-04-17T13:00:49.647Z"
   },
   {
    "duration": 3,
    "start_time": "2024-04-17T13:00:49.692Z"
   },
   {
    "duration": 37,
    "start_time": "2024-04-17T13:00:49.697Z"
   },
   {
    "duration": 13,
    "start_time": "2024-04-17T13:00:49.735Z"
   },
   {
    "duration": 2255,
    "start_time": "2024-04-17T13:00:49.749Z"
   },
   {
    "duration": 75730,
    "start_time": "2024-04-17T13:00:52.006Z"
   },
   {
    "duration": 17,
    "start_time": "2024-04-17T13:02:07.739Z"
   },
   {
    "duration": 34,
    "start_time": "2024-04-17T13:02:07.765Z"
   },
   {
    "duration": 13,
    "start_time": "2024-04-17T13:02:07.800Z"
   },
   {
    "duration": 11,
    "start_time": "2024-04-17T13:02:07.815Z"
   },
   {
    "duration": 62,
    "start_time": "2024-04-17T13:02:07.828Z"
   },
   {
    "duration": 1761,
    "start_time": "2024-04-17T13:02:07.892Z"
   },
   {
    "duration": 22956,
    "start_time": "2024-04-17T13:02:09.655Z"
   },
   {
    "duration": 11,
    "start_time": "2024-04-17T13:02:32.612Z"
   },
   {
    "duration": 19,
    "start_time": "2024-04-17T13:02:32.624Z"
   },
   {
    "duration": 28,
    "start_time": "2024-04-17T13:02:32.644Z"
   },
   {
    "duration": 17,
    "start_time": "2024-04-17T13:02:32.674Z"
   },
   {
    "duration": 1824,
    "start_time": "2024-04-17T13:02:32.693Z"
   },
   {
    "duration": 1941,
    "start_time": "2024-04-17T13:02:34.520Z"
   },
   {
    "duration": 5,
    "start_time": "2024-04-17T13:02:36.471Z"
   },
   {
    "duration": 2424,
    "start_time": "2024-04-17T13:02:36.478Z"
   },
   {
    "duration": 4937,
    "start_time": "2024-04-17T13:02:38.903Z"
   },
   {
    "duration": 13,
    "start_time": "2024-04-17T13:02:43.841Z"
   },
   {
    "duration": 3259,
    "start_time": "2024-04-17T13:02:43.855Z"
   },
   {
    "duration": 10,
    "start_time": "2024-04-17T13:02:47.115Z"
   },
   {
    "duration": 121,
    "start_time": "2024-04-17T13:02:47.127Z"
   },
   {
    "duration": 128,
    "start_time": "2024-04-17T13:02:47.250Z"
   },
   {
    "duration": 5,
    "start_time": "2024-04-17T13:02:47.380Z"
   },
   {
    "duration": 8,
    "start_time": "2024-04-17T13:02:47.386Z"
   },
   {
    "duration": 3,
    "start_time": "2024-04-17T13:02:47.395Z"
   },
   {
    "duration": 120,
    "start_time": "2024-04-17T13:02:47.399Z"
   },
   {
    "duration": 22,
    "start_time": "2024-04-17T13:02:47.520Z"
   },
   {
    "duration": 30,
    "start_time": "2024-04-17T13:02:47.543Z"
   },
   {
    "duration": 4,
    "start_time": "2024-04-17T13:02:47.578Z"
   },
   {
    "duration": 35,
    "start_time": "2024-04-17T13:02:47.584Z"
   },
   {
    "duration": 360666,
    "start_time": "2024-04-17T13:02:47.621Z"
   },
   {
    "duration": 213,
    "start_time": "2024-04-17T13:08:48.289Z"
   },
   {
    "duration": 0,
    "start_time": "2024-04-17T13:08:48.504Z"
   },
   {
    "duration": 0,
    "start_time": "2024-04-17T13:08:48.505Z"
   },
   {
    "duration": 0,
    "start_time": "2024-04-17T13:08:48.506Z"
   },
   {
    "duration": 0,
    "start_time": "2024-04-17T13:08:48.508Z"
   },
   {
    "duration": 0,
    "start_time": "2024-04-17T13:08:48.509Z"
   },
   {
    "duration": 0,
    "start_time": "2024-04-17T13:08:48.510Z"
   },
   {
    "duration": 0,
    "start_time": "2024-04-17T13:08:48.511Z"
   },
   {
    "duration": 0,
    "start_time": "2024-04-17T13:08:48.512Z"
   },
   {
    "duration": 0,
    "start_time": "2024-04-17T13:08:48.514Z"
   },
   {
    "duration": 0,
    "start_time": "2024-04-17T13:08:48.515Z"
   },
   {
    "duration": 0,
    "start_time": "2024-04-17T13:08:48.516Z"
   },
   {
    "duration": 0,
    "start_time": "2024-04-17T13:08:48.517Z"
   },
   {
    "duration": 0,
    "start_time": "2024-04-17T13:08:48.518Z"
   },
   {
    "duration": 0,
    "start_time": "2024-04-17T13:08:48.519Z"
   },
   {
    "duration": 0,
    "start_time": "2024-04-17T13:08:48.520Z"
   },
   {
    "duration": 0,
    "start_time": "2024-04-17T13:08:48.521Z"
   },
   {
    "duration": 0,
    "start_time": "2024-04-17T13:08:48.522Z"
   },
   {
    "duration": 0,
    "start_time": "2024-04-17T13:08:48.524Z"
   },
   {
    "duration": 0,
    "start_time": "2024-04-17T13:08:48.525Z"
   },
   {
    "duration": 25,
    "start_time": "2024-04-17T13:09:13.776Z"
   },
   {
    "duration": 3,
    "start_time": "2024-04-17T13:11:05.183Z"
   },
   {
    "duration": 3,
    "start_time": "2024-04-17T13:11:21.940Z"
   },
   {
    "duration": 3,
    "start_time": "2024-04-17T13:11:41.656Z"
   },
   {
    "duration": 138533,
    "start_time": "2024-04-17T13:13:34.758Z"
   },
   {
    "duration": 138486,
    "start_time": "2024-04-17T13:16:30.600Z"
   },
   {
    "duration": 10,
    "start_time": "2024-04-17T13:19:09.845Z"
   },
   {
    "duration": 1098,
    "start_time": "2024-04-17T13:19:17.595Z"
   },
   {
    "duration": 12,
    "start_time": "2024-04-17T13:19:32.730Z"
   },
   {
    "duration": 3,
    "start_time": "2024-04-17T13:19:35.206Z"
   },
   {
    "duration": 393,
    "start_time": "2024-04-17T13:19:37.387Z"
   },
   {
    "duration": 152,
    "start_time": "2024-04-17T13:19:46.194Z"
   },
   {
    "duration": 25,
    "start_time": "2024-04-17T13:19:47.803Z"
   },
   {
    "duration": 3763,
    "start_time": "2024-04-17T13:20:47.623Z"
   },
   {
    "duration": 3563,
    "start_time": "2024-04-17T13:22:02.823Z"
   },
   {
    "duration": 3432,
    "start_time": "2024-04-17T13:24:54.343Z"
   },
   {
    "duration": 37,
    "start_time": "2024-04-17T13:25:13.255Z"
   },
   {
    "duration": 39,
    "start_time": "2024-04-17T13:25:41.257Z"
   },
   {
    "duration": 2,
    "start_time": "2024-04-17T13:25:42.610Z"
   },
   {
    "duration": 494,
    "start_time": "2024-04-17T13:25:43.738Z"
   },
   {
    "duration": 13,
    "start_time": "2024-04-17T13:25:45.308Z"
   },
   {
    "duration": 4,
    "start_time": "2024-04-17T13:26:04.777Z"
   },
   {
    "duration": 3,
    "start_time": "2024-04-17T13:26:07.020Z"
   },
   {
    "duration": 13909,
    "start_time": "2024-04-17T13:26:35.916Z"
   },
   {
    "duration": 3,
    "start_time": "2024-04-17T13:28:40.377Z"
   },
   {
    "duration": 3,
    "start_time": "2024-04-17T13:28:41.621Z"
   },
   {
    "duration": 40737,
    "start_time": "2024-04-17T13:28:43.044Z"
   },
   {
    "duration": 3,
    "start_time": "2024-04-17T13:35:05.353Z"
   },
   {
    "duration": 2,
    "start_time": "2024-04-17T13:35:07.511Z"
   },
   {
    "duration": 3,
    "start_time": "2024-04-17T13:35:08.798Z"
   },
   {
    "duration": 222458,
    "start_time": "2024-04-17T13:35:14.955Z"
   },
   {
    "duration": 2,
    "start_time": "2024-04-17T13:41:09.628Z"
   },
   {
    "duration": 226,
    "start_time": "2024-04-17T13:43:12.476Z"
   },
   {
    "duration": 17,
    "start_time": "2024-04-17T13:44:51.190Z"
   },
   {
    "duration": 4,
    "start_time": "2024-04-17T13:51:57.643Z"
   },
   {
    "duration": 10,
    "start_time": "2024-04-17T13:52:04.027Z"
   },
   {
    "duration": 26,
    "start_time": "2024-04-17T13:59:25.578Z"
   },
   {
    "duration": 21,
    "start_time": "2024-04-17T14:02:35.507Z"
   },
   {
    "duration": 134,
    "start_time": "2024-04-17T14:02:36.754Z"
   },
   {
    "duration": 3,
    "start_time": "2024-04-17T14:07:19.253Z"
   },
   {
    "duration": 265,
    "start_time": "2024-04-17T14:07:21.080Z"
   },
   {
    "duration": 13,
    "start_time": "2024-04-17T14:07:34.386Z"
   },
   {
    "duration": 3,
    "start_time": "2024-04-17T14:07:57.213Z"
   },
   {
    "duration": 236,
    "start_time": "2024-04-17T14:07:58.452Z"
   },
   {
    "duration": 15,
    "start_time": "2024-04-17T14:08:00.749Z"
   },
   {
    "duration": 17,
    "start_time": "2024-04-17T14:08:11.230Z"
   },
   {
    "duration": 13,
    "start_time": "2024-04-17T14:13:12.971Z"
   },
   {
    "duration": 10,
    "start_time": "2024-04-17T14:15:24.465Z"
   },
   {
    "duration": 40,
    "start_time": "2024-04-17T14:15:34.826Z"
   },
   {
    "duration": 59,
    "start_time": "2024-04-17T14:16:38.948Z"
   },
   {
    "duration": 8,
    "start_time": "2024-04-17T14:19:18.888Z"
   },
   {
    "duration": 8,
    "start_time": "2024-04-17T14:20:45.334Z"
   },
   {
    "duration": 8,
    "start_time": "2024-04-17T14:20:47.350Z"
   },
   {
    "duration": 15,
    "start_time": "2024-04-17T14:22:06.678Z"
   },
   {
    "duration": 15,
    "start_time": "2024-04-17T14:22:41.206Z"
   },
   {
    "duration": 23,
    "start_time": "2024-04-17T14:23:37.753Z"
   },
   {
    "duration": 16,
    "start_time": "2024-04-17T14:23:43.828Z"
   },
   {
    "duration": 16,
    "start_time": "2024-04-17T14:23:52.120Z"
   },
   {
    "duration": 17,
    "start_time": "2024-04-17T14:24:01.802Z"
   },
   {
    "duration": 17,
    "start_time": "2024-04-17T14:24:18.713Z"
   },
   {
    "duration": 4,
    "start_time": "2024-04-17T14:26:02.586Z"
   },
   {
    "duration": 1416,
    "start_time": "2024-04-17T14:26:02.592Z"
   },
   {
    "duration": 3,
    "start_time": "2024-04-17T14:26:04.010Z"
   },
   {
    "duration": 960,
    "start_time": "2024-04-17T14:26:04.015Z"
   },
   {
    "duration": 15,
    "start_time": "2024-04-17T14:26:04.977Z"
   },
   {
    "duration": 29,
    "start_time": "2024-04-17T14:26:04.994Z"
   },
   {
    "duration": 10,
    "start_time": "2024-04-17T14:26:05.024Z"
   },
   {
    "duration": 177,
    "start_time": "2024-04-17T14:26:05.036Z"
   },
   {
    "duration": 489,
    "start_time": "2024-04-17T14:26:05.215Z"
   },
   {
    "duration": 533,
    "start_time": "2024-04-17T14:26:05.706Z"
   },
   {
    "duration": 297,
    "start_time": "2024-04-17T14:26:06.240Z"
   },
   {
    "duration": 45,
    "start_time": "2024-04-17T14:26:06.538Z"
   },
   {
    "duration": 22,
    "start_time": "2024-04-17T14:26:06.585Z"
   },
   {
    "duration": 341,
    "start_time": "2024-04-17T14:26:06.608Z"
   },
   {
    "duration": 288,
    "start_time": "2024-04-17T14:26:06.951Z"
   },
   {
    "duration": 41,
    "start_time": "2024-04-17T14:26:07.241Z"
   },
   {
    "duration": 71,
    "start_time": "2024-04-17T14:26:07.284Z"
   },
   {
    "duration": 40,
    "start_time": "2024-04-17T14:26:07.356Z"
   },
   {
    "duration": 30,
    "start_time": "2024-04-17T14:26:07.398Z"
   },
   {
    "duration": 22,
    "start_time": "2024-04-17T14:26:07.429Z"
   },
   {
    "duration": 32,
    "start_time": "2024-04-17T14:26:07.452Z"
   },
   {
    "duration": 21,
    "start_time": "2024-04-17T14:26:07.486Z"
   },
   {
    "duration": 27,
    "start_time": "2024-04-17T14:26:07.508Z"
   },
   {
    "duration": 38,
    "start_time": "2024-04-17T14:26:07.537Z"
   },
   {
    "duration": 6,
    "start_time": "2024-04-17T14:26:07.577Z"
   },
   {
    "duration": 2186,
    "start_time": "2024-04-17T14:26:07.584Z"
   },
   {
    "duration": 74730,
    "start_time": "2024-04-17T14:26:09.780Z"
   },
   {
    "duration": 13,
    "start_time": "2024-04-17T14:27:24.514Z"
   },
   {
    "duration": 42,
    "start_time": "2024-04-17T14:27:24.528Z"
   },
   {
    "duration": 13,
    "start_time": "2024-04-17T14:27:24.572Z"
   },
   {
    "duration": 21,
    "start_time": "2024-04-17T14:27:24.586Z"
   },
   {
    "duration": 42,
    "start_time": "2024-04-17T14:27:24.609Z"
   },
   {
    "duration": 1564,
    "start_time": "2024-04-17T14:27:24.652Z"
   },
   {
    "duration": 22175,
    "start_time": "2024-04-17T14:27:26.218Z"
   },
   {
    "duration": 11,
    "start_time": "2024-04-17T14:27:48.394Z"
   },
   {
    "duration": 16,
    "start_time": "2024-04-17T14:27:48.407Z"
   },
   {
    "duration": 8,
    "start_time": "2024-04-17T14:27:48.424Z"
   },
   {
    "duration": 46,
    "start_time": "2024-04-17T14:27:48.433Z"
   },
   {
    "duration": 1853,
    "start_time": "2024-04-17T14:27:48.482Z"
   },
   {
    "duration": 1951,
    "start_time": "2024-04-17T14:27:50.336Z"
   },
   {
    "duration": 2,
    "start_time": "2024-04-17T14:27:52.289Z"
   },
   {
    "duration": 2497,
    "start_time": "2024-04-17T14:27:52.293Z"
   },
   {
    "duration": 4892,
    "start_time": "2024-04-17T14:27:54.792Z"
   },
   {
    "duration": 15,
    "start_time": "2024-04-17T14:27:59.686Z"
   },
   {
    "duration": 3230,
    "start_time": "2024-04-17T14:27:59.702Z"
   },
   {
    "duration": 11,
    "start_time": "2024-04-17T14:28:02.934Z"
   },
   {
    "duration": 129,
    "start_time": "2024-04-17T14:28:02.947Z"
   },
   {
    "duration": 101,
    "start_time": "2024-04-17T14:28:03.078Z"
   },
   {
    "duration": 6,
    "start_time": "2024-04-17T14:28:03.181Z"
   },
   {
    "duration": 22,
    "start_time": "2024-04-17T14:28:03.188Z"
   },
   {
    "duration": 11,
    "start_time": "2024-04-17T14:28:03.211Z"
   },
   {
    "duration": 97,
    "start_time": "2024-04-17T14:28:03.223Z"
   },
   {
    "duration": 19,
    "start_time": "2024-04-17T14:28:03.322Z"
   },
   {
    "duration": 17,
    "start_time": "2024-04-17T14:28:03.342Z"
   },
   {
    "duration": 5,
    "start_time": "2024-04-17T14:28:03.360Z"
   },
   {
    "duration": 23,
    "start_time": "2024-04-17T14:28:03.366Z"
   },
   {
    "duration": 158186,
    "start_time": "2024-04-17T14:28:03.390Z"
   },
   {
    "duration": 2,
    "start_time": "2024-04-17T14:30:41.578Z"
   },
   {
    "duration": 27,
    "start_time": "2024-04-17T14:30:41.582Z"
   },
   {
    "duration": 113578,
    "start_time": "2024-04-17T14:30:41.611Z"
   },
   {
    "duration": 1196,
    "start_time": "2024-04-17T14:32:35.191Z"
   },
   {
    "duration": 16,
    "start_time": "2024-04-17T14:32:36.388Z"
   },
   {
    "duration": 15,
    "start_time": "2024-04-17T14:32:36.406Z"
   },
   {
    "duration": 483,
    "start_time": "2024-04-17T14:32:36.424Z"
   },
   {
    "duration": 173,
    "start_time": "2024-04-17T14:32:36.909Z"
   },
   {
    "duration": 3394,
    "start_time": "2024-04-17T14:32:37.084Z"
   },
   {
    "duration": 183,
    "start_time": "2024-04-17T14:32:40.482Z"
   },
   {
    "duration": 101,
    "start_time": "2024-04-17T14:32:40.667Z"
   },
   {
    "duration": 1,
    "start_time": "2024-04-17T14:32:40.770Z"
   },
   {
    "duration": 0,
    "start_time": "2024-04-17T14:32:40.772Z"
   },
   {
    "duration": 0,
    "start_time": "2024-04-17T14:32:40.775Z"
   },
   {
    "duration": 0,
    "start_time": "2024-04-17T14:32:40.780Z"
   },
   {
    "duration": 0,
    "start_time": "2024-04-17T14:32:40.782Z"
   },
   {
    "duration": 0,
    "start_time": "2024-04-17T14:32:40.783Z"
   },
   {
    "duration": 0,
    "start_time": "2024-04-17T14:32:40.785Z"
   },
   {
    "duration": 0,
    "start_time": "2024-04-17T14:32:40.787Z"
   },
   {
    "duration": 0,
    "start_time": "2024-04-17T14:32:40.789Z"
   },
   {
    "duration": 0,
    "start_time": "2024-04-17T14:32:40.789Z"
   },
   {
    "duration": 0,
    "start_time": "2024-04-17T14:32:40.790Z"
   },
   {
    "duration": 0,
    "start_time": "2024-04-17T14:32:40.792Z"
   },
   {
    "duration": 0,
    "start_time": "2024-04-17T14:32:40.793Z"
   },
   {
    "duration": 0,
    "start_time": "2024-04-17T14:32:40.794Z"
   },
   {
    "duration": 23,
    "start_time": "2024-04-17T14:32:59.695Z"
   },
   {
    "duration": 41,
    "start_time": "2024-04-17T14:33:15.776Z"
   },
   {
    "duration": 2,
    "start_time": "2024-04-17T14:33:37.112Z"
   },
   {
    "duration": 566,
    "start_time": "2024-04-17T14:34:22.032Z"
   },
   {
    "duration": 20,
    "start_time": "2024-04-17T14:34:25.124Z"
   },
   {
    "duration": 51,
    "start_time": "2024-04-17T14:34:50.248Z"
   },
   {
    "duration": 5,
    "start_time": "2024-04-17T14:35:03.048Z"
   },
   {
    "duration": 8,
    "start_time": "2024-04-17T14:35:05.162Z"
   },
   {
    "duration": 225642,
    "start_time": "2024-04-17T14:35:07.136Z"
   },
   {
    "duration": 121,
    "start_time": "2024-04-17T14:39:35.829Z"
   },
   {
    "duration": 16,
    "start_time": "2024-04-17T14:39:47.164Z"
   },
   {
    "duration": 4,
    "start_time": "2024-04-17T14:40:12.893Z"
   },
   {
    "duration": 3,
    "start_time": "2024-04-17T14:40:38.776Z"
   },
   {
    "duration": 2,
    "start_time": "2024-04-17T14:41:25.814Z"
   },
   {
    "duration": 277,
    "start_time": "2024-04-17T14:41:28.382Z"
   },
   {
    "duration": 19,
    "start_time": "2024-04-17T14:41:30.757Z"
   },
   {
    "duration": 12,
    "start_time": "2024-04-17T14:41:35.061Z"
   },
   {
    "duration": 15,
    "start_time": "2024-04-17T14:41:46.733Z"
   },
   {
    "duration": 3,
    "start_time": "2024-04-18T09:41:13.000Z"
   },
   {
    "duration": 1631,
    "start_time": "2024-04-18T09:41:13.005Z"
   },
   {
    "duration": 0,
    "start_time": "2024-04-18T09:41:14.639Z"
   },
   {
    "duration": 0,
    "start_time": "2024-04-18T09:41:14.641Z"
   },
   {
    "duration": 0,
    "start_time": "2024-04-18T09:41:14.642Z"
   },
   {
    "duration": 0,
    "start_time": "2024-04-18T09:41:14.643Z"
   },
   {
    "duration": 0,
    "start_time": "2024-04-18T09:41:14.644Z"
   },
   {
    "duration": 0,
    "start_time": "2024-04-18T09:41:14.645Z"
   },
   {
    "duration": 0,
    "start_time": "2024-04-18T09:41:14.646Z"
   },
   {
    "duration": 0,
    "start_time": "2024-04-18T09:41:14.647Z"
   },
   {
    "duration": 0,
    "start_time": "2024-04-18T09:41:14.648Z"
   },
   {
    "duration": 0,
    "start_time": "2024-04-18T09:41:14.649Z"
   },
   {
    "duration": 0,
    "start_time": "2024-04-18T09:41:14.650Z"
   },
   {
    "duration": 0,
    "start_time": "2024-04-18T09:41:14.651Z"
   },
   {
    "duration": 0,
    "start_time": "2024-04-18T09:41:14.652Z"
   },
   {
    "duration": 0,
    "start_time": "2024-04-18T09:41:14.653Z"
   },
   {
    "duration": 0,
    "start_time": "2024-04-18T09:41:14.673Z"
   },
   {
    "duration": 0,
    "start_time": "2024-04-18T09:41:14.674Z"
   },
   {
    "duration": 0,
    "start_time": "2024-04-18T09:41:14.675Z"
   },
   {
    "duration": 0,
    "start_time": "2024-04-18T09:41:14.676Z"
   },
   {
    "duration": 0,
    "start_time": "2024-04-18T09:41:14.677Z"
   },
   {
    "duration": 0,
    "start_time": "2024-04-18T09:41:14.678Z"
   },
   {
    "duration": 0,
    "start_time": "2024-04-18T09:41:14.679Z"
   },
   {
    "duration": 0,
    "start_time": "2024-04-18T09:41:14.680Z"
   },
   {
    "duration": 0,
    "start_time": "2024-04-18T09:41:14.681Z"
   },
   {
    "duration": 0,
    "start_time": "2024-04-18T09:41:14.682Z"
   },
   {
    "duration": 0,
    "start_time": "2024-04-18T09:41:14.683Z"
   },
   {
    "duration": 0,
    "start_time": "2024-04-18T09:41:14.684Z"
   },
   {
    "duration": 0,
    "start_time": "2024-04-18T09:41:14.685Z"
   },
   {
    "duration": 0,
    "start_time": "2024-04-18T09:41:14.686Z"
   },
   {
    "duration": 0,
    "start_time": "2024-04-18T09:41:14.687Z"
   },
   {
    "duration": 0,
    "start_time": "2024-04-18T09:41:14.688Z"
   },
   {
    "duration": 0,
    "start_time": "2024-04-18T09:41:14.688Z"
   },
   {
    "duration": 0,
    "start_time": "2024-04-18T09:41:14.689Z"
   },
   {
    "duration": 0,
    "start_time": "2024-04-18T09:41:14.690Z"
   },
   {
    "duration": 0,
    "start_time": "2024-04-18T09:41:14.691Z"
   },
   {
    "duration": 0,
    "start_time": "2024-04-18T09:41:14.692Z"
   },
   {
    "duration": 0,
    "start_time": "2024-04-18T09:41:14.693Z"
   },
   {
    "duration": 0,
    "start_time": "2024-04-18T09:41:14.694Z"
   },
   {
    "duration": 0,
    "start_time": "2024-04-18T09:41:14.695Z"
   },
   {
    "duration": 0,
    "start_time": "2024-04-18T09:41:14.696Z"
   },
   {
    "duration": 0,
    "start_time": "2024-04-18T09:41:14.697Z"
   },
   {
    "duration": 0,
    "start_time": "2024-04-18T09:41:14.698Z"
   },
   {
    "duration": 0,
    "start_time": "2024-04-18T09:41:14.698Z"
   },
   {
    "duration": 0,
    "start_time": "2024-04-18T09:41:14.700Z"
   },
   {
    "duration": 0,
    "start_time": "2024-04-18T09:41:14.701Z"
   },
   {
    "duration": 0,
    "start_time": "2024-04-18T09:41:14.702Z"
   },
   {
    "duration": 0,
    "start_time": "2024-04-18T09:41:14.703Z"
   },
   {
    "duration": 0,
    "start_time": "2024-04-18T09:41:14.704Z"
   },
   {
    "duration": 0,
    "start_time": "2024-04-18T09:41:14.705Z"
   },
   {
    "duration": 0,
    "start_time": "2024-04-18T09:41:14.706Z"
   },
   {
    "duration": 0,
    "start_time": "2024-04-18T09:41:14.707Z"
   },
   {
    "duration": 0,
    "start_time": "2024-04-18T09:41:14.708Z"
   },
   {
    "duration": 0,
    "start_time": "2024-04-18T09:41:14.709Z"
   },
   {
    "duration": 0,
    "start_time": "2024-04-18T09:41:14.710Z"
   },
   {
    "duration": 0,
    "start_time": "2024-04-18T09:41:14.773Z"
   },
   {
    "duration": 0,
    "start_time": "2024-04-18T09:41:14.774Z"
   },
   {
    "duration": 0,
    "start_time": "2024-04-18T09:41:14.775Z"
   },
   {
    "duration": 0,
    "start_time": "2024-04-18T09:41:14.777Z"
   },
   {
    "duration": 0,
    "start_time": "2024-04-18T09:41:14.777Z"
   },
   {
    "duration": 0,
    "start_time": "2024-04-18T09:41:14.778Z"
   },
   {
    "duration": 0,
    "start_time": "2024-04-18T09:41:14.779Z"
   },
   {
    "duration": 0,
    "start_time": "2024-04-18T09:41:14.780Z"
   },
   {
    "duration": 0,
    "start_time": "2024-04-18T09:41:14.782Z"
   },
   {
    "duration": 0,
    "start_time": "2024-04-18T09:41:14.783Z"
   },
   {
    "duration": 0,
    "start_time": "2024-04-18T09:41:14.784Z"
   },
   {
    "duration": 0,
    "start_time": "2024-04-18T09:41:14.785Z"
   },
   {
    "duration": 0,
    "start_time": "2024-04-18T09:41:14.786Z"
   },
   {
    "duration": 0,
    "start_time": "2024-04-18T09:41:14.787Z"
   },
   {
    "duration": 0,
    "start_time": "2024-04-18T09:41:14.788Z"
   },
   {
    "duration": 0,
    "start_time": "2024-04-18T09:41:14.789Z"
   },
   {
    "duration": 0,
    "start_time": "2024-04-18T09:41:14.790Z"
   },
   {
    "duration": 0,
    "start_time": "2024-04-18T09:41:14.791Z"
   },
   {
    "duration": 0,
    "start_time": "2024-04-18T09:41:14.792Z"
   },
   {
    "duration": 0,
    "start_time": "2024-04-18T09:41:14.793Z"
   },
   {
    "duration": 0,
    "start_time": "2024-04-18T09:41:14.794Z"
   },
   {
    "duration": 0,
    "start_time": "2024-04-18T09:41:14.796Z"
   },
   {
    "duration": 0,
    "start_time": "2024-04-18T09:41:14.797Z"
   },
   {
    "duration": 0,
    "start_time": "2024-04-18T09:41:14.798Z"
   },
   {
    "duration": 0,
    "start_time": "2024-04-18T09:41:14.799Z"
   },
   {
    "duration": 3484,
    "start_time": "2024-04-18T09:41:39.443Z"
   },
   {
    "duration": 2621,
    "start_time": "2024-04-18T09:41:48.842Z"
   },
   {
    "duration": 1527,
    "start_time": "2024-04-18T09:41:51.465Z"
   },
   {
    "duration": 3,
    "start_time": "2024-04-18T09:41:52.993Z"
   },
   {
    "duration": 1303,
    "start_time": "2024-04-18T09:41:52.999Z"
   },
   {
    "duration": 16,
    "start_time": "2024-04-18T09:41:54.304Z"
   },
   {
    "duration": 32,
    "start_time": "2024-04-18T09:41:54.322Z"
   },
   {
    "duration": 4,
    "start_time": "2024-04-18T09:41:54.356Z"
   },
   {
    "duration": 172,
    "start_time": "2024-04-18T09:41:54.362Z"
   },
   {
    "duration": 527,
    "start_time": "2024-04-18T09:41:54.536Z"
   },
   {
    "duration": 520,
    "start_time": "2024-04-18T09:41:55.072Z"
   },
   {
    "duration": 312,
    "start_time": "2024-04-18T09:41:55.594Z"
   },
   {
    "duration": 30,
    "start_time": "2024-04-18T09:41:55.907Z"
   },
   {
    "duration": 36,
    "start_time": "2024-04-18T09:41:55.938Z"
   },
   {
    "duration": 359,
    "start_time": "2024-04-18T09:41:55.975Z"
   },
   {
    "duration": 299,
    "start_time": "2024-04-18T09:41:56.336Z"
   },
   {
    "duration": 38,
    "start_time": "2024-04-18T09:41:56.636Z"
   },
   {
    "duration": 46,
    "start_time": "2024-04-18T09:41:56.676Z"
   },
   {
    "duration": 28,
    "start_time": "2024-04-18T09:41:56.724Z"
   },
   {
    "duration": 38,
    "start_time": "2024-04-18T09:41:56.754Z"
   },
   {
    "duration": 35,
    "start_time": "2024-04-18T09:41:56.793Z"
   },
   {
    "duration": 24,
    "start_time": "2024-04-18T09:41:56.830Z"
   },
   {
    "duration": 29,
    "start_time": "2024-04-18T09:41:56.856Z"
   },
   {
    "duration": 3,
    "start_time": "2024-04-18T09:41:56.887Z"
   },
   {
    "duration": 14,
    "start_time": "2024-04-18T09:41:56.892Z"
   },
   {
    "duration": 7,
    "start_time": "2024-04-18T09:41:56.908Z"
   },
   {
    "duration": 2256,
    "start_time": "2024-04-18T09:41:56.916Z"
   },
   {
    "duration": 78534,
    "start_time": "2024-04-18T09:41:59.174Z"
   },
   {
    "duration": 13,
    "start_time": "2024-04-18T09:43:17.713Z"
   },
   {
    "duration": 45,
    "start_time": "2024-04-18T09:43:17.728Z"
   },
   {
    "duration": 12,
    "start_time": "2024-04-18T09:43:17.775Z"
   },
   {
    "duration": 31,
    "start_time": "2024-04-18T09:43:17.789Z"
   },
   {
    "duration": 54,
    "start_time": "2024-04-18T09:43:17.821Z"
   },
   {
    "duration": 1725,
    "start_time": "2024-04-18T09:43:17.876Z"
   },
   {
    "duration": 23208,
    "start_time": "2024-04-18T09:43:19.603Z"
   },
   {
    "duration": 11,
    "start_time": "2024-04-18T09:43:42.813Z"
   },
   {
    "duration": 28,
    "start_time": "2024-04-18T09:43:42.825Z"
   },
   {
    "duration": 7,
    "start_time": "2024-04-18T09:43:42.855Z"
   },
   {
    "duration": 19,
    "start_time": "2024-04-18T09:43:42.873Z"
   },
   {
    "duration": 1916,
    "start_time": "2024-04-18T09:43:42.893Z"
   },
   {
    "duration": 1969,
    "start_time": "2024-04-18T09:43:44.811Z"
   },
   {
    "duration": 3,
    "start_time": "2024-04-18T09:43:46.781Z"
   },
   {
    "duration": 2488,
    "start_time": "2024-04-18T09:43:46.785Z"
   },
   {
    "duration": 5007,
    "start_time": "2024-04-18T09:43:49.275Z"
   },
   {
    "duration": 14,
    "start_time": "2024-04-18T09:43:54.284Z"
   },
   {
    "duration": 3277,
    "start_time": "2024-04-18T09:43:54.300Z"
   },
   {
    "duration": 11,
    "start_time": "2024-04-18T09:43:57.578Z"
   },
   {
    "duration": 132,
    "start_time": "2024-04-18T09:43:57.591Z"
   },
   {
    "duration": 120,
    "start_time": "2024-04-18T09:43:57.725Z"
   },
   {
    "duration": 5,
    "start_time": "2024-04-18T09:43:57.847Z"
   },
   {
    "duration": 36,
    "start_time": "2024-04-18T09:43:57.853Z"
   },
   {
    "duration": 27,
    "start_time": "2024-04-18T09:43:57.891Z"
   },
   {
    "duration": 108,
    "start_time": "2024-04-18T09:43:57.920Z"
   },
   {
    "duration": 23,
    "start_time": "2024-04-18T09:43:58.029Z"
   },
   {
    "duration": 26,
    "start_time": "2024-04-18T09:43:58.054Z"
   },
   {
    "duration": 4,
    "start_time": "2024-04-18T09:43:58.082Z"
   },
   {
    "duration": 11,
    "start_time": "2024-04-18T09:43:58.088Z"
   },
   {
    "duration": 18376,
    "start_time": "2024-04-18T09:43:58.101Z"
   },
   {
    "duration": 2,
    "start_time": "2024-04-18T09:44:16.479Z"
   },
   {
    "duration": 30,
    "start_time": "2024-04-18T09:44:16.483Z"
   },
   {
    "duration": 11670,
    "start_time": "2024-04-18T09:44:16.515Z"
   },
   {
    "duration": 1312,
    "start_time": "2024-04-18T09:44:28.186Z"
   },
   {
    "duration": 163,
    "start_time": "2024-04-18T09:44:29.499Z"
   },
   {
    "duration": 0,
    "start_time": "2024-04-18T09:44:29.663Z"
   },
   {
    "duration": 0,
    "start_time": "2024-04-18T09:44:29.665Z"
   },
   {
    "duration": 0,
    "start_time": "2024-04-18T09:44:29.666Z"
   },
   {
    "duration": 0,
    "start_time": "2024-04-18T09:44:29.668Z"
   },
   {
    "duration": 1,
    "start_time": "2024-04-18T09:44:29.669Z"
   },
   {
    "duration": 0,
    "start_time": "2024-04-18T09:44:29.671Z"
   },
   {
    "duration": 0,
    "start_time": "2024-04-18T09:44:29.672Z"
   },
   {
    "duration": 0,
    "start_time": "2024-04-18T09:44:29.674Z"
   },
   {
    "duration": 0,
    "start_time": "2024-04-18T09:44:29.676Z"
   },
   {
    "duration": 0,
    "start_time": "2024-04-18T09:44:29.677Z"
   },
   {
    "duration": 0,
    "start_time": "2024-04-18T09:44:29.679Z"
   },
   {
    "duration": 0,
    "start_time": "2024-04-18T09:44:29.680Z"
   },
   {
    "duration": 0,
    "start_time": "2024-04-18T09:44:29.682Z"
   },
   {
    "duration": 0,
    "start_time": "2024-04-18T09:44:29.683Z"
   },
   {
    "duration": 0,
    "start_time": "2024-04-18T09:44:29.684Z"
   },
   {
    "duration": 0,
    "start_time": "2024-04-18T09:44:29.686Z"
   },
   {
    "duration": 0,
    "start_time": "2024-04-18T09:44:29.688Z"
   },
   {
    "duration": 0,
    "start_time": "2024-04-18T09:44:29.689Z"
   },
   {
    "duration": 11,
    "start_time": "2024-04-18T09:52:02.680Z"
   },
   {
    "duration": 3,
    "start_time": "2024-04-18T09:53:29.126Z"
   },
   {
    "duration": 124,
    "start_time": "2024-04-18T09:54:35.911Z"
   },
   {
    "duration": 7254,
    "start_time": "2024-04-18T09:57:53.210Z"
   },
   {
    "duration": 2614,
    "start_time": "2024-04-18T09:58:38.652Z"
   },
   {
    "duration": 1417,
    "start_time": "2024-04-18T09:58:41.269Z"
   },
   {
    "duration": 3,
    "start_time": "2024-04-18T09:58:42.687Z"
   },
   {
    "duration": 983,
    "start_time": "2024-04-18T09:58:42.692Z"
   },
   {
    "duration": 18,
    "start_time": "2024-04-18T09:58:43.677Z"
   },
   {
    "duration": 43,
    "start_time": "2024-04-18T09:58:43.697Z"
   },
   {
    "duration": 6,
    "start_time": "2024-04-18T09:58:43.741Z"
   },
   {
    "duration": 189,
    "start_time": "2024-04-18T09:58:43.749Z"
   },
   {
    "duration": 517,
    "start_time": "2024-04-18T09:58:43.940Z"
   },
   {
    "duration": 547,
    "start_time": "2024-04-18T09:58:44.459Z"
   },
   {
    "duration": 319,
    "start_time": "2024-04-18T09:58:45.008Z"
   },
   {
    "duration": 46,
    "start_time": "2024-04-18T09:58:45.328Z"
   },
   {
    "duration": 109,
    "start_time": "2024-04-18T09:58:45.376Z"
   },
   {
    "duration": 398,
    "start_time": "2024-04-18T09:58:45.486Z"
   },
   {
    "duration": 315,
    "start_time": "2024-04-18T09:58:45.886Z"
   },
   {
    "duration": 32,
    "start_time": "2024-04-18T09:58:46.203Z"
   },
   {
    "duration": 57,
    "start_time": "2024-04-18T09:58:46.237Z"
   },
   {
    "duration": 65,
    "start_time": "2024-04-18T09:58:46.296Z"
   },
   {
    "duration": 26,
    "start_time": "2024-04-18T09:58:46.363Z"
   },
   {
    "duration": 36,
    "start_time": "2024-04-18T09:58:46.391Z"
   },
   {
    "duration": 27,
    "start_time": "2024-04-18T09:58:46.429Z"
   },
   {
    "duration": 39,
    "start_time": "2024-04-18T09:58:46.458Z"
   },
   {
    "duration": 5,
    "start_time": "2024-04-18T09:58:46.499Z"
   },
   {
    "duration": 4,
    "start_time": "2024-04-18T09:58:46.505Z"
   },
   {
    "duration": 18,
    "start_time": "2024-04-18T09:58:46.510Z"
   },
   {
    "duration": 2231,
    "start_time": "2024-04-18T09:58:46.530Z"
   },
   {
    "duration": 78810,
    "start_time": "2024-04-18T09:58:48.763Z"
   },
   {
    "duration": 15,
    "start_time": "2024-04-18T10:00:07.578Z"
   },
   {
    "duration": 83,
    "start_time": "2024-04-18T10:00:07.594Z"
   },
   {
    "duration": 27,
    "start_time": "2024-04-18T10:00:07.678Z"
   },
   {
    "duration": 27,
    "start_time": "2024-04-18T10:00:07.706Z"
   },
   {
    "duration": 47,
    "start_time": "2024-04-18T10:00:07.735Z"
   },
   {
    "duration": 1661,
    "start_time": "2024-04-18T10:00:07.784Z"
   },
   {
    "duration": 23372,
    "start_time": "2024-04-18T10:00:09.447Z"
   },
   {
    "duration": 12,
    "start_time": "2024-04-18T10:00:32.821Z"
   },
   {
    "duration": 39,
    "start_time": "2024-04-18T10:00:32.834Z"
   },
   {
    "duration": 8,
    "start_time": "2024-04-18T10:00:32.874Z"
   },
   {
    "duration": 19,
    "start_time": "2024-04-18T10:00:32.883Z"
   },
   {
    "duration": 1898,
    "start_time": "2024-04-18T10:00:32.903Z"
   },
   {
    "duration": 1980,
    "start_time": "2024-04-18T10:00:34.803Z"
   },
   {
    "duration": 3,
    "start_time": "2024-04-18T10:00:36.784Z"
   },
   {
    "duration": 2486,
    "start_time": "2024-04-18T10:00:36.789Z"
   },
   {
    "duration": 4953,
    "start_time": "2024-04-18T10:00:39.277Z"
   },
   {
    "duration": 14,
    "start_time": "2024-04-18T10:00:44.231Z"
   },
   {
    "duration": 3331,
    "start_time": "2024-04-18T10:00:44.246Z"
   },
   {
    "duration": 11,
    "start_time": "2024-04-18T10:00:47.579Z"
   },
   {
    "duration": 126,
    "start_time": "2024-04-18T10:00:47.592Z"
   },
   {
    "duration": 125,
    "start_time": "2024-04-18T10:00:47.719Z"
   },
   {
    "duration": 7,
    "start_time": "2024-04-18T10:00:47.846Z"
   },
   {
    "duration": 19,
    "start_time": "2024-04-18T10:00:47.855Z"
   },
   {
    "duration": 11,
    "start_time": "2024-04-18T10:00:47.876Z"
   },
   {
    "duration": 108,
    "start_time": "2024-04-18T10:00:47.889Z"
   },
   {
    "duration": 26,
    "start_time": "2024-04-18T10:00:47.999Z"
   },
   {
    "duration": 14,
    "start_time": "2024-04-18T10:00:48.027Z"
   },
   {
    "duration": 5,
    "start_time": "2024-04-18T10:00:48.042Z"
   },
   {
    "duration": 3,
    "start_time": "2024-04-18T10:00:48.074Z"
   },
   {
    "duration": 18495,
    "start_time": "2024-04-18T10:00:48.079Z"
   },
   {
    "duration": 3,
    "start_time": "2024-04-18T10:01:06.575Z"
   },
   {
    "duration": 15,
    "start_time": "2024-04-18T10:01:06.579Z"
   },
   {
    "duration": 14385,
    "start_time": "2024-04-18T10:01:06.595Z"
   },
   {
    "duration": 1304,
    "start_time": "2024-04-18T10:01:20.981Z"
   },
   {
    "duration": 79,
    "start_time": "2024-04-18T10:01:22.286Z"
   },
   {
    "duration": 0,
    "start_time": "2024-04-18T10:01:22.366Z"
   },
   {
    "duration": 0,
    "start_time": "2024-04-18T10:01:22.368Z"
   },
   {
    "duration": 0,
    "start_time": "2024-04-18T10:01:22.369Z"
   },
   {
    "duration": 0,
    "start_time": "2024-04-18T10:01:22.370Z"
   },
   {
    "duration": 0,
    "start_time": "2024-04-18T10:01:22.371Z"
   },
   {
    "duration": 0,
    "start_time": "2024-04-18T10:01:22.372Z"
   },
   {
    "duration": 0,
    "start_time": "2024-04-18T10:01:22.373Z"
   },
   {
    "duration": 0,
    "start_time": "2024-04-18T10:01:22.374Z"
   },
   {
    "duration": 0,
    "start_time": "2024-04-18T10:01:22.375Z"
   },
   {
    "duration": 0,
    "start_time": "2024-04-18T10:01:22.376Z"
   },
   {
    "duration": 0,
    "start_time": "2024-04-18T10:01:22.377Z"
   },
   {
    "duration": 0,
    "start_time": "2024-04-18T10:01:22.378Z"
   },
   {
    "duration": 0,
    "start_time": "2024-04-18T10:01:22.379Z"
   },
   {
    "duration": 0,
    "start_time": "2024-04-18T10:01:22.380Z"
   },
   {
    "duration": 0,
    "start_time": "2024-04-18T10:01:22.382Z"
   },
   {
    "duration": 0,
    "start_time": "2024-04-18T10:01:22.383Z"
   },
   {
    "duration": 0,
    "start_time": "2024-04-18T10:01:22.384Z"
   },
   {
    "duration": 0,
    "start_time": "2024-04-18T10:01:22.385Z"
   },
   {
    "duration": 0,
    "start_time": "2024-04-18T10:01:22.386Z"
   },
   {
    "duration": 12,
    "start_time": "2024-04-18T10:02:15.054Z"
   },
   {
    "duration": 119,
    "start_time": "2024-04-18T10:02:18.206Z"
   },
   {
    "duration": 3,
    "start_time": "2024-04-18T10:14:49.615Z"
   },
   {
    "duration": 308,
    "start_time": "2024-04-18T10:14:52.601Z"
   },
   {
    "duration": 317,
    "start_time": "2024-04-18T10:15:08.062Z"
   },
   {
    "duration": 4,
    "start_time": "2024-04-18T10:16:07.704Z"
   },
   {
    "duration": 4,
    "start_time": "2024-04-18T10:16:27.407Z"
   },
   {
    "duration": 3,
    "start_time": "2024-04-18T10:17:52.983Z"
   },
   {
    "duration": 5086,
    "start_time": "2024-04-18T10:17:57.263Z"
   },
   {
    "duration": 3324,
    "start_time": "2024-04-18T10:19:28.759Z"
   },
   {
    "duration": 15,
    "start_time": "2024-04-18T10:20:09.336Z"
   },
   {
    "duration": 9,
    "start_time": "2024-04-18T10:20:39.840Z"
   },
   {
    "duration": 9,
    "start_time": "2024-04-18T10:20:43.241Z"
   },
   {
    "duration": 3,
    "start_time": "2024-04-18T10:22:52.706Z"
   },
   {
    "duration": 2,
    "start_time": "2024-04-18T10:23:59.689Z"
   },
   {
    "duration": 3,
    "start_time": "2024-04-18T10:24:33.619Z"
   },
   {
    "duration": 463,
    "start_time": "2024-04-18T10:24:36.922Z"
   },
   {
    "duration": 172,
    "start_time": "2024-04-18T10:24:39.378Z"
   },
   {
    "duration": 2820,
    "start_time": "2024-04-18T10:25:33.554Z"
   },
   {
    "duration": 39,
    "start_time": "2024-04-18T10:25:38.354Z"
   },
   {
    "duration": 52,
    "start_time": "2024-04-18T11:39:21.733Z"
   },
   {
    "duration": 3905,
    "start_time": "2024-04-18T11:40:05.282Z"
   },
   {
    "duration": 1867,
    "start_time": "2024-04-18T11:40:09.190Z"
   },
   {
    "duration": 3,
    "start_time": "2024-04-18T11:40:11.059Z"
   },
   {
    "duration": 1294,
    "start_time": "2024-04-18T11:40:11.064Z"
   },
   {
    "duration": 18,
    "start_time": "2024-04-18T11:40:12.359Z"
   },
   {
    "duration": 43,
    "start_time": "2024-04-18T11:40:12.378Z"
   },
   {
    "duration": 9,
    "start_time": "2024-04-18T11:40:12.423Z"
   },
   {
    "duration": 171,
    "start_time": "2024-04-18T11:40:12.433Z"
   },
   {
    "duration": 519,
    "start_time": "2024-04-18T11:40:12.605Z"
   },
   {
    "duration": 590,
    "start_time": "2024-04-18T11:40:13.126Z"
   },
   {
    "duration": 328,
    "start_time": "2024-04-18T11:40:13.717Z"
   },
   {
    "duration": 36,
    "start_time": "2024-04-18T11:40:14.047Z"
   },
   {
    "duration": 25,
    "start_time": "2024-04-18T11:40:14.084Z"
   },
   {
    "duration": 374,
    "start_time": "2024-04-18T11:40:14.111Z"
   },
   {
    "duration": 303,
    "start_time": "2024-04-18T11:40:14.487Z"
   },
   {
    "duration": 31,
    "start_time": "2024-04-18T11:40:14.792Z"
   },
   {
    "duration": 62,
    "start_time": "2024-04-18T11:40:14.825Z"
   },
   {
    "duration": 23,
    "start_time": "2024-04-18T11:40:14.889Z"
   },
   {
    "duration": 34,
    "start_time": "2024-04-18T11:40:14.913Z"
   },
   {
    "duration": 30,
    "start_time": "2024-04-18T11:40:14.949Z"
   },
   {
    "duration": 25,
    "start_time": "2024-04-18T11:40:14.980Z"
   },
   {
    "duration": 52,
    "start_time": "2024-04-18T11:40:15.006Z"
   },
   {
    "duration": 52,
    "start_time": "2024-04-18T11:40:15.060Z"
   },
   {
    "duration": 17,
    "start_time": "2024-04-18T11:40:15.114Z"
   },
   {
    "duration": 19,
    "start_time": "2024-04-18T11:40:15.132Z"
   },
   {
    "duration": 2296,
    "start_time": "2024-04-18T11:40:15.153Z"
   },
   {
    "duration": 77392,
    "start_time": "2024-04-18T11:40:17.450Z"
   },
   {
    "duration": 14,
    "start_time": "2024-04-18T11:41:34.847Z"
   },
   {
    "duration": 37,
    "start_time": "2024-04-18T11:41:34.863Z"
   },
   {
    "duration": 17,
    "start_time": "2024-04-18T11:41:34.902Z"
   },
   {
    "duration": 12,
    "start_time": "2024-04-18T11:41:34.920Z"
   },
   {
    "duration": 78,
    "start_time": "2024-04-18T11:41:34.933Z"
   },
   {
    "duration": 1599,
    "start_time": "2024-04-18T11:41:35.012Z"
   },
   {
    "duration": 23952,
    "start_time": "2024-04-18T11:41:36.613Z"
   },
   {
    "duration": 13,
    "start_time": "2024-04-18T11:42:00.572Z"
   },
   {
    "duration": 102,
    "start_time": "2024-04-18T11:42:00.586Z"
   },
   {
    "duration": 46,
    "start_time": "2024-04-18T11:42:00.689Z"
   },
   {
    "duration": 85,
    "start_time": "2024-04-18T11:42:00.737Z"
   },
   {
    "duration": 1989,
    "start_time": "2024-04-18T11:42:00.824Z"
   },
   {
    "duration": 2051,
    "start_time": "2024-04-18T11:42:02.815Z"
   },
   {
    "duration": 6,
    "start_time": "2024-04-18T11:42:04.868Z"
   },
   {
    "duration": 2503,
    "start_time": "2024-04-18T11:42:04.876Z"
   },
   {
    "duration": 5008,
    "start_time": "2024-04-18T11:42:07.381Z"
   },
   {
    "duration": 13,
    "start_time": "2024-04-18T11:42:12.391Z"
   },
   {
    "duration": 3284,
    "start_time": "2024-04-18T11:42:12.406Z"
   },
   {
    "duration": 10,
    "start_time": "2024-04-18T11:42:15.692Z"
   },
   {
    "duration": 142,
    "start_time": "2024-04-18T11:42:15.703Z"
   },
   {
    "duration": 114,
    "start_time": "2024-04-18T11:42:15.847Z"
   },
   {
    "duration": 14,
    "start_time": "2024-04-18T11:42:15.962Z"
   },
   {
    "duration": 15,
    "start_time": "2024-04-18T11:42:15.990Z"
   },
   {
    "duration": 8,
    "start_time": "2024-04-18T11:42:16.006Z"
   },
   {
    "duration": 126,
    "start_time": "2024-04-18T11:42:16.015Z"
   },
   {
    "duration": 30,
    "start_time": "2024-04-18T11:42:16.143Z"
   },
   {
    "duration": 14,
    "start_time": "2024-04-18T11:42:16.174Z"
   },
   {
    "duration": 8,
    "start_time": "2024-04-18T11:42:16.190Z"
   },
   {
    "duration": 7,
    "start_time": "2024-04-18T11:42:16.199Z"
   },
   {
    "duration": 24671,
    "start_time": "2024-04-18T11:42:16.208Z"
   },
   {
    "duration": 4,
    "start_time": "2024-04-18T11:42:40.881Z"
   },
   {
    "duration": 32,
    "start_time": "2024-04-18T11:42:40.886Z"
   },
   {
    "duration": 16066,
    "start_time": "2024-04-18T11:42:40.920Z"
   },
   {
    "duration": 1387,
    "start_time": "2024-04-18T11:42:56.987Z"
   },
   {
    "duration": 2,
    "start_time": "2024-04-18T11:42:58.376Z"
   },
   {
    "duration": 14,
    "start_time": "2024-04-18T11:42:58.379Z"
   },
   {
    "duration": 133,
    "start_time": "2024-04-18T11:42:58.395Z"
   },
   {
    "duration": 0,
    "start_time": "2024-04-18T11:42:58.529Z"
   },
   {
    "duration": 0,
    "start_time": "2024-04-18T11:42:58.531Z"
   },
   {
    "duration": 0,
    "start_time": "2024-04-18T11:42:58.532Z"
   },
   {
    "duration": 0,
    "start_time": "2024-04-18T11:42:58.533Z"
   },
   {
    "duration": 0,
    "start_time": "2024-04-18T11:42:58.534Z"
   },
   {
    "duration": 0,
    "start_time": "2024-04-18T11:42:58.535Z"
   },
   {
    "duration": 0,
    "start_time": "2024-04-18T11:42:58.536Z"
   },
   {
    "duration": 0,
    "start_time": "2024-04-18T11:42:58.537Z"
   },
   {
    "duration": 0,
    "start_time": "2024-04-18T11:42:58.538Z"
   },
   {
    "duration": 0,
    "start_time": "2024-04-18T11:42:58.539Z"
   },
   {
    "duration": 0,
    "start_time": "2024-04-18T11:42:58.540Z"
   },
   {
    "duration": 0,
    "start_time": "2024-04-18T11:42:58.541Z"
   },
   {
    "duration": 0,
    "start_time": "2024-04-18T11:42:58.542Z"
   },
   {
    "duration": 0,
    "start_time": "2024-04-18T11:42:58.573Z"
   },
   {
    "duration": 0,
    "start_time": "2024-04-18T11:42:58.574Z"
   },
   {
    "duration": 0,
    "start_time": "2024-04-18T11:42:58.575Z"
   },
   {
    "duration": 0,
    "start_time": "2024-04-18T11:42:58.576Z"
   },
   {
    "duration": 7061,
    "start_time": "2024-04-18T11:43:18.685Z"
   },
   {
    "duration": 4,
    "start_time": "2024-04-18T11:43:28.614Z"
   },
   {
    "duration": 15,
    "start_time": "2024-04-18T11:43:32.021Z"
   },
   {
    "duration": 17,
    "start_time": "2024-04-18T11:43:35.029Z"
   },
   {
    "duration": 4,
    "start_time": "2024-04-18T11:43:58.102Z"
   },
   {
    "duration": 12,
    "start_time": "2024-04-18T11:44:40.686Z"
   },
   {
    "duration": 3,
    "start_time": "2024-04-18T11:44:42.934Z"
   },
   {
    "duration": 13,
    "start_time": "2024-04-18T11:44:44.366Z"
   },
   {
    "duration": 3124,
    "start_time": "2024-04-18T11:44:53.198Z"
   },
   {
    "duration": 16,
    "start_time": "2024-04-18T11:44:58.998Z"
   },
   {
    "duration": 3,
    "start_time": "2024-04-18T11:45:00.519Z"
   },
   {
    "duration": 17,
    "start_time": "2024-04-18T11:45:02.057Z"
   },
   {
    "duration": 4,
    "start_time": "2024-04-18T11:50:30.381Z"
   },
   {
    "duration": 2246,
    "start_time": "2024-04-18T11:50:32.133Z"
   },
   {
    "duration": 3,
    "start_time": "2024-04-18T11:50:44.857Z"
   },
   {
    "duration": 1408,
    "start_time": "2024-04-18T11:50:44.862Z"
   },
   {
    "duration": 3,
    "start_time": "2024-04-18T11:50:46.272Z"
   },
   {
    "duration": 992,
    "start_time": "2024-04-18T11:50:46.277Z"
   },
   {
    "duration": 17,
    "start_time": "2024-04-18T11:50:47.271Z"
   },
   {
    "duration": 41,
    "start_time": "2024-04-18T11:50:47.289Z"
   },
   {
    "duration": 34,
    "start_time": "2024-04-18T11:50:47.332Z"
   },
   {
    "duration": 180,
    "start_time": "2024-04-18T11:50:47.367Z"
   },
   {
    "duration": 509,
    "start_time": "2024-04-18T11:50:47.549Z"
   },
   {
    "duration": 547,
    "start_time": "2024-04-18T11:50:48.060Z"
   },
   {
    "duration": 323,
    "start_time": "2024-04-18T11:50:48.609Z"
   },
   {
    "duration": 43,
    "start_time": "2024-04-18T11:50:48.933Z"
   },
   {
    "duration": 25,
    "start_time": "2024-04-18T11:50:48.978Z"
   },
   {
    "duration": 381,
    "start_time": "2024-04-18T11:50:49.005Z"
   },
   {
    "duration": 282,
    "start_time": "2024-04-18T11:50:49.387Z"
   },
   {
    "duration": 29,
    "start_time": "2024-04-18T11:50:49.673Z"
   },
   {
    "duration": 81,
    "start_time": "2024-04-18T11:50:49.703Z"
   },
   {
    "duration": 73,
    "start_time": "2024-04-18T11:50:49.785Z"
   },
   {
    "duration": 52,
    "start_time": "2024-04-18T11:50:49.860Z"
   },
   {
    "duration": 24,
    "start_time": "2024-04-18T11:50:49.914Z"
   },
   {
    "duration": 26,
    "start_time": "2024-04-18T11:50:49.939Z"
   },
   {
    "duration": 25,
    "start_time": "2024-04-18T11:50:49.967Z"
   },
   {
    "duration": 25,
    "start_time": "2024-04-18T11:50:49.994Z"
   },
   {
    "duration": 76,
    "start_time": "2024-04-18T11:50:50.026Z"
   },
   {
    "duration": 35,
    "start_time": "2024-04-18T11:50:50.104Z"
   },
   {
    "duration": 2240,
    "start_time": "2024-04-18T11:50:50.141Z"
   },
   {
    "duration": 83812,
    "start_time": "2024-04-18T11:50:52.382Z"
   },
   {
    "duration": 14,
    "start_time": "2024-04-18T11:52:16.196Z"
   },
   {
    "duration": 27,
    "start_time": "2024-04-18T11:52:16.212Z"
   },
   {
    "duration": 34,
    "start_time": "2024-04-18T11:52:16.240Z"
   },
   {
    "duration": 11,
    "start_time": "2024-04-18T11:52:16.276Z"
   },
   {
    "duration": 48,
    "start_time": "2024-04-18T11:52:16.289Z"
   },
   {
    "duration": 1654,
    "start_time": "2024-04-18T11:52:16.339Z"
   },
   {
    "duration": 24451,
    "start_time": "2024-04-18T11:52:17.995Z"
   },
   {
    "duration": 11,
    "start_time": "2024-04-18T11:52:42.448Z"
   },
   {
    "duration": 18,
    "start_time": "2024-04-18T11:52:42.473Z"
   },
   {
    "duration": 8,
    "start_time": "2024-04-18T11:52:42.493Z"
   },
   {
    "duration": 23,
    "start_time": "2024-04-18T11:52:42.502Z"
   },
   {
    "duration": 1999,
    "start_time": "2024-04-18T11:52:42.526Z"
   },
   {
    "duration": 1990,
    "start_time": "2024-04-18T11:52:44.526Z"
   },
   {
    "duration": 3,
    "start_time": "2024-04-18T11:52:46.517Z"
   },
   {
    "duration": 2554,
    "start_time": "2024-04-18T11:52:46.522Z"
   },
   {
    "duration": 4959,
    "start_time": "2024-04-18T11:52:49.078Z"
   },
   {
    "duration": 13,
    "start_time": "2024-04-18T11:52:54.039Z"
   },
   {
    "duration": 3348,
    "start_time": "2024-04-18T11:52:54.053Z"
   },
   {
    "duration": 11,
    "start_time": "2024-04-18T11:52:57.402Z"
   },
   {
    "duration": 119,
    "start_time": "2024-04-18T11:52:57.415Z"
   },
   {
    "duration": 119,
    "start_time": "2024-04-18T11:52:57.535Z"
   },
   {
    "duration": 5,
    "start_time": "2024-04-18T11:52:57.656Z"
   },
   {
    "duration": 12,
    "start_time": "2024-04-18T11:52:57.662Z"
   },
   {
    "duration": 11,
    "start_time": "2024-04-18T11:52:57.676Z"
   },
   {
    "duration": 111,
    "start_time": "2024-04-18T11:52:57.688Z"
   },
   {
    "duration": 24,
    "start_time": "2024-04-18T11:52:57.800Z"
   },
   {
    "duration": 12,
    "start_time": "2024-04-18T11:52:57.826Z"
   },
   {
    "duration": 11,
    "start_time": "2024-04-18T11:52:57.840Z"
   },
   {
    "duration": 21,
    "start_time": "2024-04-18T11:52:57.852Z"
   },
   {
    "duration": 18818,
    "start_time": "2024-04-18T11:52:57.874Z"
   },
   {
    "duration": 3,
    "start_time": "2024-04-18T11:53:16.693Z"
   },
   {
    "duration": 35,
    "start_time": "2024-04-18T11:53:16.697Z"
   },
   {
    "duration": 12339,
    "start_time": "2024-04-18T11:53:16.734Z"
   },
   {
    "duration": 1300,
    "start_time": "2024-04-18T11:53:29.075Z"
   },
   {
    "duration": 96,
    "start_time": "2024-04-18T11:53:30.377Z"
   },
   {
    "duration": 0,
    "start_time": "2024-04-18T11:53:30.475Z"
   },
   {
    "duration": 0,
    "start_time": "2024-04-18T11:53:30.476Z"
   },
   {
    "duration": 0,
    "start_time": "2024-04-18T11:53:30.477Z"
   },
   {
    "duration": 0,
    "start_time": "2024-04-18T11:53:30.479Z"
   },
   {
    "duration": 0,
    "start_time": "2024-04-18T11:53:30.480Z"
   },
   {
    "duration": 0,
    "start_time": "2024-04-18T11:53:30.481Z"
   },
   {
    "duration": 0,
    "start_time": "2024-04-18T11:53:30.482Z"
   },
   {
    "duration": 0,
    "start_time": "2024-04-18T11:53:30.483Z"
   },
   {
    "duration": 0,
    "start_time": "2024-04-18T11:53:30.484Z"
   },
   {
    "duration": 0,
    "start_time": "2024-04-18T11:53:30.485Z"
   },
   {
    "duration": 0,
    "start_time": "2024-04-18T11:53:30.486Z"
   },
   {
    "duration": 0,
    "start_time": "2024-04-18T11:53:30.487Z"
   },
   {
    "duration": 0,
    "start_time": "2024-04-18T11:53:30.488Z"
   },
   {
    "duration": 0,
    "start_time": "2024-04-18T11:53:30.489Z"
   },
   {
    "duration": 0,
    "start_time": "2024-04-18T11:53:30.490Z"
   },
   {
    "duration": 0,
    "start_time": "2024-04-18T11:53:30.491Z"
   },
   {
    "duration": 0,
    "start_time": "2024-04-18T11:53:30.492Z"
   },
   {
    "duration": 0,
    "start_time": "2024-04-18T11:53:30.493Z"
   },
   {
    "duration": 0,
    "start_time": "2024-04-18T11:53:30.494Z"
   },
   {
    "duration": 12,
    "start_time": "2024-04-18T11:53:37.775Z"
   },
   {
    "duration": 119,
    "start_time": "2024-04-18T11:53:39.247Z"
   },
   {
    "duration": 9,
    "start_time": "2024-04-18T11:53:50.895Z"
   },
   {
    "duration": 3,
    "start_time": "2024-04-18T11:55:02.256Z"
   },
   {
    "duration": 436,
    "start_time": "2024-04-18T11:55:03.583Z"
   },
   {
    "duration": 2,
    "start_time": "2024-04-18T11:55:15.456Z"
   },
   {
    "duration": 209,
    "start_time": "2024-04-18T11:55:17.400Z"
   },
   {
    "duration": 2809,
    "start_time": "2024-04-18T11:55:19.275Z"
   },
   {
    "duration": 48,
    "start_time": "2024-04-18T11:55:24.049Z"
   },
   {
    "duration": 44,
    "start_time": "2024-04-18T11:55:35.872Z"
   },
   {
    "duration": 3,
    "start_time": "2024-04-18T11:55:37.384Z"
   },
   {
    "duration": 571,
    "start_time": "2024-04-18T11:55:38.664Z"
   },
   {
    "duration": 54,
    "start_time": "2024-04-18T11:55:41.889Z"
   },
   {
    "duration": 11,
    "start_time": "2024-04-18T12:00:08.339Z"
   },
   {
    "duration": 61,
    "start_time": "2024-04-18T12:00:19.421Z"
   },
   {
    "duration": 66069,
    "start_time": "2024-04-18T12:00:31.381Z"
   },
   {
    "duration": 14,
    "start_time": "2024-04-18T12:01:48.459Z"
   },
   {
    "duration": 1229,
    "start_time": "2024-04-18T12:02:16.242Z"
   },
   {
    "duration": 4,
    "start_time": "2024-04-18T12:02:30.484Z"
   },
   {
    "duration": 1257,
    "start_time": "2024-04-18T12:02:36.629Z"
   },
   {
    "duration": 4,
    "start_time": "2024-04-18T12:02:46.997Z"
   },
   {
    "duration": 8,
    "start_time": "2024-04-18T12:03:16.068Z"
   },
   {
    "duration": 3,
    "start_time": "2024-04-18T12:05:36.519Z"
   },
   {
    "duration": 261,
    "start_time": "2024-04-18T12:05:40.054Z"
   },
   {
    "duration": 18,
    "start_time": "2024-04-18T12:05:42.503Z"
   },
   {
    "duration": 10,
    "start_time": "2024-04-18T12:05:47.566Z"
   },
   {
    "duration": 17,
    "start_time": "2024-04-18T12:05:56.142Z"
   },
   {
    "duration": 77,
    "start_time": "2024-04-18T12:07:35.447Z"
   },
   {
    "duration": 3,
    "start_time": "2024-04-18T12:08:16.673Z"
   },
   {
    "duration": 1481,
    "start_time": "2024-04-18T12:08:16.678Z"
   },
   {
    "duration": 3,
    "start_time": "2024-04-18T12:08:18.161Z"
   },
   {
    "duration": 1025,
    "start_time": "2024-04-18T12:08:18.166Z"
   },
   {
    "duration": 17,
    "start_time": "2024-04-18T12:08:19.193Z"
   },
   {
    "duration": 54,
    "start_time": "2024-04-18T12:08:19.211Z"
   },
   {
    "duration": 5,
    "start_time": "2024-04-18T12:08:19.267Z"
   },
   {
    "duration": 212,
    "start_time": "2024-04-18T12:08:19.274Z"
   },
   {
    "duration": 539,
    "start_time": "2024-04-18T12:08:19.489Z"
   },
   {
    "duration": 637,
    "start_time": "2024-04-18T12:08:20.030Z"
   },
   {
    "duration": 337,
    "start_time": "2024-04-18T12:08:20.672Z"
   },
   {
    "duration": 30,
    "start_time": "2024-04-18T12:08:21.011Z"
   },
   {
    "duration": 35,
    "start_time": "2024-04-18T12:08:21.043Z"
   },
   {
    "duration": 393,
    "start_time": "2024-04-18T12:08:21.080Z"
   },
   {
    "duration": 328,
    "start_time": "2024-04-18T12:08:21.475Z"
   },
   {
    "duration": 33,
    "start_time": "2024-04-18T12:08:21.805Z"
   },
   {
    "duration": 66,
    "start_time": "2024-04-18T12:08:21.840Z"
   },
   {
    "duration": 23,
    "start_time": "2024-04-18T12:08:21.908Z"
   },
   {
    "duration": 52,
    "start_time": "2024-04-18T12:08:21.933Z"
   },
   {
    "duration": 28,
    "start_time": "2024-04-18T12:08:21.987Z"
   },
   {
    "duration": 24,
    "start_time": "2024-04-18T12:08:22.017Z"
   },
   {
    "duration": 33,
    "start_time": "2024-04-18T12:08:22.042Z"
   },
   {
    "duration": 3,
    "start_time": "2024-04-18T12:08:22.078Z"
   },
   {
    "duration": 3,
    "start_time": "2024-04-18T12:08:22.086Z"
   },
   {
    "duration": 15,
    "start_time": "2024-04-18T12:08:22.092Z"
   },
   {
    "duration": 2409,
    "start_time": "2024-04-18T12:08:22.109Z"
   },
   {
    "duration": 79349,
    "start_time": "2024-04-18T12:08:24.520Z"
   },
   {
    "duration": 15,
    "start_time": "2024-04-18T12:09:43.870Z"
   },
   {
    "duration": 28,
    "start_time": "2024-04-18T12:09:43.887Z"
   },
   {
    "duration": 13,
    "start_time": "2024-04-18T12:09:43.916Z"
   },
   {
    "duration": 14,
    "start_time": "2024-04-18T12:09:43.930Z"
   },
   {
    "duration": 48,
    "start_time": "2024-04-18T12:09:43.975Z"
   },
   {
    "duration": 1655,
    "start_time": "2024-04-18T12:09:44.024Z"
   },
   {
    "duration": 23209,
    "start_time": "2024-04-18T12:09:45.680Z"
   },
   {
    "duration": 12,
    "start_time": "2024-04-18T12:10:08.891Z"
   },
   {
    "duration": 23,
    "start_time": "2024-04-18T12:10:08.904Z"
   },
   {
    "duration": 8,
    "start_time": "2024-04-18T12:10:08.929Z"
   },
   {
    "duration": 36,
    "start_time": "2024-04-18T12:10:08.938Z"
   },
   {
    "duration": 1929,
    "start_time": "2024-04-18T12:10:08.975Z"
   },
   {
    "duration": 1971,
    "start_time": "2024-04-18T12:10:10.905Z"
   },
   {
    "duration": 2,
    "start_time": "2024-04-18T12:10:12.878Z"
   },
   {
    "duration": 2507,
    "start_time": "2024-04-18T12:10:12.882Z"
   },
   {
    "duration": 4876,
    "start_time": "2024-04-18T12:10:15.391Z"
   },
   {
    "duration": 13,
    "start_time": "2024-04-18T12:10:20.273Z"
   },
   {
    "duration": 3312,
    "start_time": "2024-04-18T12:10:20.287Z"
   },
   {
    "duration": 10,
    "start_time": "2024-04-18T12:10:23.601Z"
   },
   {
    "duration": 129,
    "start_time": "2024-04-18T12:10:23.613Z"
   },
   {
    "duration": 117,
    "start_time": "2024-04-18T12:10:23.744Z"
   },
   {
    "duration": 15,
    "start_time": "2024-04-18T12:10:23.863Z"
   },
   {
    "duration": 30,
    "start_time": "2024-04-18T12:10:23.880Z"
   },
   {
    "duration": 29,
    "start_time": "2024-04-18T12:10:23.912Z"
   },
   {
    "duration": 119,
    "start_time": "2024-04-18T12:10:23.943Z"
   },
   {
    "duration": 32,
    "start_time": "2024-04-18T12:10:24.063Z"
   },
   {
    "duration": 14,
    "start_time": "2024-04-18T12:10:24.097Z"
   },
   {
    "duration": 3,
    "start_time": "2024-04-18T12:10:24.113Z"
   },
   {
    "duration": 7,
    "start_time": "2024-04-18T12:10:24.118Z"
   },
   {
    "duration": 21046,
    "start_time": "2024-04-18T12:10:24.127Z"
   },
   {
    "duration": 3,
    "start_time": "2024-04-18T12:10:45.175Z"
   },
   {
    "duration": 39,
    "start_time": "2024-04-18T12:10:45.180Z"
   },
   {
    "duration": 10953,
    "start_time": "2024-04-18T12:10:45.220Z"
   },
   {
    "duration": 1313,
    "start_time": "2024-04-18T12:10:56.176Z"
   },
   {
    "duration": 3,
    "start_time": "2024-04-18T12:10:57.491Z"
   },
   {
    "duration": 79,
    "start_time": "2024-04-18T12:10:57.496Z"
   },
   {
    "duration": 3,
    "start_time": "2024-04-18T12:10:57.577Z"
   },
   {
    "duration": 492,
    "start_time": "2024-04-18T12:10:57.581Z"
   },
   {
    "duration": 199,
    "start_time": "2024-04-18T12:10:58.074Z"
   },
   {
    "duration": 2807,
    "start_time": "2024-04-18T12:10:58.274Z"
   },
   {
    "duration": 196,
    "start_time": "2024-04-18T12:11:01.083Z"
   },
   {
    "duration": 109,
    "start_time": "2024-04-18T12:11:01.376Z"
   },
   {
    "duration": 228,
    "start_time": "2024-04-18T12:11:01.487Z"
   },
   {
    "duration": 817,
    "start_time": "2024-04-18T12:11:01.716Z"
   },
   {
    "duration": 57,
    "start_time": "2024-04-18T12:11:02.534Z"
   },
   {
    "duration": 66705,
    "start_time": "2024-04-18T12:11:02.592Z"
   },
   {
    "duration": 3,
    "start_time": "2024-04-18T12:12:09.299Z"
   },
   {
    "duration": 37,
    "start_time": "2024-04-18T12:12:09.303Z"
   },
   {
    "duration": 11,
    "start_time": "2024-04-18T12:12:09.341Z"
   },
   {
    "duration": 296,
    "start_time": "2024-04-18T12:12:09.354Z"
   },
   {
    "duration": 22,
    "start_time": "2024-04-18T12:12:09.652Z"
   },
   {
    "duration": 11,
    "start_time": "2024-04-18T12:12:09.677Z"
   },
   {
    "duration": 36,
    "start_time": "2024-04-18T12:12:09.689Z"
   }
  ],
  "kernelspec": {
   "display_name": "Python 3 (ipykernel)",
   "language": "python",
   "name": "python3"
  },
  "language_info": {
   "codemirror_mode": {
    "name": "ipython",
    "version": 3
   },
   "file_extension": ".py",
   "mimetype": "text/x-python",
   "name": "python",
   "nbconvert_exporter": "python",
   "pygments_lexer": "ipython3",
   "version": "3.9.21"
  },
  "toc": {
   "base_numbering": 1,
   "nav_menu": {
    "height": "86.9886px",
    "width": "412.784px"
   },
   "number_sections": true,
   "sideBar": true,
   "skip_h1_title": true,
   "title_cell": "Table of Contents",
   "title_sidebar": "Contents",
   "toc_cell": false,
   "toc_position": {
    "height": "928.182px",
    "left": "97px",
    "top": "110.779px",
    "width": "465.455px"
   },
   "toc_section_display": true,
   "toc_window_display": true
  }
 },
 "nbformat": 4,
 "nbformat_minor": 4
}

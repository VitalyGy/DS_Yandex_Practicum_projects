{
 "cells": [
  {
   "cell_type": "markdown",
   "metadata": {},
   "source": [
    "# Исследование рынка компьютерных игр"
   ]
  },
  {
   "cell_type": "markdown",
   "metadata": {},
   "source": [
    "Введение: Вы работаете в интернет-магазине «Стримчик», который продаёт по всему миру компьютерные игры. Из открытых источников доступны исторические данные о продажах игр, оценки пользователей и экспертов, жанры и платформы (например, Xbox или PlayStation)."
   ]
  },
  {
   "cell_type": "markdown",
   "metadata": {},
   "source": [
    "Цель проекта: Вам нужно выявить определяющие успешность игры закономерности. Это позволит сделать ставку на потенциально популярный продукт и спланировать рекламные кампании."
   ]
  },
  {
   "cell_type": "markdown",
   "metadata": {},
   "source": [
    "План работы:\n",
    "1. Загрузка данных.\n",
    "2. Подготовка данных.\n",
    "3. Исследовательский анализ данных.\n",
    "4. Портрет пользователя каждого региона.\n",
    "5. Проверка гипотез.\n",
    "6. Общий вывод."
   ]
  },
  {
   "cell_type": "markdown",
   "metadata": {},
   "source": [
    "* Name — название игры\n",
    "* Platform — платформа\n",
    "* Year_of_Release — год выпуска\n",
    "* Genre — жанр игры\n",
    "* NA_sales — продажи в Северной Америке (миллионы проданных копий)\n",
    "* EU_sales — продажи в Европе (миллионы проданных копий)\n",
    "* JP_sales — продажи в Японии (миллионы проданных копий)\n",
    "* Other_sales — продажи в других странах (миллионы проданных копий)\n",
    "* Critic_Score — оценка критиков (максимум 100)\n",
    "* User_Score — оценка пользователей (максимум 10)\n",
    "* Rating — рейтинг от организации ESRB (англ. Entertainment Software Rating Board). Эта ассоциация определяет рейтинг компьютерных игр и присваивает им подходящую возрастную категорию.\n",
    "\n",
    "Датасет. Путь к файлу: /datasets/games.csv."
   ]
  },
  {
   "cell_type": "code",
   "execution_count": 1,
   "metadata": {},
   "outputs": [],
   "source": [
    "import pandas as pd\n",
    "import numpy as np\n",
    "import seaborn\n",
    "from matplotlib import pyplot as plt\n",
    "from scipy import stats as st"
   ]
  },
  {
   "cell_type": "markdown",
   "metadata": {},
   "source": [
    "## Загрузка данных."
   ]
  },
  {
   "cell_type": "code",
   "execution_count": 2,
   "metadata": {},
   "outputs": [],
   "source": [
    "try:\n",
    "    games = pd.read_csv('games.csv')\n",
    "except:\n",
    "    games = pd.read_csv('/datasets/games.csv')"
   ]
  },
  {
   "cell_type": "code",
   "execution_count": 3,
   "metadata": {},
   "outputs": [
    {
     "data": {
      "text/html": [
       "<div>\n",
       "<style scoped>\n",
       "    .dataframe tbody tr th:only-of-type {\n",
       "        vertical-align: middle;\n",
       "    }\n",
       "\n",
       "    .dataframe tbody tr th {\n",
       "        vertical-align: top;\n",
       "    }\n",
       "\n",
       "    .dataframe thead th {\n",
       "        text-align: right;\n",
       "    }\n",
       "</style>\n",
       "<table border=\"1\" class=\"dataframe\">\n",
       "  <thead>\n",
       "    <tr style=\"text-align: right;\">\n",
       "      <th></th>\n",
       "      <th>Name</th>\n",
       "      <th>Platform</th>\n",
       "      <th>Year_of_Release</th>\n",
       "      <th>Genre</th>\n",
       "      <th>NA_sales</th>\n",
       "      <th>EU_sales</th>\n",
       "      <th>JP_sales</th>\n",
       "      <th>Other_sales</th>\n",
       "      <th>Critic_Score</th>\n",
       "      <th>User_Score</th>\n",
       "      <th>Rating</th>\n",
       "    </tr>\n",
       "  </thead>\n",
       "  <tbody>\n",
       "    <tr>\n",
       "      <th>0</th>\n",
       "      <td>Wii Sports</td>\n",
       "      <td>Wii</td>\n",
       "      <td>2006.0</td>\n",
       "      <td>Sports</td>\n",
       "      <td>41.36</td>\n",
       "      <td>28.96</td>\n",
       "      <td>3.77</td>\n",
       "      <td>8.45</td>\n",
       "      <td>76.0</td>\n",
       "      <td>8</td>\n",
       "      <td>E</td>\n",
       "    </tr>\n",
       "    <tr>\n",
       "      <th>1</th>\n",
       "      <td>Super Mario Bros.</td>\n",
       "      <td>NES</td>\n",
       "      <td>1985.0</td>\n",
       "      <td>Platform</td>\n",
       "      <td>29.08</td>\n",
       "      <td>3.58</td>\n",
       "      <td>6.81</td>\n",
       "      <td>0.77</td>\n",
       "      <td>NaN</td>\n",
       "      <td>NaN</td>\n",
       "      <td>NaN</td>\n",
       "    </tr>\n",
       "    <tr>\n",
       "      <th>2</th>\n",
       "      <td>Mario Kart Wii</td>\n",
       "      <td>Wii</td>\n",
       "      <td>2008.0</td>\n",
       "      <td>Racing</td>\n",
       "      <td>15.68</td>\n",
       "      <td>12.76</td>\n",
       "      <td>3.79</td>\n",
       "      <td>3.29</td>\n",
       "      <td>82.0</td>\n",
       "      <td>8.3</td>\n",
       "      <td>E</td>\n",
       "    </tr>\n",
       "    <tr>\n",
       "      <th>3</th>\n",
       "      <td>Wii Sports Resort</td>\n",
       "      <td>Wii</td>\n",
       "      <td>2009.0</td>\n",
       "      <td>Sports</td>\n",
       "      <td>15.61</td>\n",
       "      <td>10.93</td>\n",
       "      <td>3.28</td>\n",
       "      <td>2.95</td>\n",
       "      <td>80.0</td>\n",
       "      <td>8</td>\n",
       "      <td>E</td>\n",
       "    </tr>\n",
       "    <tr>\n",
       "      <th>4</th>\n",
       "      <td>Pokemon Red/Pokemon Blue</td>\n",
       "      <td>GB</td>\n",
       "      <td>1996.0</td>\n",
       "      <td>Role-Playing</td>\n",
       "      <td>11.27</td>\n",
       "      <td>8.89</td>\n",
       "      <td>10.22</td>\n",
       "      <td>1.00</td>\n",
       "      <td>NaN</td>\n",
       "      <td>NaN</td>\n",
       "      <td>NaN</td>\n",
       "    </tr>\n",
       "  </tbody>\n",
       "</table>\n",
       "</div>"
      ],
      "text/plain": [
       "                       Name Platform  Year_of_Release         Genre  NA_sales  \\\n",
       "0                Wii Sports      Wii           2006.0        Sports     41.36   \n",
       "1         Super Mario Bros.      NES           1985.0      Platform     29.08   \n",
       "2            Mario Kart Wii      Wii           2008.0        Racing     15.68   \n",
       "3         Wii Sports Resort      Wii           2009.0        Sports     15.61   \n",
       "4  Pokemon Red/Pokemon Blue       GB           1996.0  Role-Playing     11.27   \n",
       "\n",
       "   EU_sales  JP_sales  Other_sales  Critic_Score User_Score Rating  \n",
       "0     28.96      3.77         8.45          76.0          8      E  \n",
       "1      3.58      6.81         0.77           NaN        NaN    NaN  \n",
       "2     12.76      3.79         3.29          82.0        8.3      E  \n",
       "3     10.93      3.28         2.95          80.0          8      E  \n",
       "4      8.89     10.22         1.00           NaN        NaN    NaN  "
      ]
     },
     "execution_count": 3,
     "metadata": {},
     "output_type": "execute_result"
    }
   ],
   "source": [
    "games.head()"
   ]
  },
  {
   "cell_type": "markdown",
   "metadata": {},
   "source": [
    "Вывел первые строки каждого набора данных. Изучил общую информацию о датафрейме."
   ]
  },
  {
   "cell_type": "markdown",
   "metadata": {},
   "source": [
    "## Подготовка данных."
   ]
  },
  {
   "cell_type": "code",
   "execution_count": 4,
   "metadata": {},
   "outputs": [
    {
     "data": {
      "text/html": [
       "<div>\n",
       "<style scoped>\n",
       "    .dataframe tbody tr th:only-of-type {\n",
       "        vertical-align: middle;\n",
       "    }\n",
       "\n",
       "    .dataframe tbody tr th {\n",
       "        vertical-align: top;\n",
       "    }\n",
       "\n",
       "    .dataframe thead th {\n",
       "        text-align: right;\n",
       "    }\n",
       "</style>\n",
       "<table border=\"1\" class=\"dataframe\">\n",
       "  <thead>\n",
       "    <tr style=\"text-align: right;\">\n",
       "      <th></th>\n",
       "      <th>name</th>\n",
       "      <th>platform</th>\n",
       "      <th>year_of_release</th>\n",
       "      <th>genre</th>\n",
       "      <th>na_sales</th>\n",
       "      <th>eu_sales</th>\n",
       "      <th>jp_sales</th>\n",
       "      <th>other_sales</th>\n",
       "      <th>critic_score</th>\n",
       "      <th>user_score</th>\n",
       "      <th>rating</th>\n",
       "    </tr>\n",
       "  </thead>\n",
       "  <tbody>\n",
       "    <tr>\n",
       "      <th>0</th>\n",
       "      <td>Wii Sports</td>\n",
       "      <td>Wii</td>\n",
       "      <td>2006.0</td>\n",
       "      <td>Sports</td>\n",
       "      <td>41.36</td>\n",
       "      <td>28.96</td>\n",
       "      <td>3.77</td>\n",
       "      <td>8.45</td>\n",
       "      <td>76.0</td>\n",
       "      <td>8</td>\n",
       "      <td>E</td>\n",
       "    </tr>\n",
       "    <tr>\n",
       "      <th>1</th>\n",
       "      <td>Super Mario Bros.</td>\n",
       "      <td>NES</td>\n",
       "      <td>1985.0</td>\n",
       "      <td>Platform</td>\n",
       "      <td>29.08</td>\n",
       "      <td>3.58</td>\n",
       "      <td>6.81</td>\n",
       "      <td>0.77</td>\n",
       "      <td>NaN</td>\n",
       "      <td>NaN</td>\n",
       "      <td>NaN</td>\n",
       "    </tr>\n",
       "    <tr>\n",
       "      <th>2</th>\n",
       "      <td>Mario Kart Wii</td>\n",
       "      <td>Wii</td>\n",
       "      <td>2008.0</td>\n",
       "      <td>Racing</td>\n",
       "      <td>15.68</td>\n",
       "      <td>12.76</td>\n",
       "      <td>3.79</td>\n",
       "      <td>3.29</td>\n",
       "      <td>82.0</td>\n",
       "      <td>8.3</td>\n",
       "      <td>E</td>\n",
       "    </tr>\n",
       "    <tr>\n",
       "      <th>3</th>\n",
       "      <td>Wii Sports Resort</td>\n",
       "      <td>Wii</td>\n",
       "      <td>2009.0</td>\n",
       "      <td>Sports</td>\n",
       "      <td>15.61</td>\n",
       "      <td>10.93</td>\n",
       "      <td>3.28</td>\n",
       "      <td>2.95</td>\n",
       "      <td>80.0</td>\n",
       "      <td>8</td>\n",
       "      <td>E</td>\n",
       "    </tr>\n",
       "    <tr>\n",
       "      <th>4</th>\n",
       "      <td>Pokemon Red/Pokemon Blue</td>\n",
       "      <td>GB</td>\n",
       "      <td>1996.0</td>\n",
       "      <td>Role-Playing</td>\n",
       "      <td>11.27</td>\n",
       "      <td>8.89</td>\n",
       "      <td>10.22</td>\n",
       "      <td>1.00</td>\n",
       "      <td>NaN</td>\n",
       "      <td>NaN</td>\n",
       "      <td>NaN</td>\n",
       "    </tr>\n",
       "  </tbody>\n",
       "</table>\n",
       "</div>"
      ],
      "text/plain": [
       "                       name platform  year_of_release         genre  na_sales  \\\n",
       "0                Wii Sports      Wii           2006.0        Sports     41.36   \n",
       "1         Super Mario Bros.      NES           1985.0      Platform     29.08   \n",
       "2            Mario Kart Wii      Wii           2008.0        Racing     15.68   \n",
       "3         Wii Sports Resort      Wii           2009.0        Sports     15.61   \n",
       "4  Pokemon Red/Pokemon Blue       GB           1996.0  Role-Playing     11.27   \n",
       "\n",
       "   eu_sales  jp_sales  other_sales  critic_score user_score rating  \n",
       "0     28.96      3.77         8.45          76.0          8      E  \n",
       "1      3.58      6.81         0.77           NaN        NaN    NaN  \n",
       "2     12.76      3.79         3.29          82.0        8.3      E  \n",
       "3     10.93      3.28         2.95          80.0          8      E  \n",
       "4      8.89     10.22         1.00           NaN        NaN    NaN  "
      ]
     },
     "execution_count": 4,
     "metadata": {},
     "output_type": "execute_result"
    }
   ],
   "source": [
    "# Меняю названия столбцов на нижний регистр\n",
    "games.columns = games.columns.str.lower()\n",
    "games.head()"
   ]
  },
  {
   "cell_type": "code",
   "execution_count": 5,
   "metadata": {},
   "outputs": [
    {
     "name": "stdout",
     "output_type": "stream",
     "text": [
      "<class 'pandas.core.frame.DataFrame'>\n",
      "RangeIndex: 16715 entries, 0 to 16714\n",
      "Data columns (total 11 columns):\n",
      " #   Column           Non-Null Count  Dtype  \n",
      "---  ------           --------------  -----  \n",
      " 0   name             16713 non-null  object \n",
      " 1   platform         16715 non-null  object \n",
      " 2   year_of_release  16446 non-null  float64\n",
      " 3   genre            16713 non-null  object \n",
      " 4   na_sales         16715 non-null  float64\n",
      " 5   eu_sales         16715 non-null  float64\n",
      " 6   jp_sales         16715 non-null  float64\n",
      " 7   other_sales      16715 non-null  float64\n",
      " 8   critic_score     8137 non-null   float64\n",
      " 9   user_score       10014 non-null  object \n",
      " 10  rating           9949 non-null   object \n",
      "dtypes: float64(6), object(5)\n",
      "memory usage: 1.4+ MB\n"
     ]
    }
   ],
   "source": [
    "games.info()"
   ]
  },
  {
   "cell_type": "code",
   "execution_count": 6,
   "metadata": {},
   "outputs": [
    {
     "data": {
      "text/plain": [
       "array([2006, 1985, 2008, 2009, 1996, 1989, 1984, 2005, 1999, 2007, 2010,\n",
       "       2013, 2004, 1990, 1988, 2002, 2001, 2011, 1998, 2015, 2012, 2014,\n",
       "       1992, 1997, 1993, 1994, 1982, 2016, 2003, 1986, 2000, 1995, 1991,\n",
       "       1981, 1987, 1980, 1983])"
      ]
     },
     "execution_count": 6,
     "metadata": {},
     "output_type": "execute_result"
    }
   ],
   "source": [
    "# Удаляем строки с пропущенным годом выпуска\n",
    "games = games.dropna(subset=['year_of_release'])\n",
    "games['year_of_release'] = games['year_of_release'].astype('int')\n",
    "games['year_of_release'].unique()"
   ]
  },
  {
   "cell_type": "code",
   "execution_count": 7,
   "metadata": {},
   "outputs": [],
   "source": [
    "games = games.dropna(subset=['name'])\n",
    "games = games.dropna(subset=['genre'])"
   ]
  },
  {
   "cell_type": "code",
   "execution_count": 8,
   "metadata": {},
   "outputs": [
    {
     "name": "stdout",
     "output_type": "stream",
     "text": [
      "['8' nan '8.3' '8.5' '6.6' '8.4' '8.6' '7.7' '6.3' '7.4' '8.2' '9' '7.9'\n",
      " '8.1' '8.7' '7.1' '3.4' '5.3' '4.8' '3.2' '8.9' '6.4' '7.8' '7.5' '2.6'\n",
      " '7.2' '9.2' '7' '7.3' '4.3' '7.6' '5.7' '5' '9.1' '6.5' 'tbd' '8.8' '6.9'\n",
      " '9.4' '6.8' '6.1' '6.7' '5.4' '4' '4.9' '4.5' '9.3' '6.2' '4.2' '6' '3.7'\n",
      " '4.1' '5.8' '5.6' '5.5' '4.4' '4.6' '5.9' '3.9' '3.1' '2.9' '5.2' '3.3'\n",
      " '4.7' '5.1' '3.5' '2.5' '1.9' '3' '2.7' '2.2' '2' '9.5' '2.1' '3.6' '2.8'\n",
      " '1.8' '3.8' '0' '1.6' '9.6' '2.4' '1.7' '1.1' '0.3' '1.5' '0.7' '1.2'\n",
      " '2.3' '0.5' '1.3' '0.2' '0.6' '1.4' '0.9' '1' '9.7']\n"
     ]
    },
    {
     "data": {
      "text/plain": [
       "2376"
      ]
     },
     "execution_count": 8,
     "metadata": {},
     "output_type": "execute_result"
    }
   ],
   "source": [
    "print(games['user_score'].unique())\n",
    "(games['user_score']=='tbd').sum()"
   ]
  },
  {
   "cell_type": "markdown",
   "metadata": {},
   "source": [
    "TBD (To Be Determined) – английская аббревиатура, которая означает «будет определено» или «будет установлено». Она используется для указания на неопределенность или незавершенность чего-либо на данный момент."
   ]
  },
  {
   "cell_type": "code",
   "execution_count": 9,
   "metadata": {},
   "outputs": [
    {
     "data": {
      "text/plain": [
       "array([8. , nan, 8.3, 8.5, 6.6, 8.4, 8.6, 7.7, 6.3, 7.4, 8.2, 9. , 7.9,\n",
       "       8.1, 8.7, 7.1, 3.4, 5.3, 4.8, 3.2, 8.9, 6.4, 7.8, 7.5, 2.6, 7.2,\n",
       "       9.2, 7. , 7.3, 4.3, 7.6, 5.7, 5. , 9.1, 6.5, 8.8, 6.9, 9.4, 6.8,\n",
       "       6.1, 6.7, 5.4, 4. , 4.9, 4.5, 9.3, 6.2, 4.2, 6. , 3.7, 4.1, 5.8,\n",
       "       5.6, 5.5, 4.4, 4.6, 5.9, 3.9, 3.1, 2.9, 5.2, 3.3, 4.7, 5.1, 3.5,\n",
       "       2.5, 1.9, 3. , 2.7, 2.2, 2. , 9.5, 2.1, 3.6, 2.8, 1.8, 3.8, 0. ,\n",
       "       1.6, 9.6, 2.4, 1.7, 1.1, 0.3, 1.5, 0.7, 1.2, 2.3, 0.5, 1.3, 0.2,\n",
       "       0.6, 1.4, 0.9, 1. , 9.7])"
      ]
     },
     "execution_count": 9,
     "metadata": {},
     "output_type": "execute_result"
    }
   ],
   "source": [
    "# Разберемся на аббревиатурой 'tbd' в столбце с оценкой пользователей.\n",
    "games = games.replace ('tbd' , np.nan , regex= True)\n",
    "games['user_score'] = games['user_score'].astype('float')\n",
    "games['user_score'].unique()"
   ]
  },
  {
   "cell_type": "code",
   "execution_count": 10,
   "metadata": {
    "scrolled": true
   },
   "outputs": [
    {
     "data": {
      "text/html": [
       "<div>\n",
       "<style scoped>\n",
       "    .dataframe tbody tr th:only-of-type {\n",
       "        vertical-align: middle;\n",
       "    }\n",
       "\n",
       "    .dataframe tbody tr th {\n",
       "        vertical-align: top;\n",
       "    }\n",
       "\n",
       "    .dataframe thead th {\n",
       "        text-align: right;\n",
       "    }\n",
       "</style>\n",
       "<table border=\"1\" class=\"dataframe\">\n",
       "  <thead>\n",
       "    <tr style=\"text-align: right;\">\n",
       "      <th></th>\n",
       "      <th>name</th>\n",
       "      <th>platform</th>\n",
       "      <th>year_of_release</th>\n",
       "      <th>genre</th>\n",
       "      <th>na_sales</th>\n",
       "      <th>eu_sales</th>\n",
       "      <th>jp_sales</th>\n",
       "      <th>other_sales</th>\n",
       "      <th>critic_score</th>\n",
       "      <th>user_score</th>\n",
       "      <th>rating</th>\n",
       "      <th>all_sales</th>\n",
       "    </tr>\n",
       "  </thead>\n",
       "  <tbody>\n",
       "    <tr>\n",
       "      <th>0</th>\n",
       "      <td>Wii Sports</td>\n",
       "      <td>Wii</td>\n",
       "      <td>2006</td>\n",
       "      <td>Sports</td>\n",
       "      <td>41.36</td>\n",
       "      <td>28.96</td>\n",
       "      <td>3.77</td>\n",
       "      <td>8.45</td>\n",
       "      <td>76.0</td>\n",
       "      <td>8.0</td>\n",
       "      <td>E</td>\n",
       "      <td>82.54</td>\n",
       "    </tr>\n",
       "    <tr>\n",
       "      <th>1</th>\n",
       "      <td>Super Mario Bros.</td>\n",
       "      <td>NES</td>\n",
       "      <td>1985</td>\n",
       "      <td>Platform</td>\n",
       "      <td>29.08</td>\n",
       "      <td>3.58</td>\n",
       "      <td>6.81</td>\n",
       "      <td>0.77</td>\n",
       "      <td>NaN</td>\n",
       "      <td>NaN</td>\n",
       "      <td>NaN</td>\n",
       "      <td>40.24</td>\n",
       "    </tr>\n",
       "    <tr>\n",
       "      <th>2</th>\n",
       "      <td>Mario Kart Wii</td>\n",
       "      <td>Wii</td>\n",
       "      <td>2008</td>\n",
       "      <td>Racing</td>\n",
       "      <td>15.68</td>\n",
       "      <td>12.76</td>\n",
       "      <td>3.79</td>\n",
       "      <td>3.29</td>\n",
       "      <td>82.0</td>\n",
       "      <td>8.3</td>\n",
       "      <td>E</td>\n",
       "      <td>35.52</td>\n",
       "    </tr>\n",
       "    <tr>\n",
       "      <th>3</th>\n",
       "      <td>Wii Sports Resort</td>\n",
       "      <td>Wii</td>\n",
       "      <td>2009</td>\n",
       "      <td>Sports</td>\n",
       "      <td>15.61</td>\n",
       "      <td>10.93</td>\n",
       "      <td>3.28</td>\n",
       "      <td>2.95</td>\n",
       "      <td>80.0</td>\n",
       "      <td>8.0</td>\n",
       "      <td>E</td>\n",
       "      <td>32.77</td>\n",
       "    </tr>\n",
       "    <tr>\n",
       "      <th>4</th>\n",
       "      <td>Pokemon Red/Pokemon Blue</td>\n",
       "      <td>GB</td>\n",
       "      <td>1996</td>\n",
       "      <td>Role-Playing</td>\n",
       "      <td>11.27</td>\n",
       "      <td>8.89</td>\n",
       "      <td>10.22</td>\n",
       "      <td>1.00</td>\n",
       "      <td>NaN</td>\n",
       "      <td>NaN</td>\n",
       "      <td>NaN</td>\n",
       "      <td>31.38</td>\n",
       "    </tr>\n",
       "  </tbody>\n",
       "</table>\n",
       "</div>"
      ],
      "text/plain": [
       "                       name platform  year_of_release         genre  na_sales  \\\n",
       "0                Wii Sports      Wii             2006        Sports     41.36   \n",
       "1         Super Mario Bros.      NES             1985      Platform     29.08   \n",
       "2            Mario Kart Wii      Wii             2008        Racing     15.68   \n",
       "3         Wii Sports Resort      Wii             2009        Sports     15.61   \n",
       "4  Pokemon Red/Pokemon Blue       GB             1996  Role-Playing     11.27   \n",
       "\n",
       "   eu_sales  jp_sales  other_sales  critic_score  user_score rating  all_sales  \n",
       "0     28.96      3.77         8.45          76.0         8.0      E      82.54  \n",
       "1      3.58      6.81         0.77           NaN         NaN    NaN      40.24  \n",
       "2     12.76      3.79         3.29          82.0         8.3      E      35.52  \n",
       "3     10.93      3.28         2.95          80.0         8.0      E      32.77  \n",
       "4      8.89     10.22         1.00           NaN         NaN    NaN      31.38  "
      ]
     },
     "execution_count": 10,
     "metadata": {},
     "output_type": "execute_result"
    }
   ],
   "source": [
    "games['all_sales'] = games['na_sales'] + games['eu_sales'] +games['jp_sales'] + games['other_sales']\n",
    "games.head()"
   ]
  },
  {
   "cell_type": "code",
   "execution_count": 11,
   "metadata": {},
   "outputs": [
    {
     "data": {
      "text/plain": [
       "0"
      ]
     },
     "execution_count": 11,
     "metadata": {},
     "output_type": "execute_result"
    }
   ],
   "source": [
    "# Проверим наличие явных дупликатов\n",
    "games.duplicated().sum()"
   ]
  },
  {
   "cell_type": "code",
   "execution_count": 12,
   "metadata": {},
   "outputs": [
    {
     "data": {
      "text/plain": [
       "3"
      ]
     },
     "execution_count": 12,
     "metadata": {},
     "output_type": "execute_result"
    }
   ],
   "source": [
    "# Проверим на наличие неявных дупликатов(если name и platform, считаем это дупликатом)\n",
    "games.duplicated(subset=['name', 'platform']).sum()"
   ]
  },
  {
   "cell_type": "code",
   "execution_count": 13,
   "metadata": {},
   "outputs": [
    {
     "data": {
      "text/html": [
       "<div>\n",
       "<style scoped>\n",
       "    .dataframe tbody tr th:only-of-type {\n",
       "        vertical-align: middle;\n",
       "    }\n",
       "\n",
       "    .dataframe tbody tr th {\n",
       "        vertical-align: top;\n",
       "    }\n",
       "\n",
       "    .dataframe thead th {\n",
       "        text-align: right;\n",
       "    }\n",
       "</style>\n",
       "<table border=\"1\" class=\"dataframe\">\n",
       "  <thead>\n",
       "    <tr style=\"text-align: right;\">\n",
       "      <th></th>\n",
       "      <th>name</th>\n",
       "      <th>platform</th>\n",
       "      <th>year_of_release</th>\n",
       "      <th>genre</th>\n",
       "      <th>na_sales</th>\n",
       "      <th>eu_sales</th>\n",
       "      <th>jp_sales</th>\n",
       "      <th>other_sales</th>\n",
       "      <th>critic_score</th>\n",
       "      <th>user_score</th>\n",
       "      <th>rating</th>\n",
       "      <th>all_sales</th>\n",
       "    </tr>\n",
       "  </thead>\n",
       "  <tbody>\n",
       "    <tr>\n",
       "      <th>1591</th>\n",
       "      <td>Need for Speed: Most Wanted</td>\n",
       "      <td>X360</td>\n",
       "      <td>2005</td>\n",
       "      <td>Racing</td>\n",
       "      <td>1.0</td>\n",
       "      <td>0.13</td>\n",
       "      <td>0.02</td>\n",
       "      <td>0.10</td>\n",
       "      <td>83.0</td>\n",
       "      <td>8.5</td>\n",
       "      <td>T</td>\n",
       "      <td>1.25</td>\n",
       "    </tr>\n",
       "    <tr>\n",
       "      <th>11715</th>\n",
       "      <td>Need for Speed: Most Wanted</td>\n",
       "      <td>PC</td>\n",
       "      <td>2012</td>\n",
       "      <td>Racing</td>\n",
       "      <td>0.0</td>\n",
       "      <td>0.06</td>\n",
       "      <td>0.00</td>\n",
       "      <td>0.02</td>\n",
       "      <td>82.0</td>\n",
       "      <td>8.5</td>\n",
       "      <td>T</td>\n",
       "      <td>0.08</td>\n",
       "    </tr>\n",
       "    <tr>\n",
       "      <th>16230</th>\n",
       "      <td>Madden NFL 13</td>\n",
       "      <td>PS3</td>\n",
       "      <td>2012</td>\n",
       "      <td>Sports</td>\n",
       "      <td>0.0</td>\n",
       "      <td>0.01</td>\n",
       "      <td>0.00</td>\n",
       "      <td>0.00</td>\n",
       "      <td>83.0</td>\n",
       "      <td>5.5</td>\n",
       "      <td>E</td>\n",
       "      <td>0.01</td>\n",
       "    </tr>\n",
       "  </tbody>\n",
       "</table>\n",
       "</div>"
      ],
      "text/plain": [
       "                              name platform  year_of_release   genre  \\\n",
       "1591   Need for Speed: Most Wanted     X360             2005  Racing   \n",
       "11715  Need for Speed: Most Wanted       PC             2012  Racing   \n",
       "16230                Madden NFL 13      PS3             2012  Sports   \n",
       "\n",
       "       na_sales  eu_sales  jp_sales  other_sales  critic_score  user_score  \\\n",
       "1591        1.0      0.13      0.02         0.10          83.0         8.5   \n",
       "11715       0.0      0.06      0.00         0.02          82.0         8.5   \n",
       "16230       0.0      0.01      0.00         0.00          83.0         5.5   \n",
       "\n",
       "      rating  all_sales  \n",
       "1591       T       1.25  \n",
       "11715      T       0.08  \n",
       "16230      E       0.01  "
      ]
     },
     "execution_count": 13,
     "metadata": {},
     "output_type": "execute_result"
    }
   ],
   "source": [
    "# Выведем строки дупликатов\n",
    "games[games[['name', 'platform']].duplicated()]"
   ]
  },
  {
   "cell_type": "code",
   "execution_count": 14,
   "metadata": {
    "scrolled": true
   },
   "outputs": [
    {
     "data": {
      "text/html": [
       "<div>\n",
       "<style scoped>\n",
       "    .dataframe tbody tr th:only-of-type {\n",
       "        vertical-align: middle;\n",
       "    }\n",
       "\n",
       "    .dataframe tbody tr th {\n",
       "        vertical-align: top;\n",
       "    }\n",
       "\n",
       "    .dataframe thead th {\n",
       "        text-align: right;\n",
       "    }\n",
       "</style>\n",
       "<table border=\"1\" class=\"dataframe\">\n",
       "  <thead>\n",
       "    <tr style=\"text-align: right;\">\n",
       "      <th></th>\n",
       "      <th>name</th>\n",
       "      <th>platform</th>\n",
       "      <th>year_of_release</th>\n",
       "      <th>genre</th>\n",
       "      <th>na_sales</th>\n",
       "      <th>eu_sales</th>\n",
       "      <th>jp_sales</th>\n",
       "      <th>other_sales</th>\n",
       "      <th>critic_score</th>\n",
       "      <th>user_score</th>\n",
       "      <th>rating</th>\n",
       "      <th>all_sales</th>\n",
       "    </tr>\n",
       "  </thead>\n",
       "  <tbody>\n",
       "    <tr>\n",
       "      <th>253</th>\n",
       "      <td>Need for Speed: Most Wanted</td>\n",
       "      <td>PS2</td>\n",
       "      <td>2005</td>\n",
       "      <td>Racing</td>\n",
       "      <td>2.03</td>\n",
       "      <td>1.79</td>\n",
       "      <td>0.08</td>\n",
       "      <td>0.47</td>\n",
       "      <td>82.0</td>\n",
       "      <td>9.1</td>\n",
       "      <td>T</td>\n",
       "      <td>4.37</td>\n",
       "    </tr>\n",
       "    <tr>\n",
       "      <th>523</th>\n",
       "      <td>Need for Speed: Most Wanted</td>\n",
       "      <td>PS3</td>\n",
       "      <td>2012</td>\n",
       "      <td>Racing</td>\n",
       "      <td>0.71</td>\n",
       "      <td>1.46</td>\n",
       "      <td>0.06</td>\n",
       "      <td>0.58</td>\n",
       "      <td>NaN</td>\n",
       "      <td>NaN</td>\n",
       "      <td>NaN</td>\n",
       "      <td>2.81</td>\n",
       "    </tr>\n",
       "    <tr>\n",
       "      <th>1190</th>\n",
       "      <td>Need for Speed: Most Wanted</td>\n",
       "      <td>X360</td>\n",
       "      <td>2012</td>\n",
       "      <td>Racing</td>\n",
       "      <td>0.62</td>\n",
       "      <td>0.78</td>\n",
       "      <td>0.01</td>\n",
       "      <td>0.15</td>\n",
       "      <td>83.0</td>\n",
       "      <td>8.5</td>\n",
       "      <td>T</td>\n",
       "      <td>1.56</td>\n",
       "    </tr>\n",
       "    <tr>\n",
       "      <th>1591</th>\n",
       "      <td>Need for Speed: Most Wanted</td>\n",
       "      <td>X360</td>\n",
       "      <td>2005</td>\n",
       "      <td>Racing</td>\n",
       "      <td>1.00</td>\n",
       "      <td>0.13</td>\n",
       "      <td>0.02</td>\n",
       "      <td>0.10</td>\n",
       "      <td>83.0</td>\n",
       "      <td>8.5</td>\n",
       "      <td>T</td>\n",
       "      <td>1.25</td>\n",
       "    </tr>\n",
       "    <tr>\n",
       "      <th>1998</th>\n",
       "      <td>Need for Speed: Most Wanted</td>\n",
       "      <td>XB</td>\n",
       "      <td>2005</td>\n",
       "      <td>Racing</td>\n",
       "      <td>0.53</td>\n",
       "      <td>0.46</td>\n",
       "      <td>0.00</td>\n",
       "      <td>0.05</td>\n",
       "      <td>83.0</td>\n",
       "      <td>8.8</td>\n",
       "      <td>T</td>\n",
       "      <td>1.04</td>\n",
       "    </tr>\n",
       "    <tr>\n",
       "      <th>2048</th>\n",
       "      <td>Need for Speed: Most Wanted</td>\n",
       "      <td>PSV</td>\n",
       "      <td>2012</td>\n",
       "      <td>Racing</td>\n",
       "      <td>0.33</td>\n",
       "      <td>0.45</td>\n",
       "      <td>0.01</td>\n",
       "      <td>0.22</td>\n",
       "      <td>NaN</td>\n",
       "      <td>NaN</td>\n",
       "      <td>NaN</td>\n",
       "      <td>1.01</td>\n",
       "    </tr>\n",
       "    <tr>\n",
       "      <th>3581</th>\n",
       "      <td>Need for Speed: Most Wanted</td>\n",
       "      <td>GC</td>\n",
       "      <td>2005</td>\n",
       "      <td>Racing</td>\n",
       "      <td>0.43</td>\n",
       "      <td>0.11</td>\n",
       "      <td>0.00</td>\n",
       "      <td>0.02</td>\n",
       "      <td>80.0</td>\n",
       "      <td>9.1</td>\n",
       "      <td>T</td>\n",
       "      <td>0.56</td>\n",
       "    </tr>\n",
       "    <tr>\n",
       "      <th>5972</th>\n",
       "      <td>Need for Speed: Most Wanted</td>\n",
       "      <td>PC</td>\n",
       "      <td>2005</td>\n",
       "      <td>Racing</td>\n",
       "      <td>0.02</td>\n",
       "      <td>0.23</td>\n",
       "      <td>0.00</td>\n",
       "      <td>0.04</td>\n",
       "      <td>82.0</td>\n",
       "      <td>8.5</td>\n",
       "      <td>T</td>\n",
       "      <td>0.29</td>\n",
       "    </tr>\n",
       "    <tr>\n",
       "      <th>6273</th>\n",
       "      <td>Need for Speed: Most Wanted</td>\n",
       "      <td>WiiU</td>\n",
       "      <td>2013</td>\n",
       "      <td>Racing</td>\n",
       "      <td>0.13</td>\n",
       "      <td>0.12</td>\n",
       "      <td>0.00</td>\n",
       "      <td>0.02</td>\n",
       "      <td>NaN</td>\n",
       "      <td>NaN</td>\n",
       "      <td>NaN</td>\n",
       "      <td>0.27</td>\n",
       "    </tr>\n",
       "    <tr>\n",
       "      <th>6410</th>\n",
       "      <td>Need for Speed: Most Wanted</td>\n",
       "      <td>DS</td>\n",
       "      <td>2005</td>\n",
       "      <td>Racing</td>\n",
       "      <td>0.24</td>\n",
       "      <td>0.01</td>\n",
       "      <td>0.00</td>\n",
       "      <td>0.02</td>\n",
       "      <td>45.0</td>\n",
       "      <td>6.1</td>\n",
       "      <td>E</td>\n",
       "      <td>0.27</td>\n",
       "    </tr>\n",
       "    <tr>\n",
       "      <th>6473</th>\n",
       "      <td>Need for Speed: Most Wanted</td>\n",
       "      <td>GBA</td>\n",
       "      <td>2005</td>\n",
       "      <td>Racing</td>\n",
       "      <td>0.19</td>\n",
       "      <td>0.07</td>\n",
       "      <td>0.00</td>\n",
       "      <td>0.00</td>\n",
       "      <td>NaN</td>\n",
       "      <td>8.3</td>\n",
       "      <td>E</td>\n",
       "      <td>0.26</td>\n",
       "    </tr>\n",
       "    <tr>\n",
       "      <th>11715</th>\n",
       "      <td>Need for Speed: Most Wanted</td>\n",
       "      <td>PC</td>\n",
       "      <td>2012</td>\n",
       "      <td>Racing</td>\n",
       "      <td>0.00</td>\n",
       "      <td>0.06</td>\n",
       "      <td>0.00</td>\n",
       "      <td>0.02</td>\n",
       "      <td>82.0</td>\n",
       "      <td>8.5</td>\n",
       "      <td>T</td>\n",
       "      <td>0.08</td>\n",
       "    </tr>\n",
       "  </tbody>\n",
       "</table>\n",
       "</div>"
      ],
      "text/plain": [
       "                              name platform  year_of_release   genre  \\\n",
       "253    Need for Speed: Most Wanted      PS2             2005  Racing   \n",
       "523    Need for Speed: Most Wanted      PS3             2012  Racing   \n",
       "1190   Need for Speed: Most Wanted     X360             2012  Racing   \n",
       "1591   Need for Speed: Most Wanted     X360             2005  Racing   \n",
       "1998   Need for Speed: Most Wanted       XB             2005  Racing   \n",
       "2048   Need for Speed: Most Wanted      PSV             2012  Racing   \n",
       "3581   Need for Speed: Most Wanted       GC             2005  Racing   \n",
       "5972   Need for Speed: Most Wanted       PC             2005  Racing   \n",
       "6273   Need for Speed: Most Wanted     WiiU             2013  Racing   \n",
       "6410   Need for Speed: Most Wanted       DS             2005  Racing   \n",
       "6473   Need for Speed: Most Wanted      GBA             2005  Racing   \n",
       "11715  Need for Speed: Most Wanted       PC             2012  Racing   \n",
       "\n",
       "       na_sales  eu_sales  jp_sales  other_sales  critic_score  user_score  \\\n",
       "253        2.03      1.79      0.08         0.47          82.0         9.1   \n",
       "523        0.71      1.46      0.06         0.58           NaN         NaN   \n",
       "1190       0.62      0.78      0.01         0.15          83.0         8.5   \n",
       "1591       1.00      0.13      0.02         0.10          83.0         8.5   \n",
       "1998       0.53      0.46      0.00         0.05          83.0         8.8   \n",
       "2048       0.33      0.45      0.01         0.22           NaN         NaN   \n",
       "3581       0.43      0.11      0.00         0.02          80.0         9.1   \n",
       "5972       0.02      0.23      0.00         0.04          82.0         8.5   \n",
       "6273       0.13      0.12      0.00         0.02           NaN         NaN   \n",
       "6410       0.24      0.01      0.00         0.02          45.0         6.1   \n",
       "6473       0.19      0.07      0.00         0.00           NaN         8.3   \n",
       "11715      0.00      0.06      0.00         0.02          82.0         8.5   \n",
       "\n",
       "      rating  all_sales  \n",
       "253        T       4.37  \n",
       "523      NaN       2.81  \n",
       "1190       T       1.56  \n",
       "1591       T       1.25  \n",
       "1998       T       1.04  \n",
       "2048     NaN       1.01  \n",
       "3581       T       0.56  \n",
       "5972       T       0.29  \n",
       "6273     NaN       0.27  \n",
       "6410       E       0.27  \n",
       "6473       E       0.26  \n",
       "11715      T       0.08  "
      ]
     },
     "execution_count": 14,
     "metadata": {},
     "output_type": "execute_result"
    }
   ],
   "source": [
    "# поищем неявные дупликаты среди 2х игр\n",
    "games[(games['name'] == 'Need for Speed: Most Wanted')]"
   ]
  },
  {
   "cell_type": "code",
   "execution_count": 15,
   "metadata": {
    "scrolled": true
   },
   "outputs": [
    {
     "data": {
      "text/html": [
       "<div>\n",
       "<style scoped>\n",
       "    .dataframe tbody tr th:only-of-type {\n",
       "        vertical-align: middle;\n",
       "    }\n",
       "\n",
       "    .dataframe tbody tr th {\n",
       "        vertical-align: top;\n",
       "    }\n",
       "\n",
       "    .dataframe thead th {\n",
       "        text-align: right;\n",
       "    }\n",
       "</style>\n",
       "<table border=\"1\" class=\"dataframe\">\n",
       "  <thead>\n",
       "    <tr style=\"text-align: right;\">\n",
       "      <th></th>\n",
       "      <th>name</th>\n",
       "      <th>platform</th>\n",
       "      <th>year_of_release</th>\n",
       "      <th>genre</th>\n",
       "      <th>na_sales</th>\n",
       "      <th>eu_sales</th>\n",
       "      <th>jp_sales</th>\n",
       "      <th>other_sales</th>\n",
       "      <th>critic_score</th>\n",
       "      <th>user_score</th>\n",
       "      <th>rating</th>\n",
       "      <th>all_sales</th>\n",
       "    </tr>\n",
       "  </thead>\n",
       "  <tbody>\n",
       "    <tr>\n",
       "      <th>507</th>\n",
       "      <td>Madden NFL 13</td>\n",
       "      <td>X360</td>\n",
       "      <td>2012</td>\n",
       "      <td>Sports</td>\n",
       "      <td>2.53</td>\n",
       "      <td>0.15</td>\n",
       "      <td>0.0</td>\n",
       "      <td>0.17</td>\n",
       "      <td>81.0</td>\n",
       "      <td>5.8</td>\n",
       "      <td>E</td>\n",
       "      <td>2.85</td>\n",
       "    </tr>\n",
       "    <tr>\n",
       "      <th>604</th>\n",
       "      <td>Madden NFL 13</td>\n",
       "      <td>PS3</td>\n",
       "      <td>2012</td>\n",
       "      <td>Sports</td>\n",
       "      <td>2.11</td>\n",
       "      <td>0.22</td>\n",
       "      <td>0.0</td>\n",
       "      <td>0.23</td>\n",
       "      <td>83.0</td>\n",
       "      <td>5.5</td>\n",
       "      <td>E</td>\n",
       "      <td>2.56</td>\n",
       "    </tr>\n",
       "    <tr>\n",
       "      <th>3986</th>\n",
       "      <td>Madden NFL 13</td>\n",
       "      <td>Wii</td>\n",
       "      <td>2012</td>\n",
       "      <td>Sports</td>\n",
       "      <td>0.47</td>\n",
       "      <td>0.00</td>\n",
       "      <td>0.0</td>\n",
       "      <td>0.03</td>\n",
       "      <td>NaN</td>\n",
       "      <td>7.3</td>\n",
       "      <td>E</td>\n",
       "      <td>0.50</td>\n",
       "    </tr>\n",
       "    <tr>\n",
       "      <th>5887</th>\n",
       "      <td>Madden NFL 13</td>\n",
       "      <td>PSV</td>\n",
       "      <td>2012</td>\n",
       "      <td>Sports</td>\n",
       "      <td>0.28</td>\n",
       "      <td>0.00</td>\n",
       "      <td>0.0</td>\n",
       "      <td>0.02</td>\n",
       "      <td>63.0</td>\n",
       "      <td>7.3</td>\n",
       "      <td>E</td>\n",
       "      <td>0.30</td>\n",
       "    </tr>\n",
       "    <tr>\n",
       "      <th>7066</th>\n",
       "      <td>Madden NFL 13</td>\n",
       "      <td>WiiU</td>\n",
       "      <td>2012</td>\n",
       "      <td>Sports</td>\n",
       "      <td>0.21</td>\n",
       "      <td>0.00</td>\n",
       "      <td>0.0</td>\n",
       "      <td>0.02</td>\n",
       "      <td>75.0</td>\n",
       "      <td>6.7</td>\n",
       "      <td>E</td>\n",
       "      <td>0.23</td>\n",
       "    </tr>\n",
       "    <tr>\n",
       "      <th>16230</th>\n",
       "      <td>Madden NFL 13</td>\n",
       "      <td>PS3</td>\n",
       "      <td>2012</td>\n",
       "      <td>Sports</td>\n",
       "      <td>0.00</td>\n",
       "      <td>0.01</td>\n",
       "      <td>0.0</td>\n",
       "      <td>0.00</td>\n",
       "      <td>83.0</td>\n",
       "      <td>5.5</td>\n",
       "      <td>E</td>\n",
       "      <td>0.01</td>\n",
       "    </tr>\n",
       "  </tbody>\n",
       "</table>\n",
       "</div>"
      ],
      "text/plain": [
       "                name platform  year_of_release   genre  na_sales  eu_sales  \\\n",
       "507    Madden NFL 13     X360             2012  Sports      2.53      0.15   \n",
       "604    Madden NFL 13      PS3             2012  Sports      2.11      0.22   \n",
       "3986   Madden NFL 13      Wii             2012  Sports      0.47      0.00   \n",
       "5887   Madden NFL 13      PSV             2012  Sports      0.28      0.00   \n",
       "7066   Madden NFL 13     WiiU             2012  Sports      0.21      0.00   \n",
       "16230  Madden NFL 13      PS3             2012  Sports      0.00      0.01   \n",
       "\n",
       "       jp_sales  other_sales  critic_score  user_score rating  all_sales  \n",
       "507         0.0         0.17          81.0         5.8      E       2.85  \n",
       "604         0.0         0.23          83.0         5.5      E       2.56  \n",
       "3986        0.0         0.03           NaN         7.3      E       0.50  \n",
       "5887        0.0         0.02          63.0         7.3      E       0.30  \n",
       "7066        0.0         0.02          75.0         6.7      E       0.23  \n",
       "16230       0.0         0.00          83.0         5.5      E       0.01  "
      ]
     },
     "execution_count": 15,
     "metadata": {},
     "output_type": "execute_result"
    }
   ],
   "source": [
    "games[(games['name'] == 'Madden NFL 13')]"
   ]
  },
  {
   "cell_type": "code",
   "execution_count": 16,
   "metadata": {},
   "outputs": [],
   "source": [
    "# Будем считать строку 16230 неявным дупликатом - она тоже 2012 года и не информативна. \n",
    "# В игре NFS повторы будем считать переизданием.\n",
    "# Удалим строку по индексу\n",
    "games = games.drop(index= 16230)"
   ]
  },
  {
   "cell_type": "code",
   "execution_count": 17,
   "metadata": {},
   "outputs": [
    {
     "data": {
      "text/plain": [
       "(16443, 12)"
      ]
     },
     "execution_count": 17,
     "metadata": {},
     "output_type": "execute_result"
    }
   ],
   "source": [
    "games.shape"
   ]
  },
  {
   "cell_type": "markdown",
   "metadata": {},
   "source": [
    "Заменил названия столбцов - привел к нижнему регистру. Приводим столбец с годом выпуска к целым числам. Удаляем строки с пропущенным годом выпуска, названия игр и жанра. Строки с ТБД нам тоже пригодятся - заменил на NaN. Приводем столбец с оценкой пользователей к типу float. Не вижу причин преобразовывать тип данных в других столбцах. Добывил столбец с общими продажами. Провел проверку на дупликаты -  удалил одну строку. В результате предобрпаботки сохранил 16443 строк. В DF вижу пропуски в столбцах с годом издания, названия игр и жанра - их немного. Эти пропуски не влияют на систему. Предполагаю что они возникли при ошибке ввода(человеческий фактор). Пропусков много в столбцах с рейтинками. Эти пропуски связоны с тем что рейтинговые организации оценивают не все игры."
   ]
  },
  {
   "cell_type": "markdown",
   "metadata": {},
   "source": [
    "## Исследовательский анализ данных."
   ]
  },
  {
   "cell_type": "markdown",
   "metadata": {},
   "source": [
    "Изучим, сколько игр выпускалось в разные годы."
   ]
  },
  {
   "cell_type": "code",
   "execution_count": 18,
   "metadata": {
    "scrolled": true
   },
   "outputs": [
    {
     "data": {
      "image/png": "[encoded data removed]",
      "text/plain": [
       "<Figure size 800x400 with 1 Axes>"
      ]
     },
     "metadata": {},
     "output_type": "display_data"
    }
   ],
   "source": [
    "games.groupby('year_of_release')['year_of_release'].count().plot(kind='bar', figsize=(8, 4));\n",
    "plt.title('Количество выпускаемых игр')\n",
    "plt.xlabel('Год выпуска')\n",
    "plt.ylabel('Количество игр');"
   ]
  },
  {
   "cell_type": "code",
   "execution_count": 19,
   "metadata": {},
   "outputs": [],
   "source": [
    "games_filtred = games[(games['year_of_release'] > 1999)]"
   ]
  },
  {
   "cell_type": "markdown",
   "metadata": {},
   "source": [
    "Убираем неважные года"
   ]
  },
  {
   "cell_type": "code",
   "execution_count": 20,
   "metadata": {
    "scrolled": true
   },
   "outputs": [
    {
     "data": {
      "image/png": "[encoded data removed]",
      "text/plain": [
       "<Figure size 800x400 with 1 Axes>"
      ]
     },
     "metadata": {},
     "output_type": "display_data"
    }
   ],
   "source": [
    "# Посмотрим, как менялись продажи по платформам.\n",
    "games_filtred.groupby('platform')['all_sales'].sum().sort_values().plot(kind='bar', figsize=(8, 4))\n",
    "plt.title('Количество продаж по платформам')\n",
    "plt.xlabel('Платформа')\n",
    "plt.ylabel('Количество продаж');"
   ]
  },
  {
   "cell_type": "code",
   "execution_count": 21,
   "metadata": {},
   "outputs": [
    {
     "data": {
      "image/png": "[encoded data removed]",
      "text/plain": [
       "<Figure size 500x500 with 1 Axes>"
      ]
     },
     "metadata": {},
     "output_type": "display_data"
    },
    {
     "data": {
      "image/png": "[encoded data removed]",
      "text/plain": [
       "<Figure size 500x500 with 1 Axes>"
      ]
     },
     "metadata": {},
     "output_type": "display_data"
    },
    {
     "data": {
      "image/png": "[encoded data removed]",
      "text/plain": [
       "<Figure size 500x500 with 1 Axes>"
      ]
     },
     "metadata": {},
     "output_type": "display_data"
    },
    {
     "data": {
      "image/png": "[encoded data removed]",
      "text/plain": [
       "<Figure size 500x500 with 1 Axes>"
      ]
     },
     "metadata": {},
     "output_type": "display_data"
    },
    {
     "data": {
      "image/png": "[encoded data removed]",
      "text/plain": [
       "<Figure size 500x500 with 1 Axes>"
      ]
     },
     "metadata": {},
     "output_type": "display_data"
    },
    {
     "data": {
      "image/png": "[encoded data removed]",
      "text/plain": [
       "<Figure size 500x500 with 1 Axes>"
      ]
     },
     "metadata": {},
     "output_type": "display_data"
    },
    {
     "data": {
      "image/png": "[encoded data removed]",
      "text/plain": [
       "<Figure size 500x500 with 1 Axes>"
      ]
     },
     "metadata": {},
     "output_type": "display_data"
    },
    {
     "data": {
      "image/png": "[encoded data removed]",
      "text/plain": [
       "<Figure size 500x500 with 1 Axes>"
      ]
     },
     "metadata": {},
     "output_type": "display_data"
    },
    {
     "data": {
      "image/png": "[encoded data removed]",
      "text/plain": [
       "<Figure size 500x500 with 1 Axes>"
      ]
     },
     "metadata": {},
     "output_type": "display_data"
    },
    {
     "data": {
      "image/png": "[encoded data removed]",
      "text/plain": [
       "<Figure size 500x500 with 1 Axes>"
      ]
     },
     "metadata": {},
     "output_type": "display_data"
    },
    {
     "data": {
      "image/png": "[encoded data removed]",
      "text/plain": [
       "<Figure size 500x500 with 1 Axes>"
      ]
     },
     "metadata": {},
     "output_type": "display_data"
    },
    {
     "data": {
      "image/png": "[encoded data removed]",
      "text/plain": [
       "<Figure size 500x500 with 1 Axes>"
      ]
     },
     "metadata": {},
     "output_type": "display_data"
    },
    {
     "data": {
      "image/png": "[encoded data removed]",
      "text/plain": [
       "<Figure size 500x500 with 1 Axes>"
      ]
     },
     "metadata": {},
     "output_type": "display_data"
    },
    {
     "data": {
      "image/png": "[encoded data removed]",
      "text/plain": [
       "<Figure size 500x500 with 1 Axes>"
      ]
     },
     "metadata": {},
     "output_type": "display_data"
    }
   ],
   "source": [
    "# Выберем платформы суммарными продажами, которых относительно высокие (более 100 млн копий) \n",
    "# и построим распределение по годам для каждой платформы \n",
    "games_platform = games_filtred.pivot_table(\n",
    "    index='year_of_release', columns='platform', values='all_sales', aggfunc='sum')\n",
    "for col in games_platform.columns:\n",
    "    if games_platform[col].sum() > 100:\n",
    "        games_platform[col].plot(kind='bar', figsize=(5, 5))\n",
    "        plt.title(col)\n",
    "        plt.xlabel('Год выпуска')\n",
    "        plt.ylabel('Количество продаж')\n",
    "        plt.show()"
   ]
  },
  {
   "cell_type": "markdown",
   "metadata": {},
   "source": [
    "По распределения можно оценить циклы существования новой платформы 4-10 лет. Выберем актальный период для дальнейшего исследования: с 2014 года."
   ]
  },
  {
   "cell_type": "code",
   "execution_count": 22,
   "metadata": {},
   "outputs": [
    {
     "data": {
      "text/plain": [
       "array(['PS4', '3DS', 'XOne', 'WiiU', 'PS3', 'X360', 'PC', 'Wii', 'PSV',\n",
       "       'PSP'], dtype=object)"
      ]
     },
     "execution_count": 22,
     "metadata": {},
     "output_type": "execute_result"
    }
   ],
   "source": [
    "games_filtred = games_filtred[(games_filtred['year_of_release'] > 2013)]\n",
    "games_filtred['platform'].unique()"
   ]
  },
  {
   "cell_type": "markdown",
   "metadata": {},
   "source": [
    "Платформа 3DS продажы падают, но еще не упали.\n",
    "\n",
    "Платформа PC продажи долгое время держатся на плаву, но не звездные продажи в сравнении\n",
    "\n",
    "Платформа PS4 продажи растут\n",
    "\n",
    "PS3 уходят прадажи на минимуме(вышла следующее поколение PS4)\n",
    "\n",
    "Платформа Wii с 2015 ушли с рынка\n",
    "\n",
    "X360 уходят прадажи на минимуме(вышла следующее поколение XOne)\n",
    "\n",
    "Платформа XOne продажи растут\n",
    "\n",
    "Выберем 4 потенциально прибыльные платформы: PS4, XOne, 3DS, PC."
   ]
  },
  {
   "cell_type": "code",
   "execution_count": 23,
   "metadata": {},
   "outputs": [
    {
     "data": {
      "image/png": "[encoded data removed]",
      "text/plain": [
       "<Figure size 900x500 with 1 Axes>"
      ]
     },
     "metadata": {},
     "output_type": "display_data"
    }
   ],
   "source": [
    "games_filtred = games_filtred[(games_filtred['platform'] == '3DS')|(\n",
    "    games_filtred['platform'] == 'PC')|(\n",
    "    games_filtred['platform'] == 'PS4')|(\n",
    "    games_filtred['platform'] == 'XOne')]\n",
    "games_filtred.pivot_table(\n",
    "    index='year_of_release', columns='platform', values='all_sales', aggfunc='sum').plot(\n",
    "    kind='bar', figsize=(9, 5))\n",
    "plt.title('Сравниение продаж 4х перспектывных платформ')\n",
    "plt.xlabel('Год выпуска')\n",
    "plt.ylabel('Количество продаж');"
   ]
  },
  {
   "cell_type": "markdown",
   "metadata": {},
   "source": [
    "PS4 лидируют по продажам, следом XOne."
   ]
  },
  {
   "cell_type": "markdown",
   "metadata": {},
   "source": [
    "Постройте график «ящик с усами» по глобальным продажам игр в разбивке по платформам. Опишите результат."
   ]
  },
  {
   "cell_type": "code",
   "execution_count": 24,
   "metadata": {
    "scrolled": true
   },
   "outputs": [
    {
     "data": {
      "image/png": "[encoded data removed]",
      "text/plain": [
       "<Figure size 640x480 with 1 Axes>"
      ]
     },
     "metadata": {},
     "output_type": "display_data"
    }
   ],
   "source": [
    "games_filtred.pivot_table(\n",
    "    index='name', columns='platform', values='all_sales', aggfunc='sum').boxplot()\n",
    "plt.title('«Ящики с усами» по глобальным продажам игр')\n",
    "plt.ylabel('Количество продаж');"
   ]
  },
  {
   "cell_type": "code",
   "execution_count": 25,
   "metadata": {},
   "outputs": [
    {
     "data": {
      "image/png": "[encoded data removed]",
      "text/plain": [
       "<Figure size 640x480 with 1 Axes>"
      ]
     },
     "metadata": {},
     "output_type": "display_data"
    }
   ],
   "source": [
    "plt.ylim(0,2)\n",
    "games_filtred.pivot_table(\n",
    "    index='name', columns='platform', values='all_sales', aggfunc='sum').boxplot()\n",
    "plt.title('«Ящики с усами» по глобальным продажам игр')\n",
    "plt.ylabel('Количество продаж');"
   ]
  },
  {
   "cell_type": "markdown",
   "metadata": {},
   "source": [
    "Построил график «ящик с усами» по глобальным продажам игр в разбивке по платформам. В среднем игры на основных платформах продаюся около 250тыс копий. На это распределение сильное влияние оказывает множество провальных проэктов с продажами близкие к нули, а также супер успешные."
   ]
  },
  {
   "cell_type": "markdown",
   "metadata": {},
   "source": [
    "Проверим, как влияют на продажи внутри одной популярной платформы отзывы пользователей и критиков. Построим диаграмму рассеяния и посчитаем корреляцию между отзывами и продажами."
   ]
  },
  {
   "cell_type": "code",
   "execution_count": 26,
   "metadata": {},
   "outputs": [
    {
     "data": {
      "text/plain": [
       "0.4026614106810409"
      ]
     },
     "execution_count": 26,
     "metadata": {},
     "output_type": "execute_result"
    },
    {
     "data": {
      "image/png": "[encoded data removed]",
      "text/plain": [
       "<Figure size 640x480 with 1 Axes>"
      ]
     },
     "metadata": {},
     "output_type": "display_data"
    }
   ],
   "source": [
    "games_ps4 = games_filtred.query('platform == \"PS4\"')\n",
    "games_ps4.plot(x='critic_score', y='all_sales', kind='scatter', alpha=0.3)\n",
    "plt.title('Зависимость продаж от оценки критиков')\n",
    "plt.xlabel('Оценка критиков')\n",
    "plt.ylabel('Количество продаж');\n",
    "games_ps4['critic_score'].corr(games_ps4['all_sales'])"
   ]
  },
  {
   "cell_type": "code",
   "execution_count": 27,
   "metadata": {},
   "outputs": [
    {
     "data": {
      "text/plain": [
       "-0.04013158947269733"
      ]
     },
     "execution_count": 27,
     "metadata": {},
     "output_type": "execute_result"
    },
    {
     "data": {
      "image/png": "[encoded data removed]",
      "text/plain": [
       "<Figure size 640x480 with 1 Axes>"
      ]
     },
     "metadata": {},
     "output_type": "display_data"
    }
   ],
   "source": [
    "games_ps4.plot(x='user_score', y='all_sales', kind='scatter', alpha=0.3)\n",
    "plt.title('Зависимость продаж от оценки пользователей')\n",
    "plt.xlabel('Оценка пользователей')\n",
    "plt.ylabel('Количество продаж');\n",
    "games_ps4['user_score'].corr(games_ps4['all_sales'])"
   ]
  },
  {
   "cell_type": "markdown",
   "metadata": {},
   "source": [
    "Отзывы критиков имеют влияние на продажи игр на платформе ps4.\n",
    "\n",
    "Отзывы пользователей не оказывают влияние на продажи игрна платформе ps4."
   ]
  },
  {
   "cell_type": "code",
   "execution_count": 28,
   "metadata": {
    "scrolled": true
   },
   "outputs": [
    {
     "name": "stdout",
     "output_type": "stream",
     "text": [
      "оценка критиков на PC: 0.17463413769350036\n",
      "оценка критиков на 3DS: 0.314117492869051\n",
      "оценка критиков на XOne: 0.42867694370333187\n",
      "оценка пользователей на PC: -0.07159665703472451\n",
      "оценка пользователей на 3DS: 0.314117492869051\n",
      "оценка пользователей на XOne: -0.07038392806475809\n"
     ]
    }
   ],
   "source": [
    "games_pc = games_filtred.query('platform == \"PC\"')\n",
    "games_3ds = games_filtred.query('platform == \"3DS\"')\n",
    "games_xone = games_filtred.query('platform == \"XOne\"')\n",
    "print('оценка критиков на PC:', games_pc['critic_score'].corr(games_pc['all_sales']))\n",
    "print('оценка критиков на 3DS:', games_3ds['critic_score'].corr(games_3ds['all_sales']))\n",
    "print('оценка критиков на XOne:', games_xone['critic_score'].corr(games_xone['all_sales']))\n",
    "print('оценка пользователей на PC:', games_pc['user_score'].corr(games_pc['all_sales']))\n",
    "print('оценка пользователей на 3DS:', games_3ds['critic_score'].corr(games_3ds['all_sales']))\n",
    "print('оценка пользователей на XOne:', games_xone['user_score'].corr(games_xone['all_sales']))"
   ]
  },
  {
   "cell_type": "markdown",
   "metadata": {},
   "source": [
    "На других платформах оценка критиков тоже влияет на продажи, но немного.\n",
    "На других платформах оценка пользователей имеет вес на платформе 3DS, но небольшой. На драгих платформах также вообще не влияет.\n"
   ]
  },
  {
   "cell_type": "markdown",
   "metadata": {},
   "source": [
    "Посмотрим на общее распределение игр по жанрам."
   ]
  },
  {
   "cell_type": "code",
   "execution_count": 29,
   "metadata": {},
   "outputs": [
    {
     "data": {
      "image/png": "[encoded data removed]",
      "text/plain": [
       "<Figure size 800x400 with 1 Axes>"
      ]
     },
     "metadata": {},
     "output_type": "display_data"
    }
   ],
   "source": [
    "games.groupby('genre')['all_sales'].sum().sort_values().plot(kind='bar', figsize=(8, 4))\n",
    "plt.title('Общие продажи по жанрам')\n",
    "plt.xlabel('Жанр игры')\n",
    "plt.ylabel('Количество продаж');"
   ]
  },
  {
   "cell_type": "code",
   "execution_count": 30,
   "metadata": {},
   "outputs": [
    {
     "data": {
      "image/png": "[encoded data removed]",
      "text/plain": [
       "<Figure size 1000x500 with 1 Axes>"
      ]
     },
     "metadata": {},
     "output_type": "display_data"
    }
   ],
   "source": [
    "plt.figure(figsize=(10, 5))\n",
    "plt.ylim(0,5)\n",
    "games_filtred.pivot_table(\n",
    "    index='name', columns='genre', values='all_sales', aggfunc='sum').boxplot(figsize=(15, 4))\n",
    "plt.tight_layout() # Регулируем интервал между подграфиками\n",
    "plt.title('«Ящики с усами» по глобальным продажам игр по жанрам')\n",
    "plt.ylabel('Количество продаж');"
   ]
  },
  {
   "cell_type": "markdown",
   "metadata": {},
   "source": [
    "На боксплотах уже можно увидеть самый стабильный и перспективный жанр Shooter."
   ]
  },
  {
   "cell_type": "markdown",
   "metadata": {},
   "source": [
    "В этой части проэкта я провел некоторые исследования.\n",
    "\n",
    "В начале из распределения продаж по годам видно, что данные до 2000 года не значительны и их можно отбросить.\n",
    "\n",
    "Из распределения по годам каждой платформы можно еще уменьшить временой период до 2014-2016. Данные из этого  периода  помогут построить прогноз на 2017 год.\n",
    "\n",
    "Также выберем 4 потенциально прибыльные платформы: PS4, XOne, 3DS, PC. По продажам PS4 лидируют, следом XOne.\n",
    "\n",
    "В среднем игры на основных платформах продаюся около 250тыс копий. На это распределение сильное влияние оказывает множество провальных проэктов с продажами близкие к нули, а также супер успешные.\n",
    "\n",
    "Отзывы критиков имеют влияние на продажи игр на платформе ps4.\n",
    "\n",
    "Отзывы пользователей не оказывают влияние на продажи игрна платформе ps\n",
    "\n",
    "На других платформах оценка критиков тоже влияет на продажи, но немного. На других платформах оценка пользователей имеет вес на платформе 3DS, но небольшой. На драгих платформах также вообще не влияет.\n",
    "\n",
    "Из распределения по жанрам можно выделить лидеров продаж. Жанры: Shooter, Sports и Racing. Жанр Shooter самый стабильный и потенциальный. На распределения других жанров сильно влияют провальые и звездные проэкты.\n"
   ]
  },
  {
   "cell_type": "markdown",
   "metadata": {},
   "source": [
    "## Портрет пользователя каждого региона."
   ]
  },
  {
   "cell_type": "code",
   "execution_count": 31,
   "metadata": {},
   "outputs": [
    {
     "data": {
      "image/png": "[encoded data removed]",
      "text/plain": [
       "<Figure size 400x400 with 1 Axes>"
      ]
     },
     "metadata": {},
     "output_type": "display_data"
    }
   ],
   "source": [
    "#Создаю таблицу по которой буду строить график\n",
    "# Продажи в Северной америке по платформам\n",
    "na_platform_top = games_filtred.pivot_table(\n",
    "    index='platform', values='na_sales', aggfunc='sum').sort_values(\n",
    "    by='na_sales', ascending=False)\n",
    "#Добавляем столбец с долями\n",
    "total_sales = na_platform_top.sum()[0]\n",
    "percentage = []\n",
    "for i in range(na_platform_top.shape[0]):\n",
    "    pct = (na_platform_top.na_sales[i] / total_sales) * 100\n",
    "    percentage.append(round(pct,2))\n",
    "na_platform_top['Percentage'] = percentage\n",
    "#Отобразим график\n",
    "plt.figure(figsize=(4, 4))\n",
    "graph = plt.bar(na_platform_top.index, na_platform_top.na_sales)\n",
    "plt.title('Продажи в Северной америке по платформам')\n",
    "plt.ylabel('Количество продаж')\n",
    "i = 0\n",
    "#Добавим на график доли в процентах на каждый столбик \n",
    "for p in graph:\n",
    "    width = p.get_width()\n",
    "    height = p.get_height()\n",
    "    x, y = p.get_xy()\n",
    "    plt.text(x+width/2,\n",
    "             y+height*1.01,\n",
    "             str(na_platform_top.Percentage[i])+'%', ha='center', weight='bold')\n",
    "    i+=1\n",
    "plt.ylim(0,120)\n",
    "plt.show()"
   ]
  },
  {
   "cell_type": "code",
   "execution_count": 32,
   "metadata": {},
   "outputs": [
    {
     "data": {
      "image/png": "[encoded data removed]",
      "text/plain": [
       "<Figure size 400x400 with 1 Axes>"
      ]
     },
     "metadata": {},
     "output_type": "display_data"
    }
   ],
   "source": [
    "#Создаю таблицу по которой буду строить график\n",
    "# Продажи в Европе по платформам\n",
    "eu_platform_top = games_filtred.pivot_table(\n",
    "    index='platform', values='eu_sales', aggfunc='sum').sort_values(\n",
    "    by='eu_sales', ascending=False)\n",
    "#Добавляем столбец с долями\n",
    "total_sales = eu_platform_top.sum()[0]\n",
    "percentage = []\n",
    "for i in range(eu_platform_top.shape[0]):\n",
    "    pct = (eu_platform_top.eu_sales[i] / total_sales) * 100\n",
    "    percentage.append(round(pct,2))\n",
    "eu_platform_top['Percentage'] = percentage\n",
    "#Отобразим график\n",
    "plt.figure(figsize=(4, 4))\n",
    "graph = plt.bar(eu_platform_top.index, eu_platform_top.eu_sales)\n",
    "plt.title('Продажи в Европе по платформам')\n",
    "plt.ylabel('Количество продаж')\n",
    "i = 0\n",
    "#Добавим на график доли в процентах на каждый столбик \n",
    "for p in graph:\n",
    "    width = p.get_width()\n",
    "    height = p.get_height()\n",
    "    x, y = p.get_xy()\n",
    "    plt.text(x+width/2,\n",
    "             y+height*1.01,\n",
    "             str(eu_platform_top.Percentage[i])+'%', ha='center', weight='bold')\n",
    "    i+=1\n",
    "plt.ylim(0,150)\n",
    "plt.show()"
   ]
  },
  {
   "cell_type": "code",
   "execution_count": 33,
   "metadata": {},
   "outputs": [
    {
     "data": {
      "image/png": "[encoded data removed]",
      "text/plain": [
       "<Figure size 400x400 with 1 Axes>"
      ]
     },
     "metadata": {},
     "output_type": "display_data"
    }
   ],
   "source": [
    "#Создаю таблицу по которой буду строить график\n",
    "# Продажи в Японии по платформам\n",
    "jp_platform_top = games_filtred.pivot_table(\n",
    "    index='platform', values='jp_sales', aggfunc='sum').sort_values(\n",
    "    by='jp_sales', ascending=False)\n",
    "#Добавляем столбец с долями\n",
    "total_sales = jp_platform_top.sum()[0]\n",
    "percentage = []\n",
    "for i in range(jp_platform_top.shape[0]):\n",
    "    pct = (jp_platform_top.jp_sales[i] / total_sales) * 100\n",
    "    percentage.append(round(pct,2))\n",
    "jp_platform_top['Percentage'] = percentage\n",
    "#Отобразим график\n",
    "plt.figure(figsize=(4, 4))\n",
    "graph = plt.bar(jp_platform_top.index, jp_platform_top.jp_sales)\n",
    "plt.title('Продажи в Японии по платформам')\n",
    "plt.ylabel('Количество продаж')\n",
    "i = 0\n",
    "#Добавим на график доли в процентах на каждый столбик \n",
    "for p in graph:\n",
    "    width = p.get_width()\n",
    "    height = p.get_height()\n",
    "    x, y = p.get_xy()\n",
    "    plt.text(x+width/2,\n",
    "             y+height*1.01,\n",
    "             str(jp_platform_top.Percentage[i])+'%', ha='center', weight='bold')\n",
    "    i+=1\n",
    "plt.ylim(0,60)\n",
    "plt.show()"
   ]
  },
  {
   "cell_type": "code",
   "execution_count": 34,
   "metadata": {},
   "outputs": [
    {
     "data": {
      "image/png": "[encoded data removed]",
      "text/plain": [
       "<Figure size 600x400 with 1 Axes>"
      ]
     },
     "metadata": {},
     "output_type": "display_data"
    }
   ],
   "source": [
    "#Создаю таблицу по которой буду строить график\n",
    "# Продажи в Северной америке по жанрам\n",
    "na_genre_top = games_filtred.pivot_table(\n",
    "    index='genre', values='na_sales', aggfunc='sum').sort_values(\n",
    "    by='na_sales', ascending=False).head()\n",
    "#Добавляем столбец с долями\n",
    "total_sales = na_genre_top.sum()[0]\n",
    "percentage = []\n",
    "for i in range(na_genre_top.shape[0]):\n",
    "    pct = (na_genre_top.na_sales[i] / total_sales) * 100\n",
    "    percentage.append(round(pct,2))\n",
    "na_genre_top['Percentage'] = percentage\n",
    "#Отобразим график\n",
    "plt.figure(figsize=(6, 4))\n",
    "graph = plt.bar(na_genre_top.index, na_genre_top.na_sales)\n",
    "plt.title('Продажи в Северной америке по жанрам')\n",
    "plt.ylabel('Количество продаж')\n",
    "i = 0\n",
    "#Добавим на график доли в процентах на каждый столбик \n",
    "for p in graph:\n",
    "    width = p.get_width()\n",
    "    height = p.get_height()\n",
    "    x, y = p.get_xy()\n",
    "    plt.text(x+width/2,\n",
    "             y+height*1.01,\n",
    "             str(na_genre_top.Percentage[i])+'%', ha='center', weight='bold')\n",
    "    i+=1\n",
    "plt.ylim(0,80)\n",
    "plt.show()"
   ]
  },
  {
   "cell_type": "code",
   "execution_count": 35,
   "metadata": {},
   "outputs": [
    {
     "data": {
      "image/png": "[encoded data removed]",
      "text/plain": [
       "<Figure size 600x400 with 1 Axes>"
      ]
     },
     "metadata": {},
     "output_type": "display_data"
    }
   ],
   "source": [
    "#Создаю таблицу по которой буду строить график\n",
    "# Продажи в Европе по жанрам\n",
    "eu_genre_top = games_filtred.pivot_table(\n",
    "    index='genre', values='eu_sales', aggfunc='sum').sort_values(\n",
    "    by='eu_sales', ascending=False).head()\n",
    "#Добавляем столбец с долями\n",
    "total_sales = eu_genre_top.sum()[0]\n",
    "percentage = []\n",
    "for i in range(eu_genre_top.shape[0]):\n",
    "    pct = (eu_genre_top.eu_sales[i] / total_sales) * 100\n",
    "    percentage.append(round(pct,2))\n",
    "eu_genre_top['Percentage'] = percentage\n",
    "#Отобразим график\n",
    "plt.figure(figsize=(6, 4))\n",
    "graph = plt.bar(eu_genre_top.index, eu_genre_top.eu_sales)\n",
    "plt.title('Продажи в Европе по жанрам')\n",
    "plt.ylabel('Количество продаж')\n",
    "i = 0\n",
    "#Добавим на график доли в процентах на каждый столбик \n",
    "for p in graph:\n",
    "    width = p.get_width()\n",
    "    height = p.get_height()\n",
    "    x, y = p.get_xy()\n",
    "    plt.text(x+width/2,\n",
    "             y+height*1.01,\n",
    "             str(eu_genre_top.Percentage[i])+'%', ha='center', weight='bold')\n",
    "    i+=1\n",
    "plt.ylim(0,80)\n",
    "plt.show()"
   ]
  },
  {
   "cell_type": "code",
   "execution_count": 36,
   "metadata": {},
   "outputs": [
    {
     "data": {
      "image/png": "[encoded data removed]",
      "text/plain": [
       "<Figure size 600x400 with 1 Axes>"
      ]
     },
     "metadata": {},
     "output_type": "display_data"
    }
   ],
   "source": [
    "#Создаю таблицу по которой буду строить график\n",
    "# Продажи в Японии по жанрам\n",
    "jp_genre_top = games_filtred.pivot_table(\n",
    "    index='genre', values='jp_sales', aggfunc='sum').sort_values(\n",
    "    by='jp_sales', ascending=False).head()\n",
    "#Добавляем столбец с долями\n",
    "total_sales = jp_genre_top.sum()[0]\n",
    "percentage = []\n",
    "for i in range(jp_genre_top.shape[0]):\n",
    "    pct = (jp_genre_top.jp_sales[i] / total_sales) * 100\n",
    "    percentage.append(round(pct,2))\n",
    "jp_genre_top['Percentage'] = percentage\n",
    "#Отобразим график\n",
    "plt.figure(figsize=(6, 4))\n",
    "graph = plt.bar(jp_genre_top.index, jp_genre_top.jp_sales)\n",
    "plt.title('Продажи в Японии по жанрам')\n",
    "plt.ylabel('Количество продаж')\n",
    "i = 0\n",
    "#Добавим на график доли в процентах на каждый столбик \n",
    "for p in graph:\n",
    "    width = p.get_width()\n",
    "    height = p.get_height()\n",
    "    x, y = p.get_xy()\n",
    "    plt.text(x+width/2,\n",
    "             y+height*1.01,\n",
    "             str(jp_genre_top.Percentage[i])+'%', ha='center', weight='bold')\n",
    "    i+=1\n",
    "plt.ylim(0,30)\n",
    "plt.show()"
   ]
  },
  {
   "cell_type": "code",
   "execution_count": 37,
   "metadata": {},
   "outputs": [
    {
     "data": {
      "text/html": [
       "<div>\n",
       "<style scoped>\n",
       "    .dataframe tbody tr th:only-of-type {\n",
       "        vertical-align: middle;\n",
       "    }\n",
       "\n",
       "    .dataframe tbody tr th {\n",
       "        vertical-align: top;\n",
       "    }\n",
       "\n",
       "    .dataframe thead th {\n",
       "        text-align: right;\n",
       "    }\n",
       "</style>\n",
       "<table border=\"1\" class=\"dataframe\">\n",
       "  <thead>\n",
       "    <tr style=\"text-align: right;\">\n",
       "      <th></th>\n",
       "      <th>na_sales</th>\n",
       "      <th>market_share</th>\n",
       "    </tr>\n",
       "    <tr>\n",
       "      <th>rating</th>\n",
       "      <th></th>\n",
       "      <th></th>\n",
       "    </tr>\n",
       "  </thead>\n",
       "  <tbody>\n",
       "    <tr>\n",
       "      <th>M</th>\n",
       "      <td>81.01</td>\n",
       "      <td>0.511427</td>\n",
       "    </tr>\n",
       "    <tr>\n",
       "      <th>T</th>\n",
       "      <td>30.06</td>\n",
       "      <td>0.189773</td>\n",
       "    </tr>\n",
       "    <tr>\n",
       "      <th>E</th>\n",
       "      <td>29.57</td>\n",
       "      <td>0.186679</td>\n",
       "    </tr>\n",
       "    <tr>\n",
       "      <th>E10+</th>\n",
       "      <td>17.76</td>\n",
       "      <td>0.112121</td>\n",
       "    </tr>\n",
       "  </tbody>\n",
       "</table>\n",
       "</div>"
      ],
      "text/plain": [
       "        na_sales  market_share\n",
       "rating                        \n",
       "M          81.01      0.511427\n",
       "T          30.06      0.189773\n",
       "E          29.57      0.186679\n",
       "E10+       17.76      0.112121"
      ]
     },
     "metadata": {},
     "output_type": "display_data"
    },
    {
     "data": {
      "text/html": [
       "<div>\n",
       "<style scoped>\n",
       "    .dataframe tbody tr th:only-of-type {\n",
       "        vertical-align: middle;\n",
       "    }\n",
       "\n",
       "    .dataframe tbody tr th {\n",
       "        vertical-align: top;\n",
       "    }\n",
       "\n",
       "    .dataframe thead th {\n",
       "        text-align: right;\n",
       "    }\n",
       "</style>\n",
       "<table border=\"1\" class=\"dataframe\">\n",
       "  <thead>\n",
       "    <tr style=\"text-align: right;\">\n",
       "      <th></th>\n",
       "      <th>eu_sales</th>\n",
       "      <th>market_share</th>\n",
       "    </tr>\n",
       "    <tr>\n",
       "      <th>rating</th>\n",
       "      <th></th>\n",
       "      <th></th>\n",
       "    </tr>\n",
       "  </thead>\n",
       "  <tbody>\n",
       "    <tr>\n",
       "      <th>M</th>\n",
       "      <td>81.44</td>\n",
       "      <td>0.501447</td>\n",
       "    </tr>\n",
       "    <tr>\n",
       "      <th>E</th>\n",
       "      <td>39.91</td>\n",
       "      <td>0.245736</td>\n",
       "    </tr>\n",
       "    <tr>\n",
       "      <th>T</th>\n",
       "      <td>28.29</td>\n",
       "      <td>0.174189</td>\n",
       "    </tr>\n",
       "    <tr>\n",
       "      <th>E10+</th>\n",
       "      <td>12.77</td>\n",
       "      <td>0.078628</td>\n",
       "    </tr>\n",
       "  </tbody>\n",
       "</table>\n",
       "</div>"
      ],
      "text/plain": [
       "        eu_sales  market_share\n",
       "rating                        \n",
       "M          81.44      0.501447\n",
       "E          39.91      0.245736\n",
       "T          28.29      0.174189\n",
       "E10+       12.77      0.078628"
      ]
     },
     "metadata": {},
     "output_type": "display_data"
    },
    {
     "data": {
      "text/html": [
       "<div>\n",
       "<style scoped>\n",
       "    .dataframe tbody tr th:only-of-type {\n",
       "        vertical-align: middle;\n",
       "    }\n",
       "\n",
       "    .dataframe tbody tr th {\n",
       "        vertical-align: top;\n",
       "    }\n",
       "\n",
       "    .dataframe thead th {\n",
       "        text-align: right;\n",
       "    }\n",
       "</style>\n",
       "<table border=\"1\" class=\"dataframe\">\n",
       "  <thead>\n",
       "    <tr style=\"text-align: right;\">\n",
       "      <th></th>\n",
       "      <th>jp_sales</th>\n",
       "      <th>market_share</th>\n",
       "    </tr>\n",
       "    <tr>\n",
       "      <th>rating</th>\n",
       "      <th></th>\n",
       "      <th></th>\n",
       "    </tr>\n",
       "  </thead>\n",
       "  <tbody>\n",
       "    <tr>\n",
       "      <th>T</th>\n",
       "      <td>7.57</td>\n",
       "      <td>0.377745</td>\n",
       "    </tr>\n",
       "    <tr>\n",
       "      <th>M</th>\n",
       "      <td>5.42</td>\n",
       "      <td>0.270459</td>\n",
       "    </tr>\n",
       "    <tr>\n",
       "      <th>E</th>\n",
       "      <td>4.82</td>\n",
       "      <td>0.240519</td>\n",
       "    </tr>\n",
       "    <tr>\n",
       "      <th>E10+</th>\n",
       "      <td>2.23</td>\n",
       "      <td>0.111277</td>\n",
       "    </tr>\n",
       "  </tbody>\n",
       "</table>\n",
       "</div>"
      ],
      "text/plain": [
       "        jp_sales  market_share\n",
       "rating                        \n",
       "T           7.57      0.377745\n",
       "M           5.42      0.270459\n",
       "E           4.82      0.240519\n",
       "E10+        2.23      0.111277"
      ]
     },
     "metadata": {},
     "output_type": "display_data"
    }
   ],
   "source": [
    "#Распределение рейтингов по продажам в Северной Америке \n",
    "na_rating = games_filtred.pivot_table(\n",
    "    index='rating', values='na_sales', aggfunc='sum').sort_values(by='na_sales', ascending=False)\n",
    "na_rating['market_share'] = na_rating['na_sales']/na_rating.sum()[0]\n",
    "#Распределение рейтингов по продажам в Европе\n",
    "eu_rating = games_filtred.pivot_table(\n",
    "    index='rating', values='eu_sales', aggfunc='sum').sort_values(by='eu_sales', ascending=False)\n",
    "eu_rating['market_share'] = eu_rating['eu_sales']/eu_rating.sum()[0]\n",
    "#Распределение рейтингов по продажам в Японии\n",
    "jp_rating = games_filtred.pivot_table(\n",
    "    index='rating', values='jp_sales', aggfunc='sum').sort_values(by='jp_sales', ascending=False)\n",
    "jp_rating['market_share'] = jp_rating['jp_sales']/jp_rating.sum()[0]\n",
    "display(na_rating, eu_rating, jp_rating)"
   ]
  },
  {
   "cell_type": "markdown",
   "metadata": {},
   "source": [
    "Составил топ-5 продаж для каждого региона в отдельности по жанрам и платформам. Видно, что вкусы пользователей из разных регионов отличаюся.\n",
    "\n",
    "Из распределение рейтингов по продажам в отдельных регионах можно увидеть, что рейтинг ESRB оказывает влияние на продажи."
   ]
  },
  {
   "cell_type": "markdown",
   "metadata": {},
   "source": [
    "## Проверка гипотез."
   ]
  },
  {
   "cell_type": "markdown",
   "metadata": {},
   "source": [
    "Задача 1. Средние пользовательские рейтинги платформ Xbox One и PC одинаковые\n",
    "\n",
    "Нулевая гипотеза: Средние пользовательские рейтинги платформ Xbox One и PC одинаковые.\n",
    "\n",
    "Альтернативную гипотеза: Средние пользовательские рейтинги платформ Xbox One и PC разные."
   ]
  },
  {
   "cell_type": "code",
   "execution_count": 38,
   "metadata": {},
   "outputs": [],
   "source": [
    "# Подготовим генеральные совокупности\n",
    "xone_population = games_filtred.query('platform == \"XOne\"')['user_score']\n",
    "xone_population = xone_population.dropna()\n",
    "pc_population = games_filtred.query('platform == \"PC\"')['user_score']\n",
    "pc_population = pc_population.dropna()"
   ]
  },
  {
   "cell_type": "code",
   "execution_count": 39,
   "metadata": {
    "scrolled": true
   },
   "outputs": [
    {
     "name": "stdout",
     "output_type": "stream",
     "text": [
      "p-value: 0.10450507919348415\n",
      "Нет оснований отвергнуть нулевую гипотезу\n"
     ]
    }
   ],
   "source": [
    "alpha = 0.05\n",
    "results = st.ttest_ind(xone_population, pc_population)\n",
    "print(f'p-value: {results.pvalue}')\n",
    "if results.pvalue < alpha:\n",
    "    print('Отвергаем нулевую гипотезу')\n",
    "else:\n",
    "    print('Нет оснований отвергнуть нулевую гипотезу')"
   ]
  },
  {
   "cell_type": "markdown",
   "metadata": {},
   "source": []
  },
  {
   "cell_type": "markdown",
   "metadata": {},
   "source": [
    "Задача 2. Средние пользовательские рейтинги жанров Action (англ. «действие», экшен-игры) и Sports (англ. «спортивные соревнования») разные.\n",
    "\n",
    "Нулевая гипотеза: Средние пользовательские рейтинги жанров Action (англ. «действие», экшен-игры) и Sports (англ. «спортивные соревнования») одинаковые.\n",
    "\n",
    "Альтернативную гипотеза: Средние пользовательские рейтинги жанров Action (англ. «действие», экшен-игры) и Sports (англ. «спортивные соревнования») разные."
   ]
  },
  {
   "cell_type": "code",
   "execution_count": 40,
   "metadata": {},
   "outputs": [],
   "source": [
    "# Подготовим генеральные совокупности\n",
    "action_population = games_filtred.query('genre == \"Action\"')['user_score']\n",
    "action_population = action_population.dropna()\n",
    "sports_population = games_filtred.query('genre == \"Sports\"')['user_score']\n",
    "sports_population = sports_population.dropna()"
   ]
  },
  {
   "cell_type": "code",
   "execution_count": 41,
   "metadata": {},
   "outputs": [
    {
     "name": "stdout",
     "output_type": "stream",
     "text": [
      "p-value: 5.856201190470744e-09\n",
      "Отвергаем нулевую гипотезу\n"
     ]
    }
   ],
   "source": [
    "alpha = 0.05\n",
    "results = st.ttest_ind(action_population, sports_population)\n",
    "print(f'p-value: {results.pvalue}')\n",
    "if results.pvalue < alpha:\n",
    "    print('Отвергаем нулевую гипотезу')\n",
    "else:\n",
    "    print('Нет оснований отвергнуть нулевую гипотезу')"
   ]
  },
  {
   "cell_type": "markdown",
   "metadata": {},
   "source": [
    "Нуливая гипотеза всегда формулируются из равенства, все что кроме это альтернативная. Критерием для проверки гипотез является значение pvalue, которое мы сравниваем с параметром alpha или с уровнем статистистической значимости. Параметр alpha мною задан 5%."
   ]
  },
  {
   "cell_type": "markdown",
   "metadata": {},
   "source": [
    "## Общий вывод."
   ]
  },
  {
   "cell_type": "markdown",
   "metadata": {},
   "source": [
    "Вывел первые строки данных. Изучил общую информацию о датафрейме. Осуществил предобработку данных. В DF вижу пропуски в столбцах с годом издания, названия игр и жанра - их немного. Эти пропуски не влияют на систему. Предполагаю что они возникли при ошибке ввода(человеческий фактор). Пропусков много в столбцах с рейтинками. Эти пропуски связоны с тем что рейтинговые организации оценивают не все игры. \n",
    "\n",
    "Провел исследовательский анализ данных. Для анализа я выбрал временой период до 2014-2016. Данные из этого периода помогут построить прогноз на 2017 год. Также выбрал 4 потенциально прибыльные платформы: PS4, XOne, 3DS, PC. По продажам PS4 лидируют, следом XOne. В среднем игры на основных платформах продаюся около 250тыс копий. На это распределение сильное влияние оказывает множество провальных проэктов с продажами близкие к нули, а также супер успешные.\n",
    "\n",
    "Отзывы критиков имеют влияние на продажи игр на платформе ps4. Отзывы пользователей не оказывают влияние на продажи игрна платформе ps4.\n",
    "\n",
    "На других платформах оценка критиков тоже влияет на продажи, но немного. На других платформах оценка пользователей имеет вес на платформе 3DS, но небольшой. На драгих платформах также вообще не влияет.\n",
    "\n",
    "Из распределения по жанрам можно выделить лидеров продаж. Жанры: Shooter, Sports и Racing. Жанр Shooter самый стабильный и потенциальный. На распределения других жанров сильно влияют провальные и звездные проэкты.\n",
    "\n",
    "Составил портреты пользователей каждого региона, по таблицам топ-5 можно узнать какие платформы и жанры пользователи предпочитают. Предпочтения по регионам отличаются.\n",
    "\n",
    "Выяснил также, что рейтинг ESRB оказывает влияние на продажи.\n",
    "\n",
    "Проверил гипотезы:\n",
    "\n",
    "Задача 1. Средние пользовательские рейтинги платформ Xbox One и PC одинаковые. Нулевая гипотеза: Средние пользовательские рейтинги платформ Xbox One и PC одинаковы. Альтернативную гипотеза: Средние пользовательские рейтинги платформ Xbox One и PC разные. Ответ: Можно сказать, что средние пользовательские рейтинги платформ Xbox One и PC одинаковые. \n",
    "\n",
    "Задача 2. Средние пользовательские рейтинги жанров Action и Sports разные. Нулевая гипотеза: Средние пользовательские рейтинги жанров Action и Sport одинаковые. Альтернативную гипотеза: Средние пользовательские рейтинги жанров Action и Sports разные. Ответ: Средние пользовательские рейтинги жанров Action и Sports разные.\n",
    "\n",
    "Мои рекоммендации интернет-магазину «Стримчик»: \n",
    "\n",
    "При планировании маркетинговой компании на 2017 год следует обратить внимание на платформы PS4, XOne, 3DS, PC.\n",
    "Обратить внимание на жанры Shooter, Sports и Racing. При этом учитывать регион продаж, оценки критиков и рейтинг компьютерных игр ESRB. "
   ]
  }
 ],
 "metadata": {
  "ExecuteTimeLog": [
   {
    "duration": 1266,
    "start_time": "2023-12-18T12:22:07.490Z"
   },
   {
    "duration": 138,
    "start_time": "2023-12-18T12:22:08.758Z"
   },
   {
    "duration": 0,
    "start_time": "2023-12-18T12:22:08.898Z"
   },
   {
    "duration": 0,
    "start_time": "2023-12-18T12:22:08.900Z"
   },
   {
    "duration": 0,
    "start_time": "2023-12-18T12:22:08.901Z"
   },
   {
    "duration": 0,
    "start_time": "2023-12-18T12:22:08.902Z"
   },
   {
    "duration": 0,
    "start_time": "2023-12-18T12:22:08.903Z"
   },
   {
    "duration": 0,
    "start_time": "2023-12-18T12:22:08.904Z"
   },
   {
    "duration": 0,
    "start_time": "2023-12-18T12:22:08.905Z"
   },
   {
    "duration": 0,
    "start_time": "2023-12-18T12:22:08.906Z"
   },
   {
    "duration": 0,
    "start_time": "2023-12-18T12:22:08.907Z"
   },
   {
    "duration": 0,
    "start_time": "2023-12-18T12:22:08.908Z"
   },
   {
    "duration": 0,
    "start_time": "2023-12-18T12:22:08.909Z"
   },
   {
    "duration": 0,
    "start_time": "2023-12-18T12:22:08.910Z"
   },
   {
    "duration": 0,
    "start_time": "2023-12-18T12:22:08.911Z"
   },
   {
    "duration": 0,
    "start_time": "2023-12-18T12:22:08.912Z"
   },
   {
    "duration": 0,
    "start_time": "2023-12-18T12:22:08.932Z"
   },
   {
    "duration": 0,
    "start_time": "2023-12-18T12:22:08.933Z"
   },
   {
    "duration": 0,
    "start_time": "2023-12-18T12:22:08.934Z"
   },
   {
    "duration": 1,
    "start_time": "2023-12-18T12:22:08.936Z"
   },
   {
    "duration": 0,
    "start_time": "2023-12-18T12:22:08.938Z"
   },
   {
    "duration": 0,
    "start_time": "2023-12-18T12:22:08.939Z"
   },
   {
    "duration": 0,
    "start_time": "2023-12-18T12:22:08.940Z"
   },
   {
    "duration": 0,
    "start_time": "2023-12-18T12:22:08.940Z"
   },
   {
    "duration": 0,
    "start_time": "2023-12-18T12:22:08.941Z"
   },
   {
    "duration": 1210,
    "start_time": "2023-12-18T12:56:09.017Z"
   },
   {
    "duration": 144,
    "start_time": "2023-12-18T12:56:10.229Z"
   },
   {
    "duration": 12,
    "start_time": "2023-12-18T12:56:10.374Z"
   },
   {
    "duration": 22,
    "start_time": "2023-12-18T12:56:10.388Z"
   },
   {
    "duration": 8,
    "start_time": "2023-12-18T12:56:10.412Z"
   },
   {
    "duration": 6,
    "start_time": "2023-12-18T12:56:10.421Z"
   },
   {
    "duration": 13,
    "start_time": "2023-12-18T12:56:10.428Z"
   },
   {
    "duration": 13,
    "start_time": "2023-12-18T12:56:10.443Z"
   },
   {
    "duration": 235,
    "start_time": "2023-12-18T12:56:10.457Z"
   },
   {
    "duration": 4,
    "start_time": "2023-12-18T12:56:10.694Z"
   },
   {
    "duration": 158,
    "start_time": "2023-12-18T12:56:10.699Z"
   },
   {
    "duration": 2284,
    "start_time": "2023-12-18T12:56:10.858Z"
   },
   {
    "duration": 7,
    "start_time": "2023-12-18T12:56:13.144Z"
   },
   {
    "duration": 198,
    "start_time": "2023-12-18T12:56:13.153Z"
   },
   {
    "duration": 147,
    "start_time": "2023-12-18T12:56:13.353Z"
   },
   {
    "duration": 157,
    "start_time": "2023-12-18T12:56:13.502Z"
   },
   {
    "duration": 145,
    "start_time": "2023-12-18T12:56:13.661Z"
   },
   {
    "duration": 155,
    "start_time": "2023-12-18T12:56:13.807Z"
   },
   {
    "duration": 20,
    "start_time": "2023-12-18T12:56:13.963Z"
   },
   {
    "duration": 217,
    "start_time": "2023-12-18T12:56:13.984Z"
   },
   {
    "duration": 33,
    "start_time": "2023-12-18T12:56:14.202Z"
   },
   {
    "duration": 50,
    "start_time": "2023-12-18T12:56:14.236Z"
   },
   {
    "duration": 34,
    "start_time": "2023-12-18T12:56:14.287Z"
   },
   {
    "duration": 8,
    "start_time": "2023-12-18T12:56:14.322Z"
   },
   {
    "duration": 23,
    "start_time": "2023-12-18T12:56:14.331Z"
   },
   {
    "duration": 1268,
    "start_time": "2023-12-18T15:04:10.877Z"
   },
   {
    "duration": 295,
    "start_time": "2023-12-18T15:04:12.147Z"
   },
   {
    "duration": 13,
    "start_time": "2023-12-18T15:04:12.444Z"
   },
   {
    "duration": 27,
    "start_time": "2023-12-18T15:04:12.458Z"
   },
   {
    "duration": 11,
    "start_time": "2023-12-18T15:04:12.486Z"
   },
   {
    "duration": 7,
    "start_time": "2023-12-18T15:04:12.498Z"
   },
   {
    "duration": 27,
    "start_time": "2023-12-18T15:04:12.506Z"
   },
   {
    "duration": 16,
    "start_time": "2023-12-18T15:04:12.534Z"
   },
   {
    "duration": 237,
    "start_time": "2023-12-18T15:04:12.551Z"
   },
   {
    "duration": 5,
    "start_time": "2023-12-18T15:04:12.790Z"
   },
   {
    "duration": 188,
    "start_time": "2023-12-18T15:04:12.796Z"
   },
   {
    "duration": 2317,
    "start_time": "2023-12-18T15:04:12.985Z"
   },
   {
    "duration": 11,
    "start_time": "2023-12-18T15:04:15.304Z"
   },
   {
    "duration": 182,
    "start_time": "2023-12-18T15:04:15.316Z"
   },
   {
    "duration": 145,
    "start_time": "2023-12-18T15:04:15.499Z"
   },
   {
    "duration": 150,
    "start_time": "2023-12-18T15:04:15.646Z"
   },
   {
    "duration": 153,
    "start_time": "2023-12-18T15:04:15.797Z"
   },
   {
    "duration": 145,
    "start_time": "2023-12-18T15:04:15.952Z"
   },
   {
    "duration": 18,
    "start_time": "2023-12-18T15:04:16.098Z"
   },
   {
    "duration": 271,
    "start_time": "2023-12-18T15:04:16.118Z"
   },
   {
    "duration": 45,
    "start_time": "2023-12-18T15:04:16.390Z"
   },
   {
    "duration": 37,
    "start_time": "2023-12-18T15:04:16.436Z"
   },
   {
    "duration": 74,
    "start_time": "2023-12-18T15:04:16.474Z"
   },
   {
    "duration": 9,
    "start_time": "2023-12-18T15:04:16.549Z"
   },
   {
    "duration": 33,
    "start_time": "2023-12-18T15:04:16.559Z"
   },
   {
    "duration": 12,
    "start_time": "2023-12-18T15:08:14.643Z"
   },
   {
    "duration": 3,
    "start_time": "2023-12-18T15:09:10.120Z"
   },
   {
    "duration": 1172,
    "start_time": "2023-12-18T15:09:14.600Z"
   },
   {
    "duration": 98,
    "start_time": "2023-12-18T15:09:15.774Z"
   },
   {
    "duration": 13,
    "start_time": "2023-12-18T15:09:15.874Z"
   },
   {
    "duration": 16,
    "start_time": "2023-12-18T15:09:15.889Z"
   },
   {
    "duration": 10,
    "start_time": "2023-12-18T15:09:15.907Z"
   },
   {
    "duration": 6,
    "start_time": "2023-12-18T15:09:15.919Z"
   },
   {
    "duration": 13,
    "start_time": "2023-12-18T15:09:15.927Z"
   },
   {
    "duration": 16,
    "start_time": "2023-12-18T15:09:15.941Z"
   },
   {
    "duration": 4,
    "start_time": "2023-12-18T15:09:15.959Z"
   },
   {
    "duration": 255,
    "start_time": "2023-12-18T15:09:15.964Z"
   },
   {
    "duration": 5,
    "start_time": "2023-12-18T15:09:16.220Z"
   },
   {
    "duration": 182,
    "start_time": "2023-12-18T15:09:16.227Z"
   },
   {
    "duration": 2265,
    "start_time": "2023-12-18T15:09:16.411Z"
   },
   {
    "duration": 5,
    "start_time": "2023-12-18T15:09:18.679Z"
   },
   {
    "duration": 196,
    "start_time": "2023-12-18T15:09:18.686Z"
   },
   {
    "duration": 146,
    "start_time": "2023-12-18T15:09:18.884Z"
   },
   {
    "duration": 149,
    "start_time": "2023-12-18T15:09:19.032Z"
   },
   {
    "duration": 153,
    "start_time": "2023-12-18T15:09:19.182Z"
   },
   {
    "duration": 223,
    "start_time": "2023-12-18T15:09:19.337Z"
   },
   {
    "duration": 15,
    "start_time": "2023-12-18T15:09:19.561Z"
   },
   {
    "duration": 163,
    "start_time": "2023-12-18T15:09:19.577Z"
   },
   {
    "duration": 36,
    "start_time": "2023-12-18T15:09:19.742Z"
   },
   {
    "duration": 51,
    "start_time": "2023-12-18T15:09:19.780Z"
   },
   {
    "duration": 38,
    "start_time": "2023-12-18T15:09:19.833Z"
   },
   {
    "duration": 9,
    "start_time": "2023-12-18T15:09:19.872Z"
   },
   {
    "duration": 35,
    "start_time": "2023-12-18T15:09:19.883Z"
   },
   {
    "duration": 14,
    "start_time": "2023-12-18T16:07:24.170Z"
   },
   {
    "duration": 1139,
    "start_time": "2023-12-18T16:07:30.356Z"
   },
   {
    "duration": 102,
    "start_time": "2023-12-18T16:07:31.496Z"
   },
   {
    "duration": 17,
    "start_time": "2023-12-18T16:07:31.599Z"
   },
   {
    "duration": 28,
    "start_time": "2023-12-18T16:07:31.617Z"
   },
   {
    "duration": 35,
    "start_time": "2023-12-18T16:07:31.647Z"
   },
   {
    "duration": 23,
    "start_time": "2023-12-18T16:07:31.684Z"
   },
   {
    "duration": 32,
    "start_time": "2023-12-18T16:07:31.709Z"
   },
   {
    "duration": 40,
    "start_time": "2023-12-18T16:07:31.743Z"
   },
   {
    "duration": 36,
    "start_time": "2023-12-18T16:07:31.785Z"
   },
   {
    "duration": 18,
    "start_time": "2023-12-18T16:07:31.822Z"
   },
   {
    "duration": 232,
    "start_time": "2023-12-18T16:07:31.841Z"
   },
   {
    "duration": 5,
    "start_time": "2023-12-18T16:07:32.074Z"
   },
   {
    "duration": 154,
    "start_time": "2023-12-18T16:07:32.080Z"
   },
   {
    "duration": 2158,
    "start_time": "2023-12-18T16:07:32.236Z"
   },
   {
    "duration": 7,
    "start_time": "2023-12-18T16:07:34.395Z"
   },
   {
    "duration": 171,
    "start_time": "2023-12-18T16:07:34.403Z"
   },
   {
    "duration": 133,
    "start_time": "2023-12-18T16:07:34.576Z"
   },
   {
    "duration": 139,
    "start_time": "2023-12-18T16:07:34.711Z"
   },
   {
    "duration": 137,
    "start_time": "2023-12-18T16:07:34.851Z"
   },
   {
    "duration": 202,
    "start_time": "2023-12-18T16:07:34.990Z"
   },
   {
    "duration": 13,
    "start_time": "2023-12-18T16:07:35.193Z"
   },
   {
    "duration": 170,
    "start_time": "2023-12-18T16:07:35.208Z"
   },
   {
    "duration": 34,
    "start_time": "2023-12-18T16:07:35.381Z"
   },
   {
    "duration": 32,
    "start_time": "2023-12-18T16:07:35.416Z"
   },
   {
    "duration": 55,
    "start_time": "2023-12-18T16:07:35.449Z"
   },
   {
    "duration": 8,
    "start_time": "2023-12-18T16:07:35.505Z"
   },
   {
    "duration": 8,
    "start_time": "2023-12-18T16:07:35.515Z"
   },
   {
    "duration": 1056,
    "start_time": "2023-12-18T16:12:40.119Z"
   },
   {
    "duration": 86,
    "start_time": "2023-12-18T16:12:41.177Z"
   },
   {
    "duration": 17,
    "start_time": "2023-12-18T16:12:41.264Z"
   },
   {
    "duration": 11,
    "start_time": "2023-12-18T16:12:41.283Z"
   },
   {
    "duration": 21,
    "start_time": "2023-12-18T16:12:41.296Z"
   },
   {
    "duration": 10,
    "start_time": "2023-12-18T16:12:41.318Z"
   },
   {
    "duration": 6,
    "start_time": "2023-12-18T16:12:41.329Z"
   },
   {
    "duration": 28,
    "start_time": "2023-12-18T16:12:41.336Z"
   },
   {
    "duration": 17,
    "start_time": "2023-12-18T16:12:41.366Z"
   },
   {
    "duration": 36,
    "start_time": "2023-12-18T16:12:41.385Z"
   },
   {
    "duration": 207,
    "start_time": "2023-12-18T16:12:41.423Z"
   },
   {
    "duration": 5,
    "start_time": "2023-12-18T16:12:41.631Z"
   },
   {
    "duration": 170,
    "start_time": "2023-12-18T16:12:41.637Z"
   },
   {
    "duration": 2128,
    "start_time": "2023-12-18T16:12:41.808Z"
   },
   {
    "duration": 6,
    "start_time": "2023-12-18T16:12:43.937Z"
   },
   {
    "duration": 171,
    "start_time": "2023-12-18T16:12:43.944Z"
   },
   {
    "duration": 133,
    "start_time": "2023-12-18T16:12:44.116Z"
   },
   {
    "duration": 140,
    "start_time": "2023-12-18T16:12:44.250Z"
   },
   {
    "duration": 144,
    "start_time": "2023-12-18T16:12:44.391Z"
   },
   {
    "duration": 206,
    "start_time": "2023-12-18T16:12:44.537Z"
   },
   {
    "duration": 14,
    "start_time": "2023-12-18T16:12:44.745Z"
   },
   {
    "duration": 159,
    "start_time": "2023-12-18T16:12:44.760Z"
   },
   {
    "duration": 35,
    "start_time": "2023-12-18T16:12:44.921Z"
   },
   {
    "duration": 47,
    "start_time": "2023-12-18T16:12:44.957Z"
   },
   {
    "duration": 35,
    "start_time": "2023-12-18T16:12:45.005Z"
   },
   {
    "duration": 12,
    "start_time": "2023-12-18T16:12:45.041Z"
   },
   {
    "duration": 31,
    "start_time": "2023-12-18T16:12:45.054Z"
   },
   {
    "duration": 1277,
    "start_time": "2023-12-18T16:18:13.256Z"
   },
   {
    "duration": 8,
    "start_time": "2023-12-18T16:18:26.634Z"
   },
   {
    "duration": 6,
    "start_time": "2023-12-18T16:18:36.169Z"
   },
   {
    "duration": 1140,
    "start_time": "2023-12-18T16:18:54.847Z"
   },
   {
    "duration": 89,
    "start_time": "2023-12-18T16:18:55.990Z"
   },
   {
    "duration": 16,
    "start_time": "2023-12-18T16:18:56.081Z"
   },
   {
    "duration": 13,
    "start_time": "2023-12-18T16:18:56.098Z"
   },
   {
    "duration": 16,
    "start_time": "2023-12-18T16:18:56.112Z"
   },
   {
    "duration": 9,
    "start_time": "2023-12-18T16:18:56.130Z"
   },
   {
    "duration": 6,
    "start_time": "2023-12-18T16:18:56.141Z"
   },
   {
    "duration": 141,
    "start_time": "2023-12-18T16:18:56.149Z"
   },
   {
    "duration": 0,
    "start_time": "2023-12-18T16:18:56.292Z"
   },
   {
    "duration": 0,
    "start_time": "2023-12-18T16:18:56.293Z"
   },
   {
    "duration": 0,
    "start_time": "2023-12-18T16:18:56.294Z"
   },
   {
    "duration": 0,
    "start_time": "2023-12-18T16:18:56.295Z"
   },
   {
    "duration": 0,
    "start_time": "2023-12-18T16:18:56.296Z"
   },
   {
    "duration": 1,
    "start_time": "2023-12-18T16:18:56.296Z"
   },
   {
    "duration": 0,
    "start_time": "2023-12-18T16:18:56.298Z"
   },
   {
    "duration": 0,
    "start_time": "2023-12-18T16:18:56.299Z"
   },
   {
    "duration": 0,
    "start_time": "2023-12-18T16:18:56.300Z"
   },
   {
    "duration": 0,
    "start_time": "2023-12-18T16:18:56.301Z"
   },
   {
    "duration": 0,
    "start_time": "2023-12-18T16:18:56.302Z"
   },
   {
    "duration": 0,
    "start_time": "2023-12-18T16:18:56.303Z"
   },
   {
    "duration": 0,
    "start_time": "2023-12-18T16:18:56.304Z"
   },
   {
    "duration": 0,
    "start_time": "2023-12-18T16:18:56.305Z"
   },
   {
    "duration": 0,
    "start_time": "2023-12-18T16:18:56.306Z"
   },
   {
    "duration": 0,
    "start_time": "2023-12-18T16:18:56.307Z"
   },
   {
    "duration": 0,
    "start_time": "2023-12-18T16:18:56.308Z"
   },
   {
    "duration": 0,
    "start_time": "2023-12-18T16:18:56.309Z"
   },
   {
    "duration": 0,
    "start_time": "2023-12-18T16:18:56.310Z"
   },
   {
    "duration": 18,
    "start_time": "2023-12-18T16:23:43.437Z"
   },
   {
    "duration": 15,
    "start_time": "2023-12-18T16:23:55.421Z"
   },
   {
    "duration": 1089,
    "start_time": "2023-12-18T16:24:03.535Z"
   },
   {
    "duration": 100,
    "start_time": "2023-12-18T16:24:04.625Z"
   },
   {
    "duration": 17,
    "start_time": "2023-12-18T16:24:04.726Z"
   },
   {
    "duration": 13,
    "start_time": "2023-12-18T16:24:04.745Z"
   },
   {
    "duration": 38,
    "start_time": "2023-12-18T16:24:04.759Z"
   },
   {
    "duration": 10,
    "start_time": "2023-12-18T16:24:04.798Z"
   },
   {
    "duration": 11,
    "start_time": "2023-12-18T16:24:04.809Z"
   },
   {
    "duration": 109,
    "start_time": "2023-12-18T16:24:04.822Z"
   },
   {
    "duration": 0,
    "start_time": "2023-12-18T16:24:04.933Z"
   },
   {
    "duration": 0,
    "start_time": "2023-12-18T16:24:04.934Z"
   },
   {
    "duration": 0,
    "start_time": "2023-12-18T16:24:04.935Z"
   },
   {
    "duration": 0,
    "start_time": "2023-12-18T16:24:04.937Z"
   },
   {
    "duration": 0,
    "start_time": "2023-12-18T16:24:04.938Z"
   },
   {
    "duration": 0,
    "start_time": "2023-12-18T16:24:04.939Z"
   },
   {
    "duration": 0,
    "start_time": "2023-12-18T16:24:04.941Z"
   },
   {
    "duration": 0,
    "start_time": "2023-12-18T16:24:04.942Z"
   },
   {
    "duration": 0,
    "start_time": "2023-12-18T16:24:04.943Z"
   },
   {
    "duration": 0,
    "start_time": "2023-12-18T16:24:04.945Z"
   },
   {
    "duration": 0,
    "start_time": "2023-12-18T16:24:04.946Z"
   },
   {
    "duration": 0,
    "start_time": "2023-12-18T16:24:04.948Z"
   },
   {
    "duration": 0,
    "start_time": "2023-12-18T16:24:04.949Z"
   },
   {
    "duration": 0,
    "start_time": "2023-12-18T16:24:04.950Z"
   },
   {
    "duration": 0,
    "start_time": "2023-12-18T16:24:04.951Z"
   },
   {
    "duration": 0,
    "start_time": "2023-12-18T16:24:04.983Z"
   },
   {
    "duration": 0,
    "start_time": "2023-12-18T16:24:04.985Z"
   },
   {
    "duration": 0,
    "start_time": "2023-12-18T16:24:04.987Z"
   },
   {
    "duration": 0,
    "start_time": "2023-12-18T16:24:04.988Z"
   },
   {
    "duration": 16,
    "start_time": "2023-12-18T16:24:38.150Z"
   },
   {
    "duration": 16,
    "start_time": "2023-12-18T16:24:46.350Z"
   },
   {
    "duration": 16,
    "start_time": "2023-12-18T16:27:02.856Z"
   },
   {
    "duration": 17,
    "start_time": "2023-12-18T16:27:41.232Z"
   },
   {
    "duration": 8,
    "start_time": "2023-12-18T16:27:49.184Z"
   },
   {
    "duration": 11,
    "start_time": "2023-12-18T16:29:52.874Z"
   },
   {
    "duration": 12,
    "start_time": "2023-12-18T16:30:00.598Z"
   },
   {
    "duration": 2,
    "start_time": "2023-12-18T16:32:33.539Z"
   },
   {
    "duration": 1131,
    "start_time": "2023-12-18T16:32:38.955Z"
   },
   {
    "duration": 86,
    "start_time": "2023-12-18T16:32:40.088Z"
   },
   {
    "duration": 16,
    "start_time": "2023-12-18T16:32:40.176Z"
   },
   {
    "duration": 12,
    "start_time": "2023-12-18T16:32:40.194Z"
   },
   {
    "duration": 14,
    "start_time": "2023-12-18T16:32:40.207Z"
   },
   {
    "duration": 9,
    "start_time": "2023-12-18T16:32:40.222Z"
   },
   {
    "duration": 6,
    "start_time": "2023-12-18T16:32:40.232Z"
   },
   {
    "duration": 44,
    "start_time": "2023-12-18T16:32:40.239Z"
   },
   {
    "duration": 15,
    "start_time": "2023-12-18T16:32:40.284Z"
   },
   {
    "duration": 3,
    "start_time": "2023-12-18T16:32:40.301Z"
   },
   {
    "duration": 295,
    "start_time": "2023-12-18T16:32:40.305Z"
   },
   {
    "duration": 5,
    "start_time": "2023-12-18T16:32:40.602Z"
   },
   {
    "duration": 179,
    "start_time": "2023-12-18T16:32:40.608Z"
   },
   {
    "duration": 2336,
    "start_time": "2023-12-18T16:32:40.789Z"
   },
   {
    "duration": 7,
    "start_time": "2023-12-18T16:32:43.126Z"
   },
   {
    "duration": 174,
    "start_time": "2023-12-18T16:32:43.135Z"
   },
   {
    "duration": 141,
    "start_time": "2023-12-18T16:32:43.310Z"
   },
   {
    "duration": 145,
    "start_time": "2023-12-18T16:32:43.453Z"
   },
   {
    "duration": 224,
    "start_time": "2023-12-18T16:32:43.600Z"
   },
   {
    "duration": 467,
    "start_time": "2023-12-18T16:32:43.826Z"
   },
   {
    "duration": 0,
    "start_time": "2023-12-18T16:32:44.294Z"
   },
   {
    "duration": 0,
    "start_time": "2023-12-18T16:32:44.296Z"
   },
   {
    "duration": 0,
    "start_time": "2023-12-18T16:32:44.297Z"
   },
   {
    "duration": 0,
    "start_time": "2023-12-18T16:32:44.298Z"
   },
   {
    "duration": 0,
    "start_time": "2023-12-18T16:32:44.298Z"
   },
   {
    "duration": 0,
    "start_time": "2023-12-18T16:32:44.299Z"
   },
   {
    "duration": 0,
    "start_time": "2023-12-18T16:32:44.300Z"
   },
   {
    "duration": 17,
    "start_time": "2023-12-18T16:33:09.180Z"
   },
   {
    "duration": 9,
    "start_time": "2023-12-18T16:33:40.884Z"
   },
   {
    "duration": 10,
    "start_time": "2023-12-18T16:33:46.044Z"
   },
   {
    "duration": 15,
    "start_time": "2023-12-18T16:50:56.425Z"
   },
   {
    "duration": 14,
    "start_time": "2023-12-18T16:52:10.064Z"
   },
   {
    "duration": 18,
    "start_time": "2023-12-18T16:55:02.450Z"
   },
   {
    "duration": 14,
    "start_time": "2023-12-18T17:00:09.822Z"
   },
   {
    "duration": 1140,
    "start_time": "2023-12-18T17:00:15.467Z"
   },
   {
    "duration": 98,
    "start_time": "2023-12-18T17:00:16.609Z"
   },
   {
    "duration": 17,
    "start_time": "2023-12-18T17:00:16.709Z"
   },
   {
    "duration": 13,
    "start_time": "2023-12-18T17:00:16.729Z"
   },
   {
    "duration": 20,
    "start_time": "2023-12-18T17:00:16.743Z"
   },
   {
    "duration": 19,
    "start_time": "2023-12-18T17:00:16.764Z"
   },
   {
    "duration": 6,
    "start_time": "2023-12-18T17:00:16.785Z"
   },
   {
    "duration": 34,
    "start_time": "2023-12-18T17:00:16.793Z"
   },
   {
    "duration": 26,
    "start_time": "2023-12-18T17:00:16.828Z"
   },
   {
    "duration": 40,
    "start_time": "2023-12-18T17:00:16.857Z"
   },
   {
    "duration": 7,
    "start_time": "2023-12-18T17:00:16.898Z"
   },
   {
    "duration": 321,
    "start_time": "2023-12-18T17:00:16.907Z"
   },
   {
    "duration": 4,
    "start_time": "2023-12-18T17:00:17.230Z"
   },
   {
    "duration": 186,
    "start_time": "2023-12-18T17:00:17.235Z"
   },
   {
    "duration": 2505,
    "start_time": "2023-12-18T17:00:17.423Z"
   },
   {
    "duration": 5,
    "start_time": "2023-12-18T17:00:19.930Z"
   },
   {
    "duration": 172,
    "start_time": "2023-12-18T17:00:19.937Z"
   },
   {
    "duration": 151,
    "start_time": "2023-12-18T17:00:20.111Z"
   },
   {
    "duration": 154,
    "start_time": "2023-12-18T17:00:20.264Z"
   },
   {
    "duration": 230,
    "start_time": "2023-12-18T17:00:20.420Z"
   },
   {
    "duration": 137,
    "start_time": "2023-12-18T17:00:20.652Z"
   },
   {
    "duration": 14,
    "start_time": "2023-12-18T17:00:20.791Z"
   },
   {
    "duration": 166,
    "start_time": "2023-12-18T17:00:20.806Z"
   },
   {
    "duration": 41,
    "start_time": "2023-12-18T17:00:20.973Z"
   },
   {
    "duration": 35,
    "start_time": "2023-12-18T17:00:21.016Z"
   },
   {
    "duration": 55,
    "start_time": "2023-12-18T17:00:21.052Z"
   },
   {
    "duration": 20,
    "start_time": "2023-12-18T17:00:21.108Z"
   },
   {
    "duration": 9,
    "start_time": "2023-12-18T17:00:21.130Z"
   },
   {
    "duration": 35,
    "start_time": "2023-12-18T17:00:40.166Z"
   },
   {
    "duration": 103,
    "start_time": "2023-12-18T17:01:33.743Z"
   },
   {
    "duration": 11,
    "start_time": "2023-12-18T17:01:40.167Z"
   },
   {
    "duration": 13,
    "start_time": "2023-12-18T17:01:54.976Z"
   },
   {
    "duration": 1098,
    "start_time": "2023-12-18T17:02:44.872Z"
   },
   {
    "duration": 110,
    "start_time": "2023-12-18T17:02:45.971Z"
   },
   {
    "duration": 16,
    "start_time": "2023-12-18T17:02:46.082Z"
   },
   {
    "duration": 16,
    "start_time": "2023-12-18T17:02:46.100Z"
   },
   {
    "duration": 21,
    "start_time": "2023-12-18T17:02:46.117Z"
   },
   {
    "duration": 16,
    "start_time": "2023-12-18T17:02:46.140Z"
   },
   {
    "duration": 16,
    "start_time": "2023-12-18T17:02:46.157Z"
   },
   {
    "duration": 96,
    "start_time": "2023-12-18T17:02:46.174Z"
   },
   {
    "duration": 0,
    "start_time": "2023-12-18T17:02:46.273Z"
   },
   {
    "duration": 0,
    "start_time": "2023-12-18T17:02:46.274Z"
   },
   {
    "duration": 0,
    "start_time": "2023-12-18T17:02:46.275Z"
   },
   {
    "duration": 0,
    "start_time": "2023-12-18T17:02:46.282Z"
   },
   {
    "duration": 0,
    "start_time": "2023-12-18T17:02:46.283Z"
   },
   {
    "duration": 0,
    "start_time": "2023-12-18T17:02:46.283Z"
   },
   {
    "duration": 0,
    "start_time": "2023-12-18T17:02:46.284Z"
   },
   {
    "duration": 0,
    "start_time": "2023-12-18T17:02:46.285Z"
   },
   {
    "duration": 0,
    "start_time": "2023-12-18T17:02:46.286Z"
   },
   {
    "duration": 0,
    "start_time": "2023-12-18T17:02:46.287Z"
   },
   {
    "duration": 0,
    "start_time": "2023-12-18T17:02:46.288Z"
   },
   {
    "duration": 0,
    "start_time": "2023-12-18T17:02:46.289Z"
   },
   {
    "duration": 0,
    "start_time": "2023-12-18T17:02:46.290Z"
   },
   {
    "duration": 0,
    "start_time": "2023-12-18T17:02:46.291Z"
   },
   {
    "duration": 0,
    "start_time": "2023-12-18T17:02:46.292Z"
   },
   {
    "duration": 0,
    "start_time": "2023-12-18T17:02:46.293Z"
   },
   {
    "duration": 0,
    "start_time": "2023-12-18T17:02:46.294Z"
   },
   {
    "duration": 0,
    "start_time": "2023-12-18T17:02:46.295Z"
   },
   {
    "duration": 0,
    "start_time": "2023-12-18T17:02:46.296Z"
   },
   {
    "duration": 0,
    "start_time": "2023-12-18T17:02:46.297Z"
   },
   {
    "duration": 12,
    "start_time": "2023-12-18T17:09:28.581Z"
   },
   {
    "duration": 65,
    "start_time": "2023-12-18T17:09:46.510Z"
   },
   {
    "duration": 100,
    "start_time": "2023-12-18T17:09:51.725Z"
   },
   {
    "duration": 68,
    "start_time": "2023-12-18T17:09:56.444Z"
   },
   {
    "duration": 58,
    "start_time": "2023-12-18T17:10:25.100Z"
   },
   {
    "duration": 14,
    "start_time": "2023-12-18T17:10:38.676Z"
   },
   {
    "duration": 18,
    "start_time": "2023-12-18T17:10:43.461Z"
   },
   {
    "duration": 7,
    "start_time": "2023-12-18T17:11:17.206Z"
   },
   {
    "duration": 14,
    "start_time": "2023-12-18T17:11:25.189Z"
   },
   {
    "duration": 23,
    "start_time": "2023-12-18T17:16:23.937Z"
   },
   {
    "duration": 9,
    "start_time": "2023-12-18T17:16:40.504Z"
   },
   {
    "duration": 32,
    "start_time": "2023-12-18T17:19:06.819Z"
   },
   {
    "duration": 302,
    "start_time": "2023-12-18T17:19:27.028Z"
   },
   {
    "duration": 361,
    "start_time": "2023-12-18T17:20:54.685Z"
   },
   {
    "duration": 9,
    "start_time": "2023-12-18T17:21:30.989Z"
   },
   {
    "duration": 9,
    "start_time": "2023-12-18T17:21:48.276Z"
   },
   {
    "duration": 9,
    "start_time": "2023-12-18T17:22:15.164Z"
   },
   {
    "duration": 8,
    "start_time": "2023-12-18T17:22:20.205Z"
   },
   {
    "duration": 8,
    "start_time": "2023-12-18T17:24:39.151Z"
   },
   {
    "duration": 15,
    "start_time": "2023-12-18T17:25:35.495Z"
   },
   {
    "duration": 85,
    "start_time": "2023-12-18T17:29:43.411Z"
   },
   {
    "duration": 80,
    "start_time": "2023-12-18T17:29:52.554Z"
   },
   {
    "duration": 69,
    "start_time": "2023-12-18T17:30:00.906Z"
   },
   {
    "duration": 84,
    "start_time": "2023-12-18T17:30:07.290Z"
   },
   {
    "duration": 28,
    "start_time": "2023-12-18T17:30:42.379Z"
   },
   {
    "duration": 18,
    "start_time": "2023-12-18T17:33:13.870Z"
   },
   {
    "duration": 4,
    "start_time": "2023-12-18T17:34:08.373Z"
   },
   {
    "duration": 17,
    "start_time": "2023-12-18T17:34:24.830Z"
   },
   {
    "duration": 58,
    "start_time": "2023-12-19T07:53:51.163Z"
   },
   {
    "duration": 1238,
    "start_time": "2023-12-19T07:54:02.030Z"
   },
   {
    "duration": 137,
    "start_time": "2023-12-19T07:54:03.270Z"
   },
   {
    "duration": 16,
    "start_time": "2023-12-19T07:54:03.408Z"
   },
   {
    "duration": 19,
    "start_time": "2023-12-19T07:54:03.425Z"
   },
   {
    "duration": 17,
    "start_time": "2023-12-19T07:54:03.446Z"
   },
   {
    "duration": 13,
    "start_time": "2023-12-19T07:54:03.464Z"
   },
   {
    "duration": 6,
    "start_time": "2023-12-19T07:54:03.478Z"
   },
   {
    "duration": 75,
    "start_time": "2023-12-19T07:54:03.485Z"
   },
   {
    "duration": 15,
    "start_time": "2023-12-19T07:54:03.561Z"
   },
   {
    "duration": 13,
    "start_time": "2023-12-19T07:54:03.582Z"
   },
   {
    "duration": 16,
    "start_time": "2023-12-19T07:54:03.596Z"
   },
   {
    "duration": 7,
    "start_time": "2023-12-19T07:54:03.614Z"
   },
   {
    "duration": 307,
    "start_time": "2023-12-19T07:54:03.622Z"
   },
   {
    "duration": 4,
    "start_time": "2023-12-19T07:54:03.932Z"
   },
   {
    "duration": 183,
    "start_time": "2023-12-19T07:54:03.937Z"
   },
   {
    "duration": 2237,
    "start_time": "2023-12-19T07:54:04.122Z"
   },
   {
    "duration": 6,
    "start_time": "2023-12-19T07:54:06.360Z"
   },
   {
    "duration": 164,
    "start_time": "2023-12-19T07:54:06.367Z"
   },
   {
    "duration": 132,
    "start_time": "2023-12-19T07:54:06.533Z"
   },
   {
    "duration": 149,
    "start_time": "2023-12-19T07:54:06.667Z"
   },
   {
    "duration": 214,
    "start_time": "2023-12-19T07:54:06.817Z"
   },
   {
    "duration": 129,
    "start_time": "2023-12-19T07:54:07.033Z"
   },
   {
    "duration": 23,
    "start_time": "2023-12-19T07:54:07.163Z"
   },
   {
    "duration": 170,
    "start_time": "2023-12-19T07:54:07.188Z"
   },
   {
    "duration": 47,
    "start_time": "2023-12-19T07:54:07.359Z"
   },
   {
    "duration": 36,
    "start_time": "2023-12-19T07:54:07.407Z"
   },
   {
    "duration": 57,
    "start_time": "2023-12-19T07:54:07.444Z"
   },
   {
    "duration": 9,
    "start_time": "2023-12-19T07:54:07.502Z"
   },
   {
    "duration": 14,
    "start_time": "2023-12-19T07:54:07.512Z"
   },
   {
    "duration": 8,
    "start_time": "2023-12-19T07:56:23.618Z"
   },
   {
    "duration": 9,
    "start_time": "2023-12-19T07:56:48.843Z"
   },
   {
    "duration": 20,
    "start_time": "2023-12-19T08:00:08.140Z"
   },
   {
    "duration": 1054,
    "start_time": "2023-12-19T08:06:44.229Z"
   },
   {
    "duration": 88,
    "start_time": "2023-12-19T08:06:45.284Z"
   },
   {
    "duration": 15,
    "start_time": "2023-12-19T08:06:45.374Z"
   },
   {
    "duration": 26,
    "start_time": "2023-12-19T08:06:45.391Z"
   },
   {
    "duration": 20,
    "start_time": "2023-12-19T08:06:45.418Z"
   },
   {
    "duration": 8,
    "start_time": "2023-12-19T08:06:45.439Z"
   },
   {
    "duration": 14,
    "start_time": "2023-12-19T08:06:45.449Z"
   },
   {
    "duration": 8,
    "start_time": "2023-12-19T08:06:45.464Z"
   },
   {
    "duration": 65,
    "start_time": "2023-12-19T08:06:45.474Z"
   },
   {
    "duration": 14,
    "start_time": "2023-12-19T08:06:45.541Z"
   },
   {
    "duration": 12,
    "start_time": "2023-12-19T08:06:45.556Z"
   },
   {
    "duration": 27,
    "start_time": "2023-12-19T08:06:45.570Z"
   },
   {
    "duration": 20,
    "start_time": "2023-12-19T08:06:45.598Z"
   },
   {
    "duration": 289,
    "start_time": "2023-12-19T08:06:45.619Z"
   },
   {
    "duration": 4,
    "start_time": "2023-12-19T08:06:45.909Z"
   },
   {
    "duration": 182,
    "start_time": "2023-12-19T08:06:45.914Z"
   },
   {
    "duration": 2284,
    "start_time": "2023-12-19T08:06:46.098Z"
   },
   {
    "duration": 5,
    "start_time": "2023-12-19T08:06:48.383Z"
   },
   {
    "duration": 161,
    "start_time": "2023-12-19T08:06:48.390Z"
   },
   {
    "duration": 136,
    "start_time": "2023-12-19T08:06:48.552Z"
   },
   {
    "duration": 146,
    "start_time": "2023-12-19T08:06:48.690Z"
   },
   {
    "duration": 204,
    "start_time": "2023-12-19T08:06:48.837Z"
   },
   {
    "duration": 129,
    "start_time": "2023-12-19T08:06:49.043Z"
   },
   {
    "duration": 20,
    "start_time": "2023-12-19T08:06:49.173Z"
   },
   {
    "duration": 145,
    "start_time": "2023-12-19T08:06:49.195Z"
   },
   {
    "duration": 49,
    "start_time": "2023-12-19T08:06:49.342Z"
   },
   {
    "duration": 39,
    "start_time": "2023-12-19T08:06:49.392Z"
   },
   {
    "duration": 57,
    "start_time": "2023-12-19T08:06:49.434Z"
   },
   {
    "duration": 8,
    "start_time": "2023-12-19T08:06:49.493Z"
   },
   {
    "duration": 11,
    "start_time": "2023-12-19T08:06:49.502Z"
   },
   {
    "duration": 8,
    "start_time": "2023-12-19T08:07:52.372Z"
   },
   {
    "duration": 20,
    "start_time": "2023-12-19T08:07:58.394Z"
   },
   {
    "duration": 13,
    "start_time": "2023-12-19T08:11:08.941Z"
   },
   {
    "duration": 19,
    "start_time": "2023-12-19T08:13:32.961Z"
   },
   {
    "duration": 8,
    "start_time": "2023-12-19T08:13:37.374Z"
   },
   {
    "duration": 16,
    "start_time": "2023-12-19T08:15:36.400Z"
   },
   {
    "duration": 1109,
    "start_time": "2023-12-19T08:23:17.960Z"
   },
   {
    "duration": 86,
    "start_time": "2023-12-19T08:23:19.070Z"
   },
   {
    "duration": 16,
    "start_time": "2023-12-19T08:23:19.158Z"
   },
   {
    "duration": 30,
    "start_time": "2023-12-19T08:23:19.177Z"
   },
   {
    "duration": 38,
    "start_time": "2023-12-19T08:23:19.208Z"
   },
   {
    "duration": 24,
    "start_time": "2023-12-19T08:23:19.248Z"
   },
   {
    "duration": 18,
    "start_time": "2023-12-19T08:23:19.274Z"
   },
   {
    "duration": 16,
    "start_time": "2023-12-19T08:23:19.294Z"
   },
   {
    "duration": 81,
    "start_time": "2023-12-19T08:23:19.312Z"
   },
   {
    "duration": 14,
    "start_time": "2023-12-19T08:23:19.397Z"
   },
   {
    "duration": 31,
    "start_time": "2023-12-19T08:23:19.413Z"
   },
   {
    "duration": 14,
    "start_time": "2023-12-19T08:23:19.446Z"
   },
   {
    "duration": 27,
    "start_time": "2023-12-19T08:23:19.462Z"
   },
   {
    "duration": 21,
    "start_time": "2023-12-19T08:23:19.491Z"
   },
   {
    "duration": 28,
    "start_time": "2023-12-19T08:23:19.514Z"
   },
   {
    "duration": 19,
    "start_time": "2023-12-19T08:23:19.544Z"
   },
   {
    "duration": 284,
    "start_time": "2023-12-19T08:23:19.565Z"
   },
   {
    "duration": 5,
    "start_time": "2023-12-19T08:23:19.850Z"
   },
   {
    "duration": 179,
    "start_time": "2023-12-19T08:23:19.857Z"
   },
   {
    "duration": 2220,
    "start_time": "2023-12-19T08:23:20.037Z"
   },
   {
    "duration": 5,
    "start_time": "2023-12-19T08:23:22.259Z"
   },
   {
    "duration": 166,
    "start_time": "2023-12-19T08:23:22.265Z"
   },
   {
    "duration": 165,
    "start_time": "2023-12-19T08:23:22.433Z"
   },
   {
    "duration": 142,
    "start_time": "2023-12-19T08:23:22.599Z"
   },
   {
    "duration": 208,
    "start_time": "2023-12-19T08:23:22.742Z"
   },
   {
    "duration": 132,
    "start_time": "2023-12-19T08:23:22.952Z"
   },
   {
    "duration": 14,
    "start_time": "2023-12-19T08:23:23.085Z"
   },
   {
    "duration": 167,
    "start_time": "2023-12-19T08:23:23.102Z"
   },
   {
    "duration": 43,
    "start_time": "2023-12-19T08:23:23.270Z"
   },
   {
    "duration": 37,
    "start_time": "2023-12-19T08:23:23.315Z"
   },
   {
    "duration": 54,
    "start_time": "2023-12-19T08:23:23.353Z"
   },
   {
    "duration": 9,
    "start_time": "2023-12-19T08:23:23.408Z"
   },
   {
    "duration": 10,
    "start_time": "2023-12-19T08:23:23.419Z"
   },
   {
    "duration": 1041,
    "start_time": "2023-12-19T08:24:01.425Z"
   },
   {
    "duration": 91,
    "start_time": "2023-12-19T08:24:02.468Z"
   },
   {
    "duration": 16,
    "start_time": "2023-12-19T08:24:02.560Z"
   },
   {
    "duration": 23,
    "start_time": "2023-12-19T08:24:02.577Z"
   },
   {
    "duration": 23,
    "start_time": "2023-12-19T08:24:02.601Z"
   },
   {
    "duration": 9,
    "start_time": "2023-12-19T08:24:02.625Z"
   },
   {
    "duration": 10,
    "start_time": "2023-12-19T08:24:02.636Z"
   },
   {
    "duration": 21,
    "start_time": "2023-12-19T08:24:02.647Z"
   },
   {
    "duration": 71,
    "start_time": "2023-12-19T08:24:02.669Z"
   },
   {
    "duration": 14,
    "start_time": "2023-12-19T08:24:02.743Z"
   },
   {
    "duration": 24,
    "start_time": "2023-12-19T08:24:02.758Z"
   },
   {
    "duration": 7,
    "start_time": "2023-12-19T08:24:02.784Z"
   },
   {
    "duration": 17,
    "start_time": "2023-12-19T08:24:02.792Z"
   },
   {
    "duration": 16,
    "start_time": "2023-12-19T08:24:02.811Z"
   },
   {
    "duration": 17,
    "start_time": "2023-12-19T08:24:02.828Z"
   },
   {
    "duration": 13,
    "start_time": "2023-12-19T08:24:02.846Z"
   },
   {
    "duration": 294,
    "start_time": "2023-12-19T08:24:02.860Z"
   },
   {
    "duration": 6,
    "start_time": "2023-12-19T08:24:03.156Z"
   },
   {
    "duration": 181,
    "start_time": "2023-12-19T08:24:03.163Z"
   },
   {
    "duration": 2227,
    "start_time": "2023-12-19T08:24:03.345Z"
   },
   {
    "duration": 12,
    "start_time": "2023-12-19T08:24:05.574Z"
   },
   {
    "duration": 160,
    "start_time": "2023-12-19T08:24:05.587Z"
   },
   {
    "duration": 150,
    "start_time": "2023-12-19T08:24:05.749Z"
   },
   {
    "duration": 146,
    "start_time": "2023-12-19T08:24:05.901Z"
   },
   {
    "duration": 215,
    "start_time": "2023-12-19T08:24:06.049Z"
   },
   {
    "duration": 130,
    "start_time": "2023-12-19T08:24:06.266Z"
   },
   {
    "duration": 14,
    "start_time": "2023-12-19T08:24:06.398Z"
   },
   {
    "duration": 178,
    "start_time": "2023-12-19T08:24:06.415Z"
   },
   {
    "duration": 42,
    "start_time": "2023-12-19T08:24:06.595Z"
   },
   {
    "duration": 55,
    "start_time": "2023-12-19T08:24:06.639Z"
   },
   {
    "duration": 38,
    "start_time": "2023-12-19T08:24:06.696Z"
   },
   {
    "duration": 10,
    "start_time": "2023-12-19T08:24:06.736Z"
   },
   {
    "duration": 39,
    "start_time": "2023-12-19T08:24:06.748Z"
   },
   {
    "duration": 89,
    "start_time": "2023-12-19T08:32:02.164Z"
   },
   {
    "duration": 6,
    "start_time": "2023-12-19T08:32:07.324Z"
   },
   {
    "duration": 1167,
    "start_time": "2023-12-19T08:32:21.540Z"
   },
   {
    "duration": 1424,
    "start_time": "2023-12-19T08:32:29.171Z"
   },
   {
    "duration": 15,
    "start_time": "2023-12-19T08:39:08.073Z"
   },
   {
    "duration": 16,
    "start_time": "2023-12-19T08:39:16.273Z"
   },
   {
    "duration": 12,
    "start_time": "2023-12-19T08:39:48.745Z"
   },
   {
    "duration": 1087,
    "start_time": "2023-12-19T08:40:05.109Z"
   },
   {
    "duration": 86,
    "start_time": "2023-12-19T08:40:06.197Z"
   },
   {
    "duration": 15,
    "start_time": "2023-12-19T08:40:06.285Z"
   },
   {
    "duration": 13,
    "start_time": "2023-12-19T08:40:06.302Z"
   },
   {
    "duration": 22,
    "start_time": "2023-12-19T08:40:06.316Z"
   },
   {
    "duration": 12,
    "start_time": "2023-12-19T08:40:06.339Z"
   },
   {
    "duration": 31,
    "start_time": "2023-12-19T08:40:06.353Z"
   },
   {
    "duration": 10,
    "start_time": "2023-12-19T08:40:06.385Z"
   },
   {
    "duration": 88,
    "start_time": "2023-12-19T08:40:06.397Z"
   },
   {
    "duration": 15,
    "start_time": "2023-12-19T08:40:06.488Z"
   },
   {
    "duration": 14,
    "start_time": "2023-12-19T08:40:06.505Z"
   },
   {
    "duration": 9,
    "start_time": "2023-12-19T08:40:06.520Z"
   },
   {
    "duration": 31,
    "start_time": "2023-12-19T08:40:06.530Z"
   },
   {
    "duration": 32,
    "start_time": "2023-12-19T08:40:06.563Z"
   },
   {
    "duration": 26,
    "start_time": "2023-12-19T08:40:06.597Z"
   },
   {
    "duration": 6,
    "start_time": "2023-12-19T08:40:06.625Z"
   },
   {
    "duration": 276,
    "start_time": "2023-12-19T08:40:06.632Z"
   },
   {
    "duration": 5,
    "start_time": "2023-12-19T08:40:06.909Z"
   },
   {
    "duration": 179,
    "start_time": "2023-12-19T08:40:06.916Z"
   },
   {
    "duration": 2230,
    "start_time": "2023-12-19T08:40:07.097Z"
   },
   {
    "duration": 6,
    "start_time": "2023-12-19T08:40:09.329Z"
   },
   {
    "duration": 171,
    "start_time": "2023-12-19T08:40:09.337Z"
   },
   {
    "duration": 143,
    "start_time": "2023-12-19T08:40:09.510Z"
   },
   {
    "duration": 157,
    "start_time": "2023-12-19T08:40:09.654Z"
   },
   {
    "duration": 213,
    "start_time": "2023-12-19T08:40:09.812Z"
   },
   {
    "duration": 127,
    "start_time": "2023-12-19T08:40:10.027Z"
   },
   {
    "duration": 28,
    "start_time": "2023-12-19T08:40:10.155Z"
   },
   {
    "duration": 145,
    "start_time": "2023-12-19T08:40:10.186Z"
   },
   {
    "duration": 36,
    "start_time": "2023-12-19T08:40:10.333Z"
   },
   {
    "duration": 36,
    "start_time": "2023-12-19T08:40:10.382Z"
   },
   {
    "duration": 37,
    "start_time": "2023-12-19T08:40:10.419Z"
   },
   {
    "duration": 33,
    "start_time": "2023-12-19T08:40:10.457Z"
   },
   {
    "duration": 22,
    "start_time": "2023-12-19T08:40:10.491Z"
   },
   {
    "duration": 4,
    "start_time": "2023-12-19T08:42:06.530Z"
   },
   {
    "duration": 259,
    "start_time": "2023-12-19T09:03:11.915Z"
   },
   {
    "duration": 125,
    "start_time": "2023-12-19T09:07:54.301Z"
   },
   {
    "duration": 1158,
    "start_time": "2023-12-19T09:08:12.088Z"
   },
   {
    "duration": 88,
    "start_time": "2023-12-19T09:08:13.248Z"
   },
   {
    "duration": 19,
    "start_time": "2023-12-19T09:08:13.337Z"
   },
   {
    "duration": 15,
    "start_time": "2023-12-19T09:08:13.358Z"
   },
   {
    "duration": 17,
    "start_time": "2023-12-19T09:08:13.376Z"
   },
   {
    "duration": 11,
    "start_time": "2023-12-19T09:08:13.394Z"
   },
   {
    "duration": 9,
    "start_time": "2023-12-19T09:08:13.406Z"
   },
   {
    "duration": 18,
    "start_time": "2023-12-19T09:08:13.416Z"
   },
   {
    "duration": 87,
    "start_time": "2023-12-19T09:08:13.435Z"
   },
   {
    "duration": 16,
    "start_time": "2023-12-19T09:08:13.524Z"
   },
   {
    "duration": 15,
    "start_time": "2023-12-19T09:08:13.541Z"
   },
   {
    "duration": 27,
    "start_time": "2023-12-19T09:08:13.558Z"
   },
   {
    "duration": 20,
    "start_time": "2023-12-19T09:08:13.586Z"
   },
   {
    "duration": 18,
    "start_time": "2023-12-19T09:08:13.608Z"
   },
   {
    "duration": 23,
    "start_time": "2023-12-19T09:08:13.628Z"
   },
   {
    "duration": 8,
    "start_time": "2023-12-19T09:08:13.653Z"
   },
   {
    "duration": 20,
    "start_time": "2023-12-19T09:08:13.663Z"
   },
   {
    "duration": 333,
    "start_time": "2023-12-19T09:08:13.685Z"
   },
   {
    "duration": 5,
    "start_time": "2023-12-19T09:08:14.019Z"
   },
   {
    "duration": 217,
    "start_time": "2023-12-19T09:08:14.025Z"
   },
   {
    "duration": 2331,
    "start_time": "2023-12-19T09:08:14.244Z"
   },
   {
    "duration": 10,
    "start_time": "2023-12-19T09:08:16.576Z"
   },
   {
    "duration": 170,
    "start_time": "2023-12-19T09:08:16.588Z"
   },
   {
    "duration": 137,
    "start_time": "2023-12-19T09:08:16.759Z"
   },
   {
    "duration": 142,
    "start_time": "2023-12-19T09:08:16.898Z"
   },
   {
    "duration": 217,
    "start_time": "2023-12-19T09:08:17.041Z"
   },
   {
    "duration": 129,
    "start_time": "2023-12-19T09:08:17.260Z"
   },
   {
    "duration": 14,
    "start_time": "2023-12-19T09:08:17.391Z"
   },
   {
    "duration": 177,
    "start_time": "2023-12-19T09:08:17.407Z"
   },
   {
    "duration": 36,
    "start_time": "2023-12-19T09:08:17.586Z"
   },
   {
    "duration": 35,
    "start_time": "2023-12-19T09:08:17.624Z"
   },
   {
    "duration": 37,
    "start_time": "2023-12-19T09:08:17.682Z"
   },
   {
    "duration": 9,
    "start_time": "2023-12-19T09:08:17.720Z"
   },
   {
    "duration": 10,
    "start_time": "2023-12-19T09:08:17.731Z"
   },
   {
    "duration": 193,
    "start_time": "2023-12-19T09:11:08.189Z"
   },
   {
    "duration": 91,
    "start_time": "2023-12-19T09:12:26.638Z"
   },
   {
    "duration": 190,
    "start_time": "2023-12-19T09:12:41.301Z"
   },
   {
    "duration": 184,
    "start_time": "2023-12-19T09:13:12.145Z"
   },
   {
    "duration": 235,
    "start_time": "2023-12-19T09:14:51.616Z"
   },
   {
    "duration": 227,
    "start_time": "2023-12-19T09:15:20.441Z"
   },
   {
    "duration": 169,
    "start_time": "2023-12-19T09:21:02.285Z"
   },
   {
    "duration": 241,
    "start_time": "2023-12-19T09:22:13.320Z"
   },
   {
    "duration": 166,
    "start_time": "2023-12-19T09:22:51.392Z"
   },
   {
    "duration": 136,
    "start_time": "2023-12-19T09:24:22.461Z"
   },
   {
    "duration": 155,
    "start_time": "2023-12-19T09:24:52.458Z"
   },
   {
    "duration": 154,
    "start_time": "2023-12-19T09:28:01.906Z"
   },
   {
    "duration": 1068,
    "start_time": "2023-12-19T09:28:09.830Z"
   },
   {
    "duration": 89,
    "start_time": "2023-12-19T09:28:10.899Z"
   },
   {
    "duration": 62,
    "start_time": "2023-12-19T09:28:10.989Z"
   },
   {
    "duration": 16,
    "start_time": "2023-12-19T09:28:11.053Z"
   },
   {
    "duration": 21,
    "start_time": "2023-12-19T09:28:11.070Z"
   },
   {
    "duration": 26,
    "start_time": "2023-12-19T09:28:11.092Z"
   },
   {
    "duration": 13,
    "start_time": "2023-12-19T09:28:11.120Z"
   },
   {
    "duration": 10,
    "start_time": "2023-12-19T09:28:11.134Z"
   },
   {
    "duration": 76,
    "start_time": "2023-12-19T09:28:11.145Z"
   },
   {
    "duration": 13,
    "start_time": "2023-12-19T09:28:11.223Z"
   },
   {
    "duration": 27,
    "start_time": "2023-12-19T09:28:11.238Z"
   },
   {
    "duration": 6,
    "start_time": "2023-12-19T09:28:11.266Z"
   },
   {
    "duration": 22,
    "start_time": "2023-12-19T09:28:11.274Z"
   },
   {
    "duration": 16,
    "start_time": "2023-12-19T09:28:11.297Z"
   },
   {
    "duration": 26,
    "start_time": "2023-12-19T09:28:11.314Z"
   },
   {
    "duration": 32,
    "start_time": "2023-12-19T09:28:11.341Z"
   },
   {
    "duration": 12,
    "start_time": "2023-12-19T09:28:11.375Z"
   },
   {
    "duration": 288,
    "start_time": "2023-12-19T09:28:11.388Z"
   },
   {
    "duration": 7,
    "start_time": "2023-12-19T09:28:11.677Z"
   },
   {
    "duration": 187,
    "start_time": "2023-12-19T09:28:11.685Z"
   },
   {
    "duration": 2566,
    "start_time": "2023-12-19T09:28:11.874Z"
   },
   {
    "duration": 7,
    "start_time": "2023-12-19T09:28:14.441Z"
   },
   {
    "duration": 203,
    "start_time": "2023-12-19T09:28:14.449Z"
   },
   {
    "duration": 162,
    "start_time": "2023-12-19T09:28:14.654Z"
   },
   {
    "duration": 167,
    "start_time": "2023-12-19T09:28:14.818Z"
   },
   {
    "duration": 249,
    "start_time": "2023-12-19T09:28:14.987Z"
   },
   {
    "duration": 144,
    "start_time": "2023-12-19T09:28:15.238Z"
   },
   {
    "duration": 13,
    "start_time": "2023-12-19T09:28:15.384Z"
   },
   {
    "duration": 163,
    "start_time": "2023-12-19T09:28:15.398Z"
   },
   {
    "duration": 46,
    "start_time": "2023-12-19T09:28:15.562Z"
   },
   {
    "duration": 34,
    "start_time": "2023-12-19T09:28:15.609Z"
   },
   {
    "duration": 56,
    "start_time": "2023-12-19T09:28:15.645Z"
   },
   {
    "duration": 9,
    "start_time": "2023-12-19T09:28:15.702Z"
   },
   {
    "duration": 20,
    "start_time": "2023-12-19T09:28:15.712Z"
   },
   {
    "duration": 207,
    "start_time": "2023-12-19T09:31:11.602Z"
   },
   {
    "duration": 208,
    "start_time": "2023-12-19T09:32:06.688Z"
   },
   {
    "duration": 203,
    "start_time": "2023-12-19T09:32:31.140Z"
   },
   {
    "duration": 225,
    "start_time": "2023-12-19T09:32:44.309Z"
   },
   {
    "duration": 286,
    "start_time": "2023-12-19T09:35:46.014Z"
   },
   {
    "duration": 307,
    "start_time": "2023-12-19T09:36:37.608Z"
   },
   {
    "duration": 269,
    "start_time": "2023-12-19T09:36:53.635Z"
   },
   {
    "duration": 233,
    "start_time": "2023-12-19T09:37:17.184Z"
   },
   {
    "duration": 308,
    "start_time": "2023-12-19T09:37:27.113Z"
   },
   {
    "duration": 315,
    "start_time": "2023-12-19T09:37:31.384Z"
   },
   {
    "duration": 251,
    "start_time": "2023-12-19T09:37:35.248Z"
   },
   {
    "duration": 212,
    "start_time": "2023-12-19T09:37:47.353Z"
   },
   {
    "duration": 341,
    "start_time": "2023-12-19T09:39:07.825Z"
   },
   {
    "duration": 221,
    "start_time": "2023-12-19T09:39:18.457Z"
   },
   {
    "duration": 336,
    "start_time": "2023-12-19T09:39:35.027Z"
   },
   {
    "duration": 430,
    "start_time": "2023-12-19T09:52:37.452Z"
   },
   {
    "duration": 347,
    "start_time": "2023-12-19T09:52:43.603Z"
   },
   {
    "duration": 382,
    "start_time": "2023-12-19T09:53:52.940Z"
   },
   {
    "duration": 34,
    "start_time": "2023-12-19T09:56:18.086Z"
   },
   {
    "duration": 144,
    "start_time": "2023-12-19T10:00:38.464Z"
   },
   {
    "duration": 134,
    "start_time": "2023-12-19T10:01:00.264Z"
   },
   {
    "duration": 34,
    "start_time": "2023-12-19T10:01:59.986Z"
   },
   {
    "duration": 10,
    "start_time": "2023-12-19T10:12:23.816Z"
   },
   {
    "duration": 11,
    "start_time": "2023-12-19T10:12:29.009Z"
   },
   {
    "duration": 12,
    "start_time": "2023-12-19T10:12:47.833Z"
   },
   {
    "duration": 11,
    "start_time": "2023-12-19T10:13:13.481Z"
   },
   {
    "duration": 16,
    "start_time": "2023-12-19T11:33:44.078Z"
   },
   {
    "duration": 20,
    "start_time": "2023-12-19T11:35:59.802Z"
   },
   {
    "duration": 6,
    "start_time": "2023-12-19T11:38:38.923Z"
   },
   {
    "duration": 12,
    "start_time": "2023-12-19T11:39:00.579Z"
   },
   {
    "duration": 118,
    "start_time": "2023-12-19T11:40:41.653Z"
   },
   {
    "duration": 119,
    "start_time": "2023-12-19T11:41:50.423Z"
   },
   {
    "duration": 118,
    "start_time": "2023-12-19T11:43:48.933Z"
   },
   {
    "duration": 112,
    "start_time": "2023-12-19T11:48:41.194Z"
   },
   {
    "duration": 206,
    "start_time": "2023-12-19T11:52:17.110Z"
   },
   {
    "duration": 110,
    "start_time": "2023-12-19T11:52:30.237Z"
   },
   {
    "duration": 119,
    "start_time": "2023-12-19T11:53:30.070Z"
   },
   {
    "duration": 120,
    "start_time": "2023-12-19T11:53:59.591Z"
   },
   {
    "duration": 17,
    "start_time": "2023-12-19T11:56:22.415Z"
   },
   {
    "duration": 111,
    "start_time": "2023-12-19T11:57:39.970Z"
   },
   {
    "duration": 107,
    "start_time": "2023-12-19T11:57:49.920Z"
   },
   {
    "duration": 174,
    "start_time": "2023-12-19T12:01:58.035Z"
   },
   {
    "duration": 179,
    "start_time": "2023-12-19T12:02:22.147Z"
   },
   {
    "duration": 182,
    "start_time": "2023-12-19T12:02:38.947Z"
   },
   {
    "duration": 130,
    "start_time": "2023-12-19T12:03:27.605Z"
   },
   {
    "duration": 129,
    "start_time": "2023-12-19T12:03:42.132Z"
   },
   {
    "duration": 151,
    "start_time": "2023-12-19T12:03:53.413Z"
   },
   {
    "duration": 157,
    "start_time": "2023-12-19T12:03:57.998Z"
   },
   {
    "duration": 233,
    "start_time": "2023-12-19T12:07:00.808Z"
   },
   {
    "duration": 125,
    "start_time": "2023-12-19T12:07:10.574Z"
   },
   {
    "duration": 132,
    "start_time": "2023-12-19T12:07:18.456Z"
   },
   {
    "duration": 123,
    "start_time": "2023-12-19T12:09:12.618Z"
   },
   {
    "duration": 116,
    "start_time": "2023-12-19T12:09:19.169Z"
   },
   {
    "duration": 120,
    "start_time": "2023-12-19T12:09:27.056Z"
   },
   {
    "duration": 38,
    "start_time": "2023-12-19T12:12:33.194Z"
   },
   {
    "duration": 11,
    "start_time": "2023-12-19T12:13:56.954Z"
   },
   {
    "duration": 1048,
    "start_time": "2023-12-19T12:14:06.625Z"
   },
   {
    "duration": 89,
    "start_time": "2023-12-19T12:14:07.675Z"
   },
   {
    "duration": 16,
    "start_time": "2023-12-19T12:14:07.765Z"
   },
   {
    "duration": 31,
    "start_time": "2023-12-19T12:14:07.783Z"
   },
   {
    "duration": 30,
    "start_time": "2023-12-19T12:14:07.816Z"
   },
   {
    "duration": 10,
    "start_time": "2023-12-19T12:14:07.847Z"
   },
   {
    "duration": 10,
    "start_time": "2023-12-19T12:14:07.858Z"
   },
   {
    "duration": 27,
    "start_time": "2023-12-19T12:14:07.869Z"
   },
   {
    "duration": 85,
    "start_time": "2023-12-19T12:14:07.897Z"
   },
   {
    "duration": 14,
    "start_time": "2023-12-19T12:14:07.984Z"
   },
   {
    "duration": 12,
    "start_time": "2023-12-19T12:14:08.000Z"
   },
   {
    "duration": 21,
    "start_time": "2023-12-19T12:14:08.014Z"
   },
   {
    "duration": 20,
    "start_time": "2023-12-19T12:14:08.036Z"
   },
   {
    "duration": 32,
    "start_time": "2023-12-19T12:14:08.057Z"
   },
   {
    "duration": 17,
    "start_time": "2023-12-19T12:14:08.090Z"
   },
   {
    "duration": 7,
    "start_time": "2023-12-19T12:14:08.108Z"
   },
   {
    "duration": 3,
    "start_time": "2023-12-19T12:14:08.116Z"
   },
   {
    "duration": 291,
    "start_time": "2023-12-19T12:14:08.120Z"
   },
   {
    "duration": 5,
    "start_time": "2023-12-19T12:14:08.412Z"
   },
   {
    "duration": 211,
    "start_time": "2023-12-19T12:14:08.418Z"
   },
   {
    "duration": 2372,
    "start_time": "2023-12-19T12:14:08.630Z"
   },
   {
    "duration": 6,
    "start_time": "2023-12-19T12:14:11.004Z"
   },
   {
    "duration": 174,
    "start_time": "2023-12-19T12:14:11.012Z"
   },
   {
    "duration": 150,
    "start_time": "2023-12-19T12:14:11.188Z"
   },
   {
    "duration": 156,
    "start_time": "2023-12-19T12:14:11.339Z"
   },
   {
    "duration": 226,
    "start_time": "2023-12-19T12:14:11.496Z"
   },
   {
    "duration": 135,
    "start_time": "2023-12-19T12:14:11.724Z"
   },
   {
    "duration": 21,
    "start_time": "2023-12-19T12:14:11.861Z"
   },
   {
    "duration": 165,
    "start_time": "2023-12-19T12:14:11.884Z"
   },
   {
    "duration": 375,
    "start_time": "2023-12-19T12:14:12.050Z"
   },
   {
    "duration": 133,
    "start_time": "2023-12-19T12:14:12.426Z"
   },
   {
    "duration": 117,
    "start_time": "2023-12-19T12:14:12.561Z"
   },
   {
    "duration": 117,
    "start_time": "2023-12-19T12:14:12.681Z"
   },
   {
    "duration": 148,
    "start_time": "2023-12-19T12:14:12.799Z"
   },
   {
    "duration": 159,
    "start_time": "2023-12-19T12:14:12.948Z"
   },
   {
    "duration": 162,
    "start_time": "2023-12-19T12:14:13.109Z"
   },
   {
    "duration": 43,
    "start_time": "2023-12-19T12:14:13.273Z"
   },
   {
    "duration": 10,
    "start_time": "2023-12-19T12:14:13.318Z"
   },
   {
    "duration": 112,
    "start_time": "2023-12-19T12:14:13.329Z"
   },
   {
    "duration": 9,
    "start_time": "2023-12-19T12:14:51.508Z"
   },
   {
    "duration": 4,
    "start_time": "2023-12-19T12:17:47.541Z"
   },
   {
    "duration": 7,
    "start_time": "2023-12-19T12:17:59.102Z"
   },
   {
    "duration": 8,
    "start_time": "2023-12-19T12:19:57.192Z"
   },
   {
    "duration": 7,
    "start_time": "2023-12-19T12:21:55.351Z"
   },
   {
    "duration": 4,
    "start_time": "2023-12-19T12:22:29.768Z"
   },
   {
    "duration": 4,
    "start_time": "2023-12-19T12:23:02.752Z"
   },
   {
    "duration": 5,
    "start_time": "2023-12-19T12:23:08.456Z"
   },
   {
    "duration": 9,
    "start_time": "2023-12-19T12:25:16.043Z"
   },
   {
    "duration": 5,
    "start_time": "2023-12-19T12:26:02.834Z"
   },
   {
    "duration": 4,
    "start_time": "2023-12-19T12:26:10.988Z"
   },
   {
    "duration": 5,
    "start_time": "2023-12-19T12:26:16.900Z"
   },
   {
    "duration": 1132,
    "start_time": "2023-12-19T19:03:57.404Z"
   },
   {
    "duration": 124,
    "start_time": "2023-12-19T19:03:58.538Z"
   },
   {
    "duration": 16,
    "start_time": "2023-12-19T19:03:58.664Z"
   },
   {
    "duration": 30,
    "start_time": "2023-12-19T19:03:58.682Z"
   },
   {
    "duration": 20,
    "start_time": "2023-12-19T19:03:58.714Z"
   },
   {
    "duration": 9,
    "start_time": "2023-12-19T19:03:58.735Z"
   },
   {
    "duration": 9,
    "start_time": "2023-12-19T19:03:58.746Z"
   },
   {
    "duration": 7,
    "start_time": "2023-12-19T19:03:58.756Z"
   },
   {
    "duration": 96,
    "start_time": "2023-12-19T19:03:58.764Z"
   },
   {
    "duration": 21,
    "start_time": "2023-12-19T19:03:58.861Z"
   },
   {
    "duration": 34,
    "start_time": "2023-12-19T19:03:58.884Z"
   },
   {
    "duration": 11,
    "start_time": "2023-12-19T19:03:58.919Z"
   },
   {
    "duration": 34,
    "start_time": "2023-12-19T19:03:58.932Z"
   },
   {
    "duration": 20,
    "start_time": "2023-12-19T19:03:58.969Z"
   },
   {
    "duration": 29,
    "start_time": "2023-12-19T19:03:58.991Z"
   },
   {
    "duration": 6,
    "start_time": "2023-12-19T19:03:59.022Z"
   },
   {
    "duration": 3,
    "start_time": "2023-12-19T19:03:59.030Z"
   },
   {
    "duration": 313,
    "start_time": "2023-12-19T19:03:59.035Z"
   },
   {
    "duration": 5,
    "start_time": "2023-12-19T19:03:59.350Z"
   },
   {
    "duration": 197,
    "start_time": "2023-12-19T19:03:59.356Z"
   },
   {
    "duration": 2529,
    "start_time": "2023-12-19T19:03:59.555Z"
   },
   {
    "duration": 6,
    "start_time": "2023-12-19T19:04:02.086Z"
   },
   {
    "duration": 188,
    "start_time": "2023-12-19T19:04:02.094Z"
   },
   {
    "duration": 154,
    "start_time": "2023-12-19T19:04:02.284Z"
   },
   {
    "duration": 181,
    "start_time": "2023-12-19T19:04:02.440Z"
   },
   {
    "duration": 253,
    "start_time": "2023-12-19T19:04:02.623Z"
   },
   {
    "duration": 155,
    "start_time": "2023-12-19T19:04:02.877Z"
   },
   {
    "duration": 14,
    "start_time": "2023-12-19T19:04:03.034Z"
   },
   {
    "duration": 168,
    "start_time": "2023-12-19T19:04:03.050Z"
   },
   {
    "duration": 384,
    "start_time": "2023-12-19T19:04:03.220Z"
   },
   {
    "duration": 136,
    "start_time": "2023-12-19T19:04:03.605Z"
   },
   {
    "duration": 134,
    "start_time": "2023-12-19T19:04:03.743Z"
   },
   {
    "duration": 124,
    "start_time": "2023-12-19T19:04:03.878Z"
   },
   {
    "duration": 146,
    "start_time": "2023-12-19T19:04:04.004Z"
   },
   {
    "duration": 141,
    "start_time": "2023-12-19T19:04:04.152Z"
   },
   {
    "duration": 137,
    "start_time": "2023-12-19T19:04:04.295Z"
   },
   {
    "duration": 35,
    "start_time": "2023-12-19T19:04:04.433Z"
   },
   {
    "duration": 7,
    "start_time": "2023-12-19T19:04:04.470Z"
   },
   {
    "duration": 14,
    "start_time": "2023-12-19T19:04:04.478Z"
   },
   {
    "duration": 80,
    "start_time": "2023-12-19T19:04:04.511Z"
   },
   {
    "duration": 18,
    "start_time": "2023-12-19T19:04:04.595Z"
   },
   {
    "duration": 5,
    "start_time": "2023-12-19T19:15:05.795Z"
   },
   {
    "duration": 8,
    "start_time": "2023-12-19T20:43:46.542Z"
   },
   {
    "duration": 4,
    "start_time": "2023-12-19T20:43:50.141Z"
   },
   {
    "duration": 4,
    "start_time": "2023-12-19T20:46:55.798Z"
   },
   {
    "duration": 4,
    "start_time": "2023-12-19T20:47:00.903Z"
   }
  ],
  "kernelspec": {
   "display_name": "Python 3 (ipykernel)",
   "language": "python",
   "name": "python3"
  },
  "language_info": {
   "codemirror_mode": {
    "name": "ipython",
    "version": 3
   },
   "file_extension": ".py",
   "mimetype": "text/x-python",
   "name": "python",
   "nbconvert_exporter": "python",
   "pygments_lexer": "ipython3",
   "version": "3.9.21"
  },
  "toc": {
   "base_numbering": 1,
   "nav_menu": {},
   "number_sections": true,
   "sideBar": true,
   "skip_h1_title": true,
   "title_cell": "Table of Contents",
   "title_sidebar": "Contents",
   "toc_cell": false,
   "toc_position": {},
   "toc_section_display": true,
   "toc_window_display": true
  }
 },
 "nbformat": 4,
 "nbformat_minor": 4
}

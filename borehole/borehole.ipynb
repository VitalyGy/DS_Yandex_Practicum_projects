{
 "cells": [
  {
   "cell_type": "markdown",
   "metadata": {},
   "source": [
    "# Выбор локации для скважины"
   ]
  },
  {
   "cell_type": "markdown",
   "metadata": {},
   "source": [
    "Введение:Допустим, вы работаете в добывающей компании «ГлавРосГосНефть». Нужно решить, где бурить новую скважину.\n",
    "Вам предоставлены пробы нефти в трёх регионах: в каждом 10 000 месторождений, где измерили качество нефти и объём её запасов. Постройте модель машинного обучения, которая поможет определить регион, где добыча принесёт наибольшую прибыль. Проанализируйте возможную прибыль и риски техникой *Bootstrap.*\n",
    "\n",
    "Шаги для выбора локации:\n",
    "\n",
    "- В избранном регионе ищут месторождения, для каждого определяют значения признаков;\n",
    "- Строят модель и оценивают объём запасов;\n",
    "- Выбирают месторождения с самым высокими оценками значений. Количество месторождений зависит от бюджета компании и стоимости разработки одной скважины;\n",
    "- Прибыль равна суммарной прибыли отобранных месторождений.\n",
    "\n",
    "Цели проекта:\n",
    " Постройте модель для определения региона, где добыча принесёт наибольшую прибыль. Проанализируйте возможную прибыль и риски техникой Bootstrap.\n",
    " \n",
    " План работы:\n",
    "1. Загрузка и подготовка данных.\n",
    "2. Обучение и проверка модели.\n",
    "3. Подготовка к расчёту прибыли.\n",
    "4. Расчёт прибыли и рисков\n",
    "5. Оформление выводов.\n",
    "\n",
    "Описание данных:\n",
    "\n",
    "Данные геологоразведки трёх регионов находятся в файлах: \n",
    "/datasets/geo_data_0.csv. \n",
    "/datasets/geo_data_1.csv. \n",
    "/datasets/geo_data_2.csv.\n",
    "id — уникальный идентификатор скважины;\n",
    "f0, f1, f2 — три признака точек (неважно, что они означают, но сами признаки значимы);\n",
    "product — объём запасов в скважине (тыс. баррелей).\n",
    "\n",
    "Условия задачи:\n",
    "* Для обучения модели подходит только линейная регрессия (остальные — недостаточно предсказуемые).\n",
    "* При разведке региона исследуют 500 точек, из которых с помощью машинного обучения выбирают 200 лучших для разработки.\n",
    "* Бюджет на разработку скважин в регионе — 10 млрд рублей.\n",
    "* При нынешних ценах один баррель сырья приносит 450 рублей дохода. Доход с каждой единицы продукта составляет 450 тыс. рублей, поскольку объём указан в тысячах баррелей.\n",
    "* После оценки рисков нужно оставить лишь те регионы, в которых вероятность убытков меньше 2.5%. Среди них выбирают регион с наибольшей средней прибылью."
   ]
  },
  {
   "cell_type": "markdown",
   "metadata": {},
   "source": [
    "## Загрузка и подготовка данных"
   ]
  },
  {
   "cell_type": "code",
   "execution_count": 1,
   "metadata": {},
   "outputs": [],
   "source": [
    "import pandas as pd\n",
    "from sklearn.model_selection import train_test_split\n",
    "# импортируем библиотеку для загрузки модели\n",
    "from sklearn.linear_model import LinearRegression\n",
    "from sklearn.metrics import mean_squared_error \n",
    "import numpy as np\n",
    "from scipy import stats as st\n",
    "\n",
    "\n",
    "\n",
    "from matplotlib import pyplot as plt\n",
    "import seaborn as sns"
   ]
  },
  {
   "cell_type": "code",
   "execution_count": 2,
   "metadata": {},
   "outputs": [],
   "source": [
    "RANDOM_STATE = 42\n",
    "TEST_SIZE = 0.25"
   ]
  },
  {
   "cell_type": "code",
   "execution_count": 3,
   "metadata": {},
   "outputs": [],
   "source": [
    "# Загружаю данные\n",
    "geo_data_0 = pd.read_csv('geo_data_0.csv')\n",
    "geo_data_1 = pd.read_csv('geo_data_1.csv')\n",
    "geo_data_2 = pd.read_csv('geo_data_2.csv')"
   ]
  },
  {
   "cell_type": "code",
   "execution_count": 4,
   "metadata": {},
   "outputs": [
    {
     "data": {
      "text/html": [
       "<div>\n",
       "<style scoped>\n",
       "    .dataframe tbody tr th:only-of-type {\n",
       "        vertical-align: middle;\n",
       "    }\n",
       "\n",
       "    .dataframe tbody tr th {\n",
       "        vertical-align: top;\n",
       "    }\n",
       "\n",
       "    .dataframe thead th {\n",
       "        text-align: right;\n",
       "    }\n",
       "</style>\n",
       "<table border=\"1\" class=\"dataframe\">\n",
       "  <thead>\n",
       "    <tr style=\"text-align: right;\">\n",
       "      <th></th>\n",
       "      <th>id</th>\n",
       "      <th>f0</th>\n",
       "      <th>f1</th>\n",
       "      <th>f2</th>\n",
       "      <th>product</th>\n",
       "    </tr>\n",
       "  </thead>\n",
       "  <tbody>\n",
       "    <tr>\n",
       "      <th>0</th>\n",
       "      <td>txEyH</td>\n",
       "      <td>0.705745</td>\n",
       "      <td>-0.497823</td>\n",
       "      <td>1.221170</td>\n",
       "      <td>105.280062</td>\n",
       "    </tr>\n",
       "    <tr>\n",
       "      <th>1</th>\n",
       "      <td>2acmU</td>\n",
       "      <td>1.334711</td>\n",
       "      <td>-0.340164</td>\n",
       "      <td>4.365080</td>\n",
       "      <td>73.037750</td>\n",
       "    </tr>\n",
       "    <tr>\n",
       "      <th>2</th>\n",
       "      <td>409Wp</td>\n",
       "      <td>1.022732</td>\n",
       "      <td>0.151990</td>\n",
       "      <td>1.419926</td>\n",
       "      <td>85.265647</td>\n",
       "    </tr>\n",
       "    <tr>\n",
       "      <th>3</th>\n",
       "      <td>iJLyR</td>\n",
       "      <td>-0.032172</td>\n",
       "      <td>0.139033</td>\n",
       "      <td>2.978566</td>\n",
       "      <td>168.620776</td>\n",
       "    </tr>\n",
       "    <tr>\n",
       "      <th>4</th>\n",
       "      <td>Xdl7t</td>\n",
       "      <td>1.988431</td>\n",
       "      <td>0.155413</td>\n",
       "      <td>4.751769</td>\n",
       "      <td>154.036647</td>\n",
       "    </tr>\n",
       "  </tbody>\n",
       "</table>\n",
       "</div>"
      ],
      "text/plain": [
       "      id        f0        f1        f2     product\n",
       "0  txEyH  0.705745 -0.497823  1.221170  105.280062\n",
       "1  2acmU  1.334711 -0.340164  4.365080   73.037750\n",
       "2  409Wp  1.022732  0.151990  1.419926   85.265647\n",
       "3  iJLyR -0.032172  0.139033  2.978566  168.620776\n",
       "4  Xdl7t  1.988431  0.155413  4.751769  154.036647"
      ]
     },
     "execution_count": 4,
     "metadata": {},
     "output_type": "execute_result"
    }
   ],
   "source": [
    "# Изучим данные\n",
    "geo_data_0.head()"
   ]
  },
  {
   "cell_type": "code",
   "execution_count": 5,
   "metadata": {},
   "outputs": [
    {
     "data": {
      "text/plain": [
       "(100000, 5)"
      ]
     },
     "execution_count": 5,
     "metadata": {},
     "output_type": "execute_result"
    }
   ],
   "source": [
    "geo_data_0.shape"
   ]
  },
  {
   "cell_type": "code",
   "execution_count": 6,
   "metadata": {},
   "outputs": [
    {
     "name": "stdout",
     "output_type": "stream",
     "text": [
      "<class 'pandas.core.frame.DataFrame'>\n",
      "RangeIndex: 100000 entries, 0 to 99999\n",
      "Data columns (total 5 columns):\n",
      " #   Column   Non-Null Count   Dtype  \n",
      "---  ------   --------------   -----  \n",
      " 0   id       100000 non-null  object \n",
      " 1   f0       100000 non-null  float64\n",
      " 2   f1       100000 non-null  float64\n",
      " 3   f2       100000 non-null  float64\n",
      " 4   product  100000 non-null  float64\n",
      "dtypes: float64(4), object(1)\n",
      "memory usage: 3.8+ MB\n"
     ]
    }
   ],
   "source": [
    "geo_data_0.info()"
   ]
  },
  {
   "cell_type": "code",
   "execution_count": 7,
   "metadata": {},
   "outputs": [
    {
     "data": {
      "text/html": [
       "<div>\n",
       "<style scoped>\n",
       "    .dataframe tbody tr th:only-of-type {\n",
       "        vertical-align: middle;\n",
       "    }\n",
       "\n",
       "    .dataframe tbody tr th {\n",
       "        vertical-align: top;\n",
       "    }\n",
       "\n",
       "    .dataframe thead th {\n",
       "        text-align: right;\n",
       "    }\n",
       "</style>\n",
       "<table border=\"1\" class=\"dataframe\">\n",
       "  <thead>\n",
       "    <tr style=\"text-align: right;\">\n",
       "      <th></th>\n",
       "      <th>id</th>\n",
       "      <th>f0</th>\n",
       "      <th>f1</th>\n",
       "      <th>f2</th>\n",
       "      <th>product</th>\n",
       "    </tr>\n",
       "  </thead>\n",
       "  <tbody>\n",
       "    <tr>\n",
       "      <th>0</th>\n",
       "      <td>kBEdx</td>\n",
       "      <td>-15.001348</td>\n",
       "      <td>-8.276000</td>\n",
       "      <td>-0.005876</td>\n",
       "      <td>3.179103</td>\n",
       "    </tr>\n",
       "    <tr>\n",
       "      <th>1</th>\n",
       "      <td>62mP7</td>\n",
       "      <td>14.272088</td>\n",
       "      <td>-3.475083</td>\n",
       "      <td>0.999183</td>\n",
       "      <td>26.953261</td>\n",
       "    </tr>\n",
       "    <tr>\n",
       "      <th>2</th>\n",
       "      <td>vyE1P</td>\n",
       "      <td>6.263187</td>\n",
       "      <td>-5.948386</td>\n",
       "      <td>5.001160</td>\n",
       "      <td>134.766305</td>\n",
       "    </tr>\n",
       "    <tr>\n",
       "      <th>3</th>\n",
       "      <td>KcrkZ</td>\n",
       "      <td>-13.081196</td>\n",
       "      <td>-11.506057</td>\n",
       "      <td>4.999415</td>\n",
       "      <td>137.945408</td>\n",
       "    </tr>\n",
       "    <tr>\n",
       "      <th>4</th>\n",
       "      <td>AHL4O</td>\n",
       "      <td>12.702195</td>\n",
       "      <td>-8.147433</td>\n",
       "      <td>5.004363</td>\n",
       "      <td>134.766305</td>\n",
       "    </tr>\n",
       "  </tbody>\n",
       "</table>\n",
       "</div>"
      ],
      "text/plain": [
       "      id         f0         f1        f2     product\n",
       "0  kBEdx -15.001348  -8.276000 -0.005876    3.179103\n",
       "1  62mP7  14.272088  -3.475083  0.999183   26.953261\n",
       "2  vyE1P   6.263187  -5.948386  5.001160  134.766305\n",
       "3  KcrkZ -13.081196 -11.506057  4.999415  137.945408\n",
       "4  AHL4O  12.702195  -8.147433  5.004363  134.766305"
      ]
     },
     "execution_count": 7,
     "metadata": {},
     "output_type": "execute_result"
    }
   ],
   "source": [
    "geo_data_1.head()"
   ]
  },
  {
   "cell_type": "code",
   "execution_count": 8,
   "metadata": {},
   "outputs": [
    {
     "data": {
      "text/plain": [
       "(100000, 5)"
      ]
     },
     "execution_count": 8,
     "metadata": {},
     "output_type": "execute_result"
    }
   ],
   "source": [
    "geo_data_1.shape"
   ]
  },
  {
   "cell_type": "code",
   "execution_count": 9,
   "metadata": {},
   "outputs": [
    {
     "name": "stdout",
     "output_type": "stream",
     "text": [
      "<class 'pandas.core.frame.DataFrame'>\n",
      "RangeIndex: 100000 entries, 0 to 99999\n",
      "Data columns (total 5 columns):\n",
      " #   Column   Non-Null Count   Dtype  \n",
      "---  ------   --------------   -----  \n",
      " 0   id       100000 non-null  object \n",
      " 1   f0       100000 non-null  float64\n",
      " 2   f1       100000 non-null  float64\n",
      " 3   f2       100000 non-null  float64\n",
      " 4   product  100000 non-null  float64\n",
      "dtypes: float64(4), object(1)\n",
      "memory usage: 3.8+ MB\n"
     ]
    }
   ],
   "source": [
    "geo_data_1.info()"
   ]
  },
  {
   "cell_type": "code",
   "execution_count": 10,
   "metadata": {},
   "outputs": [
    {
     "data": {
      "text/html": [
       "<div>\n",
       "<style scoped>\n",
       "    .dataframe tbody tr th:only-of-type {\n",
       "        vertical-align: middle;\n",
       "    }\n",
       "\n",
       "    .dataframe tbody tr th {\n",
       "        vertical-align: top;\n",
       "    }\n",
       "\n",
       "    .dataframe thead th {\n",
       "        text-align: right;\n",
       "    }\n",
       "</style>\n",
       "<table border=\"1\" class=\"dataframe\">\n",
       "  <thead>\n",
       "    <tr style=\"text-align: right;\">\n",
       "      <th></th>\n",
       "      <th>id</th>\n",
       "      <th>f0</th>\n",
       "      <th>f1</th>\n",
       "      <th>f2</th>\n",
       "      <th>product</th>\n",
       "    </tr>\n",
       "  </thead>\n",
       "  <tbody>\n",
       "    <tr>\n",
       "      <th>0</th>\n",
       "      <td>fwXo0</td>\n",
       "      <td>-1.146987</td>\n",
       "      <td>0.963328</td>\n",
       "      <td>-0.828965</td>\n",
       "      <td>27.758673</td>\n",
       "    </tr>\n",
       "    <tr>\n",
       "      <th>1</th>\n",
       "      <td>WJtFt</td>\n",
       "      <td>0.262778</td>\n",
       "      <td>0.269839</td>\n",
       "      <td>-2.530187</td>\n",
       "      <td>56.069697</td>\n",
       "    </tr>\n",
       "    <tr>\n",
       "      <th>2</th>\n",
       "      <td>ovLUW</td>\n",
       "      <td>0.194587</td>\n",
       "      <td>0.289035</td>\n",
       "      <td>-5.586433</td>\n",
       "      <td>62.871910</td>\n",
       "    </tr>\n",
       "    <tr>\n",
       "      <th>3</th>\n",
       "      <td>q6cA6</td>\n",
       "      <td>2.236060</td>\n",
       "      <td>-0.553760</td>\n",
       "      <td>0.930038</td>\n",
       "      <td>114.572842</td>\n",
       "    </tr>\n",
       "    <tr>\n",
       "      <th>4</th>\n",
       "      <td>WPMUX</td>\n",
       "      <td>-0.515993</td>\n",
       "      <td>1.716266</td>\n",
       "      <td>5.899011</td>\n",
       "      <td>149.600746</td>\n",
       "    </tr>\n",
       "  </tbody>\n",
       "</table>\n",
       "</div>"
      ],
      "text/plain": [
       "      id        f0        f1        f2     product\n",
       "0  fwXo0 -1.146987  0.963328 -0.828965   27.758673\n",
       "1  WJtFt  0.262778  0.269839 -2.530187   56.069697\n",
       "2  ovLUW  0.194587  0.289035 -5.586433   62.871910\n",
       "3  q6cA6  2.236060 -0.553760  0.930038  114.572842\n",
       "4  WPMUX -0.515993  1.716266  5.899011  149.600746"
      ]
     },
     "execution_count": 10,
     "metadata": {},
     "output_type": "execute_result"
    }
   ],
   "source": [
    "geo_data_2.head()"
   ]
  },
  {
   "cell_type": "code",
   "execution_count": 11,
   "metadata": {},
   "outputs": [
    {
     "data": {
      "text/plain": [
       "(100000, 5)"
      ]
     },
     "execution_count": 11,
     "metadata": {},
     "output_type": "execute_result"
    }
   ],
   "source": [
    "geo_data_2.shape"
   ]
  },
  {
   "cell_type": "code",
   "execution_count": 12,
   "metadata": {},
   "outputs": [
    {
     "name": "stdout",
     "output_type": "stream",
     "text": [
      "<class 'pandas.core.frame.DataFrame'>\n",
      "RangeIndex: 100000 entries, 0 to 99999\n",
      "Data columns (total 5 columns):\n",
      " #   Column   Non-Null Count   Dtype  \n",
      "---  ------   --------------   -----  \n",
      " 0   id       100000 non-null  object \n",
      " 1   f0       100000 non-null  float64\n",
      " 2   f1       100000 non-null  float64\n",
      " 3   f2       100000 non-null  float64\n",
      " 4   product  100000 non-null  float64\n",
      "dtypes: float64(4), object(1)\n",
      "memory usage: 3.8+ MB\n"
     ]
    }
   ],
   "source": [
    "geo_data_2.info()"
   ]
  },
  {
   "cell_type": "code",
   "execution_count": 13,
   "metadata": {},
   "outputs": [
    {
     "name": "stdout",
     "output_type": "stream",
     "text": [
      "0 0 0\n"
     ]
    }
   ],
   "source": [
    "# Поищем явные дубликаты\n",
    "print(\n",
    "    geo_data_0.duplicated().sum(),\n",
    "    geo_data_1.duplicated().sum(),\n",
    "    geo_data_2.duplicated().sum()\n",
    ")"
   ]
  },
  {
   "cell_type": "code",
   "execution_count": 14,
   "metadata": {},
   "outputs": [],
   "source": [
    "# функция для построения ящиков с усами и гистограммы (для числовых признаков)\n",
    "def boxplot_(df, column):\n",
    "    fig, axes = plt.subplots(nrows=1, ncols=2, figsize=(12, 6))\n",
    "\n",
    "    sns.boxplot(data=df, x=column, ax=axes[0])\n",
    "    axes[0].set_title(f'Ящик с усами для столбца \"{column}\"')\n",
    "    axes[0].set_ylabel('Количество')\n",
    "\n",
    "    sns.histplot(data=df, x=column, kde=True, ax=axes[1])\n",
    "    axes[1].set_title(f'Гистограмма для столбца \"{column}\"')\n",
    "    axes[1].set_ylabel('Частота')\n",
    "\n",
    "    plt.tight_layout()\n",
    "    plt.show()"
   ]
  },
  {
   "cell_type": "code",
   "execution_count": 15,
   "metadata": {},
   "outputs": [
    {
     "data": {
      "image/png": "[encoded data removed]",
      "text/plain": [
       "<Figure size 1200x600 with 2 Axes>"
      ]
     },
     "metadata": {},
     "output_type": "display_data"
    }
   ],
   "source": [
    "boxplot_(geo_data_0, 'f0')"
   ]
  },
  {
   "cell_type": "code",
   "execution_count": 16,
   "metadata": {},
   "outputs": [
    {
     "data": {
      "image/png": "[encoded data removed]",
      "text/plain": [
       "<Figure size 1200x600 with 2 Axes>"
      ]
     },
     "metadata": {},
     "output_type": "display_data"
    }
   ],
   "source": [
    "boxplot_(geo_data_0, 'f1')"
   ]
  },
  {
   "cell_type": "code",
   "execution_count": 17,
   "metadata": {},
   "outputs": [
    {
     "data": {
      "image/png": "[encoded data removed]",
      "text/plain": [
       "<Figure size 1200x600 with 2 Axes>"
      ]
     },
     "metadata": {},
     "output_type": "display_data"
    }
   ],
   "source": [
    "boxplot_(geo_data_0, 'f2')"
   ]
  },
  {
   "cell_type": "code",
   "execution_count": 18,
   "metadata": {},
   "outputs": [
    {
     "data": {
      "image/png": "[encoded data removed]",
      "text/plain": [
       "<Figure size 1200x600 with 2 Axes>"
      ]
     },
     "metadata": {},
     "output_type": "display_data"
    }
   ],
   "source": [
    "boxplot_(geo_data_1, 'f0')"
   ]
  },
  {
   "cell_type": "code",
   "execution_count": 19,
   "metadata": {},
   "outputs": [
    {
     "data": {
      "image/png": "[encoded data removed]",
      "text/plain": [
       "<Figure size 1200x600 with 2 Axes>"
      ]
     },
     "metadata": {},
     "output_type": "display_data"
    }
   ],
   "source": [
    "boxplot_(geo_data_1, 'f1')"
   ]
  },
  {
   "cell_type": "code",
   "execution_count": 20,
   "metadata": {},
   "outputs": [
    {
     "data": {
      "image/png": "[encoded data removed]",
      "text/plain": [
       "<Figure size 1200x600 with 2 Axes>"
      ]
     },
     "metadata": {},
     "output_type": "display_data"
    }
   ],
   "source": [
    "boxplot_(geo_data_1, 'f2')"
   ]
  },
  {
   "cell_type": "code",
   "execution_count": 21,
   "metadata": {},
   "outputs": [
    {
     "data": {
      "image/png": "[encoded data removed]",
      "text/plain": [
       "<Figure size 1200x600 with 2 Axes>"
      ]
     },
     "metadata": {},
     "output_type": "display_data"
    }
   ],
   "source": [
    "boxplot_(geo_data_2, 'f0')"
   ]
  },
  {
   "cell_type": "code",
   "execution_count": 22,
   "metadata": {},
   "outputs": [
    {
     "data": {
      "image/png": "[encoded data removed]",
      "text/plain": [
       "<Figure size 1200x600 with 2 Axes>"
      ]
     },
     "metadata": {},
     "output_type": "display_data"
    }
   ],
   "source": [
    "boxplot_(geo_data_2, 'f1')"
   ]
  },
  {
   "cell_type": "code",
   "execution_count": 23,
   "metadata": {},
   "outputs": [
    {
     "data": {
      "image/png": "[encoded data removed]",
      "text/plain": [
       "<Figure size 1200x600 with 2 Axes>"
      ]
     },
     "metadata": {},
     "output_type": "display_data"
    }
   ],
   "source": [
    "boxplot_(geo_data_2, 'f2')"
   ]
  },
  {
   "cell_type": "code",
   "execution_count": 24,
   "metadata": {},
   "outputs": [
    {
     "data": {
      "text/html": [
       "<div>\n",
       "<style scoped>\n",
       "    .dataframe tbody tr th:only-of-type {\n",
       "        vertical-align: middle;\n",
       "    }\n",
       "\n",
       "    .dataframe tbody tr th {\n",
       "        vertical-align: top;\n",
       "    }\n",
       "\n",
       "    .dataframe thead th {\n",
       "        text-align: right;\n",
       "    }\n",
       "</style>\n",
       "<table border=\"1\" class=\"dataframe\">\n",
       "  <thead>\n",
       "    <tr style=\"text-align: right;\">\n",
       "      <th></th>\n",
       "      <th>f0</th>\n",
       "      <th>f1</th>\n",
       "      <th>f2</th>\n",
       "      <th>product</th>\n",
       "    </tr>\n",
       "  </thead>\n",
       "  <tbody>\n",
       "    <tr>\n",
       "      <th>count</th>\n",
       "      <td>100000.000000</td>\n",
       "      <td>100000.000000</td>\n",
       "      <td>100000.000000</td>\n",
       "      <td>100000.000000</td>\n",
       "    </tr>\n",
       "    <tr>\n",
       "      <th>mean</th>\n",
       "      <td>0.500419</td>\n",
       "      <td>0.250143</td>\n",
       "      <td>2.502647</td>\n",
       "      <td>92.500000</td>\n",
       "    </tr>\n",
       "    <tr>\n",
       "      <th>std</th>\n",
       "      <td>0.871832</td>\n",
       "      <td>0.504433</td>\n",
       "      <td>3.248248</td>\n",
       "      <td>44.288691</td>\n",
       "    </tr>\n",
       "    <tr>\n",
       "      <th>min</th>\n",
       "      <td>-1.408605</td>\n",
       "      <td>-0.848218</td>\n",
       "      <td>-12.088328</td>\n",
       "      <td>0.000000</td>\n",
       "    </tr>\n",
       "    <tr>\n",
       "      <th>25%</th>\n",
       "      <td>-0.072580</td>\n",
       "      <td>-0.200881</td>\n",
       "      <td>0.287748</td>\n",
       "      <td>56.497507</td>\n",
       "    </tr>\n",
       "    <tr>\n",
       "      <th>50%</th>\n",
       "      <td>0.502360</td>\n",
       "      <td>0.250252</td>\n",
       "      <td>2.515969</td>\n",
       "      <td>91.849972</td>\n",
       "    </tr>\n",
       "    <tr>\n",
       "      <th>75%</th>\n",
       "      <td>1.073581</td>\n",
       "      <td>0.700646</td>\n",
       "      <td>4.715088</td>\n",
       "      <td>128.564089</td>\n",
       "    </tr>\n",
       "    <tr>\n",
       "      <th>max</th>\n",
       "      <td>2.362331</td>\n",
       "      <td>1.343769</td>\n",
       "      <td>16.003790</td>\n",
       "      <td>185.364347</td>\n",
       "    </tr>\n",
       "  </tbody>\n",
       "</table>\n",
       "</div>"
      ],
      "text/plain": [
       "                  f0             f1             f2        product\n",
       "count  100000.000000  100000.000000  100000.000000  100000.000000\n",
       "mean        0.500419       0.250143       2.502647      92.500000\n",
       "std         0.871832       0.504433       3.248248      44.288691\n",
       "min        -1.408605      -0.848218     -12.088328       0.000000\n",
       "25%        -0.072580      -0.200881       0.287748      56.497507\n",
       "50%         0.502360       0.250252       2.515969      91.849972\n",
       "75%         1.073581       0.700646       4.715088     128.564089\n",
       "max         2.362331       1.343769      16.003790     185.364347"
      ]
     },
     "execution_count": 24,
     "metadata": {},
     "output_type": "execute_result"
    }
   ],
   "source": [
    "geo_data_0.describe()"
   ]
  },
  {
   "cell_type": "code",
   "execution_count": 25,
   "metadata": {},
   "outputs": [
    {
     "data": {
      "text/html": [
       "<div>\n",
       "<style scoped>\n",
       "    .dataframe tbody tr th:only-of-type {\n",
       "        vertical-align: middle;\n",
       "    }\n",
       "\n",
       "    .dataframe tbody tr th {\n",
       "        vertical-align: top;\n",
       "    }\n",
       "\n",
       "    .dataframe thead th {\n",
       "        text-align: right;\n",
       "    }\n",
       "</style>\n",
       "<table border=\"1\" class=\"dataframe\">\n",
       "  <thead>\n",
       "    <tr style=\"text-align: right;\">\n",
       "      <th></th>\n",
       "      <th>f0</th>\n",
       "      <th>f1</th>\n",
       "      <th>f2</th>\n",
       "      <th>product</th>\n",
       "    </tr>\n",
       "  </thead>\n",
       "  <tbody>\n",
       "    <tr>\n",
       "      <th>count</th>\n",
       "      <td>100000.000000</td>\n",
       "      <td>100000.000000</td>\n",
       "      <td>100000.000000</td>\n",
       "      <td>100000.000000</td>\n",
       "    </tr>\n",
       "    <tr>\n",
       "      <th>mean</th>\n",
       "      <td>1.141296</td>\n",
       "      <td>-4.796579</td>\n",
       "      <td>2.494541</td>\n",
       "      <td>68.825000</td>\n",
       "    </tr>\n",
       "    <tr>\n",
       "      <th>std</th>\n",
       "      <td>8.965932</td>\n",
       "      <td>5.119872</td>\n",
       "      <td>1.703572</td>\n",
       "      <td>45.944423</td>\n",
       "    </tr>\n",
       "    <tr>\n",
       "      <th>min</th>\n",
       "      <td>-31.609576</td>\n",
       "      <td>-26.358598</td>\n",
       "      <td>-0.018144</td>\n",
       "      <td>0.000000</td>\n",
       "    </tr>\n",
       "    <tr>\n",
       "      <th>25%</th>\n",
       "      <td>-6.298551</td>\n",
       "      <td>-8.267985</td>\n",
       "      <td>1.000021</td>\n",
       "      <td>26.953261</td>\n",
       "    </tr>\n",
       "    <tr>\n",
       "      <th>50%</th>\n",
       "      <td>1.153055</td>\n",
       "      <td>-4.813172</td>\n",
       "      <td>2.011479</td>\n",
       "      <td>57.085625</td>\n",
       "    </tr>\n",
       "    <tr>\n",
       "      <th>75%</th>\n",
       "      <td>8.621015</td>\n",
       "      <td>-1.332816</td>\n",
       "      <td>3.999904</td>\n",
       "      <td>107.813044</td>\n",
       "    </tr>\n",
       "    <tr>\n",
       "      <th>max</th>\n",
       "      <td>29.421755</td>\n",
       "      <td>18.734063</td>\n",
       "      <td>5.019721</td>\n",
       "      <td>137.945408</td>\n",
       "    </tr>\n",
       "  </tbody>\n",
       "</table>\n",
       "</div>"
      ],
      "text/plain": [
       "                  f0             f1             f2        product\n",
       "count  100000.000000  100000.000000  100000.000000  100000.000000\n",
       "mean        1.141296      -4.796579       2.494541      68.825000\n",
       "std         8.965932       5.119872       1.703572      45.944423\n",
       "min       -31.609576     -26.358598      -0.018144       0.000000\n",
       "25%        -6.298551      -8.267985       1.000021      26.953261\n",
       "50%         1.153055      -4.813172       2.011479      57.085625\n",
       "75%         8.621015      -1.332816       3.999904     107.813044\n",
       "max        29.421755      18.734063       5.019721     137.945408"
      ]
     },
     "execution_count": 25,
     "metadata": {},
     "output_type": "execute_result"
    }
   ],
   "source": [
    "geo_data_1.describe()"
   ]
  },
  {
   "cell_type": "code",
   "execution_count": 26,
   "metadata": {},
   "outputs": [
    {
     "data": {
      "text/html": [
       "<div>\n",
       "<style scoped>\n",
       "    .dataframe tbody tr th:only-of-type {\n",
       "        vertical-align: middle;\n",
       "    }\n",
       "\n",
       "    .dataframe tbody tr th {\n",
       "        vertical-align: top;\n",
       "    }\n",
       "\n",
       "    .dataframe thead th {\n",
       "        text-align: right;\n",
       "    }\n",
       "</style>\n",
       "<table border=\"1\" class=\"dataframe\">\n",
       "  <thead>\n",
       "    <tr style=\"text-align: right;\">\n",
       "      <th></th>\n",
       "      <th>f0</th>\n",
       "      <th>f1</th>\n",
       "      <th>f2</th>\n",
       "      <th>product</th>\n",
       "    </tr>\n",
       "  </thead>\n",
       "  <tbody>\n",
       "    <tr>\n",
       "      <th>count</th>\n",
       "      <td>100000.000000</td>\n",
       "      <td>100000.000000</td>\n",
       "      <td>100000.000000</td>\n",
       "      <td>100000.000000</td>\n",
       "    </tr>\n",
       "    <tr>\n",
       "      <th>mean</th>\n",
       "      <td>0.002023</td>\n",
       "      <td>-0.002081</td>\n",
       "      <td>2.495128</td>\n",
       "      <td>95.000000</td>\n",
       "    </tr>\n",
       "    <tr>\n",
       "      <th>std</th>\n",
       "      <td>1.732045</td>\n",
       "      <td>1.730417</td>\n",
       "      <td>3.473445</td>\n",
       "      <td>44.749921</td>\n",
       "    </tr>\n",
       "    <tr>\n",
       "      <th>min</th>\n",
       "      <td>-8.760004</td>\n",
       "      <td>-7.084020</td>\n",
       "      <td>-11.970335</td>\n",
       "      <td>0.000000</td>\n",
       "    </tr>\n",
       "    <tr>\n",
       "      <th>25%</th>\n",
       "      <td>-1.162288</td>\n",
       "      <td>-1.174820</td>\n",
       "      <td>0.130359</td>\n",
       "      <td>59.450441</td>\n",
       "    </tr>\n",
       "    <tr>\n",
       "      <th>50%</th>\n",
       "      <td>0.009424</td>\n",
       "      <td>-0.009482</td>\n",
       "      <td>2.484236</td>\n",
       "      <td>94.925613</td>\n",
       "    </tr>\n",
       "    <tr>\n",
       "      <th>75%</th>\n",
       "      <td>1.158535</td>\n",
       "      <td>1.163678</td>\n",
       "      <td>4.858794</td>\n",
       "      <td>130.595027</td>\n",
       "    </tr>\n",
       "    <tr>\n",
       "      <th>max</th>\n",
       "      <td>7.238262</td>\n",
       "      <td>7.844801</td>\n",
       "      <td>16.739402</td>\n",
       "      <td>190.029838</td>\n",
       "    </tr>\n",
       "  </tbody>\n",
       "</table>\n",
       "</div>"
      ],
      "text/plain": [
       "                  f0             f1             f2        product\n",
       "count  100000.000000  100000.000000  100000.000000  100000.000000\n",
       "mean        0.002023      -0.002081       2.495128      95.000000\n",
       "std         1.732045       1.730417       3.473445      44.749921\n",
       "min        -8.760004      -7.084020     -11.970335       0.000000\n",
       "25%        -1.162288      -1.174820       0.130359      59.450441\n",
       "50%         0.009424      -0.009482       2.484236      94.925613\n",
       "75%         1.158535       1.163678       4.858794     130.595027\n",
       "max         7.238262       7.844801      16.739402     190.029838"
      ]
     },
     "execution_count": 26,
     "metadata": {},
     "output_type": "execute_result"
    }
   ],
   "source": [
    "geo_data_2.describe()"
   ]
  },
  {
   "cell_type": "code",
   "execution_count": 27,
   "metadata": {},
   "outputs": [
    {
     "data": {
      "image/png": "[encoded data removed]",
      "text/plain": [
       "<Figure size 1200x600 with 2 Axes>"
      ]
     },
     "metadata": {},
     "output_type": "display_data"
    }
   ],
   "source": [
    "# целевые признаки\n",
    "boxplot_(geo_data_0, 'product')"
   ]
  },
  {
   "cell_type": "code",
   "execution_count": 28,
   "metadata": {},
   "outputs": [
    {
     "data": {
      "image/png": "[encoded data removed]",
      "text/plain": [
       "<Figure size 1200x600 with 2 Axes>"
      ]
     },
     "metadata": {},
     "output_type": "display_data"
    }
   ],
   "source": [
    "boxplot_(geo_data_1, 'product')"
   ]
  },
  {
   "cell_type": "code",
   "execution_count": 29,
   "metadata": {},
   "outputs": [
    {
     "data": {
      "image/png": "[encoded data removed]",
      "text/plain": [
       "<Figure size 1200x600 with 2 Axes>"
      ]
     },
     "metadata": {},
     "output_type": "display_data"
    }
   ],
   "source": [
    "boxplot_(geo_data_2, 'product')"
   ]
  },
  {
   "cell_type": "code",
   "execution_count": 30,
   "metadata": {},
   "outputs": [
    {
     "data": {
      "text/html": [
       "<div>\n",
       "<style scoped>\n",
       "    .dataframe tbody tr th:only-of-type {\n",
       "        vertical-align: middle;\n",
       "    }\n",
       "\n",
       "    .dataframe tbody tr th {\n",
       "        vertical-align: top;\n",
       "    }\n",
       "\n",
       "    .dataframe thead th {\n",
       "        text-align: right;\n",
       "    }\n",
       "</style>\n",
       "<table border=\"1\" class=\"dataframe\">\n",
       "  <thead>\n",
       "    <tr style=\"text-align: right;\">\n",
       "      <th></th>\n",
       "      <th>f0</th>\n",
       "      <th>f1</th>\n",
       "      <th>f2</th>\n",
       "      <th>product</th>\n",
       "    </tr>\n",
       "  </thead>\n",
       "  <tbody>\n",
       "    <tr>\n",
       "      <th>f0</th>\n",
       "      <td>1.000000</td>\n",
       "      <td>-0.471395</td>\n",
       "      <td>-0.002685</td>\n",
       "      <td>0.128417</td>\n",
       "    </tr>\n",
       "    <tr>\n",
       "      <th>f1</th>\n",
       "      <td>-0.471395</td>\n",
       "      <td>1.000000</td>\n",
       "      <td>0.001413</td>\n",
       "      <td>-0.181143</td>\n",
       "    </tr>\n",
       "    <tr>\n",
       "      <th>f2</th>\n",
       "      <td>-0.002685</td>\n",
       "      <td>0.001413</td>\n",
       "      <td>1.000000</td>\n",
       "      <td>0.486394</td>\n",
       "    </tr>\n",
       "    <tr>\n",
       "      <th>product</th>\n",
       "      <td>0.128417</td>\n",
       "      <td>-0.181143</td>\n",
       "      <td>0.486394</td>\n",
       "      <td>1.000000</td>\n",
       "    </tr>\n",
       "  </tbody>\n",
       "</table>\n",
       "</div>"
      ],
      "text/plain": [
       "               f0        f1        f2   product\n",
       "f0       1.000000 -0.471395 -0.002685  0.128417\n",
       "f1      -0.471395  1.000000  0.001413 -0.181143\n",
       "f2      -0.002685  0.001413  1.000000  0.486394\n",
       "product  0.128417 -0.181143  0.486394  1.000000"
      ]
     },
     "execution_count": 30,
     "metadata": {},
     "output_type": "execute_result"
    }
   ],
   "source": [
    "# Корреляционный анализ\n",
    "geo_data_0[geo_data_2.columns].corr(method='spearman')"
   ]
  },
  {
   "cell_type": "code",
   "execution_count": 31,
   "metadata": {},
   "outputs": [
    {
     "data": {
      "text/html": [
       "<div>\n",
       "<style scoped>\n",
       "    .dataframe tbody tr th:only-of-type {\n",
       "        vertical-align: middle;\n",
       "    }\n",
       "\n",
       "    .dataframe tbody tr th {\n",
       "        vertical-align: top;\n",
       "    }\n",
       "\n",
       "    .dataframe thead th {\n",
       "        text-align: right;\n",
       "    }\n",
       "</style>\n",
       "<table border=\"1\" class=\"dataframe\">\n",
       "  <thead>\n",
       "    <tr style=\"text-align: right;\">\n",
       "      <th></th>\n",
       "      <th>f0</th>\n",
       "      <th>f1</th>\n",
       "      <th>f2</th>\n",
       "      <th>product</th>\n",
       "    </tr>\n",
       "  </thead>\n",
       "  <tbody>\n",
       "    <tr>\n",
       "      <th>f0</th>\n",
       "      <td>1.000000</td>\n",
       "      <td>0.182248</td>\n",
       "      <td>-0.002000</td>\n",
       "      <td>-0.122869</td>\n",
       "    </tr>\n",
       "    <tr>\n",
       "      <th>f1</th>\n",
       "      <td>0.182248</td>\n",
       "      <td>1.000000</td>\n",
       "      <td>-0.003678</td>\n",
       "      <td>-0.033908</td>\n",
       "    </tr>\n",
       "    <tr>\n",
       "      <th>f2</th>\n",
       "      <td>-0.002000</td>\n",
       "      <td>-0.003678</td>\n",
       "      <td>1.000000</td>\n",
       "      <td>0.975605</td>\n",
       "    </tr>\n",
       "    <tr>\n",
       "      <th>product</th>\n",
       "      <td>-0.122869</td>\n",
       "      <td>-0.033908</td>\n",
       "      <td>0.975605</td>\n",
       "      <td>1.000000</td>\n",
       "    </tr>\n",
       "  </tbody>\n",
       "</table>\n",
       "</div>"
      ],
      "text/plain": [
       "               f0        f1        f2   product\n",
       "f0       1.000000  0.182248 -0.002000 -0.122869\n",
       "f1       0.182248  1.000000 -0.003678 -0.033908\n",
       "f2      -0.002000 -0.003678  1.000000  0.975605\n",
       "product -0.122869 -0.033908  0.975605  1.000000"
      ]
     },
     "execution_count": 31,
     "metadata": {},
     "output_type": "execute_result"
    }
   ],
   "source": [
    "geo_data_1[geo_data_2.columns].corr(method='spearman')"
   ]
  },
  {
   "cell_type": "code",
   "execution_count": 32,
   "metadata": {},
   "outputs": [
    {
     "data": {
      "text/html": [
       "<div>\n",
       "<style scoped>\n",
       "    .dataframe tbody tr th:only-of-type {\n",
       "        vertical-align: middle;\n",
       "    }\n",
       "\n",
       "    .dataframe tbody tr th {\n",
       "        vertical-align: top;\n",
       "    }\n",
       "\n",
       "    .dataframe thead th {\n",
       "        text-align: right;\n",
       "    }\n",
       "</style>\n",
       "<table border=\"1\" class=\"dataframe\">\n",
       "  <thead>\n",
       "    <tr style=\"text-align: right;\">\n",
       "      <th></th>\n",
       "      <th>f0</th>\n",
       "      <th>f1</th>\n",
       "      <th>f2</th>\n",
       "      <th>product</th>\n",
       "    </tr>\n",
       "  </thead>\n",
       "  <tbody>\n",
       "    <tr>\n",
       "      <th>f0</th>\n",
       "      <td>1.000000</td>\n",
       "      <td>0.002493</td>\n",
       "      <td>0.000053</td>\n",
       "      <td>-0.002464</td>\n",
       "    </tr>\n",
       "    <tr>\n",
       "      <th>f1</th>\n",
       "      <td>0.002493</td>\n",
       "      <td>1.000000</td>\n",
       "      <td>0.000378</td>\n",
       "      <td>-0.001463</td>\n",
       "    </tr>\n",
       "    <tr>\n",
       "      <th>f2</th>\n",
       "      <td>0.000053</td>\n",
       "      <td>0.000378</td>\n",
       "      <td>1.000000</td>\n",
       "      <td>0.448463</td>\n",
       "    </tr>\n",
       "    <tr>\n",
       "      <th>product</th>\n",
       "      <td>-0.002464</td>\n",
       "      <td>-0.001463</td>\n",
       "      <td>0.448463</td>\n",
       "      <td>1.000000</td>\n",
       "    </tr>\n",
       "  </tbody>\n",
       "</table>\n",
       "</div>"
      ],
      "text/plain": [
       "               f0        f1        f2   product\n",
       "f0       1.000000  0.002493  0.000053 -0.002464\n",
       "f1       0.002493  1.000000  0.000378 -0.001463\n",
       "f2       0.000053  0.000378  1.000000  0.448463\n",
       "product -0.002464 -0.001463  0.448463  1.000000"
      ]
     },
     "execution_count": 32,
     "metadata": {},
     "output_type": "execute_result"
    }
   ],
   "source": [
    "geo_data_2[geo_data_2.columns].corr(method='spearman')"
   ]
  },
  {
   "cell_type": "markdown",
   "metadata": {},
   "source": [
    "Загрузил данные в датафреймы pandas. Изучил данные.\n",
    "Данные в таблицах соответствуют описанию. Дубликатов нет. Пропусков нет. Есть выбросы. Признаки распределены по разному. Несколько мод, некоторые признаки нормально распределены. Рспределены вокруг нуля. Признак (geo_data_1, 'f2') данные в основном положительные и стремятся к целым числам от 1 до 5. Целевые признаки распределины неномально - несколько мод. Очень высоких корреляций (0.9 +) не видно, скорее всего мультиколлинеарности нет. f2 сильно влияет на целевой признак. Остальные признаки слабее. "
   ]
  },
  {
   "cell_type": "markdown",
   "metadata": {},
   "source": [
    "## Обучение и проверка модели"
   ]
  },
  {
   "cell_type": "code",
   "execution_count": 33,
   "metadata": {},
   "outputs": [],
   "source": [
    "# Подготовка данных\n",
    "# признак 'id' уберем в индекс\n",
    "geo_data_0 = geo_data_0.set_index('id')\n",
    "geo_data_1 = geo_data_1.set_index('id')\n",
    "geo_data_2 = geo_data_2.set_index('id')"
   ]
  },
  {
   "cell_type": "code",
   "execution_count": 34,
   "metadata": {
    "scrolled": true
   },
   "outputs": [
    {
     "data": {
      "text/html": [
       "<div>\n",
       "<style scoped>\n",
       "    .dataframe tbody tr th:only-of-type {\n",
       "        vertical-align: middle;\n",
       "    }\n",
       "\n",
       "    .dataframe tbody tr th {\n",
       "        vertical-align: top;\n",
       "    }\n",
       "\n",
       "    .dataframe thead th {\n",
       "        text-align: right;\n",
       "    }\n",
       "</style>\n",
       "<table border=\"1\" class=\"dataframe\">\n",
       "  <thead>\n",
       "    <tr style=\"text-align: right;\">\n",
       "      <th></th>\n",
       "      <th>f0</th>\n",
       "      <th>f1</th>\n",
       "      <th>f2</th>\n",
       "      <th>product</th>\n",
       "    </tr>\n",
       "    <tr>\n",
       "      <th>id</th>\n",
       "      <th></th>\n",
       "      <th></th>\n",
       "      <th></th>\n",
       "      <th></th>\n",
       "    </tr>\n",
       "  </thead>\n",
       "  <tbody>\n",
       "    <tr>\n",
       "      <th>txEyH</th>\n",
       "      <td>0.705745</td>\n",
       "      <td>-0.497823</td>\n",
       "      <td>1.221170</td>\n",
       "      <td>105.280062</td>\n",
       "    </tr>\n",
       "    <tr>\n",
       "      <th>2acmU</th>\n",
       "      <td>1.334711</td>\n",
       "      <td>-0.340164</td>\n",
       "      <td>4.365080</td>\n",
       "      <td>73.037750</td>\n",
       "    </tr>\n",
       "    <tr>\n",
       "      <th>409Wp</th>\n",
       "      <td>1.022732</td>\n",
       "      <td>0.151990</td>\n",
       "      <td>1.419926</td>\n",
       "      <td>85.265647</td>\n",
       "    </tr>\n",
       "    <tr>\n",
       "      <th>iJLyR</th>\n",
       "      <td>-0.032172</td>\n",
       "      <td>0.139033</td>\n",
       "      <td>2.978566</td>\n",
       "      <td>168.620776</td>\n",
       "    </tr>\n",
       "    <tr>\n",
       "      <th>Xdl7t</th>\n",
       "      <td>1.988431</td>\n",
       "      <td>0.155413</td>\n",
       "      <td>4.751769</td>\n",
       "      <td>154.036647</td>\n",
       "    </tr>\n",
       "  </tbody>\n",
       "</table>\n",
       "</div>"
      ],
      "text/plain": [
       "             f0        f1        f2     product\n",
       "id                                             \n",
       "txEyH  0.705745 -0.497823  1.221170  105.280062\n",
       "2acmU  1.334711 -0.340164  4.365080   73.037750\n",
       "409Wp  1.022732  0.151990  1.419926   85.265647\n",
       "iJLyR -0.032172  0.139033  2.978566  168.620776\n",
       "Xdl7t  1.988431  0.155413  4.751769  154.036647"
      ]
     },
     "execution_count": 34,
     "metadata": {},
     "output_type": "execute_result"
    }
   ],
   "source": [
    "geo_data_0.head()"
   ]
  },
  {
   "cell_type": "code",
   "execution_count": 35,
   "metadata": {},
   "outputs": [],
   "source": [
    "# загружаем данные\n",
    "X_train_0, X_test_0, y_train_0, y_test_0 = train_test_split(\n",
    "    geo_data_0.drop('product', axis=1),\n",
    "    geo_data_0['product'],\n",
    "    test_size = TEST_SIZE, \n",
    "    random_state = RANDOM_STATE\n",
    ")"
   ]
  },
  {
   "cell_type": "code",
   "execution_count": 36,
   "metadata": {},
   "outputs": [
    {
     "name": "stdout",
     "output_type": "stream",
     "text": [
      "(75000, 3)\n"
     ]
    }
   ],
   "source": [
    "print(X_train_0.shape)"
   ]
  },
  {
   "cell_type": "code",
   "execution_count": 37,
   "metadata": {},
   "outputs": [],
   "source": [
    "X_train_1, X_test_1, y_train_1, y_test_1 = train_test_split(\n",
    "    geo_data_1.drop('product', axis=1),\n",
    "    geo_data_1['product'],\n",
    "    test_size = TEST_SIZE, \n",
    "    random_state = RANDOM_STATE\n",
    ")\n",
    "X_train_2, X_test_2, y_train_2, y_test_2 = train_test_split(\n",
    "    geo_data_2.drop('product', axis=1),\n",
    "    geo_data_2['product'],\n",
    "    test_size = TEST_SIZE, \n",
    "    random_state = RANDOM_STATE\n",
    ")"
   ]
  },
  {
   "cell_type": "code",
   "execution_count": 38,
   "metadata": {},
   "outputs": [],
   "source": [
    "# Обучаю модели для трез регионов\n",
    "model_0  = LinearRegression()\n",
    "model_0.fit(X_train_0, y_train_0)\n",
    "predictions_0 = model_0.predict(X_test_0)\n",
    "model_1  = LinearRegression()\n",
    "model_1.fit(X_train_1, y_train_1)\n",
    "predictions_1 = model_1.predict(X_test_1)\n",
    "model_2  = LinearRegression()\n",
    "model_2.fit(X_train_2, y_train_2)\n",
    "predictions_2 = model_2.predict(X_test_2)"
   ]
  },
  {
   "cell_type": "code",
   "execution_count": 39,
   "metadata": {},
   "outputs": [],
   "source": [
    "# Сохранил предсказания и правильные ответы на валидационной выборке.\n",
    "predictions_0 = pd.DataFrame(predictions_0)\n",
    "y_test_0 = pd.DataFrame(y_test_0).reset_index(drop=True).reset_index(drop=True)\n",
    "valid_sample_0 = y_test_0.join(predictions_0, how='left')\n",
    "valid_sample_0.columns = ['test','predictions']\n",
    "predictions_1 = pd.DataFrame(predictions_1)\n",
    "y_test_1 = pd.DataFrame(y_test_1).reset_index(drop=True).reset_index(drop=True)\n",
    "valid_sample_1 = y_test_1.join(predictions_1, how='left')\n",
    "valid_sample_1.columns = ['test','predictions']\n",
    "predictions_2 = pd.DataFrame(predictions_2)\n",
    "y_test_2 = pd.DataFrame(y_test_2).reset_index(drop=True).reset_index(drop=True)\n",
    "valid_sample_2 = y_test_2.join(predictions_2, how='left')\n",
    "valid_sample_2.columns = ['test','predictions']"
   ]
  },
  {
   "cell_type": "code",
   "execution_count": 40,
   "metadata": {},
   "outputs": [
    {
     "name": "stdout",
     "output_type": "stream",
     "text": [
      "92.39879990657768 68.71287803913762 94.77102387765939\n"
     ]
    }
   ],
   "source": [
    "# средний запас предсказанного сырья\n",
    "ave_stock_0 = valid_sample_0['predictions'].mean()\n",
    "ave_stock_1 = valid_sample_1['predictions'].mean()\n",
    "ave_stock_2 = valid_sample_2['predictions'].mean()\n",
    "print(ave_stock_0, ave_stock_1, ave_stock_2)"
   ]
  },
  {
   "cell_type": "code",
   "execution_count": 41,
   "metadata": {
    "scrolled": true
   },
   "outputs": [
    {
     "name": "stdout",
     "output_type": "stream",
     "text": [
      "37.75660035026169 0.8902801001028854 40.145872311342174\n"
     ]
    }
   ],
   "source": [
    "# RMSE\n",
    "rmse_0 = mean_squared_error(valid_sample_0['predictions'], valid_sample_0['test'], squared=False)\n",
    "rmse_1 = mean_squared_error(valid_sample_1['predictions'], valid_sample_1['test'], squared=False)\n",
    "rmse_2 = mean_squared_error(valid_sample_2['predictions'], valid_sample_2['test'], squared=False)\n",
    "print(rmse_0, rmse_1, rmse_2)"
   ]
  },
  {
   "cell_type": "markdown",
   "metadata": {},
   "source": [
    "Обучил модель для каждого региона. Средние предсказания добычи в регионах соответственно 92, 68и 94. А метрика RMSE: 37, 0.8 и 40. Модель для второго региона предсказывает добычу гораздо точнее. Средние значение также у второго региона меньше, чем у первого и третьего."
   ]
  },
  {
   "cell_type": "markdown",
   "metadata": {},
   "source": [
    "## Подготовка к расчёту прибыли"
   ]
  },
  {
   "cell_type": "code",
   "execution_count": 42,
   "metadata": {},
   "outputs": [],
   "source": [
    "budget = 10_000_000_000 #Бюджет на разработку скважин в регионе\n",
    "total_wells = 500  # разведке региона 500 скважен\n",
    "needed_wells = 200 # разработка 200 скважен\n",
    "cost_barrel_k  = 450_000 # стомость тысяци барелей - 450000 рублей"
   ]
  },
  {
   "cell_type": "code",
   "execution_count": 43,
   "metadata": {},
   "outputs": [
    {
     "data": {
      "text/plain": [
       "111.11111111111111"
      ]
     },
     "execution_count": 43,
     "metadata": {},
     "output_type": "execute_result"
    }
   ],
   "source": [
    "# достаточный объём сырья для безубыточной разработки новой скважины\n",
    "budget/cost_barrel_k/needed_wells"
   ]
  },
  {
   "cell_type": "markdown",
   "metadata": {},
   "source": [
    "Сохранил ключевые значения для расчётов. Вычеслил достаточный объём сырья для безубыточной разработки новой скважины = 111. Если сравнить со средними предсказаными значениеми, то видим, что достаточный обьем больше чем средние значение. Это означает, что разробатывать наугад скважены не получится. Для этого и применяем выбор с помощью машинного обучения."
   ]
  },
  {
   "cell_type": "markdown",
   "metadata": {},
   "source": [
    "<div class=\"alert alert-block alert-success\">\n",
    "<b>Успех:</b> Значение для безубыточной разработки посчитано верно, с выводом согласен  \n",
    "</div>\n"
   ]
  },
  {
   "cell_type": "markdown",
   "metadata": {},
   "source": [
    "## Расчёт прибыли и рисков "
   ]
  },
  {
   "cell_type": "code",
   "execution_count": 44,
   "metadata": {},
   "outputs": [],
   "source": [
    "# Написал функцию для расчёта прибыли по выбранным скважинам и предсказаниям модели\n",
    "def profit(subsample):\n",
    "    sort_subsample = subsample.sort_values(by='predictions', ascending=False)[:needed_wells]\n",
    "    profit_subsample = sum(sort_subsample['test']) * cost_barrel_k - budget\n",
    "    return profit_subsample"
   ]
  },
  {
   "cell_type": "code",
   "execution_count": 45,
   "metadata": {},
   "outputs": [
    {
     "data": {
      "text/plain": [
       "25000"
      ]
     },
     "execution_count": 45,
     "metadata": {},
     "output_type": "execute_result"
    }
   ],
   "source": [
    "len(valid_sample_0)"
   ]
  },
  {
   "cell_type": "code",
   "execution_count": 46,
   "metadata": {},
   "outputs": [],
   "source": [
    "# техника Bootstrap с 1000 выборок, чтобы найти распределение прибыли для первого региона\n",
    "state = np.random.RandomState(12345)\n",
    "values = []\n",
    "for i in range(1000):\n",
    "    wells_subsample = valid_sample_0.sample(frac=total_wells/len(valid_sample_0), replace=True, random_state=state)\n",
    "    profit_wells = profit(wells_subsample)\n",
    "    values.append(profit_wells)\n",
    "values = pd.Series(values)"
   ]
  },
  {
   "cell_type": "code",
   "execution_count": 47,
   "metadata": {},
   "outputs": [
    {
     "data": {
      "text/plain": [
       "406278783.4244191"
      ]
     },
     "execution_count": 47,
     "metadata": {},
     "output_type": "execute_result"
    }
   ],
   "source": [
    "# средняя прибыль\n",
    "values.mean()"
   ]
  },
  {
   "cell_type": "code",
   "execution_count": 48,
   "metadata": {},
   "outputs": [
    {
     "name": "stdout",
     "output_type": "stream",
     "text": [
      "-117742136.49486841\n",
      "911737050.7514111\n"
     ]
    }
   ],
   "source": [
    "# 95%-й доверительный интервал\n",
    "lower = values.quantile(0.025)\n",
    "upper = values.quantile(0.975)\n",
    "print(lower)\n",
    "print(upper)"
   ]
  },
  {
   "cell_type": "code",
   "execution_count": 49,
   "metadata": {},
   "outputs": [
    {
     "data": {
      "text/plain": [
       "6.7"
      ]
     },
     "execution_count": 49,
     "metadata": {},
     "output_type": "execute_result"
    }
   ],
   "source": [
    "# риск убытков\n",
    "st.percentileofscore(values, 0)"
   ]
  },
  {
   "cell_type": "code",
   "execution_count": 50,
   "metadata": {},
   "outputs": [],
   "source": [
    "# техника Bootstrap с 1000 выборок, чтобы найти распределение прибыли для второго региона\n",
    "state = np.random.RandomState(12345)\n",
    "values = []\n",
    "for i in range(1000):\n",
    "    wells_subsample = valid_sample_1.sample(frac=total_wells/len(valid_sample_1), replace=True, random_state=state)\n",
    "    profit_wells = profit(wells_subsample)\n",
    "    values.append(profit_wells)\n",
    "values = pd.Series(values)"
   ]
  },
  {
   "cell_type": "code",
   "execution_count": 51,
   "metadata": {},
   "outputs": [
    {
     "data": {
      "text/plain": [
       "432624131.81315905"
      ]
     },
     "execution_count": 51,
     "metadata": {},
     "output_type": "execute_result"
    }
   ],
   "source": [
    "# средняя прибыль\n",
    "values.mean()"
   ]
  },
  {
   "cell_type": "code",
   "execution_count": 52,
   "metadata": {},
   "outputs": [
    {
     "name": "stdout",
     "output_type": "stream",
     "text": [
      "16846174.93243599\n",
      "815972526.2857761\n"
     ]
    }
   ],
   "source": [
    "# 95%-й доверительный интервал\n",
    "lower = values.quantile(0.025)\n",
    "upper = values.quantile(0.975)\n",
    "print(lower)\n",
    "print(upper)"
   ]
  },
  {
   "cell_type": "code",
   "execution_count": 53,
   "metadata": {},
   "outputs": [
    {
     "data": {
      "text/plain": [
       "1.9"
      ]
     },
     "execution_count": 53,
     "metadata": {},
     "output_type": "execute_result"
    }
   ],
   "source": [
    "# риск убытков\n",
    "st.percentileofscore(values, 0)"
   ]
  },
  {
   "cell_type": "code",
   "execution_count": 54,
   "metadata": {},
   "outputs": [],
   "source": [
    "# техника Bootstrap с 1000 выборок, чтобы найти распределение прибыли для третьего региона\n",
    "state = np.random.RandomState(12345)\n",
    "values = []\n",
    "for i in range(1000):\n",
    "    wells_subsample = valid_sample_2.sample(frac=total_wells/len(valid_sample_2), replace=True, random_state=state)\n",
    "    profit_wells = profit(wells_subsample)\n",
    "    values.append(profit_wells)\n",
    "values = pd.Series(values)"
   ]
  },
  {
   "cell_type": "code",
   "execution_count": 55,
   "metadata": {},
   "outputs": [
    {
     "data": {
      "text/plain": [
       "377362192.4229155"
      ]
     },
     "execution_count": 55,
     "metadata": {},
     "output_type": "execute_result"
    }
   ],
   "source": [
    "# средняя прибыль\n",
    "values.mean()"
   ]
  },
  {
   "cell_type": "code",
   "execution_count": 56,
   "metadata": {},
   "outputs": [
    {
     "name": "stdout",
     "output_type": "stream",
     "text": [
      "-170780417.7057291\n",
      "901772131.3864453\n"
     ]
    }
   ],
   "source": [
    "# 95%-й доверительный интервал\n",
    "lower = values.quantile(0.025)\n",
    "upper = values.quantile(0.975)\n",
    "print(lower)\n",
    "print(upper)"
   ]
  },
  {
   "cell_type": "code",
   "execution_count": 57,
   "metadata": {},
   "outputs": [
    {
     "data": {
      "text/plain": [
       "7.4"
      ]
     },
     "execution_count": 57,
     "metadata": {},
     "output_type": "execute_result"
    }
   ],
   "source": [
    "# риск убытков\n",
    "st.percentileofscore(values, 0)"
   ]
  },
  {
   "cell_type": "markdown",
   "metadata": {},
   "source": [
    "Посчитал риски и прибыль для каждого региона, а также  95%-й доверительный интервал. Выбираем регионы, вероятность убытков меньше 2.5%. Риски в регионах соответственно 6.7%, 1.9% и 7.4%.Подходит только один регион. Выбираю второй регион с 432кк средней прибылью."
   ]
  },
  {
   "cell_type": "markdown",
   "metadata": {},
   "source": [
    "# Общий вывод"
   ]
  },
  {
   "cell_type": "markdown",
   "metadata": {},
   "source": [
    "Целями проекта являются: \n",
    "* постройть модель для определения региона, где добыча принесёт наибольшую прибыль\n",
    "* проанализировать возможную прибыль и риски техникой Bootstrap.\n",
    "Я загрузил данные в датафреймы pandas. Изучил данные. \n",
    "\n",
    "Данные в таблицах соответствуют описанию. Дубликатов нет. Пропусков нет. Есть выбросы. Признаки распределены по разному. Несколько мод, некоторые признаки нормально распределены. Рспределены вокруг нуля. Признак (geo_data_1, 'f2') данные в основном положительные и стремятся к целым числам от 1 до 5. Целевые признаки распределины неномально - несколько мод. Очень высоких корреляций (0.9 +) не видно, скорее всего мультиколлинеарности нет. f2 сильно влияет на целевой признак. Остальные признаки слабее. \n",
    "\n",
    "Обучил модель для каждого региона. Средние предсказания добычи в регионах соответственно 92, 68и 94. А метрика RMSE: 37, 0.8 и 40. Модель для второго региона предсказывает добычу гораздо точнее. Средние значение также у второго региона меньше, чем у первого и третьего.\n",
    "\n",
    "Посчитал риски и прибыль для каждого региона, а также  95%-й доверительный интервал. Выбираем регионы, вероятность убытков меньше 2.5%. Риски в регионах соответственно 6.7%, 1.9% и 7.4%.Подходит только один регион. Выбираю второй регион с 432кк средней прибылью."
   ]
  }
 ],
 "metadata": {
  "ExecuteTimeLog": [
   {
    "duration": 1257,
    "start_time": "2024-03-04T07:07:12.924Z"
   },
   {
    "duration": 3,
    "start_time": "2024-03-04T07:07:36.844Z"
   },
   {
    "duration": 749,
    "start_time": "2024-03-04T07:08:46.176Z"
   },
   {
    "duration": 13,
    "start_time": "2024-03-04T07:09:17.894Z"
   },
   {
    "duration": 4,
    "start_time": "2024-03-04T07:10:13.951Z"
   },
   {
    "duration": 15,
    "start_time": "2024-03-04T07:10:18.679Z"
   },
   {
    "duration": 8,
    "start_time": "2024-03-04T07:11:02.635Z"
   },
   {
    "duration": 3,
    "start_time": "2024-03-04T07:11:19.219Z"
   },
   {
    "duration": 13,
    "start_time": "2024-03-04T07:11:22.816Z"
   },
   {
    "duration": 8,
    "start_time": "2024-03-04T07:11:27.544Z"
   },
   {
    "duration": 4,
    "start_time": "2024-03-04T07:11:30.512Z"
   },
   {
    "duration": 13,
    "start_time": "2024-03-04T07:11:32.272Z"
   },
   {
    "duration": 115,
    "start_time": "2024-03-04T07:13:35.193Z"
   },
   {
    "duration": 6,
    "start_time": "2024-03-04T07:17:47.908Z"
   },
   {
    "duration": 9,
    "start_time": "2024-03-04T07:17:53.675Z"
   },
   {
    "duration": 7,
    "start_time": "2024-03-04T07:17:57.555Z"
   },
   {
    "duration": 7,
    "start_time": "2024-03-04T07:18:02.860Z"
   },
   {
    "duration": 7,
    "start_time": "2024-03-04T07:18:07.549Z"
   },
   {
    "duration": 7,
    "start_time": "2024-03-04T07:18:12.411Z"
   },
   {
    "duration": 7,
    "start_time": "2024-03-04T07:18:17.731Z"
   },
   {
    "duration": 7,
    "start_time": "2024-03-04T07:18:21.267Z"
   },
   {
    "duration": 98,
    "start_time": "2024-03-04T07:24:16.184Z"
   },
   {
    "duration": 960,
    "start_time": "2024-03-04T07:29:55.340Z"
   },
   {
    "duration": 1067,
    "start_time": "2024-03-04T07:32:21.742Z"
   },
   {
    "duration": 5,
    "start_time": "2024-03-04T07:32:25.749Z"
   },
   {
    "duration": 855,
    "start_time": "2024-03-04T07:33:21.063Z"
   },
   {
    "duration": 1157,
    "start_time": "2024-03-04T07:33:24.214Z"
   },
   {
    "duration": 1006,
    "start_time": "2024-03-04T07:33:57.294Z"
   },
   {
    "duration": 1166,
    "start_time": "2024-03-04T07:34:00.201Z"
   },
   {
    "duration": 829,
    "start_time": "2024-03-04T07:34:03.400Z"
   },
   {
    "duration": 1143,
    "start_time": "2024-03-04T07:37:00.449Z"
   },
   {
    "duration": 1286,
    "start_time": "2024-03-04T07:37:04.283Z"
   },
   {
    "duration": 1124,
    "start_time": "2024-03-04T07:37:08.208Z"
   },
   {
    "duration": 35,
    "start_time": "2024-03-04T07:41:00.876Z"
   },
   {
    "duration": 32,
    "start_time": "2024-03-04T07:41:30.756Z"
   },
   {
    "duration": 33,
    "start_time": "2024-03-04T07:41:32.495Z"
   },
   {
    "duration": 910,
    "start_time": "2024-03-04T07:44:36.044Z"
   },
   {
    "duration": 882,
    "start_time": "2024-03-04T07:44:51.350Z"
   },
   {
    "duration": 1014,
    "start_time": "2024-03-04T07:45:05.119Z"
   },
   {
    "duration": 2,
    "start_time": "2024-03-04T07:46:30.856Z"
   },
   {
    "duration": 12,
    "start_time": "2024-03-04T07:47:50.593Z"
   },
   {
    "duration": 75,
    "start_time": "2024-03-04T07:48:10.592Z"
   },
   {
    "duration": 63,
    "start_time": "2024-03-04T07:48:49.233Z"
   },
   {
    "duration": 71,
    "start_time": "2024-03-04T07:49:14.242Z"
   },
   {
    "duration": 9,
    "start_time": "2024-03-04T07:53:52.885Z"
   },
   {
    "duration": 19,
    "start_time": "2024-03-04T07:53:55.252Z"
   },
   {
    "duration": 9,
    "start_time": "2024-03-04T07:53:56.804Z"
   },
   {
    "duration": 215,
    "start_time": "2024-03-04T10:15:54.671Z"
   },
   {
    "duration": 43,
    "start_time": "2024-03-04T10:16:32.254Z"
   },
   {
    "duration": 11,
    "start_time": "2024-03-04T10:16:41.767Z"
   },
   {
    "duration": 5,
    "start_time": "2024-03-04T10:17:58.487Z"
   },
   {
    "duration": 6,
    "start_time": "2024-03-04T10:18:16.839Z"
   },
   {
    "duration": 3,
    "start_time": "2024-03-04T10:18:28.679Z"
   },
   {
    "duration": 89,
    "start_time": "2024-03-04T10:19:17.872Z"
   },
   {
    "duration": 67,
    "start_time": "2024-03-05T07:03:29.518Z"
   },
   {
    "duration": 1720,
    "start_time": "2024-03-05T07:03:47.240Z"
   },
   {
    "duration": 3,
    "start_time": "2024-03-05T07:03:48.962Z"
   },
   {
    "duration": 1613,
    "start_time": "2024-03-05T07:03:48.967Z"
   },
   {
    "duration": 19,
    "start_time": "2024-03-05T07:03:50.582Z"
   },
   {
    "duration": 7,
    "start_time": "2024-03-05T07:03:50.605Z"
   },
   {
    "duration": 27,
    "start_time": "2024-03-05T07:03:50.617Z"
   },
   {
    "duration": 9,
    "start_time": "2024-03-05T07:03:50.649Z"
   },
   {
    "duration": 3,
    "start_time": "2024-03-05T07:03:50.680Z"
   },
   {
    "duration": 21,
    "start_time": "2024-03-05T07:03:50.685Z"
   },
   {
    "duration": 9,
    "start_time": "2024-03-05T07:03:50.708Z"
   },
   {
    "duration": 12,
    "start_time": "2024-03-05T07:03:50.719Z"
   },
   {
    "duration": 52,
    "start_time": "2024-03-05T07:03:50.733Z"
   },
   {
    "duration": 138,
    "start_time": "2024-03-05T07:03:50.787Z"
   },
   {
    "duration": 5,
    "start_time": "2024-03-05T07:03:50.927Z"
   },
   {
    "duration": 1162,
    "start_time": "2024-03-05T07:03:50.934Z"
   },
   {
    "duration": 1020,
    "start_time": "2024-03-05T07:03:52.099Z"
   },
   {
    "duration": 1377,
    "start_time": "2024-03-05T07:03:53.121Z"
   },
   {
    "duration": 1168,
    "start_time": "2024-03-05T07:03:54.500Z"
   },
   {
    "duration": 1282,
    "start_time": "2024-03-05T07:03:55.669Z"
   },
   {
    "duration": 969,
    "start_time": "2024-03-05T07:03:56.953Z"
   },
   {
    "duration": 1538,
    "start_time": "2024-03-05T07:03:57.923Z"
   },
   {
    "duration": 1277,
    "start_time": "2024-03-05T07:03:59.463Z"
   },
   {
    "duration": 1229,
    "start_time": "2024-03-05T07:04:00.742Z"
   },
   {
    "duration": 45,
    "start_time": "2024-03-05T07:04:01.973Z"
   },
   {
    "duration": 403,
    "start_time": "2024-03-05T07:04:02.020Z"
   },
   {
    "duration": 138,
    "start_time": "2024-03-05T07:04:02.425Z"
   },
   {
    "duration": 1271,
    "start_time": "2024-03-05T07:04:02.565Z"
   },
   {
    "duration": 1174,
    "start_time": "2024-03-05T07:04:03.839Z"
   },
   {
    "duration": 1011,
    "start_time": "2024-03-05T07:04:05.015Z"
   },
   {
    "duration": 87,
    "start_time": "2024-03-05T07:04:06.028Z"
   },
   {
    "duration": 77,
    "start_time": "2024-03-05T07:04:06.117Z"
   },
   {
    "duration": 85,
    "start_time": "2024-03-05T07:04:06.196Z"
   },
   {
    "duration": 27,
    "start_time": "2024-03-05T07:04:06.283Z"
   },
   {
    "duration": 10,
    "start_time": "2024-03-05T07:04:06.312Z"
   },
   {
    "duration": 80,
    "start_time": "2024-03-05T07:04:06.324Z"
   },
   {
    "duration": 4,
    "start_time": "2024-03-05T07:04:06.405Z"
   },
   {
    "duration": 135,
    "start_time": "2024-03-05T07:04:06.410Z"
   },
   {
    "duration": 311,
    "start_time": "2024-03-05T07:04:06.547Z"
   },
   {
    "duration": 15,
    "start_time": "2024-03-05T07:04:19.754Z"
   },
   {
    "duration": 21,
    "start_time": "2024-03-05T07:05:31.819Z"
   },
   {
    "duration": 5,
    "start_time": "2024-03-05T07:05:36.883Z"
   },
   {
    "duration": 5,
    "start_time": "2024-03-05T07:05:52.421Z"
   },
   {
    "duration": 9,
    "start_time": "2024-03-05T07:07:06.229Z"
   },
   {
    "duration": 3,
    "start_time": "2024-03-05T07:07:21.870Z"
   },
   {
    "duration": 10,
    "start_time": "2024-03-05T07:07:31.205Z"
   },
   {
    "duration": 4,
    "start_time": "2024-03-05T07:10:14.350Z"
   },
   {
    "duration": 158,
    "start_time": "2024-03-05T07:13:10.224Z"
   },
   {
    "duration": 100,
    "start_time": "2024-03-05T07:40:18.997Z"
   },
   {
    "duration": 4,
    "start_time": "2024-03-05T07:41:19.682Z"
   },
   {
    "duration": 4,
    "start_time": "2024-03-05T07:42:18.383Z"
   },
   {
    "duration": 14,
    "start_time": "2024-03-05T07:43:06.727Z"
   },
   {
    "duration": 3,
    "start_time": "2024-03-05T08:03:19.246Z"
   },
   {
    "duration": 4,
    "start_time": "2024-03-05T08:03:24.774Z"
   },
   {
    "duration": 4,
    "start_time": "2024-03-05T08:03:46.413Z"
   },
   {
    "duration": 4,
    "start_time": "2024-03-05T08:06:10.073Z"
   },
   {
    "duration": 50,
    "start_time": "2024-03-10T13:48:44.634Z"
   },
   {
    "duration": 1676,
    "start_time": "2024-03-10T13:48:54.002Z"
   },
   {
    "duration": 3,
    "start_time": "2024-03-10T13:48:55.680Z"
   },
   {
    "duration": 1624,
    "start_time": "2024-03-10T13:48:55.685Z"
   },
   {
    "duration": 14,
    "start_time": "2024-03-10T13:48:57.311Z"
   },
   {
    "duration": 27,
    "start_time": "2024-03-10T13:48:57.326Z"
   },
   {
    "duration": 21,
    "start_time": "2024-03-10T13:48:57.355Z"
   },
   {
    "duration": 18,
    "start_time": "2024-03-10T13:48:57.378Z"
   },
   {
    "duration": 12,
    "start_time": "2024-03-10T13:48:57.398Z"
   },
   {
    "duration": 18,
    "start_time": "2024-03-10T13:48:57.412Z"
   },
   {
    "duration": 16,
    "start_time": "2024-03-10T13:48:57.433Z"
   },
   {
    "duration": 11,
    "start_time": "2024-03-10T13:48:57.450Z"
   },
   {
    "duration": 23,
    "start_time": "2024-03-10T13:48:57.462Z"
   },
   {
    "duration": 140,
    "start_time": "2024-03-10T13:48:57.486Z"
   },
   {
    "duration": 6,
    "start_time": "2024-03-10T13:48:57.628Z"
   },
   {
    "duration": 1065,
    "start_time": "2024-03-10T13:48:57.636Z"
   },
   {
    "duration": 1020,
    "start_time": "2024-03-10T13:48:58.703Z"
   },
   {
    "duration": 1346,
    "start_time": "2024-03-10T13:48:59.725Z"
   },
   {
    "duration": 1124,
    "start_time": "2024-03-10T13:49:01.073Z"
   },
   {
    "duration": 1253,
    "start_time": "2024-03-10T13:49:02.199Z"
   },
   {
    "duration": 931,
    "start_time": "2024-03-10T13:49:03.454Z"
   },
   {
    "duration": 1439,
    "start_time": "2024-03-10T13:49:04.391Z"
   },
   {
    "duration": 1230,
    "start_time": "2024-03-10T13:49:05.832Z"
   },
   {
    "duration": 1200,
    "start_time": "2024-03-10T13:49:07.064Z"
   },
   {
    "duration": 45,
    "start_time": "2024-03-10T13:49:08.265Z"
   },
   {
    "duration": 38,
    "start_time": "2024-03-10T13:49:08.311Z"
   },
   {
    "duration": 60,
    "start_time": "2024-03-10T13:49:08.350Z"
   },
   {
    "duration": 1027,
    "start_time": "2024-03-10T13:49:08.412Z"
   },
   {
    "duration": 1065,
    "start_time": "2024-03-10T13:49:09.442Z"
   },
   {
    "duration": 1046,
    "start_time": "2024-03-10T13:49:10.509Z"
   },
   {
    "duration": 100,
    "start_time": "2024-03-10T13:49:11.557Z"
   },
   {
    "duration": 74,
    "start_time": "2024-03-10T13:49:11.659Z"
   },
   {
    "duration": 83,
    "start_time": "2024-03-10T13:49:11.734Z"
   },
   {
    "duration": 17,
    "start_time": "2024-03-10T13:49:11.818Z"
   },
   {
    "duration": 9,
    "start_time": "2024-03-10T13:49:11.837Z"
   },
   {
    "duration": 61,
    "start_time": "2024-03-10T13:49:11.847Z"
   },
   {
    "duration": 4,
    "start_time": "2024-03-10T13:49:11.909Z"
   },
   {
    "duration": 100,
    "start_time": "2024-03-10T13:49:11.914Z"
   },
   {
    "duration": 280,
    "start_time": "2024-03-10T13:49:12.016Z"
   },
   {
    "duration": 101,
    "start_time": "2024-03-10T13:49:12.298Z"
   },
   {
    "duration": 18,
    "start_time": "2024-03-10T13:49:12.492Z"
   },
   {
    "duration": 4,
    "start_time": "2024-03-10T13:49:12.513Z"
   },
   {
    "duration": 11,
    "start_time": "2024-03-10T13:49:12.518Z"
   },
   {
    "duration": 14,
    "start_time": "2024-03-10T13:49:12.531Z"
   },
   {
    "duration": 115,
    "start_time": "2024-03-10T13:49:12.546Z"
   },
   {
    "duration": 114,
    "start_time": "2024-03-10T13:49:26.402Z"
   },
   {
    "duration": 9,
    "start_time": "2024-03-10T13:49:33.767Z"
   },
   {
    "duration": 13,
    "start_time": "2024-03-10T13:54:15.942Z"
   },
   {
    "duration": 4,
    "start_time": "2024-03-10T13:56:18.485Z"
   },
   {
    "duration": 8,
    "start_time": "2024-03-10T13:56:35.421Z"
   },
   {
    "duration": 4,
    "start_time": "2024-03-10T14:01:32.009Z"
   },
   {
    "duration": 10,
    "start_time": "2024-03-10T14:01:44.224Z"
   },
   {
    "duration": 4,
    "start_time": "2024-03-10T14:02:15.740Z"
   },
   {
    "duration": 9,
    "start_time": "2024-03-10T14:04:11.420Z"
   },
   {
    "duration": 8,
    "start_time": "2024-03-10T14:04:28.468Z"
   },
   {
    "duration": 11,
    "start_time": "2024-03-10T14:04:31.571Z"
   },
   {
    "duration": 9,
    "start_time": "2024-03-10T14:09:21.838Z"
   },
   {
    "duration": 4,
    "start_time": "2024-03-10T14:09:31.357Z"
   },
   {
    "duration": 5,
    "start_time": "2024-03-10T14:10:50.560Z"
   },
   {
    "duration": 4,
    "start_time": "2024-03-10T14:12:13.433Z"
   },
   {
    "duration": 9,
    "start_time": "2024-03-10T14:14:08.746Z"
   },
   {
    "duration": 9,
    "start_time": "2024-03-10T14:14:20.474Z"
   },
   {
    "duration": 4,
    "start_time": "2024-03-10T14:14:27.154Z"
   },
   {
    "duration": 6,
    "start_time": "2024-03-10T14:14:54.139Z"
   },
   {
    "duration": 6,
    "start_time": "2024-03-10T14:15:21.413Z"
   },
   {
    "duration": 17,
    "start_time": "2024-03-10T14:15:26.091Z"
   },
   {
    "duration": 17,
    "start_time": "2024-03-10T14:15:38.699Z"
   },
   {
    "duration": 14,
    "start_time": "2024-03-10T14:16:21.593Z"
   },
   {
    "duration": 6,
    "start_time": "2024-03-10T14:16:40.770Z"
   },
   {
    "duration": 20,
    "start_time": "2024-03-10T14:16:49.527Z"
   },
   {
    "duration": 28,
    "start_time": "2024-03-10T17:45:15.937Z"
   },
   {
    "duration": 8,
    "start_time": "2024-03-10T17:46:05.256Z"
   },
   {
    "duration": 3,
    "start_time": "2024-03-10T18:32:45.901Z"
   },
   {
    "duration": 1530,
    "start_time": "2024-03-11T18:49:53.964Z"
   },
   {
    "duration": 3,
    "start_time": "2024-03-11T18:49:55.496Z"
   },
   {
    "duration": 777,
    "start_time": "2024-03-11T18:49:55.500Z"
   },
   {
    "duration": 12,
    "start_time": "2024-03-11T18:49:56.279Z"
   },
   {
    "duration": 3,
    "start_time": "2024-03-11T18:49:56.294Z"
   },
   {
    "duration": 31,
    "start_time": "2024-03-11T18:49:56.299Z"
   },
   {
    "duration": 8,
    "start_time": "2024-03-11T18:49:56.332Z"
   },
   {
    "duration": 4,
    "start_time": "2024-03-11T18:49:56.341Z"
   },
   {
    "duration": 18,
    "start_time": "2024-03-11T18:49:56.347Z"
   },
   {
    "duration": 8,
    "start_time": "2024-03-11T18:49:56.367Z"
   },
   {
    "duration": 8,
    "start_time": "2024-03-11T18:49:56.376Z"
   },
   {
    "duration": 34,
    "start_time": "2024-03-11T18:49:56.385Z"
   },
   {
    "duration": 128,
    "start_time": "2024-03-11T18:49:56.420Z"
   },
   {
    "duration": 5,
    "start_time": "2024-03-11T18:49:56.550Z"
   },
   {
    "duration": 929,
    "start_time": "2024-03-11T18:49:56.556Z"
   },
   {
    "duration": 961,
    "start_time": "2024-03-11T18:49:57.486Z"
   },
   {
    "duration": 1216,
    "start_time": "2024-03-11T18:49:58.449Z"
   },
   {
    "duration": 1024,
    "start_time": "2024-03-11T18:49:59.666Z"
   },
   {
    "duration": 1190,
    "start_time": "2024-03-11T18:50:00.691Z"
   },
   {
    "duration": 890,
    "start_time": "2024-03-11T18:50:01.882Z"
   },
   {
    "duration": 1334,
    "start_time": "2024-03-11T18:50:02.774Z"
   },
   {
    "duration": 1169,
    "start_time": "2024-03-11T18:50:04.110Z"
   },
   {
    "duration": 1167,
    "start_time": "2024-03-11T18:50:05.280Z"
   },
   {
    "duration": 41,
    "start_time": "2024-03-11T18:50:06.449Z"
   },
   {
    "duration": 32,
    "start_time": "2024-03-11T18:50:06.492Z"
   },
   {
    "duration": 41,
    "start_time": "2024-03-11T18:50:06.526Z"
   },
   {
    "duration": 992,
    "start_time": "2024-03-11T18:50:06.569Z"
   },
   {
    "duration": 884,
    "start_time": "2024-03-11T18:50:07.564Z"
   },
   {
    "duration": 904,
    "start_time": "2024-03-11T18:50:08.449Z"
   },
   {
    "duration": 74,
    "start_time": "2024-03-11T18:50:09.355Z"
   },
   {
    "duration": 71,
    "start_time": "2024-03-11T18:50:09.431Z"
   },
   {
    "duration": 70,
    "start_time": "2024-03-11T18:50:09.503Z"
   },
   {
    "duration": 16,
    "start_time": "2024-03-11T18:50:09.574Z"
   },
   {
    "duration": 8,
    "start_time": "2024-03-11T18:50:09.591Z"
   },
   {
    "duration": 56,
    "start_time": "2024-03-11T18:50:09.600Z"
   },
   {
    "duration": 9,
    "start_time": "2024-03-11T18:50:09.657Z"
   },
   {
    "duration": 84,
    "start_time": "2024-03-11T18:50:09.668Z"
   },
   {
    "duration": 204,
    "start_time": "2024-03-11T18:50:09.764Z"
   },
   {
    "duration": 4,
    "start_time": "2024-03-11T18:50:09.970Z"
   },
   {
    "duration": 102,
    "start_time": "2024-03-11T18:50:09.977Z"
   },
   {
    "duration": 4,
    "start_time": "2024-03-11T18:50:10.083Z"
   },
   {
    "duration": 78,
    "start_time": "2024-03-11T18:50:10.088Z"
   },
   {
    "duration": 18,
    "start_time": "2024-03-11T18:50:10.168Z"
   },
   {
    "duration": 5,
    "start_time": "2024-03-11T18:50:10.187Z"
   },
   {
    "duration": 120,
    "start_time": "2024-03-11T18:50:10.193Z"
   },
   {
    "duration": 24,
    "start_time": "2024-03-11T19:10:21.312Z"
   },
   {
    "duration": 1245,
    "start_time": "2024-03-11T19:11:25.271Z"
   },
   {
    "duration": 702,
    "start_time": "2024-03-11T19:12:31.744Z"
   },
   {
    "duration": 16,
    "start_time": "2024-03-11T19:14:47.395Z"
   },
   {
    "duration": 5,
    "start_time": "2024-03-11T19:15:44.962Z"
   },
   {
    "duration": 11,
    "start_time": "2024-03-11T19:22:59.183Z"
   },
   {
    "duration": 10,
    "start_time": "2024-03-11T19:24:51.448Z"
   },
   {
    "duration": 11,
    "start_time": "2024-03-11T19:25:00.640Z"
   },
   {
    "duration": 3,
    "start_time": "2024-03-11T19:25:11.560Z"
   },
   {
    "duration": 9,
    "start_time": "2024-03-11T19:25:13.423Z"
   },
   {
    "duration": 8,
    "start_time": "2024-03-11T19:25:30.833Z"
   },
   {
    "duration": 9,
    "start_time": "2024-03-11T19:25:44.264Z"
   },
   {
    "duration": 1357,
    "start_time": "2024-03-11T19:32:31.962Z"
   },
   {
    "duration": 2,
    "start_time": "2024-03-11T19:32:33.321Z"
   },
   {
    "duration": 387,
    "start_time": "2024-03-11T19:32:33.325Z"
   },
   {
    "duration": 12,
    "start_time": "2024-03-11T19:32:33.714Z"
   },
   {
    "duration": 3,
    "start_time": "2024-03-11T19:32:33.728Z"
   },
   {
    "duration": 20,
    "start_time": "2024-03-11T19:32:33.733Z"
   },
   {
    "duration": 12,
    "start_time": "2024-03-11T19:32:33.765Z"
   },
   {
    "duration": 14,
    "start_time": "2024-03-11T19:32:33.779Z"
   },
   {
    "duration": 16,
    "start_time": "2024-03-11T19:32:33.794Z"
   },
   {
    "duration": 14,
    "start_time": "2024-03-11T19:32:33.812Z"
   },
   {
    "duration": 7,
    "start_time": "2024-03-11T19:32:33.827Z"
   },
   {
    "duration": 14,
    "start_time": "2024-03-11T19:32:33.836Z"
   },
   {
    "duration": 134,
    "start_time": "2024-03-11T19:32:33.866Z"
   },
   {
    "duration": 4,
    "start_time": "2024-03-11T19:32:34.003Z"
   },
   {
    "duration": 1105,
    "start_time": "2024-03-11T19:32:34.009Z"
   },
   {
    "duration": 877,
    "start_time": "2024-03-11T19:32:35.116Z"
   },
   {
    "duration": 1191,
    "start_time": "2024-03-11T19:32:35.995Z"
   },
   {
    "duration": 1045,
    "start_time": "2024-03-11T19:32:37.187Z"
   },
   {
    "duration": 1181,
    "start_time": "2024-03-11T19:32:38.234Z"
   },
   {
    "duration": 889,
    "start_time": "2024-03-11T19:32:39.417Z"
   },
   {
    "duration": 1287,
    "start_time": "2024-03-11T19:32:40.308Z"
   },
   {
    "duration": 1181,
    "start_time": "2024-03-11T19:32:41.597Z"
   },
   {
    "duration": 1145,
    "start_time": "2024-03-11T19:32:42.780Z"
   },
   {
    "duration": 41,
    "start_time": "2024-03-11T19:32:43.926Z"
   },
   {
    "duration": 32,
    "start_time": "2024-03-11T19:32:43.968Z"
   },
   {
    "duration": 31,
    "start_time": "2024-03-11T19:32:44.001Z"
   },
   {
    "duration": 889,
    "start_time": "2024-03-11T19:32:44.034Z"
   },
   {
    "duration": 870,
    "start_time": "2024-03-11T19:32:44.924Z"
   },
   {
    "duration": 1004,
    "start_time": "2024-03-11T19:32:45.795Z"
   },
   {
    "duration": 75,
    "start_time": "2024-03-11T19:32:46.800Z"
   },
   {
    "duration": 61,
    "start_time": "2024-03-11T19:32:46.876Z"
   },
   {
    "duration": 81,
    "start_time": "2024-03-11T19:32:46.939Z"
   },
   {
    "duration": 16,
    "start_time": "2024-03-11T19:32:47.022Z"
   },
   {
    "duration": 8,
    "start_time": "2024-03-11T19:32:47.039Z"
   },
   {
    "duration": 52,
    "start_time": "2024-03-11T19:32:47.049Z"
   },
   {
    "duration": 3,
    "start_time": "2024-03-11T19:32:47.103Z"
   },
   {
    "duration": 98,
    "start_time": "2024-03-11T19:32:47.108Z"
   },
   {
    "duration": 159,
    "start_time": "2024-03-11T19:32:47.207Z"
   },
   {
    "duration": 5,
    "start_time": "2024-03-11T19:32:47.368Z"
   },
   {
    "duration": 197,
    "start_time": "2024-03-11T19:32:47.375Z"
   },
   {
    "duration": 3,
    "start_time": "2024-03-11T19:32:47.575Z"
   },
   {
    "duration": 5,
    "start_time": "2024-03-11T19:32:47.580Z"
   },
   {
    "duration": 16,
    "start_time": "2024-03-11T19:32:47.586Z"
   },
   {
    "duration": 13,
    "start_time": "2024-03-11T19:32:47.604Z"
   },
   {
    "duration": 733,
    "start_time": "2024-03-11T19:32:47.619Z"
   },
   {
    "duration": 14,
    "start_time": "2024-03-11T19:32:48.354Z"
   },
   {
    "duration": 1572,
    "start_time": "2024-03-12T05:08:26.441Z"
   },
   {
    "duration": 2,
    "start_time": "2024-03-12T05:08:28.015Z"
   },
   {
    "duration": 811,
    "start_time": "2024-03-12T05:08:28.019Z"
   },
   {
    "duration": 13,
    "start_time": "2024-03-12T05:08:28.832Z"
   },
   {
    "duration": 5,
    "start_time": "2024-03-12T05:08:28.847Z"
   },
   {
    "duration": 23,
    "start_time": "2024-03-12T05:08:28.853Z"
   },
   {
    "duration": 9,
    "start_time": "2024-03-12T05:08:28.878Z"
   },
   {
    "duration": 13,
    "start_time": "2024-03-12T05:08:28.889Z"
   },
   {
    "duration": 34,
    "start_time": "2024-03-12T05:08:28.904Z"
   },
   {
    "duration": 9,
    "start_time": "2024-03-12T05:08:28.940Z"
   },
   {
    "duration": 5,
    "start_time": "2024-03-12T05:08:28.950Z"
   },
   {
    "duration": 15,
    "start_time": "2024-03-12T05:08:28.966Z"
   },
   {
    "duration": 143,
    "start_time": "2024-03-12T05:08:28.983Z"
   },
   {
    "duration": 4,
    "start_time": "2024-03-12T05:08:29.130Z"
   },
   {
    "duration": 952,
    "start_time": "2024-03-12T05:08:29.136Z"
   },
   {
    "duration": 939,
    "start_time": "2024-03-12T05:08:30.089Z"
   },
   {
    "duration": 1243,
    "start_time": "2024-03-12T05:08:31.030Z"
   },
   {
    "duration": 1064,
    "start_time": "2024-03-12T05:08:32.275Z"
   },
   {
    "duration": 1110,
    "start_time": "2024-03-12T05:08:33.340Z"
   },
   {
    "duration": 947,
    "start_time": "2024-03-12T05:08:34.452Z"
   },
   {
    "duration": 1331,
    "start_time": "2024-03-12T05:08:35.400Z"
   },
   {
    "duration": 1140,
    "start_time": "2024-03-12T05:08:36.733Z"
   },
   {
    "duration": 1121,
    "start_time": "2024-03-12T05:08:37.875Z"
   },
   {
    "duration": 40,
    "start_time": "2024-03-12T05:08:38.998Z"
   },
   {
    "duration": 49,
    "start_time": "2024-03-12T05:08:39.039Z"
   },
   {
    "duration": 33,
    "start_time": "2024-03-12T05:08:39.089Z"
   },
   {
    "duration": 902,
    "start_time": "2024-03-12T05:08:39.124Z"
   },
   {
    "duration": 1059,
    "start_time": "2024-03-12T05:08:40.027Z"
   },
   {
    "duration": 967,
    "start_time": "2024-03-12T05:08:41.087Z"
   },
   {
    "duration": 71,
    "start_time": "2024-03-12T05:08:42.055Z"
   },
   {
    "duration": 71,
    "start_time": "2024-03-12T05:08:42.127Z"
   },
   {
    "duration": 76,
    "start_time": "2024-03-12T05:08:42.199Z"
   },
   {
    "duration": 18,
    "start_time": "2024-03-12T05:08:42.276Z"
   },
   {
    "duration": 8,
    "start_time": "2024-03-12T05:08:42.295Z"
   },
   {
    "duration": 61,
    "start_time": "2024-03-12T05:08:42.305Z"
   },
   {
    "duration": 3,
    "start_time": "2024-03-12T05:08:42.367Z"
   },
   {
    "duration": 94,
    "start_time": "2024-03-12T05:08:42.372Z"
   },
   {
    "duration": 217,
    "start_time": "2024-03-12T05:08:42.467Z"
   },
   {
    "duration": 5,
    "start_time": "2024-03-12T05:08:42.767Z"
   },
   {
    "duration": 106,
    "start_time": "2024-03-12T05:08:42.776Z"
   },
   {
    "duration": 4,
    "start_time": "2024-03-12T05:08:42.885Z"
   },
   {
    "duration": 4,
    "start_time": "2024-03-12T05:08:42.890Z"
   },
   {
    "duration": 20,
    "start_time": "2024-03-12T05:08:42.895Z"
   },
   {
    "duration": 7,
    "start_time": "2024-03-12T05:08:42.916Z"
   },
   {
    "duration": 860,
    "start_time": "2024-03-12T05:08:42.924Z"
   },
   {
    "duration": 5,
    "start_time": "2024-03-12T05:08:43.785Z"
   },
   {
    "duration": 1965,
    "start_time": "2024-03-12T05:08:43.791Z"
   },
   {
    "duration": 659481,
    "start_time": "2024-03-12T05:09:01.984Z"
   },
   {
    "duration": 6,
    "start_time": "2024-03-12T05:30:02.286Z"
   },
   {
    "duration": 8,
    "start_time": "2024-03-12T05:32:15.939Z"
   },
   {
    "duration": 6,
    "start_time": "2024-03-12T05:32:23.465Z"
   },
   {
    "duration": 5,
    "start_time": "2024-03-12T05:32:27.049Z"
   },
   {
    "duration": 7,
    "start_time": "2024-03-12T05:35:30.882Z"
   },
   {
    "duration": 5,
    "start_time": "2024-03-12T05:35:38.946Z"
   },
   {
    "duration": 5,
    "start_time": "2024-03-12T05:35:44.475Z"
   },
   {
    "duration": 6,
    "start_time": "2024-03-12T05:46:12.155Z"
   },
   {
    "duration": 4,
    "start_time": "2024-03-12T05:46:44.857Z"
   },
   {
    "duration": 766,
    "start_time": "2024-03-12T05:48:07.427Z"
   },
   {
    "duration": 676,
    "start_time": "2024-03-12T05:48:28.666Z"
   },
   {
    "duration": 1465,
    "start_time": "2024-03-13T05:48:18.698Z"
   },
   {
    "duration": 3,
    "start_time": "2024-03-13T05:48:20.164Z"
   },
   {
    "duration": 743,
    "start_time": "2024-03-13T05:48:20.168Z"
   },
   {
    "duration": 11,
    "start_time": "2024-03-13T05:48:20.913Z"
   },
   {
    "duration": 11,
    "start_time": "2024-03-13T05:48:20.925Z"
   },
   {
    "duration": 40,
    "start_time": "2024-03-13T05:48:20.937Z"
   },
   {
    "duration": 8,
    "start_time": "2024-03-13T05:48:20.978Z"
   },
   {
    "duration": 19,
    "start_time": "2024-03-13T05:48:20.987Z"
   },
   {
    "duration": 13,
    "start_time": "2024-03-13T05:48:21.008Z"
   },
   {
    "duration": 7,
    "start_time": "2024-03-13T05:48:21.023Z"
   },
   {
    "duration": 39,
    "start_time": "2024-03-13T05:48:21.031Z"
   },
   {
    "duration": 12,
    "start_time": "2024-03-13T05:48:21.071Z"
   },
   {
    "duration": 119,
    "start_time": "2024-03-13T05:48:21.084Z"
   },
   {
    "duration": 4,
    "start_time": "2024-03-13T05:48:21.207Z"
   },
   {
    "duration": 953,
    "start_time": "2024-03-13T05:48:21.212Z"
   },
   {
    "duration": 899,
    "start_time": "2024-03-13T05:48:22.166Z"
   },
   {
    "duration": 1103,
    "start_time": "2024-03-13T05:48:23.067Z"
   },
   {
    "duration": 931,
    "start_time": "2024-03-13T05:48:24.172Z"
   },
   {
    "duration": 946,
    "start_time": "2024-03-13T05:48:25.105Z"
   },
   {
    "duration": 800,
    "start_time": "2024-03-13T05:48:26.053Z"
   },
   {
    "duration": 1144,
    "start_time": "2024-03-13T05:48:26.854Z"
   },
   {
    "duration": 965,
    "start_time": "2024-03-13T05:48:28.000Z"
   },
   {
    "duration": 968,
    "start_time": "2024-03-13T05:48:28.967Z"
   },
   {
    "duration": 31,
    "start_time": "2024-03-13T05:48:29.936Z"
   },
   {
    "duration": 41,
    "start_time": "2024-03-13T05:48:29.968Z"
   },
   {
    "duration": 29,
    "start_time": "2024-03-13T05:48:30.011Z"
   },
   {
    "duration": 901,
    "start_time": "2024-03-13T05:48:30.042Z"
   },
   {
    "duration": 913,
    "start_time": "2024-03-13T05:48:30.944Z"
   },
   {
    "duration": 820,
    "start_time": "2024-03-13T05:48:31.859Z"
   },
   {
    "duration": 70,
    "start_time": "2024-03-13T05:48:32.681Z"
   },
   {
    "duration": 66,
    "start_time": "2024-03-13T05:48:32.752Z"
   },
   {
    "duration": 66,
    "start_time": "2024-03-13T05:48:32.820Z"
   },
   {
    "duration": 28,
    "start_time": "2024-03-13T05:48:32.888Z"
   },
   {
    "duration": 7,
    "start_time": "2024-03-13T05:48:32.917Z"
   },
   {
    "duration": 36,
    "start_time": "2024-03-13T05:48:32.926Z"
   },
   {
    "duration": 3,
    "start_time": "2024-03-13T05:48:32.964Z"
   },
   {
    "duration": 75,
    "start_time": "2024-03-13T05:48:32.968Z"
   },
   {
    "duration": 171,
    "start_time": "2024-03-13T05:48:33.045Z"
   },
   {
    "duration": 4,
    "start_time": "2024-03-13T05:48:33.302Z"
   },
   {
    "duration": 102,
    "start_time": "2024-03-13T05:48:33.307Z"
   },
   {
    "duration": 3,
    "start_time": "2024-03-13T05:48:33.412Z"
   },
   {
    "duration": 5,
    "start_time": "2024-03-13T05:48:33.416Z"
   },
   {
    "duration": 15,
    "start_time": "2024-03-13T05:48:33.422Z"
   },
   {
    "duration": 18,
    "start_time": "2024-03-13T05:48:33.438Z"
   },
   {
    "duration": 624,
    "start_time": "2024-03-13T05:48:33.458Z"
   },
   {
    "duration": 3,
    "start_time": "2024-03-13T05:48:34.083Z"
   },
   {
    "duration": 100,
    "start_time": "2024-03-13T05:48:34.087Z"
   },
   {
    "duration": 0,
    "start_time": "2024-03-13T05:48:34.189Z"
   },
   {
    "duration": 10,
    "start_time": "2024-03-13T05:50:07.532Z"
   },
   {
    "duration": 9,
    "start_time": "2024-03-13T05:50:43.701Z"
   },
   {
    "duration": 11,
    "start_time": "2024-03-13T05:51:20.214Z"
   },
   {
    "duration": 10,
    "start_time": "2024-03-13T05:51:25.502Z"
   },
   {
    "duration": 9,
    "start_time": "2024-03-13T05:51:45.957Z"
   },
   {
    "duration": 9,
    "start_time": "2024-03-13T05:51:50.997Z"
   },
   {
    "duration": 12,
    "start_time": "2024-03-13T05:52:35.206Z"
   },
   {
    "duration": 9,
    "start_time": "2024-03-13T05:52:42.862Z"
   },
   {
    "duration": 17,
    "start_time": "2024-03-13T05:52:44.390Z"
   },
   {
    "duration": 9,
    "start_time": "2024-03-13T05:52:45.966Z"
   },
   {
    "duration": 11,
    "start_time": "2024-03-13T05:52:47.208Z"
   },
   {
    "duration": 74,
    "start_time": "2024-03-13T05:52:50.286Z"
   },
   {
    "duration": 72,
    "start_time": "2024-03-13T05:52:52.230Z"
   },
   {
    "duration": 10,
    "start_time": "2024-03-13T05:53:29.505Z"
   },
   {
    "duration": 10,
    "start_time": "2024-03-13T05:53:38.080Z"
   },
   {
    "duration": 72,
    "start_time": "2024-03-13T05:54:10.064Z"
   },
   {
    "duration": 12,
    "start_time": "2024-03-13T05:54:19.831Z"
   },
   {
    "duration": 9,
    "start_time": "2024-03-13T05:54:25.333Z"
   },
   {
    "duration": 10,
    "start_time": "2024-03-13T05:56:14.928Z"
   },
   {
    "duration": 2,
    "start_time": "2024-03-13T05:56:20.448Z"
   },
   {
    "duration": 4,
    "start_time": "2024-03-13T05:56:41.249Z"
   },
   {
    "duration": 4,
    "start_time": "2024-03-13T05:56:43.009Z"
   },
   {
    "duration": 6,
    "start_time": "2024-03-13T05:56:53.504Z"
   },
   {
    "duration": 5,
    "start_time": "2024-03-13T05:58:04.578Z"
   },
   {
    "duration": 4,
    "start_time": "2024-03-13T05:58:11.545Z"
   },
   {
    "duration": 10,
    "start_time": "2024-03-13T06:02:41.594Z"
   },
   {
    "duration": 2,
    "start_time": "2024-03-13T06:02:44.101Z"
   },
   {
    "duration": 4,
    "start_time": "2024-03-13T06:03:03.606Z"
   },
   {
    "duration": 4,
    "start_time": "2024-03-13T06:03:09.596Z"
   },
   {
    "duration": 4,
    "start_time": "2024-03-13T06:03:35.820Z"
   },
   {
    "duration": 16,
    "start_time": "2024-03-13T06:10:56.384Z"
   },
   {
    "duration": 14,
    "start_time": "2024-03-13T06:11:15.145Z"
   },
   {
    "duration": 3,
    "start_time": "2024-03-13T06:11:23.568Z"
   },
   {
    "duration": 9,
    "start_time": "2024-03-13T06:11:25.880Z"
   },
   {
    "duration": 9,
    "start_time": "2024-03-13T06:13:20.017Z"
   },
   {
    "duration": 9,
    "start_time": "2024-03-13T06:14:24.458Z"
   },
   {
    "duration": 9,
    "start_time": "2024-03-13T06:14:43.691Z"
   },
   {
    "duration": 9,
    "start_time": "2024-03-13T06:15:06.175Z"
   },
   {
    "duration": 4,
    "start_time": "2024-03-13T06:15:22.530Z"
   },
   {
    "duration": 3,
    "start_time": "2024-03-13T06:15:28.267Z"
   },
   {
    "duration": 4,
    "start_time": "2024-03-13T06:16:07.131Z"
   },
   {
    "duration": 8,
    "start_time": "2024-03-13T06:16:24.835Z"
   },
   {
    "duration": 3,
    "start_time": "2024-03-13T06:16:30.420Z"
   },
   {
    "duration": 3,
    "start_time": "2024-03-13T06:16:38.836Z"
   },
   {
    "duration": 4,
    "start_time": "2024-03-13T06:16:45.291Z"
   },
   {
    "duration": 3,
    "start_time": "2024-03-13T06:16:51.868Z"
   },
   {
    "duration": 4,
    "start_time": "2024-03-13T06:16:57.299Z"
   },
   {
    "duration": 3,
    "start_time": "2024-03-13T06:17:13.036Z"
   },
   {
    "duration": 3,
    "start_time": "2024-03-13T06:17:17.316Z"
   },
   {
    "duration": 10,
    "start_time": "2024-03-13T06:24:07.552Z"
   },
   {
    "duration": 2,
    "start_time": "2024-03-13T06:24:11.137Z"
   },
   {
    "duration": 10,
    "start_time": "2024-03-13T06:24:12.600Z"
   },
   {
    "duration": 2,
    "start_time": "2024-03-13T06:24:26.616Z"
   },
   {
    "duration": 4,
    "start_time": "2024-03-13T06:24:32.168Z"
   },
   {
    "duration": 4,
    "start_time": "2024-03-13T06:24:34.079Z"
   },
   {
    "duration": 5,
    "start_time": "2024-03-13T06:27:22.539Z"
   },
   {
    "duration": 4,
    "start_time": "2024-03-13T06:27:23.461Z"
   },
   {
    "duration": 3,
    "start_time": "2024-03-13T06:29:41.307Z"
   },
   {
    "duration": 160,
    "start_time": "2024-03-13T06:30:12.491Z"
   },
   {
    "duration": 4,
    "start_time": "2024-03-13T06:30:15.283Z"
   },
   {
    "duration": 2,
    "start_time": "2024-03-13T06:30:27.092Z"
   },
   {
    "duration": 144,
    "start_time": "2024-03-13T06:30:28.117Z"
   },
   {
    "duration": 4,
    "start_time": "2024-03-13T06:30:30.115Z"
   },
   {
    "duration": 5,
    "start_time": "2024-03-13T06:30:41.004Z"
   },
   {
    "duration": 5,
    "start_time": "2024-03-13T06:32:56.839Z"
   },
   {
    "duration": 7,
    "start_time": "2024-03-13T06:35:55.486Z"
   },
   {
    "duration": 3,
    "start_time": "2024-03-13T06:36:48.961Z"
   },
   {
    "duration": 4,
    "start_time": "2024-03-13T06:36:54.719Z"
   },
   {
    "duration": 3,
    "start_time": "2024-03-13T06:37:23.337Z"
   },
   {
    "duration": 6,
    "start_time": "2024-03-13T06:37:30.100Z"
   },
   {
    "duration": 4,
    "start_time": "2024-03-13T06:37:34.616Z"
   },
   {
    "duration": 3,
    "start_time": "2024-03-13T06:37:41.368Z"
   },
   {
    "duration": 4,
    "start_time": "2024-03-13T06:37:44.784Z"
   },
   {
    "duration": 4,
    "start_time": "2024-03-13T06:37:47.121Z"
   },
   {
    "duration": 4,
    "start_time": "2024-03-13T06:39:48.978Z"
   },
   {
    "duration": 3,
    "start_time": "2024-03-13T06:40:58.203Z"
   },
   {
    "duration": 146,
    "start_time": "2024-03-13T06:41:52.329Z"
   },
   {
    "duration": 141,
    "start_time": "2024-03-13T06:42:21.484Z"
   },
   {
    "duration": 44,
    "start_time": "2024-03-13T19:14:03.211Z"
   },
   {
    "duration": 1468,
    "start_time": "2024-03-13T19:14:29.280Z"
   },
   {
    "duration": 3,
    "start_time": "2024-03-13T19:14:30.750Z"
   },
   {
    "duration": 720,
    "start_time": "2024-03-13T19:14:30.754Z"
   },
   {
    "duration": 11,
    "start_time": "2024-03-13T19:14:31.476Z"
   },
   {
    "duration": 36,
    "start_time": "2024-03-13T19:14:31.488Z"
   },
   {
    "duration": 44,
    "start_time": "2024-03-13T19:14:31.525Z"
   },
   {
    "duration": 48,
    "start_time": "2024-03-13T19:14:31.571Z"
   },
   {
    "duration": 70,
    "start_time": "2024-03-13T19:14:31.620Z"
   },
   {
    "duration": 68,
    "start_time": "2024-03-13T19:14:31.692Z"
   },
   {
    "duration": 29,
    "start_time": "2024-03-13T19:14:31.763Z"
   },
   {
    "duration": 19,
    "start_time": "2024-03-13T19:14:31.794Z"
   },
   {
    "duration": 79,
    "start_time": "2024-03-13T19:14:31.815Z"
   },
   {
    "duration": 150,
    "start_time": "2024-03-13T19:14:31.896Z"
   },
   {
    "duration": 5,
    "start_time": "2024-03-13T19:14:32.048Z"
   },
   {
    "duration": 956,
    "start_time": "2024-03-13T19:14:32.055Z"
   },
   {
    "duration": 855,
    "start_time": "2024-03-13T19:14:33.012Z"
   },
   {
    "duration": 1098,
    "start_time": "2024-03-13T19:14:33.869Z"
   },
   {
    "duration": 927,
    "start_time": "2024-03-13T19:14:34.969Z"
   },
   {
    "duration": 972,
    "start_time": "2024-03-13T19:14:35.897Z"
   },
   {
    "duration": 767,
    "start_time": "2024-03-13T19:14:36.870Z"
   },
   {
    "duration": 1159,
    "start_time": "2024-03-13T19:14:37.638Z"
   },
   {
    "duration": 987,
    "start_time": "2024-03-13T19:14:38.799Z"
   },
   {
    "duration": 995,
    "start_time": "2024-03-13T19:14:39.788Z"
   },
   {
    "duration": 43,
    "start_time": "2024-03-13T19:14:40.784Z"
   },
   {
    "duration": 31,
    "start_time": "2024-03-13T19:14:40.828Z"
   },
   {
    "duration": 40,
    "start_time": "2024-03-13T19:14:40.861Z"
   },
   {
    "duration": 863,
    "start_time": "2024-03-13T19:14:40.903Z"
   },
   {
    "duration": 873,
    "start_time": "2024-03-13T19:14:41.769Z"
   },
   {
    "duration": 843,
    "start_time": "2024-03-13T19:14:42.644Z"
   },
   {
    "duration": 72,
    "start_time": "2024-03-13T19:14:43.488Z"
   },
   {
    "duration": 63,
    "start_time": "2024-03-13T19:14:43.561Z"
   },
   {
    "duration": 76,
    "start_time": "2024-03-13T19:14:43.625Z"
   },
   {
    "duration": 13,
    "start_time": "2024-03-13T19:14:43.703Z"
   },
   {
    "duration": 7,
    "start_time": "2024-03-13T19:14:43.718Z"
   },
   {
    "duration": 33,
    "start_time": "2024-03-13T19:14:43.726Z"
   },
   {
    "duration": 3,
    "start_time": "2024-03-13T19:14:43.760Z"
   },
   {
    "duration": 85,
    "start_time": "2024-03-13T19:14:43.764Z"
   },
   {
    "duration": 160,
    "start_time": "2024-03-13T19:14:43.850Z"
   },
   {
    "duration": 5,
    "start_time": "2024-03-13T19:14:44.102Z"
   },
   {
    "duration": 112,
    "start_time": "2024-03-13T19:14:44.108Z"
   },
   {
    "duration": 3,
    "start_time": "2024-03-13T19:14:44.221Z"
   },
   {
    "duration": 4,
    "start_time": "2024-03-13T19:14:44.225Z"
   },
   {
    "duration": 61,
    "start_time": "2024-03-13T19:14:44.231Z"
   },
   {
    "duration": 0,
    "start_time": "2024-03-13T19:14:44.294Z"
   },
   {
    "duration": 0,
    "start_time": "2024-03-13T19:14:44.295Z"
   },
   {
    "duration": 0,
    "start_time": "2024-03-13T19:14:44.296Z"
   },
   {
    "duration": 0,
    "start_time": "2024-03-13T19:14:44.298Z"
   },
   {
    "duration": 0,
    "start_time": "2024-03-13T19:14:44.299Z"
   },
   {
    "duration": 0,
    "start_time": "2024-03-13T19:14:44.300Z"
   },
   {
    "duration": 0,
    "start_time": "2024-03-13T19:14:44.301Z"
   },
   {
    "duration": 3,
    "start_time": "2024-03-13T19:16:05.416Z"
   },
   {
    "duration": 2,
    "start_time": "2024-03-13T19:20:42.161Z"
   },
   {
    "duration": 3,
    "start_time": "2024-03-13T19:20:47.666Z"
   },
   {
    "duration": 158,
    "start_time": "2024-03-13T19:24:43.268Z"
   },
   {
    "duration": 4,
    "start_time": "2024-03-13T19:24:44.986Z"
   },
   {
    "duration": 4,
    "start_time": "2024-03-13T19:25:06.954Z"
   },
   {
    "duration": 4,
    "start_time": "2024-03-13T19:25:08.531Z"
   },
   {
    "duration": 4,
    "start_time": "2024-03-13T19:26:35.828Z"
   },
   {
    "duration": 153,
    "start_time": "2024-03-13T19:30:14.315Z"
   },
   {
    "duration": 4,
    "start_time": "2024-03-13T19:30:15.908Z"
   },
   {
    "duration": 4,
    "start_time": "2024-03-13T19:30:21.405Z"
   },
   {
    "duration": 4,
    "start_time": "2024-03-13T19:30:23.772Z"
   },
   {
    "duration": 163,
    "start_time": "2024-03-13T19:30:25.253Z"
   },
   {
    "duration": 4,
    "start_time": "2024-03-13T19:30:26.668Z"
   },
   {
    "duration": 4,
    "start_time": "2024-03-13T19:30:28.124Z"
   },
   {
    "duration": 4,
    "start_time": "2024-03-13T19:30:29.987Z"
   },
   {
    "duration": 1213,
    "start_time": "2024-03-13T19:47:50.648Z"
   },
   {
    "duration": 3,
    "start_time": "2024-03-13T19:47:51.862Z"
   },
   {
    "duration": 351,
    "start_time": "2024-03-13T19:47:51.866Z"
   },
   {
    "duration": 11,
    "start_time": "2024-03-13T19:47:52.218Z"
   },
   {
    "duration": 11,
    "start_time": "2024-03-13T19:47:52.231Z"
   },
   {
    "duration": 14,
    "start_time": "2024-03-13T19:47:52.243Z"
   },
   {
    "duration": 7,
    "start_time": "2024-03-13T19:47:52.258Z"
   },
   {
    "duration": 26,
    "start_time": "2024-03-13T19:47:52.267Z"
   },
   {
    "duration": 18,
    "start_time": "2024-03-13T19:47:52.294Z"
   },
   {
    "duration": 9,
    "start_time": "2024-03-13T19:47:52.314Z"
   },
   {
    "duration": 4,
    "start_time": "2024-03-13T19:47:52.325Z"
   },
   {
    "duration": 20,
    "start_time": "2024-03-13T19:47:52.331Z"
   },
   {
    "duration": 116,
    "start_time": "2024-03-13T19:47:52.353Z"
   },
   {
    "duration": 4,
    "start_time": "2024-03-13T19:47:52.473Z"
   },
   {
    "duration": 923,
    "start_time": "2024-03-13T19:47:52.478Z"
   },
   {
    "duration": 750,
    "start_time": "2024-03-13T19:47:53.403Z"
   },
   {
    "duration": 1105,
    "start_time": "2024-03-13T19:47:54.154Z"
   },
   {
    "duration": 953,
    "start_time": "2024-03-13T19:47:55.260Z"
   },
   {
    "duration": 1057,
    "start_time": "2024-03-13T19:47:56.214Z"
   },
   {
    "duration": 781,
    "start_time": "2024-03-13T19:47:57.272Z"
   },
   {
    "duration": 1126,
    "start_time": "2024-03-13T19:47:58.054Z"
   },
   {
    "duration": 984,
    "start_time": "2024-03-13T19:47:59.182Z"
   },
   {
    "duration": 1022,
    "start_time": "2024-03-13T19:48:00.168Z"
   },
   {
    "duration": 36,
    "start_time": "2024-03-13T19:48:01.191Z"
   },
   {
    "duration": 32,
    "start_time": "2024-03-13T19:48:01.228Z"
   },
   {
    "duration": 48,
    "start_time": "2024-03-13T19:48:01.261Z"
   },
   {
    "duration": 862,
    "start_time": "2024-03-13T19:48:01.310Z"
   },
   {
    "duration": 785,
    "start_time": "2024-03-13T19:48:02.173Z"
   },
   {
    "duration": 919,
    "start_time": "2024-03-13T19:48:02.959Z"
   },
   {
    "duration": 77,
    "start_time": "2024-03-13T19:48:03.879Z"
   },
   {
    "duration": 67,
    "start_time": "2024-03-13T19:48:03.957Z"
   },
   {
    "duration": 66,
    "start_time": "2024-03-13T19:48:04.025Z"
   },
   {
    "duration": 22,
    "start_time": "2024-03-13T19:48:04.092Z"
   },
   {
    "duration": 6,
    "start_time": "2024-03-13T19:48:04.115Z"
   },
   {
    "duration": 28,
    "start_time": "2024-03-13T19:48:04.122Z"
   },
   {
    "duration": 18,
    "start_time": "2024-03-13T19:48:04.151Z"
   },
   {
    "duration": 95,
    "start_time": "2024-03-13T19:48:04.171Z"
   },
   {
    "duration": 44,
    "start_time": "2024-03-13T19:48:04.267Z"
   },
   {
    "duration": 6,
    "start_time": "2024-03-13T19:48:04.403Z"
   },
   {
    "duration": 101,
    "start_time": "2024-03-13T19:48:04.411Z"
   },
   {
    "duration": 3,
    "start_time": "2024-03-13T19:48:04.516Z"
   },
   {
    "duration": 7,
    "start_time": "2024-03-13T19:48:04.520Z"
   },
   {
    "duration": 4,
    "start_time": "2024-03-13T19:48:04.528Z"
   },
   {
    "duration": 4,
    "start_time": "2024-03-13T19:48:04.534Z"
   },
   {
    "duration": 185,
    "start_time": "2024-03-13T19:48:04.540Z"
   },
   {
    "duration": 3,
    "start_time": "2024-03-13T19:48:04.727Z"
   },
   {
    "duration": 5,
    "start_time": "2024-03-13T19:48:04.732Z"
   },
   {
    "duration": 6,
    "start_time": "2024-03-13T19:48:04.738Z"
   },
   {
    "duration": 160,
    "start_time": "2024-03-13T19:48:04.746Z"
   },
   {
    "duration": 3,
    "start_time": "2024-03-13T19:48:04.908Z"
   },
   {
    "duration": 6,
    "start_time": "2024-03-13T19:48:04.913Z"
   },
   {
    "duration": 8,
    "start_time": "2024-03-13T19:48:04.920Z"
   },
   {
    "duration": 172,
    "start_time": "2024-03-13T19:48:04.929Z"
   },
   {
    "duration": 3,
    "start_time": "2024-03-13T19:48:05.103Z"
   },
   {
    "duration": 6,
    "start_time": "2024-03-13T19:48:05.107Z"
   },
   {
    "duration": 3,
    "start_time": "2024-03-13T19:48:05.114Z"
   },
   {
    "duration": 1558,
    "start_time": "2024-03-14T05:09:51.125Z"
   },
   {
    "duration": 2,
    "start_time": "2024-03-14T05:09:52.685Z"
   },
   {
    "duration": 1605,
    "start_time": "2024-03-14T05:09:52.689Z"
   },
   {
    "duration": 14,
    "start_time": "2024-03-14T05:09:54.296Z"
   },
   {
    "duration": 11,
    "start_time": "2024-03-14T05:09:54.313Z"
   },
   {
    "duration": 37,
    "start_time": "2024-03-14T05:09:54.326Z"
   },
   {
    "duration": 10,
    "start_time": "2024-03-14T05:09:54.365Z"
   },
   {
    "duration": 24,
    "start_time": "2024-03-14T05:09:54.376Z"
   },
   {
    "duration": 46,
    "start_time": "2024-03-14T05:09:54.402Z"
   },
   {
    "duration": 11,
    "start_time": "2024-03-14T05:09:54.450Z"
   },
   {
    "duration": 6,
    "start_time": "2024-03-14T05:09:54.463Z"
   },
   {
    "duration": 17,
    "start_time": "2024-03-14T05:09:54.471Z"
   },
   {
    "duration": 133,
    "start_time": "2024-03-14T05:09:54.490Z"
   },
   {
    "duration": 5,
    "start_time": "2024-03-14T05:09:54.626Z"
   },
   {
    "duration": 1012,
    "start_time": "2024-03-14T05:09:54.632Z"
   },
   {
    "duration": 898,
    "start_time": "2024-03-14T05:09:55.646Z"
   },
   {
    "duration": 1283,
    "start_time": "2024-03-14T05:09:56.545Z"
   },
   {
    "duration": 1076,
    "start_time": "2024-03-14T05:09:57.829Z"
   },
   {
    "duration": 1304,
    "start_time": "2024-03-14T05:09:58.906Z"
   },
   {
    "duration": 989,
    "start_time": "2024-03-14T05:10:00.212Z"
   },
   {
    "duration": 1401,
    "start_time": "2024-03-14T05:10:01.203Z"
   },
   {
    "duration": 1251,
    "start_time": "2024-03-14T05:10:02.606Z"
   },
   {
    "duration": 1169,
    "start_time": "2024-03-14T05:10:03.859Z"
   },
   {
    "duration": 38,
    "start_time": "2024-03-14T05:10:05.029Z"
   },
   {
    "duration": 49,
    "start_time": "2024-03-14T05:10:05.068Z"
   },
   {
    "duration": 33,
    "start_time": "2024-03-14T05:10:05.119Z"
   },
   {
    "duration": 995,
    "start_time": "2024-03-14T05:10:05.153Z"
   },
   {
    "duration": 977,
    "start_time": "2024-03-14T05:10:06.150Z"
   },
   {
    "duration": 1002,
    "start_time": "2024-03-14T05:10:07.129Z"
   },
   {
    "duration": 83,
    "start_time": "2024-03-14T05:10:08.132Z"
   },
   {
    "duration": 88,
    "start_time": "2024-03-14T05:10:08.217Z"
   },
   {
    "duration": 71,
    "start_time": "2024-03-14T05:10:08.307Z"
   },
   {
    "duration": 17,
    "start_time": "2024-03-14T05:10:08.387Z"
   },
   {
    "duration": 8,
    "start_time": "2024-03-14T05:10:08.405Z"
   },
   {
    "duration": 40,
    "start_time": "2024-03-14T05:10:08.415Z"
   },
   {
    "duration": 3,
    "start_time": "2024-03-14T05:10:08.457Z"
   },
   {
    "duration": 105,
    "start_time": "2024-03-14T05:10:08.461Z"
   },
   {
    "duration": 429,
    "start_time": "2024-03-14T05:10:08.568Z"
   },
   {
    "duration": 190,
    "start_time": "2024-03-14T05:10:08.999Z"
   },
   {
    "duration": 0,
    "start_time": "2024-03-14T05:10:09.191Z"
   },
   {
    "duration": 0,
    "start_time": "2024-03-14T05:10:09.193Z"
   },
   {
    "duration": 0,
    "start_time": "2024-03-14T05:10:09.194Z"
   },
   {
    "duration": 0,
    "start_time": "2024-03-14T05:10:09.195Z"
   },
   {
    "duration": 0,
    "start_time": "2024-03-14T05:10:09.196Z"
   },
   {
    "duration": 0,
    "start_time": "2024-03-14T05:10:09.197Z"
   },
   {
    "duration": 0,
    "start_time": "2024-03-14T05:10:09.198Z"
   },
   {
    "duration": 0,
    "start_time": "2024-03-14T05:10:09.199Z"
   },
   {
    "duration": 0,
    "start_time": "2024-03-14T05:10:09.200Z"
   },
   {
    "duration": 0,
    "start_time": "2024-03-14T05:10:09.201Z"
   },
   {
    "duration": 0,
    "start_time": "2024-03-14T05:10:09.202Z"
   },
   {
    "duration": 0,
    "start_time": "2024-03-14T05:10:09.203Z"
   },
   {
    "duration": 0,
    "start_time": "2024-03-14T05:10:09.204Z"
   },
   {
    "duration": 0,
    "start_time": "2024-03-14T05:10:09.205Z"
   },
   {
    "duration": 1,
    "start_time": "2024-03-14T05:10:09.205Z"
   },
   {
    "duration": 0,
    "start_time": "2024-03-14T05:10:09.206Z"
   },
   {
    "duration": 0,
    "start_time": "2024-03-14T05:10:09.207Z"
   },
   {
    "duration": 4,
    "start_time": "2024-03-14T06:09:26.076Z"
   },
   {
    "duration": 9,
    "start_time": "2024-03-14T06:09:31.427Z"
   },
   {
    "duration": 11,
    "start_time": "2024-03-14T06:09:46.755Z"
   },
   {
    "duration": 9,
    "start_time": "2024-03-14T06:14:23.543Z"
   },
   {
    "duration": 8,
    "start_time": "2024-03-14T06:14:58.512Z"
   },
   {
    "duration": 71,
    "start_time": "2024-03-14T06:18:31.825Z"
   },
   {
    "duration": 10,
    "start_time": "2024-03-14T06:18:36.905Z"
   },
   {
    "duration": 4,
    "start_time": "2024-03-14T06:19:21.833Z"
   },
   {
    "duration": 9,
    "start_time": "2024-03-14T06:19:25.554Z"
   },
   {
    "duration": 73,
    "start_time": "2024-03-14T06:19:51.161Z"
   },
   {
    "duration": 10,
    "start_time": "2024-03-14T06:19:53.953Z"
   },
   {
    "duration": 70,
    "start_time": "2024-03-14T06:20:14.705Z"
   },
   {
    "duration": 11,
    "start_time": "2024-03-14T06:20:15.872Z"
   },
   {
    "duration": 89,
    "start_time": "2024-03-14T17:21:05.367Z"
   },
   {
    "duration": 1526,
    "start_time": "2024-03-14T17:21:10.135Z"
   },
   {
    "duration": 2,
    "start_time": "2024-03-14T17:21:11.663Z"
   },
   {
    "duration": 772,
    "start_time": "2024-03-14T17:21:11.667Z"
   },
   {
    "duration": 12,
    "start_time": "2024-03-14T17:21:12.440Z"
   },
   {
    "duration": 3,
    "start_time": "2024-03-14T17:21:12.455Z"
   },
   {
    "duration": 15,
    "start_time": "2024-03-14T17:21:12.460Z"
   },
   {
    "duration": 9,
    "start_time": "2024-03-14T17:21:12.477Z"
   },
   {
    "duration": 4,
    "start_time": "2024-03-14T17:21:12.487Z"
   },
   {
    "duration": 21,
    "start_time": "2024-03-14T17:21:12.492Z"
   },
   {
    "duration": 8,
    "start_time": "2024-03-14T17:21:12.515Z"
   },
   {
    "duration": 3,
    "start_time": "2024-03-14T17:21:12.525Z"
   },
   {
    "duration": 39,
    "start_time": "2024-03-14T17:21:12.530Z"
   },
   {
    "duration": 127,
    "start_time": "2024-03-14T17:21:12.570Z"
   },
   {
    "duration": 4,
    "start_time": "2024-03-14T17:21:12.700Z"
   },
   {
    "duration": 1013,
    "start_time": "2024-03-14T17:21:12.705Z"
   },
   {
    "duration": 991,
    "start_time": "2024-03-14T17:21:13.720Z"
   },
   {
    "duration": 1447,
    "start_time": "2024-03-14T17:21:14.713Z"
   },
   {
    "duration": 989,
    "start_time": "2024-03-14T17:21:16.162Z"
   },
   {
    "duration": 1142,
    "start_time": "2024-03-14T17:21:17.153Z"
   },
   {
    "duration": 870,
    "start_time": "2024-03-14T17:21:18.297Z"
   },
   {
    "duration": 1501,
    "start_time": "2024-03-14T17:21:19.168Z"
   },
   {
    "duration": 1268,
    "start_time": "2024-03-14T17:21:20.672Z"
   },
   {
    "duration": 1155,
    "start_time": "2024-03-14T17:21:21.942Z"
   },
   {
    "duration": 33,
    "start_time": "2024-03-14T17:21:23.099Z"
   },
   {
    "duration": 47,
    "start_time": "2024-03-14T17:21:23.134Z"
   },
   {
    "duration": 30,
    "start_time": "2024-03-14T17:21:23.183Z"
   },
   {
    "duration": 910,
    "start_time": "2024-03-14T17:21:23.215Z"
   },
   {
    "duration": 930,
    "start_time": "2024-03-14T17:21:24.126Z"
   },
   {
    "duration": 933,
    "start_time": "2024-03-14T17:21:25.058Z"
   },
   {
    "duration": 75,
    "start_time": "2024-03-14T17:21:25.992Z"
   },
   {
    "duration": 63,
    "start_time": "2024-03-14T17:21:26.069Z"
   },
   {
    "duration": 82,
    "start_time": "2024-03-14T17:21:26.134Z"
   },
   {
    "duration": 17,
    "start_time": "2024-03-14T17:21:26.218Z"
   },
   {
    "duration": 9,
    "start_time": "2024-03-14T17:21:26.236Z"
   },
   {
    "duration": 57,
    "start_time": "2024-03-14T17:21:26.246Z"
   },
   {
    "duration": 3,
    "start_time": "2024-03-14T17:21:26.305Z"
   },
   {
    "duration": 97,
    "start_time": "2024-03-14T17:21:26.309Z"
   },
   {
    "duration": 265,
    "start_time": "2024-03-14T17:21:26.408Z"
   },
   {
    "duration": 89,
    "start_time": "2024-03-14T17:21:26.675Z"
   },
   {
    "duration": 13,
    "start_time": "2024-03-14T17:21:26.766Z"
   },
   {
    "duration": 64,
    "start_time": "2024-03-14T17:21:26.783Z"
   },
   {
    "duration": 0,
    "start_time": "2024-03-14T17:21:26.849Z"
   },
   {
    "duration": 0,
    "start_time": "2024-03-14T17:21:26.850Z"
   },
   {
    "duration": 0,
    "start_time": "2024-03-14T17:21:26.851Z"
   },
   {
    "duration": 0,
    "start_time": "2024-03-14T17:21:26.852Z"
   },
   {
    "duration": 0,
    "start_time": "2024-03-14T17:21:26.853Z"
   },
   {
    "duration": 0,
    "start_time": "2024-03-14T17:21:26.854Z"
   },
   {
    "duration": 0,
    "start_time": "2024-03-14T17:21:26.855Z"
   },
   {
    "duration": 0,
    "start_time": "2024-03-14T17:21:26.856Z"
   },
   {
    "duration": 0,
    "start_time": "2024-03-14T17:21:26.857Z"
   },
   {
    "duration": 0,
    "start_time": "2024-03-14T17:21:26.858Z"
   },
   {
    "duration": 0,
    "start_time": "2024-03-14T17:21:26.859Z"
   },
   {
    "duration": 0,
    "start_time": "2024-03-14T17:21:26.861Z"
   },
   {
    "duration": 0,
    "start_time": "2024-03-14T17:21:26.862Z"
   },
   {
    "duration": 0,
    "start_time": "2024-03-14T17:21:26.863Z"
   },
   {
    "duration": 0,
    "start_time": "2024-03-14T17:21:26.864Z"
   },
   {
    "duration": 0,
    "start_time": "2024-03-14T17:21:26.865Z"
   },
   {
    "duration": 0,
    "start_time": "2024-03-14T17:21:26.866Z"
   },
   {
    "duration": 0,
    "start_time": "2024-03-14T17:21:26.867Z"
   },
   {
    "duration": 0,
    "start_time": "2024-03-14T17:21:26.869Z"
   },
   {
    "duration": 9,
    "start_time": "2024-03-14T17:21:54.256Z"
   },
   {
    "duration": 27,
    "start_time": "2024-03-14T17:24:12.383Z"
   },
   {
    "duration": 14,
    "start_time": "2024-03-14T17:24:22.559Z"
   },
   {
    "duration": 21,
    "start_time": "2024-03-14T17:24:29.159Z"
   },
   {
    "duration": 20,
    "start_time": "2024-03-14T17:24:40.848Z"
   },
   {
    "duration": 105,
    "start_time": "2024-03-14T17:24:54.775Z"
   },
   {
    "duration": 20,
    "start_time": "2024-03-14T17:25:04.240Z"
   },
   {
    "duration": 20,
    "start_time": "2024-03-14T17:25:15.615Z"
   },
   {
    "duration": 30,
    "start_time": "2024-03-14T17:25:24.641Z"
   },
   {
    "duration": 19,
    "start_time": "2024-03-14T17:25:37.042Z"
   },
   {
    "duration": 10,
    "start_time": "2024-03-14T17:26:56.432Z"
   },
   {
    "duration": 10,
    "start_time": "2024-03-14T17:30:34.659Z"
   },
   {
    "duration": 10,
    "start_time": "2024-03-14T17:31:06.331Z"
   },
   {
    "duration": 10,
    "start_time": "2024-03-14T17:31:34.615Z"
   },
   {
    "duration": 80,
    "start_time": "2024-03-14T17:33:38.987Z"
   },
   {
    "duration": 6,
    "start_time": "2024-03-14T17:33:43.434Z"
   },
   {
    "duration": 1288,
    "start_time": "2024-03-14T17:33:47.418Z"
   },
   {
    "duration": 2,
    "start_time": "2024-03-14T17:33:48.708Z"
   },
   {
    "duration": 421,
    "start_time": "2024-03-14T17:33:48.711Z"
   },
   {
    "duration": 12,
    "start_time": "2024-03-14T17:33:49.135Z"
   },
   {
    "duration": 14,
    "start_time": "2024-03-14T17:33:49.148Z"
   },
   {
    "duration": 14,
    "start_time": "2024-03-14T17:33:49.163Z"
   },
   {
    "duration": 7,
    "start_time": "2024-03-14T17:33:49.179Z"
   },
   {
    "duration": 4,
    "start_time": "2024-03-14T17:33:49.188Z"
   },
   {
    "duration": 14,
    "start_time": "2024-03-14T17:33:49.193Z"
   },
   {
    "duration": 8,
    "start_time": "2024-03-14T17:33:49.209Z"
   },
   {
    "duration": 4,
    "start_time": "2024-03-14T17:33:49.218Z"
   },
   {
    "duration": 45,
    "start_time": "2024-03-14T17:33:49.224Z"
   },
   {
    "duration": 131,
    "start_time": "2024-03-14T17:33:49.271Z"
   },
   {
    "duration": 4,
    "start_time": "2024-03-14T17:33:49.404Z"
   },
   {
    "duration": 1022,
    "start_time": "2024-03-14T17:33:49.409Z"
   },
   {
    "duration": 885,
    "start_time": "2024-03-14T17:33:50.433Z"
   },
   {
    "duration": 1187,
    "start_time": "2024-03-14T17:33:51.320Z"
   },
   {
    "duration": 996,
    "start_time": "2024-03-14T17:33:52.509Z"
   },
   {
    "duration": 1137,
    "start_time": "2024-03-14T17:33:53.506Z"
   },
   {
    "duration": 858,
    "start_time": "2024-03-14T17:33:54.645Z"
   },
   {
    "duration": 1300,
    "start_time": "2024-03-14T17:33:55.504Z"
   },
   {
    "duration": 1153,
    "start_time": "2024-03-14T17:33:56.805Z"
   },
   {
    "duration": 1062,
    "start_time": "2024-03-14T17:33:57.964Z"
   },
   {
    "duration": 41,
    "start_time": "2024-03-14T17:33:59.028Z"
   },
   {
    "duration": 33,
    "start_time": "2024-03-14T17:33:59.070Z"
   },
   {
    "duration": 35,
    "start_time": "2024-03-14T17:33:59.105Z"
   },
   {
    "duration": 1009,
    "start_time": "2024-03-14T17:33:59.143Z"
   },
   {
    "duration": 851,
    "start_time": "2024-03-14T17:34:00.156Z"
   },
   {
    "duration": 1084,
    "start_time": "2024-03-14T17:34:01.009Z"
   },
   {
    "duration": 76,
    "start_time": "2024-03-14T17:34:02.094Z"
   },
   {
    "duration": 61,
    "start_time": "2024-03-14T17:34:02.171Z"
   },
   {
    "duration": 80,
    "start_time": "2024-03-14T17:34:02.234Z"
   },
   {
    "duration": 15,
    "start_time": "2024-03-14T17:34:02.315Z"
   },
   {
    "duration": 10,
    "start_time": "2024-03-14T17:34:02.331Z"
   },
   {
    "duration": 74,
    "start_time": "2024-03-14T17:34:02.342Z"
   },
   {
    "duration": 3,
    "start_time": "2024-03-14T17:34:02.417Z"
   },
   {
    "duration": 86,
    "start_time": "2024-03-14T17:34:02.422Z"
   },
   {
    "duration": 163,
    "start_time": "2024-03-14T17:34:02.510Z"
   },
   {
    "duration": 3,
    "start_time": "2024-03-14T17:34:02.767Z"
   },
   {
    "duration": 100,
    "start_time": "2024-03-14T17:34:02.773Z"
   },
   {
    "duration": 24,
    "start_time": "2024-03-14T17:34:02.875Z"
   },
   {
    "duration": 12,
    "start_time": "2024-03-14T17:34:02.900Z"
   },
   {
    "duration": 69,
    "start_time": "2024-03-14T17:34:02.913Z"
   },
   {
    "duration": 0,
    "start_time": "2024-03-14T17:34:02.984Z"
   },
   {
    "duration": 0,
    "start_time": "2024-03-14T17:34:02.985Z"
   },
   {
    "duration": 0,
    "start_time": "2024-03-14T17:34:02.985Z"
   },
   {
    "duration": 0,
    "start_time": "2024-03-14T17:34:02.987Z"
   },
   {
    "duration": 0,
    "start_time": "2024-03-14T17:34:02.988Z"
   },
   {
    "duration": 0,
    "start_time": "2024-03-14T17:34:02.988Z"
   },
   {
    "duration": 0,
    "start_time": "2024-03-14T17:34:02.989Z"
   },
   {
    "duration": 0,
    "start_time": "2024-03-14T17:34:02.990Z"
   },
   {
    "duration": 0,
    "start_time": "2024-03-14T17:34:02.992Z"
   },
   {
    "duration": 1,
    "start_time": "2024-03-14T17:34:02.992Z"
   },
   {
    "duration": 0,
    "start_time": "2024-03-14T17:34:02.994Z"
   },
   {
    "duration": 0,
    "start_time": "2024-03-14T17:34:02.995Z"
   },
   {
    "duration": 0,
    "start_time": "2024-03-14T17:34:02.996Z"
   },
   {
    "duration": 0,
    "start_time": "2024-03-14T17:34:02.997Z"
   },
   {
    "duration": 0,
    "start_time": "2024-03-14T17:34:02.998Z"
   },
   {
    "duration": 0,
    "start_time": "2024-03-14T17:34:02.999Z"
   },
   {
    "duration": 0,
    "start_time": "2024-03-14T17:34:03.000Z"
   },
   {
    "duration": 3,
    "start_time": "2024-03-14T17:38:30.048Z"
   },
   {
    "duration": 11,
    "start_time": "2024-03-14T17:38:35.480Z"
   },
   {
    "duration": 1321,
    "start_time": "2024-03-14T17:41:43.499Z"
   },
   {
    "duration": 2,
    "start_time": "2024-03-14T17:41:44.822Z"
   },
   {
    "duration": 390,
    "start_time": "2024-03-14T17:41:44.826Z"
   },
   {
    "duration": 13,
    "start_time": "2024-03-14T17:41:45.217Z"
   },
   {
    "duration": 21,
    "start_time": "2024-03-14T17:41:45.232Z"
   },
   {
    "duration": 43,
    "start_time": "2024-03-14T17:41:45.255Z"
   },
   {
    "duration": 39,
    "start_time": "2024-03-14T17:41:45.299Z"
   },
   {
    "duration": 72,
    "start_time": "2024-03-14T17:41:45.340Z"
   },
   {
    "duration": 37,
    "start_time": "2024-03-14T17:41:45.413Z"
   },
   {
    "duration": 47,
    "start_time": "2024-03-14T17:41:45.452Z"
   },
   {
    "duration": 19,
    "start_time": "2024-03-14T17:41:45.500Z"
   },
   {
    "duration": 34,
    "start_time": "2024-03-14T17:41:45.520Z"
   },
   {
    "duration": 138,
    "start_time": "2024-03-14T17:41:45.555Z"
   },
   {
    "duration": 4,
    "start_time": "2024-03-14T17:41:45.696Z"
   },
   {
    "duration": 1005,
    "start_time": "2024-03-14T17:41:45.702Z"
   },
   {
    "duration": 899,
    "start_time": "2024-03-14T17:41:46.709Z"
   },
   {
    "duration": 1223,
    "start_time": "2024-03-14T17:41:47.609Z"
   },
   {
    "duration": 1103,
    "start_time": "2024-03-14T17:41:48.835Z"
   },
   {
    "duration": 1230,
    "start_time": "2024-03-14T17:41:49.940Z"
   },
   {
    "duration": 973,
    "start_time": "2024-03-14T17:41:51.172Z"
   },
   {
    "duration": 1249,
    "start_time": "2024-03-14T17:41:52.147Z"
   },
   {
    "duration": 1165,
    "start_time": "2024-03-14T17:41:53.397Z"
   },
   {
    "duration": 1076,
    "start_time": "2024-03-14T17:41:54.564Z"
   },
   {
    "duration": 50,
    "start_time": "2024-03-14T17:41:55.642Z"
   },
   {
    "duration": 34,
    "start_time": "2024-03-14T17:41:55.694Z"
   },
   {
    "duration": 50,
    "start_time": "2024-03-14T17:41:55.729Z"
   },
   {
    "duration": 973,
    "start_time": "2024-03-14T17:41:55.780Z"
   },
   {
    "duration": 925,
    "start_time": "2024-03-14T17:41:56.755Z"
   },
   {
    "duration": 1065,
    "start_time": "2024-03-14T17:41:57.682Z"
   },
   {
    "duration": 76,
    "start_time": "2024-03-14T17:41:58.749Z"
   },
   {
    "duration": 83,
    "start_time": "2024-03-14T17:41:58.827Z"
   },
   {
    "duration": 93,
    "start_time": "2024-03-14T17:41:58.912Z"
   },
   {
    "duration": 18,
    "start_time": "2024-03-14T17:41:59.007Z"
   },
   {
    "duration": 8,
    "start_time": "2024-03-14T17:41:59.027Z"
   },
   {
    "duration": 57,
    "start_time": "2024-03-14T17:41:59.036Z"
   },
   {
    "duration": 2,
    "start_time": "2024-03-14T17:41:59.095Z"
   },
   {
    "duration": 93,
    "start_time": "2024-03-14T17:41:59.099Z"
   },
   {
    "duration": 173,
    "start_time": "2024-03-14T17:41:59.193Z"
   },
   {
    "duration": 97,
    "start_time": "2024-03-14T17:41:59.368Z"
   },
   {
    "duration": 87,
    "start_time": "2024-03-14T17:41:59.467Z"
   },
   {
    "duration": 0,
    "start_time": "2024-03-14T17:41:59.556Z"
   },
   {
    "duration": 0,
    "start_time": "2024-03-14T17:41:59.557Z"
   },
   {
    "duration": 0,
    "start_time": "2024-03-14T17:41:59.558Z"
   },
   {
    "duration": 0,
    "start_time": "2024-03-14T17:41:59.559Z"
   },
   {
    "duration": 0,
    "start_time": "2024-03-14T17:41:59.560Z"
   },
   {
    "duration": 0,
    "start_time": "2024-03-14T17:41:59.561Z"
   },
   {
    "duration": 0,
    "start_time": "2024-03-14T17:41:59.562Z"
   },
   {
    "duration": 0,
    "start_time": "2024-03-14T17:41:59.564Z"
   },
   {
    "duration": 0,
    "start_time": "2024-03-14T17:41:59.565Z"
   },
   {
    "duration": 0,
    "start_time": "2024-03-14T17:41:59.566Z"
   },
   {
    "duration": 0,
    "start_time": "2024-03-14T17:41:59.567Z"
   },
   {
    "duration": 0,
    "start_time": "2024-03-14T17:41:59.568Z"
   },
   {
    "duration": 0,
    "start_time": "2024-03-14T17:41:59.569Z"
   },
   {
    "duration": 0,
    "start_time": "2024-03-14T17:41:59.570Z"
   },
   {
    "duration": 0,
    "start_time": "2024-03-14T17:41:59.571Z"
   },
   {
    "duration": 0,
    "start_time": "2024-03-14T17:41:59.572Z"
   },
   {
    "duration": 10,
    "start_time": "2024-03-14T17:42:12.306Z"
   },
   {
    "duration": 10,
    "start_time": "2024-03-14T17:42:16.490Z"
   },
   {
    "duration": 11,
    "start_time": "2024-03-14T17:42:21.930Z"
   },
   {
    "duration": 7,
    "start_time": "2024-03-14T17:44:11.004Z"
   },
   {
    "duration": 7,
    "start_time": "2024-03-14T17:45:40.957Z"
   },
   {
    "duration": 5,
    "start_time": "2024-03-14T17:45:59.173Z"
   },
   {
    "duration": 7,
    "start_time": "2024-03-14T17:47:15.023Z"
   },
   {
    "duration": 4,
    "start_time": "2024-03-14T18:16:48.153Z"
   },
   {
    "duration": 4,
    "start_time": "2024-03-14T18:16:50.657Z"
   },
   {
    "duration": 3,
    "start_time": "2024-03-14T18:17:24.273Z"
   },
   {
    "duration": 2,
    "start_time": "2024-03-14T18:17:29.172Z"
   },
   {
    "duration": 10,
    "start_time": "2024-03-14T18:18:49.531Z"
   },
   {
    "duration": 12,
    "start_time": "2024-03-14T18:21:40.853Z"
   },
   {
    "duration": 12,
    "start_time": "2024-03-14T18:23:28.613Z"
   },
   {
    "duration": 11,
    "start_time": "2024-03-14T18:23:38.335Z"
   },
   {
    "duration": 3,
    "start_time": "2024-03-14T18:27:35.554Z"
   },
   {
    "duration": 8,
    "start_time": "2024-03-14T18:28:40.833Z"
   },
   {
    "duration": 4,
    "start_time": "2024-03-14T18:31:49.980Z"
   },
   {
    "duration": 635,
    "start_time": "2024-03-14T18:32:15.547Z"
   },
   {
    "duration": 4,
    "start_time": "2024-03-14T18:32:35.227Z"
   },
   {
    "duration": 7,
    "start_time": "2024-03-14T18:32:38.562Z"
   },
   {
    "duration": 4,
    "start_time": "2024-03-14T18:32:44.404Z"
   },
   {
    "duration": 115,
    "start_time": "2024-03-14T18:32:46.627Z"
   },
   {
    "duration": 611,
    "start_time": "2024-03-14T18:33:21.380Z"
   },
   {
    "duration": 4,
    "start_time": "2024-03-14T18:33:23.020Z"
   },
   {
    "duration": 6,
    "start_time": "2024-03-14T18:33:24.356Z"
   },
   {
    "duration": 5,
    "start_time": "2024-03-14T18:33:26.098Z"
   },
   {
    "duration": 611,
    "start_time": "2024-03-14T18:33:46.469Z"
   },
   {
    "duration": 6,
    "start_time": "2024-03-14T18:33:48.196Z"
   },
   {
    "duration": 6,
    "start_time": "2024-03-14T18:33:49.621Z"
   },
   {
    "duration": 4,
    "start_time": "2024-03-14T18:33:51.164Z"
   },
   {
    "duration": 1322,
    "start_time": "2024-03-14T18:44:53.099Z"
   },
   {
    "duration": 2,
    "start_time": "2024-03-14T18:44:54.423Z"
   },
   {
    "duration": 402,
    "start_time": "2024-03-14T18:44:54.426Z"
   },
   {
    "duration": 13,
    "start_time": "2024-03-14T18:44:54.829Z"
   },
   {
    "duration": 22,
    "start_time": "2024-03-14T18:44:54.843Z"
   },
   {
    "duration": 17,
    "start_time": "2024-03-14T18:44:54.867Z"
   },
   {
    "duration": 8,
    "start_time": "2024-03-14T18:44:54.886Z"
   },
   {
    "duration": 11,
    "start_time": "2024-03-14T18:44:54.896Z"
   },
   {
    "duration": 17,
    "start_time": "2024-03-14T18:44:54.908Z"
   },
   {
    "duration": 8,
    "start_time": "2024-03-14T18:44:54.927Z"
   },
   {
    "duration": 29,
    "start_time": "2024-03-14T18:44:54.937Z"
   },
   {
    "duration": 16,
    "start_time": "2024-03-14T18:44:54.967Z"
   },
   {
    "duration": 123,
    "start_time": "2024-03-14T18:44:54.984Z"
   },
   {
    "duration": 4,
    "start_time": "2024-03-14T18:44:55.108Z"
   },
   {
    "duration": 991,
    "start_time": "2024-03-14T18:44:55.114Z"
   },
   {
    "duration": 883,
    "start_time": "2024-03-14T18:44:56.106Z"
   },
   {
    "duration": 1275,
    "start_time": "2024-03-14T18:44:56.990Z"
   },
   {
    "duration": 979,
    "start_time": "2024-03-14T18:44:58.266Z"
   },
   {
    "duration": 1157,
    "start_time": "2024-03-14T18:44:59.247Z"
   },
   {
    "duration": 834,
    "start_time": "2024-03-14T18:45:00.405Z"
   },
   {
    "duration": 1278,
    "start_time": "2024-03-14T18:45:01.241Z"
   },
   {
    "duration": 1146,
    "start_time": "2024-03-14T18:45:02.521Z"
   },
   {
    "duration": 1096,
    "start_time": "2024-03-14T18:45:03.669Z"
   },
   {
    "duration": 36,
    "start_time": "2024-03-14T18:45:04.766Z"
   },
   {
    "duration": 35,
    "start_time": "2024-03-14T18:45:04.804Z"
   },
   {
    "duration": 51,
    "start_time": "2024-03-14T18:45:04.841Z"
   },
   {
    "duration": 991,
    "start_time": "2024-03-14T18:45:04.894Z"
   },
   {
    "duration": 892,
    "start_time": "2024-03-14T18:45:05.888Z"
   },
   {
    "duration": 1059,
    "start_time": "2024-03-14T18:45:06.782Z"
   },
   {
    "duration": 72,
    "start_time": "2024-03-14T18:45:07.842Z"
   },
   {
    "duration": 74,
    "start_time": "2024-03-14T18:45:07.915Z"
   },
   {
    "duration": 67,
    "start_time": "2024-03-14T18:45:07.990Z"
   },
   {
    "duration": 16,
    "start_time": "2024-03-14T18:45:08.065Z"
   },
   {
    "duration": 8,
    "start_time": "2024-03-14T18:45:08.082Z"
   },
   {
    "duration": 41,
    "start_time": "2024-03-14T18:45:08.092Z"
   },
   {
    "duration": 3,
    "start_time": "2024-03-14T18:45:08.135Z"
   },
   {
    "duration": 99,
    "start_time": "2024-03-14T18:45:08.139Z"
   },
   {
    "duration": 227,
    "start_time": "2024-03-14T18:45:08.240Z"
   },
   {
    "duration": 100,
    "start_time": "2024-03-14T18:45:08.474Z"
   },
   {
    "duration": 5,
    "start_time": "2024-03-14T18:45:08.576Z"
   },
   {
    "duration": 8,
    "start_time": "2024-03-14T18:45:08.582Z"
   },
   {
    "duration": 2,
    "start_time": "2024-03-14T18:45:08.592Z"
   },
   {
    "duration": 29,
    "start_time": "2024-03-14T18:45:08.596Z"
   },
   {
    "duration": 38,
    "start_time": "2024-03-14T18:45:08.627Z"
   },
   {
    "duration": 6,
    "start_time": "2024-03-14T18:45:08.667Z"
   },
   {
    "duration": 629,
    "start_time": "2024-03-14T18:45:08.674Z"
   },
   {
    "duration": 5,
    "start_time": "2024-03-14T18:45:09.305Z"
   },
   {
    "duration": 7,
    "start_time": "2024-03-14T18:45:09.311Z"
   },
   {
    "duration": 7,
    "start_time": "2024-03-14T18:45:09.319Z"
   },
   {
    "duration": 597,
    "start_time": "2024-03-14T18:45:09.327Z"
   },
   {
    "duration": 4,
    "start_time": "2024-03-14T18:45:09.925Z"
   },
   {
    "duration": 6,
    "start_time": "2024-03-14T18:45:09.930Z"
   },
   {
    "duration": 5,
    "start_time": "2024-03-14T18:45:09.938Z"
   },
   {
    "duration": 578,
    "start_time": "2024-03-14T18:45:09.944Z"
   },
   {
    "duration": 3,
    "start_time": "2024-03-14T18:45:10.524Z"
   },
   {
    "duration": 7,
    "start_time": "2024-03-14T18:45:10.528Z"
   },
   {
    "duration": 4,
    "start_time": "2024-03-14T18:45:10.536Z"
   }
  ],
  "kernelspec": {
   "display_name": "Python 3 (ipykernel)",
   "language": "python",
   "name": "python3"
  },
  "language_info": {
   "codemirror_mode": {
    "name": "ipython",
    "version": 3
   },
   "file_extension": ".py",
   "mimetype": "text/x-python",
   "name": "python",
   "nbconvert_exporter": "python",
   "pygments_lexer": "ipython3",
   "version": "3.9.21"
  },
  "toc": {
   "base_numbering": 1,
   "nav_menu": {},
   "number_sections": true,
   "sideBar": true,
   "skip_h1_title": true,
   "title_cell": "Table of Contents",
   "title_sidebar": "Contents",
   "toc_cell": false,
   "toc_position": {
    "height": "calc(100% - 180px)",
    "left": "10px",
    "top": "150px",
    "width": "465.455px"
   },
   "toc_section_display": true,
   "toc_window_display": true
  }
 },
 "nbformat": 4,
 "nbformat_minor": 4
}
